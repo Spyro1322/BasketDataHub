{
  "cells": [
    {
      "cell_type": "markdown",
      "metadata": {
        "id": "l-YOik-Z4m1U"
      },
      "source": [
        "## MultiLayer Perceptron"
      ]
    },
    {
      "cell_type": "code",
      "execution_count": 2,
      "metadata": {
        "id": "xVeNWGsG0H7P"
      },
      "outputs": [],
      "source": [
        "import pandas as pd\n",
        "import numpy as np\n",
        "import matplotlib.pyplot as plt\n",
        "\n",
        "\n",
        "df = pd.read_csv('../../FeatureEngineering/MetaData/data6_&_odds.csv')\n",
        "df.dropna(inplace=True)"
      ]
    },
    {
      "cell_type": "code",
      "execution_count": 20,
      "metadata": {
        "id": "NWeduztH0v69"
      },
      "outputs": [],
      "source": [
        "from sklearn.neural_network import MLPClassifier\n",
        "from sklearn.model_selection import train_test_split, GridSearchCV\n",
        "from sklearn.metrics import classification_report, confusion_matrix, accuracy_score\n",
        "\n",
        "import time\n",
        "\n",
        "import warnings\n",
        "warnings.filterwarnings('ignore')\n"
      ]
    },
    {
      "cell_type": "code",
      "execution_count": 4,
      "metadata": {
        "id": "ygUdk0lL04ao"
      },
      "outputs": [],
      "source": [
        "train_data = df.loc[(df.season < 2016) & (df.season >= 2007)]\n",
        "test_data = df.loc[df.season >= 2016]\n",
        "\n",
        "X, y = train_data.drop(columns=['home_team_wins']), train_data.home_team_wins\n",
        "test_X, test_y = test_data.drop(columns=['home_team_wins']), test_data.home_team_wins\n",
        "\n",
        "# Split our data\n",
        "X_train, y_train = train_data.drop(columns=[\"game_date_est\",\"season\",\"game_id\",\"home_team\",\"visitor_team\",\"home_team_id\",\"visitor_team_id\",\"home_team_wins\",\"conference\",\"conference_visitor\"]), train_data.home_team_wins\n",
        "X_test, y_test = test_data.drop(columns=[\"game_date_est\",\"season\",\"game_id\",\"home_team\",\"visitor_team\",\"home_team_id\",\"visitor_team_id\",\"home_team_wins\",\"conference\",\"conference_visitor\"]), test_data.home_team_wins\n",
        "\n"
      ]
    },
    {
      "cell_type": "code",
      "execution_count": 5,
      "metadata": {},
      "outputs": [],
      "source": [
        "def evaluate(model, X_train, X_test, y_train, y_test):\n",
        "    y_test_pred = model.predict(X_test)\n",
        "    y_train_pred = model.predict(X_train)\n",
        "\n",
        "    print(\"Training Results: \\n===============================\")\n",
        "    clf_report = classification_report(y_train, y_train_pred)\n",
        "    print(f\"Confusion Matrix:\\n{confusion_matrix(y_train, y_train_pred)}\")\n",
        "    print(f\"Accuracy Score:\\n{accuracy_score(y_train, y_train_pred):.4f}\")\n",
        "    print(f\"Classification Report:\\n{clf_report}\")\n",
        "\n",
        "    print(\"Testing Results: \\n===============================\")\n",
        "    clf_report = classification_report(y_test, y_test_pred)\n",
        "    print(f\"Confusion Matrix:\\n{confusion_matrix(y_test, y_test_pred)}\")\n",
        "    print(f\"Accuracy Score:\\n{accuracy_score(y_test, y_test_pred):.4f}\")\n",
        "    print(f\"Classification Report:\\n{clf_report}\")"
      ]
    },
    {
      "cell_type": "markdown",
      "metadata": {},
      "source": [
        "### MLP with GridSearchCV"
      ]
    },
    {
      "cell_type": "code",
      "execution_count": 5,
      "metadata": {
        "id": "w2Wud7cI0-a-"
      },
      "outputs": [
        {
          "name": "stdout",
          "output_type": "stream",
          "text": [
            "Συνολικός χρόνος fit και predict: 5.904833793640137 seconds\n",
            "              precision    recall  f1-score   support\n",
            "\n",
            "   home_loss       0.60      0.54      0.57      1935\n",
            "    home_win       0.69      0.74      0.71      2648\n",
            "\n",
            "    accuracy                           0.66      4583\n",
            "   macro avg       0.65      0.64      0.64      4583\n",
            "weighted avg       0.65      0.66      0.65      4583\n",
            "\n",
            "test score 0.6561204451232817\n"
          ]
        }
      ],
      "source": [
        "# Multilayer Perceptron\n",
        "model = MLPClassifier(alpha=1e-05, hidden_layer_sizes=(20, 10, 5), max_iter=150, solver='lbfgs')\n",
        "model.fit(X_train, y_train)\n",
        "\n",
        "start_time = time.time()\n",
        "model.fit(X_train, y_train)\n",
        "\n",
        "preds = model.predict(X_test)\n",
        "test_score = model.score(X_test, y_test)\n",
        "\n",
        "target_names = ['home_loss', 'home_win']\n",
        "\n",
        "print(\"Συνολικός χρόνος fit και predict: %s seconds\" % (time.time() - start_time))\n",
        "print(classification_report(y_test, preds, target_names=target_names))\n",
        "\n",
        "y_fit = model.predict(X_test)\n",
        "print(\"test score\", test_score)\n"
      ]
    },
    {
      "cell_type": "markdown",
      "metadata": {},
      "source": [
        "### MLP Classifier with Univariate Feature Selection"
      ]
    },
    {
      "cell_type": "code",
      "execution_count": 6,
      "metadata": {},
      "outputs": [],
      "source": [
        "X_train_uni = train_data[['diff_curr_win_pct','diff_curr_away_record','odds_home','odds_away','elo_diff']]\n",
        "y_train_uni = y_train\n",
        "\n",
        "X_test_uni = test_data[['diff_curr_win_pct','diff_curr_away_record','odds_home','odds_away','elo_diff']]\n",
        "y_test_uni = y_test"
      ]
    },
    {
      "cell_type": "code",
      "execution_count": 7,
      "metadata": {},
      "outputs": [
        {
          "data": {
            "text/plain": [
              "MLPClassifier(alpha=1e-05, hidden_layer_sizes=(20, 10, 5), max_iter=250,\n",
              "              solver='lbfgs')"
            ]
          },
          "execution_count": 7,
          "metadata": {},
          "output_type": "execute_result"
        }
      ],
      "source": [
        "# Multilayer Perceptron\n",
        "model = MLPClassifier(alpha=1e-05, hidden_layer_sizes=(20, 10, 5), max_iter=250, solver='lbfgs')\n",
        "model.fit(X_train_uni, y_train_uni)"
      ]
    },
    {
      "cell_type": "code",
      "execution_count": 8,
      "metadata": {},
      "outputs": [
        {
          "name": "stdout",
          "output_type": "stream",
          "text": [
            "Συνολικός χρόνος fit και predict: 3.868842124938965 seconds\n",
            "              precision    recall  f1-score   support\n",
            "\n",
            "   home_loss       0.63      0.50      0.56      1935\n",
            "    home_win       0.68      0.78      0.73      2648\n",
            "\n",
            "    accuracy                           0.66      4583\n",
            "   macro avg       0.66      0.64      0.64      4583\n",
            "weighted avg       0.66      0.66      0.66      4583\n",
            "\n",
            "test score 0.6639755618590443\n"
          ]
        }
      ],
      "source": [
        "start_time = time.time()\n",
        "model.fit(X_train_uni, y_train_uni)\n",
        "\n",
        "preds = model.predict(X_test_uni)\n",
        "test_score = model.score(X_test_uni, y_test_uni)\n",
        "\n",
        "target_names = ['home_loss', 'home_win']\n",
        "\n",
        "print(\"Συνολικός χρόνος fit και predict: %s seconds\" % (time.time() - start_time))\n",
        "print(classification_report(y_test_uni, preds, target_names=target_names))\n",
        "\n",
        "y_fit = model.predict(X_test_uni)\n",
        "\n",
        "print(\"test score\", test_score)\n"
      ]
    },
    {
      "cell_type": "markdown",
      "metadata": {},
      "source": [
        "### MLP Classifier with SelectFromModel(LassoCV)"
      ]
    },
    {
      "cell_type": "code",
      "execution_count": 7,
      "metadata": {},
      "outputs": [],
      "source": [
        "from sklearn.feature_selection import SelectFromModel\n",
        "from sklearn.linear_model import LassoCV\n",
        "from sklearn.pipeline import Pipeline"
      ]
    },
    {
      "cell_type": "code",
      "execution_count": 8,
      "metadata": {},
      "outputs": [
        {
          "data": {
            "text/plain": [
              "Pipeline(steps=[('feature_selection', SelectFromModel(estimator=LassoCV())),\n",
              "                ('classification',\n",
              "                 MLPClassifier(alpha=1e-05, hidden_layer_sizes=(20, 10, 5),\n",
              "                               max_iter=150, solver='lbfgs'))])"
            ]
          },
          "execution_count": 8,
          "metadata": {},
          "output_type": "execute_result"
        }
      ],
      "source": [
        "pipe_model = Pipeline([\n",
        "  ('feature_selection', SelectFromModel(LassoCV())),\n",
        "  ('classification', MLPClassifier(alpha=1e-05, hidden_layer_sizes=(20, 10, 5), max_iter=150, solver='lbfgs'))\n",
        "])\n",
        "pipe_model.fit(X_train, y_train)"
      ]
    },
    {
      "cell_type": "code",
      "execution_count": 9,
      "metadata": {},
      "outputs": [
        {
          "name": "stdout",
          "output_type": "stream",
          "text": [
            "Συνολικός χρόνος fit και predict: 117.09415102005005 seconds\n",
            "              precision    recall  f1-score   support\n",
            "\n",
            "   home loss       0.63      0.50      0.56      1935\n",
            "    home win       0.68      0.79      0.73      2648\n",
            "\n",
            "    accuracy                           0.66      4583\n",
            "   macro avg       0.66      0.64      0.64      4583\n",
            "weighted avg       0.66      0.66      0.66      4583\n",
            "\n",
            "test score 0.6646301549203578\n"
          ]
        }
      ],
      "source": [
        "# Predict\n",
        "preds = pipe_model.predict(X_test)\n",
        "test_score = pipe_model.score(X_test, y_test)\n",
        "\n",
        "target_names=['home loss', 'home win']\n",
        "\n",
        "print(\"Συνολικός χρόνος fit και predict: %s seconds\" % (time.time() - start_time))\n",
        "print(classification_report(y_test, preds, target_names=target_names))\n",
        "\n",
        "print(\"test score\", test_score)\n"
      ]
    },
    {
      "cell_type": "markdown",
      "metadata": {},
      "source": [
        "### MLP with ExtraTreesClassifier"
      ]
    },
    {
      "cell_type": "code",
      "execution_count": 9,
      "metadata": {},
      "outputs": [],
      "source": [
        "X_train_extra = train_data[['odds_home', 'odds_away', 'home_elo', 'visitor_elo', 'elo_diff',\n",
        "                    'eff_diff', 'eff_visitor', 'top_player_diff', 'diff_win_pct_prev_season',\n",
        "                    'diff_home_record_last_season', 'ROAD_RECORD_home',\n",
        "                    'diff_road_record_last_season', 'diff_win_pct_7_last_games', 'W_PCT_home',\n",
        "                    'W_PCT_away', 'W_PCT_prev_away', 'diff_curr_away_record', 'HOME_RECORD_home', 'diff_curr_home_record',\n",
        "                    'diff_curr_win_pct']]\n",
        "\n",
        "y_train_extra = y_train\n",
        "\n",
        "\n",
        "X_test_extra = test_data[['odds_home', 'odds_away', 'home_elo', 'visitor_elo', 'elo_diff',\n",
        "                    'eff_diff', 'eff_visitor', 'top_player_diff', 'diff_win_pct_prev_season',\n",
        "                    'diff_home_record_last_season', 'ROAD_RECORD_home',\n",
        "                    'diff_road_record_last_season', 'diff_win_pct_7_last_games', 'W_PCT_home',\n",
        "                    'W_PCT_away', 'W_PCT_prev_away', 'diff_curr_away_record', 'HOME_RECORD_home', 'diff_curr_home_record',\n",
        "                    'diff_curr_win_pct']]\n",
        "\n",
        "y_test_extra = y_test"
      ]
    },
    {
      "cell_type": "code",
      "execution_count": 10,
      "metadata": {},
      "outputs": [
        {
          "data": {
            "text/plain": [
              "MLPClassifier(alpha=1e-05, hidden_layer_sizes=(20, 10, 5), solver='lbfgs')"
            ]
          },
          "execution_count": 10,
          "metadata": {},
          "output_type": "execute_result"
        }
      ],
      "source": [
        "# Multilayer Perceptron\n",
        "model = MLPClassifier(alpha=1e-05, hidden_layer_sizes=(20, 10, 5), max_iter=200, solver='lbfgs')\n",
        "model.fit(X_train_extra, y_train_extra)\n"
      ]
    },
    {
      "cell_type": "code",
      "execution_count": 11,
      "metadata": {},
      "outputs": [
        {
          "name": "stdout",
          "output_type": "stream",
          "text": [
            "Συνολικός χρόνος fit και predict: 3.268824338912964 seconds\n",
            "              precision    recall  f1-score   support\n",
            "\n",
            "   home_loss       0.63      0.49      0.55      1935\n",
            "    home_win       0.68      0.79      0.73      2648\n",
            "\n",
            "    accuracy                           0.66      4583\n",
            "   macro avg       0.66      0.64      0.64      4583\n",
            "weighted avg       0.66      0.66      0.66      4583\n",
            "\n",
            "test score 0.6639755618590443\n"
          ]
        }
      ],
      "source": [
        "start_time = time.time()\n",
        "model.fit(X_train_extra, y_train_extra)\n",
        "\n",
        "preds = model.predict(X_test_extra)\n",
        "test_score = model.score(X_test_extra, y_test_extra)\n",
        "\n",
        "target_names = ['home_loss', 'home_win']\n",
        "\n",
        "print(\"Συνολικός χρόνος fit και predict: %s seconds\" % (time.time() - start_time))\n",
        "print(classification_report(y_test_extra, preds, target_names=target_names))\n",
        "\n",
        "# y_fit = model.predict(X_test_extra)\n",
        "\n",
        "print(\"test score\", test_score)\n"
      ]
    },
    {
      "cell_type": "markdown",
      "metadata": {},
      "source": [
        "### Reduced Extra Trees dataset"
      ]
    },
    {
      "cell_type": "code",
      "execution_count": 13,
      "metadata": {},
      "outputs": [],
      "source": [
        "X_train_extra = train_data[['odds_home', 'odds_away', 'home_elo', 'visitor_elo',\n",
        "                    'eff_diff', 'eff_visitor', 'top_player_diff', 'diff_win_pct_prev_season',\n",
        "                    'diff_win_pct_7_last_games', 'W_PCT_home',\n",
        "                    'W_PCT_away']]\n",
        "y_train_extra = y_train\n",
        "\n",
        "X_test_extra = test_data[['odds_home', 'odds_away', 'home_elo', 'visitor_elo',\n",
        "                    'eff_diff', 'eff_visitor', 'top_player_diff', 'diff_win_pct_prev_season',\n",
        "                    'diff_win_pct_7_last_games', 'W_PCT_home',\n",
        "                    'W_PCT_away']]\n",
        "y_test_extra = y_test"
      ]
    },
    {
      "cell_type": "code",
      "execution_count": 14,
      "metadata": {},
      "outputs": [],
      "source": [
        "from sklearn.preprocessing import StandardScaler\n",
        "\n",
        "# Scaling features\n",
        "scaler = StandardScaler()\n",
        "X_train_standard = scaler.fit_transform(X_train_extra)\n",
        "X_test_standard = scaler.transform(X_test_extra)"
      ]
    },
    {
      "cell_type": "code",
      "execution_count": 15,
      "metadata": {},
      "outputs": [
        {
          "data": {
            "text/plain": [
              "MLPClassifier(alpha=1e-05, hidden_layer_sizes=(20, 10, 5), max_iter=100,\n",
              "              solver='sgd')"
            ]
          },
          "execution_count": 15,
          "metadata": {},
          "output_type": "execute_result"
        }
      ],
      "source": [
        "model = MLPClassifier(alpha=1e-05, hidden_layer_sizes=(20, 10, 5), max_iter=100, solver='sgd')\n",
        "model.fit(X_train_standard, y_train_extra)\n"
      ]
    },
    {
      "cell_type": "code",
      "execution_count": 16,
      "metadata": {},
      "outputs": [
        {
          "name": "stdout",
          "output_type": "stream",
          "text": [
            "Συνολικός χρόνος fit και predict: 0.008679389953613281 seconds\n",
            "              precision    recall  f1-score   support\n",
            "\n",
            "   home_loss       0.64      0.51      0.57      1935\n",
            "    home_win       0.69      0.79      0.74      2648\n",
            "\n",
            "    accuracy                           0.67      4583\n",
            "   macro avg       0.66      0.65      0.65      4583\n",
            "weighted avg       0.67      0.67      0.67      4583\n",
            "\n",
            "test score 0.672703469343225\n"
          ]
        }
      ],
      "source": [
        "start_time = time.time()\n",
        "\n",
        "preds = model.predict(X_test_standard)\n",
        "test_score = model.score(X_test_standard, y_test_extra)\n",
        "\n",
        "target_names = ['home_loss', 'home_win']\n",
        "\n",
        "print(\"Συνολικός χρόνος fit και predict: %s seconds\" % (time.time() - start_time))\n",
        "print(classification_report(y_test_extra, preds, target_names=target_names))\n",
        "print(\"test score\", test_score)\n"
      ]
    },
    {
      "cell_type": "code",
      "execution_count": 21,
      "metadata": {},
      "outputs": [
        {
          "name": "stdout",
          "output_type": "stream",
          "text": [
            "Training Results: \n",
            "===============================\n",
            "Confusion Matrix:\n",
            "[[1971 1824]\n",
            " [1027 4498]]\n",
            "Accuracy Score:\n",
            "0.6941\n",
            "Classification Report:\n",
            "              precision    recall  f1-score   support\n",
            "\n",
            "           0       0.66      0.52      0.58      3795\n",
            "           1       0.71      0.81      0.76      5525\n",
            "\n",
            "    accuracy                           0.69      9320\n",
            "   macro avg       0.68      0.67      0.67      9320\n",
            "weighted avg       0.69      0.69      0.69      9320\n",
            "\n",
            "Testing Results: \n",
            "===============================\n",
            "Confusion Matrix:\n",
            "[[ 991  944]\n",
            " [ 556 2092]]\n",
            "Accuracy Score:\n",
            "0.6727\n",
            "Classification Report:\n",
            "              precision    recall  f1-score   support\n",
            "\n",
            "           0       0.64      0.51      0.57      1935\n",
            "           1       0.69      0.79      0.74      2648\n",
            "\n",
            "    accuracy                           0.67      4583\n",
            "   macro avg       0.66      0.65      0.65      4583\n",
            "weighted avg       0.67      0.67      0.67      4583\n",
            "\n"
          ]
        }
      ],
      "source": [
        "evaluate(model, X_train_standard, X_test_standard, y_train, y_test)"
      ]
    },
    {
      "cell_type": "markdown",
      "metadata": {},
      "source": [
        "### Backwards"
      ]
    },
    {
      "cell_type": "code",
      "execution_count": 10,
      "metadata": {},
      "outputs": [],
      "source": [
        "X_train_back_sfs = train_data[['num_possible_outcomes', 'odds_home', 'odds_away', 'HOME_RECORD_home',\n",
        "                     'W_PCT_away', 'W_PCT_prev_away', 'HOME_RECORD_prev_away',\n",
        "                     'ROAD_RECORD_prev_away', 'FT_PCT_home_3g', 'FG3_PCT_home_3g', 'PTS_away_3g',\n",
        "                     'FG_PCT_away_3g', 'FT_PCT_away_3g', 'FG3_PCT_away_3g', 'PTS_home_7g',\n",
        "                     'FG_PCT_home_7g', 'AST_home_7g', 'AST_away_7g', 'REB_away_7g',\n",
        "                     'diff_avg_pts_away', 'diff_avg_ast_home', 'diff_avg_ast_away',\n",
        "                     'diff_avg_fg3_pct_home', 'top_players', 'top_players_visitor', 'eff_visitor',\n",
        "                     'G_7days', 'back2back', 'HG_7days_VISITOR', 'AG_7days_VISITOR',\n",
        "                     'G_7days_VISITOR', 'back2back_visitor', 'home_elo', 'elo_diff',\n",
        "                     'missing_player_diff', 'eff_diff', 'Home_Last_5_Avg_AST_home',\n",
        "                     'Home_Last_5_Avg_REB_home', 'Home_Last_5_Avg_REB_away',\n",
        "                     'Home_Last_5_Avg_FG3_PCT_away', 'Away_Last_5_Avg_PTS_home',\n",
        "                     'Away_Last_5_Avg_FG3_PCT_home', 'Away_Last_5_Avg_AST_home',\n",
        "                     'Away_Last_5_Avg_FT_PCT_away', 'diff_fg3_pct_last_3_games',\n",
        "                     'diff_fg3_pct_last_7_games', 'diff_ft_pct_last_3_games',\n",
        "                     'diff_ast_last_7_games', 'diff_reb_last_3_games',\n",
        "                     'diff_win_pct_3_last_games']]\n",
        "\n",
        "y_train_back_sfs = y_train\n",
        "\n",
        "\n",
        "X_test_back_sfs = test_data[['num_possible_outcomes', 'odds_home', 'odds_away', 'HOME_RECORD_home',\n",
        "                     'W_PCT_away', 'W_PCT_prev_away', 'HOME_RECORD_prev_away',\n",
        "                     'ROAD_RECORD_prev_away', 'FT_PCT_home_3g', 'FG3_PCT_home_3g', 'PTS_away_3g',\n",
        "                     'FG_PCT_away_3g', 'FT_PCT_away_3g', 'FG3_PCT_away_3g', 'PTS_home_7g',\n",
        "                     'FG_PCT_home_7g', 'AST_home_7g', 'AST_away_7g', 'REB_away_7g',\n",
        "                     'diff_avg_pts_away', 'diff_avg_ast_home', 'diff_avg_ast_away',\n",
        "                     'diff_avg_fg3_pct_home', 'top_players', 'top_players_visitor', 'eff_visitor',\n",
        "                     'G_7days', 'back2back', 'HG_7days_VISITOR', 'AG_7days_VISITOR',\n",
        "                     'G_7days_VISITOR', 'back2back_visitor', 'home_elo', 'elo_diff',\n",
        "                     'missing_player_diff', 'eff_diff', 'Home_Last_5_Avg_AST_home',\n",
        "                     'Home_Last_5_Avg_REB_home', 'Home_Last_5_Avg_REB_away',\n",
        "                     'Home_Last_5_Avg_FG3_PCT_away', 'Away_Last_5_Avg_PTS_home',\n",
        "                     'Away_Last_5_Avg_FG3_PCT_home', 'Away_Last_5_Avg_AST_home',\n",
        "                     'Away_Last_5_Avg_FT_PCT_away', 'diff_fg3_pct_last_3_games',\n",
        "                     'diff_fg3_pct_last_7_games', 'diff_ft_pct_last_3_games',\n",
        "                     'diff_ast_last_7_games', 'diff_reb_last_3_games',\n",
        "                     'diff_win_pct_3_last_games']]\n",
        "\n",
        "y_test_back_sfs = y_test"
      ]
    },
    {
      "cell_type": "code",
      "execution_count": 15,
      "metadata": {},
      "outputs": [],
      "source": [
        "# Multilayer Perceptron\n",
        "model = MLPClassifier()\n",
        "model.fit(X_train_back_sfs, y_train_back_sfs)\n",
        "\n",
        "# defining parameter range\n",
        "param_grid = {'max_iter': list(range(100, 300, 50)),\n",
        "              # 'activation':['identity', 'logistic', 'tanh', 'relu'],\n",
        "              'hidden_layer_sizes': [(20, 10, 5)],\n",
        "              'solver': ['lbfgs', 'sgd', 'adam'],\n",
        "              'alpha': [1e-05],\n",
        "              }\n",
        "\n",
        "\n",
        "grid = GridSearchCV(model, param_grid, scoring='accuracy', n_jobs=-1)\n"
      ]
    },
    {
      "cell_type": "code",
      "execution_count": 17,
      "metadata": {},
      "outputs": [
        {
          "name": "stdout",
          "output_type": "stream",
          "text": [
            "Συνολικός χρόνος fit και predict: 32.0255286693573 seconds\n",
            "              precision    recall  f1-score   support\n",
            "\n",
            "   home loss       0.68      0.37      0.48      1935\n",
            "    home win       0.65      0.87      0.75      2648\n",
            "\n",
            "    accuracy                           0.66      4583\n",
            "   macro avg       0.67      0.62      0.61      4583\n",
            "weighted avg       0.66      0.66      0.63      4583\n",
            "\n",
            "val score: 0.6826446280991736\n",
            "{'alpha': 1e-05, 'hidden_layer_sizes': (20, 10, 5), 'max_iter': 200, 'solver': 'adam'}\n",
            "best score: 0.6755072463768116\n",
            "test score 0.6598298058040585\n"
          ]
        }
      ],
      "source": [
        "start_time = time.time()\n",
        "grid.fit(X_train_back_sfs, y_train_back_sfs)\n",
        "\n",
        "preds = grid.predict(X_test_back_sfs)\n",
        "test_score = grid.score(X_test_back_sfs, y_test_back_sfs)\n",
        "\n",
        "target_names = ['home loss', 'home win']\n",
        "\n",
        "print(\"Συνολικός χρόνος fit και predict: %s seconds\" % (time.time() - start_time))\n",
        "print(classification_report(y_test_back_sfs, preds, target_names=target_names))\n",
        "\n",
        "model = grid.best_estimator_\n",
        "y_fit = model.predict(X_test_back_sfs)\n",
        "\n",
        "print(grid.best_params_)\n",
        "print(\"best score:\", grid.best_score_)\n",
        "print(\"test score\", test_score)\n"
      ]
    }
  ],
  "metadata": {
    "colab": {
      "collapsed_sections": [],
      "name": "Untitled16.ipynb",
      "provenance": [],
      "toc_visible": true
    },
    "kernelspec": {
      "display_name": "Python 3.9.4 64-bit",
      "language": "python",
      "name": "python3"
    },
    "language_info": {
      "codemirror_mode": {
        "name": "ipython",
        "version": 3
      },
      "file_extension": ".py",
      "mimetype": "text/x-python",
      "name": "python",
      "nbconvert_exporter": "python",
      "pygments_lexer": "ipython3",
      "version": "3.9.4"
    },
    "vscode": {
      "interpreter": {
        "hash": "81794d4967e6c3204c66dcd87b604927b115b27c00565d3d43f05ba2f3a2cb0d"
      }
    }
  },
  "nbformat": 4,
  "nbformat_minor": 0
}
