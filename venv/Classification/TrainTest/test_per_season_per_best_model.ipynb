{
 "cells": [
  {
   "cell_type": "markdown",
   "metadata": {},
   "source": [
    "## Initialization"
   ]
  },
  {
   "cell_type": "code",
   "execution_count": 1,
   "metadata": {},
   "outputs": [],
   "source": [
    "import pandas as pd\n",
    "df = pd.read_csv('../../FeatureEngineering/MetaData/data6_&_odds.csv')\n",
    "df.dropna(inplace=True)"
   ]
  },
  {
   "cell_type": "code",
   "execution_count": 2,
   "metadata": {},
   "outputs": [],
   "source": [
    "import warnings\n",
    "warnings.filterwarnings('ignore')"
   ]
  },
  {
   "cell_type": "code",
   "execution_count": 3,
   "metadata": {},
   "outputs": [],
   "source": [
    "from sklearn.model_selection import train_test_split, cross_val_score, GridSearchCV\n",
    "from sklearn.metrics import accuracy_score\n",
    "from sklearn.naive_bayes import GaussianNB\n",
    "from sklearn.metrics import classification_report\n",
    "from sklearn.neighbors import KNeighborsClassifier\n",
    "from sklearn.neural_network import MLPClassifier\n",
    "from sklearn.svm import SVC\n",
    "from sklearn.ensemble import RandomForestClassifier, StackingClassifier, VotingClassifier, AdaBoostClassifier\n",
    "import xgboost as xgb\n",
    "from sklearn.pipeline import Pipeline\n",
    "from sklearn.preprocessing import MinMaxScaler, StandardScaler\n",
    "from sklearn.feature_selection import SelectKBest, SelectFromModel, mutual_info_classif\n",
    "from keras.layers import Dense, Dropout, LSTM, Bidirectional, Embedding\n",
    "from keras.models import Sequential\n",
    "\n",
    "\n",
    "import numpy as np\n",
    "\n",
    "import time"
   ]
  },
  {
   "cell_type": "code",
   "execution_count": 17,
   "metadata": {},
   "outputs": [],
   "source": [
    "train_data = df.loc[(df.season < 2016) & (df.season >= 2007)]\n",
    "test_data = df.loc[df.season == 2019]\n",
    "\n",
    "X_train, y_train = train_data.drop(columns=[\"game_date_est\",\"season\",\"game_id\",\"home_team\",\"visitor_team\",\"home_team_id\",\"visitor_team_id\",\"home_team_wins\",\"conference\",\"conference_visitor\"]), train_data.home_team_wins\n",
    "X_test, y_test = test_data.drop(columns=[\"game_date_est\",\"season\",\"game_id\",\"home_team\",\"visitor_team\",\"home_team_id\",\"visitor_team_id\",\"home_team_wins\",\"conference\",\"conference_visitor\"]), test_data.home_team_wins\n"
   ]
  },
  {
   "cell_type": "markdown",
   "metadata": {},
   "source": [
    "## GNB Testing per Season"
   ]
  },
  {
   "cell_type": "code",
   "execution_count": 15,
   "metadata": {},
   "outputs": [],
   "source": [
    "X_train_sfm = train_data[['elo_diff', 'odds_away', 'odds_home', 'eff_diff', 'eff_visitor',\n",
    "              'missing_players', 'top_players', 'FT_PCT_home_7g', 'diff_avg_reb_away',\n",
    "              'home_elo']]\n",
    "y_train_sfm = y_train\n",
    "\n",
    "X_test_sfm = test_data[['elo_diff', 'odds_away', 'odds_home', 'eff_diff', 'eff_visitor',\n",
    "              'missing_players', 'top_players', 'FT_PCT_home_7g', 'diff_avg_reb_away',\n",
    "              'home_elo']]\n",
    "y_test_sfm = y_test\n",
    "\n",
    "win_accuracy = {}"
   ]
  },
  {
   "cell_type": "code",
   "execution_count": 16,
   "metadata": {},
   "outputs": [
    {
     "name": "stdout",
     "output_type": "stream",
     "text": [
      "Classification Accuracy on the NBA Games Dataset (40% test set)\n",
      "\n",
      "gaussian naive bayes 0.6838235294117647\n"
     ]
    }
   ],
   "source": [
    "from sklearn.naive_bayes import GaussianNB\n",
    "gnb = GaussianNB()\n",
    "# κάνουμε εκπαίδευση (fit) δηλαδή ουσιαστικά υπολογίζουμε μέση τιμή και διακύμανση για όλα τα χαρακτηριστικά και κλάσεις στο training set\n",
    "model = gnb.fit(X_train_sfm, y_train_sfm)\n",
    "# η GaussianNB έχει builtin μέθοδο υπολογισμό accuracy. Αποθηκεύουμε την τιμή της στον πίνακά μας με τα αποτελέσματα από τα άλλα classifiers\n",
    "win_accuracy['gaussian naive bayes'] = gnb.score(X_test_sfm, y_test_sfm)\n",
    "# και ξανατυπώνουμε τα sorted αποτελέσματα\n",
    "print(\"Classification Accuracy on the NBA Games Dataset (40% test set)\\n\")\n",
    "sorted_accuracy = [(k, win_accuracy[k]) for k in sorted(win_accuracy, key=win_accuracy.get, reverse=True)]\n",
    "for k, v in sorted_accuracy:\n",
    "  print(k,v)"
   ]
  },
  {
   "cell_type": "markdown",
   "metadata": {},
   "source": [
    "## kNN Testing per Season"
   ]
  },
  {
   "cell_type": "code",
   "execution_count": 18,
   "metadata": {},
   "outputs": [],
   "source": [
    "X_train_extra = train_data[['odds_home', 'odds_away', 'home_elo', 'visitor_elo', 'elo_diff',\n",
    "                    'eff_diff', 'eff_visitor', 'top_player_diff', 'diff_win_pct_prev_season',\n",
    "                    'diff_home_record_last_season', 'ROAD_RECORD_home',\n",
    "                    'diff_road_record_last_season', 'diff_win_pct_7_last_games', 'W_PCT_home',\n",
    "                    'W_PCT_away', 'W_PCT_prev_away', 'diff_curr_away_record', 'HOME_RECORD_home', 'diff_curr_home_record',\n",
    "                    'diff_curr_win_pct']]\n",
    "y_train_extra = y_train\n",
    "\n",
    "X_test_extra = test_data[['odds_home', 'odds_away', 'home_elo', 'visitor_elo', 'elo_diff',\n",
    "                    'eff_diff', 'eff_visitor', 'top_player_diff', 'diff_win_pct_prev_season',\n",
    "                    'diff_home_record_last_season', 'ROAD_RECORD_home',\n",
    "                    'diff_road_record_last_season', 'diff_win_pct_7_last_games', 'W_PCT_home',\n",
    "                    'W_PCT_away', 'W_PCT_prev_away', 'diff_curr_away_record', 'HOME_RECORD_home', 'diff_curr_home_record',\n",
    "                    'diff_curr_win_pct']]\n",
    "y_test_extra = y_test"
   ]
  },
  {
   "cell_type": "code",
   "execution_count": 19,
   "metadata": {},
   "outputs": [
    {
     "name": "stdout",
     "output_type": "stream",
     "text": [
      "Συνολικός χρόνος fit και predict: 52.29848122596741 seconds\n",
      "              precision    recall  f1-score   support\n",
      "\n",
      "   home_loss       0.62      0.47      0.53       502\n",
      "    home_win       0.68      0.79      0.73       707\n",
      "\n",
      "    accuracy                           0.66      1209\n",
      "   macro avg       0.65      0.63      0.63      1209\n",
      "weighted avg       0.65      0.66      0.65      1209\n",
      "\n",
      "KNeighborsClassifier(n_neighbors=41)\n",
      "{'n_neighbors': 41}\n",
      "best score: 0.6828326180257511\n",
      "test score 0.6600496277915633\n"
     ]
    }
   ],
   "source": [
    "import time\n",
    "\n",
    "# Split Data to Train and Validation\n",
    "\n",
    "clf = KNeighborsClassifier()\n",
    "# η παράμετρος n_jobs = 1 χρησιμοποιεί όλους τους πυρήνες του υπολογιστή\n",
    "params = {'n_neighbors': np.arange(1, 50)}\n",
    "\n",
    "estimator = GridSearchCV(clf, param_grid=params, scoring='accuracy', n_jobs=-1)\n",
    "start_time = time.time()\n",
    "estimator.fit(X_train_extra, y_train_extra)\n",
    "\n",
    "preds = estimator.predict(X_test_extra)\n",
    "test_score = estimator.score(X_test_extra, y_test_extra)\n",
    "\n",
    "target_names = ['home_loss', 'home_win']\n",
    "\n",
    "print(\"Συνολικός χρόνος fit και predict: %s seconds\" % (time.time() - start_time))\n",
    "print(classification_report(y_test_extra, preds, target_names=target_names))\n",
    "print(estimator.best_estimator_)\n",
    "print(estimator.best_params_)\n",
    "print(\"best score:\", estimator.best_score_)\n",
    "print(\"test score\", test_score)"
   ]
  },
  {
   "cell_type": "markdown",
   "metadata": {},
   "source": [
    "## MLP Testing per Season"
   ]
  },
  {
   "cell_type": "code",
   "execution_count": 17,
   "metadata": {},
   "outputs": [],
   "source": [
    "X_train_uni = train_data[['diff_curr_win_pct','diff_curr_away_record','odds_home','odds_away','elo_diff']]\n",
    "y_train_uni = y_train\n",
    "\n",
    "X_val_uni = valid_data[['diff_curr_win_pct','diff_curr_away_record','odds_home','odds_away','elo_diff']]\n",
    "y_val_uni = y_val\n",
    "\n",
    "X_test_uni = test_data[['diff_curr_win_pct','diff_curr_away_record','odds_home','odds_away','elo_diff']]\n",
    "y_test_uni = y_test"
   ]
  },
  {
   "cell_type": "code",
   "execution_count": 18,
   "metadata": {},
   "outputs": [],
   "source": [
    "# Multilayer Perceptron\n",
    "model = MLPClassifier()\n",
    "model.fit(X_train_uni, y_train_uni)\n",
    "\n",
    "# defining parameter range\n",
    "param_grid = {'max_iter': list(range(100, 300, 50)),\n",
    "              # 'activation':['identity', 'logistic', 'tanh', 'relu'],\n",
    "              'hidden_layer_sizes': [(20, 10, 5)],\n",
    "              'solver': ['lbfgs', 'sgd'],\n",
    "              'alpha': [1e-05],\n",
    "              }\n",
    "\n",
    "\n",
    "grid = GridSearchCV(model, param_grid, cv=5, scoring='accuracy', n_jobs=-1)\n"
   ]
  },
  {
   "cell_type": "code",
   "execution_count": 19,
   "metadata": {},
   "outputs": [
    {
     "name": "stdout",
     "output_type": "stream",
     "text": [
      "Συνολικός χρόνος fit και predict: 21.410220861434937 seconds\n",
      "              precision    recall  f1-score   support\n",
      "\n",
      "   home_loss       0.68      0.58      0.63       429\n",
      "    home_win       0.69      0.77      0.73       523\n",
      "\n",
      "    accuracy                           0.69       952\n",
      "   macro avg       0.69      0.68      0.68       952\n",
      "weighted avg       0.69      0.69      0.68       952\n",
      "\n",
      "val score: 0.6995867768595041\n",
      "{'alpha': 1e-05, 'hidden_layer_sizes': (20, 10, 5), 'max_iter': 100, 'solver': 'lbfgs'}\n",
      "best score: 0.6908695652173912\n",
      "test score 0.6869747899159664\n"
     ]
    }
   ],
   "source": [
    "start_time = time.time()\n",
    "grid.fit(X_train_uni, y_train_uni)\n",
    "val_score = grid.score(X_val_uni, y_val_uni)\n",
    "\n",
    "preds = grid.predict(X_test_uni)\n",
    "test_score = grid.score(X_test_uni, y_test_uni)\n",
    "\n",
    "target_names = ['home_loss', 'home_win']\n",
    "\n",
    "print(\"Συνολικός χρόνος fit και predict: %s seconds\" % (time.time() - start_time))\n",
    "print(classification_report(y_test_uni, preds, target_names=target_names))\n",
    "print(\"val score:\", val_score)\n",
    "\n",
    "model = grid.best_estimator_\n",
    "y_fit = model.predict(X_test_uni)\n",
    "\n",
    "print(grid.best_params_)\n",
    "print(\"best score:\", grid.best_score_)\n",
    "print(\"test score\", test_score)\n"
   ]
  },
  {
   "cell_type": "markdown",
   "metadata": {},
   "source": [
    "## SVM Testing per Season"
   ]
  },
  {
   "cell_type": "code",
   "execution_count": 18,
   "metadata": {},
   "outputs": [],
   "source": [
    "X_train_rcv = train_data[['missing_player_diff','odds_home','odds_away','visitor_elo']]\n",
    "y_train_rcv = y_train\n",
    "\n",
    "X_test_rcv = test_data[['missing_player_diff','odds_home','odds_away','visitor_elo']]\n",
    "y_test_rcv = y_test"
   ]
  },
  {
   "cell_type": "code",
   "execution_count": 19,
   "metadata": {},
   "outputs": [],
   "source": [
    "# Support vector classifier\n",
    "model = SVC()\n",
    "model.fit(X_train_rcv, y_train_rcv)\n",
    "\n",
    "# defining parameter range\n",
    "param_grid = {'C': [0.1, 1, 10, 100, 1000],\n",
    "              'gamma': [1, 0.1, 0.01, 0.001, 0.0001],\n",
    "              'kernel': ['rbf']}\n",
    "\n",
    "grid = GridSearchCV(model, param_grid, scoring='accuracy', n_jobs=-1)"
   ]
  },
  {
   "cell_type": "code",
   "execution_count": 20,
   "metadata": {},
   "outputs": [
    {
     "name": "stdout",
     "output_type": "stream",
     "text": [
      "Συνολικός χρόνος fit και predict: 382.8622102737427 seconds\n",
      "              precision    recall  f1-score   support\n",
      "\n",
      "   home_loss       0.68      0.50      0.58       429\n",
      "    home_win       0.67      0.81      0.73       523\n",
      "\n",
      "    accuracy                           0.67       952\n",
      "   macro avg       0.67      0.66      0.65       952\n",
      "weighted avg       0.67      0.67      0.66       952\n",
      "\n",
      "{'C': 1000, 'gamma': 0.0001, 'kernel': 'rbf'}\n",
      "best score: 0.6858369098712447\n",
      "test score 0.6712184873949579\n"
     ]
    }
   ],
   "source": [
    "start_time = time.time()\n",
    "grid.fit(X_train_rcv, y_train_rcv)\n",
    "\n",
    "preds = grid.predict(X_test_rcv)\n",
    "test_score = grid.score(X_test_rcv, y_test_rcv)\n",
    "\n",
    "target_names = ['home_loss', 'home_win']\n",
    "\n",
    "\n",
    "print(\"Συνολικός χρόνος fit και predict: %s seconds\" % (time.time() - start_time))\n",
    "print(classification_report(y_test_rcv, preds, target_names=target_names))\n",
    "\n",
    "model = grid.best_estimator_\n",
    "y_fit = model.predict(X_test_rcv)\n",
    "\n",
    "print(grid.best_params_)\n",
    "print(\"best score:\", grid.best_score_)\n",
    "print(\"test score\", test_score)\n"
   ]
  },
  {
   "cell_type": "markdown",
   "metadata": {},
   "source": [
    "## Random Forest Testing per Season"
   ]
  },
  {
   "cell_type": "code",
   "execution_count": 40,
   "metadata": {},
   "outputs": [],
   "source": [
    "X_train_extra = train_data[['odds_home', 'odds_away', 'home_elo', 'visitor_elo', 'elo_diff',\n",
    "                    'eff_diff', 'eff_visitor', 'top_player_diff', 'diff_win_pct_prev_season',\n",
    "                    'diff_home_record_last_season', 'ROAD_RECORD_home',\n",
    "                    'diff_road_record_last_season', 'diff_win_pct_7_last_games', 'W_PCT_home',\n",
    "                    'W_PCT_away', 'W_PCT_prev_away', 'diff_curr_away_record', 'HOME_RECORD_home', 'diff_curr_home_record',\n",
    "                    'diff_curr_win_pct']]\n",
    "\n",
    "y_train_extra = y_train\n",
    "\n",
    "X_test_extra = test_data[['odds_home', 'odds_away', 'home_elo', 'visitor_elo', 'elo_diff',\n",
    "                    'eff_diff', 'eff_visitor', 'top_player_diff', 'diff_win_pct_prev_season',\n",
    "                    'diff_home_record_last_season', 'ROAD_RECORD_home',\n",
    "                    'diff_road_record_last_season', 'diff_win_pct_7_last_games', 'W_PCT_home',\n",
    "                    'W_PCT_away', 'W_PCT_prev_away', 'diff_curr_away_record', 'HOME_RECORD_home', 'diff_curr_home_record',\n",
    "                    'diff_curr_win_pct']]\n",
    "\n",
    "y_test_extra = y_test\n"
   ]
  },
  {
   "cell_type": "code",
   "execution_count": 41,
   "metadata": {},
   "outputs": [
    {
     "data": {
      "text/plain": [
       "GridSearchCV(estimator=RandomForestClassifier(), n_jobs=-1,\n",
       "             param_grid={'bootstrap': [True], 'max_depth': [8, 9, 10, 11],\n",
       "                         'max_features': ['auto', 'sqrt', 'log2'],\n",
       "                         'min_samples_leaf': [3, 4, 5],\n",
       "                         'min_samples_split': [8, 10, 12],\n",
       "                         'n_estimators': [100]},\n",
       "             scoring='accuracy')"
      ]
     },
     "execution_count": 41,
     "metadata": {},
     "output_type": "execute_result"
    }
   ],
   "source": [
    "# Random Forest Classifier\n",
    "\n",
    "model_first_split = RandomForestClassifier()\n",
    "model_first_split.fit(X_train_extra, y_train_extra)\n",
    "\n",
    "# defining parameter range\n",
    "param_grid = {'bootstrap': [True],\n",
    "              'max_depth': [8, 9, 10, 11],\n",
    "              'max_features': ['auto', 'sqrt', 'log2'],\n",
    "              'min_samples_leaf': [3, 4, 5],\n",
    "              'min_samples_split': [8, 10, 12],\n",
    "              'n_estimators': [100]}\n",
    "\n",
    "grid = GridSearchCV(model_first_split, param_grid, scoring='accuracy', n_jobs=-1)\n",
    "start_time = time.time()\n",
    "grid.fit(X_train_extra, y_train_extra)\n",
    "\n"
   ]
  },
  {
   "cell_type": "code",
   "execution_count": 42,
   "metadata": {},
   "outputs": [
    {
     "name": "stdout",
     "output_type": "stream",
     "text": [
      "Συνολικός χρόνος fit και predict: 205.07879638671875 seconds\n",
      "              precision    recall  f1-score   support\n",
      "\n",
      "   home loss       0.63      0.55      0.58       509\n",
      "    home win       0.70      0.77      0.73       702\n",
      "\n",
      "    accuracy                           0.67      1211\n",
      "   macro avg       0.66      0.66      0.66      1211\n",
      "weighted avg       0.67      0.67      0.67      1211\n",
      "\n",
      "{'bootstrap': True, 'max_depth': 8, 'max_features': 'auto', 'min_samples_leaf': 4, 'min_samples_split': 12, 'n_estimators': 100}\n",
      "best score: 0.6943133047210301\n",
      "test score 0.6738232865400495\n"
     ]
    }
   ],
   "source": [
    "# Predict on the validation set\n",
    "preds = grid.predict(X_test_extra)\n",
    "test_score = grid.score(X_test_extra, y_test_extra)\n",
    "\n",
    "target_names=['home loss', 'home win']\n",
    "\n",
    "print(\"Συνολικός χρόνος fit και predict: %s seconds\" % (time.time() - start_time))\n",
    "print(classification_report(y_test_extra, preds, target_names=target_names))\n",
    "\n",
    "\n",
    "model = grid.best_estimator_\n",
    "y_fit = model.predict(X_test_extra)\n",
    "\n",
    "print(grid.best_params_)\n",
    "print(\"best score:\", grid.best_score_)\n",
    "print(\"test score\", test_score)\n"
   ]
  },
  {
   "cell_type": "markdown",
   "metadata": {},
   "source": [
    "## XGBoost Testing per Season"
   ]
  },
  {
   "cell_type": "code",
   "execution_count": 74,
   "metadata": {},
   "outputs": [],
   "source": [
    "X_train_lasso = train_data[['elo_diff', 'odds_away', 'odds_home', 'eff_diff', 'eff_visitor',\n",
    "              'missing_players', 'top_players', 'FT_PCT_home_7g', 'diff_avg_reb_away',\n",
    "              'home_elo']]\n",
    "y_train_lasso = y_train\n",
    "\n",
    "\n",
    "X_test_lasso = test_data[['elo_diff', 'odds_away', 'odds_home', 'eff_diff', 'eff_visitor',\n",
    "              'missing_players', 'top_players', 'FT_PCT_home_7g', 'diff_avg_reb_away',\n",
    "              'home_elo']]\n",
    "\n",
    "y_test_lasso = y_test"
   ]
  },
  {
   "cell_type": "code",
   "execution_count": 75,
   "metadata": {},
   "outputs": [],
   "source": [
    "# XG Boost classifier\n",
    "model = xgb.XGBClassifier()\n",
    "model.fit(X_train_lasso, y_train_lasso)\n",
    "\n",
    "# defining parameter range\n",
    "param_grid = {\n",
    "        'max_depth': [3, 5, 7],\n",
    "        'learning_rate': [0.1, 0.3],\n",
    "        'n_estimators': [100, 200, 300],\n",
    "        'min_child_weight': [1, 3],\n",
    "        'gamma': [x/10 for x in range(0, 5)]\n",
    "        }\n",
    "grid = GridSearchCV(model, param_grid, scoring='accuracy', n_jobs=-1)\n",
    "\n",
    "start_time = time.time()\n",
    "grid.fit(X_train_lasso, y_train_lasso)\n",
    "\n",
    "preds = grid.predict(X_test_lasso)\n",
    "test_score = grid.score(X_test_lasso, y_test_lasso)\n",
    "\n"
   ]
  },
  {
   "cell_type": "code",
   "execution_count": 76,
   "metadata": {},
   "outputs": [
    {
     "name": "stdout",
     "output_type": "stream",
     "text": [
      "Συνολικός χρόνος fit και predict: 362.4185836315155 seconds\n",
      "              precision    recall  f1-score   support\n",
      "\n",
      "   home_loss       0.63      0.55      0.59       495\n",
      "    home_win       0.72      0.78      0.75       716\n",
      "\n",
      "    accuracy                           0.69      1211\n",
      "   macro avg       0.67      0.66      0.67      1211\n",
      "weighted avg       0.68      0.69      0.68      1211\n",
      "\n",
      "{'gamma': 0.2, 'learning_rate': 0.1, 'max_depth': 3, 'min_child_weight': 3, 'n_estimators': 100}\n",
      "best score: 0.6914492753623189\n",
      "test score 0.685383980181668\n"
     ]
    }
   ],
   "source": [
    "target_names = ['home_loss', 'home_win']\n",
    "\n",
    "\n",
    "print(\"Συνολικός χρόνος fit και predict: %s seconds\" % (time.time() - start_time))\n",
    "print(classification_report(y_test_lasso, preds, target_names=target_names))\n",
    "\n",
    "model = grid.best_estimator_\n",
    "y_fit = model.predict(X_test_lasso)\n",
    "\n",
    "print(grid.best_params_)\n",
    "print(\"best score:\", grid.best_score_)\n",
    "print(\"test score\", test_score)\n"
   ]
  },
  {
   "cell_type": "markdown",
   "metadata": {},
   "source": [
    "## 2-Stage Stacking Testing per Season"
   ]
  },
  {
   "cell_type": "code",
   "execution_count": 91,
   "metadata": {},
   "outputs": [],
   "source": [
    "X_train_lasso = train_data[['elo_diff', 'odds_away', 'odds_home', 'eff_diff', 'eff_visitor',\n",
    "              'missing_players', 'top_players', 'FT_PCT_home_7g', 'diff_avg_reb_away',\n",
    "              'home_elo']]\n",
    "y_train_lasso = y_train\n",
    "\n",
    "\n",
    "X_test_lasso = test_data[['elo_diff', 'odds_away', 'odds_home', 'eff_diff', 'eff_visitor',\n",
    "              'missing_players', 'top_players', 'FT_PCT_home_7g', 'diff_avg_reb_away',\n",
    "              'home_elo']]\n",
    "y_test_lasso = y_test"
   ]
  },
  {
   "cell_type": "code",
   "execution_count": 92,
   "metadata": {},
   "outputs": [],
   "source": [
    "clf = [ ('svm', SVC(random_state=42, C=100, gamma=0.001, kernel='rbf')),\n",
    "        ('xgb', xgb.XGBClassifier(gamma=0.2, learning_rate=0.1, max_depth=3, min_child_weight=3, n_estimators=100)),\n",
    "        # ('knn', KNeighborsClassifier(leaf_size=1, n_neighbors=11)),\n",
    "        # ('mlp', MLPClassifier(alpha=1e-05, hidden_layer_sizes=(20, 10, 5), max_iter=150, solver='lbfgs')),\n",
    "        ('rf', RandomForestClassifier(bootstrap=True, max_depth=11, max_features='auto', min_samples_leaf=4, min_samples_split=8, n_estimators=100)),\n",
    "        ('gnb', GaussianNB())]\n",
    "\n",
    "\n",
    "ada = AdaBoostClassifier(learning_rate=0.1, n_estimators=100)\n",
    "mlp = MLPClassifier(alpha=1e-05, hidden_layer_sizes=(20, 10, 5), max_iter=150, solver='lbfgs')\n",
    "\n",
    "stacking_model = StackingClassifier(estimators=clf, final_estimator=mlp, stack_method='auto', n_jobs=-1)"
   ]
  },
  {
   "cell_type": "code",
   "execution_count": 93,
   "metadata": {},
   "outputs": [
    {
     "name": "stdout",
     "output_type": "stream",
     "text": [
      "Συνολικός χρόνος fit και predict: 15.292037963867188 seconds\n",
      "              precision    recall  f1-score   support\n",
      "\n",
      "   home_loss       0.68      0.59      0.63       429\n",
      "    home_win       0.70      0.78      0.73       523\n",
      "\n",
      "    accuracy                           0.69       952\n",
      "   macro avg       0.69      0.68      0.68       952\n",
      "weighted avg       0.69      0.69      0.69       952\n",
      "\n",
      "test score: 0.6901260504201681\n"
     ]
    }
   ],
   "source": [
    "start_time = time.time()\n",
    "stacking_model.fit(X_train_lasso, y_train_lasso)\n",
    "\n",
    "preds = stacking_model.predict(X_test_lasso)\n",
    "test_score = stacking_model.score(X_test_lasso, y_test_lasso)\n",
    "\n",
    "target_names = ['home_loss', 'home_win']\n",
    "\n",
    "print(\"Συνολικός χρόνος fit και predict: %s seconds\" % (time.time() - start_time))\n",
    "print(classification_report(y_test_lasso, preds, target_names=target_names))\n",
    "print(\"test score:\", test_score)\n"
   ]
  },
  {
   "cell_type": "markdown",
   "metadata": {},
   "source": [
    "## 3-Stage Stacking Testing per Season"
   ]
  },
  {
   "cell_type": "code",
   "execution_count": 108,
   "metadata": {},
   "outputs": [],
   "source": [
    "X_train_lasso = train_data[['elo_diff', 'odds_away', 'odds_home', 'eff_diff', 'eff_visitor',\n",
    "              'missing_players', 'top_players', 'FT_PCT_home_7g', 'diff_avg_reb_away',\n",
    "              'home_elo']]\n",
    "y_train_lasso = y_train\n",
    "\n",
    "\n",
    "X_test_lasso = test_data[['elo_diff', 'odds_away', 'odds_home', 'eff_diff', 'eff_visitor',\n",
    "              'missing_players', 'top_players', 'FT_PCT_home_7g', 'diff_avg_reb_away',\n",
    "              'home_elo']]\n",
    "y_test_lasso = y_test"
   ]
  },
  {
   "cell_type": "code",
   "execution_count": 109,
   "metadata": {},
   "outputs": [],
   "source": [
    "layer_one_estimators = [ \n",
    "        ('svm', SVC(random_state=42, C=100, gamma=0.001, kernel='rbf')),\n",
    "        ('rf', RandomForestClassifier(bootstrap=True, max_depth=11, max_features='auto', min_samples_leaf=4, min_samples_split=8, n_estimators=100)),\n",
    "        # ('xgb', xgb.XGBClassifier(gamma=0.2, learning_rate=0.1, max_depth=3, min_child_weight=3, n_estimators=100))\n",
    "        ]   \n",
    "        # ('knn', KNeighborsClassifier(leaf_size=1, n_neighbors=11)),\n",
    "        # ('mlp', MLPClassifier(alpha=1e-05, hidden_layer_sizes=(20, 10, 5), max_iter=150, solver='lbfgs')),\n",
    "layer_two_estimators = [\n",
    "        ('xgb', xgb.XGBClassifier(gamma=0.2, learning_rate=0.1, max_depth=3, min_child_weight=3, n_estimators=100)),\n",
    "        # ('rf', RandomForestClassifier(bootstrap=True, max_depth=11, max_features='auto', min_samples_leaf=4, min_samples_split=8, n_estimators=100)),\n",
    "        ('gnb', GaussianNB())]\n",
    "\n",
    "ada = AdaBoostClassifier(learning_rate=0.1, n_estimators=100)\n",
    "mlp = MLPClassifier(alpha=1e-05, hidden_layer_sizes=(20, 10, 5), max_iter=150, solver='lbfgs')\n",
    "\n",
    "\n",
    "layer_two = StackingClassifier(estimators=layer_one_estimators, final_estimator=ada)\n",
    "\n",
    "# make predictions with the 3-stage stacking model\n",
    "\n",
    "stacking_model = StackingClassifier(estimators=layer_two_estimators, final_estimator=layer_two) "
   ]
  },
  {
   "cell_type": "code",
   "execution_count": 110,
   "metadata": {},
   "outputs": [
    {
     "name": "stdout",
     "output_type": "stream",
     "text": [
      "Συνολικός χρόνος fit και predict: 16.13227915763855 seconds\n",
      "              precision    recall  f1-score   support\n",
      "\n",
      "   home_loss       0.66      0.60      0.63       429\n",
      "    home_win       0.69      0.74      0.72       523\n",
      "\n",
      "    accuracy                           0.68       952\n",
      "   macro avg       0.68      0.67      0.67       952\n",
      "weighted avg       0.68      0.68      0.68       952\n",
      "\n",
      "test score: 0.6785714285714286\n"
     ]
    }
   ],
   "source": [
    "start_time = time.time()\n",
    "stacking_model.fit(X_train_lasso, y_train_lasso)\n",
    "\n",
    "preds = stacking_model.predict(X_test_lasso)\n",
    "test_score = stacking_model.score(X_test_lasso, y_test_lasso)\n",
    "\n",
    "target_names = ['home_loss', 'home_win']\n",
    "\n",
    "print(\"Συνολικός χρόνος fit και predict: %s seconds\" % (time.time() - start_time))\n",
    "print(classification_report(y_test_lasso, preds, target_names=target_names))\n",
    "print(\"test score:\", test_score)\n"
   ]
  },
  {
   "cell_type": "markdown",
   "metadata": {},
   "source": [
    "## Voting Testing per Season"
   ]
  },
  {
   "cell_type": "code",
   "execution_count": 126,
   "metadata": {},
   "outputs": [],
   "source": [
    "X_train_lasso = train_data[['elo_diff', 'odds_away', 'odds_home', 'eff_diff', 'eff_visitor',\n",
    "              'missing_players', 'top_players', 'FT_PCT_home_7g', 'diff_avg_reb_away',\n",
    "              'home_elo']]\n",
    "y_train_lasso = y_train\n",
    "\n",
    "X_test_lasso = test_data[['elo_diff', 'odds_away', 'odds_home', 'eff_diff', 'eff_visitor',\n",
    "              'missing_players', 'top_players', 'FT_PCT_home_7g', 'diff_avg_reb_away',\n",
    "              'home_elo']]\n",
    "y_test_lasso = y_test"
   ]
  },
  {
   "cell_type": "code",
   "execution_count": 127,
   "metadata": {},
   "outputs": [],
   "source": [
    "# create a voting classifier with hard voting\n",
    "voting_classifier_hard = VotingClassifier(\n",
    "    estimators = [('svm', SVC(random_state=42, C=100, gamma=0.001, kernel='rbf')),\n",
    "                  ('xgb', xgb.XGBClassifier(gamma=0.2, learning_rate=0.1, max_depth=3, min_child_weight=3, n_estimators=100)),\n",
    "                  ('knn', KNeighborsClassifier(leaf_size=1, n_neighbors=11)),\n",
    "                  ('mlp', MLPClassifier(alpha=1e-05, hidden_layer_sizes=(20, 10, 5), max_iter=150, solver='lbfgs')),\n",
    "                  ('rf', RandomForestClassifier(bootstrap=True, max_depth=11, max_features='auto', min_samples_leaf=4, min_samples_split=8, n_estimators=100)),\n",
    "                  ('gnb', GaussianNB())],\n",
    "    voting='hard')\n",
    "\n",
    "\n",
    "# make predictions with the hard voting model\n",
    "voting_classifier_hard.fit(X_train_lasso, y_train_lasso)\n",
    "y_pred_vch = voting_classifier_hard.predict(X_test_lasso)"
   ]
  },
  {
   "cell_type": "code",
   "execution_count": 128,
   "metadata": {},
   "outputs": [
    {
     "name": "stdout",
     "output_type": "stream",
     "text": [
      "Συνολικός χρόνος fit και predict: 305.386212348938 seconds\n",
      "              precision    recall  f1-score   support\n",
      "\n",
      "   home_loss       0.60      0.54      0.57       502\n",
      "    home_win       0.70      0.75      0.72       707\n",
      "\n",
      "    accuracy                           0.66      1209\n",
      "   macro avg       0.65      0.64      0.65      1209\n",
      "weighted avg       0.66      0.66      0.66      1209\n",
      "\n",
      "test score: 0.6617038875103392\n"
     ]
    }
   ],
   "source": [
    "test_score = voting_classifier_hard.score(X_test_lasso, y_test_lasso)\n",
    "\n",
    "target_names = ['home_loss', 'home_win']\n",
    "\n",
    "print(\"Συνολικός χρόνος fit και predict: %s seconds\" % (time.time() - start_time))\n",
    "print(classification_report(y_test_lasso, y_pred_vch, target_names=target_names))\n",
    "print(\"test score:\", test_score)"
   ]
  },
  {
   "cell_type": "markdown",
   "metadata": {},
   "source": [
    "## Pipelines Testing per Season"
   ]
  },
  {
   "cell_type": "code",
   "execution_count": 18,
   "metadata": {},
   "outputs": [
    {
     "data": {
      "text/plain": [
       "Pipeline(steps=[('selector',\n",
       "                 SelectFromModel(estimator=RandomForestClassifier())),\n",
       "                ('scaler', StandardScaler()),\n",
       "                ('classifier',\n",
       "                 RandomForestClassifier(max_depth=8, max_features='sqrt',\n",
       "                                        min_samples_leaf=4,\n",
       "                                        min_samples_split=12))])"
      ]
     },
     "execution_count": 18,
     "metadata": {},
     "output_type": "execute_result"
    }
   ],
   "source": [
    "pipe_model = Pipeline([\n",
    "    ('selector', SelectFromModel(RandomForestClassifier())),\n",
    "    ('scaler', StandardScaler()),\n",
    "    # ('normalizer', MinMaxScaler()),\n",
    "    ('classifier', RandomForestClassifier(bootstrap=True, max_depth=8, max_features='sqrt', min_samples_leaf=4, min_samples_split=12, n_estimators=100))\n",
    "])\n",
    "\n",
    "pipe_model.fit(X_train, y_train)"
   ]
  },
  {
   "cell_type": "code",
   "execution_count": 19,
   "metadata": {},
   "outputs": [
    {
     "name": "stdout",
     "output_type": "stream",
     "text": [
      "              precision    recall  f1-score   support\n",
      "\n",
      "   home loss       0.68      0.54      0.60       429\n",
      "    home win       0.68      0.79      0.73       523\n",
      "\n",
      "    accuracy                           0.68       952\n",
      "   macro avg       0.68      0.67      0.67       952\n",
      "weighted avg       0.68      0.68      0.67       952\n",
      "\n",
      "test score 0.6785714285714286\n"
     ]
    }
   ],
   "source": [
    "# Predict\n",
    "preds = pipe_model.predict(X_test)\n",
    "test_score = pipe_model.score(X_test, y_test)\n",
    "\n",
    "target_names=['home loss', 'home win']\n",
    "\n",
    "print(classification_report(y_test, preds, target_names=target_names))\n",
    "\n",
    "print(\"test score\", test_score)\n"
   ]
  },
  {
   "cell_type": "markdown",
   "metadata": {},
   "source": [
    "## ANN_LSTM Testing per Season"
   ]
  },
  {
   "cell_type": "code",
   "execution_count": 15,
   "metadata": {},
   "outputs": [],
   "source": [
    "model = Sequential()\n",
    "model.add(LSTM(50, activation='tanh', recurrent_dropout=0.2, return_sequences=True))\n",
    "model.add(Dropout(0.2))\n",
    "model.add(LSTM(50, activation='relu', recurrent_dropout=0.2, return_sequences=True))\n",
    "model.add(Dropout(0.2))\n",
    "model.add(Dense(1, activation='sigmoid'))\n",
    "\n",
    "model.compile(loss='binary_crossentropy',\n",
    "                optimizer='adam',\n",
    "                metrics=['accuracy'])"
   ]
  },
  {
   "cell_type": "code",
   "execution_count": 16,
   "metadata": {},
   "outputs": [],
   "source": [
    "arr_X_train = X_train.to_numpy()\n",
    "arr_X_train = arr_X_train.reshape(arr_X_train.shape[0], arr_X_train.shape[1], 1)\n",
    "\n",
    "arr_X_test = X_test.to_numpy()\n",
    "arr_X_test = arr_X_test.reshape(arr_X_test.shape[0], arr_X_test.shape[1], 1)"
   ]
  },
  {
   "cell_type": "code",
   "execution_count": 17,
   "metadata": {},
   "outputs": [
    {
     "name": "stdout",
     "output_type": "stream",
     "text": [
      "Epoch 1/100\n",
      "216/216 [==============================] - 37s 147ms/step - loss: 0.6720 - accuracy: 0.6011\n",
      "Epoch 2/100\n",
      "216/216 [==============================] - 32s 150ms/step - loss: 0.6668 - accuracy: 0.6055\n",
      "Epoch 3/100\n",
      "216/216 [==============================] - 37s 170ms/step - loss: 0.6622 - accuracy: 0.6151\n",
      "Epoch 4/100\n",
      "216/216 [==============================] - 33s 151ms/step - loss: 0.6605 - accuracy: 0.6205\n",
      "Epoch 5/100\n",
      "216/216 [==============================] - 34s 157ms/step - loss: 0.6563 - accuracy: 0.6262\n",
      "Epoch 6/100\n",
      "216/216 [==============================] - 33s 151ms/step - loss: 0.6532 - accuracy: 0.6276\n",
      "Epoch 7/100\n",
      "216/216 [==============================] - 32s 149ms/step - loss: 0.6512 - accuracy: 0.6301\n",
      "Epoch 8/100\n",
      "216/216 [==============================] - 32s 150ms/step - loss: 0.6509 - accuracy: 0.6299\n",
      "Epoch 9/100\n",
      "216/216 [==============================] - 38s 176ms/step - loss: 0.6488 - accuracy: 0.6314\n",
      "Epoch 10/100\n",
      "216/216 [==============================] - 35s 162ms/step - loss: 0.6501 - accuracy: 0.6307\n",
      "Epoch 11/100\n",
      "216/216 [==============================] - 32s 149ms/step - loss: 0.6476 - accuracy: 0.6323\n",
      "Epoch 12/100\n",
      "216/216 [==============================] - 31s 145ms/step - loss: 0.6461 - accuracy: 0.6329\n",
      "Epoch 13/100\n",
      "216/216 [==============================] - 31s 144ms/step - loss: 0.6438 - accuracy: 0.6323\n",
      "Epoch 14/100\n",
      "216/216 [==============================] - 32s 146ms/step - loss: 0.6431 - accuracy: 0.6320\n",
      "Epoch 15/100\n",
      "216/216 [==============================] - 33s 154ms/step - loss: 0.6412 - accuracy: 0.6314\n",
      "Epoch 16/100\n",
      "216/216 [==============================] - 34s 157ms/step - loss: 0.6341 - accuracy: 0.6314\n",
      "Epoch 17/100\n",
      "216/216 [==============================] - 33s 154ms/step - loss: 0.6352 - accuracy: 0.6273\n",
      "Epoch 18/100\n",
      "216/216 [==============================] - 33s 151ms/step - loss: 0.6133 - accuracy: 0.6467\n",
      "Epoch 19/100\n",
      "216/216 [==============================] - 33s 151ms/step - loss: 0.6033 - accuracy: 0.6699\n",
      "Epoch 20/100\n",
      "216/216 [==============================] - 32s 150ms/step - loss: 0.5994 - accuracy: 0.6817\n",
      "Epoch 21/100\n",
      "216/216 [==============================] - 33s 151ms/step - loss: 0.5972 - accuracy: 0.6824\n",
      "Epoch 22/100\n",
      "216/216 [==============================] - 33s 150ms/step - loss: 0.5971 - accuracy: 0.6833\n",
      "Epoch 23/100\n",
      "216/216 [==============================] - 33s 151ms/step - loss: 0.5927 - accuracy: 0.6826\n",
      "Epoch 24/100\n",
      "216/216 [==============================] - 33s 152ms/step - loss: 0.5912 - accuracy: 0.6857\n",
      "Epoch 25/100\n",
      "216/216 [==============================] - 32s 150ms/step - loss: 0.5915 - accuracy: 0.6874\n",
      "Epoch 26/100\n",
      "216/216 [==============================] - 33s 151ms/step - loss: 0.5925 - accuracy: 0.6849\n",
      "Epoch 27/100\n",
      "216/216 [==============================] - 33s 153ms/step - loss: 0.5925 - accuracy: 0.6899\n",
      "Epoch 28/100\n",
      "216/216 [==============================] - 34s 156ms/step - loss: 0.5913 - accuracy: 0.6854\n",
      "Epoch 29/100\n",
      "216/216 [==============================] - 33s 151ms/step - loss: 0.5899 - accuracy: 0.6855\n",
      "Epoch 30/100\n",
      "216/216 [==============================] - 33s 151ms/step - loss: 0.5903 - accuracy: 0.6848\n",
      "Epoch 31/100\n",
      "216/216 [==============================] - 33s 151ms/step - loss: 0.5893 - accuracy: 0.6889\n",
      "Epoch 32/100\n",
      "216/216 [==============================] - 33s 151ms/step - loss: 0.5894 - accuracy: 0.6869\n",
      "Epoch 33/100\n",
      "216/216 [==============================] - 33s 151ms/step - loss: 0.5868 - accuracy: 0.6882\n",
      "Epoch 34/100\n",
      "216/216 [==============================] - 32s 149ms/step - loss: 0.5875 - accuracy: 0.6910\n",
      "Epoch 35/100\n",
      "216/216 [==============================] - 32s 146ms/step - loss: 0.5883 - accuracy: 0.6884\n",
      "Epoch 36/100\n",
      "216/216 [==============================] - 31s 146ms/step - loss: 0.5863 - accuracy: 0.6882\n",
      "Epoch 37/100\n",
      "216/216 [==============================] - 32s 146ms/step - loss: 0.5868 - accuracy: 0.6889\n",
      "Epoch 38/100\n",
      "216/216 [==============================] - 32s 147ms/step - loss: 0.5865 - accuracy: 0.6896\n",
      "Epoch 39/100\n",
      "216/216 [==============================] - 32s 146ms/step - loss: 0.5853 - accuracy: 0.6870\n",
      "Epoch 40/100\n",
      "216/216 [==============================] - 32s 146ms/step - loss: 0.5857 - accuracy: 0.6891\n",
      "Epoch 41/100\n",
      "216/216 [==============================] - 32s 146ms/step - loss: 0.5853 - accuracy: 0.6904\n",
      "Epoch 42/100\n",
      "216/216 [==============================] - 32s 146ms/step - loss: 0.5856 - accuracy: 0.6894\n",
      "Epoch 43/100\n",
      "216/216 [==============================] - 32s 147ms/step - loss: 0.5839 - accuracy: 0.6917\n",
      "Epoch 44/100\n",
      "216/216 [==============================] - 31s 145ms/step - loss: 0.5842 - accuracy: 0.6904\n",
      "Epoch 45/100\n",
      "216/216 [==============================] - 32s 146ms/step - loss: 0.5825 - accuracy: 0.6914\n",
      "Epoch 46/100\n",
      "216/216 [==============================] - 32s 147ms/step - loss: 0.5845 - accuracy: 0.6911\n",
      "Epoch 47/100\n",
      "216/216 [==============================] - 32s 146ms/step - loss: 0.5816 - accuracy: 0.6890\n",
      "Epoch 48/100\n",
      "216/216 [==============================] - 31s 146ms/step - loss: 0.5844 - accuracy: 0.6907\n",
      "Epoch 49/100\n",
      "216/216 [==============================] - 32s 147ms/step - loss: 0.5852 - accuracy: 0.6876\n",
      "Epoch 50/100\n",
      "216/216 [==============================] - 32s 146ms/step - loss: 0.5839 - accuracy: 0.6875\n",
      "Epoch 51/100\n",
      "216/216 [==============================] - 32s 146ms/step - loss: 0.5838 - accuracy: 0.6889\n",
      "Epoch 52/100\n",
      "216/216 [==============================] - 32s 148ms/step - loss: 0.5827 - accuracy: 0.6928\n",
      "Epoch 53/100\n",
      "216/216 [==============================] - 32s 146ms/step - loss: 0.5826 - accuracy: 0.6906\n",
      "Epoch 54/100\n",
      "216/216 [==============================] - 32s 147ms/step - loss: 0.5835 - accuracy: 0.6918\n",
      "Epoch 55/100\n",
      "216/216 [==============================] - 32s 147ms/step - loss: 0.5832 - accuracy: 0.6876\n",
      "Epoch 56/100\n",
      "216/216 [==============================] - 32s 146ms/step - loss: 0.5832 - accuracy: 0.6907\n",
      "Epoch 57/100\n",
      "216/216 [==============================] - 32s 146ms/step - loss: 0.5845 - accuracy: 0.6939\n",
      "Epoch 58/100\n",
      "216/216 [==============================] - 32s 146ms/step - loss: 0.5832 - accuracy: 0.6890\n",
      "Epoch 59/100\n",
      "216/216 [==============================] - 31s 146ms/step - loss: 0.5826 - accuracy: 0.6930\n",
      "Epoch 60/100\n",
      "216/216 [==============================] - 32s 146ms/step - loss: 0.5816 - accuracy: 0.6895\n",
      "Epoch 61/100\n",
      "216/216 [==============================] - 32s 146ms/step - loss: 0.5804 - accuracy: 0.6929\n",
      "Epoch 62/100\n",
      "216/216 [==============================] - 32s 147ms/step - loss: 0.5822 - accuracy: 0.6905\n",
      "Epoch 63/100\n",
      "216/216 [==============================] - 31s 146ms/step - loss: 0.5806 - accuracy: 0.6926\n",
      "Epoch 64/100\n",
      "216/216 [==============================] - 32s 147ms/step - loss: 0.5817 - accuracy: 0.6939\n",
      "Epoch 65/100\n",
      "216/216 [==============================] - 32s 146ms/step - loss: 0.5816 - accuracy: 0.6898\n",
      "Epoch 66/100\n",
      "216/216 [==============================] - 32s 148ms/step - loss: 0.5839 - accuracy: 0.6896\n",
      "Epoch 67/100\n",
      "216/216 [==============================] - 32s 146ms/step - loss: 0.5822 - accuracy: 0.6946\n",
      "Epoch 68/100\n",
      "216/216 [==============================] - 32s 147ms/step - loss: 0.5832 - accuracy: 0.6911\n",
      "Epoch 69/100\n",
      "216/216 [==============================] - 32s 147ms/step - loss: 0.5811 - accuracy: 0.6951\n",
      "Epoch 70/100\n",
      "216/216 [==============================] - 32s 146ms/step - loss: 0.5807 - accuracy: 0.6925\n",
      "Epoch 71/100\n",
      "216/216 [==============================] - 32s 147ms/step - loss: 0.5807 - accuracy: 0.6943\n",
      "Epoch 72/100\n",
      "216/216 [==============================] - 32s 147ms/step - loss: 0.5800 - accuracy: 0.6933\n",
      "Epoch 73/100\n",
      "216/216 [==============================] - 33s 153ms/step - loss: 0.5826 - accuracy: 0.6920\n",
      "Epoch 74/100\n",
      "216/216 [==============================] - 37s 170ms/step - loss: 0.5797 - accuracy: 0.6902\n",
      "Epoch 75/100\n",
      "216/216 [==============================] - 33s 152ms/step - loss: 0.5810 - accuracy: 0.6915\n",
      "Epoch 76/100\n",
      "216/216 [==============================] - 33s 151ms/step - loss: 0.5804 - accuracy: 0.6926\n",
      "Epoch 77/100\n",
      "216/216 [==============================] - 33s 154ms/step - loss: 0.5804 - accuracy: 0.6895\n",
      "Epoch 78/100\n",
      "216/216 [==============================] - 33s 152ms/step - loss: 0.5821 - accuracy: 0.6902\n",
      "Epoch 79/100\n",
      "216/216 [==============================] - 33s 152ms/step - loss: 0.5789 - accuracy: 0.6942\n",
      "Epoch 80/100\n",
      "216/216 [==============================] - 33s 154ms/step - loss: 0.5790 - accuracy: 0.6930\n",
      "Epoch 81/100\n",
      "216/216 [==============================] - 33s 151ms/step - loss: 0.5792 - accuracy: 0.6943\n",
      "Epoch 82/100\n",
      "216/216 [==============================] - 33s 152ms/step - loss: 0.5793 - accuracy: 0.6943\n",
      "Epoch 83/100\n",
      "216/216 [==============================] - 33s 152ms/step - loss: 0.5805 - accuracy: 0.6947\n",
      "Epoch 84/100\n",
      "216/216 [==============================] - 33s 151ms/step - loss: 0.5794 - accuracy: 0.6934\n",
      "Epoch 85/100\n",
      "216/216 [==============================] - 33s 151ms/step - loss: 0.5794 - accuracy: 0.6920\n",
      "Epoch 86/100\n",
      "216/216 [==============================] - 33s 152ms/step - loss: 0.5785 - accuracy: 0.6942\n",
      "Epoch 87/100\n",
      "216/216 [==============================] - 33s 153ms/step - loss: 0.5811 - accuracy: 0.6943\n",
      "Epoch 88/100\n",
      "216/216 [==============================] - 33s 152ms/step - loss: 0.5799 - accuracy: 0.6954\n",
      "Epoch 89/100\n",
      "216/216 [==============================] - 33s 152ms/step - loss: 0.5799 - accuracy: 0.6955\n",
      "Epoch 90/100\n",
      "216/216 [==============================] - 33s 151ms/step - loss: 0.5779 - accuracy: 0.6950\n",
      "Epoch 91/100\n",
      "216/216 [==============================] - 32s 149ms/step - loss: 0.5787 - accuracy: 0.6937\n",
      "Epoch 92/100\n",
      "216/216 [==============================] - 32s 147ms/step - loss: 0.5783 - accuracy: 0.6976\n",
      "Epoch 93/100\n",
      "216/216 [==============================] - 32s 147ms/step - loss: 0.5795 - accuracy: 0.6930\n",
      "Epoch 94/100\n",
      "216/216 [==============================] - 32s 148ms/step - loss: 0.5785 - accuracy: 0.6917\n",
      "Epoch 95/100\n",
      "216/216 [==============================] - 32s 146ms/step - loss: 0.5807 - accuracy: 0.6914\n",
      "Epoch 96/100\n",
      "216/216 [==============================] - 32s 147ms/step - loss: 0.5787 - accuracy: 0.6924\n",
      "Epoch 97/100\n",
      "216/216 [==============================] - 32s 148ms/step - loss: 0.5769 - accuracy: 0.7014\n",
      "Epoch 98/100\n",
      "216/216 [==============================] - 32s 146ms/step - loss: 0.5793 - accuracy: 0.6931\n",
      "Epoch 99/100\n",
      "216/216 [==============================] - 32s 147ms/step - loss: 0.5771 - accuracy: 0.6952\n",
      "Epoch 100/100\n",
      "216/216 [==============================] - 32s 147ms/step - loss: 0.5793 - accuracy: 0.6941\n"
     ]
    },
    {
     "data": {
      "text/plain": [
       "<keras.callbacks.History at 0x180090e9130>"
      ]
     },
     "execution_count": 17,
     "metadata": {},
     "output_type": "execute_result"
    }
   ],
   "source": [
    "model.fit(arr_X_train, y_train, epochs=100, batch_size=32)\n"
   ]
  },
  {
   "cell_type": "code",
   "execution_count": 18,
   "metadata": {},
   "outputs": [
    {
     "name": "stdout",
     "output_type": "stream",
     "text": [
      "Accuracy: 65.59\n"
     ]
    }
   ],
   "source": [
    "# evaluate the keras model\n",
    "scores = model.evaluate(arr_X_test, y_test, verbose=0)\n",
    "print('Accuracy: %.2f' % (scores[1]*100))"
   ]
  },
  {
   "cell_type": "code",
   "execution_count": null,
   "metadata": {},
   "outputs": [],
   "source": []
  }
 ],
 "metadata": {
  "kernelspec": {
   "display_name": "Python 3.9.4 64-bit",
   "language": "python",
   "name": "python3"
  },
  "language_info": {
   "codemirror_mode": {
    "name": "ipython",
    "version": 3
   },
   "file_extension": ".py",
   "mimetype": "text/x-python",
   "name": "python",
   "nbconvert_exporter": "python",
   "pygments_lexer": "ipython3",
   "version": "3.9.4"
  },
  "orig_nbformat": 4,
  "vscode": {
   "interpreter": {
    "hash": "81794d4967e6c3204c66dcd87b604927b115b27c00565d3d43f05ba2f3a2cb0d"
   }
  }
 },
 "nbformat": 4,
 "nbformat_minor": 2
}
