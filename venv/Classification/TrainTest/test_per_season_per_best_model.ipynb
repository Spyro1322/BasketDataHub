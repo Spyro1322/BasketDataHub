{
 "cells": [
  {
   "cell_type": "code",
   "execution_count": 3,
   "metadata": {},
   "outputs": [],
   "source": [
    "import pandas as pd\n",
    "df = pd.read_csv('../../FeatureEngineering/MetaData/data6_&_odds.csv')\n",
    "df.dropna(inplace=True)"
   ]
  },
  {
   "cell_type": "code",
   "execution_count": 4,
   "metadata": {},
   "outputs": [],
   "source": [
    "import warnings\n",
    "warnings.filterwarnings('ignore')"
   ]
  },
  {
   "cell_type": "code",
   "execution_count": 10,
   "metadata": {},
   "outputs": [],
   "source": [
    "from sklearn.model_selection import train_test_split, cross_val_score, GridSearchCV\n",
    "from sklearn.metrics import accuracy_score\n",
    "from sklearn.naive_bayes import GaussianNB\n",
    "from sklearn.metrics import classification_report\n",
    "from sklearn.neighbors import KNeighborsClassifier\n",
    "from sklearn.neural_network import MLPClassifier\n",
    "\n",
    "import numpy as np\n",
    "\n",
    "import time"
   ]
  },
  {
   "cell_type": "code",
   "execution_count": 6,
   "metadata": {},
   "outputs": [],
   "source": [
    "train_data = df.loc[(df.season <= 2013) & (df.season >= 2007)]\n",
    "valid_data = df.loc[(df.season > 2013) & (df.season < 2016)]\n",
    "test_data = df.loc[df.season == 2016]\n",
    "full_train_data = pd.concat([train_data, valid_data], axis=0)\n",
    "\n",
    "X_train, y_train = train_data.drop(columns=[\"game_date_est\",\"season\",\"game_id\",\"home_team\",\"visitor_team\",\"home_team_id\",\"visitor_team_id\",\"home_team_wins\",\"conference\",\"conference_visitor\"]), train_data.home_team_wins\n",
    "X_val, y_val = valid_data.drop(columns=[\"game_date_est\",\"season\",\"game_id\",\"home_team\",\"visitor_team\",\"home_team_id\",\"visitor_team_id\",\"home_team_wins\",\"conference\",\"conference_visitor\"]), valid_data.home_team_wins\n",
    "X_test, y_test = test_data.drop(columns=[\"game_date_est\",\"season\",\"game_id\",\"home_team\",\"visitor_team\",\"home_team_id\",\"visitor_team_id\",\"home_team_wins\",\"conference\",\"conference_visitor\"]), test_data.home_team_wins\n"
   ]
  },
  {
   "cell_type": "markdown",
   "metadata": {},
   "source": [
    "## GNB Testing per Season"
   ]
  },
  {
   "cell_type": "code",
   "execution_count": 15,
   "metadata": {},
   "outputs": [],
   "source": [
    "X_train_sfm = train_data[['elo_diff', 'odds_away', 'odds_home', 'eff_diff', 'eff_visitor',\n",
    "              'missing_players', 'top_players', 'FT_PCT_home_7g', 'diff_avg_reb_away',\n",
    "              'home_elo']]\n",
    "y_train_sfm = y_train\n",
    "\n",
    "X_test_sfm = test_data[['elo_diff', 'odds_away', 'odds_home', 'eff_diff', 'eff_visitor',\n",
    "              'missing_players', 'top_players', 'FT_PCT_home_7g', 'diff_avg_reb_away',\n",
    "              'home_elo']]\n",
    "y_test_sfm = y_test\n",
    "\n",
    "win_accuracy = {}"
   ]
  },
  {
   "cell_type": "code",
   "execution_count": 16,
   "metadata": {},
   "outputs": [
    {
     "name": "stdout",
     "output_type": "stream",
     "text": [
      "Classification Accuracy on the NBA Games Dataset (40% test set)\n",
      "\n",
      "gaussian naive bayes 0.6838235294117647\n"
     ]
    }
   ],
   "source": [
    "from sklearn.naive_bayes import GaussianNB\n",
    "gnb = GaussianNB()\n",
    "# κάνουμε εκπαίδευση (fit) δηλαδή ουσιαστικά υπολογίζουμε μέση τιμή και διακύμανση για όλα τα χαρακτηριστικά και κλάσεις στο training set\n",
    "model = gnb.fit(X_train_sfm, y_train_sfm)\n",
    "# η GaussianNB έχει builtin μέθοδο υπολογισμό accuracy. Αποθηκεύουμε την τιμή της στον πίνακά μας με τα αποτελέσματα από τα άλλα classifiers\n",
    "win_accuracy['gaussian naive bayes'] = gnb.score(X_test_sfm, y_test_sfm)\n",
    "# και ξανατυπώνουμε τα sorted αποτελέσματα\n",
    "print(\"Classification Accuracy on the NBA Games Dataset (40% test set)\\n\")\n",
    "sorted_accuracy = [(k, win_accuracy[k]) for k in sorted(win_accuracy, key=win_accuracy.get, reverse=True)]\n",
    "for k, v in sorted_accuracy:\n",
    "  print(k,v)"
   ]
  },
  {
   "cell_type": "markdown",
   "metadata": {},
   "source": [
    "## kNN Testing per Season"
   ]
  },
  {
   "cell_type": "code",
   "execution_count": 14,
   "metadata": {},
   "outputs": [],
   "source": [
    "X_train_rfe = train_data[['num_possible_outcomes', 'odds_home', 'odds_away', 'W_PCT_home',\n",
    "            'HOME_RECORD_home', 'ROAD_RECORD_home', 'ROAD_RECORD_away',\n",
    "            'WIN_PRCT_home_3g', 'PTS_home_3g', 'REB_home_3g', 'WIN_PRCT_away_3g',\n",
    "            'AST_away_3g', 'REB_away_3g', 'PTS_home_7g', 'AST_home_7g',\n",
    "            'REB_home_7g', 'AST_away_7g', 'diff_avg_pts_home', 'diff_avg_ast_home',\n",
    "            'diff_avg_ast_away', 'diff_avg_fg3_pct_home', 'diff_avg_reb_home',\n",
    "            'diff_avg_reb_away', 'top_players', 'eff_visitor', 'HG_7days',\n",
    "            'AG_7days', 'G_7days', 'back2back', 'HG_7days_VISITOR',\n",
    "            'G_7days_VISITOR', 'back2back_visitor', 'missing_players',\n",
    "            'missing_players_visitor', 'home_elo', 'visitor_elo', 'elo_diff',\n",
    "            'top_player_diff', 'missing_player_diff', 'eff_diff', 'month',\n",
    "            'Home_Last_5_Avg_AST_home', 'Home_Last_5_Avg_REB_home',\n",
    "            'Home_Last_5_Avg_PTS_away', 'Home_Last_5_Avg_REB_away',\n",
    "            'Home_Last_5_Avg_AST_away', 'Away_Last_5_Avg_FG3_PCT_home',\n",
    "            'Away_Last_5_Avg_AST_home', 'Away_Last_5_Avg_PTS_away',\n",
    "            'Away_Last_5_Avg_FT_PCT_away', 'Away_Last_5_Avg_AST_away',\n",
    "            'diff_ast_last_3_games', 'diff_ast_last_7_games',\n",
    "            'diff_reb_last_3_games', 'diff_reb_last_7_games',\n",
    "            'diff_win_pct_3_last_games', 'diff_curr_win_pct',\n",
    "            'diff_curr_home_record', 'diff_curr_away_record']]\n",
    "\n",
    "y_train_rfe = y_train\n",
    "\n",
    "X_val_rfe = valid_data[['num_possible_outcomes', 'odds_home', 'odds_away', 'W_PCT_home',\n",
    "            'HOME_RECORD_home', 'ROAD_RECORD_home', 'ROAD_RECORD_away',\n",
    "            'WIN_PRCT_home_3g', 'PTS_home_3g', 'REB_home_3g', 'WIN_PRCT_away_3g',\n",
    "            'AST_away_3g', 'REB_away_3g', 'PTS_home_7g', 'AST_home_7g',\n",
    "            'REB_home_7g', 'AST_away_7g', 'diff_avg_pts_home', 'diff_avg_ast_home',\n",
    "            'diff_avg_ast_away', 'diff_avg_fg3_pct_home', 'diff_avg_reb_home',\n",
    "            'diff_avg_reb_away', 'top_players', 'eff_visitor', 'HG_7days',\n",
    "            'AG_7days', 'G_7days', 'back2back', 'HG_7days_VISITOR',\n",
    "            'G_7days_VISITOR', 'back2back_visitor', 'missing_players',\n",
    "            'missing_players_visitor', 'home_elo', 'visitor_elo', 'elo_diff',\n",
    "            'top_player_diff', 'missing_player_diff', 'eff_diff', 'month',\n",
    "            'Home_Last_5_Avg_AST_home', 'Home_Last_5_Avg_REB_home',\n",
    "            'Home_Last_5_Avg_PTS_away', 'Home_Last_5_Avg_REB_away',\n",
    "            'Home_Last_5_Avg_AST_away', 'Away_Last_5_Avg_FG3_PCT_home',\n",
    "            'Away_Last_5_Avg_AST_home', 'Away_Last_5_Avg_PTS_away',\n",
    "            'Away_Last_5_Avg_FT_PCT_away', 'Away_Last_5_Avg_AST_away',\n",
    "            'diff_ast_last_3_games', 'diff_ast_last_7_games',\n",
    "            'diff_reb_last_3_games', 'diff_reb_last_7_games',\n",
    "            'diff_win_pct_3_last_games', 'diff_curr_win_pct',\n",
    "            'diff_curr_home_record', 'diff_curr_away_record']]\n",
    "\n",
    "y_val_rfe = y_val\n",
    "\n",
    "X_test_rfe = test_data[['num_possible_outcomes', 'odds_home', 'odds_away', 'W_PCT_home',\n",
    "            'HOME_RECORD_home', 'ROAD_RECORD_home', 'ROAD_RECORD_away',\n",
    "            'WIN_PRCT_home_3g', 'PTS_home_3g', 'REB_home_3g', 'WIN_PRCT_away_3g',\n",
    "            'AST_away_3g', 'REB_away_3g', 'PTS_home_7g', 'AST_home_7g',\n",
    "            'REB_home_7g', 'AST_away_7g', 'diff_avg_pts_home', 'diff_avg_ast_home',\n",
    "            'diff_avg_ast_away', 'diff_avg_fg3_pct_home', 'diff_avg_reb_home',\n",
    "            'diff_avg_reb_away', 'top_players', 'eff_visitor', 'HG_7days',\n",
    "            'AG_7days', 'G_7days', 'back2back', 'HG_7days_VISITOR',\n",
    "            'G_7days_VISITOR', 'back2back_visitor', 'missing_players',\n",
    "            'missing_players_visitor', 'home_elo', 'visitor_elo', 'elo_diff',\n",
    "            'top_player_diff', 'missing_player_diff', 'eff_diff', 'month',\n",
    "            'Home_Last_5_Avg_AST_home', 'Home_Last_5_Avg_REB_home',\n",
    "            'Home_Last_5_Avg_PTS_away', 'Home_Last_5_Avg_REB_away',\n",
    "            'Home_Last_5_Avg_AST_away', 'Away_Last_5_Avg_FG3_PCT_home',\n",
    "            'Away_Last_5_Avg_AST_home', 'Away_Last_5_Avg_PTS_away',\n",
    "            'Away_Last_5_Avg_FT_PCT_away', 'Away_Last_5_Avg_AST_away',\n",
    "            'diff_ast_last_3_games', 'diff_ast_last_7_games',\n",
    "            'diff_reb_last_3_games', 'diff_reb_last_7_games',\n",
    "            'diff_win_pct_3_last_games', 'diff_curr_win_pct',\n",
    "            'diff_curr_home_record', 'diff_curr_away_record']]\n",
    "\n",
    "y_test_rfe = y_test"
   ]
  },
  {
   "cell_type": "code",
   "execution_count": 15,
   "metadata": {},
   "outputs": [
    {
     "name": "stdout",
     "output_type": "stream",
     "text": [
      "Συνολικός χρόνος fit και predict: 35.21475648880005 seconds\n",
      "              precision    recall  f1-score   support\n",
      "\n",
      "   home_loss       0.62      0.51      0.56       429\n",
      "    home_win       0.65      0.75      0.70       523\n",
      "\n",
      "    accuracy                           0.64       952\n",
      "   macro avg       0.64      0.63      0.63       952\n",
      "weighted avg       0.64      0.64      0.64       952\n",
      "\n",
      "val score: 0.6661157024793388\n",
      "KNeighborsClassifier(leaf_size=1, n_neighbors=11)\n",
      "{'leaf_size': 1, 'n_neighbors': 11}\n",
      "best score: 0.6560869565217391\n",
      "test score 0.6407563025210085\n"
     ]
    }
   ],
   "source": [
    "import time\n",
    "\n",
    "# Split Data to Train and Validation\n",
    "\n",
    "clf = KNeighborsClassifier()\n",
    "# η παράμετρος n_jobs = 1 χρησιμοποιεί όλους τους πυρήνες του υπολογιστή\n",
    "params = {'n_neighbors': np.arange(1, 15),\n",
    "          'leaf_size': list(range(1, 5, 1))}\n",
    "\n",
    "estimator = GridSearchCV(clf, param_grid=params, cv=5, scoring='accuracy', n_jobs=-1)\n",
    "start_time = time.time()\n",
    "estimator.fit(X_train_rfe, y_train_rfe)\n",
    "val_score = estimator.score(X_val_rfe, y_val_rfe)\n",
    "\n",
    "preds = estimator.predict(X_test_rfe)\n",
    "test_score = estimator.score(X_test_rfe, y_test_rfe)\n",
    "\n",
    "target_names = ['home_loss', 'home_win']\n",
    "\n",
    "print(\"Συνολικός χρόνος fit και predict: %s seconds\" % (time.time() - start_time))\n",
    "print(classification_report(y_test_rfe, preds, target_names=target_names))\n",
    "print(\"val score:\", val_score)\n",
    "print(estimator.best_estimator_)\n",
    "print(estimator.best_params_)\n",
    "print(\"best score:\", estimator.best_score_)\n",
    "print(\"test score\", test_score)"
   ]
  },
  {
   "cell_type": "markdown",
   "metadata": {},
   "source": [
    "## MLP Testing per Season"
   ]
  },
  {
   "cell_type": "code",
   "execution_count": 7,
   "metadata": {},
   "outputs": [],
   "source": [
    "X_train_uni = train_data[['diff_curr_win_pct','diff_curr_away_record','odds_home','odds_away','elo_diff']]\n",
    "y_train_uni = y_train\n",
    "\n",
    "X_val_uni = valid_data[['diff_curr_win_pct','diff_curr_away_record','odds_home','odds_away','elo_diff']]\n",
    "y_val_uni = y_val\n",
    "\n",
    "X_test_uni = test_data[['diff_curr_win_pct','diff_curr_away_record','odds_home','odds_away','elo_diff']]\n",
    "y_test_uni = y_test"
   ]
  },
  {
   "cell_type": "code",
   "execution_count": 8,
   "metadata": {},
   "outputs": [],
   "source": [
    "# Multilayer Perceptron\n",
    "model = MLPClassifier()\n",
    "model.fit(X_train_uni, y_train_uni)\n",
    "\n",
    "# defining parameter range\n",
    "param_grid = {'max_iter': list(range(100, 300, 50)),\n",
    "              # 'activation':['identity', 'logistic', 'tanh', 'relu'],\n",
    "              'hidden_layer_sizes': [(20, 10, 5)],\n",
    "              'solver': ['lbfgs', 'sgd'],\n",
    "              'alpha': [1e-05],\n",
    "              }\n",
    "\n",
    "\n",
    "grid = GridSearchCV(model, param_grid, cv=10, scoring='accuracy', n_jobs=-1)\n"
   ]
  },
  {
   "cell_type": "code",
   "execution_count": 9,
   "metadata": {},
   "outputs": [
    {
     "ename": "NameError",
     "evalue": "name 'time' is not defined",
     "output_type": "error",
     "traceback": [
      "\u001b[1;31m---------------------------------------------------------------------------\u001b[0m",
      "\u001b[1;31mNameError\u001b[0m                                 Traceback (most recent call last)",
      "\u001b[1;32mc:\\Users\\spira\\OneDrive\\Documents\\GitHub\\BasketDataHub\\venv\\Classification\\TrainTest\\test_per_season_per_best_model.ipynb Cell 14\u001b[0m in \u001b[0;36m<cell line: 1>\u001b[1;34m()\u001b[0m\n\u001b[1;32m----> <a href='vscode-notebook-cell:/c%3A/Users/spira/OneDrive/Documents/GitHub/BasketDataHub/venv/Classification/TrainTest/test_per_season_per_best_model.ipynb#X16sZmlsZQ%3D%3D?line=0'>1</a>\u001b[0m start_time \u001b[39m=\u001b[39m time\u001b[39m.\u001b[39mtime()\n\u001b[0;32m      <a href='vscode-notebook-cell:/c%3A/Users/spira/OneDrive/Documents/GitHub/BasketDataHub/venv/Classification/TrainTest/test_per_season_per_best_model.ipynb#X16sZmlsZQ%3D%3D?line=1'>2</a>\u001b[0m grid\u001b[39m.\u001b[39mfit(X_train_uni, y_train_uni)\n\u001b[0;32m      <a href='vscode-notebook-cell:/c%3A/Users/spira/OneDrive/Documents/GitHub/BasketDataHub/venv/Classification/TrainTest/test_per_season_per_best_model.ipynb#X16sZmlsZQ%3D%3D?line=2'>3</a>\u001b[0m val_score \u001b[39m=\u001b[39m grid\u001b[39m.\u001b[39mscore(X_val_uni, y_val_uni)\n",
      "\u001b[1;31mNameError\u001b[0m: name 'time' is not defined"
     ]
    }
   ],
   "source": [
    "start_time = time.time()\n",
    "grid.fit(X_train_uni, y_train_uni)\n",
    "val_score = grid.score(X_val_uni, y_val_uni)\n",
    "\n",
    "preds = grid.predict(X_test_uni)\n",
    "test_score = grid.score(X_test_uni, y_test_uni)\n",
    "\n",
    "target_names = ['home_loss', 'home_win']\n",
    "\n",
    "print(\"Συνολικός χρόνος fit και predict: %s seconds\" % (time.time() - start_time))\n",
    "print(classification_report(y_test_uni, preds, target_names=target_names))\n",
    "print(\"val score:\", val_score)\n",
    "\n",
    "model = grid.best_estimator_\n",
    "y_fit = model.predict(X_test_uni)\n",
    "\n",
    "print(grid.best_params_)\n",
    "print(\"best score:\", grid.best_score_)\n",
    "print(\"test score\", test_score)\n"
   ]
  },
  {
   "cell_type": "code",
   "execution_count": null,
   "metadata": {},
   "outputs": [],
   "source": []
  }
 ],
 "metadata": {
  "kernelspec": {
   "display_name": "Python 3.9.4 64-bit",
   "language": "python",
   "name": "python3"
  },
  "language_info": {
   "codemirror_mode": {
    "name": "ipython",
    "version": 3
   },
   "file_extension": ".py",
   "mimetype": "text/x-python",
   "name": "python",
   "nbconvert_exporter": "python",
   "pygments_lexer": "ipython3",
   "version": "3.9.4"
  },
  "orig_nbformat": 4,
  "vscode": {
   "interpreter": {
    "hash": "81794d4967e6c3204c66dcd87b604927b115b27c00565d3d43f05ba2f3a2cb0d"
   }
  }
 },
 "nbformat": 4,
 "nbformat_minor": 2
}
