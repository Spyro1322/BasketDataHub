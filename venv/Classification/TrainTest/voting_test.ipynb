{
 "cells": [
  {
   "cell_type": "code",
   "execution_count": 2,
   "metadata": {},
   "outputs": [],
   "source": [
    "import xgboost as xgb\n",
    "from sklearn.naive_bayes import GaussianNB\n",
    "from sklearn.neighbors import KNeighborsClassifier\n",
    "from sklearn.neural_network import MLPClassifier\n",
    "from sklearn.ensemble import RandomForestClassifier\n",
    "from sklearn.svm import SVC\n",
    "\n",
    "\n",
    "from sklearn.feature_selection import RFE\n",
    "from sklearn.pipeline import Pipeline\n",
    "from sklearn.preprocessing import StandardScaler\n",
    "from sklearn.decomposition import PCA\n",
    "from sklearn.feature_selection import SelectFromModel\n",
    "from sklearn.linear_model import LassoCV\n",
    "from sklearn.model_selection import train_test_split, GridSearchCV\n",
    "\n",
    "from sklearn.ensemble import VotingClassifier\n",
    "\n",
    "from sklearn.metrics import classification_report, accuracy_score, confusion_matrix\n",
    "\n",
    "import time\n",
    "\n",
    "%matplotlib inline\n",
    "import numpy as np\n",
    "import pandas as pd\n",
    "import matplotlib.pyplot as plt\n",
    "from scipy import stats\n",
    "\n",
    "# use seaborn plotting defaults\n",
    "import seaborn as sns; sns.set()\n",
    "\n",
    "import warnings"
   ]
  },
  {
   "cell_type": "code",
   "execution_count": 3,
   "metadata": {},
   "outputs": [],
   "source": [
    "warnings.filterwarnings('ignore')\n"
   ]
  },
  {
   "cell_type": "code",
   "execution_count": 5,
   "metadata": {},
   "outputs": [],
   "source": [
    "df = pd.read_csv('../../FeatureEngineering/MetaData/data6_&_odds.csv')\n",
    "df.dropna(inplace=True)"
   ]
  },
  {
   "cell_type": "code",
   "execution_count": 6,
   "metadata": {},
   "outputs": [],
   "source": [
    "train_data = df.loc[(df.season < 2016) & (df.season >= 2007)]\n",
    "test_data = df.loc[df.season >= 2016]\n",
    "\n",
    "X, y = train_data.drop(columns=['home_team_wins']), train_data.home_team_wins\n",
    "test_X, test_y = test_data.drop(columns=['home_team_wins']), test_data.home_team_wins\n",
    "\n",
    "# Split our data\n",
    "X_train, y_train = train_data.drop(columns=[\"game_date_est\",\"season\",\"game_id\",\"home_team\",\"visitor_team\",\"home_team_id\",\"visitor_team_id\",\"home_team_wins\",\"conference\",\"conference_visitor\"]), train_data.home_team_wins\n",
    "X_test, y_test = test_data.drop(columns=[\"game_date_est\",\"season\",\"game_id\",\"home_team\",\"visitor_team\",\"home_team_id\",\"visitor_team_id\",\"home_team_wins\",\"conference\",\"conference_visitor\"]), test_data.home_team_wins\n"
   ]
  },
  {
   "cell_type": "code",
   "execution_count": 7,
   "metadata": {},
   "outputs": [],
   "source": [
    "def evaluate(model, X_train, X_test, y_train, y_test):\n",
    "    y_test_pred = model.predict(X_test)\n",
    "    y_train_pred = model.predict(X_train)\n",
    "\n",
    "    print(\"Training Results: \\n===============================\")\n",
    "    clf_report = classification_report(y_train, y_train_pred)\n",
    "    print(f\"Confusion Matrix:\\n{confusion_matrix(y_train, y_train_pred)}\")\n",
    "    print(f\"Accuracy Score:\\n{accuracy_score(y_train, y_train_pred):.4f}\")\n",
    "    print(f\"Classification Report:\\n{clf_report}\")\n",
    "\n",
    "    print(\"Testing Results: \\n===============================\")\n",
    "    clf_report = classification_report(y_test, y_test_pred)\n",
    "    print(f\"Confusion Matrix:\\n{confusion_matrix(y_test, y_test_pred)}\")\n",
    "    print(f\"Accuracy Score:\\n{accuracy_score(y_test, y_test_pred):.4f}\")\n",
    "    print(f\"Classification Report:\\n{clf_report}\")"
   ]
  },
  {
   "cell_type": "markdown",
   "metadata": {},
   "source": [
    "### Create a Voting Classifier with our models"
   ]
  },
  {
   "cell_type": "markdown",
   "metadata": {},
   "source": [
    "#### Lasso Dataset"
   ]
  },
  {
   "cell_type": "code",
   "execution_count": 13,
   "metadata": {},
   "outputs": [],
   "source": [
    "X_train_lasso = train_data[['elo_diff', 'odds_away', 'odds_home', 'eff_diff', 'eff_visitor',\n",
    "              'missing_players', 'top_players', 'FT_PCT_home_7g', 'diff_avg_reb_away',\n",
    "              'home_elo']]\n",
    "y_train_lasso = y_train\n",
    "\n",
    "X_test_lasso = test_data[['elo_diff', 'odds_away', 'odds_home', 'eff_diff', 'eff_visitor',\n",
    "              'missing_players', 'top_players', 'FT_PCT_home_7g', 'diff_avg_reb_away',\n",
    "              'home_elo']]\n",
    "y_test_lasso = y_test"
   ]
  },
  {
   "cell_type": "code",
   "execution_count": 14,
   "metadata": {},
   "outputs": [],
   "source": [
    "# create a voting classifier with hard voting\n",
    "voting_classifier_hard = VotingClassifier(\n",
    "    estimators = [('svm', SVC(random_state=42, C=100, gamma=0.001, kernel='rbf')),\n",
    "                  ('xgb', xgb.XGBClassifier(gamma=0.2, learning_rate=0.1, max_depth=3, min_child_weight=3, n_estimators=100)),\n",
    "                  ('knn', KNeighborsClassifier(leaf_size=1, n_neighbors=11)),\n",
    "                  ('mlp', MLPClassifier(alpha=1e-05, hidden_layer_sizes=(20, 10, 5), max_iter=150, solver='lbfgs')),\n",
    "                  ('rf', RandomForestClassifier(bootstrap=True, max_depth=11, max_features='auto', min_samples_leaf=4, min_samples_split=8, n_estimators=100)),\n",
    "                  ('gnb', GaussianNB())],\n",
    "    voting='hard')\n",
    "\n",
    "\n",
    "# make predictions with the hard voting model\n",
    "voting_classifier_hard.fit(X_train_lasso, y_train_lasso)\n",
    "y_pred_vch = voting_classifier_hard.predict(X_test_lasso)"
   ]
  },
  {
   "cell_type": "code",
   "execution_count": 15,
   "metadata": {},
   "outputs": [
    {
     "name": "stdout",
     "output_type": "stream",
     "text": [
      "Training Results: \n",
      "===============================\n",
      "Confusion Matrix:\n",
      "[[1928  856]\n",
      " [ 770 3346]]\n",
      "Accuracy Score:\n",
      "0.7643\n",
      "Classification Report:\n",
      "              precision    recall  f1-score   support\n",
      "\n",
      "           0       0.71      0.69      0.70      2784\n",
      "           1       0.80      0.81      0.80      4116\n",
      "\n",
      "    accuracy                           0.76      6900\n",
      "   macro avg       0.76      0.75      0.75      6900\n",
      "weighted avg       0.76      0.76      0.76      6900\n",
      "\n",
      "Testing Results: \n",
      "===============================\n",
      "Confusion Matrix:\n",
      "[[1160  775]\n",
      " [ 695 1953]]\n",
      "Accuracy Score:\n",
      "0.6792\n",
      "Classification Report:\n",
      "              precision    recall  f1-score   support\n",
      "\n",
      "           0       0.63      0.60      0.61      1935\n",
      "           1       0.72      0.74      0.73      2648\n",
      "\n",
      "    accuracy                           0.68      4583\n",
      "   macro avg       0.67      0.67      0.67      4583\n",
      "weighted avg       0.68      0.68      0.68      4583\n",
      "\n"
     ]
    }
   ],
   "source": [
    "evaluate(voting_classifier_hard, X_train_lasso, X_test_lasso, y_train_lasso, y_test_lasso)"
   ]
  },
  {
   "cell_type": "code",
   "execution_count": 16,
   "metadata": {},
   "outputs": [],
   "source": [
    "# create a voting classifier with soft voting\n",
    "voting_classifier_soft = VotingClassifier(\n",
    "    estimators = [('svm', SVC(probability=True, random_state=42, C=100, gamma=0.001, kernel='rbf')),\n",
    "                  ('xgb', xgb.XGBClassifier(gamma=0.2, learning_rate=0.1, max_depth=3, min_child_weight=3, n_estimators=100)),\n",
    "                  ('knn', KNeighborsClassifier(leaf_size=1, n_neighbors=11)),\n",
    "                  ('mlp', MLPClassifier(alpha=1e-05, hidden_layer_sizes=(20, 10, 5), max_iter=150, solver='lbfgs')),\n",
    "                  ('rf', RandomForestClassifier(bootstrap=True, max_depth=11, max_features='auto', min_samples_leaf=4, min_samples_split=8, n_estimators=100)),\n",
    "                  ('gnb', GaussianNB())],\n",
    "    voting='soft')\n",
    "\n",
    "\n",
    "# make predictions with the soft voting model\n",
    "voting_classifier_soft.fit(X_train_lasso, y_train_lasso)\n",
    "y_pred_vch = voting_classifier_soft.predict(X_test_lasso)"
   ]
  },
  {
   "cell_type": "code",
   "execution_count": 17,
   "metadata": {},
   "outputs": [
    {
     "name": "stdout",
     "output_type": "stream",
     "text": [
      "Training Results: \n",
      "===============================\n",
      "Confusion Matrix:\n",
      "[[1772 1012]\n",
      " [ 574 3542]]\n",
      "Accuracy Score:\n",
      "0.7701\n",
      "Classification Report:\n",
      "              precision    recall  f1-score   support\n",
      "\n",
      "           0       0.76      0.64      0.69      2784\n",
      "           1       0.78      0.86      0.82      4116\n",
      "\n",
      "    accuracy                           0.77      6900\n",
      "   macro avg       0.77      0.75      0.75      6900\n",
      "weighted avg       0.77      0.77      0.77      6900\n",
      "\n",
      "Testing Results: \n",
      "===============================\n",
      "Confusion Matrix:\n",
      "[[1030  905]\n",
      " [ 577 2071]]\n",
      "Accuracy Score:\n",
      "0.6766\n",
      "Classification Report:\n",
      "              precision    recall  f1-score   support\n",
      "\n",
      "           0       0.64      0.53      0.58      1935\n",
      "           1       0.70      0.78      0.74      2648\n",
      "\n",
      "    accuracy                           0.68      4583\n",
      "   macro avg       0.67      0.66      0.66      4583\n",
      "weighted avg       0.67      0.68      0.67      4583\n",
      "\n"
     ]
    }
   ],
   "source": [
    "evaluate(voting_classifier_soft, X_train_lasso, X_test_lasso, y_train_lasso, y_test_lasso)"
   ]
  },
  {
   "cell_type": "markdown",
   "metadata": {},
   "source": [
    "#### SFS Backwards"
   ]
  },
  {
   "cell_type": "code",
   "execution_count": 18,
   "metadata": {},
   "outputs": [],
   "source": [
    "X_train_back_sfs = train_data[['num_possible_outcomes', 'odds_home', 'odds_away', 'HOME_RECORD_home',\n",
    "                     'W_PCT_away', 'W_PCT_prev_away', 'HOME_RECORD_prev_away',\n",
    "                     'ROAD_RECORD_prev_away', 'FT_PCT_home_3g', 'FG3_PCT_home_3g', 'PTS_away_3g',\n",
    "                     'FG_PCT_away_3g', 'FT_PCT_away_3g', 'FG3_PCT_away_3g', 'PTS_home_7g',\n",
    "                     'FG_PCT_home_7g', 'AST_home_7g', 'AST_away_7g', 'REB_away_7g',\n",
    "                     'diff_avg_pts_away', 'diff_avg_ast_home', 'diff_avg_ast_away',\n",
    "                     'diff_avg_fg3_pct_home', 'top_players', 'top_players_visitor', 'eff_visitor',\n",
    "                     'G_7days', 'back2back', 'HG_7days_VISITOR', 'AG_7days_VISITOR',\n",
    "                     'G_7days_VISITOR', 'back2back_visitor', 'home_elo', 'elo_diff',\n",
    "                     'missing_player_diff', 'eff_diff', 'Home_Last_5_Avg_AST_home',\n",
    "                     'Home_Last_5_Avg_REB_home', 'Home_Last_5_Avg_REB_away',\n",
    "                     'Home_Last_5_Avg_FG3_PCT_away', 'Away_Last_5_Avg_PTS_home',\n",
    "                     'Away_Last_5_Avg_FG3_PCT_home', 'Away_Last_5_Avg_AST_home',\n",
    "                     'Away_Last_5_Avg_FT_PCT_away', 'diff_fg3_pct_last_3_games',\n",
    "                     'diff_fg3_pct_last_7_games', 'diff_ft_pct_last_3_games',\n",
    "                     'diff_ast_last_7_games', 'diff_reb_last_3_games',\n",
    "                     'diff_win_pct_3_last_games']]\n",
    "\n",
    "y_train_back_sfs = y_train\n",
    "\n",
    "\n",
    "X_test_back_sfs = test_data[['num_possible_outcomes', 'odds_home', 'odds_away', 'HOME_RECORD_home',\n",
    "                     'W_PCT_away', 'W_PCT_prev_away', 'HOME_RECORD_prev_away',\n",
    "                     'ROAD_RECORD_prev_away', 'FT_PCT_home_3g', 'FG3_PCT_home_3g', 'PTS_away_3g',\n",
    "                     'FG_PCT_away_3g', 'FT_PCT_away_3g', 'FG3_PCT_away_3g', 'PTS_home_7g',\n",
    "                     'FG_PCT_home_7g', 'AST_home_7g', 'AST_away_7g', 'REB_away_7g',\n",
    "                     'diff_avg_pts_away', 'diff_avg_ast_home', 'diff_avg_ast_away',\n",
    "                     'diff_avg_fg3_pct_home', 'top_players', 'top_players_visitor', 'eff_visitor',\n",
    "                     'G_7days', 'back2back', 'HG_7days_VISITOR', 'AG_7days_VISITOR',\n",
    "                     'G_7days_VISITOR', 'back2back_visitor', 'home_elo', 'elo_diff',\n",
    "                     'missing_player_diff', 'eff_diff', 'Home_Last_5_Avg_AST_home',\n",
    "                     'Home_Last_5_Avg_REB_home', 'Home_Last_5_Avg_REB_away',\n",
    "                     'Home_Last_5_Avg_FG3_PCT_away', 'Away_Last_5_Avg_PTS_home',\n",
    "                     'Away_Last_5_Avg_FG3_PCT_home', 'Away_Last_5_Avg_AST_home',\n",
    "                     'Away_Last_5_Avg_FT_PCT_away', 'diff_fg3_pct_last_3_games',\n",
    "                     'diff_fg3_pct_last_7_games', 'diff_ft_pct_last_3_games',\n",
    "                     'diff_ast_last_7_games', 'diff_reb_last_3_games',\n",
    "                     'diff_win_pct_3_last_games']]\n",
    "\n",
    "y_test_back_sfs = y_test"
   ]
  },
  {
   "cell_type": "code",
   "execution_count": 23,
   "metadata": {},
   "outputs": [],
   "source": [
    "# create a voting classifier with hard voting\n",
    "voting_classifier_hard = VotingClassifier(\n",
    "    estimators = [('svm', SVC(random_state=42, C=1, gamma=0.0001, kernel='rbf')),\n",
    "                  ('xgb', xgb.XGBClassifier(gamma=0.0, learning_rate=0.1, max_depth=3, min_child_weight=1, n_estimators=100)),\n",
    "                  ('knn', KNeighborsClassifier(leaf_size=1, n_neighbors=11)),\n",
    "                  ('mlp', MLPClassifier(alpha=1e-05, hidden_layer_sizes=(20, 10, 5), max_iter=250, solver='lbfgs')),\n",
    "                  ('rf', RandomForestClassifier(bootstrap=True, max_depth=8, max_features='sqrt', min_samples_leaf=5, min_samples_split=12, n_estimators=100)),\n",
    "                  ('gnb', GaussianNB())],\n",
    "    voting='hard')\n",
    "\n",
    "\n",
    "# make predictions with the hard voting model\n",
    "voting_classifier_hard.fit(X_train_back_sfs, y_train_back_sfs)\n",
    "y_pred_vch = voting_classifier_hard.predict(X_test_back_sfs)"
   ]
  },
  {
   "cell_type": "code",
   "execution_count": 24,
   "metadata": {},
   "outputs": [
    {
     "name": "stdout",
     "output_type": "stream",
     "text": [
      "Training Results: \n",
      "===============================\n",
      "Confusion Matrix:\n",
      "[[1762 1022]\n",
      " [ 809 3307]]\n",
      "Accuracy Score:\n",
      "0.7346\n",
      "Classification Report:\n",
      "              precision    recall  f1-score   support\n",
      "\n",
      "           0       0.69      0.63      0.66      2784\n",
      "           1       0.76      0.80      0.78      4116\n",
      "\n",
      "    accuracy                           0.73      6900\n",
      "   macro avg       0.72      0.72      0.72      6900\n",
      "weighted avg       0.73      0.73      0.73      6900\n",
      "\n",
      "Testing Results: \n",
      "===============================\n",
      "Confusion Matrix:\n",
      "[[1084  851]\n",
      " [ 683 1965]]\n",
      "Accuracy Score:\n",
      "0.6653\n",
      "Classification Report:\n",
      "              precision    recall  f1-score   support\n",
      "\n",
      "           0       0.61      0.56      0.59      1935\n",
      "           1       0.70      0.74      0.72      2648\n",
      "\n",
      "    accuracy                           0.67      4583\n",
      "   macro avg       0.66      0.65      0.65      4583\n",
      "weighted avg       0.66      0.67      0.66      4583\n",
      "\n"
     ]
    }
   ],
   "source": [
    "evaluate(voting_classifier_hard, X_train_back_sfs, X_test_back_sfs, y_train_back_sfs, y_test_back_sfs)"
   ]
  },
  {
   "cell_type": "code",
   "execution_count": 21,
   "metadata": {},
   "outputs": [],
   "source": [
    "# create a voting classifier with soft voting\n",
    "voting_classifier_soft = VotingClassifier(\n",
    "    estimators = [('svm', SVC(probability=True, random_state=42, C=1, gamma=0.0001, kernel='rbf')),\n",
    "                  ('xgb', xgb.XGBClassifier(gamma=0.0, learning_rate=0.1, max_depth=3, min_child_weight=1, n_estimators=100)),\n",
    "                  ('knn', KNeighborsClassifier(leaf_size=1, n_neighbors=11)),\n",
    "                  ('mlp', MLPClassifier(alpha=1e-05, hidden_layer_sizes=(20, 10, 5), max_iter=250, solver='lbfgs')),\n",
    "                  ('rf', RandomForestClassifier(bootstrap=True, max_depth=8, max_features='sqrt', min_samples_leaf=5, min_samples_split=12, n_estimators=100)),\n",
    "                  ('gnb', GaussianNB())],\n",
    "    voting='soft')\n",
    "\n",
    "\n",
    "# make predictions with the soft voting model\n",
    "voting_classifier_soft.fit(X_train_back_sfs, y_train_back_sfs)\n",
    "y_pred_vch = voting_classifier_soft.predict(X_test_back_sfs)"
   ]
  },
  {
   "cell_type": "code",
   "execution_count": 22,
   "metadata": {},
   "outputs": [
    {
     "name": "stdout",
     "output_type": "stream",
     "text": [
      "Training Results: \n",
      "===============================\n",
      "Confusion Matrix:\n",
      "[[1713 1071]\n",
      " [ 867 3249]]\n",
      "Accuracy Score:\n",
      "0.7191\n",
      "Classification Report:\n",
      "              precision    recall  f1-score   support\n",
      "\n",
      "           0       0.66      0.62      0.64      2784\n",
      "           1       0.75      0.79      0.77      4116\n",
      "\n",
      "    accuracy                           0.72      6900\n",
      "   macro avg       0.71      0.70      0.70      6900\n",
      "weighted avg       0.72      0.72      0.72      6900\n",
      "\n",
      "Testing Results: \n",
      "===============================\n",
      "Confusion Matrix:\n",
      "[[1073  862]\n",
      " [ 674 1974]]\n",
      "Accuracy Score:\n",
      "0.6648\n",
      "Classification Report:\n",
      "              precision    recall  f1-score   support\n",
      "\n",
      "           0       0.61      0.55      0.58      1935\n",
      "           1       0.70      0.75      0.72      2648\n",
      "\n",
      "    accuracy                           0.66      4583\n",
      "   macro avg       0.66      0.65      0.65      4583\n",
      "weighted avg       0.66      0.66      0.66      4583\n",
      "\n"
     ]
    }
   ],
   "source": [
    "evaluate(voting_classifier_soft, X_train_back_sfs, X_test_back_sfs, y_train_back_sfs, y_test_back_sfs)"
   ]
  }
 ],
 "metadata": {
  "interpreter": {
   "hash": "81794d4967e6c3204c66dcd87b604927b115b27c00565d3d43f05ba2f3a2cb0d"
  },
  "kernelspec": {
   "display_name": "Python 3.9.4 64-bit",
   "language": "python",
   "name": "python3"
  },
  "language_info": {
   "codemirror_mode": {
    "name": "ipython",
    "version": 3
   },
   "file_extension": ".py",
   "mimetype": "text/x-python",
   "name": "python",
   "nbconvert_exporter": "python",
   "pygments_lexer": "ipython3",
   "version": "3.9.4"
  },
  "orig_nbformat": 4
 },
 "nbformat": 4,
 "nbformat_minor": 2
}
