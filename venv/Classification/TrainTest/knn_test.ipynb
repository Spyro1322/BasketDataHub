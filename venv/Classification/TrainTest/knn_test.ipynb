{
 "cells": [
  {
   "cell_type": "markdown",
   "metadata": {},
   "source": [
    "# K Nearest Neighbors Classifier"
   ]
  },
  {
   "cell_type": "code",
   "execution_count": 2,
   "metadata": {
    "id": "vgaJyOCo575F"
   },
   "outputs": [],
   "source": [
    "import pandas as pd\n",
    "import numpy as np\n",
    "\n",
    "df = pd.read_csv('../../FeatureEngineering/MetaData/data6_&_odds.csv')\n",
    "df.dropna(inplace=True)"
   ]
  },
  {
   "cell_type": "code",
   "execution_count": 3,
   "metadata": {
    "id": "UkuUIGms6UHt"
   },
   "outputs": [],
   "source": [
    "from sklearn.model_selection import train_test_split, cross_val_score, GridSearchCV\n",
    "from sklearn.metrics import accuracy_score\n",
    "from sklearn.neighbors import KNeighborsClassifier\n",
    "from sklearn.decomposition import PCA\n",
    "from sklearn.metrics import classification_report, confusion_matrix\n",
    "\n",
    "\n",
    "import warnings\n",
    "warnings.filterwarnings('ignore')"
   ]
  },
  {
   "cell_type": "code",
   "execution_count": 4,
   "metadata": {
    "id": "kJfMOqB69XJG"
   },
   "outputs": [],
   "source": [
    "train_data = df.loc[(df.season <= 2013) & (df.season >= 2007)]\n",
    "valid_data = df.loc[(df.season > 2013) & (df.season < 2016)]\n",
    "test_data = df.loc[df.season >= 2016]\n",
    "full_train_data = pd.concat([train_data, valid_data], axis=0)\n",
    "\n",
    "X_train, y_train = train_data.drop(columns=[\"game_date_est\",\"season\",\"game_id\",\"home_team\",\"visitor_team\",\"home_team_id\",\"visitor_team_id\",\"home_team_wins\",\"conference\",\"conference_visitor\"]), train_data.home_team_wins\n",
    "X_val, y_val = valid_data.drop(columns=[\"game_date_est\",\"season\",\"game_id\",\"home_team\",\"visitor_team\",\"home_team_id\",\"visitor_team_id\",\"home_team_wins\",\"conference\",\"conference_visitor\"]), valid_data.home_team_wins\n",
    "X_test, y_test = test_data.drop(columns=[\"game_date_est\",\"season\",\"game_id\",\"home_team\",\"visitor_team\",\"home_team_id\",\"visitor_team_id\",\"home_team_wins\",\"conference\",\"conference_visitor\"]), test_data.home_team_wins\n"
   ]
  },
  {
   "cell_type": "markdown",
   "metadata": {},
   "source": [
    "## kNN with GridSearchCV and PCA"
   ]
  },
  {
   "cell_type": "code",
   "execution_count": 6,
   "metadata": {},
   "outputs": [],
   "source": [
    "# Define a pipeline to search for the best combination of PCA truncation\n",
    "# and classifier regularization.\n",
    "pca = PCA()\n",
    "trainPCA = pca.fit_transform(X_train)\n",
    "testPCA = pca.transform(X_test)"
   ]
  },
  {
   "cell_type": "code",
   "execution_count": 7,
   "metadata": {},
   "outputs": [
    {
     "name": "stdout",
     "output_type": "stream",
     "text": [
      "Συνολικός χρόνος fit και predict: 43.92239594459534 seconds\n",
      "              precision    recall  f1-score   support\n",
      "\n",
      "   home_loss       0.59      0.48      0.53      1935\n",
      "    home_win       0.67      0.76      0.71      2648\n",
      "\n",
      "    accuracy                           0.64      4583\n",
      "   macro avg       0.63      0.62      0.62      4583\n",
      "weighted avg       0.63      0.64      0.63      4583\n",
      "\n",
      "val score: 0.4177685950413223\n",
      "KNeighborsClassifier(leaf_size=1, n_neighbors=13)\n",
      "{'leaf_size': 1, 'n_neighbors': 13}\n",
      "best score: 0.6585507246376812\n",
      "test score 0.6393192232162339\n"
     ]
    }
   ],
   "source": [
    "import time\n",
    "\n",
    "clf = KNeighborsClassifier()\n",
    "# η παράμετρος n_jobs = 1 χρησιμοποιεί όλους τους πυρήνες του υπολογιστή\n",
    "params = {'n_neighbors': np.arange(1, 15),\n",
    "          'leaf_size': list(range(1, 5, 1))}\n",
    "\n",
    "estimator = GridSearchCV(clf, param_grid=params, cv=5, scoring='accuracy', n_jobs=-1)\n",
    "start_time = time.time()\n",
    "estimator.fit(trainPCA, y_train)\n",
    "val_score = estimator.score(X_val, y_val)\n",
    "\n",
    "preds = estimator.predict(testPCA)\n",
    "test_score = estimator.score(testPCA, y_test)\n",
    "\n",
    "target_names = ['home_loss', 'home_win']\n",
    "\n",
    "print(\"Συνολικός χρόνος fit και predict: %s seconds\" % (time.time() - start_time))\n",
    "print(classification_report(y_test, preds, target_names=target_names))\n",
    "print(\"val score:\", val_score)\n",
    "print(estimator.best_estimator_)\n",
    "print(estimator.best_params_)\n",
    "print(\"best score:\", estimator.best_score_)\n",
    "print(\"test score\", test_score)\n",
    "\n"
   ]
  },
  {
   "cell_type": "code",
   "execution_count": 8,
   "metadata": {},
   "outputs": [
    {
     "data": {
      "image/png": "[encoded data removed]",
      "text/plain": [
       "<Figure size 432x288 with 1 Axes>"
      ]
     },
     "metadata": {
      "needs_background": "light"
     },
     "output_type": "display_data"
    }
   ],
   "source": [
    "import matplotlib.pyplot as plt\n",
    "\n",
    "\n",
    "# φτιάχνουμε μια λίστα από το 1 έως το 50\n",
    "myList = list(range(1, 50))\n",
    "# Κρατάμε μόνο τα περιττά k\n",
    "neighbors = list(filter(lambda x: x % 2 != 0, myList))\n",
    "# empty list that will hold cv scores\n",
    "cv_scores = []\n",
    "# perform 5-fold cross validation\n",
    "for k in neighbors:\n",
    "    knn = KNeighborsClassifier(n_neighbors=k)\n",
    "    scores = cross_val_score(knn, trainPCA, y_train, cv=5, scoring='accuracy')\n",
    "    cv_scores.append(scores.mean())\n",
    "\n",
    "# το σφάλμα είναι το αντίστροφο της πιστότητας\n",
    "mean_error = [1 - x for x in cv_scores]\n",
    "\n",
    "# plot misclassification error vs k\n",
    "plt.plot(neighbors, mean_error)\n",
    "plt.xlabel('Number of Neighbors K')\n",
    "plt.ylabel('Misclassification Error')\n",
    "plt.show()\n"
   ]
  },
  {
   "cell_type": "code",
   "execution_count": 9,
   "metadata": {},
   "outputs": [
    {
     "name": "stdout",
     "output_type": "stream",
     "text": [
      "The optimal number of neighbors (calculated in the training set) is 47\n",
      "\n",
      "Optimal accuracy on the test set is 0.6561204451232817 with k= 47\n"
     ]
    }
   ],
   "source": [
    "# determining best k\n",
    "optimal_k = neighbors[mean_error.index(min(mean_error))]\n",
    "print(\"The optimal number of neighbors (calculated in the training set) is %d\" % optimal_k)\n",
    "\n",
    "# για το optimal k παίρνουμε και τα αποτέλεσματα στο test set\n",
    "knn = KNeighborsClassifier(n_neighbors = optimal_k)\n",
    "knn.fit(trainPCA, y_train)\n",
    "pred = knn.predict(testPCA)\n",
    "print(\"\\nOptimal accuracy on the test set is\", accuracy_score(y_test, pred), \"with k=\", optimal_k)"
   ]
  },
  {
   "cell_type": "markdown",
   "metadata": {
    "id": "HekQfUDnD978"
   },
   "source": [
    "## Use of StandardScaler"
   ]
  },
  {
   "cell_type": "code",
   "execution_count": 66,
   "metadata": {
    "executionInfo": {
     "elapsed": 273,
     "status": "ok",
     "timestamp": 1642158757119,
     "user": {
      "displayName": "Spiros armeniakos",
      "photoUrl": "https://lh3.googleusercontent.com/a/default-user=s64",
      "userId": "15384621728629897673"
     },
     "user_tz": -120
    },
    "id": "eJJR1iWGDOHW"
   },
   "outputs": [],
   "source": [
    "from sklearn.preprocessing import StandardScaler\n",
    "\n",
    "# Scaling features\n",
    "scaler = StandardScaler()\n",
    "X_train_standard = scaler.fit_transform(X_train)\n",
    "X_val_standard = scaler.transform(X_val)\n",
    "X_test_standard = scaler.transform(X_test)"
   ]
  },
  {
   "cell_type": "code",
   "execution_count": 67,
   "metadata": {
    "colab": {
     "base_uri": "https://localhost:8080/"
    },
    "executionInfo": {
     "elapsed": 2171,
     "status": "ok",
     "timestamp": 1642158761810,
     "user": {
      "displayName": "Spiros armeniakos",
      "photoUrl": "https://lh3.googleusercontent.com/a/default-user=s64",
      "userId": "15384621728629897673"
     },
     "user_tz": -120
    },
    "id": "NgcvgJg5EaY_",
    "outputId": "f97559d2-1103-4909-ce91-c55361db16dd"
   },
   "outputs": [
    {
     "name": "stdout",
     "output_type": "stream",
     "text": [
      "Συνολικός χρόνος fit και predict: 37.021156549453735 seconds\n",
      "              precision    recall  f1-score   support\n",
      "\n",
      "   home_loss       0.57      0.53      0.55      1935\n",
      "    home_win       0.67      0.70      0.69      2648\n",
      "\n",
      "    accuracy                           0.63      4583\n",
      "   macro avg       0.62      0.62      0.62      4583\n",
      "weighted avg       0.63      0.63      0.63      4583\n",
      "\n",
      "val score: 0.6541322314049587\n",
      "KNeighborsClassifier(leaf_size=1, n_neighbors=14)\n",
      "{'leaf_size': 1, 'n_neighbors': 14}\n",
      "best score: 0.6553623188405797\n",
      "test score 0.6295003272965306\n"
     ]
    }
   ],
   "source": [
    "import time\n",
    "\n",
    "clf = KNeighborsClassifier()\n",
    "# η παράμετρος n_jobs = 1 χρησιμοποιεί όλους τους πυρήνες του υπολογιστή\n",
    "params = {'n_neighbors': np.arange(1, 15),\n",
    "          'leaf_size': list(range(1, 5, 1))}\n",
    "\n",
    "estimator = GridSearchCV(clf, param_grid=params, cv=5, scoring='accuracy', n_jobs=-1)\n",
    "start_time = time.time()\n",
    "estimator.fit(X_train_standard, y_train)\n",
    "val_score = estimator.score(X_val_standard, y_val)\n",
    "\n",
    "preds = estimator.predict(X_test_standard)\n",
    "test_score = estimator.score(X_test_standard, y_test)\n",
    "\n",
    "target_names = ['home_loss', 'home_win']\n",
    "\n",
    "print(\"Συνολικός χρόνος fit και predict: %s seconds\" % (time.time() - start_time))\n",
    "print(classification_report(y_test, preds, target_names=target_names))\n",
    "print(\"val score:\", val_score)\n",
    "print(estimator.best_estimator_)\n",
    "print(estimator.best_params_)\n",
    "print(\"best score:\", estimator.best_score_)\n",
    "print(\"test score\", test_score)\n",
    "\n"
   ]
  },
  {
   "cell_type": "code",
   "execution_count": 68,
   "metadata": {
    "colab": {
     "base_uri": "https://localhost:8080/",
     "height": 279
    },
    "executionInfo": {
     "elapsed": 1429,
     "status": "ok",
     "timestamp": 1642158767957,
     "user": {
      "displayName": "Spiros armeniakos",
      "photoUrl": "https://lh3.googleusercontent.com/a/default-user=s64",
      "userId": "15384621728629897673"
     },
     "user_tz": -120
    },
    "id": "nE7J8LSaNZTT",
    "outputId": "4daf84a0-f9b4-4495-a35b-f985a93aedd8"
   },
   "outputs": [
    {
     "data": {
      "image/png": "[encoded data removed]",
      "text/plain": [
       "<Figure size 432x288 with 1 Axes>"
      ]
     },
     "metadata": {
      "needs_background": "light"
     },
     "output_type": "display_data"
    }
   ],
   "source": [
    "import matplotlib.pyplot as plt\n",
    "\n",
    "\n",
    "# φτιάχνουμε μια λίστα από το 1 έως το 50\n",
    "myList = list(range(1, 50))\n",
    "# Κρατάμε μόνο τα περιττά k\n",
    "neighbors = list(filter(lambda x: x % 2 != 0, myList))\n",
    "# empty list that will hold cv scores\n",
    "cv_scores = []\n",
    "# perform 5-fold cross validation\n",
    "for k in neighbors:\n",
    "    knn = KNeighborsClassifier(n_neighbors=k)\n",
    "    scores = cross_val_score(knn, X_train_standard, y_train, cv=5, scoring='accuracy')\n",
    "    cv_scores.append(scores.mean())\n",
    "\n",
    "# το σφάλμα είναι το αντίστροφο της πιστότητας\n",
    "mean_error = [1 - x for x in cv_scores]\n",
    "\n",
    "# plot misclassification error vs k\n",
    "plt.plot(neighbors, mean_error)\n",
    "plt.xlabel('Number of Neighbors K')\n",
    "plt.ylabel('Misclassification Error')\n",
    "plt.show()\n"
   ]
  },
  {
   "cell_type": "code",
   "execution_count": 69,
   "metadata": {
    "colab": {
     "base_uri": "https://localhost:8080/"
    },
    "executionInfo": {
     "elapsed": 622,
     "status": "ok",
     "timestamp": 1642158773056,
     "user": {
      "displayName": "Spiros armeniakos",
      "photoUrl": "https://lh3.googleusercontent.com/a/default-user=s64",
      "userId": "15384621728629897673"
     },
     "user_tz": -120
    },
    "id": "SxybmqeuEl-D",
    "outputId": "79c2e110-7661-4d77-a6c9-2fc1b98b5494"
   },
   "outputs": [
    {
     "name": "stdout",
     "output_type": "stream",
     "text": [
      "The optimal number of neighbors (calculated in the training set) is 47\n",
      "\n",
      "Optimal accuracy on the test set is 0.6585206196814314 with k= 47\n"
     ]
    }
   ],
   "source": [
    "# determining best k\n",
    "optimal_k = neighbors[mean_error.index(min(mean_error))]\n",
    "print(\"The optimal number of neighbors (calculated in the training set) is %d\" % optimal_k)\n",
    "\n",
    "# για το optimal k παίρνουμε και τα αποτέλεσματα στο test set\n",
    "knn = KNeighborsClassifier(n_neighbors = optimal_k)\n",
    "knn.fit(X_train_standard, y_train)\n",
    "pred = knn.predict(X_test_standard)\n",
    "print(\"\\nOptimal accuracy on the test set is\", accuracy_score(y_test, pred), \"with k=\", optimal_k)"
   ]
  },
  {
   "cell_type": "markdown",
   "metadata": {},
   "source": [
    "## kNN with ExtraTress Classifier"
   ]
  },
  {
   "cell_type": "code",
   "execution_count": 21,
   "metadata": {},
   "outputs": [],
   "source": [
    "X_train_extra = train_data[['odds_home', 'odds_away', 'home_elo', 'visitor_elo', 'elo_diff',\n",
    "                    'eff_diff', 'eff_visitor', 'top_player_diff', 'diff_win_pct_prev_season',\n",
    "                    'diff_home_record_last_season', 'ROAD_RECORD_home',\n",
    "                    'diff_road_record_last_season', 'diff_win_pct_7_last_games', 'W_PCT_home',\n",
    "                    'W_PCT_away', 'W_PCT_prev_away', 'diff_curr_away_record', 'HOME_RECORD_home', 'diff_curr_home_record',\n",
    "                    'diff_curr_win_pct']]\n",
    "y_train_extra = y_train\n",
    "\n",
    "X_val_extra = valid_data[['odds_home', 'odds_away', 'home_elo', 'visitor_elo', 'elo_diff',\n",
    "                    'eff_diff', 'eff_visitor', 'top_player_diff', 'diff_win_pct_prev_season',\n",
    "                    'diff_home_record_last_season', 'ROAD_RECORD_home',\n",
    "                    'diff_road_record_last_season', 'diff_win_pct_7_last_games', 'W_PCT_home',\n",
    "                    'W_PCT_away', 'W_PCT_prev_away', 'diff_curr_away_record', 'HOME_RECORD_home', 'diff_curr_home_record',\n",
    "                    'diff_curr_win_pct']]\n",
    "\n",
    "y_val_extra = y_val\n",
    "\n",
    "X_test_extra = test_data[['odds_home', 'odds_away', 'home_elo', 'visitor_elo', 'elo_diff',\n",
    "                    'eff_diff', 'eff_visitor', 'top_player_diff', 'diff_win_pct_prev_season',\n",
    "                    'diff_home_record_last_season', 'ROAD_RECORD_home',\n",
    "                    'diff_road_record_last_season', 'diff_win_pct_7_last_games', 'W_PCT_home',\n",
    "                    'W_PCT_away', 'W_PCT_prev_away', 'diff_curr_away_record', 'HOME_RECORD_home', 'diff_curr_home_record',\n",
    "                    'diff_curr_win_pct']]\n",
    "y_test_extra = y_test"
   ]
  },
  {
   "cell_type": "code",
   "execution_count": 22,
   "metadata": {},
   "outputs": [
    {
     "name": "stdout",
     "output_type": "stream",
     "text": [
      "Συνολικός χρόνος fit και predict: 38.925517320632935 seconds\n",
      "              precision    recall  f1-score   support\n",
      "\n",
      "   home_loss       0.59      0.47      0.52      1935\n",
      "    home_win       0.66      0.76      0.71      2648\n",
      "\n",
      "    accuracy                           0.64      4583\n",
      "   macro avg       0.63      0.62      0.62      4583\n",
      "weighted avg       0.63      0.64      0.63      4583\n",
      "\n",
      "val score: 0.6727272727272727\n",
      "KNeighborsClassifier(leaf_size=1, n_neighbors=13)\n",
      "{'leaf_size': 1, 'n_neighbors': 13}\n",
      "best score: 0.6565217391304347\n",
      "test score 0.6377918394065023\n"
     ]
    }
   ],
   "source": [
    "import time\n",
    "\n",
    "# Split Data to Train and Validation\n",
    "\n",
    "clf = KNeighborsClassifier()\n",
    "# η παράμετρος n_jobs = 1 χρησιμοποιεί όλους τους πυρήνες του υπολογιστή\n",
    "params = {'n_neighbors': np.arange(1, 15),\n",
    "          'leaf_size': list(range(1, 5, 1))}\n",
    "\n",
    "estimator = GridSearchCV(clf, param_grid=params, cv=5, scoring='accuracy', n_jobs=-1)\n",
    "start_time = time.time()\n",
    "estimator.fit(X_train_extra, y_train_extra)\n",
    "val_score = estimator.score(X_val_extra, y_val_extra)\n",
    "\n",
    "preds = estimator.predict(X_test_extra)\n",
    "test_score = estimator.score(X_test_extra, y_test_extra)\n",
    "\n",
    "target_names = ['home_loss', 'home_win']\n",
    "\n",
    "print(\"Συνολικός χρόνος fit και predict: %s seconds\" % (time.time() - start_time))\n",
    "print(classification_report(y_test_extra, preds, target_names=target_names))\n",
    "print(\"val score:\", val_score)\n",
    "print(estimator.best_estimator_)\n",
    "print(estimator.best_params_)\n",
    "print(\"best score:\", estimator.best_score_)\n",
    "print(\"test score\", test_score)"
   ]
  },
  {
   "cell_type": "code",
   "execution_count": 23,
   "metadata": {},
   "outputs": [
    {
     "data": {
      "image/png": "[encoded data removed]",
      "text/plain": [
       "<Figure size 432x288 with 1 Axes>"
      ]
     },
     "metadata": {
      "needs_background": "light"
     },
     "output_type": "display_data"
    }
   ],
   "source": [
    "import matplotlib.pyplot as plt\n",
    "\n",
    "\n",
    "# φτιάχνουμε μια λίστα από το 1 έως το 50\n",
    "myList = list(range(1, 50))\n",
    "# Κρατάμε μόνο τα περιττά k\n",
    "neighbors = list(filter(lambda x: x % 2 != 0, myList))\n",
    "# empty list that will hold cv scores\n",
    "cv_scores = []\n",
    "# perform 5-fold cross validation\n",
    "for k in neighbors:\n",
    "    knn = KNeighborsClassifier(n_neighbors=k)\n",
    "    scores = cross_val_score(knn, X_train_extra, y_train_extra, cv=5, scoring='accuracy')\n",
    "    cv_scores.append(scores.mean())\n",
    "\n",
    "# το σφάλμα είναι το αντίστροφο της πιστότητας\n",
    "mean_error = [1 - x for x in cv_scores]\n",
    "\n",
    "# plot misclassification error vs k\n",
    "plt.plot(neighbors, mean_error)\n",
    "plt.xlabel('Number of Neighbors K')\n",
    "plt.ylabel('Misclassification Error')\n",
    "plt.show()\n"
   ]
  },
  {
   "cell_type": "code",
   "execution_count": 24,
   "metadata": {},
   "outputs": [
    {
     "name": "stdout",
     "output_type": "stream",
     "text": [
      "The optimal number of neighbors (calculated in the training set) is 49\n",
      "\n",
      "Optimal accuracy on the test set is 0.6545930613135501 with k= 49\n"
     ]
    }
   ],
   "source": [
    "# determining best k\n",
    "optimal_k = neighbors[mean_error.index(min(mean_error))]\n",
    "print(\"The optimal number of neighbors (calculated in the training set) is %d\" % optimal_k)\n",
    "\n",
    "# για το optimal k παίρνουμε και τα αποτέλεσματα στο test set\n",
    "knn = KNeighborsClassifier(n_neighbors = optimal_k)\n",
    "knn.fit(X_train_extra, y_train_extra)\n",
    "pred = knn.predict(X_test_extra)\n",
    "print(\"\\nOptimal accuracy on the test set is\", accuracy_score(y_test_extra, pred), \"with k=\", optimal_k)"
   ]
  },
  {
   "cell_type": "markdown",
   "metadata": {},
   "source": [
    "## kNN with RFE"
   ]
  },
  {
   "cell_type": "code",
   "execution_count": 25,
   "metadata": {},
   "outputs": [],
   "source": [
    "X_train_rfe = train_data[['num_possible_outcomes', 'odds_home', 'odds_away', 'W_PCT_home',\n",
    "            'HOME_RECORD_home', 'ROAD_RECORD_home', 'ROAD_RECORD_away',\n",
    "            'WIN_PRCT_home_3g', 'PTS_home_3g', 'REB_home_3g', 'WIN_PRCT_away_3g',\n",
    "            'AST_away_3g', 'REB_away_3g', 'PTS_home_7g', 'AST_home_7g',\n",
    "            'REB_home_7g', 'AST_away_7g', 'diff_avg_pts_home', 'diff_avg_ast_home',\n",
    "            'diff_avg_ast_away', 'diff_avg_fg3_pct_home', 'diff_avg_reb_home',\n",
    "            'diff_avg_reb_away', 'top_players', 'eff_visitor', 'HG_7days',\n",
    "            'AG_7days', 'G_7days', 'back2back', 'HG_7days_VISITOR',\n",
    "            'G_7days_VISITOR', 'back2back_visitor', 'missing_players',\n",
    "            'missing_players_visitor', 'home_elo', 'visitor_elo', 'elo_diff',\n",
    "            'top_player_diff', 'missing_player_diff', 'eff_diff', 'month',\n",
    "            'Home_Last_5_Avg_AST_home', 'Home_Last_5_Avg_REB_home',\n",
    "            'Home_Last_5_Avg_PTS_away', 'Home_Last_5_Avg_REB_away',\n",
    "            'Home_Last_5_Avg_AST_away', 'Away_Last_5_Avg_FG3_PCT_home',\n",
    "            'Away_Last_5_Avg_AST_home', 'Away_Last_5_Avg_PTS_away',\n",
    "            'Away_Last_5_Avg_FT_PCT_away', 'Away_Last_5_Avg_AST_away',\n",
    "            'diff_ast_last_3_games', 'diff_ast_last_7_games',\n",
    "            'diff_reb_last_3_games', 'diff_reb_last_7_games',\n",
    "            'diff_win_pct_3_last_games', 'diff_curr_win_pct',\n",
    "            'diff_curr_home_record', 'diff_curr_away_record']]\n",
    "\n",
    "y_train_rfe = y_train\n",
    "\n",
    "X_val_rfe = valid_data[['num_possible_outcomes', 'odds_home', 'odds_away', 'W_PCT_home',\n",
    "            'HOME_RECORD_home', 'ROAD_RECORD_home', 'ROAD_RECORD_away',\n",
    "            'WIN_PRCT_home_3g', 'PTS_home_3g', 'REB_home_3g', 'WIN_PRCT_away_3g',\n",
    "            'AST_away_3g', 'REB_away_3g', 'PTS_home_7g', 'AST_home_7g',\n",
    "            'REB_home_7g', 'AST_away_7g', 'diff_avg_pts_home', 'diff_avg_ast_home',\n",
    "            'diff_avg_ast_away', 'diff_avg_fg3_pct_home', 'diff_avg_reb_home',\n",
    "            'diff_avg_reb_away', 'top_players', 'eff_visitor', 'HG_7days',\n",
    "            'AG_7days', 'G_7days', 'back2back', 'HG_7days_VISITOR',\n",
    "            'G_7days_VISITOR', 'back2back_visitor', 'missing_players',\n",
    "            'missing_players_visitor', 'home_elo', 'visitor_elo', 'elo_diff',\n",
    "            'top_player_diff', 'missing_player_diff', 'eff_diff', 'month',\n",
    "            'Home_Last_5_Avg_AST_home', 'Home_Last_5_Avg_REB_home',\n",
    "            'Home_Last_5_Avg_PTS_away', 'Home_Last_5_Avg_REB_away',\n",
    "            'Home_Last_5_Avg_AST_away', 'Away_Last_5_Avg_FG3_PCT_home',\n",
    "            'Away_Last_5_Avg_AST_home', 'Away_Last_5_Avg_PTS_away',\n",
    "            'Away_Last_5_Avg_FT_PCT_away', 'Away_Last_5_Avg_AST_away',\n",
    "            'diff_ast_last_3_games', 'diff_ast_last_7_games',\n",
    "            'diff_reb_last_3_games', 'diff_reb_last_7_games',\n",
    "            'diff_win_pct_3_last_games', 'diff_curr_win_pct',\n",
    "            'diff_curr_home_record', 'diff_curr_away_record']]\n",
    "\n",
    "y_val_rfe = y_val\n",
    "\n",
    "X_test_rfe = test_data[['num_possible_outcomes', 'odds_home', 'odds_away', 'W_PCT_home',\n",
    "            'HOME_RECORD_home', 'ROAD_RECORD_home', 'ROAD_RECORD_away',\n",
    "            'WIN_PRCT_home_3g', 'PTS_home_3g', 'REB_home_3g', 'WIN_PRCT_away_3g',\n",
    "            'AST_away_3g', 'REB_away_3g', 'PTS_home_7g', 'AST_home_7g',\n",
    "            'REB_home_7g', 'AST_away_7g', 'diff_avg_pts_home', 'diff_avg_ast_home',\n",
    "            'diff_avg_ast_away', 'diff_avg_fg3_pct_home', 'diff_avg_reb_home',\n",
    "            'diff_avg_reb_away', 'top_players', 'eff_visitor', 'HG_7days',\n",
    "            'AG_7days', 'G_7days', 'back2back', 'HG_7days_VISITOR',\n",
    "            'G_7days_VISITOR', 'back2back_visitor', 'missing_players',\n",
    "            'missing_players_visitor', 'home_elo', 'visitor_elo', 'elo_diff',\n",
    "            'top_player_diff', 'missing_player_diff', 'eff_diff', 'month',\n",
    "            'Home_Last_5_Avg_AST_home', 'Home_Last_5_Avg_REB_home',\n",
    "            'Home_Last_5_Avg_PTS_away', 'Home_Last_5_Avg_REB_away',\n",
    "            'Home_Last_5_Avg_AST_away', 'Away_Last_5_Avg_FG3_PCT_home',\n",
    "            'Away_Last_5_Avg_AST_home', 'Away_Last_5_Avg_PTS_away',\n",
    "            'Away_Last_5_Avg_FT_PCT_away', 'Away_Last_5_Avg_AST_away',\n",
    "            'diff_ast_last_3_games', 'diff_ast_last_7_games',\n",
    "            'diff_reb_last_3_games', 'diff_reb_last_7_games',\n",
    "            'diff_win_pct_3_last_games', 'diff_curr_win_pct',\n",
    "            'diff_curr_home_record', 'diff_curr_away_record']]\n",
    "\n",
    "y_test_rfe = y_test"
   ]
  },
  {
   "cell_type": "code",
   "execution_count": 26,
   "metadata": {},
   "outputs": [
    {
     "name": "stdout",
     "output_type": "stream",
     "text": [
      "Συνολικός χρόνος fit και predict: 38.84355020523071 seconds\n",
      "              precision    recall  f1-score   support\n",
      "\n",
      "   home_loss       0.59      0.48      0.53      1935\n",
      "    home_win       0.67      0.75      0.71      2648\n",
      "\n",
      "    accuracy                           0.64      4583\n",
      "   macro avg       0.63      0.62      0.62      4583\n",
      "weighted avg       0.63      0.64      0.63      4583\n",
      "\n",
      "val score: 0.6661157024793388\n",
      "KNeighborsClassifier(leaf_size=1, n_neighbors=11)\n",
      "{'leaf_size': 1, 'n_neighbors': 11}\n",
      "best score: 0.6560869565217391\n",
      "test score 0.6386646301549204\n"
     ]
    }
   ],
   "source": [
    "import time\n",
    "\n",
    "# Split Data to Train and Validation\n",
    "\n",
    "clf = KNeighborsClassifier()\n",
    "# η παράμετρος n_jobs = 1 χρησιμοποιεί όλους τους πυρήνες του υπολογιστή\n",
    "params = {'n_neighbors': np.arange(1, 15),\n",
    "          'leaf_size': list(range(1, 5, 1))}\n",
    "\n",
    "estimator = GridSearchCV(clf, param_grid=params, cv=5, scoring='accuracy', n_jobs=-1)\n",
    "start_time = time.time()\n",
    "estimator.fit(X_train_rfe, y_train_rfe)\n",
    "val_score = estimator.score(X_val_rfe, y_val_rfe)\n",
    "\n",
    "preds = estimator.predict(X_test_rfe)\n",
    "test_score = estimator.score(X_test_rfe, y_test_rfe)\n",
    "\n",
    "target_names = ['home_loss', 'home_win']\n",
    "\n",
    "print(\"Συνολικός χρόνος fit και predict: %s seconds\" % (time.time() - start_time))\n",
    "print(classification_report(y_test_rfe, preds, target_names=target_names))\n",
    "print(\"val score:\", val_score)\n",
    "print(estimator.best_estimator_)\n",
    "print(estimator.best_params_)\n",
    "print(\"best score:\", estimator.best_score_)\n",
    "print(\"test score\", test_score)"
   ]
  },
  {
   "cell_type": "code",
   "execution_count": 28,
   "metadata": {},
   "outputs": [
    {
     "name": "stdout",
     "output_type": "stream",
     "text": [
      "The optimal number of neighbors (calculated in the training set) is 49\n",
      "\n",
      "Optimal accuracy on the test set is 0.6585206196814314 with k= 49\n"
     ]
    }
   ],
   "source": [
    "# determining best k\n",
    "optimal_k = neighbors[mean_error.index(min(mean_error))]\n",
    "print(\"The optimal number of neighbors (calculated in the training set) is %d\" % optimal_k)\n",
    "\n",
    "# για το optimal k παίρνουμε και τα αποτέλεσματα στο test set\n",
    "knn = KNeighborsClassifier(n_neighbors = optimal_k)\n",
    "knn.fit(X_train_rfe, y_train_rfe)\n",
    "pred = knn.predict(X_test_rfe)\n",
    "print(\"\\nOptimal accuracy on the test set is\", accuracy_score(y_test_rfe, pred), \"with k=\", optimal_k)"
   ]
  }
 ],
 "metadata": {
  "colab": {
   "authorship_tag": "ABX9TyNheBfPqYTBZBpvKUEp+tMK",
   "collapsed_sections": [],
   "name": "knn.ipynb",
   "provenance": [],
   "toc_visible": true
  },
  "kernelspec": {
   "display_name": "Python 3.9.4 64-bit",
   "language": "python",
   "name": "python3"
  },
  "language_info": {
   "codemirror_mode": {
    "name": "ipython",
    "version": 3
   },
   "file_extension": ".py",
   "mimetype": "text/x-python",
   "name": "python",
   "nbconvert_exporter": "python",
   "pygments_lexer": "ipython3",
   "version": "3.9.4"
  },
  "vscode": {
   "interpreter": {
    "hash": "81794d4967e6c3204c66dcd87b604927b115b27c00565d3d43f05ba2f3a2cb0d"
   }
  }
 },
 "nbformat": 4,
 "nbformat_minor": 1
}
