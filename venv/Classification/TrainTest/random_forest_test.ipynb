{
  "cells": [
    {
      "cell_type": "markdown",
      "metadata": {},
      "source": [
        "## Random Forest Classifier"
      ]
    },
    {
      "cell_type": "code",
      "execution_count": 2,
      "metadata": {
        "id": "0wJOBWwtD342"
      },
      "outputs": [],
      "source": [
        "# Importing libraries\n",
        "import time\n",
        "import warnings\n",
        "\n",
        "import numpy as np\n",
        "import pandas as pd\n",
        "import matplotlib.pyplot as plt\n",
        "import seaborn as sns\n",
        "\n",
        "from sklearn.ensemble import RandomForestClassifier\n",
        "from sklearn.model_selection import train_test_split, GridSearchCV\n",
        "from sklearn.metrics import classification_report"
      ]
    },
    {
      "cell_type": "code",
      "execution_count": 3,
      "metadata": {
        "id": "Wzt5T0VxD8eb"
      },
      "outputs": [],
      "source": [
        "warnings.filterwarnings('ignore')"
      ]
    },
    {
      "cell_type": "code",
      "execution_count": 4,
      "metadata": {
        "id": "PMHS8bRuEBFc"
      },
      "outputs": [],
      "source": [
        "df = pd.read_csv('../../FeatureEngineering/MetaData/data6_&_odds.csv')\n",
        "df.dropna(inplace=True)"
      ]
    },
    {
      "cell_type": "code",
      "execution_count": 5,
      "metadata": {
        "id": "hSEe6pO5EMfW"
      },
      "outputs": [],
      "source": [
        "train_data = df.loc[(df.season <= 2013) & (df.season >= 2007)]\n",
        "valid_data = df.loc[(df.season > 2013) & (df.season < 2016)]\n",
        "test_data = df.loc[df.season >= 2016]\n",
        "full_train_data = pd.concat([train_data, valid_data], axis=0)\n",
        "\n",
        "X, y = train_data.drop(columns=['home_team_wins']), train_data.home_team_wins\n",
        "valid_X, valid_y = valid_data.drop(columns=['home_team_wins']), valid_data.home_team_wins\n",
        "test_X, test_y = test_data.drop(columns=['home_team_wins']), test_data.home_team_wins\n",
        "\n",
        "# Split our data\n",
        "X_train, y_train = train_data.drop(columns=[\"game_date_est\",\"season\",\"game_id\",\"home_team\",\"visitor_team\",\"home_team_id\",\"visitor_team_id\",\"home_team_wins\",\"conference\",\"conference_visitor\"]), train_data.home_team_wins\n",
        "X_val, y_val = valid_data.drop(columns=[\"game_date_est\",\"season\",\"game_id\",\"home_team\",\"visitor_team\",\"home_team_id\",\"visitor_team_id\",\"home_team_wins\",\"conference\",\"conference_visitor\"]), valid_data.home_team_wins\n",
        "X_test, y_test = test_data.drop(columns=[\"game_date_est\",\"season\",\"game_id\",\"home_team\",\"visitor_team\",\"home_team_id\",\"visitor_team_id\",\"home_team_wins\",\"conference\",\"conference_visitor\"]), test_data.home_team_wins\n"
      ]
    },
    {
      "cell_type": "markdown",
      "metadata": {},
      "source": [
        "### Simple RF Classifier with GridSearchCV"
      ]
    },
    {
      "cell_type": "code",
      "execution_count": 6,
      "metadata": {
        "colab": {
          "base_uri": "https://localhost:8080/"
        },
        "id": "cgEGsYI3EXBN",
        "outputId": "7765094f-bffa-4e6f-cff2-d687a01aa4f0"
      },
      "outputs": [
        {
          "ename": "KeyboardInterrupt",
          "evalue": "",
          "output_type": "error",
          "traceback": [
            "\u001b[1;31m---------------------------------------------------------------------------\u001b[0m",
            "\u001b[1;31mKeyboardInterrupt\u001b[0m                         Traceback (most recent call last)",
            "\u001b[1;32mc:\\Users\\spira\\OneDrive\\Documents\\GitHub\\BasketDataHub\\venv\\Classification\\TrainTest\\random_forest_test.ipynb Cell 7'\u001b[0m in \u001b[0;36m<cell line: 16>\u001b[1;34m()\u001b[0m\n\u001b[0;32m     <a href='vscode-notebook-cell:/c%3A/Users/spira/OneDrive/Documents/GitHub/BasketDataHub/venv/Classification/TrainTest/random_forest_test.ipynb#ch0000006?line=13'>14</a>\u001b[0m grid \u001b[39m=\u001b[39m GridSearchCV(model_first_split, param_grid, cv\u001b[39m=\u001b[39m\u001b[39m5\u001b[39m, scoring\u001b[39m=\u001b[39m\u001b[39m'\u001b[39m\u001b[39maccuracy\u001b[39m\u001b[39m'\u001b[39m, n_jobs\u001b[39m=\u001b[39m\u001b[39m-\u001b[39m\u001b[39m1\u001b[39m)\n\u001b[0;32m     <a href='vscode-notebook-cell:/c%3A/Users/spira/OneDrive/Documents/GitHub/BasketDataHub/venv/Classification/TrainTest/random_forest_test.ipynb#ch0000006?line=14'>15</a>\u001b[0m start_time \u001b[39m=\u001b[39m time\u001b[39m.\u001b[39mtime()\n\u001b[1;32m---> <a href='vscode-notebook-cell:/c%3A/Users/spira/OneDrive/Documents/GitHub/BasketDataHub/venv/Classification/TrainTest/random_forest_test.ipynb#ch0000006?line=15'>16</a>\u001b[0m grid\u001b[39m.\u001b[39;49mfit(X_train, y_train)\n",
            "File \u001b[1;32mC:\\Python39\\lib\\site-packages\\sklearn\\model_selection\\_search.py:891\u001b[0m, in \u001b[0;36mBaseSearchCV.fit\u001b[1;34m(self, X, y, groups, **fit_params)\u001b[0m\n\u001b[0;32m    <a href='file:///c%3A/Python39/lib/site-packages/sklearn/model_selection/_search.py?line=884'>885</a>\u001b[0m     results \u001b[39m=\u001b[39m \u001b[39mself\u001b[39m\u001b[39m.\u001b[39m_format_results(\n\u001b[0;32m    <a href='file:///c%3A/Python39/lib/site-packages/sklearn/model_selection/_search.py?line=885'>886</a>\u001b[0m         all_candidate_params, n_splits, all_out, all_more_results\n\u001b[0;32m    <a href='file:///c%3A/Python39/lib/site-packages/sklearn/model_selection/_search.py?line=886'>887</a>\u001b[0m     )\n\u001b[0;32m    <a href='file:///c%3A/Python39/lib/site-packages/sklearn/model_selection/_search.py?line=888'>889</a>\u001b[0m     \u001b[39mreturn\u001b[39;00m results\n\u001b[1;32m--> <a href='file:///c%3A/Python39/lib/site-packages/sklearn/model_selection/_search.py?line=890'>891</a>\u001b[0m \u001b[39mself\u001b[39;49m\u001b[39m.\u001b[39;49m_run_search(evaluate_candidates)\n\u001b[0;32m    <a href='file:///c%3A/Python39/lib/site-packages/sklearn/model_selection/_search.py?line=892'>893</a>\u001b[0m \u001b[39m# multimetric is determined here because in the case of a callable\u001b[39;00m\n\u001b[0;32m    <a href='file:///c%3A/Python39/lib/site-packages/sklearn/model_selection/_search.py?line=893'>894</a>\u001b[0m \u001b[39m# self.scoring the return type is only known after calling\u001b[39;00m\n\u001b[0;32m    <a href='file:///c%3A/Python39/lib/site-packages/sklearn/model_selection/_search.py?line=894'>895</a>\u001b[0m first_test_score \u001b[39m=\u001b[39m all_out[\u001b[39m0\u001b[39m][\u001b[39m\"\u001b[39m\u001b[39mtest_scores\u001b[39m\u001b[39m\"\u001b[39m]\n",
            "File \u001b[1;32mC:\\Python39\\lib\\site-packages\\sklearn\\model_selection\\_search.py:1392\u001b[0m, in \u001b[0;36mGridSearchCV._run_search\u001b[1;34m(self, evaluate_candidates)\u001b[0m\n\u001b[0;32m   <a href='file:///c%3A/Python39/lib/site-packages/sklearn/model_selection/_search.py?line=1389'>1390</a>\u001b[0m \u001b[39mdef\u001b[39;00m \u001b[39m_run_search\u001b[39m(\u001b[39mself\u001b[39m, evaluate_candidates):\n\u001b[0;32m   <a href='file:///c%3A/Python39/lib/site-packages/sklearn/model_selection/_search.py?line=1390'>1391</a>\u001b[0m     \u001b[39m\"\"\"Search all candidates in param_grid\"\"\"\u001b[39;00m\n\u001b[1;32m-> <a href='file:///c%3A/Python39/lib/site-packages/sklearn/model_selection/_search.py?line=1391'>1392</a>\u001b[0m     evaluate_candidates(ParameterGrid(\u001b[39mself\u001b[39;49m\u001b[39m.\u001b[39;49mparam_grid))\n",
            "File \u001b[1;32mC:\\Python39\\lib\\site-packages\\sklearn\\model_selection\\_search.py:838\u001b[0m, in \u001b[0;36mBaseSearchCV.fit.<locals>.evaluate_candidates\u001b[1;34m(candidate_params, cv, more_results)\u001b[0m\n\u001b[0;32m    <a href='file:///c%3A/Python39/lib/site-packages/sklearn/model_selection/_search.py?line=829'>830</a>\u001b[0m \u001b[39mif\u001b[39;00m \u001b[39mself\u001b[39m\u001b[39m.\u001b[39mverbose \u001b[39m>\u001b[39m \u001b[39m0\u001b[39m:\n\u001b[0;32m    <a href='file:///c%3A/Python39/lib/site-packages/sklearn/model_selection/_search.py?line=830'>831</a>\u001b[0m     \u001b[39mprint\u001b[39m(\n\u001b[0;32m    <a href='file:///c%3A/Python39/lib/site-packages/sklearn/model_selection/_search.py?line=831'>832</a>\u001b[0m         \u001b[39m\"\u001b[39m\u001b[39mFitting \u001b[39m\u001b[39m{0}\u001b[39;00m\u001b[39m folds for each of \u001b[39m\u001b[39m{1}\u001b[39;00m\u001b[39m candidates,\u001b[39m\u001b[39m\"\u001b[39m\n\u001b[0;32m    <a href='file:///c%3A/Python39/lib/site-packages/sklearn/model_selection/_search.py?line=832'>833</a>\u001b[0m         \u001b[39m\"\u001b[39m\u001b[39m totalling \u001b[39m\u001b[39m{2}\u001b[39;00m\u001b[39m fits\u001b[39m\u001b[39m\"\u001b[39m\u001b[39m.\u001b[39mformat(\n\u001b[0;32m    <a href='file:///c%3A/Python39/lib/site-packages/sklearn/model_selection/_search.py?line=833'>834</a>\u001b[0m             n_splits, n_candidates, n_candidates \u001b[39m*\u001b[39m n_splits\n\u001b[0;32m    <a href='file:///c%3A/Python39/lib/site-packages/sklearn/model_selection/_search.py?line=834'>835</a>\u001b[0m         )\n\u001b[0;32m    <a href='file:///c%3A/Python39/lib/site-packages/sklearn/model_selection/_search.py?line=835'>836</a>\u001b[0m     )\n\u001b[1;32m--> <a href='file:///c%3A/Python39/lib/site-packages/sklearn/model_selection/_search.py?line=837'>838</a>\u001b[0m out \u001b[39m=\u001b[39m parallel(\n\u001b[0;32m    <a href='file:///c%3A/Python39/lib/site-packages/sklearn/model_selection/_search.py?line=838'>839</a>\u001b[0m     delayed(_fit_and_score)(\n\u001b[0;32m    <a href='file:///c%3A/Python39/lib/site-packages/sklearn/model_selection/_search.py?line=839'>840</a>\u001b[0m         clone(base_estimator),\n\u001b[0;32m    <a href='file:///c%3A/Python39/lib/site-packages/sklearn/model_selection/_search.py?line=840'>841</a>\u001b[0m         X,\n\u001b[0;32m    <a href='file:///c%3A/Python39/lib/site-packages/sklearn/model_selection/_search.py?line=841'>842</a>\u001b[0m         y,\n\u001b[0;32m    <a href='file:///c%3A/Python39/lib/site-packages/sklearn/model_selection/_search.py?line=842'>843</a>\u001b[0m         train\u001b[39m=\u001b[39;49mtrain,\n\u001b[0;32m    <a href='file:///c%3A/Python39/lib/site-packages/sklearn/model_selection/_search.py?line=843'>844</a>\u001b[0m         test\u001b[39m=\u001b[39;49mtest,\n\u001b[0;32m    <a href='file:///c%3A/Python39/lib/site-packages/sklearn/model_selection/_search.py?line=844'>845</a>\u001b[0m         parameters\u001b[39m=\u001b[39;49mparameters,\n\u001b[0;32m    <a href='file:///c%3A/Python39/lib/site-packages/sklearn/model_selection/_search.py?line=845'>846</a>\u001b[0m         split_progress\u001b[39m=\u001b[39;49m(split_idx, n_splits),\n\u001b[0;32m    <a href='file:///c%3A/Python39/lib/site-packages/sklearn/model_selection/_search.py?line=846'>847</a>\u001b[0m         candidate_progress\u001b[39m=\u001b[39;49m(cand_idx, n_candidates),\n\u001b[0;32m    <a href='file:///c%3A/Python39/lib/site-packages/sklearn/model_selection/_search.py?line=847'>848</a>\u001b[0m         \u001b[39m*\u001b[39;49m\u001b[39m*\u001b[39;49mfit_and_score_kwargs,\n\u001b[0;32m    <a href='file:///c%3A/Python39/lib/site-packages/sklearn/model_selection/_search.py?line=848'>849</a>\u001b[0m     )\n\u001b[0;32m    <a href='file:///c%3A/Python39/lib/site-packages/sklearn/model_selection/_search.py?line=849'>850</a>\u001b[0m     \u001b[39mfor\u001b[39;49;00m (cand_idx, parameters), (split_idx, (train, test)) \u001b[39min\u001b[39;49;00m product(\n\u001b[0;32m    <a href='file:///c%3A/Python39/lib/site-packages/sklearn/model_selection/_search.py?line=850'>851</a>\u001b[0m         \u001b[39menumerate\u001b[39;49m(candidate_params), \u001b[39menumerate\u001b[39;49m(cv\u001b[39m.\u001b[39;49msplit(X, y, groups))\n\u001b[0;32m    <a href='file:///c%3A/Python39/lib/site-packages/sklearn/model_selection/_search.py?line=851'>852</a>\u001b[0m     )\n\u001b[0;32m    <a href='file:///c%3A/Python39/lib/site-packages/sklearn/model_selection/_search.py?line=852'>853</a>\u001b[0m )\n\u001b[0;32m    <a href='file:///c%3A/Python39/lib/site-packages/sklearn/model_selection/_search.py?line=854'>855</a>\u001b[0m \u001b[39mif\u001b[39;00m \u001b[39mlen\u001b[39m(out) \u001b[39m<\u001b[39m \u001b[39m1\u001b[39m:\n\u001b[0;32m    <a href='file:///c%3A/Python39/lib/site-packages/sklearn/model_selection/_search.py?line=855'>856</a>\u001b[0m     \u001b[39mraise\u001b[39;00m \u001b[39mValueError\u001b[39;00m(\n\u001b[0;32m    <a href='file:///c%3A/Python39/lib/site-packages/sklearn/model_selection/_search.py?line=856'>857</a>\u001b[0m         \u001b[39m\"\u001b[39m\u001b[39mNo fits were performed. \u001b[39m\u001b[39m\"\u001b[39m\n\u001b[0;32m    <a href='file:///c%3A/Python39/lib/site-packages/sklearn/model_selection/_search.py?line=857'>858</a>\u001b[0m         \u001b[39m\"\u001b[39m\u001b[39mWas the CV iterator empty? \u001b[39m\u001b[39m\"\u001b[39m\n\u001b[0;32m    <a href='file:///c%3A/Python39/lib/site-packages/sklearn/model_selection/_search.py?line=858'>859</a>\u001b[0m         \u001b[39m\"\u001b[39m\u001b[39mWere there no candidates?\u001b[39m\u001b[39m\"\u001b[39m\n\u001b[0;32m    <a href='file:///c%3A/Python39/lib/site-packages/sklearn/model_selection/_search.py?line=859'>860</a>\u001b[0m     )\n",
            "File \u001b[1;32mC:\\Python39\\lib\\site-packages\\joblib\\parallel.py:1056\u001b[0m, in \u001b[0;36mParallel.__call__\u001b[1;34m(self, iterable)\u001b[0m\n\u001b[0;32m   <a href='file:///c%3A/Python39/lib/site-packages/joblib/parallel.py?line=1052'>1053</a>\u001b[0m     \u001b[39mself\u001b[39m\u001b[39m.\u001b[39m_iterating \u001b[39m=\u001b[39m \u001b[39mFalse\u001b[39;00m\n\u001b[0;32m   <a href='file:///c%3A/Python39/lib/site-packages/joblib/parallel.py?line=1054'>1055</a>\u001b[0m \u001b[39mwith\u001b[39;00m \u001b[39mself\u001b[39m\u001b[39m.\u001b[39m_backend\u001b[39m.\u001b[39mretrieval_context():\n\u001b[1;32m-> <a href='file:///c%3A/Python39/lib/site-packages/joblib/parallel.py?line=1055'>1056</a>\u001b[0m     \u001b[39mself\u001b[39;49m\u001b[39m.\u001b[39;49mretrieve()\n\u001b[0;32m   <a href='file:///c%3A/Python39/lib/site-packages/joblib/parallel.py?line=1056'>1057</a>\u001b[0m \u001b[39m# Make sure that we get a last message telling us we are done\u001b[39;00m\n\u001b[0;32m   <a href='file:///c%3A/Python39/lib/site-packages/joblib/parallel.py?line=1057'>1058</a>\u001b[0m elapsed_time \u001b[39m=\u001b[39m time\u001b[39m.\u001b[39mtime() \u001b[39m-\u001b[39m \u001b[39mself\u001b[39m\u001b[39m.\u001b[39m_start_time\n",
            "File \u001b[1;32mC:\\Python39\\lib\\site-packages\\joblib\\parallel.py:935\u001b[0m, in \u001b[0;36mParallel.retrieve\u001b[1;34m(self)\u001b[0m\n\u001b[0;32m    <a href='file:///c%3A/Python39/lib/site-packages/joblib/parallel.py?line=932'>933</a>\u001b[0m \u001b[39mtry\u001b[39;00m:\n\u001b[0;32m    <a href='file:///c%3A/Python39/lib/site-packages/joblib/parallel.py?line=933'>934</a>\u001b[0m     \u001b[39mif\u001b[39;00m \u001b[39mgetattr\u001b[39m(\u001b[39mself\u001b[39m\u001b[39m.\u001b[39m_backend, \u001b[39m'\u001b[39m\u001b[39msupports_timeout\u001b[39m\u001b[39m'\u001b[39m, \u001b[39mFalse\u001b[39;00m):\n\u001b[1;32m--> <a href='file:///c%3A/Python39/lib/site-packages/joblib/parallel.py?line=934'>935</a>\u001b[0m         \u001b[39mself\u001b[39m\u001b[39m.\u001b[39m_output\u001b[39m.\u001b[39mextend(job\u001b[39m.\u001b[39;49mget(timeout\u001b[39m=\u001b[39;49m\u001b[39mself\u001b[39;49m\u001b[39m.\u001b[39;49mtimeout))\n\u001b[0;32m    <a href='file:///c%3A/Python39/lib/site-packages/joblib/parallel.py?line=935'>936</a>\u001b[0m     \u001b[39melse\u001b[39;00m:\n\u001b[0;32m    <a href='file:///c%3A/Python39/lib/site-packages/joblib/parallel.py?line=936'>937</a>\u001b[0m         \u001b[39mself\u001b[39m\u001b[39m.\u001b[39m_output\u001b[39m.\u001b[39mextend(job\u001b[39m.\u001b[39mget())\n",
            "File \u001b[1;32mC:\\Python39\\lib\\site-packages\\joblib\\_parallel_backends.py:542\u001b[0m, in \u001b[0;36mLokyBackend.wrap_future_result\u001b[1;34m(future, timeout)\u001b[0m\n\u001b[0;32m    <a href='file:///c%3A/Python39/lib/site-packages/joblib/_parallel_backends.py?line=538'>539</a>\u001b[0m \u001b[39m\"\"\"Wrapper for Future.result to implement the same behaviour as\u001b[39;00m\n\u001b[0;32m    <a href='file:///c%3A/Python39/lib/site-packages/joblib/_parallel_backends.py?line=539'>540</a>\u001b[0m \u001b[39mAsyncResults.get from multiprocessing.\"\"\"\u001b[39;00m\n\u001b[0;32m    <a href='file:///c%3A/Python39/lib/site-packages/joblib/_parallel_backends.py?line=540'>541</a>\u001b[0m \u001b[39mtry\u001b[39;00m:\n\u001b[1;32m--> <a href='file:///c%3A/Python39/lib/site-packages/joblib/_parallel_backends.py?line=541'>542</a>\u001b[0m     \u001b[39mreturn\u001b[39;00m future\u001b[39m.\u001b[39;49mresult(timeout\u001b[39m=\u001b[39;49mtimeout)\n\u001b[0;32m    <a href='file:///c%3A/Python39/lib/site-packages/joblib/_parallel_backends.py?line=542'>543</a>\u001b[0m \u001b[39mexcept\u001b[39;00m CfTimeoutError \u001b[39mas\u001b[39;00m e:\n\u001b[0;32m    <a href='file:///c%3A/Python39/lib/site-packages/joblib/_parallel_backends.py?line=543'>544</a>\u001b[0m     \u001b[39mraise\u001b[39;00m \u001b[39mTimeoutError\u001b[39;00m \u001b[39mfrom\u001b[39;00m \u001b[39me\u001b[39;00m\n",
            "File \u001b[1;32mC:\\Python39\\lib\\concurrent\\futures\\_base.py:440\u001b[0m, in \u001b[0;36mFuture.result\u001b[1;34m(self, timeout)\u001b[0m\n\u001b[0;32m    <a href='file:///c%3A/Python39/lib/concurrent/futures/_base.py?line=436'>437</a>\u001b[0m \u001b[39melif\u001b[39;00m \u001b[39mself\u001b[39m\u001b[39m.\u001b[39m_state \u001b[39m==\u001b[39m FINISHED:\n\u001b[0;32m    <a href='file:///c%3A/Python39/lib/concurrent/futures/_base.py?line=437'>438</a>\u001b[0m     \u001b[39mreturn\u001b[39;00m \u001b[39mself\u001b[39m\u001b[39m.\u001b[39m__get_result()\n\u001b[1;32m--> <a href='file:///c%3A/Python39/lib/concurrent/futures/_base.py?line=439'>440</a>\u001b[0m \u001b[39mself\u001b[39;49m\u001b[39m.\u001b[39;49m_condition\u001b[39m.\u001b[39;49mwait(timeout)\n\u001b[0;32m    <a href='file:///c%3A/Python39/lib/concurrent/futures/_base.py?line=441'>442</a>\u001b[0m \u001b[39mif\u001b[39;00m \u001b[39mself\u001b[39m\u001b[39m.\u001b[39m_state \u001b[39min\u001b[39;00m [CANCELLED, CANCELLED_AND_NOTIFIED]:\n\u001b[0;32m    <a href='file:///c%3A/Python39/lib/concurrent/futures/_base.py?line=442'>443</a>\u001b[0m     \u001b[39mraise\u001b[39;00m CancelledError()\n",
            "File \u001b[1;32mC:\\Python39\\lib\\threading.py:312\u001b[0m, in \u001b[0;36mCondition.wait\u001b[1;34m(self, timeout)\u001b[0m\n\u001b[0;32m    <a href='file:///c%3A/Python39/lib/threading.py?line=309'>310</a>\u001b[0m \u001b[39mtry\u001b[39;00m:    \u001b[39m# restore state no matter what (e.g., KeyboardInterrupt)\u001b[39;00m\n\u001b[0;32m    <a href='file:///c%3A/Python39/lib/threading.py?line=310'>311</a>\u001b[0m     \u001b[39mif\u001b[39;00m timeout \u001b[39mis\u001b[39;00m \u001b[39mNone\u001b[39;00m:\n\u001b[1;32m--> <a href='file:///c%3A/Python39/lib/threading.py?line=311'>312</a>\u001b[0m         waiter\u001b[39m.\u001b[39;49macquire()\n\u001b[0;32m    <a href='file:///c%3A/Python39/lib/threading.py?line=312'>313</a>\u001b[0m         gotit \u001b[39m=\u001b[39m \u001b[39mTrue\u001b[39;00m\n\u001b[0;32m    <a href='file:///c%3A/Python39/lib/threading.py?line=313'>314</a>\u001b[0m     \u001b[39melse\u001b[39;00m:\n",
            "\u001b[1;31mKeyboardInterrupt\u001b[0m: "
          ]
        }
      ],
      "source": [
        "# Random Forest Classifier\n",
        "\n",
        "model_first_split = RandomForestClassifier()\n",
        "model_first_split.fit(X_train, y_train)\n",
        "\n",
        "# defining parameter range\n",
        "param_grid = {'bootstrap': [True],\n",
        "              'max_depth': [8, 9, 10, 11],\n",
        "              'max_features': ['auto', 'sqrt', 'log2'],\n",
        "              'min_samples_leaf': [3, 4, 5],\n",
        "              'min_samples_split': [8, 10, 12],\n",
        "              'n_estimators': [100]}\n",
        "\n",
        "grid = GridSearchCV(model_first_split, param_grid, cv=5, scoring='accuracy', n_jobs=-1)\n",
        "start_time = time.time()\n",
        "grid.fit(X_train, y_train)"
      ]
    },
    {
      "cell_type": "code",
      "execution_count": 6,
      "metadata": {
        "colab": {
          "base_uri": "https://localhost:8080/"
        },
        "id": "3j6dRj4wEpPl",
        "outputId": "a7808495-c53f-4556-ea3f-d0265ad8a13d"
      },
      "outputs": [
        {
          "name": "stdout",
          "output_type": "stream",
          "text": [
            "Συνολικός χρόνος fit και predict: 304.0621943473816 seconds\n",
            "              precision    recall  f1-score   support\n",
            "\n",
            "   home loss       0.64      0.50      0.56      1935\n",
            "    home win       0.69      0.79      0.74      2648\n",
            "\n",
            "    accuracy                           0.67      4583\n",
            "   macro avg       0.66      0.65      0.65      4583\n",
            "weighted avg       0.67      0.67      0.66      4583\n",
            "\n",
            "{'bootstrap': True, 'max_depth': 8, 'max_features': 'sqrt', 'min_samples_leaf': 5, 'min_samples_split': 10, 'n_estimators': 100}\n",
            "best score: 0.6930434782608696\n",
            "test score 0.6713942832205979\n"
          ]
        }
      ],
      "source": [
        "# Predict on the validation set\n",
        "preds = grid.predict(X_test)\n",
        "test_score = grid.score(X_test, y_test)\n",
        "\n",
        "target_names=['home loss', 'home win']\n",
        "\n",
        "print(\"Συνολικός χρόνος fit και predict: %s seconds\" % (time.time() - start_time))\n",
        "print(classification_report(y_test, preds, target_names=target_names))\n",
        "\n",
        "\n",
        "model = grid.best_estimator_\n",
        "y_fit = model.predict(X_test)\n",
        "\n",
        "print(grid.best_params_)\n",
        "print(\"best score:\", grid.best_score_)\n",
        "print(\"test score\", test_score)\n"
      ]
    },
    {
      "cell_type": "markdown",
      "metadata": {},
      "source": [
        "### RF Classifier with SelectFromModel Function"
      ]
    },
    {
      "cell_type": "code",
      "execution_count": 7,
      "metadata": {},
      "outputs": [],
      "source": [
        "from sklearn.feature_selection import SelectFromModel\n",
        "from sklearn.metrics import accuracy_score"
      ]
    },
    {
      "cell_type": "code",
      "execution_count": 8,
      "metadata": {},
      "outputs": [
        {
          "data": {
            "text/plain": [
              "RandomForestClassifier()"
            ]
          },
          "execution_count": 8,
          "metadata": {},
          "output_type": "execute_result"
        }
      ],
      "source": [
        "# Random Forest Classifier\n",
        "clf = RandomForestClassifier()\n",
        "clf.fit(X_train, y_train)"
      ]
    },
    {
      "cell_type": "code",
      "execution_count": 16,
      "metadata": {},
      "outputs": [],
      "source": [
        "X_sfm = train_data[['odds_home', 'odds_away', 'W_PCT_home', 'HOME_RECORD_home',\n",
        "       'ROAD_RECORD_home', 'W_PCT_away', 'HOME_RECORD_away',\n",
        "       'ROAD_RECORD_away', 'FT_PCT_home_3g', 'FG3_PCT_home_3g',\n",
        "       'FT_PCT_away_3g', 'FT_PCT_home_7g', 'FT_PCT_away_7g',\n",
        "       'diff_avg_fg3_pct_home', 'diff_avg_fg3_pct_away',\n",
        "       'diff_avg_ft_pct_home', 'diff_avg_ft_pct_away', 'diff_avg_reb_away',\n",
        "       'eff', 'eff_visitor', 'home_elo', 'visitor_elo', 'elo_diff', 'eff_diff',\n",
        "       'Home_Last_5_Avg_FT_PCT_home', 'Home_Last_5_Avg_FG3_PCT_home',\n",
        "       'Home_Last_5_Avg_FG_PCT_away', 'Home_Last_5_Avg_FT_PCT_away',\n",
        "       'Home_Last_5_Avg_FG3_PCT_away', 'Away_Last_5_Avg_FG3_PCT_home',\n",
        "       'Away_Last_5_Avg_FG_PCT_away', 'Away_Last_5_Avg_FT_PCT_away',\n",
        "       'Away_Last_5_Avg_FG3_PCT_away', 'diff_fg_pct_last_7_games',\n",
        "       'diff_ft_pct_last_3_games', 'diff_ft_pct_last_7_games',\n",
        "       'diff_win_pct_prev_season', 'diff_home_record_last_season',\n",
        "       'diff_road_record_last_season', 'diff_curr_win_pct',\n",
        "       'diff_curr_home_record', 'diff_curr_away_record']]\n",
        "y_sfm = y_train\n",
        "\n",
        "X_val_sfm = valid_data[['odds_home', 'odds_away', 'W_PCT_home', 'HOME_RECORD_home',\n",
        "       'ROAD_RECORD_home', 'W_PCT_away', 'HOME_RECORD_away',\n",
        "       'ROAD_RECORD_away', 'FT_PCT_home_3g', 'FG3_PCT_home_3g',\n",
        "       'FT_PCT_away_3g', 'FT_PCT_home_7g', 'FT_PCT_away_7g',\n",
        "       'diff_avg_fg3_pct_home', 'diff_avg_fg3_pct_away',\n",
        "       'diff_avg_ft_pct_home', 'diff_avg_ft_pct_away', 'diff_avg_reb_away',\n",
        "       'eff', 'eff_visitor', 'home_elo', 'visitor_elo', 'elo_diff', 'eff_diff',\n",
        "       'Home_Last_5_Avg_FT_PCT_home', 'Home_Last_5_Avg_FG3_PCT_home',\n",
        "       'Home_Last_5_Avg_FG_PCT_away', 'Home_Last_5_Avg_FT_PCT_away',\n",
        "       'Home_Last_5_Avg_FG3_PCT_away', 'Away_Last_5_Avg_FG3_PCT_home',\n",
        "       'Away_Last_5_Avg_FG_PCT_away', 'Away_Last_5_Avg_FT_PCT_away',\n",
        "       'Away_Last_5_Avg_FG3_PCT_away', 'diff_fg_pct_last_7_games',\n",
        "       'diff_ft_pct_last_3_games', 'diff_ft_pct_last_7_games',\n",
        "       'diff_win_pct_prev_season', 'diff_home_record_last_season',\n",
        "       'diff_road_record_last_season', 'diff_curr_win_pct',\n",
        "       'diff_curr_home_record', 'diff_curr_away_record']]\n",
        "\n",
        "y_val_sfm = y_val\n",
        "\n",
        "X_test_sfm = test_data[['odds_home', 'odds_away', 'W_PCT_home', 'HOME_RECORD_home',\n",
        "       'ROAD_RECORD_home', 'W_PCT_away', 'HOME_RECORD_away',\n",
        "       'ROAD_RECORD_away', 'FT_PCT_home_3g', 'FG3_PCT_home_3g',\n",
        "       'FT_PCT_away_3g', 'FT_PCT_home_7g', 'FT_PCT_away_7g',\n",
        "       'diff_avg_fg3_pct_home', 'diff_avg_fg3_pct_away',\n",
        "       'diff_avg_ft_pct_home', 'diff_avg_ft_pct_away', 'diff_avg_reb_away',\n",
        "       'eff', 'eff_visitor', 'home_elo', 'visitor_elo', 'elo_diff', 'eff_diff',\n",
        "       'Home_Last_5_Avg_FT_PCT_home', 'Home_Last_5_Avg_FG3_PCT_home',\n",
        "       'Home_Last_5_Avg_FG_PCT_away', 'Home_Last_5_Avg_FT_PCT_away',\n",
        "       'Home_Last_5_Avg_FG3_PCT_away', 'Away_Last_5_Avg_FG3_PCT_home',\n",
        "       'Away_Last_5_Avg_FG_PCT_away', 'Away_Last_5_Avg_FT_PCT_away',\n",
        "       'Away_Last_5_Avg_FG3_PCT_away', 'diff_fg_pct_last_7_games',\n",
        "       'diff_ft_pct_last_3_games', 'diff_ft_pct_last_7_games',\n",
        "       'diff_win_pct_prev_season', 'diff_home_record_last_season',\n",
        "       'diff_road_record_last_season', 'diff_curr_win_pct',\n",
        "       'diff_curr_home_record', 'diff_curr_away_record']]\n",
        "y_test_sfm = y_test\n",
        "\n",
        "# Split our data\n",
        "X_train_sfm, y_train_sfm = X_sfm, y_sfm\n"
      ]
    },
    {
      "cell_type": "code",
      "execution_count": 14,
      "metadata": {},
      "outputs": [
        {
          "data": {
            "text/plain": [
              "GridSearchCV(cv=5, estimator=RandomForestClassifier(), n_jobs=-1,\n",
              "             param_grid={'bootstrap': [True], 'max_depth': [8, 9, 10, 11],\n",
              "                         'max_features': ['auto', 'sqrt', 'log2'],\n",
              "                         'min_samples_leaf': [3, 4, 5],\n",
              "                         'min_samples_split': [8, 10, 12],\n",
              "                         'n_estimators': [100]},\n",
              "             scoring='accuracy')"
            ]
          },
          "execution_count": 14,
          "metadata": {},
          "output_type": "execute_result"
        }
      ],
      "source": [
        "# defining parameter range\n",
        "param_grid = {'bootstrap': [True],\n",
        "              'max_depth': [8, 9, 10, 11],\n",
        "              'max_features': ['auto', 'sqrt', 'log2'],\n",
        "              'min_samples_leaf': [3, 4, 5],\n",
        "              'min_samples_split': [8, 10, 12],\n",
        "              'n_estimators': [100]}\n",
        "\n",
        "grid = GridSearchCV(clf, param_grid, cv=5, scoring='accuracy', n_jobs=-1)\n",
        "start_time = time.time()\n",
        "grid.fit(X_train_sfm, y_train_sfm)"
      ]
    },
    {
      "cell_type": "code",
      "execution_count": 17,
      "metadata": {},
      "outputs": [
        {
          "name": "stdout",
          "output_type": "stream",
          "text": [
            "Συνολικός χρόνος fit και predict: 367.466255903244 seconds\n",
            "              precision    recall  f1-score   support\n",
            "\n",
            "   home loss       0.63      0.54      0.58      1935\n",
            "    home win       0.70      0.77      0.73      2648\n",
            "\n",
            "    accuracy                           0.67      4583\n",
            "   macro avg       0.67      0.66      0.66      4583\n",
            "weighted avg       0.67      0.67      0.67      4583\n",
            "\n",
            "{'bootstrap': True, 'max_depth': 8, 'max_features': 'auto', 'min_samples_leaf': 5, 'min_samples_split': 8, 'n_estimators': 100}\n",
            "best score: 0.6947826086956521\n",
            "test score 0.6740126554658521\n"
          ]
        }
      ],
      "source": [
        "# Predict\n",
        "preds = grid.predict(X_test_sfm)\n",
        "test_score = grid.score(X_test_sfm, y_test_sfm)\n",
        "\n",
        "target_names=['home loss', 'home win']\n",
        "\n",
        "print(\"Συνολικός χρόνος fit και predict: %s seconds\" % (time.time() - start_time))\n",
        "print(classification_report(y_test_sfm, preds, target_names=target_names))\n",
        "\n",
        "\n",
        "model = grid.best_estimator_\n",
        "y_fit = model.predict(X_test_sfm)\n",
        "\n",
        "print(grid.best_params_)\n",
        "print(\"best score:\", grid.best_score_)\n",
        "print(\"test score\", test_score)"
      ]
    },
    {
      "cell_type": "markdown",
      "metadata": {},
      "source": [
        "### RF Classifier with RFE"
      ]
    },
    {
      "cell_type": "code",
      "execution_count": 18,
      "metadata": {},
      "outputs": [
        {
          "data": {
            "text/plain": [
              "RandomForestClassifier()"
            ]
          },
          "execution_count": 18,
          "metadata": {},
          "output_type": "execute_result"
        }
      ],
      "source": [
        "estimator = RandomForestClassifier()\n",
        "estimator.fit(X_train, y_train)"
      ]
    },
    {
      "cell_type": "code",
      "execution_count": 19,
      "metadata": {},
      "outputs": [],
      "source": [
        "X_train_rfe = train_data[['num_possible_outcomes', 'odds_home', 'odds_away', 'W_PCT_home',\n",
        "            'HOME_RECORD_home', 'ROAD_RECORD_home', 'ROAD_RECORD_away',\n",
        "            'WIN_PRCT_home_3g', 'PTS_home_3g', 'REB_home_3g', 'WIN_PRCT_away_3g',\n",
        "            'AST_away_3g', 'REB_away_3g', 'PTS_home_7g', 'AST_home_7g',\n",
        "            'REB_home_7g', 'AST_away_7g', 'diff_avg_pts_home', 'diff_avg_ast_home',\n",
        "            'diff_avg_ast_away', 'diff_avg_fg3_pct_home', 'diff_avg_reb_home',\n",
        "            'diff_avg_reb_away', 'top_players', 'eff_visitor', 'HG_7days',\n",
        "            'AG_7days', 'G_7days', 'back2back', 'HG_7days_VISITOR',\n",
        "            'G_7days_VISITOR', 'back2back_visitor', 'missing_players',\n",
        "            'missing_players_visitor', 'home_elo', 'visitor_elo', 'elo_diff',\n",
        "            'top_player_diff', 'missing_player_diff', 'eff_diff', 'month',\n",
        "            'Home_Last_5_Avg_AST_home', 'Home_Last_5_Avg_REB_home',\n",
        "            'Home_Last_5_Avg_PTS_away', 'Home_Last_5_Avg_REB_away',\n",
        "            'Home_Last_5_Avg_AST_away', 'Away_Last_5_Avg_FG3_PCT_home',\n",
        "            'Away_Last_5_Avg_AST_home', 'Away_Last_5_Avg_PTS_away',\n",
        "            'Away_Last_5_Avg_FT_PCT_away', 'Away_Last_5_Avg_AST_away',\n",
        "            'diff_ast_last_3_games', 'diff_ast_last_7_games',\n",
        "            'diff_reb_last_3_games', 'diff_reb_last_7_games',\n",
        "            'diff_win_pct_3_last_games', 'diff_curr_win_pct',\n",
        "            'diff_curr_home_record', 'diff_curr_away_record']]\n",
        "\n",
        "y_train_rfe = y_train\n",
        "\n",
        "X_val_rfe = valid_data[['num_possible_outcomes', 'odds_home', 'odds_away', 'W_PCT_home',\n",
        "            'HOME_RECORD_home', 'ROAD_RECORD_home', 'ROAD_RECORD_away',\n",
        "            'WIN_PRCT_home_3g', 'PTS_home_3g', 'REB_home_3g', 'WIN_PRCT_away_3g',\n",
        "            'AST_away_3g', 'REB_away_3g', 'PTS_home_7g', 'AST_home_7g',\n",
        "            'REB_home_7g', 'AST_away_7g', 'diff_avg_pts_home', 'diff_avg_ast_home',\n",
        "            'diff_avg_ast_away', 'diff_avg_fg3_pct_home', 'diff_avg_reb_home',\n",
        "            'diff_avg_reb_away', 'top_players', 'eff_visitor', 'HG_7days',\n",
        "            'AG_7days', 'G_7days', 'back2back', 'HG_7days_VISITOR',\n",
        "            'G_7days_VISITOR', 'back2back_visitor', 'missing_players',\n",
        "            'missing_players_visitor', 'home_elo', 'visitor_elo', 'elo_diff',\n",
        "            'top_player_diff', 'missing_player_diff', 'eff_diff', 'month',\n",
        "            'Home_Last_5_Avg_AST_home', 'Home_Last_5_Avg_REB_home',\n",
        "            'Home_Last_5_Avg_PTS_away', 'Home_Last_5_Avg_REB_away',\n",
        "            'Home_Last_5_Avg_AST_away', 'Away_Last_5_Avg_FG3_PCT_home',\n",
        "            'Away_Last_5_Avg_AST_home', 'Away_Last_5_Avg_PTS_away',\n",
        "            'Away_Last_5_Avg_FT_PCT_away', 'Away_Last_5_Avg_AST_away',\n",
        "            'diff_ast_last_3_games', 'diff_ast_last_7_games',\n",
        "            'diff_reb_last_3_games', 'diff_reb_last_7_games',\n",
        "            'diff_win_pct_3_last_games', 'diff_curr_win_pct',\n",
        "            'diff_curr_home_record', 'diff_curr_away_record']]\n",
        "\n",
        "y_val_rfe = y_val\n",
        "\n",
        "X_test_rfe = test_data[['num_possible_outcomes', 'odds_home', 'odds_away', 'W_PCT_home',\n",
        "            'HOME_RECORD_home', 'ROAD_RECORD_home', 'ROAD_RECORD_away',\n",
        "            'WIN_PRCT_home_3g', 'PTS_home_3g', 'REB_home_3g', 'WIN_PRCT_away_3g',\n",
        "            'AST_away_3g', 'REB_away_3g', 'PTS_home_7g', 'AST_home_7g',\n",
        "            'REB_home_7g', 'AST_away_7g', 'diff_avg_pts_home', 'diff_avg_ast_home',\n",
        "            'diff_avg_ast_away', 'diff_avg_fg3_pct_home', 'diff_avg_reb_home',\n",
        "            'diff_avg_reb_away', 'top_players', 'eff_visitor', 'HG_7days',\n",
        "            'AG_7days', 'G_7days', 'back2back', 'HG_7days_VISITOR',\n",
        "            'G_7days_VISITOR', 'back2back_visitor', 'missing_players',\n",
        "            'missing_players_visitor', 'home_elo', 'visitor_elo', 'elo_diff',\n",
        "            'top_player_diff', 'missing_player_diff', 'eff_diff', 'month',\n",
        "            'Home_Last_5_Avg_AST_home', 'Home_Last_5_Avg_REB_home',\n",
        "            'Home_Last_5_Avg_PTS_away', 'Home_Last_5_Avg_REB_away',\n",
        "            'Home_Last_5_Avg_AST_away', 'Away_Last_5_Avg_FG3_PCT_home',\n",
        "            'Away_Last_5_Avg_AST_home', 'Away_Last_5_Avg_PTS_away',\n",
        "            'Away_Last_5_Avg_FT_PCT_away', 'Away_Last_5_Avg_AST_away',\n",
        "            'diff_ast_last_3_games', 'diff_ast_last_7_games',\n",
        "            'diff_reb_last_3_games', 'diff_reb_last_7_games',\n",
        "            'diff_win_pct_3_last_games', 'diff_curr_win_pct',\n",
        "            'diff_curr_home_record', 'diff_curr_away_record']]\n",
        "\n",
        "y_test_rfe = y_test\n"
      ]
    },
    {
      "cell_type": "code",
      "execution_count": 20,
      "metadata": {},
      "outputs": [
        {
          "data": {
            "text/plain": [
              "GridSearchCV(cv=5, estimator=RandomForestClassifier(), n_jobs=-1,\n",
              "             param_grid=[{'bootstrap': [True], 'max_depth': [8, 9, 10, 11],\n",
              "                          'max_features': ['auto', 'sqrt', 'log2'],\n",
              "                          'min_samples_leaf': [3, 4, 5],\n",
              "                          'min_samples_split': [8, 10, 12],\n",
              "                          'n_estimators': [100]}],\n",
              "             scoring='accuracy')"
            ]
          },
          "execution_count": 20,
          "metadata": {},
          "output_type": "execute_result"
        }
      ],
      "source": [
        "# defining parameter range\n",
        "param_grid = [{'bootstrap': [True],\n",
        "              'max_depth': [8, 9, 10, 11],\n",
        "              'max_features': ['auto', 'sqrt', 'log2'],\n",
        "              'min_samples_leaf': [3, 4, 5],\n",
        "              'min_samples_split': [8, 10, 12],\n",
        "              'n_estimators': [100]}]           \n",
        "\n",
        "grid = GridSearchCV(estimator, param_grid, cv=5, scoring='accuracy', n_jobs=-1)\n",
        "grid.fit(X_train_rfe, y_train_rfe)"
      ]
    },
    {
      "cell_type": "code",
      "execution_count": 21,
      "metadata": {},
      "outputs": [
        {
          "name": "stdout",
          "output_type": "stream",
          "text": [
            "Συνολικός χρόνος fit και predict: 0.0 seconds\n",
            "              precision    recall  f1-score   support\n",
            "\n",
            "   home loss       0.62      0.54      0.58      1935\n",
            "    home win       0.69      0.76      0.73      2648\n",
            "\n",
            "    accuracy                           0.67      4583\n",
            "   macro avg       0.66      0.65      0.65      4583\n",
            "weighted avg       0.67      0.67      0.66      4583\n",
            "\n",
            "{'bootstrap': True, 'max_depth': 8, 'max_features': 'auto', 'min_samples_leaf': 5, 'min_samples_split': 10, 'n_estimators': 100}\n",
            "best score: 0.695072463768116\n",
            "test score 0.6689941086624481\n"
          ]
        }
      ],
      "source": [
        "# Predict\n",
        "preds = grid.predict(X_test_rfe)\n",
        "test_score = grid.score(X_test_rfe, y_test_rfe)\n",
        "\n",
        "target_names=['home loss', 'home win']\n",
        "\n",
        "start_time = time.time()\n",
        "\n",
        "print(\"Συνολικός χρόνος fit και predict: %s seconds\" % (time.time() - start_time))\n",
        "print(classification_report(y_test_rfe, preds, target_names=target_names))\n",
        "\n",
        "\n",
        "model = grid.best_estimator_\n",
        "y_fit = model.predict(X_test_rfe)\n",
        "\n",
        "print(grid.best_params_)\n",
        "print(\"best score:\", grid.best_score_)\n",
        "print(\"test score\", test_score)"
      ]
    },
    {
      "cell_type": "markdown",
      "metadata": {},
      "source": [
        "### RF with RFECV"
      ]
    },
    {
      "cell_type": "code",
      "execution_count": 6,
      "metadata": {},
      "outputs": [],
      "source": [
        "X_train_rcv = train_data[['missing_player_diff','odds_home','odds_away','visitor_elo']]\n",
        "y_train_rcv = y_train\n",
        "\n",
        "X_val_rcv = valid_data[['missing_player_diff','odds_home','odds_away','visitor_elo']]\n",
        "y_val_rcv = y_val\n",
        "\n",
        "X_test_rcv = test_data[['missing_player_diff','odds_home','odds_away','visitor_elo']]\n",
        "y_test_rcv = y_test"
      ]
    },
    {
      "cell_type": "code",
      "execution_count": 7,
      "metadata": {},
      "outputs": [
        {
          "data": {
            "text/plain": [
              "GridSearchCV(cv=5, estimator=RandomForestClassifier(), n_jobs=-1,\n",
              "             param_grid=[{'bootstrap': [True], 'max_depth': [8, 9, 10, 11],\n",
              "                          'max_features': ['auto', 'sqrt', 'log2'],\n",
              "                          'min_samples_leaf': [3, 4, 5],\n",
              "                          'min_samples_split': [8, 10, 12],\n",
              "                          'n_estimators': [100]}],\n",
              "             scoring='accuracy')"
            ]
          },
          "execution_count": 7,
          "metadata": {},
          "output_type": "execute_result"
        }
      ],
      "source": [
        "estimator = RandomForestClassifier()\n",
        "estimator.fit(X_train_rcv, y_train_rcv)\n",
        "\n",
        "# defining parameter range\n",
        "param_grid = [{'bootstrap': [True],\n",
        "              'max_depth': [8, 9, 10, 11],\n",
        "              'max_features': ['auto', 'sqrt', 'log2'],\n",
        "              'min_samples_leaf': [3, 4, 5],\n",
        "              'min_samples_split': [8, 10, 12],\n",
        "              'n_estimators': [100]}]           \n",
        "\n",
        "grid = GridSearchCV(estimator, param_grid, cv=5, scoring='accuracy', n_jobs=-1)\n",
        "grid.fit(X_train_rcv, y_train_rcv)"
      ]
    },
    {
      "cell_type": "code",
      "execution_count": 8,
      "metadata": {},
      "outputs": [
        {
          "name": "stdout",
          "output_type": "stream",
          "text": [
            "Συνολικός χρόνος fit και predict: 0.0 seconds\n",
            "              precision    recall  f1-score   support\n",
            "\n",
            "   home loss       0.63      0.56      0.59      1935\n",
            "    home win       0.70      0.76      0.73      2648\n",
            "\n",
            "    accuracy                           0.67      4583\n",
            "   macro avg       0.66      0.66      0.66      4583\n",
            "weighted avg       0.67      0.67      0.67      4583\n",
            "\n",
            "{'bootstrap': True, 'max_depth': 8, 'max_features': 'log2', 'min_samples_leaf': 4, 'min_samples_split': 10, 'n_estimators': 100}\n",
            "best score: 0.697391304347826\n",
            "test score 0.6733580624045385\n"
          ]
        }
      ],
      "source": [
        "# Predict\n",
        "preds = grid.predict(X_test_rcv)\n",
        "test_score = grid.score(X_test_rcv, y_test_rcv)\n",
        "\n",
        "target_names=['home loss', 'home win']\n",
        "\n",
        "start_time = time.time()\n",
        "\n",
        "print(\"Συνολικός χρόνος fit και predict: %s seconds\" % (time.time() - start_time))\n",
        "print(classification_report(y_test_rcv, preds, target_names=target_names))\n",
        "\n",
        "\n",
        "model = grid.best_estimator_\n",
        "y_fit = model.predict(X_test_rcv)\n",
        "\n",
        "print(grid.best_params_)\n",
        "print(\"best score:\", grid.best_score_)\n",
        "print(\"test score\", test_score)"
      ]
    },
    {
      "cell_type": "markdown",
      "metadata": {},
      "source": [
        "### RF with ExtraTreesClassifier"
      ]
    },
    {
      "cell_type": "code",
      "execution_count": 22,
      "metadata": {},
      "outputs": [],
      "source": [
        "X_train_extra = train_data[['odds_home', 'odds_away', 'home_elo', 'visitor_elo', 'elo_diff',\n",
        "                    'eff_diff', 'eff_visitor', 'top_player_diff', 'diff_win_pct_prev_season',\n",
        "                    'diff_home_record_last_season', 'ROAD_RECORD_home',\n",
        "                    'diff_road_record_last_season', 'diff_win_pct_7_last_games', 'W_PCT_home',\n",
        "                    'W_PCT_away', 'W_PCT_prev_away', 'diff_curr_away_record', 'HOME_RECORD_home', 'diff_curr_home_record',\n",
        "                    'diff_curr_win_pct']]\n",
        "\n",
        "y_train_extra = y_train\n",
        "\n",
        "X_val_extra = valid_data[['odds_home', 'odds_away', 'home_elo', 'visitor_elo', 'elo_diff',\n",
        "                    'eff_diff', 'eff_visitor', 'top_player_diff', 'diff_win_pct_prev_season',\n",
        "                    'diff_home_record_last_season', 'ROAD_RECORD_home',\n",
        "                    'diff_road_record_last_season', 'diff_win_pct_7_last_games', 'W_PCT_home',\n",
        "                    'W_PCT_away', 'W_PCT_prev_away', 'diff_curr_away_record', 'HOME_RECORD_home', 'diff_curr_home_record',\n",
        "                    'diff_curr_win_pct']]\n",
        "\n",
        "y_val_extra = y_val\n",
        "\n",
        "X_test_extra = test_data[['odds_home', 'odds_away', 'home_elo', 'visitor_elo', 'elo_diff',\n",
        "                    'eff_diff', 'eff_visitor', 'top_player_diff', 'diff_win_pct_prev_season',\n",
        "                    'diff_home_record_last_season', 'ROAD_RECORD_home',\n",
        "                    'diff_road_record_last_season', 'diff_win_pct_7_last_games', 'W_PCT_home',\n",
        "                    'W_PCT_away', 'W_PCT_prev_away', 'diff_curr_away_record', 'HOME_RECORD_home', 'diff_curr_home_record',\n",
        "                    'diff_curr_win_pct']]\n",
        "\n",
        "y_test_extra = y_test\n"
      ]
    },
    {
      "cell_type": "code",
      "execution_count": 23,
      "metadata": {},
      "outputs": [
        {
          "data": {
            "text/plain": [
              "GridSearchCV(cv=5, estimator=RandomForestClassifier(), n_jobs=-1,\n",
              "             param_grid={'bootstrap': [True], 'max_depth': [8, 9, 10, 11],\n",
              "                         'max_features': ['auto', 'sqrt', 'log2'],\n",
              "                         'min_samples_leaf': [3, 4, 5],\n",
              "                         'min_samples_split': [8, 10, 12],\n",
              "                         'n_estimators': [100]},\n",
              "             scoring='accuracy')"
            ]
          },
          "execution_count": 23,
          "metadata": {},
          "output_type": "execute_result"
        }
      ],
      "source": [
        "# Random Forest Classifier\n",
        "\n",
        "model_first_split = RandomForestClassifier()\n",
        "model_first_split.fit(X_train_extra, y_train_extra)\n",
        "\n",
        "# defining parameter range\n",
        "param_grid = {'bootstrap': [True],\n",
        "              'max_depth': [8, 9, 10, 11],\n",
        "              'max_features': ['auto', 'sqrt', 'log2'],\n",
        "              'min_samples_leaf': [3, 4, 5],\n",
        "              'min_samples_split': [8, 10, 12],\n",
        "              'n_estimators': [100]}\n",
        "\n",
        "grid = GridSearchCV(model_first_split, param_grid, cv=5, scoring='accuracy', n_jobs=-1)\n",
        "start_time = time.time()\n",
        "grid.fit(X_train_extra, y_train_extra)\n",
        "\n"
      ]
    },
    {
      "cell_type": "code",
      "execution_count": 24,
      "metadata": {},
      "outputs": [
        {
          "name": "stdout",
          "output_type": "stream",
          "text": [
            "Συνολικός χρόνος fit και predict: 161.6673059463501 seconds\n",
            "              precision    recall  f1-score   support\n",
            "\n",
            "   home loss       0.63      0.55      0.59      1935\n",
            "    home win       0.70      0.76      0.73      2648\n",
            "\n",
            "    accuracy                           0.67      4583\n",
            "   macro avg       0.66      0.66      0.66      4583\n",
            "weighted avg       0.67      0.67      0.67      4583\n",
            "\n",
            "{'bootstrap': True, 'max_depth': 8, 'max_features': 'sqrt', 'min_samples_leaf': 5, 'min_samples_split': 10, 'n_estimators': 100}\n",
            "best score: 0.6939130434782609\n",
            "test score 0.6737944577787476\n"
          ]
        }
      ],
      "source": [
        "# Predict on the validation set\n",
        "preds = grid.predict(X_test_extra)\n",
        "test_score = grid.score(X_test_extra, y_test_extra)\n",
        "\n",
        "target_names=['home loss', 'home win']\n",
        "\n",
        "print(\"Συνολικός χρόνος fit και predict: %s seconds\" % (time.time() - start_time))\n",
        "print(classification_report(y_test_extra, preds, target_names=target_names))\n",
        "\n",
        "\n",
        "model = grid.best_estimator_\n",
        "y_fit = model.predict(X_test_extra)\n",
        "\n",
        "print(grid.best_params_)\n",
        "print(\"best score:\", grid.best_score_)\n",
        "print(\"test score\", test_score)\n"
      ]
    }
  ],
  "metadata": {
    "colab": {
      "collapsed_sections": [],
      "name": "RandomForest.ipynb",
      "provenance": []
    },
    "kernelspec": {
      "display_name": "Python 3.9.4 64-bit",
      "language": "python",
      "name": "python3"
    },
    "language_info": {
      "codemirror_mode": {
        "name": "ipython",
        "version": 3
      },
      "file_extension": ".py",
      "mimetype": "text/x-python",
      "name": "python",
      "nbconvert_exporter": "python",
      "pygments_lexer": "ipython3",
      "version": "3.9.4"
    },
    "vscode": {
      "interpreter": {
        "hash": "81794d4967e6c3204c66dcd87b604927b115b27c00565d3d43f05ba2f3a2cb0d"
      }
    }
  },
  "nbformat": 4,
  "nbformat_minor": 0
}
