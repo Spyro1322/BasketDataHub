{
 "cells": [
  {
   "cell_type": "markdown",
   "metadata": {},
   "source": [
    "## XGBoost Classifier"
   ]
  },
  {
   "cell_type": "code",
   "execution_count": 2,
   "metadata": {},
   "outputs": [],
   "source": [
    "import xgboost as xgb\n",
    "from sklearn.model_selection import train_test_split, GridSearchCV\n",
    "from sklearn.metrics import classification_report, accuracy_score, confusion_matrix\n",
    "\n",
    "import time\n",
    "\n",
    "%matplotlib inline\n",
    "import numpy as np\n",
    "import pandas as pd\n",
    "import matplotlib.pyplot as plt\n",
    "from scipy import stats\n",
    "\n",
    "# use seaborn plotting defaults\n",
    "import seaborn as sns; sns.set()\n",
    "\n",
    "import warnings"
   ]
  },
  {
   "cell_type": "code",
   "execution_count": 3,
   "metadata": {},
   "outputs": [],
   "source": [
    "warnings.filterwarnings('ignore')\n"
   ]
  },
  {
   "cell_type": "code",
   "execution_count": 4,
   "metadata": {},
   "outputs": [],
   "source": [
    "df = pd.read_csv('../../FeatureEngineering/MetaData/data6_&_odds.csv')\n",
    "df.dropna(inplace=True)"
   ]
  },
  {
   "cell_type": "code",
   "execution_count": 5,
   "metadata": {},
   "outputs": [],
   "source": [
    "train_data = df.loc[(df.season < 2016) & (df.season >= 2007)]\n",
    "test_data = df.loc[df.season >= 2016]\n",
    "\n",
    "X, y = train_data.drop(columns=['home_team_wins']), train_data.home_team_wins\n",
    "test_X, test_y = test_data.drop(columns=['home_team_wins']), test_data.home_team_wins\n",
    "\n",
    "# Split our data\n",
    "X_train, y_train = train_data.drop(columns=[\"game_date_est\",\"season\",\"game_id\",\"home_team\",\"visitor_team\",\"home_team_id\",\"visitor_team_id\",\"home_team_wins\",\"conference\",\"conference_visitor\"]), train_data.home_team_wins\n",
    "X_test, y_test = test_data.drop(columns=[\"game_date_est\",\"season\",\"game_id\",\"home_team\",\"visitor_team\",\"home_team_id\",\"visitor_team_id\",\"home_team_wins\",\"conference\",\"conference_visitor\"]), test_data.home_team_wins\n"
   ]
  },
  {
   "cell_type": "code",
   "execution_count": 6,
   "metadata": {},
   "outputs": [],
   "source": [
    "def evaluate(model, X_train, X_test, y_train, y_test):\n",
    "    y_test_pred = model.predict(X_test)\n",
    "    y_train_pred = model.predict(X_train)\n",
    "\n",
    "    print(\"Training Results: \\n===============================\")\n",
    "    clf_report = classification_report(y_train, y_train_pred)\n",
    "    print(f\"Confusion Matrix:\\n{confusion_matrix(y_train, y_train_pred)}\")\n",
    "    print(f\"Accuracy Score:\\n{accuracy_score(y_train, y_train_pred):.4f}\")\n",
    "    print(f\"Classification Report:\\n{clf_report}\")\n",
    "\n",
    "    print(\"Testing Results: \\n===============================\")\n",
    "    clf_report = classification_report(y_test, y_test_pred)\n",
    "    print(f\"Confusion Matrix:\\n{confusion_matrix(y_test, y_test_pred)}\")\n",
    "    print(f\"Accuracy Score:\\n{accuracy_score(y_test, y_test_pred):.4f}\")\n",
    "    print(f\"Classification Report:\\n{clf_report}\")"
   ]
  },
  {
   "cell_type": "markdown",
   "metadata": {},
   "source": [
    "### Use Lasso data"
   ]
  },
  {
   "cell_type": "code",
   "execution_count": 7,
   "metadata": {},
   "outputs": [],
   "source": [
    "X_train_lasso = train_data[['odds_away', 'odds_home', 'eff_diff', 'eff_visitor',\n",
    "              'missing_players', 'top_players', 'FT_PCT_home_7g', 'diff_avg_reb_away',\n",
    "              'home_elo']]\n",
    "y_train_lasso = y_train\n",
    "\n",
    "\n",
    "X_test_lasso = test_data[['odds_away', 'odds_home', 'eff_diff', 'eff_visitor',\n",
    "              'missing_players', 'top_players', 'FT_PCT_home_7g', 'diff_avg_reb_away',\n",
    "              'home_elo']]\n",
    "\n",
    "y_test_lasso = y_test"
   ]
  },
  {
   "cell_type": "code",
   "execution_count": 8,
   "metadata": {},
   "outputs": [],
   "source": [
    "# XG Boost classifier\n",
    "model = xgb.XGBClassifier(gamma=0.2, learning_rate=0.1, max_depth=3, \n",
    "min_child_weight=3, n_estimators=100)\n",
    "model.fit(X_train_lasso, y_train_lasso)\n",
    "\n",
    "start_time = time.time()\n",
    "\n",
    "preds = model.predict(X_test_lasso)\n",
    "test_score = model.score(X_test_lasso, y_test_lasso)\n",
    "\n"
   ]
  },
  {
   "cell_type": "code",
   "execution_count": 9,
   "metadata": {},
   "outputs": [
    {
     "name": "stdout",
     "output_type": "stream",
     "text": [
      "Συνολικός χρόνος fit και predict: 2.881075382232666 seconds\n",
      "              precision    recall  f1-score   support\n",
      "\n",
      "   home_loss       0.64      0.55      0.59      1935\n",
      "    home_win       0.70      0.77      0.73      2648\n",
      "\n",
      "    accuracy                           0.68      4583\n",
      "   macro avg       0.67      0.66      0.66      4583\n",
      "weighted avg       0.67      0.68      0.67      4583\n",
      "\n",
      "test score 0.6779402138337334\n"
     ]
    }
   ],
   "source": [
    "target_names = ['home_loss', 'home_win']\n",
    "\n",
    "\n",
    "print(\"Συνολικός χρόνος fit και predict: %s seconds\" % (time.time() - start_time))\n",
    "print(classification_report(y_test_lasso, preds, target_names=target_names))\n",
    "print(\"test score\", test_score)\n"
   ]
  },
  {
   "cell_type": "code",
   "execution_count": 10,
   "metadata": {},
   "outputs": [
    {
     "name": "stdout",
     "output_type": "stream",
     "text": [
      "Training Results: \n",
      "===============================\n",
      "Confusion Matrix:\n",
      "[[2143 1652]\n",
      " [1019 4506]]\n",
      "Accuracy Score:\n",
      "0.7134\n",
      "Classification Report:\n",
      "              precision    recall  f1-score   support\n",
      "\n",
      "           0       0.68      0.56      0.62      3795\n",
      "           1       0.73      0.82      0.77      5525\n",
      "\n",
      "    accuracy                           0.71      9320\n",
      "   macro avg       0.70      0.69      0.69      9320\n",
      "weighted avg       0.71      0.71      0.71      9320\n",
      "\n",
      "Testing Results: \n",
      "===============================\n",
      "Confusion Matrix:\n",
      "[[1063  872]\n",
      " [ 604 2044]]\n",
      "Accuracy Score:\n",
      "0.6779\n",
      "Classification Report:\n",
      "              precision    recall  f1-score   support\n",
      "\n",
      "           0       0.64      0.55      0.59      1935\n",
      "           1       0.70      0.77      0.73      2648\n",
      "\n",
      "    accuracy                           0.68      4583\n",
      "   macro avg       0.67      0.66      0.66      4583\n",
      "weighted avg       0.67      0.68      0.67      4583\n",
      "\n"
     ]
    }
   ],
   "source": [
    "evaluate(model, X_train_lasso, X_test_lasso, y_train_lasso, y_test_lasso)"
   ]
  },
  {
   "cell_type": "markdown",
   "metadata": {},
   "source": [
    "### XGB with Sequential Feature Selection"
   ]
  },
  {
   "cell_type": "markdown",
   "metadata": {},
   "source": [
    "#### Forward"
   ]
  },
  {
   "cell_type": "code",
   "execution_count": 9,
   "metadata": {},
   "outputs": [],
   "source": [
    "X_train_for_sfs = train_data[['num_possible_outcomes', 'odds_home', 'odds_away', 'HOME_RECORD_home',\n",
    "                    'W_PCT_away', 'W_PCT_prev_home', 'ROAD_RECORD_prev_home', 'W_PCT_prev_away',\n",
    "                    'HOME_RECORD_prev_away', 'ROAD_RECORD_prev_away', 'WIN_PRCT_home_3g',\n",
    "                    'FT_PCT_home_3g', 'FT_PCT_away_3g', 'FG3_PCT_away_3g', 'WIN_PRCT_home_7g',\n",
    "                    'FT_PCT_away_7g', 'REB_away_7g', 'diff_avg_ast_home', 'diff_avg_ast_away',\n",
    "                    'diff_avg_fg3_pct_home', 'diff_avg_fg_pct_away', 'diff_avg_reb_away',\n",
    "                    'top_players', 'eff', 'eff_visitor', 'G_7days', 'back2back',\n",
    "                    'HG_7days_VISITOR', 'AG_7days_VISITOR', 'G_7days_VISITOR',\n",
    "                    'back2back_visitor', 'missing_players', 'missing_players_visitor',\n",
    "                    'home_elo', 'elo_diff', 'missing_player_diff', 'eff_diff',\n",
    "                    'Home_Last_5_Avg_FG3_PCT_home', 'Home_Last_5_Avg_FG3_PCT_away',\n",
    "                    'Away_Last_5_Avg_FG3_PCT_home', 'Away_Last_5_Avg_FT_PCT_away',\n",
    "                    'diff_fg_pct_last_3_games', 'diff_fg3_pct_last_7_games',\n",
    "                    'diff_ft_pct_last_3_games', 'diff_ast_last_3_games',\n",
    "                    'diff_ast_last_7_games', 'diff_win_pct_prev_season',\n",
    "                    'diff_home_record_last_season', 'diff_road_record_last_season',\n",
    "                    'diff_curr_win_pct']]\n",
    "\n",
    "y_train_for_sfs = y_train\n",
    "\n",
    "\n",
    "\n",
    "X_test_for_sfs = test_data[['num_possible_outcomes', 'odds_home', 'odds_away', 'HOME_RECORD_home',\n",
    "                    'W_PCT_away', 'W_PCT_prev_home', 'ROAD_RECORD_prev_home', 'W_PCT_prev_away',\n",
    "                    'HOME_RECORD_prev_away', 'ROAD_RECORD_prev_away', 'WIN_PRCT_home_3g',\n",
    "                    'FT_PCT_home_3g', 'FT_PCT_away_3g', 'FG3_PCT_away_3g', 'WIN_PRCT_home_7g',\n",
    "                    'FT_PCT_away_7g', 'REB_away_7g', 'diff_avg_ast_home', 'diff_avg_ast_away',\n",
    "                    'diff_avg_fg3_pct_home', 'diff_avg_fg_pct_away', 'diff_avg_reb_away',\n",
    "                    'top_players', 'eff', 'eff_visitor', 'G_7days', 'back2back',\n",
    "                    'HG_7days_VISITOR', 'AG_7days_VISITOR', 'G_7days_VISITOR',\n",
    "                    'back2back_visitor', 'missing_players', 'missing_players_visitor',\n",
    "                    'home_elo', 'elo_diff', 'missing_player_diff', 'eff_diff',\n",
    "                    'Home_Last_5_Avg_FG3_PCT_home', 'Home_Last_5_Avg_FG3_PCT_away',\n",
    "                    'Away_Last_5_Avg_FG3_PCT_home', 'Away_Last_5_Avg_FT_PCT_away',\n",
    "                    'diff_fg_pct_last_3_games', 'diff_fg3_pct_last_7_games',\n",
    "                    'diff_ft_pct_last_3_games', 'diff_ast_last_3_games',\n",
    "                    'diff_ast_last_7_games', 'diff_win_pct_prev_season',\n",
    "                    'diff_home_record_last_season', 'diff_road_record_last_season',\n",
    "                    'diff_curr_win_pct']]\n",
    "\n",
    "y_test_for_sfs = y_test\n"
   ]
  },
  {
   "cell_type": "code",
   "execution_count": 10,
   "metadata": {},
   "outputs": [],
   "source": [
    "# XG Boost classifier\n",
    "model = xgb.XGBClassifier(gamma=0.0, learning_rate=0.1, max_depth=3, \n",
    "min_child_weight=1, n_estimators=100)\n",
    "model.fit(X_train_for_sfs, y_train_for_sfs)\n",
    "\n",
    "\n",
    "start_time = time.time()\n",
    "\n",
    "preds = model.predict(X_test_for_sfs)\n",
    "test_score = model.score(X_test_for_sfs, y_test_for_sfs)\n",
    "\n"
   ]
  },
  {
   "cell_type": "code",
   "execution_count": 11,
   "metadata": {},
   "outputs": [
    {
     "name": "stdout",
     "output_type": "stream",
     "text": [
      "Συνολικός χρόνος fit και predict: 7.852690696716309 seconds\n",
      "              precision    recall  f1-score   support\n",
      "\n",
      "   home loss       0.63      0.53      0.58      1935\n",
      "    home win       0.69      0.78      0.73      2648\n",
      "\n",
      "    accuracy                           0.67      4583\n",
      "   macro avg       0.66      0.65      0.65      4583\n",
      "weighted avg       0.67      0.67      0.67      4583\n",
      "\n",
      "test score 0.672267073969016\n"
     ]
    }
   ],
   "source": [
    "target_names = ['home loss', 'home win']\n",
    "\n",
    "print(\"Συνολικός χρόνος fit και predict: %s seconds\" % (time.time() - start_time))\n",
    "print(classification_report(y_test_for_sfs, preds, target_names=target_names))\n",
    "\n",
    "y_fit = model.predict(X_test_for_sfs)\n",
    "\n",
    "print(\"test score\", test_score)"
   ]
  },
  {
   "cell_type": "markdown",
   "metadata": {},
   "source": [
    "#### Backwards"
   ]
  },
  {
   "cell_type": "code",
   "execution_count": 12,
   "metadata": {},
   "outputs": [],
   "source": [
    "X_train_back_sfs = train_data[['num_possible_outcomes', 'odds_home', 'odds_away', 'HOME_RECORD_home',\n",
    "                     'W_PCT_away', 'W_PCT_prev_away', 'HOME_RECORD_prev_away',\n",
    "                     'ROAD_RECORD_prev_away', 'FT_PCT_home_3g', 'FG3_PCT_home_3g', 'PTS_away_3g',\n",
    "                     'FG_PCT_away_3g', 'FT_PCT_away_3g', 'FG3_PCT_away_3g', 'PTS_home_7g',\n",
    "                     'FG_PCT_home_7g', 'AST_home_7g', 'AST_away_7g', 'REB_away_7g',\n",
    "                     'diff_avg_pts_away', 'diff_avg_ast_home', 'diff_avg_ast_away',\n",
    "                     'diff_avg_fg3_pct_home', 'top_players', 'top_players_visitor', 'eff_visitor',\n",
    "                     'G_7days', 'back2back', 'HG_7days_VISITOR', 'AG_7days_VISITOR',\n",
    "                     'G_7days_VISITOR', 'back2back_visitor', 'home_elo', 'elo_diff',\n",
    "                     'missing_player_diff', 'eff_diff', 'Home_Last_5_Avg_AST_home',\n",
    "                     'Home_Last_5_Avg_REB_home', 'Home_Last_5_Avg_REB_away',\n",
    "                     'Home_Last_5_Avg_FG3_PCT_away', 'Away_Last_5_Avg_PTS_home',\n",
    "                     'Away_Last_5_Avg_FG3_PCT_home', 'Away_Last_5_Avg_AST_home',\n",
    "                     'Away_Last_5_Avg_FT_PCT_away', 'diff_fg3_pct_last_3_games',\n",
    "                     'diff_fg3_pct_last_7_games', 'diff_ft_pct_last_3_games',\n",
    "                     'diff_ast_last_7_games', 'diff_reb_last_3_games',\n",
    "                     'diff_win_pct_3_last_games']]\n",
    "\n",
    "y_train_back_sfs = y_train\n",
    "\n",
    "\n",
    "X_test_back_sfs = test_data[['num_possible_outcomes', 'odds_home', 'odds_away', 'HOME_RECORD_home',\n",
    "                     'W_PCT_away', 'W_PCT_prev_away', 'HOME_RECORD_prev_away',\n",
    "                     'ROAD_RECORD_prev_away', 'FT_PCT_home_3g', 'FG3_PCT_home_3g', 'PTS_away_3g',\n",
    "                     'FG_PCT_away_3g', 'FT_PCT_away_3g', 'FG3_PCT_away_3g', 'PTS_home_7g',\n",
    "                     'FG_PCT_home_7g', 'AST_home_7g', 'AST_away_7g', 'REB_away_7g',\n",
    "                     'diff_avg_pts_away', 'diff_avg_ast_home', 'diff_avg_ast_away',\n",
    "                     'diff_avg_fg3_pct_home', 'top_players', 'top_players_visitor', 'eff_visitor',\n",
    "                     'G_7days', 'back2back', 'HG_7days_VISITOR', 'AG_7days_VISITOR',\n",
    "                     'G_7days_VISITOR', 'back2back_visitor', 'home_elo', 'elo_diff',\n",
    "                     'missing_player_diff', 'eff_diff', 'Home_Last_5_Avg_AST_home',\n",
    "                     'Home_Last_5_Avg_REB_home', 'Home_Last_5_Avg_REB_away',\n",
    "                     'Home_Last_5_Avg_FG3_PCT_away', 'Away_Last_5_Avg_PTS_home',\n",
    "                     'Away_Last_5_Avg_FG3_PCT_home', 'Away_Last_5_Avg_AST_home',\n",
    "                     'Away_Last_5_Avg_FT_PCT_away', 'diff_fg3_pct_last_3_games',\n",
    "                     'diff_fg3_pct_last_7_games', 'diff_ft_pct_last_3_games',\n",
    "                     'diff_ast_last_7_games', 'diff_reb_last_3_games',\n",
    "                     'diff_win_pct_3_last_games']]\n",
    "\n",
    "y_test_back_sfs = y_test"
   ]
  },
  {
   "cell_type": "code",
   "execution_count": 13,
   "metadata": {},
   "outputs": [],
   "source": [
    "# XG Boost classifier\n",
    "model = xgb.XGBClassifier(gamma=0.0, learning_rate=0.1, max_depth=3, \n",
    "min_child_weight=1, n_estimators=100)\n",
    "model.fit(X_train_back_sfs, y_train_back_sfs)\n",
    "\n",
    "\n",
    "start_time = time.time()\n",
    "\n",
    "preds = model.predict(X_test_back_sfs)\n",
    "test_score = model.score(X_test_back_sfs, y_test_back_sfs)\n",
    "\n"
   ]
  },
  {
   "cell_type": "code",
   "execution_count": 14,
   "metadata": {},
   "outputs": [
    {
     "name": "stdout",
     "output_type": "stream",
     "text": [
      "Συνολικός χρόνος fit και predict: 9.542069911956787 seconds\n",
      "              precision    recall  f1-score   support\n",
      "\n",
      "   home loss       0.63      0.54      0.58      1935\n",
      "    home win       0.70      0.77      0.73      2648\n",
      "\n",
      "    accuracy                           0.67      4583\n",
      "   macro avg       0.66      0.65      0.66      4583\n",
      "weighted avg       0.67      0.67      0.67      4583\n",
      "\n",
      "test score 0.6724852716561205\n"
     ]
    }
   ],
   "source": [
    "target_names = ['home loss', 'home win']\n",
    "\n",
    "print(\"Συνολικός χρόνος fit και predict: %s seconds\" % (time.time() - start_time))\n",
    "print(classification_report(y_test_back_sfs, preds, target_names=target_names))\n",
    "\n",
    "y_fit = model.predict(X_test_back_sfs)\n",
    "\n",
    "print(\"test score\", test_score)"
   ]
  },
  {
   "cell_type": "code",
   "execution_count": null,
   "metadata": {},
   "outputs": [],
   "source": []
  }
 ],
 "metadata": {
  "interpreter": {
   "hash": "81794d4967e6c3204c66dcd87b604927b115b27c00565d3d43f05ba2f3a2cb0d"
  },
  "kernelspec": {
   "display_name": "Python 3.9.4 64-bit",
   "language": "python",
   "name": "python3"
  },
  "language_info": {
   "codemirror_mode": {
    "name": "ipython",
    "version": 3
   },
   "file_extension": ".py",
   "mimetype": "text/x-python",
   "name": "python",
   "nbconvert_exporter": "python",
   "pygments_lexer": "ipython3",
   "version": "3.9.4"
  },
  "orig_nbformat": 4
 },
 "nbformat": 4,
 "nbformat_minor": 2
}
