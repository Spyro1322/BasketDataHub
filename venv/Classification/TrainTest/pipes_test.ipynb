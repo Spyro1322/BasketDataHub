{
 "cells": [
  {
   "cell_type": "code",
   "execution_count": 2,
   "metadata": {},
   "outputs": [],
   "source": [
    "from sklearn.svm import SVC\n",
    "from sklearn.model_selection import train_test_split, GridSearchCV, RandomizedSearchCV, StratifiedKFold\n",
    "from sklearn.metrics import classification_report\n",
    "import time\n",
    "\n",
    "%matplotlib inline\n",
    "import numpy as np\n",
    "import pandas as pd\n",
    "import matplotlib.pyplot as plt\n",
    "from scipy import stats\n",
    "\n",
    "# use seaborn plotting defaults\n",
    "import seaborn as sns; sns.set()\n",
    "\n",
    "from sklearn.neighbors import KNeighborsClassifier\n",
    "from sklearn.feature_selection import RFE, SequentialFeatureSelector\n",
    "from sklearn.feature_selection import SelectKBest, SelectFromModel, mutual_info_classif\n",
    "from sklearn.feature_selection import f_classif, chi2\n",
    "from sklearn.linear_model import LogisticRegression\n",
    "from sklearn.ensemble import RandomForestClassifier\n",
    "\n",
    "from sklearn.naive_bayes import GaussianNB\n",
    "\n",
    "from sklearn.pipeline import Pipeline\n",
    "from sklearn.preprocessing import MinMaxScaler, StandardScaler\n",
    "from sklearn.decomposition import PCA\n",
    "\n",
    "from sklearn.neural_network import MLPClassifier\n",
    "\n",
    "\n",
    "import warnings\n"
   ]
  },
  {
   "cell_type": "code",
   "execution_count": 3,
   "metadata": {},
   "outputs": [],
   "source": [
    "warnings.filterwarnings('ignore')\n"
   ]
  },
  {
   "cell_type": "code",
   "execution_count": 4,
   "metadata": {},
   "outputs": [],
   "source": [
    "df = pd.read_csv('../../FeatureEngineering/MetaData/data6_&_odds.csv')\n",
    "df.dropna(inplace=True)"
   ]
  },
  {
   "cell_type": "code",
   "execution_count": 5,
   "metadata": {},
   "outputs": [],
   "source": [
    "train_data = df.loc[(df.season <= 2013) & (df.season >= 2007)]\n",
    "valid_data = df.loc[(df.season > 2013) & (df.season < 2016)]\n",
    "test_data = df.loc[df.season >= 2016]\n",
    "full_train_data = pd.concat([train_data, valid_data], axis=0)\n",
    "\n",
    "X, y = train_data.drop(columns=['home_team_wins']), train_data.home_team_wins\n",
    "valid_X, valid_y = valid_data.drop(columns=['home_team_wins']), valid_data.home_team_wins\n",
    "test_X, test_y = test_data.drop(columns=['home_team_wins']), test_data.home_team_wins\n",
    "\n",
    "# Split our data\n",
    "X_train, y_train = train_data.drop(columns=[\"game_date_est\",\"season\",\"game_id\",\"home_team\",\"visitor_team\",\"home_team_id\",\"visitor_team_id\",\"home_team_wins\",\"conference\",\"conference_visitor\"]), train_data.home_team_wins\n",
    "X_val, y_val = valid_data.drop(columns=[\"game_date_est\",\"season\",\"game_id\",\"home_team\",\"visitor_team\",\"home_team_id\",\"visitor_team_id\",\"home_team_wins\",\"conference\",\"conference_visitor\"]), valid_data.home_team_wins\n",
    "X_test, y_test = test_data.drop(columns=[\"game_date_est\",\"season\",\"game_id\",\"home_team\",\"visitor_team\",\"home_team_id\",\"visitor_team_id\",\"home_team_wins\",\"conference\",\"conference_visitor\"]), test_data.home_team_wins\n",
    "\n"
   ]
  },
  {
   "cell_type": "code",
   "execution_count": 6,
   "metadata": {},
   "outputs": [
    {
     "data": {
      "text/plain": [
       "Pipeline(steps=[('selector',\n",
       "                 SelectFromModel(estimator=RandomForestClassifier())),\n",
       "                ('scaler', StandardScaler()),\n",
       "                ('classifier',\n",
       "                 RandomForestClassifier(max_depth=8, max_features='sqrt',\n",
       "                                        min_samples_leaf=4,\n",
       "                                        min_samples_split=12))])"
      ]
     },
     "execution_count": 6,
     "metadata": {},
     "output_type": "execute_result"
    }
   ],
   "source": [
    "pipe_model = Pipeline([\n",
    "    ('selector', SelectFromModel(RandomForestClassifier())),\n",
    "    ('scaler', StandardScaler()),\n",
    "    # ('normalizer', MinMaxScaler()),\n",
    "    ('classifier', RandomForestClassifier(bootstrap=True, max_depth=8, max_features='sqrt', min_samples_leaf=4, min_samples_split=12, n_estimators=100))\n",
    "])\n",
    "\n",
    "pipe_model.fit(X_train, y_train)"
   ]
  },
  {
   "cell_type": "code",
   "execution_count": 7,
   "metadata": {},
   "outputs": [
    {
     "name": "stdout",
     "output_type": "stream",
     "text": [
      "              precision    recall  f1-score   support\n",
      "\n",
      "   home loss       0.63      0.55      0.59      1935\n",
      "    home win       0.70      0.77      0.73      2648\n",
      "\n",
      "    accuracy                           0.67      4583\n",
      "   macro avg       0.67      0.66      0.66      4583\n",
      "weighted avg       0.67      0.67      0.67      4583\n",
      "\n",
      "test score 0.6746672485271656\n"
     ]
    }
   ],
   "source": [
    "# Predict\n",
    "preds = pipe_model.predict(X_test)\n",
    "test_score = pipe_model.score(X_test, y_test)\n",
    "\n",
    "target_names=['home loss', 'home win']\n",
    "\n",
    "print(classification_report(y_test, preds, target_names=target_names))\n",
    "\n",
    "print(\"test score\", test_score)\n"
   ]
  },
  {
   "cell_type": "code",
   "execution_count": 8,
   "metadata": {},
   "outputs": [
    {
     "data": {
      "text/plain": [
       "Pipeline(steps=[('normalizer', MinMaxScaler()), ('selector', SelectKBest(k=5)),\n",
       "                ('classifier',\n",
       "                 MLPClassifier(alpha=1e-05, hidden_layer_sizes=(20, 10, 5),\n",
       "                               max_iter=250, solver='lbfgs'))])"
      ]
     },
     "execution_count": 8,
     "metadata": {},
     "output_type": "execute_result"
    }
   ],
   "source": [
    "pipe_model = Pipeline([\n",
    "    ('normalizer', MinMaxScaler()),\n",
    "    ('selector', SelectKBest(score_func=f_classif, k=5)),\n",
    "    ('classifier', MLPClassifier(alpha=1e-05, hidden_layer_sizes=(20, 10, 5), max_iter=250, solver='lbfgs'))\n",
    "])\n",
    "\n",
    "pipe_model.fit(X_train, y_train)"
   ]
  },
  {
   "cell_type": "code",
   "execution_count": 9,
   "metadata": {},
   "outputs": [
    {
     "name": "stdout",
     "output_type": "stream",
     "text": [
      "              precision    recall  f1-score   support\n",
      "\n",
      "   home loss       0.62      0.56      0.59      1935\n",
      "    home win       0.70      0.75      0.72      2648\n",
      "\n",
      "    accuracy                           0.67      4583\n",
      "   macro avg       0.66      0.65      0.66      4583\n",
      "weighted avg       0.67      0.67      0.67      4583\n",
      "\n",
      "test score 0.6685577132882391\n"
     ]
    }
   ],
   "source": [
    "# Predict\n",
    "preds = pipe_model.predict(X_test)\n",
    "test_score = pipe_model.score(X_test, y_test)\n",
    "\n",
    "target_names=['home loss', 'home win']\n",
    "\n",
    "print(classification_report(y_test, preds, target_names=target_names))\n",
    "\n",
    "print(\"test score\", test_score)\n"
   ]
  },
  {
   "cell_type": "code",
   "execution_count": null,
   "metadata": {},
   "outputs": [],
   "source": []
  }
 ],
 "metadata": {
  "kernelspec": {
   "display_name": "Python 3.9.4 64-bit",
   "language": "python",
   "name": "python3"
  },
  "language_info": {
   "codemirror_mode": {
    "name": "ipython",
    "version": 3
   },
   "file_extension": ".py",
   "mimetype": "text/x-python",
   "name": "python",
   "nbconvert_exporter": "python",
   "pygments_lexer": "ipython3",
   "version": "3.9.4"
  },
  "orig_nbformat": 4,
  "vscode": {
   "interpreter": {
    "hash": "81794d4967e6c3204c66dcd87b604927b115b27c00565d3d43f05ba2f3a2cb0d"
   }
  }
 },
 "nbformat": 4,
 "nbformat_minor": 2
}
