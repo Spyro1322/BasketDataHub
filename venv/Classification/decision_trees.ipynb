{
 "cells": [
  {
   "cell_type": "markdown",
   "metadata": {},
   "source": [
    "## Decision Trees"
   ]
  },
  {
   "cell_type": "code",
   "execution_count": 1,
   "metadata": {},
   "outputs": [],
   "source": [
    "from sklearn.tree import DecisionTreeClassifier\n",
    "from sklearn.model_selection import train_test_split, cross_val_score, GridSearchCV\n",
    "from sklearn.metrics import accuracy_score\n",
    "from sklearn.decomposition import PCA\n",
    "from sklearn.metrics import classification_report\n",
    "\n",
    "\n",
    "import warnings\n",
    "warnings.filterwarnings('ignore')"
   ]
  },
  {
   "cell_type": "code",
   "execution_count": 2,
   "metadata": {},
   "outputs": [],
   "source": [
    "import pandas as pd\n",
    "import numpy as np\n",
    "\n",
    "df = pd.read_csv('../FeatureEngineering/MetaData/data6_&_odds.csv')\n",
    "df.dropna(inplace=True)"
   ]
  },
  {
   "cell_type": "code",
   "execution_count": 3,
   "metadata": {},
   "outputs": [],
   "source": [
    "train_data = df.loc[(df.season <= 2013) & (df.season >= 2007)]\n",
    "valid_data = df.loc[(df.season > 2013) & (df.season < 2016)]\n",
    "test_data = df.loc[df.season >= 2016]\n",
    "full_train_data = pd.concat([train_data, valid_data], axis=0)\n",
    "\n",
    "X_train, y_train = train_data.drop(columns=[\"game_date_est\",\"season\",\"game_id\",\"home_team\",\"visitor_team\",\"home_team_id\",\"visitor_team_id\",\"home_team_wins\",\"conference\",\"conference_visitor\"]), train_data.home_team_wins\n",
    "X_val, y_val = valid_data.drop(columns=[\"game_date_est\",\"season\",\"game_id\",\"home_team\",\"visitor_team\",\"home_team_id\",\"visitor_team_id\",\"home_team_wins\",\"conference\",\"conference_visitor\"]), valid_data.home_team_wins\n",
    "X_test, y_test = test_data.drop(columns=[\"game_date_est\",\"season\",\"game_id\",\"home_team\",\"visitor_team\",\"home_team_id\",\"visitor_team_id\",\"home_team_wins\",\"conference\",\"conference_visitor\"]), test_data.home_team_wins\n"
   ]
  },
  {
   "cell_type": "markdown",
   "metadata": {},
   "source": [
    "#### Decison Trees with GridSearchCV"
   ]
  },
  {
   "cell_type": "code",
   "execution_count": 7,
   "metadata": {},
   "outputs": [
    {
     "name": "stdout",
     "output_type": "stream",
     "text": [
      "Συνολικός χρόνος fit και predict: 9.42479920387268 seconds\n",
      "              precision    recall  f1-score   support\n",
      "\n",
      "   home_loss       0.66      0.53      0.59      1011\n",
      "    home_win       0.71      0.80      0.75      1409\n",
      "\n",
      "    accuracy                           0.69      2420\n",
      "   macro avg       0.68      0.67      0.67      2420\n",
      "weighted avg       0.69      0.69      0.68      2420\n",
      "\n",
      "val score: 0.6892561983471074\n",
      "DecisionTreeClassifier(ccp_alpha=0.001, max_depth=6, max_features='auto',\n",
      "                       random_state=42)\n",
      "{'ccp_alpha': 0.001, 'criterion': 'gini', 'max_depth': 6, 'max_features': 'auto'}\n",
      "best score: 0.6794202898550725\n"
     ]
    }
   ],
   "source": [
    "import time\n",
    "\n",
    "clf = DecisionTreeClassifier(random_state=42)\n",
    "# η παράμετρος n_jobs = 1 χρησιμοποιεί όλους τους πυρήνες του υπολογιστή\n",
    "params = {  'max_features': ['auto', 'sqrt', 'log2'],\n",
    "            'ccp_alpha': [0.1, .01, .001],\n",
    "            'max_depth' : [5, 6, 7, 8, 9],\n",
    "            'criterion' :['gini', 'entropy', 'log_loss']\n",
    "        }\n",
    "\n",
    "estimator = GridSearchCV(clf, param_grid=params, cv=5, scoring='accuracy', n_jobs=-1)\n",
    "start_time = time.time()\n",
    "estimator.fit(X_train, y_train)\n",
    "val_score = estimator.score(X_val, y_val)\n",
    "\n",
    "preds = estimator.predict(X_val)\n",
    "\n",
    "target_names = ['home_loss', 'home_win']\n",
    "\n",
    "print(\"Συνολικός χρόνος fit και predict: %s seconds\" % (time.time() - start_time))\n",
    "print(classification_report(y_val, preds, target_names=target_names))\n",
    "print(\"val score:\", val_score)\n",
    "print(estimator.best_estimator_)\n",
    "print(estimator.best_params_)\n",
    "print(\"best score:\", estimator.best_score_)\n",
    "# print(\"test score\", test_score)\n",
    "\n"
   ]
  },
  {
   "cell_type": "code",
   "execution_count": null,
   "metadata": {},
   "outputs": [],
   "source": []
  }
 ],
 "metadata": {
  "kernelspec": {
   "display_name": "Python 3.9.4 64-bit",
   "language": "python",
   "name": "python3"
  },
  "language_info": {
   "codemirror_mode": {
    "name": "ipython",
    "version": 3
   },
   "file_extension": ".py",
   "mimetype": "text/x-python",
   "name": "python",
   "nbconvert_exporter": "python",
   "pygments_lexer": "ipython3",
   "version": "3.9.4"
  },
  "orig_nbformat": 4,
  "vscode": {
   "interpreter": {
    "hash": "81794d4967e6c3204c66dcd87b604927b115b27c00565d3d43f05ba2f3a2cb0d"
   }
  }
 },
 "nbformat": 4,
 "nbformat_minor": 2
}
