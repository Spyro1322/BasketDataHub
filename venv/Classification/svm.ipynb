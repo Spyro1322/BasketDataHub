{
  "nbformat": 4,
  "nbformat_minor": 0,
  "metadata": {
    "colab": {
      "name": "svm.ipynb",
      "provenance": [],
      "collapsed_sections": []
    },
    "kernelspec": {
      "name": "python3",
      "display_name": "Python 3"
    },
    "language_info": {
      "name": "python"
    }
  },
  "cells": [
    {
      "cell_type": "markdown",
      "source": [
        "## SVM with GridSearchCV"
      ],
      "metadata": {
        "id": "6tUmsUV-YuVE"
      }
    },
    {
      "cell_type": "code",
      "execution_count": 1,
      "metadata": {
        "id": "Lmv3dcgmWDdb"
      },
      "outputs": [],
      "source": [
        "from sklearn.svm import SVC\n",
        "from sklearn.model_selection import train_test_split, GridSearchCV\n",
        "from sklearn.metrics import classification_report\n",
        "import time\n",
        "\n",
        "%matplotlib inline\n",
        "import numpy as np\n",
        "import pandas as pd\n",
        "import matplotlib.pyplot as plt\n",
        "from scipy import stats\n",
        "\n",
        "# use seaborn plotting defaults\n",
        "import seaborn as sns; sns.set()\n",
        "\n",
        "import warnings\n"
      ]
    },
    {
      "cell_type": "code",
      "source": [
        "warnings.filterwarnings('ignore')\n"
      ],
      "metadata": {
        "id": "5Zt8vfg3ZRoX"
      },
      "execution_count": 2,
      "outputs": []
    },
    {
      "cell_type": "code",
      "source": [
        "df = pd.read_csv('data5.csv')"
      ],
      "metadata": {
        "id": "rtWQEZCOXlVq"
      },
      "execution_count": 3,
      "outputs": []
    },
    {
      "cell_type": "code",
      "source": [
        "train_data = df.loc[(df.season <= 2013) & (df.season >= 2007)]\n",
        "valid_data = df.loc[(df.season > 2013) & (df.season < 2016)]\n",
        "test_data = df.loc[df.season >= 2016]\n",
        "full_train_data = pd.concat([train_data, valid_data], axis=0)\n",
        "\n",
        "X, y = train_data.drop(columns=['home_team_wins']), train_data.home_team_wins\n",
        "valid_X, valid_y = valid_data.drop(columns=['home_team_wins']), valid_data.home_team_wins\n",
        "test_X, test_y = test_data.drop(columns=['home_team_wins']), test_data.home_team_wins\n",
        "\n",
        "X1 = df.drop([\"game_date_est\", \"season\", \"game_id\", \"home_team\", \"visitor_team\", \"home_team_id\", \"visitor_team_id\",\n",
        "              \"home_team_wins\", \"conference\", \"conference_visitor\"], axis=1)\n",
        "y1 = df[\"home_team_wins\"]\n",
        "\n",
        "# Split our data\n",
        "X_train, X_test, y_train, y_test = train_test_split(X1, y1, test_size=0.4)\n",
        "\n",
        "# Split Data to Train and Validation\n",
        "X_train, X_val, y_train, y_val = train_test_split(X_train, y_train, test_size=0.2, random_state=1)\n"
      ],
      "metadata": {
        "id": "7WNVxiX5ZJqI"
      },
      "execution_count": 4,
      "outputs": []
    },
    {
      "cell_type": "code",
      "source": [
        "# Support vector classifier\n",
        "model = SVC()\n",
        "model.fit(X_train, y_train)\n",
        "\n",
        "# defining parameter range\n",
        "param_grid = {'C': [0.1, 1, 10, 100, 1000],\n",
        "              'gamma': [1, 0.1, 0.01, 0.001, 0.0001],\n",
        "              'kernel': ['rbf']}\n",
        "\n",
        "grid = GridSearchCV(model, param_grid, cv=5, scoring='accuracy', n_jobs=-1)\n",
        "\n",
        "start_time = time.time()\n",
        "grid.fit(X_train, y_train)\n",
        "val_score = grid.score(X_val, y_val)\n",
        "\n",
        "preds = grid.predict(X_test)\n",
        "test_score = grid.score(X_test, y_test)\n",
        "\n"
      ],
      "metadata": {
        "id": "zSjl8cDaZXhT"
      },
      "execution_count": 9,
      "outputs": []
    },
    {
      "cell_type": "code",
      "source": [
        "target_names = ['home_loss', 'home_win']\n",
        "\n",
        "\n",
        "print(\"Συνολικός χρόνος fit και predict: %s seconds\" % (time.time() - start_time))\n",
        "print(classification_report(y_test, preds, target_names-target_names))\n",
        "print(\"val score:\", val_score)\n",
        "\n",
        "model = grid.best_estimator_\n",
        "y_fit = model.predict(X_test)\n",
        "\n",
        "print(grid.best_params_)\n",
        "print(\"best score:\", grid.best_score_)\n",
        "print(\"test score\", test_score)\n"
      ],
      "metadata": {
        "colab": {
          "base_uri": "https://localhost:8080/"
        },
        "id": "26LvMTJmZ5fk",
        "outputId": "7b383a4c-f4a7-4f1c-cf1d-c10f8c8b6ba4"
      },
      "execution_count": 10,
      "outputs": [
        {
          "output_type": "stream",
          "name": "stdout",
          "text": [
            "Συνολικός χρόνος fit και predict: 610.7536923885345 seconds\n",
            "              precision    recall  f1-score   support\n",
            "\n",
            "           0       0.61      0.49      0.54      2501\n",
            "           1       0.69      0.78      0.73      3591\n",
            "\n",
            "    accuracy                           0.66      6092\n",
            "   macro avg       0.65      0.63      0.64      6092\n",
            "weighted avg       0.65      0.66      0.65      6092\n",
            "\n",
            "val score: 0.6438730853391685\n",
            "{'C': 1, 'gamma': 0.0001, 'kernel': 'rbf'}\n",
            "best score: 0.6537155275653073\n",
            "test score 0.6605384110308602\n"
          ]
        }
      ]
    },
    {
      "cell_type": "markdown",
      "source": [
        "## Pipeline & Randomized PCA"
      ],
      "metadata": {
        "id": "gZGvPsALcuE0"
      }
    },
    {
      "cell_type": "code",
      "source": [
        "from sklearn.svm import SVC\n",
        "from sklearn.decomposition import PCA as RandomizedPCA\n",
        "from sklearn.pipeline import make_pipeline"
      ],
      "metadata": {
        "id": "PePfSsuMcR7q"
      },
      "execution_count": 5,
      "outputs": []
    },
    {
      "cell_type": "code",
      "source": [
        "pca = RandomizedPCA(whiten=True)\n",
        "svc = SVC(class_weight='balanced')\n",
        "model = make_pipeline(pca, svc)"
      ],
      "metadata": {
        "id": "vQW366y7c54_"
      },
      "execution_count": 6,
      "outputs": []
    },
    {
      "cell_type": "code",
      "source": [
        "model.fit(X_train, y_train)"
      ],
      "metadata": {
        "colab": {
          "base_uri": "https://localhost:8080/"
        },
        "id": "a-j82GPGfANS",
        "outputId": "7ccec5a1-8617-4cdc-f7e2-ce18dc121e72"
      },
      "execution_count": 7,
      "outputs": [
        {
          "output_type": "execute_result",
          "data": {
            "text/plain": [
              "Pipeline(steps=[('pca', PCA(whiten=True)),\n",
              "                ('svc', SVC(class_weight='balanced'))])"
            ]
          },
          "metadata": {},
          "execution_count": 7
        }
      ]
    },
    {
      "cell_type": "code",
      "source": [
        "from sklearn.model_selection import GridSearchCV\n",
        "param_grid = {'pca__n_components': [5, 20],\n",
        "              'svc__kernel': ['linear', 'rbf'],\n",
        "              'svc__C': [0.1, 1, 10, 100],\n",
        "              'svc__gamma': [0.00025, 0.0005, 0.001]}\n",
        "grid = GridSearchCV(model, param_grid)\n",
        "\n",
        "%time grid.fit(X_train, y_train)\n",
        "print(grid.best_params_)"
      ],
      "metadata": {
        "colab": {
          "base_uri": "https://localhost:8080/"
        },
        "id": "CRzAPhjFc-GD",
        "outputId": "f6c57514-159f-4103-e7a1-d1303e6b7ae3"
      },
      "execution_count": 8,
      "outputs": [
        {
          "output_type": "stream",
          "name": "stdout",
          "text": [
            "CPU times: user 37min 56s, sys: 1min 7s, total: 39min 3s\n",
            "Wall time: 37min 43s\n",
            "{'pca__n_components': 20, 'svc__C': 100, 'svc__gamma': 0.0005, 'svc__kernel': 'rbf'}\n"
          ]
        }
      ]
    },
    {
      "cell_type": "code",
      "source": [
        "val_score = grid.score(X_val, y_val)\n",
        "\n",
        "preds = grid.predict(X_test)\n",
        "test_score = grid.score(X_test, y_test)"
      ],
      "metadata": {
        "id": "xKtgKOy0dr-s"
      },
      "execution_count": 9,
      "outputs": []
    },
    {
      "cell_type": "code",
      "source": [
        "start_time = time.time()\n",
        "\n",
        "target_names = ['home_loss', 'home_win']\n",
        "\n",
        "\n",
        "print(\"Συνολικός χρόνος fit και predict: %s seconds\" % (time.time() - start_time))\n",
        "print(classification_report(y_test, preds, target_names=target_names))\n",
        "print(\"val score:\", val_score)\n",
        "\n",
        "model = grid.best_estimator_\n",
        "y_fit = model.predict(X_test)\n",
        "\n",
        "print(grid.best_params_)\n",
        "print(\"best score:\", grid.best_score_)\n",
        "print(\"test score\", test_score)"
      ],
      "metadata": {
        "colab": {
          "base_uri": "https://localhost:8080/"
        },
        "id": "G6m4C-KwfgnZ",
        "outputId": "84a4b14b-4e2a-46c7-972f-75420e276d43"
      },
      "execution_count": 11,
      "outputs": [
        {
          "output_type": "stream",
          "name": "stdout",
          "text": [
            "Συνολικός χρόνος fit και predict: 0.00010919570922851562 seconds\n",
            "              precision    recall  f1-score   support\n",
            "\n",
            "   home_loss       0.58      0.67      0.62      2513\n",
            "    home_win       0.74      0.66      0.70      3579\n",
            "\n",
            "    accuracy                           0.67      6092\n",
            "   macro avg       0.66      0.67      0.66      6092\n",
            "weighted avg       0.68      0.67      0.67      6092\n",
            "\n",
            "val score: 0.6570021881838074\n",
            "{'pca__n_components': 20, 'svc__C': 100, 'svc__gamma': 0.0005, 'svc__kernel': 'rbf'}\n",
            "best score: 0.6779306192655181\n",
            "test score 0.6657912015758372\n"
          ]
        }
      ]
    }
  ]
}