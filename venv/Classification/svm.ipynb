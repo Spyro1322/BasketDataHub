{
  "cells": [
    {
      "cell_type": "markdown",
      "metadata": {
        "id": "6tUmsUV-YuVE"
      },
      "source": [
        "## SVM with GridSearchCV"
      ]
    },
    {
      "cell_type": "code",
      "execution_count": 2,
      "metadata": {
        "id": "Lmv3dcgmWDdb"
      },
      "outputs": [],
      "source": [
        "from sklearn.svm import SVC\n",
        "from sklearn.model_selection import train_test_split, GridSearchCV, StratifiedKFold\n",
        "from sklearn.metrics import classification_report\n",
        "import time\n",
        "\n",
        "%matplotlib inline\n",
        "import numpy as np\n",
        "import pandas as pd\n",
        "import matplotlib.pyplot as plt\n",
        "from scipy import stats\n",
        "\n",
        "# use seaborn plotting defaults\n",
        "import seaborn as sns; sns.set()\n",
        "\n",
        "import warnings\n"
      ]
    },
    {
      "cell_type": "code",
      "execution_count": 3,
      "metadata": {
        "id": "5Zt8vfg3ZRoX"
      },
      "outputs": [],
      "source": [
        "warnings.filterwarnings('ignore')\n"
      ]
    },
    {
      "cell_type": "code",
      "execution_count": 4,
      "metadata": {
        "id": "rtWQEZCOXlVq"
      },
      "outputs": [],
      "source": [
        "df = pd.read_csv('../FeatureEngineering/MetaData/data6_&_odds.csv')\n",
        "df.dropna(inplace=True)"
      ]
    },
    {
      "cell_type": "code",
      "execution_count": 5,
      "metadata": {
        "id": "7WNVxiX5ZJqI"
      },
      "outputs": [],
      "source": [
        "train_data = df.loc[(df.season <= 2013) & (df.season >= 2007)]\n",
        "valid_data = df.loc[(df.season > 2013) & (df.season < 2016)]\n",
        "test_data = df.loc[df.season >= 2016]\n",
        "full_train_data = pd.concat([train_data, valid_data], axis=0)\n",
        "\n",
        "X, y = train_data.drop(columns=['home_team_wins']), train_data.home_team_wins\n",
        "valid_X, valid_y = valid_data.drop(columns=['home_team_wins']), valid_data.home_team_wins\n",
        "test_X, test_y = test_data.drop(columns=['home_team_wins']), test_data.home_team_wins\n",
        "\n",
        "X1 = df.drop([\"game_date_est\", \"season\", \"game_id\", \"home_team\", \"visitor_team\", \"home_team_id\", \"visitor_team_id\",\n",
        "              \"home_team_wins\", \"conference\", \"conference_visitor\"], axis=1)\n",
        "y1 = df[\"home_team_wins\"]\n",
        "\n",
        "# Split our data\n",
        "X_train, X_test, y_train, y_test = train_test_split(X1, y1, test_size=0.4)\n",
        "\n",
        "# Split Data to Train and Validation\n",
        "X_train, X_val, y_train, y_val = train_test_split(X_train, y_train, test_size=0.2, random_state=1)\n"
      ]
    },
    {
      "cell_type": "code",
      "execution_count": 7,
      "metadata": {
        "id": "zSjl8cDaZXhT"
      },
      "outputs": [],
      "source": [
        "# Support vector classifier\n",
        "model = SVC()\n",
        "model.fit(X_train, y_train)\n",
        "\n",
        "# defining parameter range\n",
        "param_grid = {'C': [0.1, 1, 10, 100, 1000],\n",
        "              'gamma': [1, 0.1, 0.01, 0.001, 0.0001],\n",
        "              'kernel': ['rbf']}\n",
        "\n",
        "grid = GridSearchCV(model, param_grid, cv=5, scoring='accuracy', n_jobs=-1)\n",
        "\n",
        "start_time = time.time()\n",
        "grid.fit(X_train, y_train)\n",
        "val_score = grid.score(X_val, y_val)\n",
        "\n",
        "preds = grid.predict(X_test)\n",
        "test_score = grid.score(X_test, y_test)\n",
        "\n"
      ]
    },
    {
      "cell_type": "code",
      "execution_count": 11,
      "metadata": {
        "colab": {
          "base_uri": "https://localhost:8080/"
        },
        "id": "26LvMTJmZ5fk",
        "outputId": "7b383a4c-f4a7-4f1c-cf1d-c10f8c8b6ba4"
      },
      "outputs": [
        {
          "name": "stdout",
          "output_type": "stream",
          "text": [
            "Συνολικός χρόνος fit και predict: 931.3766624927521 seconds\n",
            "              precision    recall  f1-score   support\n",
            "\n",
            "   home_loss       0.73      0.68      0.70      2274\n",
            "    home_win       0.79      0.82      0.81      3288\n",
            "\n",
            "    accuracy                           0.76      5562\n",
            "   macro avg       0.76      0.75      0.75      5562\n",
            "weighted avg       0.76      0.76      0.76      5562\n",
            "\n",
            "val score: 0.7771120431396046\n",
            "{'C': 10, 'gamma': 0.0001, 'kernel': 'rbf'}\n",
            "best score: 0.7549466839613901\n",
            "test score 0.7642934196332255\n"
          ]
        }
      ],
      "source": [
        "target_names = ['home_loss', 'home_win']\n",
        "\n",
        "\n",
        "print(\"Συνολικός χρόνος fit και predict: %s seconds\" % (time.time() - start_time))\n",
        "print(classification_report(y_test, preds, target_names=target_names))\n",
        "print(\"val score:\", val_score)\n",
        "\n",
        "model = grid.best_estimator_\n",
        "y_fit = model.predict(X_test)\n",
        "\n",
        "print(grid.best_params_)\n",
        "print(\"best score:\", grid.best_score_)\n",
        "print(\"test score\", test_score)\n"
      ]
    },
    {
      "cell_type": "markdown",
      "metadata": {
        "id": "gZGvPsALcuE0"
      },
      "source": [
        "## SVM with Recursive Feature Elimination (RFE)"
      ]
    },
    {
      "cell_type": "code",
      "execution_count": 21,
      "metadata": {
        "id": "PePfSsuMcR7q"
      },
      "outputs": [],
      "source": [
        "from sklearn.svm import SVC\n",
        "from sklearn.feature_selection import RFE\n",
        "from sklearn.pipeline import Pipeline\n",
        "from sklearn.preprocessing import MinMaxScaler, StandardScaler"
      ]
    },
    {
      "cell_type": "code",
      "execution_count": 22,
      "metadata": {},
      "outputs": [],
      "source": [
        "df = pd.read_csv('../FeatureEngineering/MetaData/data6_&_odds.csv')\n",
        "df.dropna(inplace=True)"
      ]
    },
    {
      "cell_type": "code",
      "execution_count": 23,
      "metadata": {},
      "outputs": [],
      "source": [
        "train_data = df.loc[(df.season <= 2013) & (df.season >= 2007)]\n",
        "valid_data = df.loc[(df.season > 2013) & (df.season < 2016)]\n",
        "test_data = df.loc[df.season >= 2016]\n",
        "full_train_data = pd.concat([train_data, valid_data], axis=0)\n",
        "\n",
        "X, y = train_data.drop(columns=['home_team_wins']), train_data.home_team_wins\n",
        "valid_X, valid_y = valid_data.drop(columns=['home_team_wins']), valid_data.home_team_wins\n",
        "test_X, test_y = test_data.drop(columns=['home_team_wins']), test_data.home_team_wins\n",
        "\n",
        "X1 = df.drop([\"game_date_est\", \"season\", \"game_id\", \"home_team\", \"visitor_team\", \"home_team_id\", \"visitor_team_id\",\n",
        "              \"home_team_wins\", \"conference\", \"conference_visitor\"], axis=1)\n",
        "y1 = df[\"home_team_wins\"]\n",
        "\n",
        "# Split our data\n",
        "X_train, X_test, y_train, y_test = train_test_split(X1, y1, test_size=0.4)\n",
        "\n",
        "# Split Data to Train and Validation\n",
        "X_train, X_val, y_train, y_val = train_test_split(X_train, y_train, test_size=0.2, random_state=1)\n"
      ]
    },
    {
      "cell_type": "code",
      "execution_count": 38,
      "metadata": {},
      "outputs": [],
      "source": [
        "svc = SVC(C=10, gamma=0.0001, kernel='rbf')"
      ]
    },
    {
      "cell_type": "code",
      "execution_count": 39,
      "metadata": {},
      "outputs": [],
      "source": [
        "class MyPipeline(Pipeline):\n",
        "    @property\n",
        "    def coef_(self):\n",
        "        return self._final_estimator.coef_\n",
        "    @property\n",
        "    def feature_importances_(self):\n",
        "        return self._final_estimator.feature_importances_"
      ]
    },
    {
      "cell_type": "code",
      "execution_count": 41,
      "metadata": {},
      "outputs": [],
      "source": [
        "pipe_model = MyPipeline([\n",
        "    ('scaler', StandardScaler()),\n",
        "    ('selector', RFECV(svc)),\n",
        "    ('estimator', svc)\n",
        "])"
      ]
    },
    {
      "cell_type": "code",
      "execution_count": 43,
      "metadata": {},
      "outputs": [
        {
          "ename": "ValueError",
          "evalue": "when `importance_getter=='auto'`, the underlying estimator SVC should have `coef_` or `feature_importances_` attribute. Either pass a fitted estimator to feature selector or call fit before calling transform.",
          "output_type": "error",
          "traceback": [
            "\u001b[1;31m---------------------------------------------------------------------------\u001b[0m",
            "\u001b[1;31mValueError\u001b[0m                                Traceback (most recent call last)",
            "\u001b[1;32mc:\\Users\\spira\\OneDrive\\Documents\\GitHub\\BasketDataHub\\venv\\Classification\\svm.ipynb Cell 15'\u001b[0m in \u001b[0;36m<cell line: 4>\u001b[1;34m()\u001b[0m\n\u001b[0;32m      <a href='vscode-notebook-cell:/c%3A/Users/spira/OneDrive/Documents/GitHub/BasketDataHub/venv/Classification/svm.ipynb#ch0000020?line=0'>1</a>\u001b[0m min_features_to_select \u001b[39m=\u001b[39m \u001b[39m1\u001b[39m  \u001b[39m# Minimum number of features to consider\u001b[39;00m\n\u001b[0;32m      <a href='vscode-notebook-cell:/c%3A/Users/spira/OneDrive/Documents/GitHub/BasketDataHub/venv/Classification/svm.ipynb#ch0000020?line=1'>2</a>\u001b[0m rfecv \u001b[39m=\u001b[39m RFECV(svc, step\u001b[39m=\u001b[39m\u001b[39m1\u001b[39m, cv\u001b[39m=\u001b[39m\u001b[39m5\u001b[39m, scoring\u001b[39m=\u001b[39m\u001b[39m'\u001b[39m\u001b[39maccuracy\u001b[39m\u001b[39m'\u001b[39m, min_features_to_select\u001b[39m=\u001b[39mmin_features_to_select)\n\u001b[1;32m----> <a href='vscode-notebook-cell:/c%3A/Users/spira/OneDrive/Documents/GitHub/BasketDataHub/venv/Classification/svm.ipynb#ch0000020?line=3'>4</a>\u001b[0m rfecv\u001b[39m.\u001b[39;49mfit(X_train, y_train)\n",
            "File \u001b[1;32mC:\\Python39\\lib\\site-packages\\sklearn\\feature_selection\\_rfe.py:710\u001b[0m, in \u001b[0;36mRFECV.fit\u001b[1;34m(self, X, y, groups)\u001b[0m\n\u001b[0;32m    <a href='file:///c%3A/Python39/lib/site-packages/sklearn/feature_selection/_rfe.py?line=706'>707</a>\u001b[0m     parallel \u001b[39m=\u001b[39m Parallel(n_jobs\u001b[39m=\u001b[39m\u001b[39mself\u001b[39m\u001b[39m.\u001b[39mn_jobs)\n\u001b[0;32m    <a href='file:///c%3A/Python39/lib/site-packages/sklearn/feature_selection/_rfe.py?line=707'>708</a>\u001b[0m     func \u001b[39m=\u001b[39m delayed(_rfe_single_fit)\n\u001b[1;32m--> <a href='file:///c%3A/Python39/lib/site-packages/sklearn/feature_selection/_rfe.py?line=709'>710</a>\u001b[0m scores \u001b[39m=\u001b[39m parallel(\n\u001b[0;32m    <a href='file:///c%3A/Python39/lib/site-packages/sklearn/feature_selection/_rfe.py?line=710'>711</a>\u001b[0m     func(rfe, \u001b[39mself\u001b[39;49m\u001b[39m.\u001b[39;49mestimator, X, y, train, test, scorer)\n\u001b[0;32m    <a href='file:///c%3A/Python39/lib/site-packages/sklearn/feature_selection/_rfe.py?line=711'>712</a>\u001b[0m     \u001b[39mfor\u001b[39;49;00m train, test \u001b[39min\u001b[39;49;00m cv\u001b[39m.\u001b[39;49msplit(X, y, groups)\n\u001b[0;32m    <a href='file:///c%3A/Python39/lib/site-packages/sklearn/feature_selection/_rfe.py?line=712'>713</a>\u001b[0m )\n\u001b[0;32m    <a href='file:///c%3A/Python39/lib/site-packages/sklearn/feature_selection/_rfe.py?line=714'>715</a>\u001b[0m scores \u001b[39m=\u001b[39m np\u001b[39m.\u001b[39marray(scores)\n\u001b[0;32m    <a href='file:///c%3A/Python39/lib/site-packages/sklearn/feature_selection/_rfe.py?line=715'>716</a>\u001b[0m scores_sum \u001b[39m=\u001b[39m np\u001b[39m.\u001b[39msum(scores, axis\u001b[39m=\u001b[39m\u001b[39m0\u001b[39m)\n",
            "File \u001b[1;32mC:\\Python39\\lib\\site-packages\\sklearn\\feature_selection\\_rfe.py:711\u001b[0m, in \u001b[0;36m<genexpr>\u001b[1;34m(.0)\u001b[0m\n\u001b[0;32m    <a href='file:///c%3A/Python39/lib/site-packages/sklearn/feature_selection/_rfe.py?line=706'>707</a>\u001b[0m     parallel \u001b[39m=\u001b[39m Parallel(n_jobs\u001b[39m=\u001b[39m\u001b[39mself\u001b[39m\u001b[39m.\u001b[39mn_jobs)\n\u001b[0;32m    <a href='file:///c%3A/Python39/lib/site-packages/sklearn/feature_selection/_rfe.py?line=707'>708</a>\u001b[0m     func \u001b[39m=\u001b[39m delayed(_rfe_single_fit)\n\u001b[0;32m    <a href='file:///c%3A/Python39/lib/site-packages/sklearn/feature_selection/_rfe.py?line=709'>710</a>\u001b[0m scores \u001b[39m=\u001b[39m parallel(\n\u001b[1;32m--> <a href='file:///c%3A/Python39/lib/site-packages/sklearn/feature_selection/_rfe.py?line=710'>711</a>\u001b[0m     func(rfe, \u001b[39mself\u001b[39;49m\u001b[39m.\u001b[39;49mestimator, X, y, train, test, scorer)\n\u001b[0;32m    <a href='file:///c%3A/Python39/lib/site-packages/sklearn/feature_selection/_rfe.py?line=711'>712</a>\u001b[0m     \u001b[39mfor\u001b[39;00m train, test \u001b[39min\u001b[39;00m cv\u001b[39m.\u001b[39msplit(X, y, groups)\n\u001b[0;32m    <a href='file:///c%3A/Python39/lib/site-packages/sklearn/feature_selection/_rfe.py?line=712'>713</a>\u001b[0m )\n\u001b[0;32m    <a href='file:///c%3A/Python39/lib/site-packages/sklearn/feature_selection/_rfe.py?line=714'>715</a>\u001b[0m scores \u001b[39m=\u001b[39m np\u001b[39m.\u001b[39marray(scores)\n\u001b[0;32m    <a href='file:///c%3A/Python39/lib/site-packages/sklearn/feature_selection/_rfe.py?line=715'>716</a>\u001b[0m scores_sum \u001b[39m=\u001b[39m np\u001b[39m.\u001b[39msum(scores, axis\u001b[39m=\u001b[39m\u001b[39m0\u001b[39m)\n",
            "File \u001b[1;32mC:\\Python39\\lib\\site-packages\\sklearn\\feature_selection\\_rfe.py:37\u001b[0m, in \u001b[0;36m_rfe_single_fit\u001b[1;34m(rfe, estimator, X, y, train, test, scorer)\u001b[0m\n\u001b[0;32m     <a href='file:///c%3A/Python39/lib/site-packages/sklearn/feature_selection/_rfe.py?line=34'>35</a>\u001b[0m X_train, y_train \u001b[39m=\u001b[39m _safe_split(estimator, X, y, train)\n\u001b[0;32m     <a href='file:///c%3A/Python39/lib/site-packages/sklearn/feature_selection/_rfe.py?line=35'>36</a>\u001b[0m X_test, y_test \u001b[39m=\u001b[39m _safe_split(estimator, X, y, test, train)\n\u001b[1;32m---> <a href='file:///c%3A/Python39/lib/site-packages/sklearn/feature_selection/_rfe.py?line=36'>37</a>\u001b[0m \u001b[39mreturn\u001b[39;00m rfe\u001b[39m.\u001b[39;49m_fit(\n\u001b[0;32m     <a href='file:///c%3A/Python39/lib/site-packages/sklearn/feature_selection/_rfe.py?line=37'>38</a>\u001b[0m     X_train,\n\u001b[0;32m     <a href='file:///c%3A/Python39/lib/site-packages/sklearn/feature_selection/_rfe.py?line=38'>39</a>\u001b[0m     y_train,\n\u001b[0;32m     <a href='file:///c%3A/Python39/lib/site-packages/sklearn/feature_selection/_rfe.py?line=39'>40</a>\u001b[0m     \u001b[39mlambda\u001b[39;49;00m estimator, features: _score(\n\u001b[0;32m     <a href='file:///c%3A/Python39/lib/site-packages/sklearn/feature_selection/_rfe.py?line=40'>41</a>\u001b[0m         estimator, X_test[:, features], y_test, scorer\n\u001b[0;32m     <a href='file:///c%3A/Python39/lib/site-packages/sklearn/feature_selection/_rfe.py?line=41'>42</a>\u001b[0m     ),\n\u001b[0;32m     <a href='file:///c%3A/Python39/lib/site-packages/sklearn/feature_selection/_rfe.py?line=42'>43</a>\u001b[0m )\u001b[39m.\u001b[39mscores_\n",
            "File \u001b[1;32mC:\\Python39\\lib\\site-packages\\sklearn\\feature_selection\\_rfe.py:286\u001b[0m, in \u001b[0;36mRFE._fit\u001b[1;34m(self, X, y, step_score, **fit_params)\u001b[0m\n\u001b[0;32m    <a href='file:///c%3A/Python39/lib/site-packages/sklearn/feature_selection/_rfe.py?line=282'>283</a>\u001b[0m estimator\u001b[39m.\u001b[39mfit(X[:, features], y, \u001b[39m*\u001b[39m\u001b[39m*\u001b[39mfit_params)\n\u001b[0;32m    <a href='file:///c%3A/Python39/lib/site-packages/sklearn/feature_selection/_rfe.py?line=284'>285</a>\u001b[0m \u001b[39m# Get importance and rank them\u001b[39;00m\n\u001b[1;32m--> <a href='file:///c%3A/Python39/lib/site-packages/sklearn/feature_selection/_rfe.py?line=285'>286</a>\u001b[0m importances \u001b[39m=\u001b[39m _get_feature_importances(\n\u001b[0;32m    <a href='file:///c%3A/Python39/lib/site-packages/sklearn/feature_selection/_rfe.py?line=286'>287</a>\u001b[0m     estimator,\n\u001b[0;32m    <a href='file:///c%3A/Python39/lib/site-packages/sklearn/feature_selection/_rfe.py?line=287'>288</a>\u001b[0m     \u001b[39mself\u001b[39;49m\u001b[39m.\u001b[39;49mimportance_getter,\n\u001b[0;32m    <a href='file:///c%3A/Python39/lib/site-packages/sklearn/feature_selection/_rfe.py?line=288'>289</a>\u001b[0m     transform_func\u001b[39m=\u001b[39;49m\u001b[39m\"\u001b[39;49m\u001b[39msquare\u001b[39;49m\u001b[39m\"\u001b[39;49m,\n\u001b[0;32m    <a href='file:///c%3A/Python39/lib/site-packages/sklearn/feature_selection/_rfe.py?line=289'>290</a>\u001b[0m )\n\u001b[0;32m    <a href='file:///c%3A/Python39/lib/site-packages/sklearn/feature_selection/_rfe.py?line=290'>291</a>\u001b[0m ranks \u001b[39m=\u001b[39m np\u001b[39m.\u001b[39margsort(importances)\n\u001b[0;32m    <a href='file:///c%3A/Python39/lib/site-packages/sklearn/feature_selection/_rfe.py?line=292'>293</a>\u001b[0m \u001b[39m# for sparse case ranks is matrix\u001b[39;00m\n",
            "File \u001b[1;32mC:\\Python39\\lib\\site-packages\\sklearn\\feature_selection\\_base.py:204\u001b[0m, in \u001b[0;36m_get_feature_importances\u001b[1;34m(estimator, getter, transform_func, norm_order)\u001b[0m\n\u001b[0;32m    <a href='file:///c%3A/Python39/lib/site-packages/sklearn/feature_selection/_base.py?line=201'>202</a>\u001b[0m         getter \u001b[39m=\u001b[39m attrgetter(\u001b[39m\"\u001b[39m\u001b[39mfeature_importances_\u001b[39m\u001b[39m\"\u001b[39m)\n\u001b[0;32m    <a href='file:///c%3A/Python39/lib/site-packages/sklearn/feature_selection/_base.py?line=202'>203</a>\u001b[0m     \u001b[39melse\u001b[39;00m:\n\u001b[1;32m--> <a href='file:///c%3A/Python39/lib/site-packages/sklearn/feature_selection/_base.py?line=203'>204</a>\u001b[0m         \u001b[39mraise\u001b[39;00m \u001b[39mValueError\u001b[39;00m(\n\u001b[0;32m    <a href='file:///c%3A/Python39/lib/site-packages/sklearn/feature_selection/_base.py?line=204'>205</a>\u001b[0m             \u001b[39m\"\u001b[39m\u001b[39mwhen `importance_getter==\u001b[39m\u001b[39m'\u001b[39m\u001b[39mauto\u001b[39m\u001b[39m'\u001b[39m\u001b[39m`, the underlying \u001b[39m\u001b[39m\"\u001b[39m\n\u001b[0;32m    <a href='file:///c%3A/Python39/lib/site-packages/sklearn/feature_selection/_base.py?line=205'>206</a>\u001b[0m             \u001b[39mf\u001b[39m\u001b[39m\"\u001b[39m\u001b[39mestimator \u001b[39m\u001b[39m{\u001b[39;00mestimator\u001b[39m.\u001b[39m\u001b[39m__class__\u001b[39m\u001b[39m.\u001b[39m\u001b[39m__name__\u001b[39m\u001b[39m}\u001b[39;00m\u001b[39m should have \u001b[39m\u001b[39m\"\u001b[39m\n\u001b[0;32m    <a href='file:///c%3A/Python39/lib/site-packages/sklearn/feature_selection/_base.py?line=206'>207</a>\u001b[0m             \u001b[39m\"\u001b[39m\u001b[39m`coef_` or `feature_importances_` attribute. Either \u001b[39m\u001b[39m\"\u001b[39m\n\u001b[0;32m    <a href='file:///c%3A/Python39/lib/site-packages/sklearn/feature_selection/_base.py?line=207'>208</a>\u001b[0m             \u001b[39m\"\u001b[39m\u001b[39mpass a fitted estimator to feature selector or call fit \u001b[39m\u001b[39m\"\u001b[39m\n\u001b[0;32m    <a href='file:///c%3A/Python39/lib/site-packages/sklearn/feature_selection/_base.py?line=208'>209</a>\u001b[0m             \u001b[39m\"\u001b[39m\u001b[39mbefore calling transform.\u001b[39m\u001b[39m\"\u001b[39m\n\u001b[0;32m    <a href='file:///c%3A/Python39/lib/site-packages/sklearn/feature_selection/_base.py?line=209'>210</a>\u001b[0m         )\n\u001b[0;32m    <a href='file:///c%3A/Python39/lib/site-packages/sklearn/feature_selection/_base.py?line=210'>211</a>\u001b[0m \u001b[39melse\u001b[39;00m:\n\u001b[0;32m    <a href='file:///c%3A/Python39/lib/site-packages/sklearn/feature_selection/_base.py?line=211'>212</a>\u001b[0m     getter \u001b[39m=\u001b[39m attrgetter(getter)\n",
            "\u001b[1;31mValueError\u001b[0m: when `importance_getter=='auto'`, the underlying estimator SVC should have `coef_` or `feature_importances_` attribute. Either pass a fitted estimator to feature selector or call fit before calling transform."
          ]
        }
      ],
      "source": [
        "min_features_to_select = 1  # Minimum number of features to consider\n",
        "rfecv = RFECV(svc, step=1, cv=5, scoring='accuracy', min_features_to_select=min_features_to_select)\n",
        "\n",
        "rfecv.fit(X_train, y_train)\n"
      ]
    },
    {
      "cell_type": "code",
      "execution_count": 26,
      "metadata": {},
      "outputs": [
        {
          "ename": "NameError",
          "evalue": "name 'feature_importances_' is not defined",
          "output_type": "error",
          "traceback": [
            "\u001b[1;31m---------------------------------------------------------------------------\u001b[0m",
            "\u001b[1;31mNameError\u001b[0m                                 Traceback (most recent call last)",
            "\u001b[1;32mc:\\Users\\spira\\OneDrive\\Documents\\GitHub\\BasketDataHub\\venv\\Classification\\svm.ipynb Cell 12'\u001b[0m in \u001b[0;36m<cell line: 2>\u001b[1;34m()\u001b[0m\n\u001b[0;32m      <a href='vscode-notebook-cell:/c%3A/Users/spira/OneDrive/Documents/GitHub/BasketDataHub/venv/Classification/svm.ipynb#ch0000016?line=0'>1</a>\u001b[0m \u001b[39m# Support Vector Machine\u001b[39;00m\n\u001b[1;32m----> <a href='vscode-notebook-cell:/c%3A/Users/spira/OneDrive/Documents/GitHub/BasketDataHub/venv/Classification/svm.ipynb#ch0000016?line=1'>2</a>\u001b[0m svc \u001b[39m=\u001b[39m SVC(feature_importances_)\n\u001b[0;32m      <a href='vscode-notebook-cell:/c%3A/Users/spira/OneDrive/Documents/GitHub/BasketDataHub/venv/Classification/svm.ipynb#ch0000016?line=2'>3</a>\u001b[0m svc\u001b[39m.\u001b[39mfit(X_train, y_train)\n",
            "\u001b[1;31mNameError\u001b[0m: name 'feature_importances_' is not defined"
          ]
        }
      ],
      "source": [
        "# Support Vector Machine\n",
        "svc = SVC(feature_importances_)\n",
        "svc.fit(X_train, y_train)"
      ]
    },
    {
      "cell_type": "code",
      "execution_count": 25,
      "metadata": {},
      "outputs": [
        {
          "ename": "ValueError",
          "evalue": "when `importance_getter=='auto'`, the underlying estimator SVC should have `coef_` or `feature_importances_` attribute. Either pass a fitted estimator to feature selector or call fit before calling transform.",
          "output_type": "error",
          "traceback": [
            "\u001b[1;31m---------------------------------------------------------------------------\u001b[0m",
            "\u001b[1;31mValueError\u001b[0m                                Traceback (most recent call last)",
            "\u001b[1;32mc:\\Users\\spira\\OneDrive\\Documents\\GitHub\\BasketDataHub\\venv\\Classification\\svm.ipynb Cell 13'\u001b[0m in \u001b[0;36m<cell line: 2>\u001b[1;34m()\u001b[0m\n\u001b[0;32m      <a href='vscode-notebook-cell:/c%3A/Users/spira/OneDrive/Documents/GitHub/BasketDataHub/venv/Classification/svm.ipynb#ch0000017?line=0'>1</a>\u001b[0m rfe \u001b[39m=\u001b[39m RFE(svc)\n\u001b[1;32m----> <a href='vscode-notebook-cell:/c%3A/Users/spira/OneDrive/Documents/GitHub/BasketDataHub/venv/Classification/svm.ipynb#ch0000017?line=1'>2</a>\u001b[0m rfe\u001b[39m.\u001b[39;49mfit(X_train, y_train)\n\u001b[0;32m      <a href='vscode-notebook-cell:/c%3A/Users/spira/OneDrive/Documents/GitHub/BasketDataHub/venv/Classification/svm.ipynb#ch0000017?line=2'>3</a>\u001b[0m rfe\u001b[39m.\u001b[39mget_support()\n",
            "File \u001b[1;32mC:\\Python39\\lib\\site-packages\\sklearn\\feature_selection\\_rfe.py:222\u001b[0m, in \u001b[0;36mRFE.fit\u001b[1;34m(self, X, y, **fit_params)\u001b[0m\n\u001b[0;32m    <a href='file:///c%3A/Python39/lib/site-packages/sklearn/feature_selection/_rfe.py?line=201'>202</a>\u001b[0m \u001b[39mdef\u001b[39;00m \u001b[39mfit\u001b[39m(\u001b[39mself\u001b[39m, X, y, \u001b[39m*\u001b[39m\u001b[39m*\u001b[39mfit_params):\n\u001b[0;32m    <a href='file:///c%3A/Python39/lib/site-packages/sklearn/feature_selection/_rfe.py?line=202'>203</a>\u001b[0m     \u001b[39m\"\"\"Fit the RFE model and then the underlying estimator on the selected features.\u001b[39;00m\n\u001b[0;32m    <a href='file:///c%3A/Python39/lib/site-packages/sklearn/feature_selection/_rfe.py?line=203'>204</a>\u001b[0m \n\u001b[0;32m    <a href='file:///c%3A/Python39/lib/site-packages/sklearn/feature_selection/_rfe.py?line=204'>205</a>\u001b[0m \u001b[39m    Parameters\u001b[39;00m\n\u001b[1;32m   (...)\u001b[0m\n\u001b[0;32m    <a href='file:///c%3A/Python39/lib/site-packages/sklearn/feature_selection/_rfe.py?line=219'>220</a>\u001b[0m \u001b[39m        Fitted estimator.\u001b[39;00m\n\u001b[0;32m    <a href='file:///c%3A/Python39/lib/site-packages/sklearn/feature_selection/_rfe.py?line=220'>221</a>\u001b[0m \u001b[39m    \"\"\"\u001b[39;00m\n\u001b[1;32m--> <a href='file:///c%3A/Python39/lib/site-packages/sklearn/feature_selection/_rfe.py?line=221'>222</a>\u001b[0m     \u001b[39mreturn\u001b[39;00m \u001b[39mself\u001b[39m\u001b[39m.\u001b[39m_fit(X, y, \u001b[39m*\u001b[39m\u001b[39m*\u001b[39mfit_params)\n",
            "File \u001b[1;32mC:\\Python39\\lib\\site-packages\\sklearn\\feature_selection\\_rfe.py:286\u001b[0m, in \u001b[0;36mRFE._fit\u001b[1;34m(self, X, y, step_score, **fit_params)\u001b[0m\n\u001b[0;32m    <a href='file:///c%3A/Python39/lib/site-packages/sklearn/feature_selection/_rfe.py?line=282'>283</a>\u001b[0m estimator\u001b[39m.\u001b[39mfit(X[:, features], y, \u001b[39m*\u001b[39m\u001b[39m*\u001b[39mfit_params)\n\u001b[0;32m    <a href='file:///c%3A/Python39/lib/site-packages/sklearn/feature_selection/_rfe.py?line=284'>285</a>\u001b[0m \u001b[39m# Get importance and rank them\u001b[39;00m\n\u001b[1;32m--> <a href='file:///c%3A/Python39/lib/site-packages/sklearn/feature_selection/_rfe.py?line=285'>286</a>\u001b[0m importances \u001b[39m=\u001b[39m _get_feature_importances(\n\u001b[0;32m    <a href='file:///c%3A/Python39/lib/site-packages/sklearn/feature_selection/_rfe.py?line=286'>287</a>\u001b[0m     estimator,\n\u001b[0;32m    <a href='file:///c%3A/Python39/lib/site-packages/sklearn/feature_selection/_rfe.py?line=287'>288</a>\u001b[0m     \u001b[39mself\u001b[39;49m\u001b[39m.\u001b[39;49mimportance_getter,\n\u001b[0;32m    <a href='file:///c%3A/Python39/lib/site-packages/sklearn/feature_selection/_rfe.py?line=288'>289</a>\u001b[0m     transform_func\u001b[39m=\u001b[39;49m\u001b[39m\"\u001b[39;49m\u001b[39msquare\u001b[39;49m\u001b[39m\"\u001b[39;49m,\n\u001b[0;32m    <a href='file:///c%3A/Python39/lib/site-packages/sklearn/feature_selection/_rfe.py?line=289'>290</a>\u001b[0m )\n\u001b[0;32m    <a href='file:///c%3A/Python39/lib/site-packages/sklearn/feature_selection/_rfe.py?line=290'>291</a>\u001b[0m ranks \u001b[39m=\u001b[39m np\u001b[39m.\u001b[39margsort(importances)\n\u001b[0;32m    <a href='file:///c%3A/Python39/lib/site-packages/sklearn/feature_selection/_rfe.py?line=292'>293</a>\u001b[0m \u001b[39m# for sparse case ranks is matrix\u001b[39;00m\n",
            "File \u001b[1;32mC:\\Python39\\lib\\site-packages\\sklearn\\feature_selection\\_base.py:204\u001b[0m, in \u001b[0;36m_get_feature_importances\u001b[1;34m(estimator, getter, transform_func, norm_order)\u001b[0m\n\u001b[0;32m    <a href='file:///c%3A/Python39/lib/site-packages/sklearn/feature_selection/_base.py?line=201'>202</a>\u001b[0m         getter \u001b[39m=\u001b[39m attrgetter(\u001b[39m\"\u001b[39m\u001b[39mfeature_importances_\u001b[39m\u001b[39m\"\u001b[39m)\n\u001b[0;32m    <a href='file:///c%3A/Python39/lib/site-packages/sklearn/feature_selection/_base.py?line=202'>203</a>\u001b[0m     \u001b[39melse\u001b[39;00m:\n\u001b[1;32m--> <a href='file:///c%3A/Python39/lib/site-packages/sklearn/feature_selection/_base.py?line=203'>204</a>\u001b[0m         \u001b[39mraise\u001b[39;00m \u001b[39mValueError\u001b[39;00m(\n\u001b[0;32m    <a href='file:///c%3A/Python39/lib/site-packages/sklearn/feature_selection/_base.py?line=204'>205</a>\u001b[0m             \u001b[39m\"\u001b[39m\u001b[39mwhen `importance_getter==\u001b[39m\u001b[39m'\u001b[39m\u001b[39mauto\u001b[39m\u001b[39m'\u001b[39m\u001b[39m`, the underlying \u001b[39m\u001b[39m\"\u001b[39m\n\u001b[0;32m    <a href='file:///c%3A/Python39/lib/site-packages/sklearn/feature_selection/_base.py?line=205'>206</a>\u001b[0m             \u001b[39mf\u001b[39m\u001b[39m\"\u001b[39m\u001b[39mestimator \u001b[39m\u001b[39m{\u001b[39;00mestimator\u001b[39m.\u001b[39m\u001b[39m__class__\u001b[39m\u001b[39m.\u001b[39m\u001b[39m__name__\u001b[39m\u001b[39m}\u001b[39;00m\u001b[39m should have \u001b[39m\u001b[39m\"\u001b[39m\n\u001b[0;32m    <a href='file:///c%3A/Python39/lib/site-packages/sklearn/feature_selection/_base.py?line=206'>207</a>\u001b[0m             \u001b[39m\"\u001b[39m\u001b[39m`coef_` or `feature_importances_` attribute. Either \u001b[39m\u001b[39m\"\u001b[39m\n\u001b[0;32m    <a href='file:///c%3A/Python39/lib/site-packages/sklearn/feature_selection/_base.py?line=207'>208</a>\u001b[0m             \u001b[39m\"\u001b[39m\u001b[39mpass a fitted estimator to feature selector or call fit \u001b[39m\u001b[39m\"\u001b[39m\n\u001b[0;32m    <a href='file:///c%3A/Python39/lib/site-packages/sklearn/feature_selection/_base.py?line=208'>209</a>\u001b[0m             \u001b[39m\"\u001b[39m\u001b[39mbefore calling transform.\u001b[39m\u001b[39m\"\u001b[39m\n\u001b[0;32m    <a href='file:///c%3A/Python39/lib/site-packages/sklearn/feature_selection/_base.py?line=209'>210</a>\u001b[0m         )\n\u001b[0;32m    <a href='file:///c%3A/Python39/lib/site-packages/sklearn/feature_selection/_base.py?line=210'>211</a>\u001b[0m \u001b[39melse\u001b[39;00m:\n\u001b[0;32m    <a href='file:///c%3A/Python39/lib/site-packages/sklearn/feature_selection/_base.py?line=211'>212</a>\u001b[0m     getter \u001b[39m=\u001b[39m attrgetter(getter)\n",
            "\u001b[1;31mValueError\u001b[0m: when `importance_getter=='auto'`, the underlying estimator SVC should have `coef_` or `feature_importances_` attribute. Either pass a fitted estimator to feature selector or call fit before calling transform."
          ]
        }
      ],
      "source": [
        "rfe = RFE(svc)\n",
        "rfe.fit(X_train, y_train)\n",
        "rfe.get_support()"
      ]
    },
    {
      "cell_type": "code",
      "execution_count": 24,
      "metadata": {
        "id": "vQW366y7c54_"
      },
      "outputs": [],
      "source": [
        "# Create the RFE object and compute a cross-validated score.\n",
        "# The \"accuracy\" scoring shows the proportion of correct classifications\n",
        "\n",
        "min_features_to_select = 1  # Minimum number of features to consider\n",
        "rfecv = RFECV(\n",
        "    estimator=svc,\n",
        "    step=1,\n",
        "    cv=StratifiedKFold(5),\n",
        "    scoring=\"accuracy\",\n",
        "    min_features_to_select=min_features_to_select,\n",
        ")\n",
        "rfecv.fit(X_train, y_train)"
      ]
    },
    {
      "cell_type": "code",
      "execution_count": null,
      "metadata": {},
      "outputs": [],
      "source": [
        "print(\"Optimal number of features : %d\" % rfecv.n_features_)\n",
        "print(\"Selected Features: %s\" % rfecv.support_)"
      ]
    },
    {
      "cell_type": "code",
      "execution_count": 13,
      "metadata": {
        "colab": {
          "base_uri": "https://localhost:8080/"
        },
        "id": "CRzAPhjFc-GD",
        "outputId": "f6c57514-159f-4103-e7a1-d1303e6b7ae3"
      },
      "outputs": [
        {
          "ename": "ValueError",
          "evalue": "when `importance_getter=='auto'`, the underlying estimator SVC should have `coef_` or `feature_importances_` attribute. Either pass a fitted estimator to feature selector or call fit before calling transform.",
          "output_type": "error",
          "traceback": [
            "\u001b[1;31m---------------------------------------------------------------------------\u001b[0m",
            "\u001b[1;31mValueError\u001b[0m                                Traceback (most recent call last)",
            "\u001b[1;32mc:\\Users\\spira\\OneDrive\\Documents\\GitHub\\BasketDataHub\\venv\\Classification\\svm.ipynb Cell 13'\u001b[0m in \u001b[0;36m<cell line: 7>\u001b[1;34m()\u001b[0m\n\u001b[0;32m      <a href='vscode-notebook-cell:/c%3A/Users/spira/OneDrive/Documents/GitHub/BasketDataHub/venv/Classification/svm.ipynb#ch0000011?line=1'>2</a>\u001b[0m param_grid \u001b[39m=\u001b[39m {\u001b[39m'\u001b[39m\u001b[39mestimator__kernel\u001b[39m\u001b[39m'\u001b[39m: [\u001b[39m'\u001b[39m\u001b[39mlinear\u001b[39m\u001b[39m'\u001b[39m, \u001b[39m'\u001b[39m\u001b[39mrbf\u001b[39m\u001b[39m'\u001b[39m],\n\u001b[0;32m      <a href='vscode-notebook-cell:/c%3A/Users/spira/OneDrive/Documents/GitHub/BasketDataHub/venv/Classification/svm.ipynb#ch0000011?line=2'>3</a>\u001b[0m               \u001b[39m'\u001b[39m\u001b[39mestimator__C\u001b[39m\u001b[39m'\u001b[39m: [\u001b[39m0.1\u001b[39m, \u001b[39m1\u001b[39m, \u001b[39m10\u001b[39m, \u001b[39m100\u001b[39m],\n\u001b[0;32m      <a href='vscode-notebook-cell:/c%3A/Users/spira/OneDrive/Documents/GitHub/BasketDataHub/venv/Classification/svm.ipynb#ch0000011?line=3'>4</a>\u001b[0m               \u001b[39m'\u001b[39m\u001b[39mestimator__gamma\u001b[39m\u001b[39m'\u001b[39m: [\u001b[39m0.00025\u001b[39m, \u001b[39m0.0005\u001b[39m, \u001b[39m0.001\u001b[39m]}\n\u001b[0;32m      <a href='vscode-notebook-cell:/c%3A/Users/spira/OneDrive/Documents/GitHub/BasketDataHub/venv/Classification/svm.ipynb#ch0000011?line=4'>5</a>\u001b[0m grid \u001b[39m=\u001b[39m GridSearchCV(pipe_model, param_grid, cv\u001b[39m=\u001b[39m\u001b[39m5\u001b[39m)\n\u001b[1;32m----> <a href='vscode-notebook-cell:/c%3A/Users/spira/OneDrive/Documents/GitHub/BasketDataHub/venv/Classification/svm.ipynb#ch0000011?line=6'>7</a>\u001b[0m selector\u001b[39m.\u001b[39;49mfit(X_train, y_train)\n\u001b[0;32m      <a href='vscode-notebook-cell:/c%3A/Users/spira/OneDrive/Documents/GitHub/BasketDataHub/venv/Classification/svm.ipynb#ch0000011?line=7'>8</a>\u001b[0m get_ipython()\u001b[39m.\u001b[39mrun_line_magic(\u001b[39m'\u001b[39m\u001b[39mtime\u001b[39m\u001b[39m'\u001b[39m, \u001b[39m'\u001b[39m\u001b[39mgrid.fit(X_train, y_train)\u001b[39m\u001b[39m'\u001b[39m)\n\u001b[0;32m      <a href='vscode-notebook-cell:/c%3A/Users/spira/OneDrive/Documents/GitHub/BasketDataHub/venv/Classification/svm.ipynb#ch0000011?line=8'>9</a>\u001b[0m \u001b[39mprint\u001b[39m(grid\u001b[39m.\u001b[39mbest_params_)\n",
            "File \u001b[1;32mC:\\Python39\\lib\\site-packages\\sklearn\\feature_selection\\_rfe.py:710\u001b[0m, in \u001b[0;36mRFECV.fit\u001b[1;34m(self, X, y, groups)\u001b[0m\n\u001b[0;32m    <a href='file:///c%3A/Python39/lib/site-packages/sklearn/feature_selection/_rfe.py?line=706'>707</a>\u001b[0m     parallel \u001b[39m=\u001b[39m Parallel(n_jobs\u001b[39m=\u001b[39m\u001b[39mself\u001b[39m\u001b[39m.\u001b[39mn_jobs)\n\u001b[0;32m    <a href='file:///c%3A/Python39/lib/site-packages/sklearn/feature_selection/_rfe.py?line=707'>708</a>\u001b[0m     func \u001b[39m=\u001b[39m delayed(_rfe_single_fit)\n\u001b[1;32m--> <a href='file:///c%3A/Python39/lib/site-packages/sklearn/feature_selection/_rfe.py?line=709'>710</a>\u001b[0m scores \u001b[39m=\u001b[39m parallel(\n\u001b[0;32m    <a href='file:///c%3A/Python39/lib/site-packages/sklearn/feature_selection/_rfe.py?line=710'>711</a>\u001b[0m     func(rfe, \u001b[39mself\u001b[39;49m\u001b[39m.\u001b[39;49mestimator, X, y, train, test, scorer)\n\u001b[0;32m    <a href='file:///c%3A/Python39/lib/site-packages/sklearn/feature_selection/_rfe.py?line=711'>712</a>\u001b[0m     \u001b[39mfor\u001b[39;49;00m train, test \u001b[39min\u001b[39;49;00m cv\u001b[39m.\u001b[39;49msplit(X, y, groups)\n\u001b[0;32m    <a href='file:///c%3A/Python39/lib/site-packages/sklearn/feature_selection/_rfe.py?line=712'>713</a>\u001b[0m )\n\u001b[0;32m    <a href='file:///c%3A/Python39/lib/site-packages/sklearn/feature_selection/_rfe.py?line=714'>715</a>\u001b[0m scores \u001b[39m=\u001b[39m np\u001b[39m.\u001b[39marray(scores)\n\u001b[0;32m    <a href='file:///c%3A/Python39/lib/site-packages/sklearn/feature_selection/_rfe.py?line=715'>716</a>\u001b[0m scores_sum \u001b[39m=\u001b[39m np\u001b[39m.\u001b[39msum(scores, axis\u001b[39m=\u001b[39m\u001b[39m0\u001b[39m)\n",
            "File \u001b[1;32mC:\\Python39\\lib\\site-packages\\sklearn\\feature_selection\\_rfe.py:711\u001b[0m, in \u001b[0;36m<genexpr>\u001b[1;34m(.0)\u001b[0m\n\u001b[0;32m    <a href='file:///c%3A/Python39/lib/site-packages/sklearn/feature_selection/_rfe.py?line=706'>707</a>\u001b[0m     parallel \u001b[39m=\u001b[39m Parallel(n_jobs\u001b[39m=\u001b[39m\u001b[39mself\u001b[39m\u001b[39m.\u001b[39mn_jobs)\n\u001b[0;32m    <a href='file:///c%3A/Python39/lib/site-packages/sklearn/feature_selection/_rfe.py?line=707'>708</a>\u001b[0m     func \u001b[39m=\u001b[39m delayed(_rfe_single_fit)\n\u001b[0;32m    <a href='file:///c%3A/Python39/lib/site-packages/sklearn/feature_selection/_rfe.py?line=709'>710</a>\u001b[0m scores \u001b[39m=\u001b[39m parallel(\n\u001b[1;32m--> <a href='file:///c%3A/Python39/lib/site-packages/sklearn/feature_selection/_rfe.py?line=710'>711</a>\u001b[0m     func(rfe, \u001b[39mself\u001b[39;49m\u001b[39m.\u001b[39;49mestimator, X, y, train, test, scorer)\n\u001b[0;32m    <a href='file:///c%3A/Python39/lib/site-packages/sklearn/feature_selection/_rfe.py?line=711'>712</a>\u001b[0m     \u001b[39mfor\u001b[39;00m train, test \u001b[39min\u001b[39;00m cv\u001b[39m.\u001b[39msplit(X, y, groups)\n\u001b[0;32m    <a href='file:///c%3A/Python39/lib/site-packages/sklearn/feature_selection/_rfe.py?line=712'>713</a>\u001b[0m )\n\u001b[0;32m    <a href='file:///c%3A/Python39/lib/site-packages/sklearn/feature_selection/_rfe.py?line=714'>715</a>\u001b[0m scores \u001b[39m=\u001b[39m np\u001b[39m.\u001b[39marray(scores)\n\u001b[0;32m    <a href='file:///c%3A/Python39/lib/site-packages/sklearn/feature_selection/_rfe.py?line=715'>716</a>\u001b[0m scores_sum \u001b[39m=\u001b[39m np\u001b[39m.\u001b[39msum(scores, axis\u001b[39m=\u001b[39m\u001b[39m0\u001b[39m)\n",
            "File \u001b[1;32mC:\\Python39\\lib\\site-packages\\sklearn\\feature_selection\\_rfe.py:37\u001b[0m, in \u001b[0;36m_rfe_single_fit\u001b[1;34m(rfe, estimator, X, y, train, test, scorer)\u001b[0m\n\u001b[0;32m     <a href='file:///c%3A/Python39/lib/site-packages/sklearn/feature_selection/_rfe.py?line=34'>35</a>\u001b[0m X_train, y_train \u001b[39m=\u001b[39m _safe_split(estimator, X, y, train)\n\u001b[0;32m     <a href='file:///c%3A/Python39/lib/site-packages/sklearn/feature_selection/_rfe.py?line=35'>36</a>\u001b[0m X_test, y_test \u001b[39m=\u001b[39m _safe_split(estimator, X, y, test, train)\n\u001b[1;32m---> <a href='file:///c%3A/Python39/lib/site-packages/sklearn/feature_selection/_rfe.py?line=36'>37</a>\u001b[0m \u001b[39mreturn\u001b[39;00m rfe\u001b[39m.\u001b[39;49m_fit(\n\u001b[0;32m     <a href='file:///c%3A/Python39/lib/site-packages/sklearn/feature_selection/_rfe.py?line=37'>38</a>\u001b[0m     X_train,\n\u001b[0;32m     <a href='file:///c%3A/Python39/lib/site-packages/sklearn/feature_selection/_rfe.py?line=38'>39</a>\u001b[0m     y_train,\n\u001b[0;32m     <a href='file:///c%3A/Python39/lib/site-packages/sklearn/feature_selection/_rfe.py?line=39'>40</a>\u001b[0m     \u001b[39mlambda\u001b[39;49;00m estimator, features: _score(\n\u001b[0;32m     <a href='file:///c%3A/Python39/lib/site-packages/sklearn/feature_selection/_rfe.py?line=40'>41</a>\u001b[0m         estimator, X_test[:, features], y_test, scorer\n\u001b[0;32m     <a href='file:///c%3A/Python39/lib/site-packages/sklearn/feature_selection/_rfe.py?line=41'>42</a>\u001b[0m     ),\n\u001b[0;32m     <a href='file:///c%3A/Python39/lib/site-packages/sklearn/feature_selection/_rfe.py?line=42'>43</a>\u001b[0m )\u001b[39m.\u001b[39mscores_\n",
            "File \u001b[1;32mC:\\Python39\\lib\\site-packages\\sklearn\\feature_selection\\_rfe.py:286\u001b[0m, in \u001b[0;36mRFE._fit\u001b[1;34m(self, X, y, step_score, **fit_params)\u001b[0m\n\u001b[0;32m    <a href='file:///c%3A/Python39/lib/site-packages/sklearn/feature_selection/_rfe.py?line=282'>283</a>\u001b[0m estimator\u001b[39m.\u001b[39mfit(X[:, features], y, \u001b[39m*\u001b[39m\u001b[39m*\u001b[39mfit_params)\n\u001b[0;32m    <a href='file:///c%3A/Python39/lib/site-packages/sklearn/feature_selection/_rfe.py?line=284'>285</a>\u001b[0m \u001b[39m# Get importance and rank them\u001b[39;00m\n\u001b[1;32m--> <a href='file:///c%3A/Python39/lib/site-packages/sklearn/feature_selection/_rfe.py?line=285'>286</a>\u001b[0m importances \u001b[39m=\u001b[39m _get_feature_importances(\n\u001b[0;32m    <a href='file:///c%3A/Python39/lib/site-packages/sklearn/feature_selection/_rfe.py?line=286'>287</a>\u001b[0m     estimator,\n\u001b[0;32m    <a href='file:///c%3A/Python39/lib/site-packages/sklearn/feature_selection/_rfe.py?line=287'>288</a>\u001b[0m     \u001b[39mself\u001b[39;49m\u001b[39m.\u001b[39;49mimportance_getter,\n\u001b[0;32m    <a href='file:///c%3A/Python39/lib/site-packages/sklearn/feature_selection/_rfe.py?line=288'>289</a>\u001b[0m     transform_func\u001b[39m=\u001b[39;49m\u001b[39m\"\u001b[39;49m\u001b[39msquare\u001b[39;49m\u001b[39m\"\u001b[39;49m,\n\u001b[0;32m    <a href='file:///c%3A/Python39/lib/site-packages/sklearn/feature_selection/_rfe.py?line=289'>290</a>\u001b[0m )\n\u001b[0;32m    <a href='file:///c%3A/Python39/lib/site-packages/sklearn/feature_selection/_rfe.py?line=290'>291</a>\u001b[0m ranks \u001b[39m=\u001b[39m np\u001b[39m.\u001b[39margsort(importances)\n\u001b[0;32m    <a href='file:///c%3A/Python39/lib/site-packages/sklearn/feature_selection/_rfe.py?line=292'>293</a>\u001b[0m \u001b[39m# for sparse case ranks is matrix\u001b[39;00m\n",
            "File \u001b[1;32mC:\\Python39\\lib\\site-packages\\sklearn\\feature_selection\\_base.py:204\u001b[0m, in \u001b[0;36m_get_feature_importances\u001b[1;34m(estimator, getter, transform_func, norm_order)\u001b[0m\n\u001b[0;32m    <a href='file:///c%3A/Python39/lib/site-packages/sklearn/feature_selection/_base.py?line=201'>202</a>\u001b[0m         getter \u001b[39m=\u001b[39m attrgetter(\u001b[39m\"\u001b[39m\u001b[39mfeature_importances_\u001b[39m\u001b[39m\"\u001b[39m)\n\u001b[0;32m    <a href='file:///c%3A/Python39/lib/site-packages/sklearn/feature_selection/_base.py?line=202'>203</a>\u001b[0m     \u001b[39melse\u001b[39;00m:\n\u001b[1;32m--> <a href='file:///c%3A/Python39/lib/site-packages/sklearn/feature_selection/_base.py?line=203'>204</a>\u001b[0m         \u001b[39mraise\u001b[39;00m \u001b[39mValueError\u001b[39;00m(\n\u001b[0;32m    <a href='file:///c%3A/Python39/lib/site-packages/sklearn/feature_selection/_base.py?line=204'>205</a>\u001b[0m             \u001b[39m\"\u001b[39m\u001b[39mwhen `importance_getter==\u001b[39m\u001b[39m'\u001b[39m\u001b[39mauto\u001b[39m\u001b[39m'\u001b[39m\u001b[39m`, the underlying \u001b[39m\u001b[39m\"\u001b[39m\n\u001b[0;32m    <a href='file:///c%3A/Python39/lib/site-packages/sklearn/feature_selection/_base.py?line=205'>206</a>\u001b[0m             \u001b[39mf\u001b[39m\u001b[39m\"\u001b[39m\u001b[39mestimator \u001b[39m\u001b[39m{\u001b[39;00mestimator\u001b[39m.\u001b[39m\u001b[39m__class__\u001b[39m\u001b[39m.\u001b[39m\u001b[39m__name__\u001b[39m\u001b[39m}\u001b[39;00m\u001b[39m should have \u001b[39m\u001b[39m\"\u001b[39m\n\u001b[0;32m    <a href='file:///c%3A/Python39/lib/site-packages/sklearn/feature_selection/_base.py?line=206'>207</a>\u001b[0m             \u001b[39m\"\u001b[39m\u001b[39m`coef_` or `feature_importances_` attribute. Either \u001b[39m\u001b[39m\"\u001b[39m\n\u001b[0;32m    <a href='file:///c%3A/Python39/lib/site-packages/sklearn/feature_selection/_base.py?line=207'>208</a>\u001b[0m             \u001b[39m\"\u001b[39m\u001b[39mpass a fitted estimator to feature selector or call fit \u001b[39m\u001b[39m\"\u001b[39m\n\u001b[0;32m    <a href='file:///c%3A/Python39/lib/site-packages/sklearn/feature_selection/_base.py?line=208'>209</a>\u001b[0m             \u001b[39m\"\u001b[39m\u001b[39mbefore calling transform.\u001b[39m\u001b[39m\"\u001b[39m\n\u001b[0;32m    <a href='file:///c%3A/Python39/lib/site-packages/sklearn/feature_selection/_base.py?line=209'>210</a>\u001b[0m         )\n\u001b[0;32m    <a href='file:///c%3A/Python39/lib/site-packages/sklearn/feature_selection/_base.py?line=210'>211</a>\u001b[0m \u001b[39melse\u001b[39;00m:\n\u001b[0;32m    <a href='file:///c%3A/Python39/lib/site-packages/sklearn/feature_selection/_base.py?line=211'>212</a>\u001b[0m     getter \u001b[39m=\u001b[39m attrgetter(getter)\n",
            "\u001b[1;31mValueError\u001b[0m: when `importance_getter=='auto'`, the underlying estimator SVC should have `coef_` or `feature_importances_` attribute. Either pass a fitted estimator to feature selector or call fit before calling transform."
          ]
        }
      ],
      "source": [
        "from sklearn.model_selection import GridSearchCV\n",
        "param_grid = {'svc__kernel': ['linear', 'rbf'],\n",
        "              'svc__C': [0.1, 1, 10, 100],\n",
        "              'svc__gamma': [0.00025, 0.0005, 0.001]}\n",
        "grid = GridSearchCV(rfecv, param_grid, cv=5)\n",
        "\n",
        "%time grid.fit(X_train, y_train)\n",
        "print(grid.best_params_)"
      ]
    },
    {
      "cell_type": "code",
      "execution_count": 27,
      "metadata": {
        "id": "xKtgKOy0dr-s"
      },
      "outputs": [],
      "source": [
        "val_score = grid.score(X_val, y_val)\n",
        "\n",
        "preds = grid.predict(X_test)\n",
        "test_score = grid.score(X_test, y_test)"
      ]
    },
    {
      "cell_type": "code",
      "execution_count": 28,
      "metadata": {
        "colab": {
          "base_uri": "https://localhost:8080/"
        },
        "id": "G6m4C-KwfgnZ",
        "outputId": "84a4b14b-4e2a-46c7-972f-75420e276d43"
      },
      "outputs": [
        {
          "name": "stdout",
          "output_type": "stream",
          "text": [
            "Συνολικός χρόνος fit και predict: 0.0 seconds\n",
            "              precision    recall  f1-score   support\n",
            "\n",
            "   home_loss       1.00      1.00      1.00      2274\n",
            "    home_win       1.00      1.00      1.00      3288\n",
            "\n",
            "    accuracy                           1.00      5562\n",
            "   macro avg       1.00      1.00      1.00      5562\n",
            "weighted avg       1.00      1.00      1.00      5562\n",
            "\n",
            "val score: 1.0\n",
            "{'pca__n_components': 20, 'svc__C': 0.1, 'svc__gamma': 0.00025, 'svc__kernel': 'linear'}\n",
            "best score: 1.0\n",
            "test score 0.9998202085580726\n"
          ]
        }
      ],
      "source": [
        "start_time = time.time()\n",
        "\n",
        "target_names = ['home_loss', 'home_win']\n",
        "\n",
        "\n",
        "print(\"Συνολικός χρόνος fit και predict: %s seconds\" % (time.time() - start_time))\n",
        "print(classification_report(y_test, preds, target_names=target_names))\n",
        "print(\"val score:\", val_score)\n",
        "\n",
        "model = grid.best_estimator_\n",
        "y_fit = model.predict(X_test)\n",
        "\n",
        "print(grid.best_params_)\n",
        "print(\"best score:\", grid.best_score_)\n",
        "print(\"test score\", test_score)"
      ]
    },
    {
      "cell_type": "markdown",
      "metadata": {},
      "source": [
        "## SVM with PCA"
      ]
    },
    {
      "cell_type": "code",
      "execution_count": 18,
      "metadata": {},
      "outputs": [],
      "source": [
        "import time\n",
        "import matplotlib.pyplot as plt\n",
        "\n",
        "from sklearn.model_selection import train_test_split\n",
        "from sklearn.model_selection import GridSearchCV, RandomizedSearchCV\n",
        "from sklearn.metrics import classification_report\n",
        "from sklearn.preprocessing import StandardScaler\n",
        "from sklearn.decomposition import PCA\n",
        "from sklearn.svm import SVC"
      ]
    },
    {
      "cell_type": "code",
      "execution_count": 19,
      "metadata": {},
      "outputs": [],
      "source": [
        "scaler = StandardScaler()\n",
        "X_train = scaler.fit_transform(X_train)\n",
        "X_test = scaler.transform(X_test)"
      ]
    },
    {
      "cell_type": "code",
      "execution_count": 20,
      "metadata": {},
      "outputs": [],
      "source": [
        "n_components = 30\n",
        "pca = PCA(n_components=n_components).fit(X_train)\n",
        "X_train_pca = pca.transform(X_train)\n",
        "X_val_pca = pca.transform(X_val)\n",
        "X_test_pca = pca.transform(X_test)"
      ]
    },
    {
      "cell_type": "markdown",
      "metadata": {},
      "source": [
        "### Randomized Search"
      ]
    },
    {
      "cell_type": "code",
      "execution_count": 21,
      "metadata": {},
      "outputs": [
        {
          "name": "stdout",
          "output_type": "stream",
          "text": [
            "Fitting the classifier to the training set\n"
          ]
        }
      ],
      "source": [
        "# Train a SVM classification model\n",
        "\n",
        "print(\"Fitting the classifier to the training set\")\n",
        "\n",
        "# defining parameter range\n",
        "param_grid = {'C': [0.1, 1, 10, 100, 1000],\n",
        "              'gamma': [1, 0.1, 0.01, 0.001, 0.0001]\n",
        "              }\n",
        "\n",
        "clf = RandomizedSearchCV(\n",
        "    SVC(kernel=\"rbf\", class_weight=\"balanced\"), param_grid, n_iter=10)\n",
        "    \n"
      ]
    },
    {
      "cell_type": "code",
      "execution_count": 22,
      "metadata": {},
      "outputs": [
        {
          "name": "stdout",
          "output_type": "stream",
          "text": [
            "Συνολικός χρόνος fit και predict: 262.88806414604187 seconds\n",
            "              precision    recall  f1-score   support\n",
            "\n",
            "   home loss       0.58      0.70      0.63      2312\n",
            "    home win       0.75      0.63      0.69      3250\n",
            "\n",
            "    accuracy                           0.66      5562\n",
            "   macro avg       0.66      0.67      0.66      5562\n",
            "weighted avg       0.68      0.66      0.66      5562\n",
            "\n",
            "val score: 0.42061114439784303\n",
            "test score 0.660913340524991\n"
          ]
        }
      ],
      "source": [
        "start_time = time.time()\n",
        "clf = clf.fit(X_train_pca, y_train)\n",
        "val_score = clf.score(X_val_pca, y_val)\n",
        "\n",
        "preds = clf.predict(X_test_pca)\n",
        "test_score = clf.score(X_test_pca, y_test)\n",
        "\n",
        "target_names = ['home loss', 'home win']\n",
        "\n",
        "print(\"Συνολικός χρόνος fit και predict: %s seconds\" % (time.time() - start_time))\n",
        "print(classification_report(y_test, preds, target_names=target_names))\n",
        "print(\"val score:\", val_score)\n",
        "\n",
        "y_fit = clf.predict(X_test_pca)\n",
        "\n",
        "print(\"test score\", test_score)\n"
      ]
    },
    {
      "cell_type": "code",
      "execution_count": 23,
      "metadata": {},
      "outputs": [
        {
          "name": "stdout",
          "output_type": "stream",
          "text": [
            "{'gamma': 0.001, 'C': 10}\n",
            "best score: 0.6687679755627804\n"
          ]
        }
      ],
      "source": [
        "print(clf.best_params_)\n",
        "print(\"best score:\", clf.best_score_)\n",
        "# print(\"test score\", test_score)"
      ]
    },
    {
      "cell_type": "markdown",
      "metadata": {},
      "source": [
        "### GridSearchCV"
      ]
    },
    {
      "cell_type": "code",
      "execution_count": 25,
      "metadata": {},
      "outputs": [
        {
          "name": "stdout",
          "output_type": "stream",
          "text": [
            "Fitting the classifier to the training set\n"
          ]
        }
      ],
      "source": [
        "# Train a SVM classification model\n",
        "\n",
        "print(\"Fitting the classifier to the training set\")\n",
        "\n",
        "# defining parameter range\n",
        "param_grid = {'C': [0.1, 1, 10, 100, 1000],\n",
        "              'gamma': [1, 0.1, 0.01, 0.001, 0.0001]\n",
        "              }\n",
        "\n",
        "clf = GridSearchCV(\n",
        "    SVC(kernel=\"rbf\", class_weight=\"balanced\"), param_grid, cv=5, scoring='accuracy', n_jobs=-1)\n",
        "    \n"
      ]
    },
    {
      "cell_type": "code",
      "execution_count": 26,
      "metadata": {},
      "outputs": [
        {
          "name": "stdout",
          "output_type": "stream",
          "text": [
            "Συνολικός χρόνος fit και predict: 210.2338945865631 seconds\n",
            "              precision    recall  f1-score   support\n",
            "\n",
            "   home loss       0.58      0.69      0.63      2312\n",
            "    home win       0.75      0.65      0.69      3250\n",
            "\n",
            "    accuracy                           0.67      5562\n",
            "   macro avg       0.66      0.67      0.66      5562\n",
            "weighted avg       0.68      0.67      0.67      5562\n",
            "\n",
            "val score: 0.42061114439784303\n",
            "test score 0.6652283351312478\n"
          ]
        }
      ],
      "source": [
        "start_time = time.time()\n",
        "clf = clf.fit(X_train_pca, y_train)\n",
        "val_score = clf.score(X_val_pca, y_val)\n",
        "\n",
        "preds = clf.predict(X_test_pca)\n",
        "test_score = clf.score(X_test_pca, y_test)\n",
        "\n",
        "target_names = ['home loss', 'home win']\n",
        "\n",
        "print(\"Συνολικός χρόνος fit και predict: %s seconds\" % (time.time() - start_time))\n",
        "print(classification_report(y_test, preds, target_names=target_names))\n",
        "print(\"val score:\", val_score)\n",
        "\n",
        "y_fit = clf.predict(X_test_pca)\n",
        "\n",
        "print(\"test score\", test_score)"
      ]
    },
    {
      "cell_type": "code",
      "execution_count": 27,
      "metadata": {},
      "outputs": [
        {
          "name": "stdout",
          "output_type": "stream",
          "text": [
            "{'C': 0.1, 'gamma': 0.01}\n",
            "best score: 0.6726655773236976\n"
          ]
        }
      ],
      "source": [
        "print(clf.best_params_)\n",
        "print(\"best score:\", clf.best_score_)"
      ]
    },
    {
      "cell_type": "code",
      "execution_count": null,
      "metadata": {},
      "outputs": [],
      "source": []
    }
  ],
  "metadata": {
    "colab": {
      "collapsed_sections": [],
      "name": "svm.ipynb",
      "provenance": []
    },
    "kernelspec": {
      "display_name": "Python 3",
      "name": "python3"
    },
    "language_info": {
      "codemirror_mode": {
        "name": "ipython",
        "version": 3
      },
      "file_extension": ".py",
      "mimetype": "text/x-python",
      "name": "python",
      "nbconvert_exporter": "python",
      "pygments_lexer": "ipython3",
      "version": "3.9.4"
    }
  },
  "nbformat": 4,
  "nbformat_minor": 0
}
