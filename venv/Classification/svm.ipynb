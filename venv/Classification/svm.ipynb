{
  "cells": [
    {
      "cell_type": "markdown",
      "metadata": {
        "id": "6tUmsUV-YuVE"
      },
      "source": [
        "## SVM Classifier"
      ]
    },
    {
      "cell_type": "code",
      "execution_count": 1,
      "metadata": {
        "id": "Lmv3dcgmWDdb"
      },
      "outputs": [],
      "source": [
        "from sklearn.svm import SVC\n",
        "from sklearn.model_selection import train_test_split, GridSearchCV, RandomizedSearchCV, StratifiedKFold\n",
        "from sklearn.metrics import classification_report\n",
        "import time\n",
        "\n",
        "%matplotlib inline\n",
        "import numpy as np\n",
        "import pandas as pd\n",
        "import matplotlib.pyplot as plt\n",
        "from scipy import stats\n",
        "\n",
        "# use seaborn plotting defaults\n",
        "import seaborn as sns; sns.set()\n",
        "\n",
        "import warnings\n"
      ]
    },
    {
      "cell_type": "code",
      "execution_count": 2,
      "metadata": {
        "id": "5Zt8vfg3ZRoX"
      },
      "outputs": [],
      "source": [
        "warnings.filterwarnings('ignore')\n"
      ]
    },
    {
      "cell_type": "code",
      "execution_count": 3,
      "metadata": {
        "id": "rtWQEZCOXlVq"
      },
      "outputs": [],
      "source": [
        "df = pd.read_csv('../FeatureEngineering/MetaData/data6_&_odds.csv')\n",
        "df.dropna(inplace=True)"
      ]
    },
    {
      "cell_type": "code",
      "execution_count": 4,
      "metadata": {
        "id": "7WNVxiX5ZJqI"
      },
      "outputs": [],
      "source": [
        "train_data = df.loc[(df.season <= 2013) & (df.season >= 2007)]\n",
        "valid_data = df.loc[(df.season > 2013) & (df.season < 2016)]\n",
        "test_data = df.loc[df.season >= 2016]\n",
        "full_train_data = pd.concat([train_data, valid_data], axis=0)\n",
        "\n",
        "X, y = train_data.drop(columns=['home_team_wins']), train_data.home_team_wins\n",
        "valid_X, valid_y = valid_data.drop(columns=['home_team_wins']), valid_data.home_team_wins\n",
        "test_X, test_y = test_data.drop(columns=['home_team_wins']), test_data.home_team_wins\n",
        "\n",
        "# Split our data\n",
        "X_train, y_train = train_data.drop(columns=[\"game_date_est\",\"season\",\"game_id\",\"home_team\",\"visitor_team\",\"home_team_id\",\"visitor_team_id\",\"home_team_wins\",\"conference\",\"conference_visitor\"]), train_data.home_team_wins\n",
        "X_val, y_val = valid_data.drop(columns=[\"game_date_est\",\"season\",\"game_id\",\"home_team\",\"visitor_team\",\"home_team_id\",\"visitor_team_id\",\"home_team_wins\",\"conference\",\"conference_visitor\"]), valid_data.home_team_wins\n",
        "X_test, y_test = test_data.drop(columns=[\"game_date_est\",\"season\",\"game_id\",\"home_team\",\"visitor_team\",\"home_team_id\",\"visitor_team_id\",\"home_team_wins\",\"conference\",\"conference_visitor\"]), test_data.home_team_wins\n",
        "\n"
      ]
    },
    {
      "cell_type": "markdown",
      "metadata": {},
      "source": [
        "### GridSearchCV"
      ]
    },
    {
      "cell_type": "code",
      "execution_count": 5,
      "metadata": {
        "id": "zSjl8cDaZXhT"
      },
      "outputs": [],
      "source": [
        "# Support vector classifier\n",
        "model = SVC()\n",
        "model.fit(X_train, y_train)\n",
        "\n",
        "# defining parameter range\n",
        "param_grid = {'C': [0.1, 1, 10, 100, 1000],\n",
        "              'gamma': [1, 0.1, 0.01, 0.001, 0.0001],\n",
        "              'kernel': ['rbf']}\n",
        "\n",
        "grid = GridSearchCV(model, param_grid, cv=5, scoring='accuracy', n_jobs=-1)\n",
        "\n",
        "start_time = time.time()\n",
        "grid.fit(X_train, y_train)\n",
        "val_score = grid.score(X_val, y_val)\n",
        "\n",
        "preds = grid.predict(X_val)\n",
        "test_score = grid.score(X_val, y_val)\n",
        "\n"
      ]
    },
    {
      "cell_type": "code",
      "execution_count": 6,
      "metadata": {
        "colab": {
          "base_uri": "https://localhost:8080/"
        },
        "id": "26LvMTJmZ5fk",
        "outputId": "7b383a4c-f4a7-4f1c-cf1d-c10f8c8b6ba4"
      },
      "outputs": [
        {
          "name": "stdout",
          "output_type": "stream",
          "text": [
            "Συνολικός χρόνος fit και predict: 607.7583913803101 seconds\n",
            "              precision    recall  f1-score   support\n",
            "\n",
            "   home_loss       0.65      0.45      0.53      1011\n",
            "    home_win       0.68      0.82      0.74      1409\n",
            "\n",
            "    accuracy                           0.67      2420\n",
            "   macro avg       0.66      0.64      0.64      2420\n",
            "weighted avg       0.67      0.67      0.66      2420\n",
            "\n",
            "val score: 0.6685950413223141\n",
            "{'C': 1, 'gamma': 0.0001, 'kernel': 'rbf'}\n",
            "best score: 0.6605797101449274\n",
            "test score 0.6685950413223141\n"
          ]
        }
      ],
      "source": [
        "target_names = ['home_loss', 'home_win']\n",
        "\n",
        "\n",
        "print(\"Συνολικός χρόνος fit και predict: %s seconds\" % (time.time() - start_time))\n",
        "print(classification_report(y_val, preds, target_names=target_names))\n",
        "print(\"val score:\", val_score)\n",
        "\n",
        "model = grid.best_estimator_\n",
        "y_fit = model.predict(X_val)\n",
        "\n",
        "print(grid.best_params_)\n",
        "print(\"best score:\", grid.best_score_)\n",
        "print(\"test score\", test_score)\n"
      ]
    },
    {
      "cell_type": "markdown",
      "metadata": {},
      "source": [
        "### RandomizedSearchCV"
      ]
    },
    {
      "cell_type": "code",
      "execution_count": 7,
      "metadata": {},
      "outputs": [],
      "source": [
        "# defining parameter range\n",
        "param_grid = {'C': [0.1, 1, 10, 100, 1000],\n",
        "              'gamma': [1, 0.1, 0.01, 0.001, 0.0001]\n",
        "              }\n",
        "\n",
        "clf = RandomizedSearchCV(\n",
        "    SVC(kernel=\"rbf\", class_weight=\"balanced\"), param_grid, n_iter=10, cv=5, scoring='accuracy', n_jobs=-1)"
      ]
    },
    {
      "cell_type": "code",
      "execution_count": 8,
      "metadata": {},
      "outputs": [
        {
          "name": "stdout",
          "output_type": "stream",
          "text": [
            "Συνολικός χρόνος fit και predict: 239.0733585357666 seconds\n",
            "              precision    recall  f1-score   support\n",
            "\n",
            "   home loss       0.58      0.64      0.61      1011\n",
            "    home win       0.72      0.66      0.69      1409\n",
            "\n",
            "    accuracy                           0.65      2420\n",
            "   macro avg       0.65      0.65      0.65      2420\n",
            "weighted avg       0.66      0.65      0.66      2420\n",
            "\n",
            "val score: 0.6545454545454545\n",
            "test score 0.6545454545454545\n"
          ]
        }
      ],
      "source": [
        "start_time = time.time()\n",
        "clf = clf.fit(X_train, y_train)\n",
        "val_score = clf.score(X_val, y_val)\n",
        "\n",
        "preds = clf.predict(X_val)\n",
        "test_score = clf.score(X_val, y_val)\n",
        "\n",
        "target_names = ['home loss', 'home win']\n",
        "\n",
        "print(\"Συνολικός χρόνος fit και predict: %s seconds\" % (time.time() - start_time))\n",
        "print(classification_report(y_val, preds, target_names=target_names))\n",
        "print(\"val score:\", val_score)\n",
        "\n",
        "y_fit = clf.predict(X_val)\n",
        "\n",
        "print(\"test score\", test_score)"
      ]
    },
    {
      "cell_type": "code",
      "execution_count": 9,
      "metadata": {},
      "outputs": [
        {
          "name": "stdout",
          "output_type": "stream",
          "text": [
            "{'gamma': 0.0001, 'C': 1}\n",
            "best score: 0.6456521739130435\n"
          ]
        }
      ],
      "source": [
        "print(clf.best_params_)\n",
        "print(\"best score:\", clf.best_score_)"
      ]
    },
    {
      "cell_type": "markdown",
      "metadata": {
        "id": "gZGvPsALcuE0"
      },
      "source": [
        "### SVM with Recursive Feature Elimination (RFE)"
      ]
    },
    {
      "cell_type": "code",
      "execution_count": 10,
      "metadata": {
        "id": "PePfSsuMcR7q"
      },
      "outputs": [],
      "source": [
        "from sklearn.svm import SVC\n",
        "from sklearn.feature_selection import RFE\n",
        "from sklearn.pipeline import Pipeline\n",
        "from sklearn.preprocessing import MinMaxScaler, StandardScaler"
      ]
    },
    {
      "cell_type": "code",
      "execution_count": 11,
      "metadata": {},
      "outputs": [],
      "source": [
        "X_train_rfe = train_data[['num_possible_outcomes', 'odds_home', 'odds_away', 'W_PCT_home',\n",
        "            'HOME_RECORD_home', 'ROAD_RECORD_home', 'ROAD_RECORD_away',\n",
        "            'WIN_PRCT_home_3g', 'PTS_home_3g', 'REB_home_3g', 'WIN_PRCT_away_3g',\n",
        "            'AST_away_3g', 'REB_away_3g', 'PTS_home_7g', 'AST_home_7g',\n",
        "            'REB_home_7g', 'AST_away_7g', 'diff_avg_pts_home', 'diff_avg_ast_home',\n",
        "            'diff_avg_ast_away', 'diff_avg_fg3_pct_home', 'diff_avg_reb_home',\n",
        "            'diff_avg_reb_away', 'top_players', 'eff_visitor', 'HG_7days',\n",
        "            'AG_7days', 'G_7days', 'back2back', 'HG_7days_VISITOR',\n",
        "            'G_7days_VISITOR', 'back2back_visitor', 'missing_players',\n",
        "            'missing_players_visitor', 'home_elo', 'visitor_elo', 'elo_diff',\n",
        "            'top_player_diff', 'missing_player_diff', 'eff_diff', 'month',\n",
        "            'Home_Last_5_Avg_AST_home', 'Home_Last_5_Avg_REB_home',\n",
        "            'Home_Last_5_Avg_PTS_away', 'Home_Last_5_Avg_REB_away',\n",
        "            'Home_Last_5_Avg_AST_away', 'Away_Last_5_Avg_FG3_PCT_home',\n",
        "            'Away_Last_5_Avg_AST_home', 'Away_Last_5_Avg_PTS_away',\n",
        "            'Away_Last_5_Avg_FT_PCT_away', 'Away_Last_5_Avg_AST_away',\n",
        "            'diff_ast_last_3_games', 'diff_ast_last_7_games',\n",
        "            'diff_reb_last_3_games', 'diff_reb_last_7_games',\n",
        "            'diff_win_pct_3_last_games', 'diff_curr_win_pct',\n",
        "            'diff_curr_home_record', 'diff_curr_away_record']]\n",
        "\n",
        "y_train_rfe = y_train\n",
        "\n",
        "X_val_rfe = valid_data[['num_possible_outcomes', 'odds_home', 'odds_away', 'W_PCT_home',\n",
        "            'HOME_RECORD_home', 'ROAD_RECORD_home', 'ROAD_RECORD_away',\n",
        "            'WIN_PRCT_home_3g', 'PTS_home_3g', 'REB_home_3g', 'WIN_PRCT_away_3g',\n",
        "            'AST_away_3g', 'REB_away_3g', 'PTS_home_7g', 'AST_home_7g',\n",
        "            'REB_home_7g', 'AST_away_7g', 'diff_avg_pts_home', 'diff_avg_ast_home',\n",
        "            'diff_avg_ast_away', 'diff_avg_fg3_pct_home', 'diff_avg_reb_home',\n",
        "            'diff_avg_reb_away', 'top_players', 'eff_visitor', 'HG_7days',\n",
        "            'AG_7days', 'G_7days', 'back2back', 'HG_7days_VISITOR',\n",
        "            'G_7days_VISITOR', 'back2back_visitor', 'missing_players',\n",
        "            'missing_players_visitor', 'home_elo', 'visitor_elo', 'elo_diff',\n",
        "            'top_player_diff', 'missing_player_diff', 'eff_diff', 'month',\n",
        "            'Home_Last_5_Avg_AST_home', 'Home_Last_5_Avg_REB_home',\n",
        "            'Home_Last_5_Avg_PTS_away', 'Home_Last_5_Avg_REB_away',\n",
        "            'Home_Last_5_Avg_AST_away', 'Away_Last_5_Avg_FG3_PCT_home',\n",
        "            'Away_Last_5_Avg_AST_home', 'Away_Last_5_Avg_PTS_away',\n",
        "            'Away_Last_5_Avg_FT_PCT_away', 'Away_Last_5_Avg_AST_away',\n",
        "            'diff_ast_last_3_games', 'diff_ast_last_7_games',\n",
        "            'diff_reb_last_3_games', 'diff_reb_last_7_games',\n",
        "            'diff_win_pct_3_last_games', 'diff_curr_win_pct',\n",
        "            'diff_curr_home_record', 'diff_curr_away_record']]\n",
        "\n",
        "y_val_rfe = y_val"
      ]
    },
    {
      "cell_type": "code",
      "execution_count": 12,
      "metadata": {},
      "outputs": [],
      "source": [
        "svc = SVC()\n",
        "svc.fit(X_train_rfe, y_train_rfe)\n",
        "\n",
        "# defining parameter range\n",
        "param_grid = {'C': [0.1, 1, 10, 100, 1000],\n",
        "              'gamma': [1, 0.1, 0.01, 0.001, 0.0001],\n",
        "              'kernel': ['rbf']}\n",
        "\n",
        "grid = GridSearchCV(svc, param_grid, cv=5, scoring='accuracy', n_jobs=-1)"
      ]
    },
    {
      "cell_type": "code",
      "execution_count": 13,
      "metadata": {},
      "outputs": [
        {
          "name": "stdout",
          "output_type": "stream",
          "text": [
            "Συνολικός χρόνος fit και predict: 321.3501079082489 seconds\n",
            "              precision    recall  f1-score   support\n",
            "\n",
            "   home_loss       0.66      0.48      0.55      1011\n",
            "    home_win       0.69      0.82      0.75      1409\n",
            "\n",
            "    accuracy                           0.68      2420\n",
            "   macro avg       0.67      0.65      0.65      2420\n",
            "weighted avg       0.67      0.68      0.67      2420\n",
            "\n",
            "val score: 0.6776859504132231\n",
            "{'C': 1, 'gamma': 0.0001, 'kernel': 'rbf'}\n",
            "best score: 0.6643478260869565\n",
            "test score 0.6776859504132231\n"
          ]
        }
      ],
      "source": [
        "start_time = time.time()\n",
        "grid.fit(X_train_rfe, y_train_rfe)\n",
        "val_score = grid.score(X_val_rfe, y_val_rfe)\n",
        "\n",
        "preds = grid.predict(X_val_rfe)\n",
        "test_score = grid.score(X_val_rfe, y_val_rfe)\n",
        "\n",
        "target_names = ['home_loss', 'home_win']\n",
        "\n",
        "\n",
        "print(\"Συνολικός χρόνος fit και predict: %s seconds\" % (time.time() - start_time))\n",
        "print(classification_report(y_val_rfe, preds, target_names=target_names))\n",
        "print(\"val score:\", val_score)\n",
        "\n",
        "model = grid.best_estimator_\n",
        "y_fit = model.predict(X_val_rfe)\n",
        "\n",
        "print(grid.best_params_)\n",
        "print(\"best score:\", grid.best_score_)\n",
        "print(\"test score\", test_score)\n"
      ]
    },
    {
      "cell_type": "markdown",
      "metadata": {},
      "source": [
        "### SVM with RFECV"
      ]
    },
    {
      "cell_type": "code",
      "execution_count": 50,
      "metadata": {},
      "outputs": [],
      "source": [
        "X_train_rcv = train_data[['missing_player_diff','odds_home','odds_away','visitor_elo']]\n",
        "y_train_rcv = y_train\n",
        "\n",
        "X_val_rcv = valid_data[['missing_player_diff','odds_home','odds_away','visitor_elo']]\n",
        "y_val_rcv = y_val"
      ]
    },
    {
      "cell_type": "code",
      "execution_count": 51,
      "metadata": {},
      "outputs": [],
      "source": [
        "# Support vector classifier\n",
        "model = SVC()\n",
        "model.fit(X_train_rcv, y_train_rcv)\n",
        "\n",
        "# defining parameter range\n",
        "param_grid = {'C': [0.1, 1, 10, 100, 1000],\n",
        "              'gamma': [1, 0.1, 0.01, 0.001, 0.0001],\n",
        "              'kernel': ['rbf']}\n",
        "\n",
        "grid = GridSearchCV(model, param_grid, cv=5, scoring='accuracy', n_jobs=-1)"
      ]
    },
    {
      "cell_type": "code",
      "execution_count": 52,
      "metadata": {},
      "outputs": [
        {
          "name": "stdout",
          "output_type": "stream",
          "text": [
            "Συνολικός χρόνος fit και predict: 162.3340916633606 seconds\n",
            "              precision    recall  f1-score   support\n",
            "\n",
            "   home_loss       0.67      0.47      0.55      1011\n",
            "    home_win       0.69      0.84      0.75      1409\n",
            "\n",
            "    accuracy                           0.68      2420\n",
            "   macro avg       0.68      0.65      0.65      2420\n",
            "weighted avg       0.68      0.68      0.67      2420\n",
            "\n",
            "val score: 0.6830578512396694\n",
            "{'C': 1000, 'gamma': 0.0001, 'kernel': 'rbf'}\n",
            "best score: 0.6852173913043479\n",
            "test score 0.6830578512396694\n"
          ]
        }
      ],
      "source": [
        "start_time = time.time()\n",
        "grid.fit(X_train_rcv, y_train_rcv)\n",
        "val_score = grid.score(X_val_rcv, y_val_rcv)\n",
        "\n",
        "preds = grid.predict(X_val_rcv)\n",
        "test_score = grid.score(X_val_rcv, y_val_rcv)\n",
        "target_names = ['home_loss', 'home_win']\n",
        "\n",
        "\n",
        "print(\"Συνολικός χρόνος fit και predict: %s seconds\" % (time.time() - start_time))\n",
        "print(classification_report(y_val_rcv, preds, target_names=target_names))\n",
        "print(\"val score:\", val_score)\n",
        "\n",
        "model = grid.best_estimator_\n",
        "y_fit = model.predict(X_val_rcv)\n",
        "\n",
        "print(grid.best_params_)\n",
        "print(\"best score:\", grid.best_score_)\n",
        "print(\"test score\", test_score)\n"
      ]
    },
    {
      "cell_type": "markdown",
      "metadata": {},
      "source": [
        "### SVM with Univariate Feature Selection"
      ]
    },
    {
      "cell_type": "code",
      "execution_count": 16,
      "metadata": {},
      "outputs": [],
      "source": [
        "X_train_uni = train_data[['diff_curr_win_pct','diff_curr_away_record','odds_home','odds_away','elo_diff']]\n",
        "y_train_uni = y_train\n",
        "\n",
        "X_val_uni = valid_data[['diff_curr_win_pct','diff_curr_away_record','odds_home','odds_away','elo_diff']]\n",
        "y_val_uni = y_val"
      ]
    },
    {
      "cell_type": "code",
      "execution_count": 17,
      "metadata": {},
      "outputs": [],
      "source": [
        "svc = SVC()\n",
        "svc.fit(X_train_uni, y_train_uni)\n",
        "\n",
        "# defining parameter range\n",
        "param_grid = {'C': [0.1, 1, 10, 100, 1000],\n",
        "              'gamma': [1, 0.1, 0.01, 0.001, 0.0001],\n",
        "              'kernel': ['rbf']}\n",
        "\n",
        "grid = GridSearchCV(svc, param_grid, cv=5, scoring='accuracy', n_jobs=-1)"
      ]
    },
    {
      "cell_type": "code",
      "execution_count": 18,
      "metadata": {},
      "outputs": [
        {
          "name": "stdout",
          "output_type": "stream",
          "text": [
            "Συνολικός χρόνος fit και predict: 279.16617608070374 seconds\n",
            "              precision    recall  f1-score   support\n",
            "\n",
            "   home_loss       0.68      0.54      0.60      1011\n",
            "    home_win       0.71      0.82      0.76      1409\n",
            "\n",
            "    accuracy                           0.70      2420\n",
            "   macro avg       0.69      0.68      0.68      2420\n",
            "weighted avg       0.70      0.70      0.69      2420\n",
            "\n",
            "val score: 0.7004132231404959\n",
            "{'C': 1000, 'gamma': 0.0001, 'kernel': 'rbf'}\n",
            "best score: 0.6857971014492754\n",
            "test score 0.7004132231404959\n"
          ]
        }
      ],
      "source": [
        "start_time = time.time()\n",
        "grid.fit(X_train_uni, y_train_uni)\n",
        "val_score = grid.score(X_val_uni, y_val_uni)\n",
        "\n",
        "preds = grid.predict(X_val_uni)\n",
        "test_score = grid.score(X_val_uni, y_val_uni)\n",
        "\n",
        "target_names = ['home_loss', 'home_win']\n",
        "\n",
        "\n",
        "print(\"Συνολικός χρόνος fit και predict: %s seconds\" % (time.time() - start_time))\n",
        "print(classification_report(y_val_uni, preds, target_names=target_names))\n",
        "print(\"val score:\", val_score)\n",
        "\n",
        "model = grid.best_estimator_\n",
        "y_fit = model.predict(X_val_uni)\n",
        "\n",
        "print(grid.best_params_)\n",
        "print(\"best score:\", grid.best_score_)\n",
        "print(\"test score\", test_score)\n"
      ]
    },
    {
      "cell_type": "markdown",
      "metadata": {},
      "source": [
        "### SVM with ExtraTreesClassifier"
      ]
    },
    {
      "cell_type": "code",
      "execution_count": 19,
      "metadata": {},
      "outputs": [],
      "source": [
        "X_train_extra = train_data[['odds_home', 'odds_away', 'home_elo', 'visitor_elo', 'elo_diff',\n",
        "                    'eff_diff', 'eff_visitor', 'top_player_diff', 'diff_win_pct_prev_season',\n",
        "                    'diff_home_record_last_season', 'ROAD_RECORD_home',\n",
        "                    'diff_road_record_last_season', 'diff_win_pct_7_last_games', 'W_PCT_home',\n",
        "                    'W_PCT_away', 'W_PCT_prev_away', 'diff_curr_away_record', 'HOME_RECORD_home', 'diff_curr_home_record',\n",
        "                    'diff_curr_win_pct']]\n",
        "\n",
        "y_train_extra = y_train\n",
        "\n",
        "X_val_extra = valid_data[['odds_home', 'odds_away', 'home_elo', 'visitor_elo', 'elo_diff',\n",
        "                    'eff_diff', 'eff_visitor', 'top_player_diff', 'diff_win_pct_prev_season',\n",
        "                    'diff_home_record_last_season', 'ROAD_RECORD_home',\n",
        "                    'diff_road_record_last_season', 'diff_win_pct_7_last_games', 'W_PCT_home',\n",
        "                    'W_PCT_away', 'W_PCT_prev_away', 'diff_curr_away_record', 'HOME_RECORD_home', 'diff_curr_home_record',\n",
        "                    'diff_curr_win_pct']]\n",
        "\n",
        "y_val_extra = y_val"
      ]
    },
    {
      "cell_type": "code",
      "execution_count": 29,
      "metadata": {},
      "outputs": [],
      "source": [
        "svc = SVC()\n",
        "svc.fit(X_train_extra, y_train_extra)\n",
        "\n",
        "# defining parameter range\n",
        "param_grid = {'C': [0.1, 1, 10, 100, 1000],\n",
        "              'gamma': [1, 0.1, 0.01, 0.001, 0.0001],\n",
        "              'kernel': ['rbf']}\n",
        "\n",
        "grid = GridSearchCV(svc, param_grid, cv=5, scoring='accuracy', n_jobs=-1)"
      ]
    },
    {
      "cell_type": "code",
      "execution_count": 30,
      "metadata": {},
      "outputs": [
        {
          "name": "stdout",
          "output_type": "stream",
          "text": [
            "Συνολικός χρόνος fit και predict: 221.49125576019287 seconds\n",
            "              precision    recall  f1-score   support\n",
            "\n",
            "   home_loss       0.65      0.48      0.55      1011\n",
            "    home_win       0.69      0.82      0.75      1409\n",
            "\n",
            "    accuracy                           0.68      2420\n",
            "   macro avg       0.67      0.65      0.65      2420\n",
            "weighted avg       0.67      0.68      0.67      2420\n",
            "\n",
            "val score: 0.6764462809917355\n",
            "{'C': 1, 'gamma': 0.0001, 'kernel': 'rbf'}\n",
            "best score: 0.6627536231884058\n",
            "test score 0.6764462809917355\n"
          ]
        }
      ],
      "source": [
        "start_time = time.time()\n",
        "grid.fit(X_train_extra, y_train_extra)\n",
        "val_score = grid.score(X_val_extra, y_val_extra)\n",
        "\n",
        "preds = grid.predict(X_val_extra)\n",
        "test_score = grid.score(X_val_extra, y_val_extra)\n",
        "\n",
        "target_names = ['home_loss', 'home_win']\n",
        "\n",
        "\n",
        "print(\"Συνολικός χρόνος fit και predict: %s seconds\" % (time.time() - start_time))\n",
        "print(classification_report(y_val_extra, preds, target_names=target_names))\n",
        "print(\"val score:\", val_score)\n",
        "\n",
        "model = grid.best_estimator_\n",
        "y_fit = model.predict(X_val_extra)\n",
        "\n",
        "print(grid.best_params_)\n",
        "print(\"best score:\", grid.best_score_)\n",
        "print(\"test score\", test_score)\n"
      ]
    },
    {
      "cell_type": "markdown",
      "metadata": {},
      "source": [
        "### SVM with PCA"
      ]
    },
    {
      "cell_type": "code",
      "execution_count": 31,
      "metadata": {},
      "outputs": [],
      "source": [
        "import time\n",
        "import matplotlib.pyplot as plt\n",
        "\n",
        "from sklearn.model_selection import train_test_split\n",
        "from sklearn.model_selection import GridSearchCV, RandomizedSearchCV\n",
        "from sklearn.metrics import classification_report\n",
        "from sklearn.preprocessing import StandardScaler\n",
        "from sklearn.decomposition import PCA\n",
        "from sklearn.svm import SVC"
      ]
    },
    {
      "cell_type": "code",
      "execution_count": 32,
      "metadata": {},
      "outputs": [],
      "source": [
        "scaler = StandardScaler()\n",
        "X_train_standard = scaler.fit_transform(X_train)\n",
        "X_val_standard = scaler.transform(X_val)\n",
        "X_test_standard = scaler.transform(X_test)"
      ]
    },
    {
      "cell_type": "code",
      "execution_count": 33,
      "metadata": {},
      "outputs": [],
      "source": [
        "n_components = 30\n",
        "pca = PCA(n_components=n_components).fit(X_train)\n",
        "X_train_pca = pca.transform(X_train)\n",
        "X_val_pca = pca.transform(X_val)\n",
        "X_test_pca = pca.transform(X_test)"
      ]
    },
    {
      "cell_type": "markdown",
      "metadata": {},
      "source": [
        "#### GridSearch"
      ]
    },
    {
      "cell_type": "code",
      "execution_count": 34,
      "metadata": {},
      "outputs": [],
      "source": [
        "svc = SVC()\n",
        "svc.fit(X_train_pca, y_train)\n",
        "\n",
        "# defining parameter range\n",
        "param_grid = {'C': [0.1, 1, 10, 100, 1000],\n",
        "              'gamma': [1, 0.1, 0.01, 0.001, 0.0001],\n",
        "              'kernel': ['rbf']}\n",
        "\n",
        "grid = GridSearchCV(svc, param_grid, cv=5, scoring='accuracy', n_jobs=-1)"
      ]
    },
    {
      "cell_type": "code",
      "execution_count": 35,
      "metadata": {},
      "outputs": [
        {
          "name": "stdout",
          "output_type": "stream",
          "text": [
            "Συνολικός χρόνος fit και predict: 104.88466715812683 seconds\n",
            "              precision    recall  f1-score   support\n",
            "\n",
            "   home loss       0.61      0.67      0.64      1011\n",
            "    home win       0.75      0.69      0.72      1409\n",
            "\n",
            "    accuracy                           0.68      2420\n",
            "   macro avg       0.68      0.68      0.68      2420\n",
            "weighted avg       0.69      0.68      0.68      2420\n",
            "\n",
            "val score: 0.6822314049586777\n",
            "{'gamma': 0.0001, 'C': 10}\n",
            "best score: 0.6707246376811595\n",
            "test score 0.6822314049586777\n"
          ]
        }
      ],
      "source": [
        "start_time = time.time()\n",
        "grid.fit(X_train_pca, y_train)\n",
        "val_score = grid.score(X_val_pca, y_val)\n",
        "\n",
        "preds = grid.predict(X_val_pca)\n",
        "test_score = grid.score(X_val_pca, y_val)\n",
        "\n",
        "target_names = ['home loss', 'home win']\n",
        "\n",
        "print(\"Συνολικός χρόνος fit και predict: %s seconds\" % (time.time() - start_time))\n",
        "print(classification_report(y_val, preds, target_names=target_names))\n",
        "print(\"val score:\", val_score)\n",
        "\n",
        "model = grid.best_estimator_\n",
        "y_fit = model.predict(X_val_pca)\n",
        "\n",
        "print(grid.best_params_)\n",
        "print(\"best score:\", grid.best_score_)\n",
        "print(\"test score\", test_score)\n"
      ]
    },
    {
      "cell_type": "markdown",
      "metadata": {},
      "source": [
        "#### Randomized Search"
      ]
    },
    {
      "cell_type": "code",
      "execution_count": 27,
      "metadata": {},
      "outputs": [
        {
          "name": "stdout",
          "output_type": "stream",
          "text": [
            "Fitting the classifier to the training set\n"
          ]
        }
      ],
      "source": [
        "# Train a SVM classification model\n",
        "\n",
        "print(\"Fitting the classifier to the training set\")\n",
        "\n",
        "# defining parameter range\n",
        "param_grid = {'C': [0.1, 1, 10, 100, 1000],\n",
        "              'gamma': [1, 0.1, 0.01, 0.001, 0.0001]\n",
        "              }\n",
        "\n",
        "clf = RandomizedSearchCV(\n",
        "    SVC(kernel=\"rbf\", class_weight=\"balanced\"), param_grid, cv=5, scoring='accuracy', n_jobs=-1)\n",
        "    \n"
      ]
    },
    {
      "cell_type": "code",
      "execution_count": 28,
      "metadata": {},
      "outputs": [
        {
          "name": "stdout",
          "output_type": "stream",
          "text": [
            "Συνολικός χρόνος fit και predict: 79.63408780097961 seconds\n",
            "              precision    recall  f1-score   support\n",
            "\n",
            "   home loss       0.61      0.67      0.64      1011\n",
            "    home win       0.74      0.69      0.72      1409\n",
            "\n",
            "    accuracy                           0.68      2420\n",
            "   macro avg       0.67      0.68      0.68      2420\n",
            "weighted avg       0.69      0.68      0.68      2420\n",
            "\n",
            "val score: 0.6805785123966942\n",
            "{'gamma': 0.0001, 'C': 1}\n",
            "best score: 0.67\n",
            "test score 0.6805785123966942\n"
          ]
        }
      ],
      "source": [
        "start_time = time.time()\n",
        "clf = clf.fit(X_train_pca, y_train)\n",
        "val_score = clf.score(X_val_pca, y_val)\n",
        "\n",
        "preds = clf.predict(X_val_pca)\n",
        "test_score = clf.score(X_val_pca, y_val)\n",
        "\n",
        "target_names = ['home loss', 'home win']\n",
        "\n",
        "print(\"Συνολικός χρόνος fit και predict: %s seconds\" % (time.time() - start_time))\n",
        "print(classification_report(y_val, preds, target_names=target_names))\n",
        "print(\"val score:\", val_score)\n",
        "\n",
        "y_fit = clf.predict(X_val_pca)\n",
        "\n",
        "print(clf.best_params_)\n",
        "print(\"best score:\", clf.best_score_)\n",
        "print(\"test score\", test_score)"
      ]
    },
    {
      "cell_type": "markdown",
      "metadata": {},
      "source": [
        "### SVM with SelectFromModel(LassoCV)"
      ]
    },
    {
      "cell_type": "code",
      "execution_count": 36,
      "metadata": {},
      "outputs": [],
      "source": [
        "from sklearn.feature_selection import SelectFromModel\n",
        "from sklearn.linear_model import LassoCV\n",
        "from sklearn.pipeline import Pipeline"
      ]
    },
    {
      "cell_type": "code",
      "execution_count": 37,
      "metadata": {},
      "outputs": [
        {
          "data": {
            "text/plain": [
              "Pipeline(steps=[('feature_selection', SelectFromModel(estimator=LassoCV())),\n",
              "                ('classification', SVC(C=1, gamma=0.0001))])"
            ]
          },
          "execution_count": 37,
          "metadata": {},
          "output_type": "execute_result"
        }
      ],
      "source": [
        "pipe_model = Pipeline([\n",
        "  ('feature_selection', SelectFromModel(LassoCV())),\n",
        "  ('classification', SVC(C=1, gamma=0.0001, kernel='rbf'))\n",
        "])\n",
        "pipe_model.fit(X_train, y_train)"
      ]
    },
    {
      "cell_type": "code",
      "execution_count": 38,
      "metadata": {},
      "outputs": [
        {
          "name": "stdout",
          "output_type": "stream",
          "text": [
            "Συνολικός χρόνος fit και predict: 196.7856888771057 seconds\n",
            "              precision    recall  f1-score   support\n",
            "\n",
            "   home loss       0.72      0.43      0.54      1011\n",
            "    home win       0.68      0.88      0.77      1409\n",
            "\n",
            "    accuracy                           0.69      2420\n",
            "   macro avg       0.70      0.66      0.66      2420\n",
            "weighted avg       0.70      0.69      0.68      2420\n",
            "\n",
            "test score 0.6942148760330579\n"
          ]
        }
      ],
      "source": [
        "# Predict\n",
        "preds = pipe_model.predict(X_val)\n",
        "test_score = pipe_model.score(X_val, y_val)\n",
        "\n",
        "target_names=['home loss', 'home win']\n",
        "\n",
        "print(\"Συνολικός χρόνος fit και predict: %s seconds\" % (time.time() - start_time))\n",
        "print(classification_report(y_val, preds, target_names=target_names))\n",
        "\n",
        "print(\"test score\", test_score)\n"
      ]
    },
    {
      "cell_type": "markdown",
      "metadata": {},
      "source": [
        "#### Use lasso_data"
      ]
    },
    {
      "cell_type": "code",
      "execution_count": 39,
      "metadata": {},
      "outputs": [],
      "source": [
        "X_train_lasso = train_data[['elo_diff', 'odds_away', 'odds_home', 'eff_diff', 'eff_visitor',\n",
        "              'missing_players', 'top_players', 'FT_PCT_home_7g', 'diff_avg_reb_away',\n",
        "              'home_elo']]\n",
        "y_train_lasso = y_train\n",
        "\n",
        "X_val_lasso = valid_data[['elo_diff', 'odds_away', 'odds_home', 'eff_diff', 'eff_visitor',\n",
        "              'missing_players', 'top_players', 'FT_PCT_home_7g', 'diff_avg_reb_away',\n",
        "              'home_elo']]\n",
        "y_val_lasso = y_val"
      ]
    },
    {
      "cell_type": "code",
      "execution_count": 40,
      "metadata": {},
      "outputs": [],
      "source": [
        "svc = SVC()\n",
        "svc.fit(X_train_lasso, y_train_lasso)\n",
        "\n",
        "# defining parameter range\n",
        "param_grid = {'C': [0.1, 1, 10, 100, 1000],\n",
        "              'gamma': [1, 0.1, 0.01, 0.001, 0.0001],\n",
        "              'kernel': ['rbf']}\n",
        "\n",
        "grid = GridSearchCV(svc, param_grid, cv=5, scoring='accuracy', n_jobs=-1)"
      ]
    },
    {
      "cell_type": "code",
      "execution_count": 41,
      "metadata": {},
      "outputs": [
        {
          "name": "stdout",
          "output_type": "stream",
          "text": [
            "Συνολικός χρόνος fit και predict: 76.47707533836365 seconds\n",
            "              precision    recall  f1-score   support\n",
            "\n",
            "   home loss       0.52      0.37      0.43      1011\n",
            "    home win       0.62      0.75      0.68      1409\n",
            "\n",
            "    accuracy                           0.59      2420\n",
            "   macro avg       0.57      0.56      0.56      2420\n",
            "weighted avg       0.58      0.59      0.58      2420\n",
            "\n",
            "val score: 0.5913223140495868\n",
            "{'gamma': 0.001, 'C': 100}\n",
            "best score: 0.6065217391304348\n",
            "test score 0.5913223140495868\n"
          ]
        }
      ],
      "source": [
        "start_time = time.time()\n",
        "grid.fit(X_train_lasso, y_train_lasso)\n",
        "val_score = grid.score(X_val_lasso, y_val_lasso)\n",
        "\n",
        "preds = grid.predict(X_val_lasso)\n",
        "test_score = grid.score(X_val_lasso, y_val_lasso)\n",
        "\n",
        "target_names = ['home loss', 'home win']\n",
        "\n",
        "print(\"Συνολικός χρόνος fit και predict: %s seconds\" % (time.time() - start_time))\n",
        "print(classification_report(y_val_lasso, preds, target_names=target_names))\n",
        "print(\"val score:\", val_score)\n",
        "\n",
        "model = grid.best_estimator_\n",
        "y_fit = model.predict(X_val_lasso)\n",
        "\n",
        "print(grid.best_params_)\n",
        "print(\"best score:\", grid.best_score_)\n",
        "print(\"test score\", test_score)"
      ]
    },
    {
      "cell_type": "markdown",
      "metadata": {},
      "source": [
        "### SVM with Sequential Feature Selection"
      ]
    },
    {
      "cell_type": "markdown",
      "metadata": {},
      "source": [
        "#### Forward"
      ]
    },
    {
      "cell_type": "code",
      "execution_count": 42,
      "metadata": {},
      "outputs": [],
      "source": [
        "X_train_for_sfs = train_data[['num_possible_outcomes', 'odds_home', 'odds_away', 'HOME_RECORD_home',\n",
        "                    'W_PCT_away', 'W_PCT_prev_home', 'ROAD_RECORD_prev_home', 'W_PCT_prev_away',\n",
        "                    'HOME_RECORD_prev_away', 'ROAD_RECORD_prev_away', 'WIN_PRCT_home_3g',\n",
        "                    'FT_PCT_home_3g', 'FT_PCT_away_3g', 'FG3_PCT_away_3g', 'WIN_PRCT_home_7g',\n",
        "                    'FT_PCT_away_7g', 'REB_away_7g', 'diff_avg_ast_home', 'diff_avg_ast_away',\n",
        "                    'diff_avg_fg3_pct_home', 'diff_avg_fg_pct_away', 'diff_avg_reb_away',\n",
        "                    'top_players', 'eff', 'eff_visitor', 'G_7days', 'back2back',\n",
        "                    'HG_7days_VISITOR', 'AG_7days_VISITOR', 'G_7days_VISITOR',\n",
        "                    'back2back_visitor', 'missing_players', 'missing_players_visitor',\n",
        "                    'home_elo', 'elo_diff', 'missing_player_diff', 'eff_diff',\n",
        "                    'Home_Last_5_Avg_FG3_PCT_home', 'Home_Last_5_Avg_FG3_PCT_away',\n",
        "                    'Away_Last_5_Avg_FG3_PCT_home', 'Away_Last_5_Avg_FT_PCT_away',\n",
        "                    'diff_fg_pct_last_3_games', 'diff_fg3_pct_last_7_games',\n",
        "                    'diff_ft_pct_last_3_games', 'diff_ast_last_3_games',\n",
        "                    'diff_ast_last_7_games', 'diff_win_pct_prev_season',\n",
        "                    'diff_home_record_last_season', 'diff_road_record_last_season',\n",
        "                    'diff_curr_win_pct']]\n",
        "\n",
        "y_train_for_sfs = y_train\n",
        "\n",
        "X_val_for_sfs = valid_data[['num_possible_outcomes', 'odds_home', 'odds_away', 'HOME_RECORD_home',\n",
        "                    'W_PCT_away', 'W_PCT_prev_home', 'ROAD_RECORD_prev_home', 'W_PCT_prev_away',\n",
        "                    'HOME_RECORD_prev_away', 'ROAD_RECORD_prev_away', 'WIN_PRCT_home_3g',\n",
        "                    'FT_PCT_home_3g', 'FT_PCT_away_3g', 'FG3_PCT_away_3g', 'WIN_PRCT_home_7g',\n",
        "                    'FT_PCT_away_7g', 'REB_away_7g', 'diff_avg_ast_home', 'diff_avg_ast_away',\n",
        "                    'diff_avg_fg3_pct_home', 'diff_avg_fg_pct_away', 'diff_avg_reb_away',\n",
        "                    'top_players', 'eff', 'eff_visitor', 'G_7days', 'back2back',\n",
        "                    'HG_7days_VISITOR', 'AG_7days_VISITOR', 'G_7days_VISITOR',\n",
        "                    'back2back_visitor', 'missing_players', 'missing_players_visitor',\n",
        "                    'home_elo', 'elo_diff', 'missing_player_diff', 'eff_diff',\n",
        "                    'Home_Last_5_Avg_FG3_PCT_home', 'Home_Last_5_Avg_FG3_PCT_away',\n",
        "                    'Away_Last_5_Avg_FG3_PCT_home', 'Away_Last_5_Avg_FT_PCT_away',\n",
        "                    'diff_fg_pct_last_3_games', 'diff_fg3_pct_last_7_games',\n",
        "                    'diff_ft_pct_last_3_games', 'diff_ast_last_3_games',\n",
        "                    'diff_ast_last_7_games', 'diff_win_pct_prev_season',\n",
        "                    'diff_home_record_last_season', 'diff_road_record_last_season',\n",
        "                    'diff_curr_win_pct']]\n",
        "\n",
        "y_val_for_sfs = y_val\n"
      ]
    },
    {
      "cell_type": "code",
      "execution_count": 43,
      "metadata": {},
      "outputs": [],
      "source": [
        "svc = SVC()\n",
        "svc.fit(X_train_for_sfs, y_train_for_sfs)\n",
        "\n",
        "# defining parameter range\n",
        "param_grid = {'C': [0.1, 1, 10, 100, 1000],\n",
        "              'gamma': [1, 0.1, 0.01, 0.001, 0.0001],\n",
        "              'kernel': ['rbf']}\n",
        "\n",
        "grid = GridSearchCV(svc, param_grid, cv=5, scoring='accuracy', n_jobs=-1)"
      ]
    },
    {
      "cell_type": "code",
      "execution_count": 46,
      "metadata": {},
      "outputs": [
        {
          "name": "stdout",
          "output_type": "stream",
          "text": [
            "Συνολικός χρόνος fit και predict: 290.5786244869232 seconds\n",
            "              precision    recall  f1-score   support\n",
            "\n",
            "   home loss       0.65      0.46      0.54      1011\n",
            "    home win       0.68      0.82      0.74      1409\n",
            "\n",
            "    accuracy                           0.67      2420\n",
            "   macro avg       0.66      0.64      0.64      2420\n",
            "weighted avg       0.67      0.67      0.66      2420\n",
            "\n",
            "val score: 0.6702479338842975\n",
            "{'C': 1, 'gamma': 0.0001, 'kernel': 'rbf'}\n",
            "best score: 0.6676811594202898\n",
            "test score 0.6702479338842975\n"
          ]
        }
      ],
      "source": [
        "start_time = time.time()\n",
        "grid.fit(X_train_for_sfs, y_train_for_sfs)\n",
        "val_score = grid.score(X_val_for_sfs, y_val_for_sfs)\n",
        "\n",
        "preds = grid.predict(X_val_for_sfs)\n",
        "test_score = grid.score(X_val_for_sfs, y_val_for_sfs)\n",
        "\n",
        "target_names = ['home loss', 'home win']\n",
        "\n",
        "print(\"Συνολικός χρόνος fit και predict: %s seconds\" % (time.time() - start_time))\n",
        "print(classification_report(y_val_for_sfs, preds, target_names=target_names))\n",
        "print(\"val score:\", val_score)\n",
        "\n",
        "model = grid.best_estimator_\n",
        "y_fit = model.predict(X_val_for_sfs)\n",
        "\n",
        "print(grid.best_params_)\n",
        "print(\"best score:\", grid.best_score_)\n",
        "print(\"test score\", test_score)"
      ]
    },
    {
      "cell_type": "markdown",
      "metadata": {},
      "source": [
        "#### Backwards"
      ]
    },
    {
      "cell_type": "code",
      "execution_count": 47,
      "metadata": {},
      "outputs": [],
      "source": [
        "X_train_back_sfs = train_data[['num_possible_outcomes', 'odds_home', 'odds_away', 'HOME_RECORD_home',\n",
        "                     'W_PCT_away', 'W_PCT_prev_away', 'HOME_RECORD_prev_away',\n",
        "                     'ROAD_RECORD_prev_away', 'FT_PCT_home_3g', 'FG3_PCT_home_3g', 'PTS_away_3g',\n",
        "                     'FG_PCT_away_3g', 'FT_PCT_away_3g', 'FG3_PCT_away_3g', 'PTS_home_7g',\n",
        "                     'FG_PCT_home_7g', 'AST_home_7g', 'AST_away_7g', 'REB_away_7g',\n",
        "                     'diff_avg_pts_away', 'diff_avg_ast_home', 'diff_avg_ast_away',\n",
        "                     'diff_avg_fg3_pct_home', 'top_players', 'top_players_visitor', 'eff_visitor',\n",
        "                     'G_7days', 'back2back', 'HG_7days_VISITOR', 'AG_7days_VISITOR',\n",
        "                     'G_7days_VISITOR', 'back2back_visitor', 'home_elo', 'elo_diff',\n",
        "                     'missing_player_diff', 'eff_diff', 'Home_Last_5_Avg_AST_home',\n",
        "                     'Home_Last_5_Avg_REB_home', 'Home_Last_5_Avg_REB_away',\n",
        "                     'Home_Last_5_Avg_FG3_PCT_away', 'Away_Last_5_Avg_PTS_home',\n",
        "                     'Away_Last_5_Avg_FG3_PCT_home', 'Away_Last_5_Avg_AST_home',\n",
        "                     'Away_Last_5_Avg_FT_PCT_away', 'diff_fg3_pct_last_3_games',\n",
        "                     'diff_fg3_pct_last_7_games', 'diff_ft_pct_last_3_games',\n",
        "                     'diff_ast_last_7_games', 'diff_reb_last_3_games',\n",
        "                     'diff_win_pct_3_last_games']]\n",
        "\n",
        "y_train_back_sfs = y_train\n",
        "\n",
        "X_val_back_sfs = valid_data[['num_possible_outcomes', 'odds_home', 'odds_away', 'HOME_RECORD_home',\n",
        "                     'W_PCT_away', 'W_PCT_prev_away', 'HOME_RECORD_prev_away',\n",
        "                     'ROAD_RECORD_prev_away', 'FT_PCT_home_3g', 'FG3_PCT_home_3g', 'PTS_away_3g',\n",
        "                     'FG_PCT_away_3g', 'FT_PCT_away_3g', 'FG3_PCT_away_3g', 'PTS_home_7g',\n",
        "                     'FG_PCT_home_7g', 'AST_home_7g', 'AST_away_7g', 'REB_away_7g',\n",
        "                     'diff_avg_pts_away', 'diff_avg_ast_home', 'diff_avg_ast_away',\n",
        "                     'diff_avg_fg3_pct_home', 'top_players', 'top_players_visitor', 'eff_visitor',\n",
        "                     'G_7days', 'back2back', 'HG_7days_VISITOR', 'AG_7days_VISITOR',\n",
        "                     'G_7days_VISITOR', 'back2back_visitor', 'home_elo', 'elo_diff',\n",
        "                     'missing_player_diff', 'eff_diff', 'Home_Last_5_Avg_AST_home',\n",
        "                     'Home_Last_5_Avg_REB_home', 'Home_Last_5_Avg_REB_away',\n",
        "                     'Home_Last_5_Avg_FG3_PCT_away', 'Away_Last_5_Avg_PTS_home',\n",
        "                     'Away_Last_5_Avg_FG3_PCT_home', 'Away_Last_5_Avg_AST_home',\n",
        "                     'Away_Last_5_Avg_FT_PCT_away', 'diff_fg3_pct_last_3_games',\n",
        "                     'diff_fg3_pct_last_7_games', 'diff_ft_pct_last_3_games',\n",
        "                     'diff_ast_last_7_games', 'diff_reb_last_3_games',\n",
        "                     'diff_win_pct_3_last_games']]\n",
        "\n",
        "y_val_back_sfs = y_val"
      ]
    },
    {
      "cell_type": "code",
      "execution_count": 48,
      "metadata": {},
      "outputs": [],
      "source": [
        "svc = SVC()\n",
        "svc.fit(X_train_back_sfs, y_train_back_sfs)\n",
        "\n",
        "# defining parameter range\n",
        "param_grid = {'C': [0.1, 1, 10, 100, 1000],\n",
        "              'gamma': [1, 0.1, 0.01, 0.001, 0.0001],\n",
        "              'kernel': ['rbf']}\n",
        "\n",
        "grid = GridSearchCV(svc, param_grid, cv=5, scoring='accuracy', n_jobs=-1)"
      ]
    },
    {
      "cell_type": "code",
      "execution_count": 49,
      "metadata": {},
      "outputs": [
        {
          "name": "stdout",
          "output_type": "stream",
          "text": [
            "Συνολικός χρόνος fit και predict: 364.98614287376404 seconds\n",
            "              precision    recall  f1-score   support\n",
            "\n",
            "   home loss       0.66      0.51      0.57      1011\n",
            "    home win       0.70      0.81      0.75      1409\n",
            "\n",
            "    accuracy                           0.69      2420\n",
            "   macro avg       0.68      0.66      0.66      2420\n",
            "weighted avg       0.68      0.69      0.68      2420\n",
            "\n",
            "val score: 0.6859504132231405\n",
            "{'C': 1, 'gamma': 0.0001, 'kernel': 'rbf'}\n",
            "best score: 0.6681159420289855\n",
            "test score 0.6859504132231405\n"
          ]
        }
      ],
      "source": [
        "start_time = time.time()\n",
        "grid.fit(X_train_back_sfs, y_train_back_sfs)\n",
        "val_score = grid.score(X_val_back_sfs, y_val_back_sfs)\n",
        "\n",
        "preds = grid.predict(X_val_back_sfs)\n",
        "test_score = grid.score(X_val_back_sfs, y_val_back_sfs)\n",
        "\n",
        "target_names = ['home loss', 'home win']\n",
        "\n",
        "print(\"Συνολικός χρόνος fit και predict: %s seconds\" % (time.time() - start_time))\n",
        "print(classification_report(y_val_back_sfs, preds, target_names=target_names))\n",
        "print(\"val score:\", val_score)\n",
        "\n",
        "model = grid.best_estimator_\n",
        "y_fit = model.predict(X_val_back_sfs)\n",
        "\n",
        "print(grid.best_params_)\n",
        "print(\"best score:\", grid.best_score_)\n",
        "print(\"test score\", test_score)"
      ]
    }
  ],
  "metadata": {
    "colab": {
      "collapsed_sections": [],
      "name": "svm.ipynb",
      "provenance": []
    },
    "kernelspec": {
      "display_name": "Python 3",
      "name": "python3"
    },
    "language_info": {
      "codemirror_mode": {
        "name": "ipython",
        "version": 3
      },
      "file_extension": ".py",
      "mimetype": "text/x-python",
      "name": "python",
      "nbconvert_exporter": "python",
      "pygments_lexer": "ipython3",
      "version": "3.9.4"
    }
  },
  "nbformat": 4,
  "nbformat_minor": 0
}
