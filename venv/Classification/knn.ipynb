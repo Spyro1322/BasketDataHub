{
 "cells": [
  {
   "cell_type": "markdown",
   "metadata": {},
   "source": [
    "# K Nearest Neighbors Classifier"
   ]
  },
  {
   "cell_type": "code",
   "execution_count": 1,
   "metadata": {
    "id": "vgaJyOCo575F"
   },
   "outputs": [],
   "source": [
    "import pandas as pd\n",
    "import numpy as np\n",
    "\n",
    "df = pd.read_csv('../FeatureEngineering/MetaData/data6_&_odds.csv')\n",
    "df.dropna(inplace=True)"
   ]
  },
  {
   "cell_type": "code",
   "execution_count": 2,
   "metadata": {
    "id": "UkuUIGms6UHt"
   },
   "outputs": [],
   "source": [
    "from sklearn.model_selection import train_test_split, cross_val_score, GridSearchCV\n",
    "from sklearn.metrics import accuracy_score\n",
    "from sklearn.neighbors import KNeighborsClassifier\n",
    "from sklearn.decomposition import PCA\n",
    "from sklearn.metrics import classification_report\n",
    "\n",
    "\n",
    "import warnings\n",
    "warnings.filterwarnings('ignore')"
   ]
  },
  {
   "cell_type": "code",
   "execution_count": 3,
   "metadata": {
    "id": "kJfMOqB69XJG"
   },
   "outputs": [],
   "source": [
    "train_data = df.loc[(df.season <= 2013) & (df.season >= 2007)]\n",
    "valid_data = df.loc[(df.season > 2013) & (df.season < 2016)]\n",
    "test_data = df.loc[df.season >= 2016]\n",
    "full_train_data = pd.concat([train_data, valid_data], axis=0)\n",
    "\n",
    "X_train, y_train = train_data.drop(columns=[\"game_date_est\",\"season\",\"game_id\",\"home_team\",\"visitor_team\",\"home_team_id\",\"visitor_team_id\",\"home_team_wins\",\"conference\",\"conference_visitor\"]), train_data.home_team_wins\n",
    "X_val, y_val = valid_data.drop(columns=[\"game_date_est\",\"season\",\"game_id\",\"home_team\",\"visitor_team\",\"home_team_id\",\"visitor_team_id\",\"home_team_wins\",\"conference\",\"conference_visitor\"]), valid_data.home_team_wins\n",
    "X_test, y_test = test_data.drop(columns=[\"game_date_est\",\"season\",\"game_id\",\"home_team\",\"visitor_team\",\"home_team_id\",\"visitor_team_id\",\"home_team_wins\",\"conference\",\"conference_visitor\"]), test_data.home_team_wins\n"
   ]
  },
  {
   "cell_type": "markdown",
   "metadata": {
    "id": "S5X9rH1XEK2_"
   },
   "source": [
    "## KNN with GridSearchCV and PCA"
   ]
  },
  {
   "cell_type": "code",
   "execution_count": 4,
   "metadata": {},
   "outputs": [],
   "source": [
    "# Define a pipeline to search for the best combination of PCA truncation\n",
    "# and classifier regularization.\n",
    "pca = PCA()\n",
    "trainPCA = pca.fit_transform(X_train)\n",
    "valPCA = pca.transform(X_val)"
   ]
  },
  {
   "cell_type": "code",
   "execution_count": 5,
   "metadata": {
    "colab": {
     "base_uri": "https://localhost:8080/"
    },
    "executionInfo": {
     "elapsed": 6728,
     "status": "ok",
     "timestamp": 1642158604868,
     "user": {
      "displayName": "Spiros armeniakos",
      "photoUrl": "https://lh3.googleusercontent.com/a/default-user=s64",
      "userId": "15384621728629897673"
     },
     "user_tz": -120
    },
    "id": "ikZStTJI-Bze",
    "outputId": "81ac148d-4854-41cc-998c-8f531b20d7ae"
   },
   "outputs": [
    {
     "name": "stdout",
     "output_type": "stream",
     "text": [
      "Συνολικός χρόνος fit και predict: 41.9981951713562 seconds\n",
      "              precision    recall  f1-score   support\n",
      "\n",
      "   home_loss       0.62      0.52      0.57      1011\n",
      "    home_win       0.69      0.77      0.73      1409\n",
      "\n",
      "    accuracy                           0.67      2420\n",
      "   macro avg       0.66      0.65      0.65      2420\n",
      "weighted avg       0.66      0.67      0.66      2420\n",
      "\n",
      "val score: 0.4177685950413223\n",
      "KNeighborsClassifier(leaf_size=1, n_neighbors=13)\n",
      "{'leaf_size': 1, 'n_neighbors': 13}\n",
      "best score: 0.6585507246376812\n",
      "test score 0.6677685950413224\n"
     ]
    }
   ],
   "source": [
    "import time\n",
    "\n",
    "# Split Data to Train and Validation\n",
    "\n",
    "clf = KNeighborsClassifier()\n",
    "# η παράμετρος n_jobs = 1 χρησιμοποιεί όλους τους πυρήνες του υπολογιστή\n",
    "params = {'n_neighbors': np.arange(1, 15),\n",
    "          'leaf_size': list(range(1, 5, 1))}\n",
    "\n",
    "estimator = GridSearchCV(clf, param_grid=params, cv=5, scoring='accuracy', n_jobs=-1)\n",
    "start_time = time.time()\n",
    "estimator.fit(trainPCA, y_train)\n",
    "val_score = estimator.score(X_val, y_val)\n",
    "\n",
    "preds = estimator.predict(valPCA)\n",
    "test_score = estimator.score(valPCA, y_val)\n",
    "\n",
    "target_names = ['home_loss', 'home_win']\n",
    "\n",
    "print(\"Συνολικός χρόνος fit και predict: %s seconds\" % (time.time() - start_time))\n",
    "print(classification_report(y_val, preds, target_names=target_names))\n",
    "print(\"val score:\", val_score)\n",
    "print(estimator.best_estimator_)\n",
    "print(estimator.best_params_)\n",
    "print(\"best score:\", estimator.best_score_)\n",
    "print(\"test score\", test_score)\n",
    "\n"
   ]
  },
  {
   "cell_type": "code",
   "execution_count": 6,
   "metadata": {
    "colab": {
     "base_uri": "https://localhost:8080/",
     "height": 279
    },
    "executionInfo": {
     "elapsed": 1791,
     "status": "ok",
     "timestamp": 1642158747550,
     "user": {
      "displayName": "Spiros armeniakos",
      "photoUrl": "https://lh3.googleusercontent.com/a/default-user=s64",
      "userId": "15384621728629897673"
     },
     "user_tz": -120
    },
    "id": "_8z-TeJj_J2V",
    "outputId": "858f0cc1-cd59-46b4-a107-390b213e8f42"
   },
   "outputs": [
    {
     "data": {
      "image/png": "[encoded data removed]",
      "text/plain": [
       "<Figure size 432x288 with 1 Axes>"
      ]
     },
     "metadata": {
      "needs_background": "light"
     },
     "output_type": "display_data"
    }
   ],
   "source": [
    "import matplotlib.pyplot as plt\n",
    "\n",
    "\n",
    "# φτιάχνουμε μια λίστα από το 1 έως το 50\n",
    "myList = list(range(1, 50))\n",
    "# Κρατάμε μόνο τα περιττά k\n",
    "neighbors = list(filter(lambda x: x % 2 != 0, myList))\n",
    "# empty list that will hold cv scores\n",
    "cv_scores = []\n",
    "# perform 5-fold cross validation\n",
    "for k in neighbors:\n",
    "    knn = KNeighborsClassifier(n_neighbors=k)\n",
    "    scores = cross_val_score(knn, trainPCA, y_train, cv=5, scoring='accuracy')\n",
    "    cv_scores.append(scores.mean())\n",
    "\n",
    "# το σφάλμα είναι το αντίστροφο της πιστότητας\n",
    "mean_error = [1 - x for x in cv_scores]\n",
    "\n",
    "# plot misclassification error vs k\n",
    "plt.plot(neighbors, mean_error)\n",
    "plt.xlabel('Number of Neighbors K')\n",
    "plt.ylabel('Misclassification Error')\n",
    "plt.show()\n"
   ]
  },
  {
   "cell_type": "code",
   "execution_count": 22,
   "metadata": {
    "colab": {
     "base_uri": "https://localhost:8080/"
    },
    "executionInfo": {
     "elapsed": 1060,
     "status": "ok",
     "timestamp": 1642158753039,
     "user": {
      "displayName": "Spiros armeniakos",
      "photoUrl": "https://lh3.googleusercontent.com/a/default-user=s64",
      "userId": "15384621728629897673"
     },
     "user_tz": -120
    },
    "id": "B3YOsZkfAJxc",
    "outputId": "204e131d-5d53-406d-cd0b-15257fb21a24"
   },
   "outputs": [
    {
     "name": "stdout",
     "output_type": "stream",
     "text": [
      "The optimal number of neighbors (calculated in the training set) is 49\n",
      "\n",
      "Optimal accuracy on the test set is 0.7020661157024793 with k= 49\n"
     ]
    }
   ],
   "source": [
    "# determining best k\n",
    "optimal_k = neighbors[mean_error.index(min(mean_error))]\n",
    "print(\"The optimal number of neighbors (calculated in the training set) is %d\" % optimal_k)\n",
    "\n",
    "# για το optimal k παίρνουμε και τα αποτέλεσματα στο test set\n",
    "knn = KNeighborsClassifier(n_neighbors = optimal_k)\n",
    "knn.fit(trainPCA, y_train)\n",
    "pred = knn.predict(valPCA)\n",
    "print(\"\\nOptimal accuracy on the test set is\", accuracy_score(y_val, pred), \"with k=\", optimal_k)"
   ]
  },
  {
   "cell_type": "markdown",
   "metadata": {
    "id": "HekQfUDnD978"
   },
   "source": [
    "## Use of StandardScaler"
   ]
  },
  {
   "cell_type": "code",
   "execution_count": 7,
   "metadata": {
    "executionInfo": {
     "elapsed": 273,
     "status": "ok",
     "timestamp": 1642158757119,
     "user": {
      "displayName": "Spiros armeniakos",
      "photoUrl": "https://lh3.googleusercontent.com/a/default-user=s64",
      "userId": "15384621728629897673"
     },
     "user_tz": -120
    },
    "id": "eJJR1iWGDOHW"
   },
   "outputs": [],
   "source": [
    "from sklearn.preprocessing import StandardScaler\n",
    "\n",
    "# Scaling features\n",
    "scaler = StandardScaler()\n",
    "X_train_standard = scaler.fit_transform(X_train)\n",
    "X_val_standard = scaler.transform(X_val)\n",
    "X_test_standard = scaler.transform(X_test)"
   ]
  },
  {
   "cell_type": "code",
   "execution_count": 9,
   "metadata": {
    "colab": {
     "base_uri": "https://localhost:8080/"
    },
    "executionInfo": {
     "elapsed": 2171,
     "status": "ok",
     "timestamp": 1642158761810,
     "user": {
      "displayName": "Spiros armeniakos",
      "photoUrl": "https://lh3.googleusercontent.com/a/default-user=s64",
      "userId": "15384621728629897673"
     },
     "user_tz": -120
    },
    "id": "NgcvgJg5EaY_",
    "outputId": "f97559d2-1103-4909-ce91-c55361db16dd"
   },
   "outputs": [
    {
     "name": "stdout",
     "output_type": "stream",
     "text": [
      "Συνολικός χρόνος fit και predict: 41.832741022109985 seconds\n",
      "              precision    recall  f1-score   support\n",
      "\n",
      "   home_loss       0.58      0.60      0.59      1011\n",
      "    home_win       0.71      0.69      0.70      1409\n",
      "\n",
      "    accuracy                           0.65      2420\n",
      "   macro avg       0.65      0.65      0.65      2420\n",
      "weighted avg       0.66      0.65      0.65      2420\n",
      "\n",
      "val score: 0.6541322314049587\n",
      "KNeighborsClassifier(leaf_size=1, n_neighbors=14)\n",
      "{'leaf_size': 1, 'n_neighbors': 14}\n",
      "best score: 0.6553623188405797\n",
      "test score 0.6541322314049587\n"
     ]
    }
   ],
   "source": [
    "import time\n",
    "\n",
    "# Split Data to Train and Validation\n",
    "# X_train, X_val, y_train, y_val = train_test_split(X_train_standard, y_train, test_size=0.4)\n",
    "clf = KNeighborsClassifier()\n",
    "# η παράμετρος n_jobs = 1 χρησιμοποιεί όλους τους πυρήνες του υπολογιστή\n",
    "params = {'n_neighbors': np.arange(1, 15),\n",
    "          'leaf_size': list(range(1, 5, 1))}\n",
    "\n",
    "estimator = GridSearchCV(clf, param_grid=params, cv=5, scoring='accuracy', n_jobs=-1)\n",
    "start_time = time.time()\n",
    "estimator.fit(X_train_standard, y_train)\n",
    "val_score = estimator.score(X_val_standard, y_val)\n",
    "\n",
    "preds = estimator.predict(X_val_standard)\n",
    "test_score = estimator.score(X_val_standard, y_val)\n",
    "\n",
    "target_names = ['home_loss', 'home_win']\n",
    "\n",
    "print(\"Συνολικός χρόνος fit και predict: %s seconds\" % (time.time() - start_time))\n",
    "print(classification_report(y_val, preds, target_names=target_names))\n",
    "print(\"val score:\", val_score)\n",
    "print(estimator.best_estimator_)\n",
    "print(estimator.best_params_)\n",
    "print(\"best score:\", estimator.best_score_)\n",
    "print(\"test score\", test_score)\n",
    "\n"
   ]
  },
  {
   "cell_type": "code",
   "execution_count": 10,
   "metadata": {
    "colab": {
     "base_uri": "https://localhost:8080/",
     "height": 279
    },
    "executionInfo": {
     "elapsed": 1429,
     "status": "ok",
     "timestamp": 1642158767957,
     "user": {
      "displayName": "Spiros armeniakos",
      "photoUrl": "https://lh3.googleusercontent.com/a/default-user=s64",
      "userId": "15384621728629897673"
     },
     "user_tz": -120
    },
    "id": "nE7J8LSaNZTT",
    "outputId": "4daf84a0-f9b4-4495-a35b-f985a93aedd8"
   },
   "outputs": [
    {
     "data": {
      "image/png": "[encoded data removed]",
      "text/plain": [
       "<Figure size 432x288 with 1 Axes>"
      ]
     },
     "metadata": {
      "needs_background": "light"
     },
     "output_type": "display_data"
    }
   ],
   "source": [
    "import matplotlib.pyplot as plt\n",
    "\n",
    "\n",
    "# φτιάχνουμε μια λίστα από το 1 έως το 50\n",
    "myList = list(range(1, 50))\n",
    "# Κρατάμε μόνο τα περιττά k\n",
    "neighbors = list(filter(lambda x: x % 2 != 0, myList))\n",
    "# empty list that will hold cv scores\n",
    "cv_scores = []\n",
    "# perform 5-fold cross validation\n",
    "for k in neighbors:\n",
    "    knn = KNeighborsClassifier(n_neighbors=k)\n",
    "    scores = cross_val_score(knn, X_train_standard, y_train, cv=5, scoring='accuracy')\n",
    "    cv_scores.append(scores.mean())\n",
    "\n",
    "# το σφάλμα είναι το αντίστροφο της πιστότητας\n",
    "mean_error = [1 - x for x in cv_scores]\n",
    "\n",
    "# plot misclassification error vs k\n",
    "plt.plot(neighbors, mean_error)\n",
    "plt.xlabel('Number of Neighbors K')\n",
    "plt.ylabel('Misclassification Error')\n",
    "plt.show()\n"
   ]
  },
  {
   "cell_type": "code",
   "execution_count": 11,
   "metadata": {
    "colab": {
     "base_uri": "https://localhost:8080/"
    },
    "executionInfo": {
     "elapsed": 622,
     "status": "ok",
     "timestamp": 1642158773056,
     "user": {
      "displayName": "Spiros armeniakos",
      "photoUrl": "https://lh3.googleusercontent.com/a/default-user=s64",
      "userId": "15384621728629897673"
     },
     "user_tz": -120
    },
    "id": "SxybmqeuEl-D",
    "outputId": "79c2e110-7661-4d77-a6c9-2fc1b98b5494"
   },
   "outputs": [
    {
     "name": "stdout",
     "output_type": "stream",
     "text": [
      "The optimal number of neighbors (calculated in the training set) is 47\n",
      "\n",
      "Optimal accuracy on the test set is 0.6925619834710743 with k= 47\n"
     ]
    }
   ],
   "source": [
    "# determining best k\n",
    "optimal_k = neighbors[mean_error.index(min(mean_error))]\n",
    "print(\"The optimal number of neighbors (calculated in the training set) is %d\" % optimal_k)\n",
    "\n",
    "# για το optimal k παίρνουμε και τα αποτέλεσματα στο test set\n",
    "knn = KNeighborsClassifier(n_neighbors = optimal_k)\n",
    "knn.fit(X_train_standard, y_train)\n",
    "pred = knn.predict(X_val_standard)\n",
    "print(\"\\nOptimal accuracy on the test set is\", accuracy_score(y_val, pred), \"with k=\", optimal_k)"
   ]
  },
  {
   "cell_type": "markdown",
   "metadata": {
    "id": "-bP2wsGnNk7-"
   },
   "source": [
    "## Use of MinMax Scaler"
   ]
  },
  {
   "cell_type": "code",
   "execution_count": 13,
   "metadata": {
    "executionInfo": {
     "elapsed": 268,
     "status": "ok",
     "timestamp": 1642158776214,
     "user": {
      "displayName": "Spiros armeniakos",
      "photoUrl": "https://lh3.googleusercontent.com/a/default-user=s64",
      "userId": "15384621728629897673"
     },
     "user_tz": -120
    },
    "id": "8tfkIJv8Nn_D"
   },
   "outputs": [],
   "source": [
    "from sklearn.preprocessing import MinMaxScaler\n",
    "\n",
    "# Scaling features\n",
    "scaler = MinMaxScaler()\n",
    "X_train_minmax = scaler.fit_transform(X_train)\n",
    "X_val_minmax = scaler.transform(X_val)\n",
    "X_test_minmax = scaler.transform(X_test)\n"
   ]
  },
  {
   "cell_type": "code",
   "execution_count": 15,
   "metadata": {
    "colab": {
     "base_uri": "https://localhost:8080/"
    },
    "executionInfo": {
     "elapsed": 1831,
     "status": "ok",
     "timestamp": 1642158780944,
     "user": {
      "displayName": "Spiros armeniakos",
      "photoUrl": "https://lh3.googleusercontent.com/a/default-user=s64",
      "userId": "15384621728629897673"
     },
     "user_tz": -120
    },
    "id": "h63j5VleOAMF",
    "outputId": "e2c48316-bf41-4563-cd66-0a3e58e8d87b"
   },
   "outputs": [
    {
     "name": "stdout",
     "output_type": "stream",
     "text": [
      "Συνολικός χρόνος fit και predict: 38.5172975063324 seconds\n",
      "              precision    recall  f1-score   support\n",
      "\n",
      "   home_loss       0.59      0.50      0.54      1011\n",
      "    home_win       0.68      0.75      0.71      1409\n",
      "\n",
      "    accuracy                           0.65      2420\n",
      "   macro avg       0.64      0.63      0.63      2420\n",
      "weighted avg       0.64      0.65      0.64      2420\n",
      "\n",
      "val score: 0.6475206611570248\n",
      "KNeighborsClassifier(leaf_size=1, n_neighbors=11)\n",
      "{'leaf_size': 1, 'n_neighbors': 11}\n",
      "best score: 0.6571014492753623\n"
     ]
    }
   ],
   "source": [
    "import time\n",
    "\n",
    "# Split Data to Train and Validation\n",
    "# X_train, X_val, y_train, y_val = train_test_split(X_train_minmax, y_train, test_size=0.4)\n",
    "clf = KNeighborsClassifier()\n",
    "# η παράμετρος n_jobs = 1 χρησιμοποιεί όλους τους πυρήνες του υπολογιστή\n",
    "params = {'n_neighbors': np.arange(1, 15),\n",
    "          'leaf_size': list(range(1, 5, 1))}\n",
    "\n",
    "estimator = GridSearchCV(clf, param_grid=params, cv=5, scoring='accuracy', n_jobs=-1)\n",
    "start_time = time.time()\n",
    "estimator.fit(X_train_minmax, y_train)\n",
    "val_score = estimator.score(X_val_minmax, y_val)\n",
    "\n",
    "preds = estimator.predict(X_val_minmax)\n",
    "# test_score = estimator.score(X_test_minmax, y_test)\n",
    "\n",
    "target_names = ['home_loss', 'home_win']\n",
    "\n",
    "print(\"Συνολικός χρόνος fit και predict: %s seconds\" % (time.time() - start_time))\n",
    "print(classification_report(y_val, preds, target_names=target_names))\n",
    "print(\"val score:\", val_score)\n",
    "print(estimator.best_estimator_)\n",
    "print(estimator.best_params_)\n",
    "print(\"best score:\", estimator.best_score_)\n",
    "# print(\"test score\", test_score)\n",
    "\n"
   ]
  },
  {
   "cell_type": "code",
   "execution_count": 16,
   "metadata": {
    "colab": {
     "base_uri": "https://localhost:8080/",
     "height": 279
    },
    "executionInfo": {
     "elapsed": 1219,
     "status": "ok",
     "timestamp": 1642158786401,
     "user": {
      "displayName": "Spiros armeniakos",
      "photoUrl": "https://lh3.googleusercontent.com/a/default-user=s64",
      "userId": "15384621728629897673"
     },
     "user_tz": -120
    },
    "id": "Mxeo6Kh1OQXO",
    "outputId": "0deb1746-dc10-44df-8643-a50639d7a685"
   },
   "outputs": [
    {
     "data": {
      "image/png": "[encoded data removed]",
      "text/plain": [
       "<Figure size 432x288 with 1 Axes>"
      ]
     },
     "metadata": {
      "needs_background": "light"
     },
     "output_type": "display_data"
    }
   ],
   "source": [
    "import matplotlib.pyplot as plt\n",
    "\n",
    "\n",
    "# φτιάχνουμε μια λίστα από το 1 έως το 50\n",
    "myList = list(range(1, 50))\n",
    "# Κρατάμε μόνο τα περιττά k\n",
    "neighbors = list(filter(lambda x: x % 2 != 0, myList))\n",
    "# empty list that will hold cv scores\n",
    "cv_scores = []\n",
    "# perform 5-fold cross validation\n",
    "for k in neighbors:\n",
    "    knn = KNeighborsClassifier(n_neighbors=k)\n",
    "    scores = cross_val_score(knn, X_train_minmax, y_train, cv=5, scoring='accuracy')\n",
    "    cv_scores.append(scores.mean())\n",
    "\n",
    "# το σφάλμα είναι το αντίστροφο της πιστότητας\n",
    "mean_error = [1 - x for x in cv_scores]\n",
    "\n",
    "# plot misclassification error vs k\n",
    "plt.plot(neighbors, mean_error)\n",
    "plt.xlabel('Number of Neighbors K')\n",
    "plt.ylabel('Misclassification Error')\n",
    "plt.show()\n"
   ]
  },
  {
   "cell_type": "code",
   "execution_count": 18,
   "metadata": {
    "colab": {
     "base_uri": "https://localhost:8080/"
    },
    "executionInfo": {
     "elapsed": 634,
     "status": "ok",
     "timestamp": 1642158790810,
     "user": {
      "displayName": "Spiros armeniakos",
      "photoUrl": "https://lh3.googleusercontent.com/a/default-user=s64",
      "userId": "15384621728629897673"
     },
     "user_tz": -120
    },
    "id": "MArUHgRlOpsO",
    "outputId": "c3e4c0d0-f10e-4e7f-bb7b-f355a097fc98"
   },
   "outputs": [
    {
     "name": "stdout",
     "output_type": "stream",
     "text": [
      "The optimal number of neighbors (calculated in the training set) is 37\n",
      "\n",
      "Optimal accuracy on the test set is 0.6723140495867769 with k= 37\n"
     ]
    }
   ],
   "source": [
    "# determining best k\n",
    "optimal_k = neighbors[mean_error.index(min(mean_error))]\n",
    "print(\"The optimal number of neighbors (calculated in the training set) is %d\" % optimal_k)\n",
    "\n",
    "# για το optimal k παίρνουμε και τα αποτέλεσματα στο test set\n",
    "knn = KNeighborsClassifier(n_neighbors = optimal_k)\n",
    "knn.fit(X_train_minmax, y_train)\n",
    "pred = knn.predict(X_val_minmax)\n",
    "print(\"\\nOptimal accuracy on the test set is\", accuracy_score(y_val, pred), \"with k=\", optimal_k)"
   ]
  },
  {
   "cell_type": "markdown",
   "metadata": {},
   "source": [
    "## Univariate Feature Selection"
   ]
  },
  {
   "cell_type": "code",
   "execution_count": 19,
   "metadata": {},
   "outputs": [],
   "source": [
    "X_train_uni = train_data[['diff_curr_win_pct','diff_curr_away_record','odds_home','odds_away','elo_diff']]\n",
    "y_train_uni = y_train\n",
    "\n",
    "X_val_uni = valid_data[['diff_curr_win_pct','diff_curr_away_record','odds_home','odds_away','elo_diff']]\n",
    "y_val_uni = y_val"
   ]
  },
  {
   "cell_type": "code",
   "execution_count": 20,
   "metadata": {},
   "outputs": [
    {
     "name": "stdout",
     "output_type": "stream",
     "text": [
      "Συνολικός χρόνος fit και predict: 9.531769514083862 seconds\n",
      "              precision    recall  f1-score   support\n",
      "\n",
      "   home_loss       0.61      0.54      0.57      1011\n",
      "    home_win       0.70      0.76      0.72      1409\n",
      "\n",
      "    accuracy                           0.67      2420\n",
      "   macro avg       0.65      0.65      0.65      2420\n",
      "weighted avg       0.66      0.67      0.66      2420\n",
      "\n",
      "val score: 0.665702479338843\n",
      "KNeighborsClassifier(leaf_size=1, n_neighbors=13)\n",
      "{'leaf_size': 1, 'n_neighbors': 13}\n",
      "best score: 0.6685507246376811\n",
      "test score 0.665702479338843\n"
     ]
    }
   ],
   "source": [
    "import time\n",
    "\n",
    "# Split Data to Train and Validation\n",
    "\n",
    "clf = KNeighborsClassifier()\n",
    "# η παράμετρος n_jobs = 1 χρησιμοποιεί όλους τους πυρήνες του υπολογιστή\n",
    "params = {'n_neighbors': np.arange(1, 15),\n",
    "          'leaf_size': list(range(1, 5, 1))}\n",
    "\n",
    "estimator = GridSearchCV(clf, param_grid=params, cv=5, scoring='accuracy', n_jobs=-1)\n",
    "start_time = time.time()\n",
    "estimator.fit(X_train_uni, y_train_uni)\n",
    "val_score = estimator.score(X_val_uni, y_val_uni)\n",
    "\n",
    "preds = estimator.predict(X_val_uni)\n",
    "test_score = estimator.score(X_val_uni, y_val_uni)\n",
    "\n",
    "target_names = ['home_loss', 'home_win']\n",
    "\n",
    "print(\"Συνολικός χρόνος fit και predict: %s seconds\" % (time.time() - start_time))\n",
    "print(classification_report(y_val_uni, preds, target_names=target_names))\n",
    "print(\"val score:\", val_score)\n",
    "print(estimator.best_estimator_)\n",
    "print(estimator.best_params_)\n",
    "print(\"best score:\", estimator.best_score_)\n",
    "print(\"test score\", test_score)"
   ]
  },
  {
   "cell_type": "code",
   "execution_count": 21,
   "metadata": {},
   "outputs": [
    {
     "data": {
      "image/png": "[encoded data removed]",
      "text/plain": [
       "<Figure size 432x288 with 1 Axes>"
      ]
     },
     "metadata": {
      "needs_background": "light"
     },
     "output_type": "display_data"
    }
   ],
   "source": [
    "import matplotlib.pyplot as plt\n",
    "\n",
    "\n",
    "# φτιάχνουμε μια λίστα από το 1 έως το 50\n",
    "myList = list(range(1, 50))\n",
    "# Κρατάμε μόνο τα περιττά k\n",
    "neighbors = list(filter(lambda x: x % 2 != 0, myList))\n",
    "# empty list that will hold cv scores\n",
    "cv_scores = []\n",
    "# perform 5-fold cross validation\n",
    "for k in neighbors:\n",
    "    knn = KNeighborsClassifier(n_neighbors=k)\n",
    "    scores = cross_val_score(knn, X_train_uni, y_train_uni, cv=5, scoring='accuracy')\n",
    "    cv_scores.append(scores.mean())\n",
    "\n",
    "# το σφάλμα είναι το αντίστροφο της πιστότητας\n",
    "mean_error = [1 - x for x in cv_scores]\n",
    "\n",
    "# plot misclassification error vs k\n",
    "plt.plot(neighbors, mean_error)\n",
    "plt.xlabel('Number of Neighbors K')\n",
    "plt.ylabel('Misclassification Error')\n",
    "plt.show()\n"
   ]
  },
  {
   "cell_type": "code",
   "execution_count": 22,
   "metadata": {},
   "outputs": [
    {
     "name": "stdout",
     "output_type": "stream",
     "text": [
      "The optimal number of neighbors (calculated in the training set) is 23\n",
      "\n",
      "Optimal accuracy on the test set is 0.671900826446281 with k= 23\n"
     ]
    }
   ],
   "source": [
    "# determining best k\n",
    "optimal_k = neighbors[mean_error.index(min(mean_error))]\n",
    "print(\"The optimal number of neighbors (calculated in the training set) is %d\" % optimal_k)\n",
    "\n",
    "# για το optimal k παίρνουμε και τα αποτέλεσματα στο test set\n",
    "knn = KNeighborsClassifier(n_neighbors = optimal_k)\n",
    "knn.fit(X_train_uni, y_train_uni)\n",
    "pred = knn.predict(X_val_uni)\n",
    "print(\"\\nOptimal accuracy on the test set is\", accuracy_score(y_val_uni, pred), \"with k=\", optimal_k)"
   ]
  },
  {
   "cell_type": "markdown",
   "metadata": {},
   "source": [
    "## kNN with ExtraTress Classifier"
   ]
  },
  {
   "cell_type": "code",
   "execution_count": 23,
   "metadata": {},
   "outputs": [],
   "source": [
    "X_train_extra = train_data[['odds_home', 'odds_away', 'home_elo', 'visitor_elo', 'elo_diff',\n",
    "                    'eff_diff', 'eff_visitor', 'top_player_diff', 'diff_win_pct_prev_season',\n",
    "                    'diff_home_record_last_season', 'ROAD_RECORD_home',\n",
    "                    'diff_road_record_last_season', 'diff_win_pct_7_last_games', 'W_PCT_home',\n",
    "                    'W_PCT_away', 'W_PCT_prev_away', 'diff_curr_away_record', 'HOME_RECORD_home', 'diff_curr_home_record',\n",
    "                    'diff_curr_win_pct']]\n",
    "y_train_extra = y_train\n",
    "\n",
    "X_val_extra = valid_data[['odds_home', 'odds_away', 'home_elo', 'visitor_elo', 'elo_diff',\n",
    "                    'eff_diff', 'eff_visitor', 'top_player_diff', 'diff_win_pct_prev_season',\n",
    "                    'diff_home_record_last_season', 'ROAD_RECORD_home',\n",
    "                    'diff_road_record_last_season', 'diff_win_pct_7_last_games', 'W_PCT_home',\n",
    "                    'W_PCT_away', 'W_PCT_prev_away', 'diff_curr_away_record', 'HOME_RECORD_home', 'diff_curr_home_record',\n",
    "                    'diff_curr_win_pct']]\n",
    "y_val_extra = y_val"
   ]
  },
  {
   "cell_type": "code",
   "execution_count": 24,
   "metadata": {},
   "outputs": [
    {
     "name": "stdout",
     "output_type": "stream",
     "text": [
      "Συνολικός χρόνος fit και predict: 36.29199934005737 seconds\n",
      "              precision    recall  f1-score   support\n",
      "\n",
      "   home_loss       0.63      0.53      0.58      1011\n",
      "    home_win       0.70      0.77      0.73      1409\n",
      "\n",
      "    accuracy                           0.67      2420\n",
      "   macro avg       0.66      0.65      0.66      2420\n",
      "weighted avg       0.67      0.67      0.67      2420\n",
      "\n",
      "val score: 0.6727272727272727\n",
      "KNeighborsClassifier(leaf_size=1, n_neighbors=13)\n",
      "{'leaf_size': 1, 'n_neighbors': 13}\n",
      "best score: 0.6565217391304347\n",
      "test score 0.6727272727272727\n"
     ]
    }
   ],
   "source": [
    "import time\n",
    "\n",
    "# Split Data to Train and Validation\n",
    "\n",
    "clf = KNeighborsClassifier()\n",
    "# η παράμετρος n_jobs = 1 χρησιμοποιεί όλους τους πυρήνες του υπολογιστή\n",
    "params = {'n_neighbors': np.arange(1, 15),\n",
    "          'leaf_size': list(range(1, 5, 1))}\n",
    "\n",
    "estimator = GridSearchCV(clf, param_grid=params, cv=5, scoring='accuracy', n_jobs=-1)\n",
    "start_time = time.time()\n",
    "estimator.fit(X_train_extra, y_train_extra)\n",
    "val_score = estimator.score(X_val_extra, y_val_extra)\n",
    "\n",
    "preds = estimator.predict(X_val_extra)\n",
    "test_score = estimator.score(X_val_extra, y_val_extra)\n",
    "\n",
    "target_names = ['home_loss', 'home_win']\n",
    "\n",
    "print(\"Συνολικός χρόνος fit και predict: %s seconds\" % (time.time() - start_time))\n",
    "print(classification_report(y_val_extra, preds, target_names=target_names))\n",
    "print(\"val score:\", val_score)\n",
    "print(estimator.best_estimator_)\n",
    "print(estimator.best_params_)\n",
    "print(\"best score:\", estimator.best_score_)\n",
    "print(\"test score\", test_score)"
   ]
  },
  {
   "cell_type": "code",
   "execution_count": 25,
   "metadata": {},
   "outputs": [
    {
     "data": {
      "image/png": "[encoded data removed]",
      "text/plain": [
       "<Figure size 432x288 with 1 Axes>"
      ]
     },
     "metadata": {
      "needs_background": "light"
     },
     "output_type": "display_data"
    }
   ],
   "source": [
    "import matplotlib.pyplot as plt\n",
    "\n",
    "\n",
    "# φτιάχνουμε μια λίστα από το 1 έως το 50\n",
    "myList = list(range(1, 50))\n",
    "# Κρατάμε μόνο τα περιττά k\n",
    "neighbors = list(filter(lambda x: x % 2 != 0, myList))\n",
    "# empty list that will hold cv scores\n",
    "cv_scores = []\n",
    "# perform 5-fold cross validation\n",
    "for k in neighbors:\n",
    "    knn = KNeighborsClassifier(n_neighbors=k)\n",
    "    scores = cross_val_score(knn, X_train_extra, y_train_extra, cv=5, scoring='accuracy')\n",
    "    cv_scores.append(scores.mean())\n",
    "\n",
    "# το σφάλμα είναι το αντίστροφο της πιστότητας\n",
    "mean_error = [1 - x for x in cv_scores]\n",
    "\n",
    "# plot misclassification error vs k\n",
    "plt.plot(neighbors, mean_error)\n",
    "plt.xlabel('Number of Neighbors K')\n",
    "plt.ylabel('Misclassification Error')\n",
    "plt.show()\n"
   ]
  },
  {
   "cell_type": "code",
   "execution_count": 26,
   "metadata": {},
   "outputs": [
    {
     "name": "stdout",
     "output_type": "stream",
     "text": [
      "The optimal number of neighbors (calculated in the training set) is 49\n",
      "\n",
      "Optimal accuracy on the test set is 0.6921487603305785 with k= 49\n"
     ]
    }
   ],
   "source": [
    "# determining best k\n",
    "optimal_k = neighbors[mean_error.index(min(mean_error))]\n",
    "print(\"The optimal number of neighbors (calculated in the training set) is %d\" % optimal_k)\n",
    "\n",
    "# για το optimal k παίρνουμε και τα αποτέλεσματα στο test set\n",
    "knn = KNeighborsClassifier(n_neighbors = optimal_k)\n",
    "knn.fit(X_train_extra, y_train_extra)\n",
    "pred = knn.predict(X_val_extra)\n",
    "print(\"\\nOptimal accuracy on the test set is\", accuracy_score(y_val_extra, pred), \"with k=\", optimal_k)"
   ]
  },
  {
   "cell_type": "markdown",
   "metadata": {},
   "source": [
    "## kNN with SelectFromModel(LassoCV)"
   ]
  },
  {
   "cell_type": "code",
   "execution_count": 27,
   "metadata": {},
   "outputs": [],
   "source": [
    "from sklearn.feature_selection import SelectFromModel\n",
    "from sklearn.linear_model import LassoCV\n",
    "from sklearn.pipeline import Pipeline"
   ]
  },
  {
   "cell_type": "code",
   "execution_count": 28,
   "metadata": {},
   "outputs": [
    {
     "data": {
      "text/plain": [
       "Pipeline(steps=[('feature_selection', SelectFromModel(estimator=LassoCV())),\n",
       "                ('classification',\n",
       "                 KNeighborsClassifier(leaf_size=1, n_neighbors=13))])"
      ]
     },
     "execution_count": 28,
     "metadata": {},
     "output_type": "execute_result"
    }
   ],
   "source": [
    "pipe_model = Pipeline([\n",
    "  ('feature_selection', SelectFromModel(LassoCV())),\n",
    "  ('classification', KNeighborsClassifier(leaf_size=1, n_neighbors=13))\n",
    "])\n",
    "pipe_model.fit(X_train, y_train)"
   ]
  },
  {
   "cell_type": "code",
   "execution_count": 29,
   "metadata": {},
   "outputs": [
    {
     "name": "stdout",
     "output_type": "stream",
     "text": [
      "Συνολικός χρόνος fit και predict: 437.4017581939697 seconds\n",
      "              precision    recall  f1-score   support\n",
      "\n",
      "   home loss       0.63      0.53      0.58      1011\n",
      "    home win       0.70      0.78      0.74      1409\n",
      "\n",
      "    accuracy                           0.68      2420\n",
      "   macro avg       0.67      0.65      0.66      2420\n",
      "weighted avg       0.67      0.68      0.67      2420\n",
      "\n",
      "test score 0.675206611570248\n"
     ]
    }
   ],
   "source": [
    "# Predict\n",
    "preds = pipe_model.predict(X_val)\n",
    "test_score = pipe_model.score(X_val, y_val)\n",
    "\n",
    "target_names=['home loss', 'home win']\n",
    "\n",
    "print(\"Συνολικός χρόνος fit και predict: %s seconds\" % (time.time() - start_time))\n",
    "print(classification_report(y_val, preds, target_names=target_names))\n",
    "\n",
    "print(\"test score\", test_score)\n"
   ]
  },
  {
   "cell_type": "markdown",
   "metadata": {},
   "source": [
    "#### Use lasso_data"
   ]
  },
  {
   "cell_type": "code",
   "execution_count": 30,
   "metadata": {},
   "outputs": [],
   "source": [
    "X_train_sfm = train_data[['elo_diff', 'odds_away', 'odds_home', 'eff_diff', 'eff_visitor',\n",
    "              'missing_players', 'top_players', 'FT_PCT_home_7g', 'diff_avg_reb_away',\n",
    "              'home_elo']]\n",
    "y_train_sfm = y_train\n",
    "\n",
    "X_val_sfm = valid_data[['elo_diff', 'odds_away', 'odds_home', 'eff_diff', 'eff_visitor',\n",
    "              'missing_players', 'top_players', 'FT_PCT_home_7g', 'diff_avg_reb_away',\n",
    "              'home_elo']]\n",
    "y_val_sfm = y_val"
   ]
  },
  {
   "cell_type": "code",
   "execution_count": 31,
   "metadata": {},
   "outputs": [
    {
     "name": "stdout",
     "output_type": "stream",
     "text": [
      "Συνολικός χρόνος fit και predict: 11.302307367324829 seconds\n",
      "              precision    recall  f1-score   support\n",
      "\n",
      "   home_loss       0.62      0.53      0.57      1011\n",
      "    home_win       0.69      0.77      0.73      1409\n",
      "\n",
      "    accuracy                           0.67      2420\n",
      "   macro avg       0.66      0.65      0.65      2420\n",
      "weighted avg       0.67      0.67      0.66      2420\n",
      "\n",
      "val score: 0.6698347107438016\n",
      "KNeighborsClassifier(leaf_size=1, n_neighbors=11)\n",
      "{'leaf_size': 1, 'n_neighbors': 11}\n",
      "best score: 0.6534782608695653\n",
      "test score 0.6698347107438016\n"
     ]
    }
   ],
   "source": [
    "import time\n",
    "\n",
    "# Split Data to Train and Validation\n",
    "\n",
    "clf = KNeighborsClassifier()\n",
    "# η παράμετρος n_jobs = 1 χρησιμοποιεί όλους τους πυρήνες του υπολογιστή\n",
    "params = {'n_neighbors': np.arange(1, 15),\n",
    "          'leaf_size': list(range(1, 5, 1))}\n",
    "\n",
    "estimator = GridSearchCV(clf, param_grid=params, cv=5, scoring='accuracy', n_jobs=-1)\n",
    "start_time = time.time()\n",
    "estimator.fit(X_train_sfm, y_train_sfm)\n",
    "val_score = estimator.score(X_val_sfm, y_val_sfm)\n",
    "\n",
    "preds = estimator.predict(X_val_sfm)\n",
    "test_score = estimator.score(X_val_sfm, y_val_sfm)\n",
    "\n",
    "target_names = ['home_loss', 'home_win']\n",
    "\n",
    "print(\"Συνολικός χρόνος fit και predict: %s seconds\" % (time.time() - start_time))\n",
    "print(classification_report(y_val_sfm, preds, target_names=target_names))\n",
    "print(\"val score:\", val_score)\n",
    "print(estimator.best_estimator_)\n",
    "print(estimator.best_params_)\n",
    "print(\"best score:\", estimator.best_score_)\n",
    "print(\"test score\", test_score)"
   ]
  },
  {
   "cell_type": "code",
   "execution_count": 32,
   "metadata": {},
   "outputs": [
    {
     "name": "stdout",
     "output_type": "stream",
     "text": [
      "The optimal number of neighbors (calculated in the training set) is 49\n",
      "\n",
      "Optimal accuracy on the test set is 0.6847107438016529 with k= 49\n"
     ]
    }
   ],
   "source": [
    "# determining best k\n",
    "optimal_k = neighbors[mean_error.index(min(mean_error))]\n",
    "print(\"The optimal number of neighbors (calculated in the training set) is %d\" % optimal_k)\n",
    "\n",
    "# για το optimal k παίρνουμε και τα αποτέλεσματα στο test set\n",
    "knn = KNeighborsClassifier(n_neighbors = optimal_k)\n",
    "knn.fit(X_train_sfm, y_train_sfm)\n",
    "pred = knn.predict(X_val_sfm)\n",
    "print(\"\\nOptimal accuracy on the test set is\", accuracy_score(y_val_sfm, pred), \"with k=\", optimal_k)"
   ]
  },
  {
   "cell_type": "markdown",
   "metadata": {},
   "source": [
    "## kNN with Sequential Feature Selection"
   ]
  },
  {
   "cell_type": "markdown",
   "metadata": {},
   "source": [
    "### Forward"
   ]
  },
  {
   "cell_type": "code",
   "execution_count": 33,
   "metadata": {},
   "outputs": [],
   "source": [
    "X_train_for_sfs = train_data[['num_possible_outcomes', 'odds_home', 'odds_away', 'HOME_RECORD_home',\n",
    "                    'W_PCT_away', 'W_PCT_prev_home', 'ROAD_RECORD_prev_home', 'W_PCT_prev_away',\n",
    "                    'HOME_RECORD_prev_away', 'ROAD_RECORD_prev_away', 'WIN_PRCT_home_3g',\n",
    "                    'FT_PCT_home_3g', 'FT_PCT_away_3g', 'FG3_PCT_away_3g', 'WIN_PRCT_home_7g',\n",
    "                    'FT_PCT_away_7g', 'REB_away_7g', 'diff_avg_ast_home', 'diff_avg_ast_away',\n",
    "                    'diff_avg_fg3_pct_home', 'diff_avg_fg_pct_away', 'diff_avg_reb_away',\n",
    "                    'top_players', 'eff', 'eff_visitor', 'G_7days', 'back2back',\n",
    "                    'HG_7days_VISITOR', 'AG_7days_VISITOR', 'G_7days_VISITOR',\n",
    "                    'back2back_visitor', 'missing_players', 'missing_players_visitor',\n",
    "                    'home_elo', 'elo_diff', 'missing_player_diff', 'eff_diff',\n",
    "                    'Home_Last_5_Avg_FG3_PCT_home', 'Home_Last_5_Avg_FG3_PCT_away',\n",
    "                    'Away_Last_5_Avg_FG3_PCT_home', 'Away_Last_5_Avg_FT_PCT_away',\n",
    "                    'diff_fg_pct_last_3_games', 'diff_fg3_pct_last_7_games',\n",
    "                    'diff_ft_pct_last_3_games', 'diff_ast_last_3_games',\n",
    "                    'diff_ast_last_7_games', 'diff_win_pct_prev_season',\n",
    "                    'diff_home_record_last_season', 'diff_road_record_last_season',\n",
    "                    'diff_curr_win_pct']]\n",
    "\n",
    "y_train_for_sfs = y_train\n",
    "\n",
    "X_val_for_sfs = valid_data[['num_possible_outcomes', 'odds_home', 'odds_away', 'HOME_RECORD_home',\n",
    "                    'W_PCT_away', 'W_PCT_prev_home', 'ROAD_RECORD_prev_home', 'W_PCT_prev_away',\n",
    "                    'HOME_RECORD_prev_away', 'ROAD_RECORD_prev_away', 'WIN_PRCT_home_3g',\n",
    "                    'FT_PCT_home_3g', 'FT_PCT_away_3g', 'FG3_PCT_away_3g', 'WIN_PRCT_home_7g',\n",
    "                    'FT_PCT_away_7g', 'REB_away_7g', 'diff_avg_ast_home', 'diff_avg_ast_away',\n",
    "                    'diff_avg_fg3_pct_home', 'diff_avg_fg_pct_away', 'diff_avg_reb_away',\n",
    "                    'top_players', 'eff', 'eff_visitor', 'G_7days', 'back2back',\n",
    "                    'HG_7days_VISITOR', 'AG_7days_VISITOR', 'G_7days_VISITOR',\n",
    "                    'back2back_visitor', 'missing_players', 'missing_players_visitor',\n",
    "                    'home_elo', 'elo_diff', 'missing_player_diff', 'eff_diff',\n",
    "                    'Home_Last_5_Avg_FG3_PCT_home', 'Home_Last_5_Avg_FG3_PCT_away',\n",
    "                    'Away_Last_5_Avg_FG3_PCT_home', 'Away_Last_5_Avg_FT_PCT_away',\n",
    "                    'diff_fg_pct_last_3_games', 'diff_fg3_pct_last_7_games',\n",
    "                    'diff_ft_pct_last_3_games', 'diff_ast_last_3_games',\n",
    "                    'diff_ast_last_7_games', 'diff_win_pct_prev_season',\n",
    "                    'diff_home_record_last_season', 'diff_road_record_last_season',\n",
    "                    'diff_curr_win_pct']]\n",
    "\n",
    "y_val_for_sfs = y_val\n"
   ]
  },
  {
   "cell_type": "code",
   "execution_count": 34,
   "metadata": {},
   "outputs": [
    {
     "name": "stdout",
     "output_type": "stream",
     "text": [
      "Συνολικός χρόνος fit και predict: 37.01522445678711 seconds\n",
      "              precision    recall  f1-score   support\n",
      "\n",
      "   home_loss       0.62      0.52      0.57      1011\n",
      "    home_win       0.69      0.77      0.73      1409\n",
      "\n",
      "    accuracy                           0.67      2420\n",
      "   macro avg       0.66      0.65      0.65      2420\n",
      "weighted avg       0.66      0.67      0.66      2420\n",
      "\n",
      "val score: 0.6661157024793388\n",
      "KNeighborsClassifier(leaf_size=1, n_neighbors=13)\n",
      "{'leaf_size': 1, 'n_neighbors': 13}\n",
      "best score: 0.6571014492753623\n",
      "test score 0.6661157024793388\n"
     ]
    }
   ],
   "source": [
    "import time\n",
    "\n",
    "# Split Data to Train and Validation\n",
    "\n",
    "clf = KNeighborsClassifier()\n",
    "# η παράμετρος n_jobs = 1 χρησιμοποιεί όλους τους πυρήνες του υπολογιστή\n",
    "params = {'n_neighbors': np.arange(1, 15),\n",
    "          'leaf_size': list(range(1, 5, 1))}\n",
    "\n",
    "estimator = GridSearchCV(clf, param_grid=params, cv=5, scoring='accuracy', n_jobs=-1)\n",
    "start_time = time.time()\n",
    "estimator.fit(X_train_for_sfs, y_train_for_sfs)\n",
    "val_score = estimator.score(X_val_for_sfs, y_val_for_sfs)\n",
    "\n",
    "preds = estimator.predict(X_val_for_sfs)\n",
    "test_score = estimator.score(X_val_for_sfs, y_val_for_sfs)\n",
    "\n",
    "target_names = ['home_loss', 'home_win']\n",
    "\n",
    "print(\"Συνολικός χρόνος fit και predict: %s seconds\" % (time.time() - start_time))\n",
    "print(classification_report(y_val_for_sfs, preds, target_names=target_names))\n",
    "print(\"val score:\", val_score)\n",
    "print(estimator.best_estimator_)\n",
    "print(estimator.best_params_)\n",
    "print(\"best score:\", estimator.best_score_)\n",
    "print(\"test score\", test_score)"
   ]
  },
  {
   "cell_type": "code",
   "execution_count": 35,
   "metadata": {},
   "outputs": [
    {
     "name": "stdout",
     "output_type": "stream",
     "text": [
      "The optimal number of neighbors (calculated in the training set) is 49\n",
      "\n",
      "Optimal accuracy on the test set is 0.6851239669421487 with k= 49\n"
     ]
    }
   ],
   "source": [
    "# determining best k\n",
    "optimal_k = neighbors[mean_error.index(min(mean_error))]\n",
    "print(\"The optimal number of neighbors (calculated in the training set) is %d\" % optimal_k)\n",
    "\n",
    "# για το optimal k παίρνουμε και τα αποτέλεσματα στο test set\n",
    "knn = KNeighborsClassifier(n_neighbors = optimal_k)\n",
    "knn.fit(X_train_for_sfs, y_train_for_sfs)\n",
    "pred = knn.predict(X_val_for_sfs)\n",
    "print(\"\\nOptimal accuracy on the test set is\", accuracy_score(y_val_for_sfs, pred), \"with k=\", optimal_k)"
   ]
  },
  {
   "cell_type": "markdown",
   "metadata": {},
   "source": [
    "### Backwards"
   ]
  },
  {
   "cell_type": "code",
   "execution_count": 36,
   "metadata": {},
   "outputs": [],
   "source": [
    "X_train_back_sfs = train_data[['num_possible_outcomes', 'odds_home', 'odds_away', 'HOME_RECORD_home',\n",
    "                     'W_PCT_away', 'W_PCT_prev_away', 'HOME_RECORD_prev_away',\n",
    "                     'ROAD_RECORD_prev_away', 'FT_PCT_home_3g', 'FG3_PCT_home_3g', 'PTS_away_3g',\n",
    "                     'FG_PCT_away_3g', 'FT_PCT_away_3g', 'FG3_PCT_away_3g', 'PTS_home_7g',\n",
    "                     'FG_PCT_home_7g', 'AST_home_7g', 'AST_away_7g', 'REB_away_7g',\n",
    "                     'diff_avg_pts_away', 'diff_avg_ast_home', 'diff_avg_ast_away',\n",
    "                     'diff_avg_fg3_pct_home', 'top_players', 'top_players_visitor', 'eff_visitor',\n",
    "                     'G_7days', 'back2back', 'HG_7days_VISITOR', 'AG_7days_VISITOR',\n",
    "                     'G_7days_VISITOR', 'back2back_visitor', 'home_elo', 'elo_diff',\n",
    "                     'missing_player_diff', 'eff_diff', 'Home_Last_5_Avg_AST_home',\n",
    "                     'Home_Last_5_Avg_REB_home', 'Home_Last_5_Avg_REB_away',\n",
    "                     'Home_Last_5_Avg_FG3_PCT_away', 'Away_Last_5_Avg_PTS_home',\n",
    "                     'Away_Last_5_Avg_FG3_PCT_home', 'Away_Last_5_Avg_AST_home',\n",
    "                     'Away_Last_5_Avg_FT_PCT_away', 'diff_fg3_pct_last_3_games',\n",
    "                     'diff_fg3_pct_last_7_games', 'diff_ft_pct_last_3_games',\n",
    "                     'diff_ast_last_7_games', 'diff_reb_last_3_games',\n",
    "                     'diff_win_pct_3_last_games']]\n",
    "\n",
    "y_train_back_sfs = y_train\n",
    "\n",
    "X_val_back_sfs = valid_data[['num_possible_outcomes', 'odds_home', 'odds_away', 'HOME_RECORD_home',\n",
    "                     'W_PCT_away', 'W_PCT_prev_away', 'HOME_RECORD_prev_away',\n",
    "                     'ROAD_RECORD_prev_away', 'FT_PCT_home_3g', 'FG3_PCT_home_3g', 'PTS_away_3g',\n",
    "                     'FG_PCT_away_3g', 'FT_PCT_away_3g', 'FG3_PCT_away_3g', 'PTS_home_7g',\n",
    "                     'FG_PCT_home_7g', 'AST_home_7g', 'AST_away_7g', 'REB_away_7g',\n",
    "                     'diff_avg_pts_away', 'diff_avg_ast_home', 'diff_avg_ast_away',\n",
    "                     'diff_avg_fg3_pct_home', 'top_players', 'top_players_visitor', 'eff_visitor',\n",
    "                     'G_7days', 'back2back', 'HG_7days_VISITOR', 'AG_7days_VISITOR',\n",
    "                     'G_7days_VISITOR', 'back2back_visitor', 'home_elo', 'elo_diff',\n",
    "                     'missing_player_diff', 'eff_diff', 'Home_Last_5_Avg_AST_home',\n",
    "                     'Home_Last_5_Avg_REB_home', 'Home_Last_5_Avg_REB_away',\n",
    "                     'Home_Last_5_Avg_FG3_PCT_away', 'Away_Last_5_Avg_PTS_home',\n",
    "                     'Away_Last_5_Avg_FG3_PCT_home', 'Away_Last_5_Avg_AST_home',\n",
    "                     'Away_Last_5_Avg_FT_PCT_away', 'diff_fg3_pct_last_3_games',\n",
    "                     'diff_fg3_pct_last_7_games', 'diff_ft_pct_last_3_games',\n",
    "                     'diff_ast_last_7_games', 'diff_reb_last_3_games',\n",
    "                     'diff_win_pct_3_last_games']]\n",
    "\n",
    "y_val_back_sfs = y_val"
   ]
  },
  {
   "cell_type": "code",
   "execution_count": 37,
   "metadata": {},
   "outputs": [
    {
     "name": "stdout",
     "output_type": "stream",
     "text": [
      "Συνολικός χρόνος fit και predict: 36.69161343574524 seconds\n",
      "              precision    recall  f1-score   support\n",
      "\n",
      "   home_loss       0.62      0.53      0.57      1011\n",
      "    home_win       0.70      0.77      0.73      1409\n",
      "\n",
      "    accuracy                           0.67      2420\n",
      "   macro avg       0.66      0.65      0.65      2420\n",
      "weighted avg       0.67      0.67      0.67      2420\n",
      "\n",
      "val score: 0.6702479338842975\n",
      "KNeighborsClassifier(leaf_size=1, n_neighbors=11)\n",
      "{'leaf_size': 1, 'n_neighbors': 11}\n",
      "best score: 0.6555072463768116\n",
      "test score 0.6702479338842975\n"
     ]
    }
   ],
   "source": [
    "import time\n",
    "\n",
    "# Split Data to Train and Validation\n",
    "\n",
    "clf = KNeighborsClassifier()\n",
    "# η παράμετρος n_jobs = 1 χρησιμοποιεί όλους τους πυρήνες του υπολογιστή\n",
    "params = {'n_neighbors': np.arange(1, 15),\n",
    "          'leaf_size': list(range(1, 5, 1))}\n",
    "\n",
    "estimator = GridSearchCV(clf, param_grid=params, cv=5, scoring='accuracy', n_jobs=-1)\n",
    "start_time = time.time()\n",
    "estimator.fit(X_train_back_sfs, y_train_back_sfs)\n",
    "val_score = estimator.score(X_val_back_sfs, y_val_back_sfs)\n",
    "\n",
    "preds = estimator.predict(X_val_back_sfs)\n",
    "test_score = estimator.score(X_val_back_sfs, y_val_back_sfs)\n",
    "\n",
    "target_names = ['home_loss', 'home_win']\n",
    "\n",
    "print(\"Συνολικός χρόνος fit και predict: %s seconds\" % (time.time() - start_time))\n",
    "print(classification_report(y_val_back_sfs, preds, target_names=target_names))\n",
    "print(\"val score:\", val_score)\n",
    "print(estimator.best_estimator_)\n",
    "print(estimator.best_params_)\n",
    "print(\"best score:\", estimator.best_score_)\n",
    "print(\"test score\", test_score)"
   ]
  },
  {
   "cell_type": "code",
   "execution_count": 33,
   "metadata": {},
   "outputs": [
    {
     "name": "stdout",
     "output_type": "stream",
     "text": [
      "The optimal number of neighbors (calculated in the training set) is 49\n",
      "\n",
      "Optimal accuracy on the test set is 0.6355371900826446 with k= 49\n"
     ]
    }
   ],
   "source": [
    "# determining best k\n",
    "optimal_k = neighbors[mean_error.index(min(mean_error))]\n",
    "print(\"The optimal number of neighbors (calculated in the training set) is %d\" % optimal_k)\n",
    "\n",
    "# για το optimal k παίρνουμε και τα αποτέλεσματα στο test set\n",
    "knn = KNeighborsClassifier(n_neighbors = optimal_k)\n",
    "knn.fit(X_train_back_sfs, y_train_back_sfs)\n",
    "pred = knn.predict(X_val_back_sfs)\n",
    "print(\"\\nOptimal accuracy on the test set is\", accuracy_score(y_val_back_sfs, pred), \"with k=\", optimal_k)"
   ]
  },
  {
   "cell_type": "markdown",
   "metadata": {},
   "source": [
    "## kNN with RFE"
   ]
  },
  {
   "cell_type": "code",
   "execution_count": 38,
   "metadata": {},
   "outputs": [],
   "source": [
    "X_train_rfe = train_data[['num_possible_outcomes', 'odds_home', 'odds_away', 'W_PCT_home',\n",
    "            'HOME_RECORD_home', 'ROAD_RECORD_home', 'ROAD_RECORD_away',\n",
    "            'WIN_PRCT_home_3g', 'PTS_home_3g', 'REB_home_3g', 'WIN_PRCT_away_3g',\n",
    "            'AST_away_3g', 'REB_away_3g', 'PTS_home_7g', 'AST_home_7g',\n",
    "            'REB_home_7g', 'AST_away_7g', 'diff_avg_pts_home', 'diff_avg_ast_home',\n",
    "            'diff_avg_ast_away', 'diff_avg_fg3_pct_home', 'diff_avg_reb_home',\n",
    "            'diff_avg_reb_away', 'top_players', 'eff_visitor', 'HG_7days',\n",
    "            'AG_7days', 'G_7days', 'back2back', 'HG_7days_VISITOR',\n",
    "            'G_7days_VISITOR', 'back2back_visitor', 'missing_players',\n",
    "            'missing_players_visitor', 'home_elo', 'visitor_elo', 'elo_diff',\n",
    "            'top_player_diff', 'missing_player_diff', 'eff_diff', 'month',\n",
    "            'Home_Last_5_Avg_AST_home', 'Home_Last_5_Avg_REB_home',\n",
    "            'Home_Last_5_Avg_PTS_away', 'Home_Last_5_Avg_REB_away',\n",
    "            'Home_Last_5_Avg_AST_away', 'Away_Last_5_Avg_FG3_PCT_home',\n",
    "            'Away_Last_5_Avg_AST_home', 'Away_Last_5_Avg_PTS_away',\n",
    "            'Away_Last_5_Avg_FT_PCT_away', 'Away_Last_5_Avg_AST_away',\n",
    "            'diff_ast_last_3_games', 'diff_ast_last_7_games',\n",
    "            'diff_reb_last_3_games', 'diff_reb_last_7_games',\n",
    "            'diff_win_pct_3_last_games', 'diff_curr_win_pct',\n",
    "            'diff_curr_home_record', 'diff_curr_away_record']]\n",
    "\n",
    "y_train_rfe = y_train\n",
    "\n",
    "X_val_rfe = valid_data[['num_possible_outcomes', 'odds_home', 'odds_away', 'W_PCT_home',\n",
    "            'HOME_RECORD_home', 'ROAD_RECORD_home', 'ROAD_RECORD_away',\n",
    "            'WIN_PRCT_home_3g', 'PTS_home_3g', 'REB_home_3g', 'WIN_PRCT_away_3g',\n",
    "            'AST_away_3g', 'REB_away_3g', 'PTS_home_7g', 'AST_home_7g',\n",
    "            'REB_home_7g', 'AST_away_7g', 'diff_avg_pts_home', 'diff_avg_ast_home',\n",
    "            'diff_avg_ast_away', 'diff_avg_fg3_pct_home', 'diff_avg_reb_home',\n",
    "            'diff_avg_reb_away', 'top_players', 'eff_visitor', 'HG_7days',\n",
    "            'AG_7days', 'G_7days', 'back2back', 'HG_7days_VISITOR',\n",
    "            'G_7days_VISITOR', 'back2back_visitor', 'missing_players',\n",
    "            'missing_players_visitor', 'home_elo', 'visitor_elo', 'elo_diff',\n",
    "            'top_player_diff', 'missing_player_diff', 'eff_diff', 'month',\n",
    "            'Home_Last_5_Avg_AST_home', 'Home_Last_5_Avg_REB_home',\n",
    "            'Home_Last_5_Avg_PTS_away', 'Home_Last_5_Avg_REB_away',\n",
    "            'Home_Last_5_Avg_AST_away', 'Away_Last_5_Avg_FG3_PCT_home',\n",
    "            'Away_Last_5_Avg_AST_home', 'Away_Last_5_Avg_PTS_away',\n",
    "            'Away_Last_5_Avg_FT_PCT_away', 'Away_Last_5_Avg_AST_away',\n",
    "            'diff_ast_last_3_games', 'diff_ast_last_7_games',\n",
    "            'diff_reb_last_3_games', 'diff_reb_last_7_games',\n",
    "            'diff_win_pct_3_last_games', 'diff_curr_win_pct',\n",
    "            'diff_curr_home_record', 'diff_curr_away_record']]\n",
    "\n",
    "y_val_rfe = y_val"
   ]
  },
  {
   "cell_type": "code",
   "execution_count": 39,
   "metadata": {},
   "outputs": [
    {
     "name": "stdout",
     "output_type": "stream",
     "text": [
      "Συνολικός χρόνος fit και predict: 40.660284757614136 seconds\n",
      "              precision    recall  f1-score   support\n",
      "\n",
      "   home_loss       0.61      0.54      0.57      1011\n",
      "    home_win       0.70      0.76      0.73      1409\n",
      "\n",
      "    accuracy                           0.67      2420\n",
      "   macro avg       0.66      0.65      0.65      2420\n",
      "weighted avg       0.66      0.67      0.66      2420\n",
      "\n",
      "val score: 0.6661157024793388\n",
      "KNeighborsClassifier(leaf_size=1, n_neighbors=11)\n",
      "{'leaf_size': 1, 'n_neighbors': 11}\n",
      "best score: 0.6560869565217391\n",
      "test score 0.6661157024793388\n"
     ]
    }
   ],
   "source": [
    "import time\n",
    "\n",
    "# Split Data to Train and Validation\n",
    "\n",
    "clf = KNeighborsClassifier()\n",
    "# η παράμετρος n_jobs = 1 χρησιμοποιεί όλους τους πυρήνες του υπολογιστή\n",
    "params = {'n_neighbors': np.arange(1, 15),\n",
    "          'leaf_size': list(range(1, 5, 1))}\n",
    "\n",
    "estimator = GridSearchCV(clf, param_grid=params, cv=5, scoring='accuracy', n_jobs=-1)\n",
    "start_time = time.time()\n",
    "estimator.fit(X_train_rfe, y_train_rfe)\n",
    "val_score = estimator.score(X_val_rfe, y_val_rfe)\n",
    "\n",
    "preds = estimator.predict(X_val_rfe)\n",
    "test_score = estimator.score(X_val_rfe, y_val_rfe)\n",
    "\n",
    "target_names = ['home_loss', 'home_win']\n",
    "\n",
    "print(\"Συνολικός χρόνος fit και predict: %s seconds\" % (time.time() - start_time))\n",
    "print(classification_report(y_val_rfe, preds, target_names=target_names))\n",
    "print(\"val score:\", val_score)\n",
    "print(estimator.best_estimator_)\n",
    "print(estimator.best_params_)\n",
    "print(\"best score:\", estimator.best_score_)\n",
    "print(\"test score\", test_score)"
   ]
  },
  {
   "cell_type": "code",
   "execution_count": 40,
   "metadata": {},
   "outputs": [
    {
     "name": "stdout",
     "output_type": "stream",
     "text": [
      "The optimal number of neighbors (calculated in the training set) is 49\n",
      "\n",
      "Optimal accuracy on the test set is 0.6921487603305785 with k= 49\n"
     ]
    }
   ],
   "source": [
    "# determining best k\n",
    "optimal_k = neighbors[mean_error.index(min(mean_error))]\n",
    "print(\"The optimal number of neighbors (calculated in the training set) is %d\" % optimal_k)\n",
    "\n",
    "# για το optimal k παίρνουμε και τα αποτέλεσματα στο test set\n",
    "knn = KNeighborsClassifier(n_neighbors = optimal_k)\n",
    "knn.fit(X_train_rfe, y_train_rfe)\n",
    "pred = knn.predict(X_val_rfe)\n",
    "print(\"\\nOptimal accuracy on the test set is\", accuracy_score(y_val_rfe, pred), \"with k=\", optimal_k)"
   ]
  }
 ],
 "metadata": {
  "colab": {
   "authorship_tag": "ABX9TyNheBfPqYTBZBpvKUEp+tMK",
   "collapsed_sections": [],
   "name": "knn.ipynb",
   "provenance": [],
   "toc_visible": true
  },
  "kernelspec": {
   "display_name": "Python 3 (ipykernel)",
   "language": "python",
   "name": "python3"
  },
  "language_info": {
   "codemirror_mode": {
    "name": "ipython",
    "version": 3
   },
   "file_extension": ".py",
   "mimetype": "text/x-python",
   "name": "python",
   "nbconvert_exporter": "python",
   "pygments_lexer": "ipython3",
   "version": "3.9.4"
  }
 },
 "nbformat": 4,
 "nbformat_minor": 1
}
