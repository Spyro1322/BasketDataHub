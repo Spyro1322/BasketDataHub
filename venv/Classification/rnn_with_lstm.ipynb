{
 "cells": [
  {
   "cell_type": "code",
   "execution_count": 2,
   "metadata": {},
   "outputs": [],
   "source": [
    "from keras.layers import Dense, Dropout, LSTM, Bidirectional, Embedding\n",
    "from keras.models import Sequential\n",
    "import pandas as pd\n",
    "import numpy as np\n",
    "\n",
    "from sklearn.model_selection import train_test_split, GridSearchCV\n",
    "from sklearn.metrics import classification_report, accuracy_score, confusion_matrix\n",
    "import time\n",
    "\n",
    "%matplotlib inline\n",
    "import matplotlib.pyplot as plt\n",
    "from scipy import stats\n",
    "\n",
    "# use seaborn plotting defaults\n",
    "import seaborn as sns; sns.set()\n",
    "\n",
    "import warnings\n",
    "warnings.filterwarnings('ignore')\n"
   ]
  },
  {
   "cell_type": "code",
   "execution_count": 3,
   "metadata": {},
   "outputs": [],
   "source": [
    "df = pd.read_csv('../FeatureEngineering/MetaData/data6_&_odds.csv')\n",
    "df.dropna(inplace=True)"
   ]
  },
  {
   "cell_type": "code",
   "execution_count": 4,
   "metadata": {},
   "outputs": [],
   "source": [
    "train_data = df.loc[(df.season <= 2013) & (df.season >= 2007)]\n",
    "valid_data = df.loc[(df.season > 2013) & (df.season < 2016)]\n",
    "test_data = df.loc[df.season >= 2016]\n",
    "full_train_data = pd.concat([train_data, valid_data], axis=0)\n",
    "\n",
    "X, y = train_data.drop(columns=['home_team_wins']), train_data.home_team_wins\n",
    "valid_X, valid_y = valid_data.drop(columns=['home_team_wins']), valid_data.home_team_wins\n",
    "test_X, test_y = test_data.drop(columns=['home_team_wins']), test_data.home_team_wins\n",
    "\n",
    "# Split our data\n",
    "X_train, y_train = train_data.drop(columns=[\"game_date_est\",\"season\",\"game_id\",\"home_team\",\"visitor_team\",\"home_team_id\",\"visitor_team_id\",\"home_team_wins\",\"conference\",\"conference_visitor\"]), train_data.home_team_wins\n",
    "X_val, y_val = valid_data.drop(columns=[\"game_date_est\",\"season\",\"game_id\",\"home_team\",\"visitor_team\",\"home_team_id\",\"visitor_team_id\",\"home_team_wins\",\"conference\",\"conference_visitor\"]), valid_data.home_team_wins\n",
    "X_test, y_test = test_data.drop(columns=[\"game_date_est\",\"season\",\"game_id\",\"home_team\",\"visitor_team\",\"home_team_id\",\"visitor_team_id\",\"home_team_wins\",\"conference\",\"conference_visitor\"]), test_data.home_team_wins\n"
   ]
  },
  {
   "cell_type": "code",
   "execution_count": 5,
   "metadata": {},
   "outputs": [],
   "source": [
    "arr_X_train = X_train.to_numpy()\n",
    "arr_X_train = arr_X_train.reshape(arr_X_train.shape[0], arr_X_train.shape[1], 1)\n",
    "\n",
    "arr_X_val = X_val.to_numpy()\n",
    "arr_X_val = arr_X_val.reshape(arr_X_val.shape[0], arr_X_val.shape[1], 1)\n",
    "\n",
    "arr_X_test = X_test.to_numpy()\n",
    "arr_X_test = arr_X_test.reshape(arr_X_test.shape[0], arr_X_test.shape[1], 1)"
   ]
  },
  {
   "cell_type": "markdown",
   "metadata": {},
   "source": [
    "### Making a LSTM model"
   ]
  },
  {
   "cell_type": "markdown",
   "metadata": {},
   "source": [
    "### 3X sigmoid"
   ]
  },
  {
   "cell_type": "code",
   "execution_count": 17,
   "metadata": {},
   "outputs": [],
   "source": [
    "model = Sequential()\n",
    "model.add(LSTM(90, activation='sigmoid', return_sequences=True))\n",
    "model.add(Dropout(0.2))\n",
    "model.add(LSTM(90, activation='sigmoid', return_sequences=True))\n",
    "model.add(Dropout(0.2))\n",
    "model.add(Dense(1, activation='sigmoid'))\n",
    "\n",
    "model.compile(loss='binary_crossentropy',\n",
    "                optimizer='rmsprop',\n",
    "                metrics=['accuracy'])\n",
    "\n",
    "\n"
   ]
  },
  {
   "cell_type": "code",
   "execution_count": 48,
   "metadata": {},
   "outputs": [],
   "source": [
    "# model = get_model(input_shape=(100,1))"
   ]
  },
  {
   "cell_type": "code",
   "execution_count": null,
   "metadata": {},
   "outputs": [],
   "source": [
    "model.fit(arr_X_train, y_train, epochs=100, batch_size=32)\n"
   ]
  },
  {
   "cell_type": "code",
   "execution_count": 10,
   "metadata": {},
   "outputs": [
    {
     "name": "stdout",
     "output_type": "stream",
     "text": [
      "Accuracy: 68.12\n"
     ]
    }
   ],
   "source": [
    "# evaluate the keras model\n",
    "scores = model.evaluate(arr_X_val, y_val, verbose=0)\n",
    "print('Accuracy: %.2f' % (scores[1]*100))"
   ]
  },
  {
   "cell_type": "code",
   "execution_count": 16,
   "metadata": {},
   "outputs": [
    {
     "name": "stdout",
     "output_type": "stream",
     "text": [
      "Accuracy: 65.53\n"
     ]
    }
   ],
   "source": [
    "# evaluate the keras model\n",
    "scores = model.evaluate(arr_X_test, y_test, verbose=0)\n",
    "print('Accuracy: %.2f' % (scores[1]*100))"
   ]
  },
  {
   "cell_type": "markdown",
   "metadata": {},
   "source": [
    "We are testing different parameters for the LSTM model"
   ]
  },
  {
   "cell_type": "markdown",
   "metadata": {},
   "source": [
    "### Tanh, relu, sigmoid"
   ]
  },
  {
   "cell_type": "code",
   "execution_count": 19,
   "metadata": {},
   "outputs": [],
   "source": [
    "model = Sequential()\n",
    "model.add(LSTM(100, activation='tanh', return_sequences=True))\n",
    "model.add(Dropout(0.2))\n",
    "model.add(LSTM(100, activation='relu', return_sequences=True))\n",
    "model.add(Dropout(0.2))\n",
    "model.add(Dense(1, activation='sigmoid'))\n",
    "\n",
    "model.compile(loss='binary_crossentropy',\n",
    "                optimizer='adam',\n",
    "                metrics=['accuracy'])"
   ]
  },
  {
   "cell_type": "code",
   "execution_count": 20,
   "metadata": {},
   "outputs": [
    {
     "name": "stdout",
     "output_type": "stream",
     "text": [
      "Epoch 1/20\n",
      "108/108 [==============================] - 42s 342ms/step - loss: 0.6681 - accuracy: 0.6022\n",
      "Epoch 2/20\n",
      "108/108 [==============================] - 36s 334ms/step - loss: 0.6605 - accuracy: 0.6136\n",
      "Epoch 3/20\n",
      "108/108 [==============================] - 36s 336ms/step - loss: 0.6546 - accuracy: 0.6243\n",
      "Epoch 4/20\n",
      "108/108 [==============================] - 36s 334ms/step - loss: 0.6511 - accuracy: 0.6280\n",
      "Epoch 5/20\n",
      "108/108 [==============================] - 36s 330ms/step - loss: 0.6480 - accuracy: 0.6310\n",
      "Epoch 6/20\n",
      "108/108 [==============================] - 37s 343ms/step - loss: 0.6473 - accuracy: 0.6315\n",
      "Epoch 7/20\n",
      "108/108 [==============================] - 37s 345ms/step - loss: 0.6454 - accuracy: 0.6304\n",
      "Epoch 8/20\n",
      "108/108 [==============================] - 38s 348ms/step - loss: 0.6427 - accuracy: 0.6320\n",
      "Epoch 9/20\n",
      "108/108 [==============================] - 39s 359ms/step - loss: 0.6388 - accuracy: 0.6304\n",
      "Epoch 10/20\n",
      "108/108 [==============================] - 39s 363ms/step - loss: 0.6269 - accuracy: 0.6313\n",
      "Epoch 11/20\n",
      "108/108 [==============================] - 39s 361ms/step - loss: 0.6118 - accuracy: 0.6483\n",
      "Epoch 12/20\n",
      "108/108 [==============================] - 38s 355ms/step - loss: 0.5999 - accuracy: 0.6682\n",
      "Epoch 13/20\n",
      "108/108 [==============================] - 39s 365ms/step - loss: 0.5960 - accuracy: 0.6822\n",
      "Epoch 14/20\n",
      "108/108 [==============================] - 39s 360ms/step - loss: 0.5905 - accuracy: 0.6841\n",
      "Epoch 15/20\n",
      "108/108 [==============================] - 38s 352ms/step - loss: 0.5877 - accuracy: 0.6895\n",
      "Epoch 16/20\n",
      "108/108 [==============================] - 38s 350ms/step - loss: 0.6188 - accuracy: 0.6580\n",
      "Epoch 17/20\n",
      "108/108 [==============================] - 38s 351ms/step - loss: 0.6430 - accuracy: 0.6318\n",
      "Epoch 18/20\n",
      "108/108 [==============================] - 38s 350ms/step - loss: 0.6338 - accuracy: 0.6388\n",
      "Epoch 19/20\n",
      "108/108 [==============================] - 39s 358ms/step - loss: 0.6283 - accuracy: 0.6474\n",
      "Epoch 20/20\n",
      "108/108 [==============================] - 40s 369ms/step - loss: 0.6235 - accuracy: 0.6529\n"
     ]
    },
    {
     "data": {
      "text/plain": [
       "<keras.callbacks.History at 0x21827a562e0>"
      ]
     },
     "execution_count": 20,
     "metadata": {},
     "output_type": "execute_result"
    }
   ],
   "source": [
    "model.fit(arr_X_train, y_train, epochs=20, batch_size=64)\n"
   ]
  },
  {
   "cell_type": "code",
   "execution_count": 21,
   "metadata": {},
   "outputs": [
    {
     "name": "stdout",
     "output_type": "stream",
     "text": [
      "Model: \"sequential_4\"\n",
      "_________________________________________________________________\n",
      " Layer (type)                Output Shape              Param #   \n",
      "=================================================================\n",
      " lstm_8 (LSTM)               (None, 129, 100)          40800     \n",
      "                                                                 \n",
      " dropout_8 (Dropout)         (None, 129, 100)          0         \n",
      "                                                                 \n",
      " lstm_9 (LSTM)               (None, 129, 100)          80400     \n",
      "                                                                 \n",
      " dropout_9 (Dropout)         (None, 129, 100)          0         \n",
      "                                                                 \n",
      " dense_4 (Dense)             (None, 129, 1)            101       \n",
      "                                                                 \n",
      "=================================================================\n",
      "Total params: 121,301\n",
      "Trainable params: 121,301\n",
      "Non-trainable params: 0\n",
      "_________________________________________________________________\n",
      "None\n"
     ]
    }
   ],
   "source": [
    "print(model.summary())"
   ]
  },
  {
   "cell_type": "code",
   "execution_count": 22,
   "metadata": {},
   "outputs": [
    {
     "name": "stdout",
     "output_type": "stream",
     "text": [
      "Accuracy: 68.81\n"
     ]
    }
   ],
   "source": [
    "# evaluate the keras model\n",
    "scores = model.evaluate(arr_X_val, y_val, verbose=0)\n",
    "print('Accuracy: %.2f' % (scores[1]*100))"
   ]
  },
  {
   "cell_type": "code",
   "execution_count": 23,
   "metadata": {},
   "outputs": [
    {
     "name": "stdout",
     "output_type": "stream",
     "text": [
      "Accuracy: 65.95\n"
     ]
    }
   ],
   "source": [
    "# evaluate the keras model\n",
    "scores = model.evaluate(arr_X_test, y_test, verbose=0)\n",
    "print('Accuracy: %.2f' % (scores[1]*100))"
   ]
  },
  {
   "cell_type": "markdown",
   "metadata": {},
   "source": [
    "### Recurrent dropout"
   ]
  },
  {
   "cell_type": "code",
   "execution_count": 32,
   "metadata": {},
   "outputs": [],
   "source": [
    "model = Sequential()\n",
    "model.add(LSTM(50, activation='tanh', recurrent_dropout=0.2, return_sequences=True))\n",
    "model.add(Dropout(0.2))\n",
    "model.add(LSTM(50, activation='relu', recurrent_dropout=0.2, return_sequences=True))\n",
    "model.add(Dropout(0.2))\n",
    "model.add(Dense(1, activation='sigmoid'))\n",
    "\n",
    "model.compile(loss='binary_crossentropy',\n",
    "                optimizer='adam',\n",
    "                metrics=['accuracy'])"
   ]
  },
  {
   "cell_type": "code",
   "execution_count": 33,
   "metadata": {},
   "outputs": [
    {
     "name": "stdout",
     "output_type": "stream",
     "text": [
      "Epoch 1/50\n",
      "216/216 [==============================] - 41s 162ms/step - loss: 0.6701 - accuracy: 0.6015\n",
      "Epoch 2/50\n",
      "216/216 [==============================] - 35s 164ms/step - loss: 0.6578 - accuracy: 0.6177\n",
      "Epoch 3/50\n",
      "216/216 [==============================] - 35s 164ms/step - loss: 0.6536 - accuracy: 0.6244\n",
      "Epoch 4/50\n",
      "216/216 [==============================] - 35s 164ms/step - loss: 0.6474 - accuracy: 0.6306\n",
      "Epoch 5/50\n",
      "216/216 [==============================] - 37s 172ms/step - loss: 0.6470 - accuracy: 0.6296\n",
      "Epoch 6/50\n",
      "216/216 [==============================] - 37s 173ms/step - loss: 0.6451 - accuracy: 0.6310\n",
      "Epoch 7/50\n",
      "216/216 [==============================] - 37s 173ms/step - loss: 0.6439 - accuracy: 0.6332\n",
      "Epoch 8/50\n",
      "216/216 [==============================] - 37s 173ms/step - loss: 0.6379 - accuracy: 0.6304\n",
      "Epoch 9/50\n",
      "216/216 [==============================] - 37s 173ms/step - loss: 0.6259 - accuracy: 0.6339\n",
      "Epoch 10/50\n",
      "216/216 [==============================] - 37s 171ms/step - loss: 0.6158 - accuracy: 0.6514\n",
      "Epoch 11/50\n",
      "216/216 [==============================] - 37s 173ms/step - loss: 0.6068 - accuracy: 0.6724\n",
      "Epoch 12/50\n",
      "216/216 [==============================] - 38s 178ms/step - loss: 0.6035 - accuracy: 0.6787\n",
      "Epoch 13/50\n",
      "216/216 [==============================] - 38s 174ms/step - loss: 0.6004 - accuracy: 0.6787\n",
      "Epoch 14/50\n",
      "216/216 [==============================] - 37s 173ms/step - loss: 0.5981 - accuracy: 0.6832\n",
      "Epoch 15/50\n",
      "216/216 [==============================] - 39s 183ms/step - loss: 0.6005 - accuracy: 0.6770\n",
      "Epoch 16/50\n",
      "216/216 [==============================] - 37s 170ms/step - loss: 0.5944 - accuracy: 0.6816\n",
      "Epoch 17/50\n",
      "216/216 [==============================] - 36s 168ms/step - loss: 0.5921 - accuracy: 0.6860\n",
      "Epoch 18/50\n",
      "216/216 [==============================] - 37s 169ms/step - loss: 0.5908 - accuracy: 0.6837\n",
      "Epoch 19/50\n",
      "216/216 [==============================] - 39s 181ms/step - loss: 0.5904 - accuracy: 0.6842\n",
      "Epoch 20/50\n",
      "216/216 [==============================] - 39s 180ms/step - loss: 0.5902 - accuracy: 0.6863\n",
      "Epoch 21/50\n",
      "216/216 [==============================] - 38s 175ms/step - loss: 0.5872 - accuracy: 0.6866\n",
      "Epoch 22/50\n",
      "216/216 [==============================] - 38s 176ms/step - loss: 0.5870 - accuracy: 0.6886\n",
      "Epoch 23/50\n",
      "216/216 [==============================] - 38s 176ms/step - loss: 0.5903 - accuracy: 0.6847\n",
      "Epoch 24/50\n",
      "216/216 [==============================] - 39s 182ms/step - loss: 0.5872 - accuracy: 0.6865\n",
      "Epoch 25/50\n",
      "216/216 [==============================] - 38s 175ms/step - loss: 0.5870 - accuracy: 0.6856\n",
      "Epoch 26/50\n",
      "216/216 [==============================] - 39s 181ms/step - loss: 0.5853 - accuracy: 0.6922\n",
      "Epoch 27/50\n",
      "216/216 [==============================] - 38s 177ms/step - loss: 0.5849 - accuracy: 0.6901\n",
      "Epoch 28/50\n",
      "216/216 [==============================] - 38s 176ms/step - loss: 0.5842 - accuracy: 0.6913\n",
      "Epoch 29/50\n",
      "216/216 [==============================] - 38s 175ms/step - loss: 0.5850 - accuracy: 0.6875\n",
      "Epoch 30/50\n",
      "216/216 [==============================] - 38s 177ms/step - loss: 0.5865 - accuracy: 0.6886\n",
      "Epoch 31/50\n",
      "216/216 [==============================] - 38s 175ms/step - loss: 0.5848 - accuracy: 0.6924\n",
      "Epoch 32/50\n",
      "216/216 [==============================] - 38s 176ms/step - loss: 0.5817 - accuracy: 0.6920\n",
      "Epoch 33/50\n",
      "216/216 [==============================] - 40s 184ms/step - loss: 0.5849 - accuracy: 0.6888\n",
      "Epoch 34/50\n",
      "216/216 [==============================] - 39s 179ms/step - loss: 0.5834 - accuracy: 0.6893\n",
      "Epoch 35/50\n",
      "216/216 [==============================] - 38s 176ms/step - loss: 0.5840 - accuracy: 0.6911\n",
      "Epoch 36/50\n",
      "216/216 [==============================] - 39s 182ms/step - loss: 0.5827 - accuracy: 0.6931\n",
      "Epoch 37/50\n",
      "216/216 [==============================] - 38s 177ms/step - loss: 0.5829 - accuracy: 0.6951\n",
      "Epoch 38/50\n",
      "216/216 [==============================] - 38s 176ms/step - loss: 0.5839 - accuracy: 0.6911\n",
      "Epoch 39/50\n",
      "216/216 [==============================] - 38s 177ms/step - loss: 0.5826 - accuracy: 0.6939\n",
      "Epoch 40/50\n",
      "216/216 [==============================] - 38s 176ms/step - loss: 0.5831 - accuracy: 0.6908\n",
      "Epoch 41/50\n",
      "216/216 [==============================] - 38s 177ms/step - loss: 0.5830 - accuracy: 0.6928\n",
      "Epoch 42/50\n",
      "216/216 [==============================] - 36s 168ms/step - loss: 0.5816 - accuracy: 0.6910\n",
      "Epoch 43/50\n",
      "216/216 [==============================] - 33s 152ms/step - loss: 0.5829 - accuracy: 0.6910\n",
      "Epoch 44/50\n",
      "216/216 [==============================] - 33s 152ms/step - loss: 0.5817 - accuracy: 0.6919\n",
      "Epoch 45/50\n",
      "216/216 [==============================] - 33s 153ms/step - loss: 0.5833 - accuracy: 0.6923\n",
      "Epoch 46/50\n",
      "216/216 [==============================] - 33s 154ms/step - loss: 0.5798 - accuracy: 0.6952\n",
      "Epoch 47/50\n",
      "216/216 [==============================] - 33s 152ms/step - loss: 0.5800 - accuracy: 0.6953\n",
      "Epoch 48/50\n",
      "216/216 [==============================] - 33s 153ms/step - loss: 0.5820 - accuracy: 0.6915\n",
      "Epoch 49/50\n",
      "216/216 [==============================] - 33s 152ms/step - loss: 0.5806 - accuracy: 0.6962\n",
      "Epoch 50/50\n",
      "216/216 [==============================] - 33s 151ms/step - loss: 0.5812 - accuracy: 0.6924\n",
      "Model: \"sequential_8\"\n",
      "_________________________________________________________________\n",
      " Layer (type)                Output Shape              Param #   \n",
      "=================================================================\n",
      " lstm_16 (LSTM)              (None, 129, 50)           10400     \n",
      "                                                                 \n",
      " dropout_16 (Dropout)        (None, 129, 50)           0         \n",
      "                                                                 \n",
      " lstm_17 (LSTM)              (None, 129, 50)           20200     \n",
      "                                                                 \n",
      " dropout_17 (Dropout)        (None, 129, 50)           0         \n",
      "                                                                 \n",
      " dense_8 (Dense)             (None, 129, 1)            51        \n",
      "                                                                 \n",
      "=================================================================\n",
      "Total params: 30,651\n",
      "Trainable params: 30,651\n",
      "Non-trainable params: 0\n",
      "_________________________________________________________________\n",
      "None\n"
     ]
    }
   ],
   "source": [
    "model.fit(arr_X_train, y_train, epochs=50, batch_size=32)\n",
    "print(model.summary())"
   ]
  },
  {
   "cell_type": "code",
   "execution_count": 34,
   "metadata": {},
   "outputs": [
    {
     "name": "stdout",
     "output_type": "stream",
     "text": [
      "Accuracy: 68.90\n"
     ]
    }
   ],
   "source": [
    "# evaluate the keras model\n",
    "scores = model.evaluate(arr_X_val, y_val, verbose=0)\n",
    "print('Accuracy: %.2f' % (scores[1]*100))"
   ]
  },
  {
   "cell_type": "code",
   "execution_count": 35,
   "metadata": {},
   "outputs": [
    {
     "name": "stdout",
     "output_type": "stream",
     "text": [
      "Accuracy: 66.72\n"
     ]
    }
   ],
   "source": [
    "# evaluate the keras model\n",
    "scores = model.evaluate(arr_X_test, y_test, verbose=0)\n",
    "print('Accuracy: %.2f' % (scores[1]*100))"
   ]
  },
  {
   "cell_type": "markdown",
   "metadata": {},
   "source": [
    "### Tanh, relu, sigmoid with 100 epochs"
   ]
  },
  {
   "cell_type": "code",
   "execution_count": 36,
   "metadata": {},
   "outputs": [],
   "source": [
    "model = Sequential()\n",
    "model.add(LSTM(50, activation='tanh', recurrent_dropout=0.2, return_sequences=True))\n",
    "model.add(Dropout(0.2))\n",
    "model.add(LSTM(50, activation='relu', recurrent_dropout=0.2, return_sequences=True))\n",
    "model.add(Dropout(0.2))\n",
    "model.add(Dense(1, activation='sigmoid'))\n",
    "\n",
    "model.compile(loss='binary_crossentropy',\n",
    "                optimizer='adam',\n",
    "                metrics=['accuracy'])"
   ]
  },
  {
   "cell_type": "code",
   "execution_count": 37,
   "metadata": {},
   "outputs": [
    {
     "name": "stdout",
     "output_type": "stream",
     "text": [
      "Epoch 1/100\n",
      "216/216 [==============================] - 42s 165ms/step - loss: 0.6697 - accuracy: 0.6071\n",
      "Epoch 2/100\n",
      "216/216 [==============================] - 35s 161ms/step - loss: 0.6625 - accuracy: 0.6186\n",
      "Epoch 3/100\n",
      "216/216 [==============================] - 35s 162ms/step - loss: 0.6567 - accuracy: 0.6265\n",
      "Epoch 4/100\n",
      "216/216 [==============================] - 34s 158ms/step - loss: 0.6551 - accuracy: 0.6270\n",
      "Epoch 5/100\n",
      "216/216 [==============================] - 35s 160ms/step - loss: 0.6528 - accuracy: 0.6290\n",
      "Epoch 6/100\n",
      "216/216 [==============================] - 35s 161ms/step - loss: 0.6498 - accuracy: 0.6294\n",
      "Epoch 7/100\n",
      "216/216 [==============================] - 36s 167ms/step - loss: 0.6487 - accuracy: 0.6300\n",
      "Epoch 8/100\n",
      "216/216 [==============================] - 38s 178ms/step - loss: 0.6478 - accuracy: 0.6316\n",
      "Epoch 9/100\n",
      "216/216 [==============================] - 39s 179ms/step - loss: 0.6465 - accuracy: 0.6309\n",
      "Epoch 10/100\n",
      "216/216 [==============================] - 34s 156ms/step - loss: 0.6448 - accuracy: 0.6323\n",
      "Epoch 11/100\n",
      "216/216 [==============================] - 33s 155ms/step - loss: 0.6446 - accuracy: 0.6318\n",
      "Epoch 12/100\n",
      "216/216 [==============================] - 33s 155ms/step - loss: 0.6420 - accuracy: 0.6333\n",
      "Epoch 13/100\n",
      "216/216 [==============================] - 34s 156ms/step - loss: 0.6398 - accuracy: 0.6323\n",
      "Epoch 14/100\n",
      "216/216 [==============================] - 35s 161ms/step - loss: 0.6378 - accuracy: 0.6330\n",
      "Epoch 15/100\n",
      "216/216 [==============================] - 33s 154ms/step - loss: 0.6331 - accuracy: 0.6323\n",
      "Epoch 16/100\n",
      "216/216 [==============================] - 38s 176ms/step - loss: 0.6183 - accuracy: 0.6462\n",
      "Epoch 17/100\n",
      "216/216 [==============================] - 38s 177ms/step - loss: 0.6084 - accuracy: 0.6598\n",
      "Epoch 18/100\n",
      "216/216 [==============================] - 37s 172ms/step - loss: 0.6065 - accuracy: 0.6626\n",
      "Epoch 19/100\n",
      "216/216 [==============================] - 37s 171ms/step - loss: 0.6024 - accuracy: 0.6744\n",
      "Epoch 20/100\n",
      "216/216 [==============================] - 37s 172ms/step - loss: 0.6006 - accuracy: 0.6779\n",
      "Epoch 21/100\n",
      "216/216 [==============================] - 40s 186ms/step - loss: 0.5966 - accuracy: 0.6840\n",
      "Epoch 22/100\n",
      "216/216 [==============================] - 37s 173ms/step - loss: 0.5977 - accuracy: 0.6850\n",
      "Epoch 23/100\n",
      "216/216 [==============================] - 38s 176ms/step - loss: 0.5917 - accuracy: 0.6856\n",
      "Epoch 24/100\n",
      "216/216 [==============================] - 37s 171ms/step - loss: 0.5911 - accuracy: 0.6861\n",
      "Epoch 25/100\n",
      "216/216 [==============================] - 37s 170ms/step - loss: 0.5908 - accuracy: 0.6844\n",
      "Epoch 26/100\n",
      "216/216 [==============================] - 37s 170ms/step - loss: 0.5925 - accuracy: 0.6849\n",
      "Epoch 27/100\n",
      "216/216 [==============================] - 37s 170ms/step - loss: 0.5905 - accuracy: 0.6856\n",
      "Epoch 28/100\n",
      "216/216 [==============================] - 37s 171ms/step - loss: 0.5883 - accuracy: 0.6877\n",
      "Epoch 29/100\n",
      "216/216 [==============================] - 37s 170ms/step - loss: 0.5883 - accuracy: 0.6886\n",
      "Epoch 30/100\n",
      "216/216 [==============================] - 37s 172ms/step - loss: 0.5860 - accuracy: 0.6924\n",
      "Epoch 31/100\n",
      "216/216 [==============================] - 39s 181ms/step - loss: 0.5852 - accuracy: 0.6905\n",
      "Epoch 32/100\n",
      "216/216 [==============================] - 37s 169ms/step - loss: 0.5859 - accuracy: 0.6898\n",
      "Epoch 33/100\n",
      "216/216 [==============================] - 38s 178ms/step - loss: 0.5841 - accuracy: 0.6937\n",
      "Epoch 34/100\n",
      "216/216 [==============================] - 37s 172ms/step - loss: 0.5868 - accuracy: 0.6865\n",
      "Epoch 35/100\n",
      "216/216 [==============================] - 40s 184ms/step - loss: 0.5879 - accuracy: 0.6884\n",
      "Epoch 36/100\n",
      "216/216 [==============================] - 39s 180ms/step - loss: 0.5852 - accuracy: 0.6910\n",
      "Epoch 37/100\n",
      "216/216 [==============================] - 39s 181ms/step - loss: 0.5844 - accuracy: 0.6891\n",
      "Epoch 38/100\n",
      "216/216 [==============================] - 40s 186ms/step - loss: 0.5826 - accuracy: 0.6924\n",
      "Epoch 39/100\n",
      "216/216 [==============================] - 39s 181ms/step - loss: 0.5852 - accuracy: 0.6890\n",
      "Epoch 40/100\n",
      "216/216 [==============================] - 39s 180ms/step - loss: 0.5818 - accuracy: 0.6913\n",
      "Epoch 41/100\n",
      "216/216 [==============================] - 39s 182ms/step - loss: 0.5839 - accuracy: 0.6902\n",
      "Epoch 42/100\n",
      "216/216 [==============================] - 41s 190ms/step - loss: 0.5834 - accuracy: 0.6896\n",
      "Epoch 43/100\n",
      "216/216 [==============================] - 40s 186ms/step - loss: 0.5843 - accuracy: 0.6895\n",
      "Epoch 44/100\n",
      "216/216 [==============================] - 40s 186ms/step - loss: 0.5832 - accuracy: 0.6927\n",
      "Epoch 45/100\n",
      "216/216 [==============================] - 41s 189ms/step - loss: 0.5842 - accuracy: 0.6916\n",
      "Epoch 46/100\n",
      "216/216 [==============================] - 41s 189ms/step - loss: 0.5840 - accuracy: 0.6921\n",
      "Epoch 47/100\n",
      "216/216 [==============================] - 40s 187ms/step - loss: 0.5804 - accuracy: 0.6962\n",
      "Epoch 48/100\n",
      "216/216 [==============================] - 41s 189ms/step - loss: 0.5830 - accuracy: 0.6931\n",
      "Epoch 49/100\n",
      "216/216 [==============================] - 41s 190ms/step - loss: 0.5833 - accuracy: 0.6902\n",
      "Epoch 50/100\n",
      "216/216 [==============================] - 40s 184ms/step - loss: 0.5819 - accuracy: 0.6898\n",
      "Epoch 51/100\n",
      "216/216 [==============================] - 40s 184ms/step - loss: 0.5811 - accuracy: 0.6922\n",
      "Epoch 52/100\n",
      "216/216 [==============================] - 39s 182ms/step - loss: 0.5809 - accuracy: 0.6922\n",
      "Epoch 53/100\n",
      "216/216 [==============================] - 39s 182ms/step - loss: 0.5819 - accuracy: 0.6910\n",
      "Epoch 54/100\n",
      "216/216 [==============================] - 40s 185ms/step - loss: 0.5824 - accuracy: 0.6949\n",
      "Epoch 55/100\n",
      "216/216 [==============================] - 40s 184ms/step - loss: 0.5814 - accuracy: 0.6940\n",
      "Epoch 56/100\n",
      "216/216 [==============================] - 40s 183ms/step - loss: 0.5812 - accuracy: 0.6922\n",
      "Epoch 57/100\n",
      "216/216 [==============================] - 40s 184ms/step - loss: 0.5820 - accuracy: 0.6916\n",
      "Epoch 58/100\n",
      "216/216 [==============================] - 39s 181ms/step - loss: 0.5814 - accuracy: 0.6953\n",
      "Epoch 59/100\n",
      "216/216 [==============================] - 40s 184ms/step - loss: 0.5812 - accuracy: 0.6903\n",
      "Epoch 60/100\n",
      "216/216 [==============================] - 40s 183ms/step - loss: 0.5828 - accuracy: 0.6897\n",
      "Epoch 61/100\n",
      "216/216 [==============================] - 40s 185ms/step - loss: 0.5808 - accuracy: 0.6939\n",
      "Epoch 62/100\n",
      "216/216 [==============================] - 41s 190ms/step - loss: 0.5802 - accuracy: 0.6943\n",
      "Epoch 63/100\n",
      "216/216 [==============================] - 40s 183ms/step - loss: 0.5810 - accuracy: 0.6926\n",
      "Epoch 64/100\n",
      "216/216 [==============================] - 39s 182ms/step - loss: 0.5806 - accuracy: 0.6917\n",
      "Epoch 65/100\n",
      "216/216 [==============================] - 40s 183ms/step - loss: 0.5802 - accuracy: 0.6915\n",
      "Epoch 66/100\n",
      "216/216 [==============================] - 40s 187ms/step - loss: 0.5812 - accuracy: 0.6955\n",
      "Epoch 67/100\n",
      "216/216 [==============================] - 39s 182ms/step - loss: 0.5806 - accuracy: 0.6950\n",
      "Epoch 68/100\n",
      "216/216 [==============================] - 39s 183ms/step - loss: 0.5794 - accuracy: 0.6953\n",
      "Epoch 69/100\n",
      "216/216 [==============================] - 40s 184ms/step - loss: 0.5806 - accuracy: 0.6953\n",
      "Epoch 70/100\n",
      "216/216 [==============================] - 37s 173ms/step - loss: 0.5791 - accuracy: 0.6918\n",
      "Epoch 71/100\n",
      "216/216 [==============================] - 32s 149ms/step - loss: 0.5800 - accuracy: 0.6929\n",
      "Epoch 72/100\n",
      "216/216 [==============================] - 32s 149ms/step - loss: 0.5798 - accuracy: 0.6931\n",
      "Epoch 73/100\n",
      "216/216 [==============================] - 32s 149ms/step - loss: 0.5808 - accuracy: 0.6918\n",
      "Epoch 74/100\n",
      "216/216 [==============================] - 32s 149ms/step - loss: 0.5795 - accuracy: 0.6948\n",
      "Epoch 75/100\n",
      "216/216 [==============================] - 32s 149ms/step - loss: 0.5802 - accuracy: 0.6934\n",
      "Epoch 76/100\n",
      "216/216 [==============================] - 32s 148ms/step - loss: 0.5793 - accuracy: 0.6915\n",
      "Epoch 77/100\n",
      "216/216 [==============================] - 38s 176ms/step - loss: 0.5803 - accuracy: 0.6918\n",
      "Epoch 78/100\n",
      "216/216 [==============================] - 40s 183ms/step - loss: 0.5785 - accuracy: 0.6954\n",
      "Epoch 79/100\n",
      "216/216 [==============================] - 40s 183ms/step - loss: 0.5794 - accuracy: 0.6953\n",
      "Epoch 80/100\n",
      "216/216 [==============================] - 40s 183ms/step - loss: 0.5789 - accuracy: 0.6950\n",
      "Epoch 81/100\n",
      "216/216 [==============================] - 39s 182ms/step - loss: 0.5777 - accuracy: 0.6973\n",
      "Epoch 82/100\n",
      "216/216 [==============================] - 40s 184ms/step - loss: 0.5789 - accuracy: 0.6930\n",
      "Epoch 83/100\n",
      "216/216 [==============================] - 40s 184ms/step - loss: 0.5790 - accuracy: 0.6965\n",
      "Epoch 84/100\n",
      "216/216 [==============================] - 39s 182ms/step - loss: 0.5791 - accuracy: 0.6930\n",
      "Epoch 85/100\n",
      "216/216 [==============================] - 39s 182ms/step - loss: 0.5797 - accuracy: 0.6936\n",
      "Epoch 86/100\n",
      "216/216 [==============================] - 41s 190ms/step - loss: 0.5782 - accuracy: 0.6950\n",
      "Epoch 87/100\n",
      "216/216 [==============================] - 39s 181ms/step - loss: 0.5775 - accuracy: 0.6938\n",
      "Epoch 88/100\n",
      "216/216 [==============================] - 39s 180ms/step - loss: 0.5780 - accuracy: 0.6931\n",
      "Epoch 89/100\n",
      "216/216 [==============================] - 39s 179ms/step - loss: 0.5785 - accuracy: 0.6960\n",
      "Epoch 90/100\n",
      "216/216 [==============================] - 39s 179ms/step - loss: 0.5779 - accuracy: 0.6958\n",
      "Epoch 91/100\n",
      "216/216 [==============================] - 39s 179ms/step - loss: 0.5776 - accuracy: 0.6957\n",
      "Epoch 92/100\n",
      "216/216 [==============================] - 39s 181ms/step - loss: 0.5777 - accuracy: 0.6961\n",
      "Epoch 93/100\n",
      "216/216 [==============================] - 39s 179ms/step - loss: 0.5779 - accuracy: 0.6961\n",
      "Epoch 94/100\n",
      "216/216 [==============================] - 39s 179ms/step - loss: 0.5777 - accuracy: 0.6958\n",
      "Epoch 95/100\n",
      "216/216 [==============================] - 39s 180ms/step - loss: 0.5776 - accuracy: 0.6975\n",
      "Epoch 96/100\n",
      "216/216 [==============================] - 39s 180ms/step - loss: 0.5765 - accuracy: 0.6963\n",
      "Epoch 97/100\n",
      "216/216 [==============================] - 39s 179ms/step - loss: 0.5761 - accuracy: 0.6968\n",
      "Epoch 98/100\n",
      "216/216 [==============================] - 39s 180ms/step - loss: 0.5775 - accuracy: 0.6959\n",
      "Epoch 99/100\n",
      "216/216 [==============================] - 39s 179ms/step - loss: 0.5769 - accuracy: 0.6964\n",
      "Epoch 100/100\n",
      "216/216 [==============================] - 39s 179ms/step - loss: 0.5777 - accuracy: 0.6949\n"
     ]
    },
    {
     "data": {
      "text/plain": [
       "<keras.callbacks.History at 0x218346aa4c0>"
      ]
     },
     "execution_count": 37,
     "metadata": {},
     "output_type": "execute_result"
    }
   ],
   "source": [
    "model.fit(arr_X_train, y_train, epochs=100, batch_size=32)\n"
   ]
  },
  {
   "cell_type": "code",
   "execution_count": 38,
   "metadata": {},
   "outputs": [
    {
     "name": "stdout",
     "output_type": "stream",
     "text": [
      "Accuracy: 69.69\n"
     ]
    }
   ],
   "source": [
    "# evaluate the keras model\n",
    "scores = model.evaluate(arr_X_val, y_val, verbose=0)\n",
    "print('Accuracy: %.2f' % (scores[1]*100))"
   ]
  },
  {
   "cell_type": "code",
   "execution_count": 39,
   "metadata": {},
   "outputs": [
    {
     "name": "stdout",
     "output_type": "stream",
     "text": [
      "Accuracy: 66.98\n"
     ]
    }
   ],
   "source": [
    "# evaluate the keras model\n",
    "scores = model.evaluate(arr_X_test, y_test, verbose=0)\n",
    "print('Accuracy: %.2f' % (scores[1]*100))"
   ]
  },
  {
   "cell_type": "markdown",
   "metadata": {},
   "source": [
    "### Increase LSTM layers"
   ]
  },
  {
   "cell_type": "code",
   "execution_count": 6,
   "metadata": {},
   "outputs": [],
   "source": [
    "model = Sequential()\n",
    "model.add(LSTM(50, activation='tanh', recurrent_dropout=0.2, return_sequences=True))\n",
    "model.add(Dropout(0.2))\n",
    "model.add(LSTM(50, activation='relu', recurrent_dropout=0.2, return_sequences=True))\n",
    "model.add(Dropout(0.2))\n",
    "model.add(LSTM(50, activation='relu', recurrent_dropout=0.2, return_sequences=True))\n",
    "model.add(Dropout(0.2))\n",
    "model.add(Dense(1, activation='sigmoid'))\n",
    "\n",
    "model.compile(loss='binary_crossentropy',\n",
    "                optimizer='adam',\n",
    "                metrics=['accuracy'])"
   ]
  },
  {
   "cell_type": "code",
   "execution_count": 7,
   "metadata": {},
   "outputs": [
    {
     "name": "stdout",
     "output_type": "stream",
     "text": [
      "Epoch 1/100\n",
      "216/216 [==============================] - 76s 294ms/step - loss: 0.6730 - accuracy: 0.6025\n",
      "Epoch 2/100\n",
      "216/216 [==============================] - 66s 306ms/step - loss: 0.6612 - accuracy: 0.6204\n",
      "Epoch 3/100\n",
      "216/216 [==============================] - 66s 307ms/step - loss: 0.6578 - accuracy: 0.6253\n",
      "Epoch 4/100\n",
      "216/216 [==============================] - 64s 296ms/step - loss: 0.6537 - accuracy: 0.6278\n",
      "Epoch 5/100\n",
      "216/216 [==============================] - 62s 287ms/step - loss: 0.6529 - accuracy: 0.6290\n",
      "Epoch 6/100\n",
      "216/216 [==============================] - 63s 292ms/step - loss: 0.6500 - accuracy: 0.6292\n",
      "Epoch 7/100\n",
      "216/216 [==============================] - 65s 299ms/step - loss: 0.6502 - accuracy: 0.6288\n",
      "Epoch 8/100\n",
      "216/216 [==============================] - 67s 310ms/step - loss: 0.6460 - accuracy: 0.6313\n",
      "Epoch 9/100\n",
      "216/216 [==============================] - 66s 304ms/step - loss: 0.6456 - accuracy: 0.6316\n",
      "Epoch 10/100\n",
      "216/216 [==============================] - 64s 296ms/step - loss: 0.6449 - accuracy: 0.6324\n",
      "Epoch 11/100\n",
      "216/216 [==============================] - 61s 284ms/step - loss: 0.6519 - accuracy: 0.6300\n",
      "Epoch 12/100\n",
      "216/216 [==============================] - 61s 283ms/step - loss: 0.6484 - accuracy: 0.6311\n",
      "Epoch 13/100\n",
      "216/216 [==============================] - 65s 299ms/step - loss: 0.6441 - accuracy: 0.6317\n",
      "Epoch 14/100\n",
      "216/216 [==============================] - 66s 304ms/step - loss: 0.6445 - accuracy: 0.6317\n",
      "Epoch 15/100\n",
      "216/216 [==============================] - 64s 295ms/step - loss: 0.6419 - accuracy: 0.6317\n",
      "Epoch 16/100\n",
      "216/216 [==============================] - 63s 293ms/step - loss: 0.6383 - accuracy: 0.6336\n",
      "Epoch 17/100\n",
      "216/216 [==============================] - 62s 287ms/step - loss: 0.6392 - accuracy: 0.6326\n",
      "Epoch 18/100\n",
      "216/216 [==============================] - 65s 302ms/step - loss: 0.6244 - accuracy: 0.6430\n",
      "Epoch 19/100\n",
      "216/216 [==============================] - 65s 302ms/step - loss: 0.6158 - accuracy: 0.6654\n",
      "Epoch 20/100\n",
      "216/216 [==============================] - 60s 278ms/step - loss: 0.6064 - accuracy: 0.6781\n",
      "Epoch 21/100\n",
      "216/216 [==============================] - 66s 306ms/step - loss: 0.6053 - accuracy: 0.6684\n",
      "Epoch 22/100\n",
      "216/216 [==============================] - 63s 292ms/step - loss: 0.5998 - accuracy: 0.6733\n",
      "Epoch 23/100\n",
      "216/216 [==============================] - 67s 312ms/step - loss: 0.5964 - accuracy: 0.6776\n",
      "Epoch 24/100\n",
      "216/216 [==============================] - 68s 314ms/step - loss: 1.0254 - accuracy: 0.6689\n",
      "Epoch 25/100\n",
      "216/216 [==============================] - 62s 286ms/step - loss: 5.8140 - accuracy: 0.5808\n",
      "Epoch 26/100\n",
      "216/216 [==============================] - 65s 303ms/step - loss: 5.9663 - accuracy: 0.5663\n",
      "Epoch 27/100\n",
      "216/216 [==============================] - 67s 309ms/step - loss: 6.4556 - accuracy: 0.5384\n",
      "Epoch 28/100\n",
      "216/216 [==============================] - 60s 279ms/step - loss: 5.8926 - accuracy: 0.5821\n",
      "Epoch 29/100\n",
      "216/216 [==============================] - 60s 276ms/step - loss: 6.1706 - accuracy: 0.5611\n",
      "Epoch 30/100\n",
      "216/216 [==============================] - 59s 274ms/step - loss: 6.0684 - accuracy: 0.5679\n",
      "Epoch 31/100\n",
      "216/216 [==============================] - 62s 288ms/step - loss: 5.9006 - accuracy: 0.5815\n",
      "Epoch 32/100\n",
      "216/216 [==============================] - 60s 277ms/step - loss: 5.9113 - accuracy: 0.5797\n",
      "Epoch 33/100\n",
      "216/216 [==============================] - 62s 286ms/step - loss: 6.0131 - accuracy: 0.5725\n",
      "Epoch 34/100\n",
      "216/216 [==============================] - 69s 319ms/step - loss: 5.8518 - accuracy: 0.5868\n",
      "Epoch 35/100\n",
      "216/216 [==============================] - 69s 319ms/step - loss: 5.8622 - accuracy: 0.5860\n",
      "Epoch 36/100\n",
      "216/216 [==============================] - 63s 293ms/step - loss: 5.8716 - accuracy: 0.5845\n",
      "Epoch 37/100\n",
      "216/216 [==============================] - 61s 283ms/step - loss: 5.8652 - accuracy: 0.5846\n",
      "Epoch 38/100\n",
      "216/216 [==============================] - 65s 299ms/step - loss: 5.8530 - accuracy: 0.5841\n",
      "Epoch 39/100\n",
      "216/216 [==============================] - 59s 274ms/step - loss: 5.8503 - accuracy: 0.5831\n",
      "Epoch 40/100\n",
      "216/216 [==============================] - 59s 274ms/step - loss: 5.8575 - accuracy: 0.5824\n",
      "Epoch 41/100\n",
      "216/216 [==============================] - 59s 275ms/step - loss: 5.8379 - accuracy: 0.5830\n",
      "Epoch 42/100\n",
      "216/216 [==============================] - 64s 298ms/step - loss: 5.8238 - accuracy: 0.5836\n",
      "Epoch 43/100\n",
      "216/216 [==============================] - 60s 276ms/step - loss: 5.8305 - accuracy: 0.5831\n",
      "Epoch 44/100\n",
      "216/216 [==============================] - 59s 273ms/step - loss: 5.8166 - accuracy: 0.5847\n",
      "Epoch 45/100\n",
      "216/216 [==============================] - 58s 271ms/step - loss: 5.8168 - accuracy: 0.5841\n",
      "Epoch 46/100\n",
      "216/216 [==============================] - 59s 272ms/step - loss: 5.8160 - accuracy: 0.5818\n",
      "Epoch 47/100\n",
      "216/216 [==============================] - 59s 272ms/step - loss: 5.8260 - accuracy: 0.5777\n",
      "Epoch 48/100\n",
      "216/216 [==============================] - 57s 264ms/step - loss: 5.8460 - accuracy: 0.5745\n",
      "Epoch 49/100\n",
      "216/216 [==============================] - 60s 278ms/step - loss: 5.8697 - accuracy: 0.5696\n",
      "Epoch 50/100\n",
      "216/216 [==============================] - 58s 266ms/step - loss: 5.9231 - accuracy: 0.5662\n",
      "Epoch 51/100\n",
      "216/216 [==============================] - 59s 275ms/step - loss: 6.2344 - accuracy: 0.5447\n",
      "Epoch 52/100\n",
      "216/216 [==============================] - 61s 284ms/step - loss: 6.2004 - accuracy: 0.5473\n",
      "Epoch 53/100\n",
      "216/216 [==============================] - 60s 277ms/step - loss: 5.8920 - accuracy: 0.5715\n",
      "Epoch 54/100\n",
      "216/216 [==============================] - 55s 254ms/step - loss: 5.7873 - accuracy: 0.5834\n",
      "Epoch 55/100\n",
      "216/216 [==============================] - 53s 246ms/step - loss: 5.8210 - accuracy: 0.5785\n",
      "Epoch 56/100\n",
      "216/216 [==============================] - 64s 296ms/step - loss: 5.8324 - accuracy: 0.5774\n",
      "Epoch 57/100\n",
      "216/216 [==============================] - 62s 288ms/step - loss: 5.7575 - accuracy: 0.5825\n",
      "Epoch 58/100\n",
      "216/216 [==============================] - 61s 282ms/step - loss: 5.7547 - accuracy: 0.5864\n",
      "Epoch 59/100\n",
      "216/216 [==============================] - 61s 283ms/step - loss: 5.7654 - accuracy: 0.5880\n",
      "Epoch 60/100\n",
      "216/216 [==============================] - 66s 308ms/step - loss: 5.7669 - accuracy: 0.5865\n",
      "Epoch 61/100\n",
      "216/216 [==============================] - 62s 285ms/step - loss: 5.7847 - accuracy: 0.5832\n",
      "Epoch 62/100\n",
      "216/216 [==============================] - 59s 274ms/step - loss: 5.7829 - accuracy: 0.5834\n",
      "Epoch 63/100\n",
      "216/216 [==============================] - 61s 280ms/step - loss: 5.7328 - accuracy: 0.5881\n",
      "Epoch 64/100\n",
      "216/216 [==============================] - 60s 278ms/step - loss: 5.7194 - accuracy: 0.5880\n",
      "Epoch 65/100\n",
      "216/216 [==============================] - 73s 338ms/step - loss: 5.7085 - accuracy: 0.5868\n",
      "Epoch 66/100\n",
      "216/216 [==============================] - 65s 301ms/step - loss: 5.7192 - accuracy: 0.5825\n",
      "Epoch 67/100\n",
      "216/216 [==============================] - 61s 281ms/step - loss: 5.6792 - accuracy: 0.5882\n",
      "Epoch 68/100\n",
      "216/216 [==============================] - 74s 343ms/step - loss: 5.8742 - accuracy: 0.5688\n",
      "Epoch 69/100\n",
      "216/216 [==============================] - 73s 338ms/step - loss: 5.8828 - accuracy: 0.5709\n",
      "Epoch 70/100\n",
      "216/216 [==============================] - 78s 359ms/step - loss: 7.5312 - accuracy: 0.4699\n",
      "Epoch 71/100\n",
      "216/216 [==============================] - 83s 383ms/step - loss: 6.9642 - accuracy: 0.5046\n",
      "Epoch 72/100\n",
      "216/216 [==============================] - 85s 393ms/step - loss: 6.0539 - accuracy: 0.5694\n",
      "Epoch 73/100\n",
      "216/216 [==============================] - 77s 355ms/step - loss: 5.8142 - accuracy: 0.5837\n",
      "Epoch 74/100\n",
      "216/216 [==============================] - 71s 327ms/step - loss: 5.8032 - accuracy: 0.5839\n",
      "Epoch 75/100\n",
      "216/216 [==============================] - 65s 302ms/step - loss: 5.7649 - accuracy: 0.5839\n",
      "Epoch 76/100\n",
      "216/216 [==============================] - 71s 327ms/step - loss: 5.7886 - accuracy: 0.5791\n",
      "Epoch 77/100\n",
      "216/216 [==============================] - 66s 304ms/step - loss: 5.7278 - accuracy: 0.5901\n",
      "Epoch 78/100\n",
      "216/216 [==============================] - 66s 304ms/step - loss: 5.7219 - accuracy: 0.5918\n",
      "Epoch 79/100\n",
      "216/216 [==============================] - 72s 332ms/step - loss: 5.7201 - accuracy: 0.5897\n",
      "Epoch 80/100\n",
      "216/216 [==============================] - 70s 324ms/step - loss: 5.7538 - accuracy: 0.5849\n",
      "Epoch 81/100\n",
      "216/216 [==============================] - 72s 334ms/step - loss: 5.7082 - accuracy: 0.5884\n",
      "Epoch 82/100\n",
      "216/216 [==============================] - 75s 348ms/step - loss: 5.7828 - accuracy: 0.5805\n",
      "Epoch 83/100\n",
      "216/216 [==============================] - 60s 279ms/step - loss: 6.1468 - accuracy: 0.5535\n",
      "Epoch 84/100\n",
      "216/216 [==============================] - 60s 276ms/step - loss: 5.8699 - accuracy: 0.5762\n",
      "Epoch 85/100\n",
      "216/216 [==============================] - 66s 307ms/step - loss: 5.8570 - accuracy: 0.5805\n",
      "Epoch 86/100\n",
      "216/216 [==============================] - 60s 277ms/step - loss: 5.8233 - accuracy: 0.5822\n",
      "Epoch 87/100\n",
      "216/216 [==============================] - 59s 274ms/step - loss: 5.8238 - accuracy: 0.5801\n",
      "Epoch 88/100\n",
      "216/216 [==============================] - 60s 277ms/step - loss: 5.7833 - accuracy: 0.5799\n",
      "Epoch 89/100\n",
      "216/216 [==============================] - 62s 287ms/step - loss: 5.7821 - accuracy: 0.5789\n",
      "Epoch 90/100\n",
      "216/216 [==============================] - 60s 276ms/step - loss: 5.7892 - accuracy: 0.5759\n",
      "Epoch 91/100\n",
      "216/216 [==============================] - 58s 269ms/step - loss: 5.6413 - accuracy: 0.5855\n",
      "Epoch 92/100\n",
      "216/216 [==============================] - 59s 271ms/step - loss: 5.5763 - accuracy: 0.5794\n",
      "Epoch 93/100\n",
      "216/216 [==============================] - 58s 270ms/step - loss: 6.1772 - accuracy: 0.5446\n",
      "Epoch 94/100\n",
      "216/216 [==============================] - 59s 274ms/step - loss: 6.3224 - accuracy: 0.5344\n",
      "Epoch 95/100\n",
      "216/216 [==============================] - 63s 290ms/step - loss: 5.7928 - accuracy: 0.5512\n",
      "Epoch 96/100\n",
      "216/216 [==============================] - 70s 326ms/step - loss: 5.9467 - accuracy: 0.5374\n",
      "Epoch 97/100\n",
      "216/216 [==============================] - 65s 302ms/step - loss: 5.9536 - accuracy: 0.5424\n",
      "Epoch 98/100\n",
      "216/216 [==============================] - 64s 294ms/step - loss: 5.5623 - accuracy: 0.5696\n",
      "Epoch 99/100\n",
      "216/216 [==============================] - 62s 289ms/step - loss: 5.4570 - accuracy: 0.5781\n",
      "Epoch 100/100\n",
      "216/216 [==============================] - 57s 266ms/step - loss: 5.4520 - accuracy: 0.5744\n"
     ]
    },
    {
     "data": {
      "text/plain": [
       "<keras.callbacks.History at 0x244ce02ea60>"
      ]
     },
     "execution_count": 7,
     "metadata": {},
     "output_type": "execute_result"
    }
   ],
   "source": [
    "model.fit(arr_X_train, y_train, epochs=100, batch_size=32)\n"
   ]
  },
  {
   "cell_type": "code",
   "execution_count": 8,
   "metadata": {},
   "outputs": [
    {
     "name": "stdout",
     "output_type": "stream",
     "text": [
      "Accuracy: 58.02\n"
     ]
    }
   ],
   "source": [
    "# evaluate the keras model\n",
    "scores = model.evaluate(arr_X_val, y_val, verbose=0)\n",
    "print('Accuracy: %.2f' % (scores[1]*100))"
   ]
  },
  {
   "cell_type": "code",
   "execution_count": 9,
   "metadata": {},
   "outputs": [
    {
     "name": "stdout",
     "output_type": "stream",
     "text": [
      "Accuracy: 57.59\n"
     ]
    }
   ],
   "source": [
    "# evaluate the keras model\n",
    "scores = model.evaluate(arr_X_test, y_test, verbose=0)\n",
    "print('Accuracy: %.2f' % (scores[1]*100))"
   ]
  }
 ],
 "metadata": {
  "kernelspec": {
   "display_name": "Python 3.9.4 64-bit",
   "language": "python",
   "name": "python3"
  },
  "language_info": {
   "codemirror_mode": {
    "name": "ipython",
    "version": 3
   },
   "file_extension": ".py",
   "mimetype": "text/x-python",
   "name": "python",
   "nbconvert_exporter": "python",
   "pygments_lexer": "ipython3",
   "version": "3.9.4"
  },
  "orig_nbformat": 4,
  "vscode": {
   "interpreter": {
    "hash": "81794d4967e6c3204c66dcd87b604927b115b27c00565d3d43f05ba2f3a2cb0d"
   }
  }
 },
 "nbformat": 4,
 "nbformat_minor": 2
}
