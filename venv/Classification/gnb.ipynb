{
 "cells": [
  {
   "cell_type": "markdown",
   "metadata": {},
   "source": [
    "# Gaussian Naive Bayes Classifier"
   ]
  },
  {
   "cell_type": "code",
   "execution_count": 3,
   "metadata": {
    "id": "GfRNaUIT1JWu"
   },
   "outputs": [],
   "source": [
    "import pandas as pd\n",
    "df = pd.read_csv('../FeatureEngineering/MetaData/data6_&_odds.csv')\n",
    "df.dropna(inplace=True)"
   ]
  },
  {
   "cell_type": "code",
   "execution_count": 4,
   "metadata": {},
   "outputs": [],
   "source": [
    "import warnings\n",
    "warnings.filterwarnings('ignore')"
   ]
  },
  {
   "cell_type": "code",
   "execution_count": 5,
   "metadata": {
    "id": "s69cmwcx2wXm"
   },
   "outputs": [],
   "source": [
    "from sklearn.model_selection import train_test_split\n",
    "from sklearn.metrics import accuracy_score\n",
    "from sklearn.naive_bayes import GaussianNB\n",
    "from sklearn.metrics import classification_report"
   ]
  },
  {
   "cell_type": "code",
   "execution_count": 6,
   "metadata": {
    "id": "SIgUDGRX0Lex"
   },
   "outputs": [],
   "source": [
    "train_data = df.loc[(df.season <= 2013) & (df.season >= 2007)]\n",
    "valid_data = df.loc[(df.season > 2013) & (df.season < 2016)]\n",
    "test_data = df.loc[df.season >= 2016]\n",
    "full_train_data = pd.concat([train_data, valid_data], axis=0)\n",
    "\n",
    "X_train, y_train = train_data.drop(columns=[\"game_date_est\",\"season\",\"game_id\",\"home_team\",\"visitor_team\",\"home_team_id\",\"visitor_team_id\",\"home_team_wins\",\"conference\",\"conference_visitor\"]), train_data.home_team_wins\n",
    "X_val, y_val = valid_data.drop(columns=[\"game_date_est\",\"season\",\"game_id\",\"home_team\",\"visitor_team\",\"home_team_id\",\"visitor_team_id\",\"home_team_wins\",\"conference\",\"conference_visitor\"]), valid_data.home_team_wins\n",
    "X_test, y_test = test_data.drop(columns=[\"game_date_est\",\"season\",\"game_id\",\"home_team\",\"visitor_team\",\"home_team_id\",\"visitor_team_id\",\"home_team_wins\",\"conference\",\"conference_visitor\"]), test_data.home_team_wins\n",
    "\n"
   ]
  },
  {
   "cell_type": "markdown",
   "metadata": {},
   "source": [
    "### GNB with Low Correlation Data"
   ]
  },
  {
   "cell_type": "code",
   "execution_count": 6,
   "metadata": {},
   "outputs": [],
   "source": [
    "X_train_cor = train_data[['HG_7days','AG_7days','back2back','HG_7days_VISITOR','AG_7days_VISITOR','back2back_visitor',\n",
    "'home_elo','visitor_elo','odds_home','odds_away','elo_diff','diff_avg_pts_home','diff_avg_pts_away',\n",
    "'diff_avg_fg3_pct_away','diff_avg_reb_home']]\n",
    "y_train_cor = y_train\n",
    "\n",
    "X_val_cor = valid_data[['HG_7days','AG_7days','back2back','HG_7days_VISITOR','AG_7days_VISITOR','back2back_visitor',\n",
    "'home_elo','visitor_elo','odds_home','odds_away','elo_diff','diff_avg_pts_home','diff_avg_pts_away',\n",
    "'diff_avg_fg3_pct_away','diff_avg_reb_home']]\n",
    "y_val_cor = y_val\n",
    "\n",
    "win_accuracy = {}"
   ]
  },
  {
   "cell_type": "code",
   "execution_count": 7,
   "metadata": {
    "colab": {
     "base_uri": "https://localhost:8080/"
    },
    "executionInfo": {
     "elapsed": 315,
     "status": "ok",
     "timestamp": 1642151613874,
     "user": {
      "displayName": "Spiros armeniakos",
      "photoUrl": "https://lh3.googleusercontent.com/a/default-user=s64",
      "userId": "15384621728629897673"
     },
     "user_tz": -120
    },
    "id": "CJkmcz0VxxT5",
    "outputId": "8482239f-21b9-48ee-cc87-fdf72e7993fd"
   },
   "outputs": [
    {
     "name": "stdout",
     "output_type": "stream",
     "text": [
      "Classification Accuracy on the NBA Games Dataset (40% test set)\n",
      "\n",
      "gaussian naive bayes 0.6925619834710743\n"
     ]
    }
   ],
   "source": [
    "from sklearn.naive_bayes import GaussianNB\n",
    "gnb = GaussianNB()\n",
    "# κάνουμε εκπαίδευση (fit) δηλαδή ουσιαστικά υπολογίζουμε μέση τιμή και διακύμανση για όλα τα χαρακτηριστικά και κλάσεις στο training set\n",
    "model = gnb.fit(X_train_cor, y_train_cor)\n",
    "# η GaussianNB έχει builtin μέθοδο υπολογισμό accuracy. Αποθηκεύουμε την τιμή της στον πίνακά μας με τα αποτελέσματα από τα άλλα classifiers\n",
    "win_accuracy['gaussian naive bayes'] = gnb.score(X_val_cor, y_val_cor)\n",
    "# και ξανατυπώνουμε τα sorted αποτελέσματα\n",
    "print(\"Classification Accuracy on the NBA Games Dataset (40% test set)\\n\")\n",
    "sorted_accuracy = [(k, win_accuracy[k]) for k in sorted(win_accuracy, key=win_accuracy.get, reverse=True)]\n",
    "for k, v in sorted_accuracy:\n",
    "  print(k,v)"
   ]
  },
  {
   "cell_type": "code",
   "execution_count": 8,
   "metadata": {
    "colab": {
     "base_uri": "https://localhost:8080/"
    },
    "executionInfo": {
     "elapsed": 282,
     "status": "ok",
     "timestamp": 1642158431794,
     "user": {
      "displayName": "Spiros armeniakos",
      "photoUrl": "https://lh3.googleusercontent.com/a/default-user=s64",
      "userId": "15384621728629897673"
     },
     "user_tz": -120
    },
    "id": "Q8ejDSo62yZL",
    "outputId": "21fe8bcb-24fa-469f-bd79-eaf1e95c98c9"
   },
   "outputs": [
    {
     "name": "stdout",
     "output_type": "stream",
     "text": [
      "Gaussian Naive Bayes model accuracy(in %): 0.6925619834710743\n",
      "These are the results for the model\n",
      "\n",
      "              precision    recall  f1-score   support\n",
      "\n",
      "   home_loss       0.63      0.65      0.64      1011\n",
      "    home_win       0.74      0.72      0.73      1409\n",
      "\n",
      "    accuracy                           0.69      2420\n",
      "   macro avg       0.68      0.69      0.69      2420\n",
      "weighted avg       0.69      0.69      0.69      2420\n",
      "\n"
     ]
    }
   ],
   "source": [
    "# making predictions on the validation set\n",
    "y_pred = gnb.predict(X_val_cor)\n",
    "target_names = ['home_loss', 'home_win']\n",
    "\n",
    "# comparing actual response values (y_test) with predicted response values (y_pred)\n",
    "print(\"Gaussian Naive Bayes model accuracy(in %):\", accuracy_score(y_val_cor, y_pred))\n",
    "print(f\"These are the results for the model\\n\")\n",
    "print(classification_report(y_val_cor, y_pred, target_names=target_names))"
   ]
  },
  {
   "cell_type": "markdown",
   "metadata": {},
   "source": [
    "### GNB with Univariate Statistical Tests for Feature Selection"
   ]
  },
  {
   "cell_type": "markdown",
   "metadata": {},
   "source": [
    "Μετά από εφαρμογή των tests σε ξεχωριστό αρχείο με όνομα 'univariate_selection' καταλήξαμε μέσω grid search και χρήση της SelectKBest στα εξής αποτελέσματα : 5 features with function <mutual_info_classif>"
   ]
  },
  {
   "cell_type": "code",
   "execution_count": 9,
   "metadata": {},
   "outputs": [],
   "source": [
    "X_train_uni = train_data[['diff_curr_win_pct','diff_curr_away_record','odds_home','odds_away','elo_diff']]\n",
    "y_train_uni = y_train\n",
    "\n",
    "X_val_uni = valid_data[['diff_curr_win_pct','diff_curr_away_record','odds_home','odds_away','elo_diff']]\n",
    "y_val_uni = y_val\n",
    "\n",
    "win_accuracy = {}"
   ]
  },
  {
   "cell_type": "code",
   "execution_count": 10,
   "metadata": {},
   "outputs": [
    {
     "name": "stdout",
     "output_type": "stream",
     "text": [
      "Classification Accuracy on the NBA Games Dataset (40% test set)\n",
      "\n",
      "gaussian naive bayes 0.8198347107438017\n"
     ]
    }
   ],
   "source": [
    "from sklearn.naive_bayes import GaussianNB\n",
    "gnb = GaussianNB()\n",
    "# κάνουμε εκπαίδευση (fit) δηλαδή ουσιαστικά υπολογίζουμε μέση τιμή και διακύμανση για όλα τα χαρακτηριστικά και κλάσεις στο training set\n",
    "model = gnb.fit(X_train_uni, y_train_uni)\n",
    "# η GaussianNB έχει builtin μέθοδο υπολογισμό accuracy. Αποθηκεύουμε την τιμή της στον πίνακά μας με τα αποτελέσματα από τα άλλα classifiers\n",
    "win_accuracy['gaussian naive bayes'] = gnb.score(X_val_uni, y_val_uni)\n",
    "# και ξανατυπώνουμε τα sorted αποτελέσματα\n",
    "print(\"Classification Accuracy on the NBA Games Dataset (40% test set)\\n\")\n",
    "sorted_accuracy = [(k, win_accuracy[k]) for k in sorted(win_accuracy, key=win_accuracy.get, reverse=True)]\n",
    "for k, v in sorted_accuracy:\n",
    "  print(k,v)"
   ]
  },
  {
   "cell_type": "code",
   "execution_count": 11,
   "metadata": {},
   "outputs": [
    {
     "name": "stdout",
     "output_type": "stream",
     "text": [
      "Gaussian Naive Bayes model accuracy(in %): 0.8198347107438017\n",
      "These are the results for the model\n",
      "\n",
      "              precision    recall  f1-score   support\n",
      "\n",
      "   home_loss       0.79      0.78      0.78      1011\n",
      "    home_win       0.84      0.85      0.85      1409\n",
      "\n",
      "    accuracy                           0.82      2420\n",
      "   macro avg       0.82      0.81      0.81      2420\n",
      "weighted avg       0.82      0.82      0.82      2420\n",
      "\n"
     ]
    }
   ],
   "source": [
    "# making predictions on the validation set\n",
    "y_pred = gnb.predict(X_val_uni)\n",
    "target_names = ['home_loss', 'home_win']\n",
    "\n",
    "# comparing actual response values (y_test) with predicted response values (y_pred)\n",
    "print(\"Gaussian Naive Bayes model accuracy(in %):\", accuracy_score(y_val_uni, y_pred))\n",
    "print(f\"These are the results for the model\\n\")\n",
    "print(classification_report(y_val_uni, y_pred, target_names=target_names))"
   ]
  },
  {
   "cell_type": "markdown",
   "metadata": {},
   "source": [
    "### GNB with ExtraTreesClassifier"
   ]
  },
  {
   "cell_type": "markdown",
   "metadata": {},
   "source": [
    "#### Scaled data"
   ]
  },
  {
   "cell_type": "code",
   "execution_count": 12,
   "metadata": {},
   "outputs": [],
   "source": [
    "X_train_extra = train_data[['score_home','score_away','odds_home','odds_away','home_elo','visitor_elo','elo_diff','eff_diff','eff_visitor',\n",
    "'diff_home_record_last_season','ROAD_RECORD_away','ROAD_RECORD_home','diff_road_record_last_season','diff_win_pct_prev_season','W_PCT_home',\n",
    "'W_PCT_away','diff_curr_away_record','HOME_RECORD_home','diff_curr_home_record','diff_curr_win_pct']]\n",
    "y_train_extra = y_train\n",
    "\n",
    "X_val_extra = valid_data[['score_home','score_away','odds_home','odds_away','home_elo','visitor_elo','elo_diff','eff_diff','eff_visitor',\n",
    "'diff_home_record_last_season','ROAD_RECORD_away','ROAD_RECORD_home','diff_road_record_last_season','diff_win_pct_prev_season','W_PCT_home',\n",
    "'W_PCT_away','diff_curr_away_record','HOME_RECORD_home','diff_curr_home_record','diff_curr_win_pct']]\n",
    "y_val_extra = y_val\n",
    "\n",
    "win_accuracy = {}"
   ]
  },
  {
   "cell_type": "code",
   "execution_count": 13,
   "metadata": {},
   "outputs": [
    {
     "name": "stdout",
     "output_type": "stream",
     "text": [
      "Classification Accuracy on the NBA Games Dataset (40% test set)\n",
      "\n",
      "gaussian naive bayes 0.7256198347107438\n"
     ]
    }
   ],
   "source": [
    "from sklearn.naive_bayes import GaussianNB\n",
    "gnb = GaussianNB()\n",
    "# κάνουμε εκπαίδευση (fit) δηλαδή ουσιαστικά υπολογίζουμε μέση τιμή και διακύμανση για όλα τα χαρακτηριστικά και κλάσεις στο training set\n",
    "model = gnb.fit(X_train_extra, y_train_extra)\n",
    "# η GaussianNB έχει builtin μέθοδο υπολογισμό accuracy. Αποθηκεύουμε την τιμή της στον πίνακά μας με τα αποτελέσματα από τα άλλα classifiers\n",
    "win_accuracy['gaussian naive bayes'] = gnb.score(X_val_extra, y_val_extra)\n",
    "# και ξανατυπώνουμε τα sorted αποτελέσματα\n",
    "print(\"Classification Accuracy on the NBA Games Dataset (40% test set)\\n\")\n",
    "sorted_accuracy = [(k, win_accuracy[k]) for k in sorted(win_accuracy, key=win_accuracy.get, reverse=True)]\n",
    "for k, v in sorted_accuracy:\n",
    "  print(k,v)"
   ]
  },
  {
   "cell_type": "code",
   "execution_count": 14,
   "metadata": {},
   "outputs": [
    {
     "name": "stdout",
     "output_type": "stream",
     "text": [
      "Gaussian Naive Bayes model accuracy(in %): 0.7256198347107438\n",
      "These are the results for the model\n",
      "\n",
      "              precision    recall  f1-score   support\n",
      "\n",
      "   home_loss       0.66      0.72      0.69      1011\n",
      "    home_win       0.78      0.73      0.76      1409\n",
      "\n",
      "    accuracy                           0.73      2420\n",
      "   macro avg       0.72      0.72      0.72      2420\n",
      "weighted avg       0.73      0.73      0.73      2420\n",
      "\n"
     ]
    }
   ],
   "source": [
    "# making predictions on the validation set\n",
    "y_pred = gnb.predict(X_val_extra)\n",
    "target_names = ['home_loss', 'home_win']\n",
    "\n",
    "# comparing actual response values (y_test) with predicted response values (y_pred)\n",
    "print(\"Gaussian Naive Bayes model accuracy(in %):\", accuracy_score(y_val_extra, y_pred))\n",
    "print(f\"These are the results for the model\\n\")\n",
    "print(classification_report(y_val_extra, y_pred, target_names=target_names))"
   ]
  },
  {
   "cell_type": "markdown",
   "metadata": {},
   "source": [
    "#### Initial data (unchanged)"
   ]
  },
  {
   "cell_type": "code",
   "execution_count": 16,
   "metadata": {},
   "outputs": [],
   "source": [
    "X_train_extra = train_data[['home_elo','visitor_elo','elo_diff','eff_diff','eff_visitor','diff_win_pct_7_last_games','top_player_diff',\n",
    "'diff_home_record_last_season','HOME_RECORD_away','ROAD_RECORD_home','diff_road_record_last_season','diff_win_pct_prev_season','W_PCT_home',\n",
    "'W_PCT_away','diff_curr_away_record','HOME_RECORD_home','diff_curr_home_record','diff_curr_win_pct','WIN_PRCT_away_7g','WIN_PRCT_home_7g']]\n",
    "y_train_extra = y_train\n",
    "\n",
    "X_val_extra = valid_data[['home_elo','visitor_elo','elo_diff','eff_diff','eff_visitor','diff_win_pct_7_last_games','top_player_diff',\n",
    "'diff_home_record_last_season','HOME_RECORD_away','ROAD_RECORD_home','diff_road_record_last_season','diff_win_pct_prev_season','W_PCT_home',\n",
    "'W_PCT_away','diff_curr_away_record','HOME_RECORD_home','diff_curr_home_record','diff_curr_win_pct','WIN_PRCT_away_7g','WIN_PRCT_home_7g']]\n",
    "y_val_extra = y_val\n",
    "\n",
    "win_accuracy = {}"
   ]
  },
  {
   "cell_type": "code",
   "execution_count": 17,
   "metadata": {},
   "outputs": [
    {
     "name": "stdout",
     "output_type": "stream",
     "text": [
      "Classification Accuracy on the NBA Games Dataset (40% test set)\n",
      "\n",
      "gaussian naive bayes 0.6789256198347108\n"
     ]
    }
   ],
   "source": [
    "from sklearn.naive_bayes import GaussianNB\n",
    "gnb = GaussianNB()\n",
    "# κάνουμε εκπαίδευση (fit) δηλαδή ουσιαστικά υπολογίζουμε μέση τιμή και διακύμανση για όλα τα χαρακτηριστικά και κλάσεις στο training set\n",
    "model = gnb.fit(X_train_extra, y_train_extra)\n",
    "# η GaussianNB έχει builtin μέθοδο υπολογισμό accuracy. Αποθηκεύουμε την τιμή της στον πίνακά μας με τα αποτελέσματα από τα άλλα classifiers\n",
    "win_accuracy['gaussian naive bayes'] = gnb.score(X_val_extra, y_val_extra)\n",
    "# και ξανατυπώνουμε τα sorted αποτελέσματα\n",
    "print(\"Classification Accuracy on the NBA Games Dataset (40% test set)\\n\")\n",
    "sorted_accuracy = [(k, win_accuracy[k]) for k in sorted(win_accuracy, key=win_accuracy.get, reverse=True)]\n",
    "for k, v in sorted_accuracy:\n",
    "  print(k,v)"
   ]
  },
  {
   "cell_type": "code",
   "execution_count": 18,
   "metadata": {},
   "outputs": [
    {
     "name": "stdout",
     "output_type": "stream",
     "text": [
      "Gaussian Naive Bayes model accuracy(in %): 0.6789256198347108\n",
      "These are the results for the model\n",
      "\n",
      "              precision    recall  f1-score   support\n",
      "\n",
      "   home_loss       0.61      0.65      0.63      1011\n",
      "    home_win       0.74      0.70      0.72      1409\n",
      "\n",
      "    accuracy                           0.68      2420\n",
      "   macro avg       0.67      0.68      0.67      2420\n",
      "weighted avg       0.68      0.68      0.68      2420\n",
      "\n"
     ]
    }
   ],
   "source": [
    "# making predictions on the validation set\n",
    "y_pred = gnb.predict(X_val_extra)\n",
    "target_names = ['home_loss', 'home_win']\n",
    "\n",
    "# comparing actual response values (y_test) with predicted response values (y_pred)\n",
    "print(\"Gaussian Naive Bayes model accuracy(in %):\", accuracy_score(y_val_extra, y_pred))\n",
    "print(f\"These are the results for the model\\n\")\n",
    "print(classification_report(y_val_extra, y_pred, target_names=target_names))"
   ]
  },
  {
   "cell_type": "markdown",
   "metadata": {},
   "source": [
    "### GNB with PCA"
   ]
  },
  {
   "cell_type": "code",
   "execution_count": 1,
   "metadata": {},
   "outputs": [],
   "source": [
    "from sklearn.preprocessing import StandardScaler\n",
    "from sklearn.decomposition import PCA"
   ]
  },
  {
   "cell_type": "code",
   "execution_count": 8,
   "metadata": {},
   "outputs": [],
   "source": [
    "scaler = StandardScaler()\n",
    "X_train = scaler.fit_transform(X_train)\n",
    "X_val = scaler.transform(X_val)\n",
    "X_test = scaler.transform(X_test)"
   ]
  },
  {
   "cell_type": "code",
   "execution_count": 26,
   "metadata": {},
   "outputs": [],
   "source": [
    "# Choose number of components = 30 based on a feature selection coding process we already executed\n",
    "n_components = 30\n",
    "\n",
    "pca = PCA(n_components=n_components).fit(X_train)\n",
    "X_train_pca = pca.transform(X_train)\n",
    "X_val_pca = pca.transform(X_val)\n",
    "X_test_pca = pca.transform(X_test)"
   ]
  },
  {
   "cell_type": "code",
   "execution_count": 27,
   "metadata": {},
   "outputs": [
    {
     "name": "stdout",
     "output_type": "stream",
     "text": [
      "Classification Accuracy on the NBA Games Dataset (40% test set)\n",
      "\n",
      "gaussian naive bayes 0.702892561983471\n"
     ]
    }
   ],
   "source": [
    "win_accuracy = {}\n",
    "\n",
    "from sklearn.naive_bayes import GaussianNB\n",
    "gnb = GaussianNB()\n",
    "# κάνουμε εκπαίδευση (fit) δηλαδή ουσιαστικά υπολογίζουμε μέση τιμή και διακύμανση για όλα τα χαρακτηριστικά και κλάσεις στο training set\n",
    "model = gnb.fit(X_train_pca, y_train)\n",
    "# η GaussianNB έχει builtin μέθοδο υπολογισμό accuracy. Αποθηκεύουμε την τιμή της στον πίνακά μας με τα αποτελέσματα από τα άλλα classifiers\n",
    "win_accuracy['gaussian naive bayes'] = gnb.score(X_val_pca, y_val)\n",
    "# και ξανατυπώνουμε τα sorted αποτελέσματα\n",
    "print(\"Classification Accuracy on the NBA Games Dataset (40% test set)\\n\")\n",
    "sorted_accuracy = [(k, win_accuracy[k]) for k in sorted(win_accuracy, key=win_accuracy.get, reverse=True)]\n",
    "for k, v in sorted_accuracy:\n",
    "  print(k,v)"
   ]
  },
  {
   "cell_type": "code",
   "execution_count": 28,
   "metadata": {},
   "outputs": [
    {
     "name": "stdout",
     "output_type": "stream",
     "text": [
      "Gaussian Naive Bayes model accuracy(in %): 0.702892561983471\n",
      "These are the results for the model\n",
      "\n",
      "              precision    recall  f1-score   support\n",
      "\n",
      "   home_loss       0.69      0.53      0.60      1011\n",
      "    home_win       0.71      0.82      0.76      1409\n",
      "\n",
      "    accuracy                           0.70      2420\n",
      "   macro avg       0.70      0.68      0.68      2420\n",
      "weighted avg       0.70      0.70      0.70      2420\n",
      "\n"
     ]
    }
   ],
   "source": [
    "# making predictions on the validation set\n",
    "y_pred = gnb.predict(X_val_pca)\n",
    "target_names = ['home_loss', 'home_win']\n",
    "\n",
    "# comparing actual response values (y_test) with predicted response values (y_pred)\n",
    "print(\"Gaussian Naive Bayes model accuracy(in %):\", accuracy_score(y_val, y_pred))\n",
    "print(f\"These are the results for the model\\n\")\n",
    "print(classification_report(y_val, y_pred, target_names=target_names))"
   ]
  },
  {
   "cell_type": "markdown",
   "metadata": {},
   "source": [
    "### GNB with SelectFromModel(LassoCV)"
   ]
  },
  {
   "cell_type": "markdown",
   "metadata": {},
   "source": [
    "Already executed and gave the features"
   ]
  },
  {
   "cell_type": "code",
   "execution_count": 30,
   "metadata": {},
   "outputs": [],
   "source": [
    "X_train_sfm = train_data[['score_home','score_away','eff','diff_curr_win_pct','diff_road_record_last_season','odds_home','W_PCT_prev_away',\n",
    "'diff_avg_reb_home','ROAD_RECORD_prev_away','diff_avg_pts_home']]\n",
    "y_train_sfm = y_train\n",
    "\n",
    "X_val_sfm = valid_data[['score_home','score_away','eff','diff_curr_win_pct','diff_road_record_last_season','odds_home','W_PCT_prev_away',\n",
    "'diff_avg_reb_home','ROAD_RECORD_prev_away','diff_avg_pts_home']]\n",
    "y_val_sfm = y_val\n",
    "\n",
    "win_accuracy = {}"
   ]
  },
  {
   "cell_type": "code",
   "execution_count": 31,
   "metadata": {},
   "outputs": [
    {
     "name": "stdout",
     "output_type": "stream",
     "text": [
      "Classification Accuracy on the NBA Games Dataset (40% test set)\n",
      "\n",
      "gaussian naive bayes 0.7838842975206611\n"
     ]
    }
   ],
   "source": [
    "from sklearn.naive_bayes import GaussianNB\n",
    "gnb = GaussianNB()\n",
    "# κάνουμε εκπαίδευση (fit) δηλαδή ουσιαστικά υπολογίζουμε μέση τιμή και διακύμανση για όλα τα χαρακτηριστικά και κλάσεις στο training set\n",
    "model = gnb.fit(X_train_sfm, y_train_sfm)\n",
    "# η GaussianNB έχει builtin μέθοδο υπολογισμό accuracy. Αποθηκεύουμε την τιμή της στον πίνακά μας με τα αποτελέσματα από τα άλλα classifiers\n",
    "win_accuracy['gaussian naive bayes'] = gnb.score(X_val_sfm, y_val_sfm)\n",
    "# και ξανατυπώνουμε τα sorted αποτελέσματα\n",
    "print(\"Classification Accuracy on the NBA Games Dataset (40% test set)\\n\")\n",
    "sorted_accuracy = [(k, win_accuracy[k]) for k in sorted(win_accuracy, key=win_accuracy.get, reverse=True)]\n",
    "for k, v in sorted_accuracy:\n",
    "  print(k,v)"
   ]
  },
  {
   "cell_type": "code",
   "execution_count": 32,
   "metadata": {},
   "outputs": [
    {
     "name": "stdout",
     "output_type": "stream",
     "text": [
      "Gaussian Naive Bayes model accuracy(in %): 0.7838842975206611\n",
      "These are the results for the model\n",
      "\n",
      "              precision    recall  f1-score   support\n",
      "\n",
      "   home_loss       0.79      0.66      0.72      1011\n",
      "    home_win       0.78      0.87      0.82      1409\n",
      "\n",
      "    accuracy                           0.78      2420\n",
      "   macro avg       0.78      0.77      0.77      2420\n",
      "weighted avg       0.78      0.78      0.78      2420\n",
      "\n"
     ]
    }
   ],
   "source": [
    "# making predictions on the validation set\n",
    "y_pred = gnb.predict(X_val_sfm)\n",
    "target_names = ['home_loss', 'home_win']\n",
    "\n",
    "# comparing actual response values (y_test) with predicted response values (y_pred)\n",
    "print(\"Gaussian Naive Bayes model accuracy(in %):\", accuracy_score(y_val_sfm, y_pred))\n",
    "print(f\"These are the results for the model\\n\")\n",
    "print(classification_report(y_val_sfm, y_pred, target_names=target_names))"
   ]
  },
  {
   "cell_type": "markdown",
   "metadata": {},
   "source": [
    "### GNB with Sequential Feature Selection"
   ]
  },
  {
   "cell_type": "markdown",
   "metadata": {},
   "source": [
    "#### Forward"
   ]
  },
  {
   "cell_type": "code",
   "execution_count": 34,
   "metadata": {},
   "outputs": [],
   "source": [
    "X_train_for_sfs = train_data[['num_possible_outcomes','score_home','score_away','HG_7days_VISITOR','Home_Last_5_Avg_PTS_home',\n",
    "'Home_Last_5_Avg_FG3_PCT_home','Home_Last_5_Avg_FG3_PCT_away','Home_Last_5_Avg_AST_home','Away_Last_5_Avg_FG3_PCT_home',\n",
    "'Away_Last_5_Avg_FG_PCT_home','Away_Last_5_Avg_FG_PCT_away','Away_Last_5_Avg_PTS_home','Away_Last_5_Avg_AST_away',\n",
    "'Away_Last_5_Avg_REB_home','Away_Last_5_Avg_REB_away','odds_away','diff_avg_pts_home','diff_avg_fg3_pct_away',\n",
    "'diff_avg_reb_home','G_home','HOME_RECORD_away','WIN_PRCT_home_3g','PTS_home_3g','FT_PCT_home_3g','REB_home_3g',\n",
    "'PTS_away_3g','FG_PCT_away_3g','FG3_PCT_away_3g','WIN_PRCT_home_7g','PTS_home_7g','FT_PCT_home_7g','AST_home_7g','REB_home_7g',\n",
    "'PTS_away_7g','FG_PCT_away_7g','FT_PCT_away_7g','FG3_PCT_away_7g','REB_away_7g','diff_avg_fg3_pct_home','diff_avg_ft_pct_home',\n",
    "'diff_avg_ft_pct_away','top_players_visitor','eff','missing_player_diff','month','diff_pts_last_3_games','diff_ft_pct_last_7_games',\n",
    "'diff_ast_last_3_games','diff_reb_last_7_games','diff_win_pct_prev_season','diff_curr_win_pct','diff_curr_away_record']]\n",
    "y_train_for_sfs = y_train\n",
    "\n",
    "X_val_for_sfs = valid_data[['num_possible_outcomes','score_home','score_away','HG_7days_VISITOR','Home_Last_5_Avg_PTS_home',\n",
    "'Home_Last_5_Avg_FG3_PCT_home','Home_Last_5_Avg_FG3_PCT_away','Home_Last_5_Avg_AST_home','Away_Last_5_Avg_FG3_PCT_home',\n",
    "'Away_Last_5_Avg_FG_PCT_home','Away_Last_5_Avg_FG_PCT_away','Away_Last_5_Avg_PTS_home','Away_Last_5_Avg_AST_away',\n",
    "'Away_Last_5_Avg_REB_home','Away_Last_5_Avg_REB_away','odds_away','diff_avg_pts_home','diff_avg_fg3_pct_away',\n",
    "'diff_avg_reb_home','G_home','HOME_RECORD_away','WIN_PRCT_home_3g','PTS_home_3g','FT_PCT_home_3g','REB_home_3g',\n",
    "'PTS_away_3g','FG_PCT_away_3g','FG3_PCT_away_3g','WIN_PRCT_home_7g','PTS_home_7g','FT_PCT_home_7g','AST_home_7g','REB_home_7g',\n",
    "'PTS_away_7g','FG_PCT_away_7g','FT_PCT_away_7g','FG3_PCT_away_7g','REB_away_7g','diff_avg_fg3_pct_home','diff_avg_ft_pct_home',\n",
    "'diff_avg_ft_pct_away','top_players_visitor','eff','missing_player_diff','month','diff_pts_last_3_games','diff_ft_pct_last_7_games',\n",
    "'diff_ast_last_3_games','diff_reb_last_7_games','diff_win_pct_prev_season','diff_curr_win_pct','diff_curr_away_record']]\n",
    "y_val_for_sfs = y_val\n",
    "\n",
    "win_accuracy = {}"
   ]
  },
  {
   "cell_type": "code",
   "execution_count": 35,
   "metadata": {},
   "outputs": [
    {
     "name": "stdout",
     "output_type": "stream",
     "text": [
      "Classification Accuracy on the NBA Games Dataset (40% test set)\n",
      "\n",
      "gaussian naive bayes 0.7553719008264462\n"
     ]
    }
   ],
   "source": [
    "from sklearn.naive_bayes import GaussianNB\n",
    "gnb = GaussianNB()\n",
    "# κάνουμε εκπαίδευση (fit) δηλαδή ουσιαστικά υπολογίζουμε μέση τιμή και διακύμανση για όλα τα χαρακτηριστικά και κλάσεις στο training set\n",
    "model = gnb.fit(X_train_for_sfs, y_train_for_sfs)\n",
    "# η GaussianNB έχει builtin μέθοδο υπολογισμό accuracy. Αποθηκεύουμε την τιμή της στον πίνακά μας με τα αποτελέσματα από τα άλλα classifiers\n",
    "win_accuracy['gaussian naive bayes'] = gnb.score(X_val_for_sfs, y_val_for_sfs)\n",
    "# και ξανατυπώνουμε τα sorted αποτελέσματα\n",
    "print(\"Classification Accuracy on the NBA Games Dataset (40% test set)\\n\")\n",
    "sorted_accuracy = [(k, win_accuracy[k]) for k in sorted(win_accuracy, key=win_accuracy.get, reverse=True)]\n",
    "for k, v in sorted_accuracy:\n",
    "  print(k,v)"
   ]
  },
  {
   "cell_type": "code",
   "execution_count": 36,
   "metadata": {},
   "outputs": [
    {
     "name": "stdout",
     "output_type": "stream",
     "text": [
      "Gaussian Naive Bayes model accuracy(in %): 0.7553719008264462\n",
      "These are the results for the model\n",
      "\n",
      "              precision    recall  f1-score   support\n",
      "\n",
      "   home_loss       0.69      0.74      0.72      1011\n",
      "    home_win       0.81      0.76      0.78      1409\n",
      "\n",
      "    accuracy                           0.76      2420\n",
      "   macro avg       0.75      0.75      0.75      2420\n",
      "weighted avg       0.76      0.76      0.76      2420\n",
      "\n"
     ]
    }
   ],
   "source": [
    "# making predictions on the validation set\n",
    "y_pred = gnb.predict(X_val_for_sfs)\n",
    "target_names = ['home_loss', 'home_win']\n",
    "\n",
    "# comparing actual response values (y_test) with predicted response values (y_pred)\n",
    "print(\"Gaussian Naive Bayes model accuracy(in %):\", accuracy_score(y_val_for_sfs, y_pred))\n",
    "print(f\"These are the results for the model\\n\")\n",
    "print(classification_report(y_val_for_sfs, y_pred, target_names=target_names))"
   ]
  },
  {
   "cell_type": "markdown",
   "metadata": {},
   "source": [
    "#### Backwards"
   ]
  },
  {
   "cell_type": "code",
   "execution_count": 37,
   "metadata": {},
   "outputs": [],
   "source": [
    "X_train_back_sfs = train_data[['num_possible_outcomes','score_home','score_away','G_7days','HG_7days','AG_7days','HG_7days_VISITOR',\n",
    "'Home_Last_5_Avg_FG_PCT_home','Home_Last_5_Avg_FT_PCT_home','Home_Last_5_Avg_FG3_PCT_home','Home_Last_5_Avg_REB_away',\n",
    "'Away_Last_5_Avg_FG3_PCT_home','Away_Last_5_Avg_FT_PCT_home','Away_Last_5_Avg_FG_PCT_away','Away_Last_5_Avg_PTS_home',\n",
    "'Away_Last_5_Avg_AST_away','Away_Last_5_Avg_REB_away','HOME_RECORD_away','HOME_RECORD_home','ROAD_RECORD_away','HOME_RECORD_prev_home',\n",
    "'HOME_RECORD_prev_away','FG3_PCT_home_3g','FT_PCT_home_7g',\n",
    "'REB_home_7g','diff_avg_fg_pct_home','diff_avg_reb_away','top_players',\n",
    "'FT_PCT_away_7g','REB_away_7g','diff_avg_fg3_pct_home','diff_avg_ft_pct_home',\n",
    "'top_players_visitor','eff','eff_visitor','eff_diff','missing_player_diff','month','diff_pts_last_3_games',\n",
    "'diff_ft_pct_last_7_games','missing_players','missing_players_visitor','top_player_diff','diff_fg3_pct_last_3_games','diff_ast_last_7_games',\n",
    "'diff_ast_last_3_games','diff_reb_last_7_games','diff_win_pct_prev_season','diff_road_record_last_season','diff_curr_home_record']]\n",
    "y_train_back_sfs = y_train\n",
    "\n",
    "X_val_back_sfs = valid_data[['num_possible_outcomes','score_home','score_away','G_7days','HG_7days','AG_7days','HG_7days_VISITOR',\n",
    "'Home_Last_5_Avg_FG_PCT_home','Home_Last_5_Avg_FT_PCT_home','Home_Last_5_Avg_FG3_PCT_home','Home_Last_5_Avg_REB_away',\n",
    "'Away_Last_5_Avg_FG3_PCT_home','Away_Last_5_Avg_FT_PCT_home','Away_Last_5_Avg_FG_PCT_away','Away_Last_5_Avg_PTS_home',\n",
    "'Away_Last_5_Avg_AST_away','Away_Last_5_Avg_REB_away','HOME_RECORD_away','HOME_RECORD_home','ROAD_RECORD_away','HOME_RECORD_prev_home',\n",
    "'HOME_RECORD_prev_away','FG3_PCT_home_3g','FT_PCT_home_7g',\n",
    "'REB_home_7g','diff_avg_fg_pct_home','diff_avg_reb_away','top_players',\n",
    "'FT_PCT_away_7g','REB_away_7g','diff_avg_fg3_pct_home','diff_avg_ft_pct_home',\n",
    "'top_players_visitor','eff','eff_visitor','eff_diff','missing_player_diff','month','diff_pts_last_3_games',\n",
    "'diff_ft_pct_last_7_games','missing_players','missing_players_visitor','top_player_diff','diff_fg3_pct_last_3_games','diff_ast_last_7_games',\n",
    "'diff_ast_last_3_games','diff_reb_last_7_games','diff_win_pct_prev_season','diff_road_record_last_season','diff_curr_home_record']]\n",
    "y_val_back_sfs = y_val\n",
    "\n",
    "win_accuracy = {}"
   ]
  },
  {
   "cell_type": "code",
   "execution_count": 38,
   "metadata": {},
   "outputs": [
    {
     "name": "stdout",
     "output_type": "stream",
     "text": [
      "Classification Accuracy on the NBA Games Dataset (40% test set)\n",
      "\n",
      "gaussian naive bayes 0.7417355371900827\n"
     ]
    }
   ],
   "source": [
    "from sklearn.naive_bayes import GaussianNB\n",
    "gnb = GaussianNB()\n",
    "# κάνουμε εκπαίδευση (fit) δηλαδή ουσιαστικά υπολογίζουμε μέση τιμή και διακύμανση για όλα τα χαρακτηριστικά και κλάσεις στο training set\n",
    "model = gnb.fit(X_train_back_sfs, y_train_back_sfs)\n",
    "# η GaussianNB έχει builtin μέθοδο υπολογισμό accuracy. Αποθηκεύουμε την τιμή της στον πίνακά μας με τα αποτελέσματα από τα άλλα classifiers\n",
    "win_accuracy['gaussian naive bayes'] = gnb.score(X_val_back_sfs, y_val_back_sfs)\n",
    "# και ξανατυπώνουμε τα sorted αποτελέσματα\n",
    "print(\"Classification Accuracy on the NBA Games Dataset (40% test set)\\n\")\n",
    "sorted_accuracy = [(k, win_accuracy[k]) for k in sorted(win_accuracy, key=win_accuracy.get, reverse=True)]\n",
    "for k, v in sorted_accuracy:\n",
    "  print(k,v)"
   ]
  },
  {
   "cell_type": "code",
   "execution_count": 39,
   "metadata": {},
   "outputs": [
    {
     "name": "stdout",
     "output_type": "stream",
     "text": [
      "Gaussian Naive Bayes model accuracy(in %): 0.7417355371900827\n",
      "These are the results for the model\n",
      "\n",
      "              precision    recall  f1-score   support\n",
      "\n",
      "   home_loss       0.69      0.71      0.70      1011\n",
      "    home_win       0.78      0.77      0.78      1409\n",
      "\n",
      "    accuracy                           0.74      2420\n",
      "   macro avg       0.73      0.74      0.74      2420\n",
      "weighted avg       0.74      0.74      0.74      2420\n",
      "\n"
     ]
    }
   ],
   "source": [
    "# making predictions on the validation set\n",
    "y_pred = gnb.predict(X_val_back_sfs)\n",
    "target_names = ['home_loss', 'home_win']\n",
    "\n",
    "# comparing actual response values (y_test) with predicted response values (y_pred)\n",
    "print(\"Gaussian Naive Bayes model accuracy(in %):\", accuracy_score(y_val_back_sfs, y_pred))\n",
    "print(f\"These are the results for the model\\n\")\n",
    "print(classification_report(y_val_back_sfs, y_pred, target_names=target_names))"
   ]
  },
  {
   "cell_type": "markdown",
   "metadata": {},
   "source": [
    "### GNB with Recursive Feature Selection"
   ]
  },
  {
   "cell_type": "markdown",
   "metadata": {},
   "source": [
    "Έχουμε τα επιλεγμένα features από το αποτέλεσμα του κώδικα στο 'rfe_with_log_regression'"
   ]
  },
  {
   "cell_type": "code",
   "execution_count": 44,
   "metadata": {},
   "outputs": [],
   "source": [
    "X_train_rfe = train_data[['num_possible_outcomes', 'odds_home', 'odds_away', 'score_home',\n",
    "       'score_away', 'G_home', 'W_PCT_home', 'HOME_RECORD_home',\n",
    "       'ROAD_RECORD_home', 'G_away', 'W_PCT_away', 'ROAD_RECORD_away',\n",
    "       'W_PCT_prev_home', 'ROAD_RECORD_prev_home', 'W_PCT_prev_away',\n",
    "       'HOME_RECORD_prev_away', 'ROAD_RECORD_prev_away', 'AST_home_3g',\n",
    "       'REB_home_3g', 'WIN_PRCT_away_3g', 'PTS_away_3g', 'FG3_PCT_away_3g',\n",
    "       'AST_home_7g', 'REB_home_7g', 'PTS_away_7g', 'AST_away_7g',\n",
    "       'diff_avg_pts_home', 'diff_avg_pts_away', 'diff_avg_ast_home',\n",
    "       'diff_avg_fg3_pct_home', 'diff_avg_reb_home', 'diff_avg_reb_away',\n",
    "       'top_players', 'HG_7days', 'AG_7days', 'G_7days', 'HG_7days_VISITOR',\n",
    "       'back2back_visitor', 'missing_players', 'missing_players_visitor',\n",
    "       'top_player_diff', 'missing_player_diff', 'month',\n",
    "       'Home_Last_5_Avg_AST_home', 'Home_Last_5_Avg_REB_home',\n",
    "       'Home_Last_5_Avg_PTS_away', 'Home_Last_5_Avg_FT_PCT_away',\n",
    "       'Home_Last_5_Avg_REB_away', 'Home_Last_5_Avg_AST_away',\n",
    "       'Away_Last_5_Avg_REB_home', 'Away_Last_5_Avg_REB_away',\n",
    "       'Away_Last_5_Avg_AST_away', 'diff_pts_last_3_games',\n",
    "       'diff_fg3_pct_last_3_games', 'diff_ft_pct_last_3_games',\n",
    "       'diff_ast_last_3_games', 'diff_ast_last_7_games',\n",
    "       'diff_reb_last_7_games', 'diff_win_pct_3_last_games',\n",
    "       'diff_curr_win_pct', 'diff_curr_home_record']]\n",
    "y_train_rfe = y_train\n",
    "\n",
    "X_val_rfe = valid_data[['num_possible_outcomes', 'odds_home', 'odds_away', 'score_home',\n",
    "       'score_away', 'G_home', 'W_PCT_home', 'HOME_RECORD_home',\n",
    "       'ROAD_RECORD_home', 'G_away', 'W_PCT_away', 'ROAD_RECORD_away',\n",
    "       'W_PCT_prev_home', 'ROAD_RECORD_prev_home', 'W_PCT_prev_away',\n",
    "       'HOME_RECORD_prev_away', 'ROAD_RECORD_prev_away', 'AST_home_3g',\n",
    "       'REB_home_3g', 'WIN_PRCT_away_3g', 'PTS_away_3g', 'FG3_PCT_away_3g',\n",
    "       'AST_home_7g', 'REB_home_7g', 'PTS_away_7g', 'AST_away_7g',\n",
    "       'diff_avg_pts_home', 'diff_avg_pts_away', 'diff_avg_ast_home',\n",
    "       'diff_avg_fg3_pct_home', 'diff_avg_reb_home', 'diff_avg_reb_away',\n",
    "       'top_players', 'HG_7days', 'AG_7days', 'G_7days', 'HG_7days_VISITOR',\n",
    "       'back2back_visitor', 'missing_players', 'missing_players_visitor',\n",
    "       'top_player_diff', 'missing_player_diff', 'month',\n",
    "       'Home_Last_5_Avg_AST_home', 'Home_Last_5_Avg_REB_home',\n",
    "       'Home_Last_5_Avg_PTS_away', 'Home_Last_5_Avg_FT_PCT_away',\n",
    "       'Home_Last_5_Avg_REB_away', 'Home_Last_5_Avg_AST_away',\n",
    "       'Away_Last_5_Avg_REB_home', 'Away_Last_5_Avg_REB_away',\n",
    "       'Away_Last_5_Avg_AST_away', 'diff_pts_last_3_games',\n",
    "       'diff_fg3_pct_last_3_games', 'diff_ft_pct_last_3_games',\n",
    "       'diff_ast_last_3_games', 'diff_ast_last_7_games',\n",
    "       'diff_reb_last_7_games', 'diff_win_pct_3_last_games',\n",
    "       'diff_curr_win_pct', 'diff_curr_home_record']]\n",
    "y_val_rfe = y_val\n",
    "\n",
    "win_accuracy = {}"
   ]
  },
  {
   "cell_type": "code",
   "execution_count": 45,
   "metadata": {},
   "outputs": [
    {
     "name": "stdout",
     "output_type": "stream",
     "text": [
      "Classification Accuracy on the NBA Games Dataset (40% test set)\n",
      "\n",
      "gaussian naive bayes 0.7301652892561984\n"
     ]
    }
   ],
   "source": [
    "from sklearn.naive_bayes import GaussianNB\n",
    "gnb = GaussianNB()\n",
    "# κάνουμε εκπαίδευση (fit) δηλαδή ουσιαστικά υπολογίζουμε μέση τιμή και διακύμανση για όλα τα χαρακτηριστικά και κλάσεις στο training set\n",
    "model = gnb.fit(X_train_rfe, y_train_rfe)\n",
    "# η GaussianNB έχει builtin μέθοδο υπολογισμό accuracy. Αποθηκεύουμε την τιμή της στον πίνακά μας με τα αποτελέσματα από τα άλλα classifiers\n",
    "win_accuracy['gaussian naive bayes'] = gnb.score(X_val_rfe, y_val_rfe)\n",
    "# και ξανατυπώνουμε τα sorted αποτελέσματα\n",
    "print(\"Classification Accuracy on the NBA Games Dataset (40% test set)\\n\")\n",
    "sorted_accuracy = [(k, win_accuracy[k]) for k in sorted(win_accuracy, key=win_accuracy.get, reverse=True)]\n",
    "for k, v in sorted_accuracy:\n",
    "  print(k,v)"
   ]
  },
  {
   "cell_type": "code",
   "execution_count": 46,
   "metadata": {},
   "outputs": [
    {
     "name": "stdout",
     "output_type": "stream",
     "text": [
      "Gaussian Naive Bayes model accuracy(in %): 0.7301652892561984\n",
      "These are the results for the model\n",
      "\n",
      "              precision    recall  f1-score   support\n",
      "\n",
      "   home_loss       0.67      0.70      0.69      1011\n",
      "    home_win       0.78      0.75      0.76      1409\n",
      "\n",
      "    accuracy                           0.73      2420\n",
      "   macro avg       0.72      0.73      0.72      2420\n",
      "weighted avg       0.73      0.73      0.73      2420\n",
      "\n"
     ]
    }
   ],
   "source": [
    "# making predictions on the validation set\n",
    "y_pred = gnb.predict(X_val_rfe)\n",
    "target_names = ['home_loss', 'home_win']\n",
    "\n",
    "# comparing actual response values (y_test) with predicted response values (y_pred)\n",
    "print(\"Gaussian Naive Bayes model accuracy(in %):\", accuracy_score(y_val_rfe, y_pred))\n",
    "print(f\"These are the results for the model\\n\")\n",
    "print(classification_report(y_val_rfe, y_pred, target_names=target_names))"
   ]
  }
 ],
 "metadata": {
  "colab": {
   "authorship_tag": "ABX9TyMXY6/NgYdrKQKwv/zQ4SEt",
   "collapsed_sections": [],
   "name": "gnb.ipynb",
   "provenance": [],
   "toc_visible": true
  },
  "kernelspec": {
   "display_name": "Python 3 (ipykernel)",
   "language": "python",
   "name": "python3"
  },
  "language_info": {
   "codemirror_mode": {
    "name": "ipython",
    "version": 3
   },
   "file_extension": ".py",
   "mimetype": "text/x-python",
   "name": "python",
   "nbconvert_exporter": "python",
   "pygments_lexer": "ipython3",
   "version": "3.9.4"
  }
 },
 "nbformat": 4,
 "nbformat_minor": 1
}
