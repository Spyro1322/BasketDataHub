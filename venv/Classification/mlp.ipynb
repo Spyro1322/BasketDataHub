{
  "cells": [
    {
      "cell_type": "markdown",
      "metadata": {
        "id": "l-YOik-Z4m1U"
      },
      "source": [
        "## MLP with GridSearchCV"
      ]
    },
    {
      "cell_type": "code",
      "execution_count": 22,
      "metadata": {
        "id": "xVeNWGsG0H7P"
      },
      "outputs": [],
      "source": [
        "import pandas as pd\n",
        "import numpy as np\n",
        "import matplotlib.pyplot as plt\n",
        "\n",
        "\n",
        "df = pd.read_csv('../FeatureEngineering/MetaData/data6_&_odds.csv')\n",
        "df.dropna(inplace=True)"
      ]
    },
    {
      "cell_type": "code",
      "execution_count": 23,
      "metadata": {
        "id": "NWeduztH0v69"
      },
      "outputs": [],
      "source": [
        "from sklearn.neural_network import MLPClassifier\n",
        "from sklearn.model_selection import train_test_split, GridSearchCV\n",
        "from sklearn.metrics import classification_report\n",
        "\n",
        "import time\n",
        "\n",
        "import warnings\n",
        "warnings.filterwarnings('ignore')\n"
      ]
    },
    {
      "cell_type": "code",
      "execution_count": 24,
      "metadata": {
        "id": "ygUdk0lL04ao"
      },
      "outputs": [],
      "source": [
        "train_data = df.loc[(df.season <= 2013) & (df.season >= 2007)]\n",
        "valid_data = df.loc[(df.season > 2013) & (df.season < 2016)]\n",
        "test_data = df.loc[df.season >= 2016]\n",
        "full_train_data = pd.concat([train_data, valid_data], axis=0)\n",
        "\n",
        "X, y = train_data.drop(columns=['home_team_wins']), train_data.home_team_wins\n",
        "valid_X, valid_y = valid_data.drop(columns=['home_team_wins']), valid_data.home_team_wins\n",
        "test_X, test_y = test_data.drop(columns=['home_team_wins']), test_data.home_team_wins\n",
        "\n",
        "# Split our data\n",
        "X_train, y_train = train_data.drop(columns=[\"game_date_est\",\"season\",\"game_id\",\"home_team\",\"visitor_team\",\"home_team_id\",\"visitor_team_id\",\"home_team_wins\",\"conference\",\"conference_visitor\"]), train_data.home_team_wins\n",
        "X_val, y_val = valid_data.drop(columns=[\"game_date_est\",\"season\",\"game_id\",\"home_team\",\"visitor_team\",\"home_team_id\",\"visitor_team_id\",\"home_team_wins\",\"conference\",\"conference_visitor\"]), valid_data.home_team_wins\n",
        "X_test, y_test = test_data.drop(columns=[\"game_date_est\",\"season\",\"game_id\",\"home_team\",\"visitor_team\",\"home_team_id\",\"visitor_team_id\",\"home_team_wins\",\"conference\",\"conference_visitor\"]), test_data.home_team_wins\n",
        "\n"
      ]
    },
    {
      "cell_type": "code",
      "execution_count": 25,
      "metadata": {
        "id": "w2Wud7cI0-a-"
      },
      "outputs": [],
      "source": [
        "# Multilayer Perceptron\n",
        "model = MLPClassifier()\n",
        "model.fit(X_train, y_train)\n",
        "\n",
        "# defining parameter range\n",
        "param_grid = {'max_iter': list(range(100, 300, 50)),\n",
        "              # 'activation':['identity', 'logistic', 'tanh', 'relu'],\n",
        "              'hidden_layer_sizes': [(20, 10, 5)],\n",
        "              'solver': ['lbfgs', 'sgd'],\n",
        "              'alpha': [1e-05],\n",
        "              }\n",
        "\n",
        "\n",
        "grid = GridSearchCV(model, param_grid, cv=10, scoring='accuracy', n_jobs=-1)\n"
      ]
    },
    {
      "cell_type": "code",
      "execution_count": 26,
      "metadata": {
        "colab": {
          "base_uri": "https://localhost:8080/"
        },
        "id": "jDS-iayB1FSa",
        "outputId": "59ba0fec-0996-40e2-d206-30436f8c1427"
      },
      "outputs": [
        {
          "name": "stdout",
          "output_type": "stream",
          "text": [
            "Συνολικός χρόνος fit και predict: 43.72772574424744 seconds\n",
            "              precision    recall  f1-score   support\n",
            "\n",
            "   home_loss       0.68      0.51      0.58      1011\n",
            "    home_win       0.70      0.82      0.76      1409\n",
            "\n",
            "    accuracy                           0.69      2420\n",
            "   macro avg       0.69      0.67      0.67      2420\n",
            "weighted avg       0.69      0.69      0.69      2420\n",
            "\n",
            "val score: 0.6942148760330579\n",
            "{'alpha': 1e-05, 'hidden_layer_sizes': (20, 10, 5), 'max_iter': 150, 'solver': 'lbfgs'}\n",
            "best score: 0.6418840579710146\n",
            "test score 0.6942148760330579\n"
          ]
        }
      ],
      "source": [
        "start_time = time.time()\n",
        "grid.fit(X_train, y_train)\n",
        "val_score = grid.score(X_val, y_val)\n",
        "\n",
        "preds = grid.predict(X_val)\n",
        "test_score = grid.score(X_val, y_val)\n",
        "\n",
        "target_names = ['home_loss', 'home_win']\n",
        "\n",
        "print(\"Συνολικός χρόνος fit και predict: %s seconds\" % (time.time() - start_time))\n",
        "print(classification_report(y_val, preds, target_names=target_names))\n",
        "print(\"val score:\", val_score)\n",
        "\n",
        "model = grid.best_estimator_\n",
        "y_fit = model.predict(X_val)\n",
        "\n",
        "print(grid.best_params_)\n",
        "print(\"best score:\", grid.best_score_)\n",
        "print(\"test score\", test_score)\n"
      ]
    },
    {
      "cell_type": "markdown",
      "metadata": {},
      "source": [
        "### MLP Classifier with Univariate Feature Selection"
      ]
    },
    {
      "cell_type": "code",
      "execution_count": 27,
      "metadata": {},
      "outputs": [],
      "source": [
        "X_train_uni = train_data[['diff_curr_win_pct','diff_curr_away_record','odds_home','odds_away','elo_diff']]\n",
        "y_train_uni = y_train\n",
        "\n",
        "X_val_uni = valid_data[['diff_curr_win_pct','diff_curr_away_record','odds_home','odds_away','elo_diff']]\n",
        "y_val_uni = y_val"
      ]
    },
    {
      "cell_type": "code",
      "execution_count": 28,
      "metadata": {},
      "outputs": [],
      "source": [
        "# Multilayer Perceptron\n",
        "model = MLPClassifier()\n",
        "model.fit(X_train_uni, y_train_uni)\n",
        "\n",
        "# defining parameter range\n",
        "param_grid = {'max_iter': list(range(100, 300, 50)),\n",
        "              # 'activation':['identity', 'logistic', 'tanh', 'relu'],\n",
        "              'hidden_layer_sizes': [(20, 10, 5)],\n",
        "              'solver': ['lbfgs', 'sgd'],\n",
        "              'alpha': [1e-05],\n",
        "              }\n",
        "\n",
        "\n",
        "grid = GridSearchCV(model, param_grid, cv=10, scoring='accuracy', n_jobs=-1)\n"
      ]
    },
    {
      "cell_type": "code",
      "execution_count": 29,
      "metadata": {},
      "outputs": [
        {
          "name": "stdout",
          "output_type": "stream",
          "text": [
            "Συνολικός χρόνος fit και predict: 45.520124673843384 seconds\n",
            "              precision    recall  f1-score   support\n",
            "\n",
            "   home_loss       0.66      0.55      0.60      1011\n",
            "    home_win       0.71      0.80      0.75      1409\n",
            "\n",
            "    accuracy                           0.70      2420\n",
            "   macro avg       0.69      0.67      0.68      2420\n",
            "weighted avg       0.69      0.70      0.69      2420\n",
            "\n",
            "val score: 0.6950413223140496\n",
            "{'alpha': 1e-05, 'hidden_layer_sizes': (20, 10, 5), 'max_iter': 250, 'solver': 'lbfgs'}\n",
            "best score: 0.6950724637681158\n",
            "test score 0.6950413223140496\n"
          ]
        }
      ],
      "source": [
        "start_time = time.time()\n",
        "grid.fit(X_train_uni, y_train_uni)\n",
        "val_score = grid.score(X_val_uni, y_val_uni)\n",
        "\n",
        "preds = grid.predict(X_val_uni)\n",
        "test_score = grid.score(X_val_uni, y_val_uni)\n",
        "\n",
        "target_names = ['home_loss', 'home_win']\n",
        "\n",
        "print(\"Συνολικός χρόνος fit και predict: %s seconds\" % (time.time() - start_time))\n",
        "print(classification_report(y_val_uni, preds, target_names=target_names))\n",
        "print(\"val score:\", val_score)\n",
        "\n",
        "model = grid.best_estimator_\n",
        "y_fit = model.predict(X_val_uni)\n",
        "\n",
        "print(grid.best_params_)\n",
        "print(\"best score:\", grid.best_score_)\n",
        "print(\"test score\", test_score)\n"
      ]
    },
    {
      "cell_type": "markdown",
      "metadata": {},
      "source": [
        "### MLP Classifier with SelectFromModel(LassoCV)"
      ]
    },
    {
      "cell_type": "code",
      "execution_count": 30,
      "metadata": {},
      "outputs": [],
      "source": [
        "from sklearn.feature_selection import SelectFromModel\n",
        "from sklearn.linear_model import LassoCV\n",
        "from sklearn.pipeline import Pipeline"
      ]
    },
    {
      "cell_type": "code",
      "execution_count": 31,
      "metadata": {},
      "outputs": [
        {
          "data": {
            "text/plain": [
              "Pipeline(steps=[('feature_selection', SelectFromModel(estimator=LassoCV())),\n",
              "                ('classification',\n",
              "                 MLPClassifier(alpha=1e-05, hidden_layer_sizes=(20, 10, 5),\n",
              "                               max_iter=150, solver='lbfgs'))])"
            ]
          },
          "execution_count": 31,
          "metadata": {},
          "output_type": "execute_result"
        }
      ],
      "source": [
        "pipe_model = Pipeline([\n",
        "  ('feature_selection', SelectFromModel(LassoCV())),\n",
        "  ('classification', MLPClassifier(alpha=1e-05, hidden_layer_sizes=(20, 10, 5), max_iter=150, solver='lbfgs'))\n",
        "])\n",
        "pipe_model.fit(X_train, y_train)"
      ]
    },
    {
      "cell_type": "code",
      "execution_count": 32,
      "metadata": {},
      "outputs": [
        {
          "name": "stdout",
          "output_type": "stream",
          "text": [
            "Συνολικός χρόνος fit και predict: 47.38342833518982 seconds\n",
            "              precision    recall  f1-score   support\n",
            "\n",
            "   home loss       0.68      0.51      0.58      1011\n",
            "    home win       0.70      0.83      0.76      1409\n",
            "\n",
            "    accuracy                           0.70      2420\n",
            "   macro avg       0.69      0.67      0.67      2420\n",
            "weighted avg       0.69      0.70      0.69      2420\n",
            "\n",
            "test score 0.6958677685950413\n"
          ]
        }
      ],
      "source": [
        "# Predict\n",
        "preds = pipe_model.predict(X_val)\n",
        "test_score = pipe_model.score(X_val, y_val)\n",
        "\n",
        "target_names=['home loss', 'home win']\n",
        "\n",
        "print(\"Συνολικός χρόνος fit και predict: %s seconds\" % (time.time() - start_time))\n",
        "print(classification_report(y_val, preds, target_names=target_names))\n",
        "\n",
        "print(\"test score\", test_score)\n"
      ]
    },
    {
      "cell_type": "markdown",
      "metadata": {},
      "source": [
        "### MLP Classifier with RFECV"
      ]
    },
    {
      "cell_type": "code",
      "execution_count": 33,
      "metadata": {},
      "outputs": [],
      "source": [
        "X_train_rcv = train_data[['missing_player_diff','odds_home','odds_away','visitor_elo']]\n",
        "y_train_rcv = y_train\n",
        "\n",
        "X_val_rcv = valid_data[['missing_player_diff','odds_home','odds_away','visitor_elo']]\n",
        "y_val_rcv = y_val"
      ]
    },
    {
      "cell_type": "code",
      "execution_count": 34,
      "metadata": {},
      "outputs": [],
      "source": [
        "# Multilayer Perceptron\n",
        "model = MLPClassifier()\n",
        "model.fit(X_train_rcv, y_train_rcv)\n",
        "\n",
        "# defining parameter range\n",
        "param_grid = {'max_iter': list(range(100, 300, 50)),\n",
        "              # 'activation':['identity', 'logistic', 'tanh', 'relu'],\n",
        "              'hidden_layer_sizes': [(20, 10, 5)],\n",
        "              'solver': ['lbfgs', 'sgd'],\n",
        "              'alpha': [1e-05],\n",
        "              }\n",
        "\n",
        "\n",
        "grid = GridSearchCV(model, param_grid, cv=10, scoring='accuracy', n_jobs=-1)\n"
      ]
    },
    {
      "cell_type": "code",
      "execution_count": 35,
      "metadata": {},
      "outputs": [
        {
          "name": "stdout",
          "output_type": "stream",
          "text": [
            "Συνολικός χρόνος fit και predict: 19.62369656562805 seconds\n",
            "              precision    recall  f1-score   support\n",
            "\n",
            "   home_loss       0.00      0.00      0.00      1011\n",
            "    home_win       0.58      1.00      0.74      1409\n",
            "\n",
            "    accuracy                           0.58      2420\n",
            "   macro avg       0.29      0.50      0.37      2420\n",
            "weighted avg       0.34      0.58      0.43      2420\n",
            "\n",
            "val score: 0.5822314049586776\n",
            "{'alpha': 1e-05, 'hidden_layer_sizes': (20, 10, 5), 'max_iter': 100, 'solver': 'lbfgs'}\n",
            "best score: 0.6455072463768116\n",
            "test score 0.5822314049586776\n"
          ]
        }
      ],
      "source": [
        "start_time = time.time()\n",
        "grid.fit(X_train_rcv, y_train_rcv)\n",
        "val_score = grid.score(X_val_rcv, y_val_rcv)\n",
        "\n",
        "preds = grid.predict(X_val_rcv)\n",
        "test_score = grid.score(X_val_rcv, y_val_rcv)\n",
        "\n",
        "target_names = ['home_loss', 'home_win']\n",
        "\n",
        "print(\"Συνολικός χρόνος fit και predict: %s seconds\" % (time.time() - start_time))\n",
        "print(classification_report(y_val_rcv, preds, target_names=target_names))\n",
        "print(\"val score:\", val_score)\n",
        "\n",
        "model = grid.best_estimator_\n",
        "y_fit = model.predict(X_val_rcv)\n",
        "\n",
        "print(grid.best_params_)\n",
        "print(\"best score:\", grid.best_score_)\n",
        "print(\"test score\", test_score)\n"
      ]
    },
    {
      "cell_type": "markdown",
      "metadata": {},
      "source": [
        "### MLP Classifier with RFE"
      ]
    },
    {
      "cell_type": "code",
      "execution_count": 36,
      "metadata": {},
      "outputs": [],
      "source": [
        "X_train_rfe = train_data[['num_possible_outcomes', 'odds_home', 'odds_away', 'W_PCT_home',\n",
        "            'HOME_RECORD_home', 'ROAD_RECORD_home', 'ROAD_RECORD_away',\n",
        "            'WIN_PRCT_home_3g', 'PTS_home_3g', 'REB_home_3g', 'WIN_PRCT_away_3g',\n",
        "            'AST_away_3g', 'REB_away_3g', 'PTS_home_7g', 'AST_home_7g',\n",
        "            'REB_home_7g', 'AST_away_7g', 'diff_avg_pts_home', 'diff_avg_ast_home',\n",
        "            'diff_avg_ast_away', 'diff_avg_fg3_pct_home', 'diff_avg_reb_home',\n",
        "            'diff_avg_reb_away', 'top_players', 'eff_visitor', 'HG_7days',\n",
        "            'AG_7days', 'G_7days', 'back2back', 'HG_7days_VISITOR',\n",
        "            'G_7days_VISITOR', 'back2back_visitor', 'missing_players',\n",
        "            'missing_players_visitor', 'home_elo', 'visitor_elo', 'elo_diff',\n",
        "            'top_player_diff', 'missing_player_diff', 'eff_diff', 'month',\n",
        "            'Home_Last_5_Avg_AST_home', 'Home_Last_5_Avg_REB_home',\n",
        "            'Home_Last_5_Avg_PTS_away', 'Home_Last_5_Avg_REB_away',\n",
        "            'Home_Last_5_Avg_AST_away', 'Away_Last_5_Avg_FG3_PCT_home',\n",
        "            'Away_Last_5_Avg_AST_home', 'Away_Last_5_Avg_PTS_away',\n",
        "            'Away_Last_5_Avg_FT_PCT_away', 'Away_Last_5_Avg_AST_away',\n",
        "            'diff_ast_last_3_games', 'diff_ast_last_7_games',\n",
        "            'diff_reb_last_3_games', 'diff_reb_last_7_games',\n",
        "            'diff_win_pct_3_last_games', 'diff_curr_win_pct',\n",
        "            'diff_curr_home_record', 'diff_curr_away_record']]\n",
        "\n",
        "y_train_rfe = y_train\n",
        "\n",
        "X_val_rfe = valid_data[['num_possible_outcomes', 'odds_home', 'odds_away', 'W_PCT_home',\n",
        "            'HOME_RECORD_home', 'ROAD_RECORD_home', 'ROAD_RECORD_away',\n",
        "            'WIN_PRCT_home_3g', 'PTS_home_3g', 'REB_home_3g', 'WIN_PRCT_away_3g',\n",
        "            'AST_away_3g', 'REB_away_3g', 'PTS_home_7g', 'AST_home_7g',\n",
        "            'REB_home_7g', 'AST_away_7g', 'diff_avg_pts_home', 'diff_avg_ast_home',\n",
        "            'diff_avg_ast_away', 'diff_avg_fg3_pct_home', 'diff_avg_reb_home',\n",
        "            'diff_avg_reb_away', 'top_players', 'eff_visitor', 'HG_7days',\n",
        "            'AG_7days', 'G_7days', 'back2back', 'HG_7days_VISITOR',\n",
        "            'G_7days_VISITOR', 'back2back_visitor', 'missing_players',\n",
        "            'missing_players_visitor', 'home_elo', 'visitor_elo', 'elo_diff',\n",
        "            'top_player_diff', 'missing_player_diff', 'eff_diff', 'month',\n",
        "            'Home_Last_5_Avg_AST_home', 'Home_Last_5_Avg_REB_home',\n",
        "            'Home_Last_5_Avg_PTS_away', 'Home_Last_5_Avg_REB_away',\n",
        "            'Home_Last_5_Avg_AST_away', 'Away_Last_5_Avg_FG3_PCT_home',\n",
        "            'Away_Last_5_Avg_AST_home', 'Away_Last_5_Avg_PTS_away',\n",
        "            'Away_Last_5_Avg_FT_PCT_away', 'Away_Last_5_Avg_AST_away',\n",
        "            'diff_ast_last_3_games', 'diff_ast_last_7_games',\n",
        "            'diff_reb_last_3_games', 'diff_reb_last_7_games',\n",
        "            'diff_win_pct_3_last_games', 'diff_curr_win_pct',\n",
        "            'diff_curr_home_record', 'diff_curr_away_record']]\n",
        "\n",
        "y_val_rfe = y_val\n",
        "\n"
      ]
    },
    {
      "cell_type": "code",
      "execution_count": 37,
      "metadata": {},
      "outputs": [],
      "source": [
        "# Multilayer Perceptron\n",
        "model = MLPClassifier()\n",
        "model.fit(X_train_rfe, y_train_rfe)\n",
        "\n",
        "# defining parameter range\n",
        "param_grid = {'max_iter': list(range(100, 300, 50)),\n",
        "              # 'activation':['identity', 'logistic', 'tanh', 'relu'],\n",
        "              'hidden_layer_sizes': [(20, 10, 5)],\n",
        "              'solver': ['lbfgs', 'sgd'],\n",
        "              'alpha': [1e-05],\n",
        "              }\n",
        "\n",
        "\n",
        "grid = GridSearchCV(model, param_grid, cv=10, scoring='accuracy', n_jobs=-1)\n"
      ]
    },
    {
      "cell_type": "code",
      "execution_count": 38,
      "metadata": {},
      "outputs": [
        {
          "name": "stdout",
          "output_type": "stream",
          "text": [
            "Συνολικός χρόνος fit και predict: 32.65605664253235 seconds\n",
            "              precision    recall  f1-score   support\n",
            "\n",
            "   home_loss       0.68      0.52      0.59      1011\n",
            "    home_win       0.71      0.83      0.76      1409\n",
            "\n",
            "    accuracy                           0.70      2420\n",
            "   macro avg       0.70      0.67      0.68      2420\n",
            "weighted avg       0.70      0.70      0.69      2420\n",
            "\n",
            "val score: 0.6995867768595041\n",
            "{'alpha': 1e-05, 'hidden_layer_sizes': (20, 10, 5), 'max_iter': 200, 'solver': 'lbfgs'}\n",
            "best score: 0.6557971014492754\n",
            "test score 0.6995867768595041\n"
          ]
        }
      ],
      "source": [
        "start_time = time.time()\n",
        "grid.fit(X_train_rfe, y_train_rfe)\n",
        "val_score = grid.score(X_val_rfe, y_val_rfe)\n",
        "\n",
        "preds = grid.predict(X_val_rfe)\n",
        "test_score = grid.score(X_val_rfe, y_val_rfe)\n",
        "\n",
        "target_names = ['home_loss', 'home_win']\n",
        "\n",
        "print(\"Συνολικός χρόνος fit και predict: %s seconds\" % (time.time() - start_time))\n",
        "print(classification_report(y_val_rfe, preds, target_names=target_names))\n",
        "print(\"val score:\", val_score)\n",
        "\n",
        "model = grid.best_estimator_\n",
        "y_fit = model.predict(X_val_rfe)\n",
        "\n",
        "print(grid.best_params_)\n",
        "print(\"best score:\", grid.best_score_)\n",
        "print(\"test score\", test_score)\n"
      ]
    },
    {
      "cell_type": "markdown",
      "metadata": {},
      "source": [
        "### MLP Classifier with ExtraTreesClassifier"
      ]
    },
    {
      "cell_type": "code",
      "execution_count": 39,
      "metadata": {},
      "outputs": [],
      "source": [
        "X_train_extra = train_data[['odds_home', 'odds_away', 'home_elo', 'visitor_elo', 'elo_diff',\n",
        "                    'eff_diff', 'eff_visitor', 'top_player_diff', 'diff_win_pct_prev_season',\n",
        "                    'diff_home_record_last_season', 'ROAD_RECORD_home',\n",
        "                    'diff_road_record_last_season', 'diff_win_pct_7_last_games', 'W_PCT_home',\n",
        "                    'W_PCT_away', 'W_PCT_prev_away', 'diff_curr_away_record', 'HOME_RECORD_home', 'diff_curr_home_record',\n",
        "                    'diff_curr_win_pct']]\n",
        "\n",
        "y_train_extra = y_train\n",
        "\n",
        "X_val_extra = valid_data[['odds_home', 'odds_away', 'home_elo', 'visitor_elo', 'elo_diff',\n",
        "                    'eff_diff', 'eff_visitor', 'top_player_diff', 'diff_win_pct_prev_season',\n",
        "                    'diff_home_record_last_season', 'ROAD_RECORD_home',\n",
        "                    'diff_road_record_last_season', 'diff_win_pct_7_last_games', 'W_PCT_home',\n",
        "                    'W_PCT_away', 'W_PCT_prev_away', 'diff_curr_away_record', 'HOME_RECORD_home', 'diff_curr_home_record',\n",
        "                    'diff_curr_win_pct']]\n",
        "\n",
        "y_val_extra = y_val"
      ]
    },
    {
      "cell_type": "code",
      "execution_count": 40,
      "metadata": {},
      "outputs": [],
      "source": [
        "# Multilayer Perceptron\n",
        "model = MLPClassifier()\n",
        "model.fit(X_train_extra, y_train_extra)\n",
        "\n",
        "# defining parameter range\n",
        "param_grid = {'max_iter': list(range(100, 300, 50)),\n",
        "              # 'activation':['identity', 'logistic', 'tanh', 'relu'],\n",
        "              'hidden_layer_sizes': [(20, 10, 5)],\n",
        "              'solver': ['lbfgs', 'sgd'],\n",
        "              'alpha': [1e-05],\n",
        "              }\n",
        "\n",
        "\n",
        "grid = GridSearchCV(model, param_grid, cv=10, scoring='accuracy', n_jobs=-1)\n"
      ]
    },
    {
      "cell_type": "code",
      "execution_count": 41,
      "metadata": {},
      "outputs": [
        {
          "name": "stdout",
          "output_type": "stream",
          "text": [
            "Συνολικός χρόνος fit και predict: 27.50072956085205 seconds\n",
            "              precision    recall  f1-score   support\n",
            "\n",
            "   home_loss       0.69      0.51      0.59      1011\n",
            "    home_win       0.70      0.83      0.76      1409\n",
            "\n",
            "    accuracy                           0.70      2420\n",
            "   macro avg       0.69      0.67      0.67      2420\n",
            "weighted avg       0.70      0.70      0.69      2420\n",
            "\n",
            "val score: 0.6983471074380165\n",
            "{'alpha': 1e-05, 'hidden_layer_sizes': (20, 10, 5), 'max_iter': 200, 'solver': 'lbfgs'}\n",
            "best score: 0.6492753623188406\n",
            "test score 0.6983471074380165\n"
          ]
        }
      ],
      "source": [
        "start_time = time.time()\n",
        "grid.fit(X_train_extra, y_train_extra)\n",
        "val_score = grid.score(X_val_extra, y_val_extra)\n",
        "\n",
        "preds = grid.predict(X_val_extra)\n",
        "test_score = grid.score(X_val_extra, y_val_extra)\n",
        "\n",
        "target_names = ['home_loss', 'home_win']\n",
        "\n",
        "print(\"Συνολικός χρόνος fit και predict: %s seconds\" % (time.time() - start_time))\n",
        "print(classification_report(y_val_extra, preds, target_names=target_names))\n",
        "print(\"val score:\", val_score)\n",
        "\n",
        "model = grid.best_estimator_\n",
        "y_fit = model.predict(X_val_extra)\n",
        "\n",
        "print(grid.best_params_)\n",
        "print(\"best score:\", grid.best_score_)\n",
        "print(\"test score\", test_score)\n"
      ]
    },
    {
      "cell_type": "markdown",
      "metadata": {
        "id": "9GUug98l1TiQ"
      },
      "source": [
        "### Standard Scaler"
      ]
    },
    {
      "cell_type": "code",
      "execution_count": 42,
      "metadata": {
        "id": "gY8H4GGM1JZx"
      },
      "outputs": [],
      "source": [
        "from sklearn.preprocessing import StandardScaler\n",
        "\n",
        "# Scaling features\n",
        "scaler = StandardScaler()\n",
        "X_train_standard = scaler.fit_transform(X_train)\n",
        "X_val_standard = scaler.transform(X_val)\n",
        "X_test_standard = scaler.transform(X_test)"
      ]
    },
    {
      "cell_type": "code",
      "execution_count": 43,
      "metadata": {
        "id": "n_8yBGij149m"
      },
      "outputs": [],
      "source": [
        "# Multilayer Perceptron\n",
        "model = MLPClassifier()\n",
        "model.fit(X_train_standard, y_train)\n",
        "\n",
        "# defining parameter range\n",
        "param_grid = {'max_iter': list(range(100, 300, 50)),\n",
        "              # 'activation':['identity', 'logistic', 'tanh', 'relu'],\n",
        "              'hidden_layer_sizes': [(20, 10, 5)],\n",
        "              'solver': ['lbfgs', 'sgd', 'adam'],\n",
        "              'alpha': [1e-05],\n",
        "              }\n",
        "\n",
        "\n",
        "grid = GridSearchCV(model, param_grid, cv=10, scoring='accuracy', n_jobs=-1)\n"
      ]
    },
    {
      "cell_type": "code",
      "execution_count": 44,
      "metadata": {
        "colab": {
          "base_uri": "https://localhost:8080/"
        },
        "id": "wDV0Ok9523OS",
        "outputId": "009fb7db-ed4b-4875-fae4-3b781f64a8c0"
      },
      "outputs": [
        {
          "name": "stdout",
          "output_type": "stream",
          "text": [
            "Συνολικός χρόνος fit και predict: 181.53932809829712 seconds\n",
            "              precision    recall  f1-score   support\n",
            "\n",
            "   home loss       0.63      0.55      0.59      1011\n",
            "    home win       0.70      0.77      0.74      1409\n",
            "\n",
            "    accuracy                           0.68      2420\n",
            "   macro avg       0.67      0.66      0.66      2420\n",
            "weighted avg       0.67      0.68      0.67      2420\n",
            "\n",
            "val score: 0.6785123966942149\n",
            "{'alpha': 1e-05, 'hidden_layer_sizes': (20, 10, 5), 'max_iter': 200, 'solver': 'sgd'}\n",
            "best score: 0.6827536231884059\n",
            "test score 0.6785123966942149\n"
          ]
        }
      ],
      "source": [
        "start_time = time.time()\n",
        "grid.fit(X_train_standard, y_train)\n",
        "val_score = grid.score(X_val_standard, y_val)\n",
        "\n",
        "preds = grid.predict(X_val_standard)\n",
        "test_score = grid.score(X_val_standard, y_val)\n",
        "\n",
        "target_names = ['home loss', 'home win']\n",
        "\n",
        "print(\"Συνολικός χρόνος fit και predict: %s seconds\" % (time.time() - start_time))\n",
        "print(classification_report(y_val, preds, target_names=target_names))\n",
        "print(\"val score:\", val_score)\n",
        "\n",
        "model = grid.best_estimator_\n",
        "y_fit = model.predict(X_val_standard)\n",
        "\n",
        "print(grid.best_params_)\n",
        "print(\"best score:\", grid.best_score_)\n",
        "print(\"test score\", test_score)\n"
      ]
    },
    {
      "cell_type": "markdown",
      "metadata": {
        "id": "BGP9Yp9q3Z09"
      },
      "source": [
        "### MinMax Scaler"
      ]
    },
    {
      "cell_type": "code",
      "execution_count": 45,
      "metadata": {
        "id": "mpkaQJGD3ZQL"
      },
      "outputs": [],
      "source": [
        "from sklearn.preprocessing import MinMaxScaler\n",
        "\n",
        "# Scaling features\n",
        "scaler = MinMaxScaler()\n",
        "X_train_minmax = scaler.fit_transform(X_train)\n",
        "X_val_minmax = scaler.transform(X_val)\n",
        "X_test_minmax = scaler.transform(X_test)"
      ]
    },
    {
      "cell_type": "code",
      "execution_count": 46,
      "metadata": {
        "id": "Y7LAiErA30vb"
      },
      "outputs": [],
      "source": [
        "# # Split our data\n",
        "# X_train, X_test, y_train, y_test = train_test_split(X1, y1, test_size=0.4)\n",
        "\n",
        "# # Split Data to Train and Validation\n",
        "# X_train, X_val, y_train, y_val = train_test_split(X_train_minmax, y_train, test_size=0.2)\n"
      ]
    },
    {
      "cell_type": "code",
      "execution_count": 47,
      "metadata": {
        "id": "Hpj5lpO94A22"
      },
      "outputs": [],
      "source": [
        "# Multilayer Perceptron\n",
        "model = MLPClassifier()\n",
        "model.fit(X_train_minmax, y_train)\n",
        "\n",
        "# defining parameter range\n",
        "param_grid = {'max_iter': list(range(100, 300, 50)),\n",
        "              # 'activation':['identity', 'logistic', 'tanh', 'relu'],\n",
        "              'hidden_layer_sizes': [(20, 10, 5)],\n",
        "              'solver': ['lbfgs', 'sgd', 'adam'],\n",
        "              'alpha': [1e-05],\n",
        "              }\n",
        "\n",
        "\n",
        "grid = GridSearchCV(model, param_grid, cv=10, scoring='accuracy', n_jobs=-1)\n"
      ]
    },
    {
      "cell_type": "code",
      "execution_count": 48,
      "metadata": {
        "colab": {
          "base_uri": "https://localhost:8080/"
        },
        "id": "Ko5VRfRx4HA-",
        "outputId": "51fa54b9-7477-4e04-e7b1-80e2e28de2bf"
      },
      "outputs": [
        {
          "name": "stdout",
          "output_type": "stream",
          "text": [
            "Συνολικός χρόνος fit και predict: 149.22142577171326 seconds\n",
            "              precision    recall  f1-score   support\n",
            "\n",
            "   home loss       0.00      0.00      0.00      1011\n",
            "    home win       0.58      1.00      0.74      1409\n",
            "\n",
            "    accuracy                           0.58      2420\n",
            "   macro avg       0.29      0.50      0.37      2420\n",
            "weighted avg       0.34      0.58      0.43      2420\n",
            "\n",
            "val score: 0.5822314049586776\n",
            "{'alpha': 1e-05, 'hidden_layer_sizes': (20, 10, 5), 'max_iter': 250, 'solver': 'adam'}\n",
            "best score: 0.6869565217391304\n",
            "test score 0.5822314049586776\n"
          ]
        }
      ],
      "source": [
        "start_time = time.time()\n",
        "grid.fit(X_train_minmax, y_train)\n",
        "val_score = grid.score(X_val_minmax, y_val)\n",
        "\n",
        "preds = grid.predict(X_val_minmax)\n",
        "test_score = grid.score(X_val_minmax, y_val)\n",
        "\n",
        "target_names = ['home loss', 'home win']\n",
        "\n",
        "print(\"Συνολικός χρόνος fit και predict: %s seconds\" % (time.time() - start_time))\n",
        "print(classification_report(y_val, preds, target_names=target_names))\n",
        "print(\"val score:\", val_score)\n",
        "\n",
        "model = grid.best_estimator_\n",
        "y_fit = model.predict(X_val_minmax)\n",
        "\n",
        "print(grid.best_params_)\n",
        "print(\"best score:\", grid.best_score_)\n",
        "print(\"test score\", test_score)\n"
      ]
    },
    {
      "cell_type": "markdown",
      "metadata": {
        "id": "FRXI8K0m6szF"
      },
      "source": [
        "### PCA "
      ]
    },
    {
      "cell_type": "code",
      "execution_count": 49,
      "metadata": {
        "colab": {
          "base_uri": "https://localhost:8080/"
        },
        "id": "D0Sv1lxn6xto",
        "outputId": "e0fae0a2-df10-4013-baf7-c15243e676d2"
      },
      "outputs": [],
      "source": [
        "from sklearn.decomposition import PCA\n",
        "\n",
        "# PCA selector\n",
        "pca = PCA(n_components=30)\n",
        "\n",
        "# Εφαρμόζουμε στα δεδομένα εκπαίδευσης και ελέγχου τον *ΙΔΙΟ* μετασχηματισμό\n",
        "# Οι κύριες συνιστώσες υπολογίζονται στο train set\n",
        "# Στα train κάνουμε fit_transform στο test μόνο transform:\n",
        "trainPCA = pca.fit_transform(X_train_standard)\n",
        "valPCA = pca.transform(X_val_standard)\n",
        "testPCA = pca.transform(X_test_standard)"
      ]
    },
    {
      "cell_type": "code",
      "execution_count": 50,
      "metadata": {
        "colab": {
          "base_uri": "https://localhost:8080/",
          "height": 502
        },
        "id": "FzlzScQs7-L-",
        "outputId": "96e3a223-d0b4-4ffb-e5ca-ff43812e7d1a"
      },
      "outputs": [],
      "source": [
        "# # Θα τυπωσουμε το συσσωρευτικό ποσοστό διασποράς που εξηγείται από τις κύριες συνιστώσες\n",
        "# evar = pca.explained_variance_ratio_\n",
        "# cum_evar = np.cumsum(evar)\n",
        "# print(cum_evar)\n",
        "# plt.figure(1, figsize=(5, 5))\n",
        "# plt.xlabel(\"Principal Component number\")\n",
        "# plt.ylabel('Cumulative Variance')\n",
        "# plt.plot(cum_evar, linewidth=2)\n",
        "# plt.show()"
      ]
    },
    {
      "cell_type": "code",
      "execution_count": 51,
      "metadata": {
        "id": "Mlm1zXLN8EY8"
      },
      "outputs": [],
      "source": [
        "# Multilayer Perceptron\n",
        "model = MLPClassifier()\n",
        "model.fit(trainPCA, y_train)\n",
        "\n",
        "# defining parameter range\n",
        "param_grid = {'max_iter': list(range(100, 300, 50)),\n",
        "              # 'activation':['identity', 'logistic', 'tanh', 'relu'],\n",
        "              'hidden_layer_sizes': [(20, 10, 5)],\n",
        "              'solver': ['lbfgs', 'sgd', 'adam'],\n",
        "              'alpha': [1e-05],\n",
        "              }\n",
        "\n",
        "\n",
        "grid = GridSearchCV(model, param_grid, cv=10, scoring='accuracy', n_jobs=-1)\n"
      ]
    },
    {
      "cell_type": "code",
      "execution_count": 52,
      "metadata": {
        "colab": {
          "base_uri": "https://localhost:8080/"
        },
        "id": "eXAFPesG85dh",
        "outputId": "13095431-9a54-49e8-888e-1c312b971222"
      },
      "outputs": [
        {
          "name": "stdout",
          "output_type": "stream",
          "text": [
            "Συνολικός χρόνος fit και predict: 127.90909790992737 seconds\n",
            "              precision    recall  f1-score   support\n",
            "\n",
            "   home loss       0.65      0.56      0.60      1011\n",
            "    home win       0.71      0.78      0.75      1409\n",
            "\n",
            "    accuracy                           0.69      2420\n",
            "   macro avg       0.68      0.67      0.67      2420\n",
            "weighted avg       0.69      0.69      0.68      2420\n",
            "\n",
            "val score: 0.6888429752066115\n",
            "{'alpha': 1e-05, 'hidden_layer_sizes': (20, 10, 5), 'max_iter': 200, 'solver': 'sgd'}\n",
            "best score: 0.6802898550724636\n",
            "test score 0.6888429752066115\n"
          ]
        }
      ],
      "source": [
        "start_time = time.time()\n",
        "grid.fit(trainPCA, y_train)\n",
        "val_score = grid.score(valPCA, y_val)\n",
        "\n",
        "preds = grid.predict(valPCA)\n",
        "test_score = grid.score(valPCA, y_val)\n",
        "\n",
        "target_names = ['home loss', 'home win']\n",
        "\n",
        "print(\"Συνολικός χρόνος fit και predict: %s seconds\" % (time.time() - start_time))\n",
        "print(classification_report(y_val, preds, target_names=target_names))\n",
        "print(\"val score:\", val_score)\n",
        "\n",
        "model = grid.best_estimator_\n",
        "y_fit = model.predict(valPCA)\n",
        "\n",
        "print(grid.best_params_)\n",
        "print(\"best score:\", grid.best_score_)\n",
        "print(\"test score\", test_score)"
      ]
    },
    {
      "cell_type": "markdown",
      "metadata": {},
      "source": [
        "### MLP with Sequential Feature Selection"
      ]
    },
    {
      "cell_type": "markdown",
      "metadata": {},
      "source": [
        "#### Forward"
      ]
    },
    {
      "cell_type": "code",
      "execution_count": 53,
      "metadata": {},
      "outputs": [],
      "source": [
        "X_train_for_sfs = train_data[['num_possible_outcomes', 'odds_home', 'odds_away', 'HOME_RECORD_home',\n",
        "                    'W_PCT_away', 'W_PCT_prev_home', 'ROAD_RECORD_prev_home', 'W_PCT_prev_away',\n",
        "                    'HOME_RECORD_prev_away', 'ROAD_RECORD_prev_away', 'WIN_PRCT_home_3g',\n",
        "                    'FT_PCT_home_3g', 'FT_PCT_away_3g', 'FG3_PCT_away_3g', 'WIN_PRCT_home_7g',\n",
        "                    'FT_PCT_away_7g', 'REB_away_7g', 'diff_avg_ast_home', 'diff_avg_ast_away',\n",
        "                    'diff_avg_fg3_pct_home', 'diff_avg_fg_pct_away', 'diff_avg_reb_away',\n",
        "                    'top_players', 'eff', 'eff_visitor', 'G_7days', 'back2back',\n",
        "                    'HG_7days_VISITOR', 'AG_7days_VISITOR', 'G_7days_VISITOR',\n",
        "                    'back2back_visitor', 'missing_players', 'missing_players_visitor',\n",
        "                    'home_elo', 'elo_diff', 'missing_player_diff', 'eff_diff',\n",
        "                    'Home_Last_5_Avg_FG3_PCT_home', 'Home_Last_5_Avg_FG3_PCT_away',\n",
        "                    'Away_Last_5_Avg_FG3_PCT_home', 'Away_Last_5_Avg_FT_PCT_away',\n",
        "                    'diff_fg_pct_last_3_games', 'diff_fg3_pct_last_7_games',\n",
        "                    'diff_ft_pct_last_3_games', 'diff_ast_last_3_games',\n",
        "                    'diff_ast_last_7_games', 'diff_win_pct_prev_season',\n",
        "                    'diff_home_record_last_season', 'diff_road_record_last_season',\n",
        "                    'diff_curr_win_pct']]\n",
        "\n",
        "y_train_for_sfs = y_train\n",
        "\n",
        "X_val_for_sfs = valid_data[['num_possible_outcomes', 'odds_home', 'odds_away', 'HOME_RECORD_home',\n",
        "                    'W_PCT_away', 'W_PCT_prev_home', 'ROAD_RECORD_prev_home', 'W_PCT_prev_away',\n",
        "                    'HOME_RECORD_prev_away', 'ROAD_RECORD_prev_away', 'WIN_PRCT_home_3g',\n",
        "                    'FT_PCT_home_3g', 'FT_PCT_away_3g', 'FG3_PCT_away_3g', 'WIN_PRCT_home_7g',\n",
        "                    'FT_PCT_away_7g', 'REB_away_7g', 'diff_avg_ast_home', 'diff_avg_ast_away',\n",
        "                    'diff_avg_fg3_pct_home', 'diff_avg_fg_pct_away', 'diff_avg_reb_away',\n",
        "                    'top_players', 'eff', 'eff_visitor', 'G_7days', 'back2back',\n",
        "                    'HG_7days_VISITOR', 'AG_7days_VISITOR', 'G_7days_VISITOR',\n",
        "                    'back2back_visitor', 'missing_players', 'missing_players_visitor',\n",
        "                    'home_elo', 'elo_diff', 'missing_player_diff', 'eff_diff',\n",
        "                    'Home_Last_5_Avg_FG3_PCT_home', 'Home_Last_5_Avg_FG3_PCT_away',\n",
        "                    'Away_Last_5_Avg_FG3_PCT_home', 'Away_Last_5_Avg_FT_PCT_away',\n",
        "                    'diff_fg_pct_last_3_games', 'diff_fg3_pct_last_7_games',\n",
        "                    'diff_ft_pct_last_3_games', 'diff_ast_last_3_games',\n",
        "                    'diff_ast_last_7_games', 'diff_win_pct_prev_season',\n",
        "                    'diff_home_record_last_season', 'diff_road_record_last_season',\n",
        "                    'diff_curr_win_pct']]\n",
        "\n",
        "y_val_for_sfs = y_val\n"
      ]
    },
    {
      "cell_type": "code",
      "execution_count": 54,
      "metadata": {},
      "outputs": [],
      "source": [
        "# Multilayer Perceptron\n",
        "model = MLPClassifier()\n",
        "model.fit(X_train_for_sfs, y_train_for_sfs)\n",
        "\n",
        "# defining parameter range\n",
        "param_grid = {'max_iter': list(range(100, 300, 50)),\n",
        "              # 'activation':['identity', 'logistic', 'tanh', 'relu'],\n",
        "              'hidden_layer_sizes': [(20, 10, 5)],\n",
        "              'solver': ['lbfgs', 'sgd', 'adam'],\n",
        "              'alpha': [1e-05],\n",
        "              }\n",
        "\n",
        "\n",
        "grid = GridSearchCV(model, param_grid, cv=10, scoring='accuracy', n_jobs=-1)\n"
      ]
    },
    {
      "cell_type": "code",
      "execution_count": 55,
      "metadata": {},
      "outputs": [
        {
          "name": "stdout",
          "output_type": "stream",
          "text": [
            "Συνολικός χρόνος fit και predict: 61.07573866844177 seconds\n",
            "              precision    recall  f1-score   support\n",
            "\n",
            "   home loss       0.67      0.53      0.59      1011\n",
            "    home win       0.70      0.81      0.75      1409\n",
            "\n",
            "    accuracy                           0.69      2420\n",
            "   macro avg       0.69      0.67      0.67      2420\n",
            "weighted avg       0.69      0.69      0.68      2420\n",
            "\n",
            "val score: 0.6917355371900826\n",
            "{'alpha': 1e-05, 'hidden_layer_sizes': (20, 10, 5), 'max_iter': 150, 'solver': 'lbfgs'}\n",
            "best score: 0.6571014492753624\n",
            "test score 0.6917355371900826\n"
          ]
        }
      ],
      "source": [
        "start_time = time.time()\n",
        "grid.fit(X_train_for_sfs, y_train_for_sfs)\n",
        "val_score = grid.score(X_val_for_sfs, y_val_for_sfs)\n",
        "\n",
        "preds = grid.predict(X_val_for_sfs)\n",
        "test_score = grid.score(X_val_for_sfs, y_val_for_sfs)\n",
        "\n",
        "target_names = ['home loss', 'home win']\n",
        "\n",
        "print(\"Συνολικός χρόνος fit και predict: %s seconds\" % (time.time() - start_time))\n",
        "print(classification_report(y_val_for_sfs, preds, target_names=target_names))\n",
        "print(\"val score:\", val_score)\n",
        "\n",
        "model = grid.best_estimator_\n",
        "y_fit = model.predict(X_val_for_sfs)\n",
        "\n",
        "print(grid.best_params_)\n",
        "print(\"best score:\", grid.best_score_)\n",
        "print(\"test score\", test_score)\n"
      ]
    },
    {
      "cell_type": "markdown",
      "metadata": {},
      "source": [
        "#### Backwards"
      ]
    },
    {
      "cell_type": "code",
      "execution_count": 56,
      "metadata": {},
      "outputs": [],
      "source": [
        "X_train_back_sfs = train_data[['num_possible_outcomes', 'odds_home', 'odds_away', 'HOME_RECORD_home',\n",
        "                     'W_PCT_away', 'W_PCT_prev_away', 'HOME_RECORD_prev_away',\n",
        "                     'ROAD_RECORD_prev_away', 'FT_PCT_home_3g', 'FG3_PCT_home_3g', 'PTS_away_3g',\n",
        "                     'FG_PCT_away_3g', 'FT_PCT_away_3g', 'FG3_PCT_away_3g', 'PTS_home_7g',\n",
        "                     'FG_PCT_home_7g', 'AST_home_7g', 'AST_away_7g', 'REB_away_7g',\n",
        "                     'diff_avg_pts_away', 'diff_avg_ast_home', 'diff_avg_ast_away',\n",
        "                     'diff_avg_fg3_pct_home', 'top_players', 'top_players_visitor', 'eff_visitor',\n",
        "                     'G_7days', 'back2back', 'HG_7days_VISITOR', 'AG_7days_VISITOR',\n",
        "                     'G_7days_VISITOR', 'back2back_visitor', 'home_elo', 'elo_diff',\n",
        "                     'missing_player_diff', 'eff_diff', 'Home_Last_5_Avg_AST_home',\n",
        "                     'Home_Last_5_Avg_REB_home', 'Home_Last_5_Avg_REB_away',\n",
        "                     'Home_Last_5_Avg_FG3_PCT_away', 'Away_Last_5_Avg_PTS_home',\n",
        "                     'Away_Last_5_Avg_FG3_PCT_home', 'Away_Last_5_Avg_AST_home',\n",
        "                     'Away_Last_5_Avg_FT_PCT_away', 'diff_fg3_pct_last_3_games',\n",
        "                     'diff_fg3_pct_last_7_games', 'diff_ft_pct_last_3_games',\n",
        "                     'diff_ast_last_7_games', 'diff_reb_last_3_games',\n",
        "                     'diff_win_pct_3_last_games']]\n",
        "\n",
        "y_train_back_sfs = y_train\n",
        "\n",
        "X_val_back_sfs = valid_data[['num_possible_outcomes', 'odds_home', 'odds_away', 'HOME_RECORD_home',\n",
        "                     'W_PCT_away', 'W_PCT_prev_away', 'HOME_RECORD_prev_away',\n",
        "                     'ROAD_RECORD_prev_away', 'FT_PCT_home_3g', 'FG3_PCT_home_3g', 'PTS_away_3g',\n",
        "                     'FG_PCT_away_3g', 'FT_PCT_away_3g', 'FG3_PCT_away_3g', 'PTS_home_7g',\n",
        "                     'FG_PCT_home_7g', 'AST_home_7g', 'AST_away_7g', 'REB_away_7g',\n",
        "                     'diff_avg_pts_away', 'diff_avg_ast_home', 'diff_avg_ast_away',\n",
        "                     'diff_avg_fg3_pct_home', 'top_players', 'top_players_visitor', 'eff_visitor',\n",
        "                     'G_7days', 'back2back', 'HG_7days_VISITOR', 'AG_7days_VISITOR',\n",
        "                     'G_7days_VISITOR', 'back2back_visitor', 'home_elo', 'elo_diff',\n",
        "                     'missing_player_diff', 'eff_diff', 'Home_Last_5_Avg_AST_home',\n",
        "                     'Home_Last_5_Avg_REB_home', 'Home_Last_5_Avg_REB_away',\n",
        "                     'Home_Last_5_Avg_FG3_PCT_away', 'Away_Last_5_Avg_PTS_home',\n",
        "                     'Away_Last_5_Avg_FG3_PCT_home', 'Away_Last_5_Avg_AST_home',\n",
        "                     'Away_Last_5_Avg_FT_PCT_away', 'diff_fg3_pct_last_3_games',\n",
        "                     'diff_fg3_pct_last_7_games', 'diff_ft_pct_last_3_games',\n",
        "                     'diff_ast_last_7_games', 'diff_reb_last_3_games',\n",
        "                     'diff_win_pct_3_last_games']]\n",
        "\n",
        "y_val_back_sfs = y_val"
      ]
    },
    {
      "cell_type": "code",
      "execution_count": 57,
      "metadata": {},
      "outputs": [],
      "source": [
        "# Multilayer Perceptron\n",
        "model = MLPClassifier()\n",
        "model.fit(X_train_back_sfs, y_train_back_sfs)\n",
        "\n",
        "# defining parameter range\n",
        "param_grid = {'max_iter': list(range(100, 300, 50)),\n",
        "              # 'activation':['identity', 'logistic', 'tanh', 'relu'],\n",
        "              'hidden_layer_sizes': [(20, 10, 5)],\n",
        "              'solver': ['lbfgs', 'sgd', 'adam'],\n",
        "              'alpha': [1e-05],\n",
        "              }\n",
        "\n",
        "\n",
        "grid = GridSearchCV(model, param_grid, cv=10, scoring='accuracy', n_jobs=-1)\n"
      ]
    },
    {
      "cell_type": "code",
      "execution_count": 58,
      "metadata": {},
      "outputs": [
        {
          "name": "stdout",
          "output_type": "stream",
          "text": [
            "Συνολικός χρόνος fit και predict: 69.20416402816772 seconds\n",
            "              precision    recall  f1-score   support\n",
            "\n",
            "   home loss       0.68      0.52      0.59      1011\n",
            "    home win       0.70      0.82      0.76      1409\n",
            "\n",
            "    accuracy                           0.70      2420\n",
            "   macro avg       0.69      0.67      0.67      2420\n",
            "weighted avg       0.69      0.70      0.69      2420\n",
            "\n",
            "val score: 0.6950413223140496\n",
            "{'alpha': 1e-05, 'hidden_layer_sizes': (20, 10, 5), 'max_iter': 100, 'solver': 'lbfgs'}\n",
            "best score: 0.6842028985507247\n",
            "test score 0.6950413223140496\n"
          ]
        }
      ],
      "source": [
        "start_time = time.time()\n",
        "grid.fit(X_train_back_sfs, y_train_back_sfs)\n",
        "val_score = grid.score(X_val_back_sfs, y_val_back_sfs)\n",
        "\n",
        "preds = grid.predict(X_val_back_sfs)\n",
        "test_score = grid.score(X_val_back_sfs, y_val_for_sfs)\n",
        "\n",
        "target_names = ['home loss', 'home win']\n",
        "\n",
        "print(\"Συνολικός χρόνος fit και predict: %s seconds\" % (time.time() - start_time))\n",
        "print(classification_report(y_val_back_sfs, preds, target_names=target_names))\n",
        "print(\"val score:\", val_score)\n",
        "\n",
        "model = grid.best_estimator_\n",
        "y_fit = model.predict(X_val_back_sfs)\n",
        "\n",
        "print(grid.best_params_)\n",
        "print(\"best score:\", grid.best_score_)\n",
        "print(\"test score\", test_score)\n"
      ]
    },
    {
      "cell_type": "markdown",
      "metadata": {},
      "source": [
        "### Make some combinations"
      ]
    },
    {
      "cell_type": "code",
      "execution_count": 77,
      "metadata": {},
      "outputs": [],
      "source": [
        "pca = PCA().fit(X_train_rfe)\n",
        "X_train_pca = pca.transform(X_train_rfe)\n",
        "X_val_pca = pca.transform(X_val_rfe)"
      ]
    },
    {
      "cell_type": "code",
      "execution_count": 78,
      "metadata": {},
      "outputs": [],
      "source": [
        "# Multilayer Perceptron\n",
        "model = MLPClassifier()\n",
        "model.fit(X_train_pca, y_train)\n",
        "\n",
        "# defining parameter range\n",
        "param_grid = {'max_iter': list(range(100, 300, 50)),\n",
        "              # 'activation':['identity', 'logistic', 'tanh', 'relu'],\n",
        "              'hidden_layer_sizes': [(20, 10, 5)],\n",
        "              'solver': ['lbfgs', 'sgd', 'adam'],\n",
        "              'alpha': [1e-05],\n",
        "              }\n",
        "\n",
        "\n",
        "grid = GridSearchCV(model, param_grid, cv=10, scoring='accuracy', n_jobs=-1)\n"
      ]
    },
    {
      "cell_type": "code",
      "execution_count": 79,
      "metadata": {},
      "outputs": [
        {
          "name": "stdout",
          "output_type": "stream",
          "text": [
            "Συνολικός χρόνος fit και predict: 123.16951107978821 seconds\n",
            "              precision    recall  f1-score   support\n",
            "\n",
            "   home loss       0.69      0.51      0.59      1011\n",
            "    home win       0.70      0.84      0.76      1409\n",
            "\n",
            "    accuracy                           0.70      2420\n",
            "   macro avg       0.70      0.67      0.67      2420\n",
            "weighted avg       0.70      0.70      0.69      2420\n",
            "\n",
            "val score: 0.6995867768595041\n",
            "{'alpha': 1e-05, 'hidden_layer_sizes': (20, 10, 5), 'max_iter': 150, 'solver': 'lbfgs'}\n",
            "best score: 0.6768115942028985\n",
            "test score 0.6995867768595041\n"
          ]
        }
      ],
      "source": [
        "start_time = time.time()\n",
        "grid.fit(X_train_pca, y_train)\n",
        "val_score = grid.score(X_val_pca, y_val)\n",
        "\n",
        "preds = grid.predict(X_val_pca)\n",
        "test_score = grid.score(X_val_pca, y_val)\n",
        "\n",
        "target_names = ['home loss', 'home win']\n",
        "\n",
        "print(\"Συνολικός χρόνος fit και predict: %s seconds\" % (time.time() - start_time))\n",
        "print(classification_report(y_val, preds, target_names=target_names))\n",
        "print(\"val score:\", val_score)\n",
        "\n",
        "model = grid.best_estimator_\n",
        "y_fit = model.predict(X_val_pca)\n",
        "\n",
        "print(grid.best_params_)\n",
        "print(\"best score:\", grid.best_score_)\n",
        "print(\"test score\", test_score)"
      ]
    },
    {
      "cell_type": "code",
      "execution_count": 106,
      "metadata": {},
      "outputs": [],
      "source": [
        "pca = PCA().fit(X_train_back_sfs)\n",
        "X_train_pca = pca.transform(X_train_back_sfs)\n",
        "X_val_pca = pca.transform(X_val_back_sfs)"
      ]
    },
    {
      "cell_type": "code",
      "execution_count": 107,
      "metadata": {},
      "outputs": [],
      "source": [
        "# Multilayer Perceptron\n",
        "model = MLPClassifier()\n",
        "model.fit(X_train_pca, y_train)\n",
        "\n",
        "# defining parameter range\n",
        "param_grid = {'max_iter': list(range(100, 300, 50)),\n",
        "              # 'activation':['identity', 'logistic', 'tanh', 'relu'],\n",
        "              'hidden_layer_sizes': [(20, 10, 5)],\n",
        "              'solver': ['lbfgs', 'sgd', 'adam'],\n",
        "              'alpha': [1e-05],\n",
        "              }\n",
        "\n",
        "\n",
        "grid = GridSearchCV(model, param_grid, cv=10, scoring='accuracy', n_jobs=-1)\n"
      ]
    },
    {
      "cell_type": "code",
      "execution_count": 108,
      "metadata": {},
      "outputs": [
        {
          "name": "stdout",
          "output_type": "stream",
          "text": [
            "Συνολικός χρόνος fit και predict: 99.76697778701782 seconds\n",
            "              precision    recall  f1-score   support\n",
            "\n",
            "   home loss       0.65      0.55      0.60      1011\n",
            "    home win       0.71      0.79      0.75      1409\n",
            "\n",
            "    accuracy                           0.69      2420\n",
            "   macro avg       0.68      0.67      0.67      2420\n",
            "weighted avg       0.69      0.69      0.68      2420\n",
            "\n",
            "val score: 0.6900826446280992\n",
            "{'alpha': 1e-05, 'hidden_layer_sizes': (20, 10, 5), 'max_iter': 200, 'solver': 'lbfgs'}\n",
            "best score: 0.6765217391304349\n",
            "test score 0.6900826446280992\n"
          ]
        }
      ],
      "source": [
        "start_time = time.time()\n",
        "grid.fit(X_train_pca, y_train)\n",
        "val_score = grid.score(X_val_pca, y_val)\n",
        "\n",
        "preds = grid.predict(X_val_pca)\n",
        "test_score = grid.score(X_val_pca, y_val)\n",
        "\n",
        "target_names = ['home loss', 'home win']\n",
        "\n",
        "print(\"Συνολικός χρόνος fit και predict: %s seconds\" % (time.time() - start_time))\n",
        "print(classification_report(y_val, preds, target_names=target_names))\n",
        "print(\"val score:\", val_score)\n",
        "\n",
        "model = grid.best_estimator_\n",
        "y_fit = model.predict(X_val_pca)\n",
        "\n",
        "print(grid.best_params_)\n",
        "print(\"best score:\", grid.best_score_)\n",
        "print(\"test score\", test_score)"
      ]
    },
    {
      "cell_type": "code",
      "execution_count": null,
      "metadata": {},
      "outputs": [],
      "source": []
    }
  ],
  "metadata": {
    "colab": {
      "collapsed_sections": [],
      "name": "Untitled16.ipynb",
      "provenance": [],
      "toc_visible": true
    },
    "kernelspec": {
      "display_name": "Python 3.9.4 64-bit",
      "language": "python",
      "name": "python3"
    },
    "language_info": {
      "codemirror_mode": {
        "name": "ipython",
        "version": 3
      },
      "file_extension": ".py",
      "mimetype": "text/x-python",
      "name": "python",
      "nbconvert_exporter": "python",
      "pygments_lexer": "ipython3",
      "version": "3.9.4"
    },
    "vscode": {
      "interpreter": {
        "hash": "81794d4967e6c3204c66dcd87b604927b115b27c00565d3d43f05ba2f3a2cb0d"
      }
    }
  },
  "nbformat": 4,
  "nbformat_minor": 0
}
