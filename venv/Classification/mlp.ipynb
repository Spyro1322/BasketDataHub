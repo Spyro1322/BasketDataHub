{
  "cells": [
    {
      "cell_type": "markdown",
      "metadata": {
        "id": "l-YOik-Z4m1U"
      },
      "source": [
        "## MLP with GridSearchCV"
      ]
    },
    {
      "cell_type": "code",
      "execution_count": 1,
      "metadata": {
        "id": "xVeNWGsG0H7P"
      },
      "outputs": [],
      "source": [
        "import pandas as pd\n",
        "import numpy as np\n",
        "import matplotlib.pyplot as plt\n",
        "\n",
        "\n",
        "df = pd.read_csv('../FeatureEngineering/MetaData/data6_&_odds.csv')\n",
        "df.dropna(inplace=True)"
      ]
    },
    {
      "cell_type": "code",
      "execution_count": 2,
      "metadata": {
        "id": "NWeduztH0v69"
      },
      "outputs": [],
      "source": [
        "from sklearn.neural_network import MLPClassifier\n",
        "from sklearn.model_selection import train_test_split, GridSearchCV\n",
        "from sklearn.metrics import classification_report\n",
        "\n",
        "import time\n",
        "\n",
        "import warnings\n",
        "warnings.filterwarnings('ignore')\n"
      ]
    },
    {
      "cell_type": "code",
      "execution_count": 3,
      "metadata": {
        "id": "ygUdk0lL04ao"
      },
      "outputs": [],
      "source": [
        "\n",
        "train_data = df.loc[(df.season <= 2013) & (df.season >= 2007)]\n",
        "valid_data = df.loc[(df.season > 2013) & (df.season < 2016)]\n",
        "test_data = df.loc[df.season >= 2016]\n",
        "full_train_data = pd.concat([train_data, valid_data], axis=0)\n",
        "\n",
        "X, y = train_data.drop(columns=['home_team_wins']), train_data.home_team_wins\n",
        "valid_X, valid_y = valid_data.drop(columns=['home_team_wins']), valid_data.home_team_wins\n",
        "test_X, test_y = test_data.drop(columns=['home_team_wins']), test_data.home_team_wins\n",
        "\n",
        "X1 = df.drop([\"game_date_est\", \"season\", \"game_id\", \"home_team\", \"visitor_team\", \"home_team_id\", \"visitor_team_id\",\n",
        "              \"home_team_wins\", \"conference\", \"conference_visitor\"], axis=1)\n",
        "y1 = df[\"home_team_wins\"]\n",
        "\n",
        "# Split our data\n",
        "X_train, X_test, y_train, y_test = train_test_split(X1, y1, test_size=0.4)\n",
        "\n",
        "# Split Data to Train and Validation\n",
        "X_train, X_val, y_train, y_val = train_test_split(X_train, y_train, test_size=0.2, random_state=1)\n"
      ]
    },
    {
      "cell_type": "code",
      "execution_count": 4,
      "metadata": {
        "id": "w2Wud7cI0-a-"
      },
      "outputs": [],
      "source": [
        "# Multilayer Perceptron\n",
        "model = MLPClassifier()\n",
        "model.fit(X_train, y_train)\n",
        "\n",
        "# defining parameter range\n",
        "param_grid = {'max_iter': list(range(100, 300, 50)),\n",
        "              # 'activation':['identity', 'logistic', 'tanh', 'relu'],\n",
        "              'hidden_layer_sizes': [(20, 10, 5)],\n",
        "              'solver': ['lbfgs', 'sgd'],\n",
        "              'alpha': [1e-05],\n",
        "              }\n",
        "\n",
        "\n",
        "grid = GridSearchCV(model, param_grid, cv=5, scoring='accuracy', n_jobs=-1)\n"
      ]
    },
    {
      "cell_type": "code",
      "execution_count": 5,
      "metadata": {
        "colab": {
          "base_uri": "https://localhost:8080/"
        },
        "id": "jDS-iayB1FSa",
        "outputId": "59ba0fec-0996-40e2-d206-30436f8c1427"
      },
      "outputs": [
        {
          "name": "stdout",
          "output_type": "stream",
          "text": [
            "Συνολικός χρόνος fit και predict: 31.00773811340332 seconds\n",
            "              precision    recall  f1-score   support\n",
            "\n",
            "   home_loss       0.93      0.93      0.93      2344\n",
            "    home_win       0.95      0.95      0.95      3218\n",
            "\n",
            "    accuracy                           0.94      5562\n",
            "   macro avg       0.94      0.94      0.94      5562\n",
            "weighted avg       0.94      0.94      0.94      5562\n",
            "\n",
            "val score: 0.9532654284002396\n",
            "{'alpha': 1e-05, 'hidden_layer_sizes': (20, 10, 5), 'max_iter': 250, 'solver': 'lbfgs'}\n",
            "best score: 0.9860626989875849\n",
            "test score 0.9415677813736066\n"
          ]
        }
      ],
      "source": [
        "start_time = time.time()\n",
        "grid.fit(X_train, y_train)\n",
        "val_score = grid.score(X_val, y_val)\n",
        "\n",
        "preds = grid.predict(X_test)\n",
        "test_score = grid.score(X_test, y_test)\n",
        "\n",
        "target_names = ['home_loss', 'home_win']\n",
        "\n",
        "print(\"Συνολικός χρόνος fit και predict: %s seconds\" % (time.time() - start_time))\n",
        "print(classification_report(y_test, preds, target_names=target_names))\n",
        "print(\"val score:\", val_score)\n",
        "\n",
        "model = grid.best_estimator_\n",
        "y_fit = model.predict(X_test)\n",
        "\n",
        "print(grid.best_params_)\n",
        "print(\"best score:\", grid.best_score_)\n",
        "print(\"test score\", test_score)\n"
      ]
    },
    {
      "cell_type": "markdown",
      "metadata": {
        "id": "9GUug98l1TiQ"
      },
      "source": [
        "## Standard Scaler"
      ]
    },
    {
      "cell_type": "code",
      "execution_count": 6,
      "metadata": {
        "id": "gY8H4GGM1JZx"
      },
      "outputs": [],
      "source": [
        "from sklearn.preprocessing import StandardScaler\n",
        "\n",
        "# Scaling features\n",
        "scaler = StandardScaler()\n",
        "X_train_standard = scaler.fit_transform(X_train)\n",
        "X_val_standard = scaler.transform(X_val)\n",
        "X_test_standard = scaler.transform(X_test)"
      ]
    },
    {
      "cell_type": "code",
      "execution_count": 7,
      "metadata": {
        "id": "n_8yBGij149m"
      },
      "outputs": [],
      "source": [
        "# Multilayer Perceptron\n",
        "model = MLPClassifier()\n",
        "model.fit(X_train_standard, y_train)\n",
        "\n",
        "# defining parameter range\n",
        "param_grid = {'max_iter': list(range(100, 300, 50)),\n",
        "              # 'activation':['identity', 'logistic', 'tanh', 'relu'],\n",
        "              'hidden_layer_sizes': [(20, 10, 5)],\n",
        "              'solver': ['lbfgs', 'sgd', 'adam'],\n",
        "              'alpha': [1e-05],\n",
        "              }\n",
        "\n",
        "\n",
        "grid = GridSearchCV(model, param_grid, cv=5, scoring='accuracy', n_jobs=-1)\n"
      ]
    },
    {
      "cell_type": "code",
      "execution_count": 8,
      "metadata": {
        "colab": {
          "base_uri": "https://localhost:8080/"
        },
        "id": "wDV0Ok9523OS",
        "outputId": "009fb7db-ed4b-4875-fae4-3b781f64a8c0"
      },
      "outputs": [
        {
          "name": "stdout",
          "output_type": "stream",
          "text": [
            "Συνολικός χρόνος fit και predict: 41.817800521850586 seconds\n",
            "              precision    recall  f1-score   support\n",
            "\n",
            "   home loss       0.99      0.99      0.99      2344\n",
            "    home win       0.99      0.99      0.99      3218\n",
            "\n",
            "    accuracy                           0.99      5562\n",
            "   macro avg       0.99      0.99      0.99      5562\n",
            "weighted avg       0.99      0.99      0.99      5562\n",
            "\n",
            "val score: 0.9898142600359496\n",
            "{'alpha': 1e-05, 'hidden_layer_sizes': (20, 10, 5), 'max_iter': 150, 'solver': 'lbfgs'}\n",
            "best score: 0.9896586538191577\n",
            "test score 0.9902912621359223\n"
          ]
        }
      ],
      "source": [
        "start_time = time.time()\n",
        "grid.fit(X_train_standard, y_train)\n",
        "val_score = grid.score(X_val_standard, y_val)\n",
        "\n",
        "preds = grid.predict(X_test_standard)\n",
        "test_score = grid.score(X_test_standard, y_test)\n",
        "\n",
        "target_names = ['home loss', 'home win']\n",
        "\n",
        "print(\"Συνολικός χρόνος fit και predict: %s seconds\" % (time.time() - start_time))\n",
        "print(classification_report(y_test, preds, target_names=target_names))\n",
        "print(\"val score:\", val_score)\n",
        "\n",
        "model = grid.best_estimator_\n",
        "y_fit = model.predict(X_test_standard)\n",
        "\n",
        "print(grid.best_params_)\n",
        "print(\"best score:\", grid.best_score_)\n",
        "print(\"test score\", test_score)\n"
      ]
    },
    {
      "cell_type": "markdown",
      "metadata": {
        "id": "BGP9Yp9q3Z09"
      },
      "source": [
        "## MinMax Scaler"
      ]
    },
    {
      "cell_type": "code",
      "execution_count": 9,
      "metadata": {
        "id": "mpkaQJGD3ZQL"
      },
      "outputs": [],
      "source": [
        "from sklearn.preprocessing import MinMaxScaler\n",
        "\n",
        "# Scaling features\n",
        "scaler = MinMaxScaler()\n",
        "X_train_minmax = scaler.fit_transform(X_train)\n",
        "X_val_minmax = scaler.transform(X_val)\n",
        "X_test_minmax = scaler.transform(X_test)"
      ]
    },
    {
      "cell_type": "code",
      "execution_count": 10,
      "metadata": {
        "id": "Y7LAiErA30vb"
      },
      "outputs": [],
      "source": [
        "# # Split our data\n",
        "# X_train, X_test, y_train, y_test = train_test_split(X1, y1, test_size=0.4)\n",
        "\n",
        "# # Split Data to Train and Validation\n",
        "# X_train, X_val, y_train, y_val = train_test_split(X_train_minmax, y_train, test_size=0.2)\n"
      ]
    },
    {
      "cell_type": "code",
      "execution_count": 11,
      "metadata": {
        "id": "Hpj5lpO94A22"
      },
      "outputs": [],
      "source": [
        "# Multilayer Perceptron\n",
        "model = MLPClassifier()\n",
        "model.fit(X_train_minmax, y_train)\n",
        "\n",
        "# defining parameter range\n",
        "param_grid = {'max_iter': list(range(100, 300, 50)),\n",
        "              # 'activation':['identity', 'logistic', 'tanh', 'relu'],\n",
        "              'hidden_layer_sizes': [(20, 10, 5)],\n",
        "              'solver': ['lbfgs', 'sgd', 'adam'],\n",
        "              'alpha': [1e-05],\n",
        "              }\n",
        "\n",
        "\n",
        "grid = GridSearchCV(model, param_grid, cv=5, scoring='accuracy', n_jobs=-1)\n"
      ]
    },
    {
      "cell_type": "code",
      "execution_count": 12,
      "metadata": {
        "colab": {
          "base_uri": "https://localhost:8080/"
        },
        "id": "Ko5VRfRx4HA-",
        "outputId": "51fa54b9-7477-4e04-e7b1-80e2e28de2bf"
      },
      "outputs": [
        {
          "name": "stdout",
          "output_type": "stream",
          "text": [
            "Συνολικός χρόνος fit και predict: 78.05638289451599 seconds\n",
            "              precision    recall  f1-score   support\n",
            "\n",
            "   home loss       1.00      1.00      1.00      2344\n",
            "    home win       1.00      1.00      1.00      3218\n",
            "\n",
            "    accuracy                           1.00      5562\n",
            "   macro avg       1.00      1.00      1.00      5562\n",
            "weighted avg       1.00      1.00      1.00      5562\n",
            "\n",
            "val score: 0.9964050329538646\n",
            "{'alpha': 1e-05, 'hidden_layer_sizes': (20, 10, 5), 'max_iter': 250, 'solver': 'lbfgs'}\n",
            "best score: 0.9983512738013015\n",
            "test score 0.9989212513484358\n"
          ]
        }
      ],
      "source": [
        "start_time = time.time()\n",
        "grid.fit(X_train_minmax, y_train)\n",
        "val_score = grid.score(X_val_minmax, y_val)\n",
        "\n",
        "preds = grid.predict(X_test_minmax)\n",
        "test_score = grid.score(X_test_minmax, y_test)\n",
        "\n",
        "target_names = ['home loss', 'home win']\n",
        "\n",
        "print(\"Συνολικός χρόνος fit και predict: %s seconds\" % (time.time() - start_time))\n",
        "print(classification_report(y_test, preds, target_names=target_names))\n",
        "print(\"val score:\", val_score)\n",
        "\n",
        "model = grid.best_estimator_\n",
        "y_fit = model.predict(X_test_minmax)\n",
        "\n",
        "print(grid.best_params_)\n",
        "print(\"best score:\", grid.best_score_)\n",
        "print(\"test score\", test_score)\n"
      ]
    },
    {
      "cell_type": "markdown",
      "metadata": {
        "id": "FRXI8K0m6szF"
      },
      "source": [
        "## PCA "
      ]
    },
    {
      "cell_type": "code",
      "execution_count": 13,
      "metadata": {
        "colab": {
          "base_uri": "https://localhost:8080/"
        },
        "id": "D0Sv1lxn6xto",
        "outputId": "e0fae0a2-df10-4013-baf7-c15243e676d2"
      },
      "outputs": [],
      "source": [
        "from sklearn.decomposition import PCA\n",
        "from sklearn.pipeline import make_pipeline\n",
        "\n",
        "# PCA selector\n",
        "pca = PCA(n_components=30)\n",
        "\n",
        "# Εφαρμόζουμε στα δεδομένα εκπαίδευσης και ελέγχου τον *ΙΔΙΟ* μετασχηματισμό\n",
        "# Οι κύριες συνιστώσες υπολογίζονται στο train set\n",
        "# Στα train κάνουμε fit_transform στο test μόνο transform:\n",
        "trainPCA = pca.fit_transform(X_train_standard)\n",
        "valPCA = pca.transform(X_val_standard)\n",
        "testPCA = pca.transform(X_test_standard)\n",
        "\n",
        "# Multilayer Perceptron\n",
        "estimator = MLPClassifier(alpha=1e-05, hidden_layer_sizes=(20, 10, 5), max_iter=250, solver='lbfgs')\n",
        "\n",
        "# model = make_pipeline(pca, estimator)\n",
        "# model.fit(X_train, y_train)"
      ]
    },
    {
      "cell_type": "code",
      "execution_count": 14,
      "metadata": {
        "colab": {
          "base_uri": "https://localhost:8080/",
          "height": 502
        },
        "id": "FzlzScQs7-L-",
        "outputId": "96e3a223-d0b4-4ffb-e5ca-ff43812e7d1a"
      },
      "outputs": [],
      "source": [
        "# # Θα τυπωσουμε το συσσωρευτικό ποσοστό διασποράς που εξηγείται από τις κύριες συνιστώσες\n",
        "# evar = pca.explained_variance_ratio_\n",
        "# cum_evar = np.cumsum(evar)\n",
        "# print(cum_evar)\n",
        "# plt.figure(1, figsize=(5, 5))\n",
        "# plt.xlabel(\"Principal Component number\")\n",
        "# plt.ylabel('Cumulative Variance')\n",
        "# plt.plot(cum_evar, linewidth=2)\n",
        "# plt.show()"
      ]
    },
    {
      "cell_type": "code",
      "execution_count": 15,
      "metadata": {
        "id": "Mlm1zXLN8EY8"
      },
      "outputs": [],
      "source": [
        "# # defining parameter range\n",
        "# param_grid = {'pca__n_components': [5, 20],\n",
        "#               'estimator__max_iter': list(range(100, 300, 50)),\n",
        "#               # 'activation':['identity', 'logistic', 'tanh', 'relu'],\n",
        "#               'estimator__hidden_layer_sizes': [(20, 10, 5)],\n",
        "#               'estimator__solver': ['lbfgs', 'sgd', 'adam'],\n",
        "#               'estimator__alpha': [1e-05],\n",
        "#               }\n",
        "\n",
        "\n",
        "# grid = GridSearchCV(model, param_grid, cv=5, scoring='accuracy', n_jobs=-1)\n"
      ]
    },
    {
      "cell_type": "code",
      "execution_count": 16,
      "metadata": {
        "colab": {
          "base_uri": "https://localhost:8080/"
        },
        "id": "eXAFPesG85dh",
        "outputId": "13095431-9a54-49e8-888e-1c312b971222"
      },
      "outputs": [
        {
          "name": "stdout",
          "output_type": "stream",
          "text": [
            "Συνολικός χρόνος fit και predict: 3.2519948482513428 seconds\n",
            "              precision    recall  f1-score   support\n",
            "\n",
            "   home loss       0.62      0.43      0.51      2344\n",
            "    home win       0.66      0.81      0.73      3218\n",
            "\n",
            "    accuracy                           0.65      5562\n",
            "   macro avg       0.64      0.62      0.62      5562\n",
            "weighted avg       0.65      0.65      0.64      5562\n",
            "\n",
            "val score: 0.6728579988016776\n",
            "test score 0.6503056454512766\n"
          ]
        }
      ],
      "source": [
        "start_time = time.time()\n",
        "estimator.fit(trainPCA, y_train)\n",
        "val_score = estimator.score(valPCA, y_val)\n",
        "\n",
        "preds = estimator.predict(testPCA)\n",
        "test_score = estimator.score(testPCA, y_test)\n",
        "\n",
        "target_names = ['home loss', 'home win']\n",
        "\n",
        "print(\"Συνολικός χρόνος fit και predict: %s seconds\" % (time.time() - start_time))\n",
        "print(classification_report(y_test, preds, target_names=target_names))\n",
        "print(\"val score:\", val_score)\n",
        "\n",
        "y_fit = estimator.predict(testPCA)\n",
        "\n",
        "print(\"test score\", test_score)\n"
      ]
    },
    {
      "cell_type": "code",
      "execution_count": null,
      "metadata": {},
      "outputs": [],
      "source": []
    }
  ],
  "metadata": {
    "colab": {
      "collapsed_sections": [],
      "name": "Untitled16.ipynb",
      "provenance": [],
      "toc_visible": true
    },
    "kernelspec": {
      "display_name": "Python 3",
      "name": "python3"
    },
    "language_info": {
      "codemirror_mode": {
        "name": "ipython",
        "version": 3
      },
      "file_extension": ".py",
      "mimetype": "text/x-python",
      "name": "python",
      "nbconvert_exporter": "python",
      "pygments_lexer": "ipython3",
      "version": "3.9.4"
    }
  },
  "nbformat": 4,
  "nbformat_minor": 0
}
