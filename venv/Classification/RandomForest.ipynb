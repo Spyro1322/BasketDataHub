{
  "cells": [
    {
      "cell_type": "markdown",
      "metadata": {},
      "source": [
        "## Random Forest Classifier"
      ]
    },
    {
      "cell_type": "markdown",
      "metadata": {},
      "source": [
        "### Simple RF Classifier with GridSearchCV"
      ]
    },
    {
      "cell_type": "code",
      "execution_count": 4,
      "metadata": {
        "id": "0wJOBWwtD342"
      },
      "outputs": [],
      "source": [
        "# Importing libraries\n",
        "import time\n",
        "import warnings\n",
        "\n",
        "import numpy as np\n",
        "import pandas as pd\n",
        "import matplotlib.pyplot as plt\n",
        "import seaborn as sns\n",
        "\n",
        "from sklearn.ensemble import RandomForestClassifier\n",
        "from sklearn.model_selection import train_test_split, GridSearchCV\n",
        "from sklearn.metrics import classification_report\n"
      ]
    },
    {
      "cell_type": "code",
      "execution_count": 5,
      "metadata": {
        "id": "Wzt5T0VxD8eb"
      },
      "outputs": [],
      "source": [
        "warnings.filterwarnings('ignore')"
      ]
    },
    {
      "cell_type": "code",
      "execution_count": 6,
      "metadata": {
        "id": "PMHS8bRuEBFc"
      },
      "outputs": [],
      "source": [
        "df = pd.read_csv('../FeatureEngineering/MetaData/data6_&_odds.csv')\n",
        "df.dropna(inplace=True)"
      ]
    },
    {
      "cell_type": "code",
      "execution_count": 7,
      "metadata": {
        "id": "hSEe6pO5EMfW"
      },
      "outputs": [],
      "source": [
        "train_data = df.loc[(df.season <= 2013) & (df.season >= 2007)]\n",
        "valid_data = df.loc[(df.season > 2013) & (df.season < 2016)]\n",
        "test_data = df.loc[df.season >= 2016]\n",
        "full_train_data = pd.concat([train_data, valid_data], axis=0)\n",
        "\n",
        "X, y = train_data.drop(columns=['home_team_wins']), train_data.home_team_wins\n",
        "valid_X, valid_y = valid_data.drop(columns=['home_team_wins']), valid_data.home_team_wins\n",
        "test_X, test_y = test_data.drop(columns=['home_team_wins']), test_data.home_team_wins\n",
        "\n",
        "X1 = df.drop([\"game_date_est\", \"season\", \"game_id\", \"home_team\", \"visitor_team\", \"home_team_id\", \"visitor_team_id\",\n",
        "              \"home_team_wins\", \"conference\", \"conference_visitor\"], axis=1)\n",
        "y1 = df[\"home_team_wins\"]\n",
        "\n",
        "# Split our data\n",
        "X_train, X_test, y_train, y_test = train_test_split(X1, y1, test_size=0.4)\n",
        "\n",
        "# Split Data to Train and Validation\n",
        "X_train, X_val, y_train, y_val = train_test_split(X_train, y_train, test_size=0.2, random_state=1)\n"
      ]
    },
    {
      "cell_type": "code",
      "execution_count": 13,
      "metadata": {
        "colab": {
          "base_uri": "https://localhost:8080/"
        },
        "id": "cgEGsYI3EXBN",
        "outputId": "7765094f-bffa-4e6f-cff2-d687a01aa4f0"
      },
      "outputs": [
        {
          "data": {
            "text/plain": [
              "GridSearchCV(cv=5, estimator=RandomForestClassifier(), n_jobs=-1,\n",
              "             param_grid={'bootstrap': [True], 'max_depth': [8, 9, 10, 11],\n",
              "                         'max_features': ['auto', 'sqrt', 'log2'],\n",
              "                         'min_samples_leaf': [3, 4, 5],\n",
              "                         'min_samples_split': [8, 10, 12],\n",
              "                         'n_estimators': [100]},\n",
              "             scoring='accuracy')"
            ]
          },
          "execution_count": 13,
          "metadata": {},
          "output_type": "execute_result"
        }
      ],
      "source": [
        "# Random Forest Classifier\n",
        "\n",
        "model_first_split = RandomForestClassifier()\n",
        "model_first_split.fit(X_train, y_train)\n",
        "\n",
        "# defining parameter range\n",
        "param_grid = {'bootstrap': [True],\n",
        "              'max_depth': [8, 9, 10, 11],\n",
        "              'max_features': ['auto', 'sqrt', 'log2'],\n",
        "              'min_samples_leaf': [3, 4, 5],\n",
        "              'min_samples_split': [8, 10, 12],\n",
        "              'n_estimators': [100]}\n",
        "\n",
        "grid = GridSearchCV(model_first_split, param_grid, cv=5, scoring='accuracy', n_jobs=-1)\n",
        "start_time = time.time()\n",
        "grid.fit(X_train, y_train)\n",
        "\n"
      ]
    },
    {
      "cell_type": "code",
      "execution_count": 14,
      "metadata": {
        "colab": {
          "base_uri": "https://localhost:8080/"
        },
        "id": "3j6dRj4wEpPl",
        "outputId": "a7808495-c53f-4556-ea3f-d0265ad8a13d"
      },
      "outputs": [
        {
          "name": "stdout",
          "output_type": "stream",
          "text": [
            "Συνολικός χρόνος fit και predict: 240.56514835357666 seconds\n",
            "              precision    recall  f1-score   support\n",
            "\n",
            "   home loss       0.85      0.74      0.79      2329\n",
            "    home win       0.83      0.90      0.87      3233\n",
            "\n",
            "    accuracy                           0.84      5562\n",
            "   macro avg       0.84      0.82      0.83      5562\n",
            "weighted avg       0.84      0.84      0.83      5562\n",
            "\n",
            "{'bootstrap': True, 'max_depth': 11, 'max_features': 'auto', 'min_samples_leaf': 4, 'min_samples_split': 8, 'n_estimators': 100}\n",
            "best score: 0.8493721678486601\n",
            "test score 0.8365695792880259\n"
          ]
        }
      ],
      "source": [
        "# Predict\n",
        "preds = grid.predict(X_test)\n",
        "test_score = grid.score(X_test, y_test)\n",
        "\n",
        "target_names=['home loss', 'home win']\n",
        "\n",
        "print(\"Συνολικός χρόνος fit και predict: %s seconds\" % (time.time() - start_time))\n",
        "print(classification_report(y_test, preds, target_names=target_names))\n",
        "\n",
        "\n",
        "model = grid.best_estimator_\n",
        "y_fit = model.predict(X_test)\n",
        "\n",
        "print(grid.best_params_)\n",
        "print(\"best score:\", grid.best_score_)\n",
        "print(\"test score\", test_score)\n"
      ]
    },
    {
      "cell_type": "markdown",
      "metadata": {},
      "source": [
        "### RF Classifier with SelectFromModel Function"
      ]
    },
    {
      "cell_type": "code",
      "execution_count": 12,
      "metadata": {},
      "outputs": [],
      "source": [
        "from sklearn.feature_selection import SelectFromModel\n",
        "from sklearn.metrics import accuracy_score"
      ]
    },
    {
      "cell_type": "code",
      "execution_count": 13,
      "metadata": {},
      "outputs": [
        {
          "data": {
            "text/plain": [
              "RandomForestClassifier()"
            ]
          },
          "execution_count": 13,
          "metadata": {},
          "output_type": "execute_result"
        }
      ],
      "source": [
        "# Random Forest Classifier\n",
        "clf = RandomForestClassifier()\n",
        "clf.fit(X_train, y_train)"
      ]
    },
    {
      "cell_type": "code",
      "execution_count": 14,
      "metadata": {},
      "outputs": [
        {
          "data": {
            "text/plain": [
              "array([False,  True,  True,  True,  True, False,  True, False,  True,\n",
              "       False, False, False, False, False, False, False, False, False,\n",
              "       False, False, False, False, False, False, False, False, False,\n",
              "       False, False, False, False, False, False, False, False, False,\n",
              "       False, False, False, False, False, False, False, False, False,\n",
              "       False, False, False, False, False, False, False, False, False,\n",
              "       False, False, False, False, False, False, False, False,  True,\n",
              "       False, False, False, False, False, False, False, False, False,\n",
              "       False,  True, False,  True, False, False,  True, False, False,\n",
              "       False, False, False, False, False, False, False, False, False,\n",
              "       False, False, False, False, False, False, False, False, False,\n",
              "       False, False, False, False, False, False, False, False, False,\n",
              "       False, False, False, False, False, False, False, False, False,\n",
              "       False, False, False,  True,  True,  True])"
            ]
          },
          "execution_count": 14,
          "metadata": {},
          "output_type": "execute_result"
        }
      ],
      "source": [
        "# Create a selector object that will use the random forest classifier to identify\n",
        "sfm = SelectFromModel(clf)\n",
        "\n",
        "# Train the selector\n",
        "sfm.fit(X_train, y_train)\n",
        "\n",
        "sfm.get_support()\n"
      ]
    },
    {
      "cell_type": "code",
      "execution_count": 15,
      "metadata": {},
      "outputs": [
        {
          "name": "stdout",
          "output_type": "stream",
          "text": [
            "Index(['odds_home', 'odds_away', 'score_home', 'score_away', 'W_PCT_home',\n",
            "       'ROAD_RECORD_home', 'eff_visitor', 'home_elo', 'elo_diff', 'eff_diff',\n",
            "       'diff_curr_win_pct', 'diff_curr_home_record', 'diff_curr_away_record'],\n",
            "      dtype='object')\n"
          ]
        }
      ],
      "source": [
        "selected_feat = X_train.columns[(sfm.get_support())]\n",
        "len(selected_feat)\n",
        "print(selected_feat)"
      ]
    },
    {
      "cell_type": "code",
      "execution_count": 22,
      "metadata": {},
      "outputs": [],
      "source": [
        "X_sfm = df[['odds_home', 'odds_away', 'score_home', 'score_away', 'W_PCT_home',\n",
        "       'HOME_RECORD_home', 'eff_visitor', 'home_elo', 'visitor_elo',\n",
        "       'elo_diff', 'eff_diff', 'diff_win_pct_prev_season',\n",
        "       'diff_home_record_last_season', 'diff_curr_win_pct',\n",
        "       'diff_curr_home_record', 'diff_curr_away_record']]\n",
        "y_sfm = df[\"home_team_wins\"]\n",
        "\n",
        "# Split our data\n",
        "X_train_sfm, X_test_sfm, y_train_sfm, y_test_sfm = train_test_split(X_sfm, y_sfm, test_size=0.4)\n",
        "\n",
        "# Split Data to Train and Validation\n",
        "X_train_sfm, X_val_sfm, y_train_sfm, y_val_sfm = train_test_split(X_train_sfm, y_train_sfm, test_size=0.2, random_state=1)\n"
      ]
    },
    {
      "cell_type": "code",
      "execution_count": 23,
      "metadata": {},
      "outputs": [
        {
          "data": {
            "text/plain": [
              "GridSearchCV(cv=5, estimator=RandomForestClassifier(), n_jobs=-1,\n",
              "             param_grid={'bootstrap': [True], 'max_depth': [8, 9, 10, 11],\n",
              "                         'max_features': ['auto', 'sqrt', 'log2'],\n",
              "                         'min_samples_leaf': [3, 4, 5],\n",
              "                         'min_samples_split': [8, 10, 12],\n",
              "                         'n_estimators': [100]},\n",
              "             scoring='accuracy')"
            ]
          },
          "execution_count": 23,
          "metadata": {},
          "output_type": "execute_result"
        }
      ],
      "source": [
        "# defining parameter range\n",
        "param_grid = {'bootstrap': [True],\n",
        "              'max_depth': [8, 9, 10, 11],\n",
        "              'max_features': ['auto', 'sqrt', 'log2'],\n",
        "              'min_samples_leaf': [3, 4, 5],\n",
        "              'min_samples_split': [8, 10, 12],\n",
        "              'n_estimators': [100]}\n",
        "\n",
        "grid = GridSearchCV(clf, param_grid, cv=5, scoring='accuracy', n_jobs=-1)\n",
        "start_time = time.time()\n",
        "grid.fit(X_train_sfm, y_train_sfm)"
      ]
    },
    {
      "cell_type": "code",
      "execution_count": 25,
      "metadata": {},
      "outputs": [
        {
          "name": "stdout",
          "output_type": "stream",
          "text": [
            "Συνολικός χρόνος fit και predict: 201.1356794834137 seconds\n",
            "              precision    recall  f1-score   support\n",
            "\n",
            "   home loss       0.97      0.95      0.96      2293\n",
            "    home win       0.97      0.98      0.98      3269\n",
            "\n",
            "    accuracy                           0.97      5562\n",
            "   macro avg       0.97      0.97      0.97      5562\n",
            "weighted avg       0.97      0.97      0.97      5562\n",
            "\n",
            "{'bootstrap': True, 'max_depth': 11, 'max_features': 'log2', 'min_samples_leaf': 3, 'min_samples_split': 8, 'n_estimators': 100}\n",
            "best score: 0.971523002543672\n",
            "test score 0.970873786407767\n"
          ]
        }
      ],
      "source": [
        "# Predict\n",
        "preds = grid.predict(X_test_sfm)\n",
        "test_score = grid.score(X_test_sfm, y_test_sfm)\n",
        "\n",
        "target_names=['home loss', 'home win']\n",
        "\n",
        "print(\"Συνολικός χρόνος fit και predict: %s seconds\" % (time.time() - start_time))\n",
        "print(classification_report(y_test_sfm, preds, target_names=target_names))\n",
        "\n",
        "\n",
        "model = grid.best_estimator_\n",
        "y_fit = model.predict(X_test_sfm)\n",
        "\n",
        "print(grid.best_params_)\n",
        "print(\"best score:\", grid.best_score_)\n",
        "print(\"test score\", test_score)"
      ]
    },
    {
      "cell_type": "markdown",
      "metadata": {},
      "source": [
        "### RF Classifier with RFE"
      ]
    },
    {
      "cell_type": "code",
      "execution_count": 8,
      "metadata": {},
      "outputs": [
        {
          "data": {
            "text/plain": [
              "RandomForestClassifier()"
            ]
          },
          "execution_count": 8,
          "metadata": {},
          "output_type": "execute_result"
        }
      ],
      "source": [
        "estimator = RandomForestClassifier()\n",
        "estimator.fit(X_train, y_train)"
      ]
    },
    {
      "cell_type": "code",
      "execution_count": 9,
      "metadata": {},
      "outputs": [],
      "source": [
        "X_rfe = df[['num_possible_outcomes', 'odds_home', 'odds_away', 'score_home',\n",
        "       'score_away', 'G_home', 'W_PCT_home', 'HOME_RECORD_home',\n",
        "       'ROAD_RECORD_home', 'G_away', 'W_PCT_away', 'ROAD_RECORD_away',\n",
        "       'W_PCT_prev_home', 'ROAD_RECORD_prev_home', 'W_PCT_prev_away',\n",
        "       'HOME_RECORD_prev_away', 'ROAD_RECORD_prev_away', 'AST_home_3g',\n",
        "       'REB_home_3g', 'WIN_PRCT_away_3g', 'PTS_away_3g', 'FG3_PCT_away_3g',\n",
        "       'AST_home_7g', 'REB_home_7g', 'PTS_away_7g', 'AST_away_7g',\n",
        "       'diff_avg_pts_home', 'diff_avg_pts_away', 'diff_avg_ast_home',\n",
        "       'diff_avg_fg3_pct_home', 'diff_avg_reb_home', 'diff_avg_reb_away',\n",
        "       'top_players', 'HG_7days', 'AG_7days', 'G_7days', 'HG_7days_VISITOR',\n",
        "       'back2back_visitor', 'missing_players', 'missing_players_visitor',\n",
        "       'top_player_diff', 'missing_player_diff', 'month',\n",
        "       'Home_Last_5_Avg_AST_home', 'Home_Last_5_Avg_REB_home',\n",
        "       'Home_Last_5_Avg_PTS_away', 'Home_Last_5_Avg_FT_PCT_away',\n",
        "       'Home_Last_5_Avg_REB_away', 'Home_Last_5_Avg_AST_away',\n",
        "       'Away_Last_5_Avg_REB_home', 'Away_Last_5_Avg_REB_away',\n",
        "       'Away_Last_5_Avg_AST_away', 'diff_pts_last_3_games',\n",
        "       'diff_fg3_pct_last_3_games', 'diff_ft_pct_last_3_games',\n",
        "       'diff_ast_last_3_games', 'diff_ast_last_7_games',\n",
        "       'diff_reb_last_7_games', 'diff_win_pct_3_last_games',\n",
        "       'diff_curr_win_pct', 'diff_curr_home_record']]\n",
        "\n",
        "y_rfe = df[\"home_team_wins\"]\n",
        "\n",
        "# Split our data\n",
        "X_train_rfe, X_test_rfe, y_train_rfe, y_test_rfe = train_test_split(X_rfe, y_rfe, test_size=0.4)\n",
        "\n",
        "# Split Data to Train and Validation\n",
        "X_train_rfe, X_val_rfe, y_train_rfe, y_val_rfe = train_test_split(X_train_rfe, y_train_rfe, test_size=0.2, random_state=1)\n"
      ]
    },
    {
      "cell_type": "code",
      "execution_count": 7,
      "metadata": {},
      "outputs": [
        {
          "data": {
            "text/plain": [
              "Pipeline(steps=[('feature_selection',\n",
              "                 RFECV(estimator=RandomForestClassifier())),\n",
              "                ('classification',\n",
              "                 RandomForestClassifier(max_depth=11, min_samples_leaf=4,\n",
              "                                        min_samples_split=8))])"
            ]
          },
          "execution_count": 7,
          "metadata": {},
          "output_type": "execute_result"
        }
      ],
      "source": [
        "# # Random Forest Classifier\n",
        "# pipe_model = Pipeline([\n",
        "#   ('feature_selection', RFECV(RandomForestClassifier())),\n",
        "#   ('classification', RandomForestClassifier(bootstrap=True, max_depth=11, max_features='auto', min_samples_leaf=4, min_samples_split=8,\n",
        "#                                             n_estimators=100))\n",
        "# ])\n",
        "# pipe_model.fit(X_train, y_train)"
      ]
    },
    {
      "cell_type": "code",
      "execution_count": 10,
      "metadata": {},
      "outputs": [
        {
          "data": {
            "text/plain": [
              "GridSearchCV(cv=5, estimator=RandomForestClassifier(), n_jobs=-1,\n",
              "             param_grid=[{'bootstrap': [True], 'max_depth': [8, 9, 10, 11],\n",
              "                          'max_features': ['auto', 'sqrt', 'log2'],\n",
              "                          'min_samples_leaf': [3, 4, 5],\n",
              "                          'min_samples_split': [8, 10, 12],\n",
              "                          'n_estimators': [100]}],\n",
              "             scoring='accuracy')"
            ]
          },
          "execution_count": 10,
          "metadata": {},
          "output_type": "execute_result"
        }
      ],
      "source": [
        "# defining parameter range\n",
        "param_grid = [{'bootstrap': [True],\n",
        "              'max_depth': [8, 9, 10, 11],\n",
        "              'max_features': ['auto', 'sqrt', 'log2'],\n",
        "              'min_samples_leaf': [3, 4, 5],\n",
        "              'min_samples_split': [8, 10, 12],\n",
        "              'n_estimators': [100]}]           \n",
        "\n",
        "grid = GridSearchCV(estimator, param_grid, cv=5, scoring='accuracy', n_jobs=-1)\n",
        "grid.fit(X_train_rfe, y_train_rfe)"
      ]
    },
    {
      "cell_type": "code",
      "execution_count": 12,
      "metadata": {},
      "outputs": [
        {
          "name": "stdout",
          "output_type": "stream",
          "text": [
            "Συνολικός χρόνος fit και predict: 0.0 seconds\n",
            "              precision    recall  f1-score   support\n",
            "\n",
            "   home loss       0.91      0.83      0.87      2313\n",
            "    home win       0.88      0.94      0.91      3249\n",
            "\n",
            "    accuracy                           0.89      5562\n",
            "   macro avg       0.90      0.88      0.89      5562\n",
            "weighted avg       0.90      0.89      0.89      5562\n",
            "\n",
            "{'bootstrap': True, 'max_depth': 11, 'max_features': 'sqrt', 'min_samples_leaf': 3, 'min_samples_split': 10, 'n_estimators': 100}\n",
            "best score: 0.8910407717489569\n",
            "test score 0.8946422150305645\n"
          ]
        }
      ],
      "source": [
        "# Predict\n",
        "preds = grid.predict(X_test_rfe)\n",
        "test_score = grid.score(X_test_rfe, y_test_rfe)\n",
        "\n",
        "target_names=['home loss', 'home win']\n",
        "\n",
        "start_time = time.time()\n",
        "\n",
        "print(\"Συνολικός χρόνος fit και predict: %s seconds\" % (time.time() - start_time))\n",
        "print(classification_report(y_test_rfe, preds, target_names=target_names))\n",
        "\n",
        "\n",
        "model = grid.best_estimator_\n",
        "y_fit = model.predict(X_test_rfe)\n",
        "\n",
        "print(grid.best_params_)\n",
        "print(\"best score:\", grid.best_score_)\n",
        "print(\"test score\", test_score)"
      ]
    },
    {
      "cell_type": "markdown",
      "metadata": {},
      "source": [
        "### RF Classifier with LassoCV"
      ]
    },
    {
      "cell_type": "code",
      "execution_count": 29,
      "metadata": {},
      "outputs": [],
      "source": [
        "from sklearn.linear_model import LassoCV\n",
        "from sklearn.pipeline import Pipeline\n"
      ]
    },
    {
      "cell_type": "code",
      "execution_count": 31,
      "metadata": {},
      "outputs": [
        {
          "data": {
            "text/plain": [
              "Pipeline(steps=[('feature_selection', SelectFromModel(estimator=LassoCV())),\n",
              "                ('classification',\n",
              "                 RandomForestClassifier(max_depth=11, min_samples_leaf=4,\n",
              "                                        min_samples_split=8))])"
            ]
          },
          "execution_count": 31,
          "metadata": {},
          "output_type": "execute_result"
        }
      ],
      "source": [
        "pipe_model = Pipeline([\n",
        "  ('feature_selection', SelectFromModel(LassoCV())),\n",
        "  ('classification', RandomForestClassifier(bootstrap=True, max_depth=11, max_features='auto', min_samples_leaf=4, min_samples_split=8,\n",
        "                                            n_estimators=100))\n",
        "])\n",
        "pipe_model.fit(X_train, y_train)"
      ]
    },
    {
      "cell_type": "code",
      "execution_count": 35,
      "metadata": {},
      "outputs": [
        {
          "name": "stdout",
          "output_type": "stream",
          "text": [
            "Συνολικός χρόνος fit και predict: 1529.3399500846863 seconds\n",
            "              precision    recall  f1-score   support\n",
            "\n",
            "   home loss       0.99      0.97      0.98      2281\n",
            "    home win       0.98      0.99      0.98      3281\n",
            "\n",
            "    accuracy                           0.98      5562\n",
            "   macro avg       0.98      0.98      0.98      5562\n",
            "weighted avg       0.98      0.98      0.98      5562\n",
            "\n",
            "test score 0.9814814814814815\n"
          ]
        }
      ],
      "source": [
        "# Predict\n",
        "preds = pipe_model.predict(X_test)\n",
        "test_score = pipe_model.score(X_test, y_test)\n",
        "\n",
        "target_names=['home loss', 'home win']\n",
        "\n",
        "print(\"Συνολικός χρόνος fit και predict: %s seconds\" % (time.time() - start_time))\n",
        "print(classification_report(y_test, preds, target_names=target_names))\n",
        "\n",
        "print(\"test score\", test_score)\n"
      ]
    }
  ],
  "metadata": {
    "colab": {
      "collapsed_sections": [],
      "name": "RandomForest.ipynb",
      "provenance": []
    },
    "kernelspec": {
      "display_name": "Python 3",
      "name": "python3"
    },
    "language_info": {
      "codemirror_mode": {
        "name": "ipython",
        "version": 3
      },
      "file_extension": ".py",
      "mimetype": "text/x-python",
      "name": "python",
      "nbconvert_exporter": "python",
      "pygments_lexer": "ipython3",
      "version": "3.9.4"
    }
  },
  "nbformat": 4,
  "nbformat_minor": 0
}
