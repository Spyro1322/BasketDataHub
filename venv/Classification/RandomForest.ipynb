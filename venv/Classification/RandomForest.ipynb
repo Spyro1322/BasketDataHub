{
  "nbformat": 4,
  "nbformat_minor": 0,
  "metadata": {
    "colab": {
      "name": "RandomForest.ipynb",
      "provenance": [],
      "collapsed_sections": []
    },
    "kernelspec": {
      "name": "python3",
      "display_name": "Python 3"
    },
    "language_info": {
      "name": "python"
    }
  },
  "cells": [
    {
      "cell_type": "code",
      "execution_count": 1,
      "metadata": {
        "id": "0wJOBWwtD342"
      },
      "outputs": [],
      "source": [
        "# Importing libraries\n",
        "import time\n",
        "import warnings\n",
        "\n",
        "import numpy as np\n",
        "import pandas as pd\n",
        "import matplotlib.pyplot as plt\n",
        "import seaborn as sns\n",
        "\n",
        "from sklearn.ensemble import RandomForestClassifier\n",
        "from sklearn.model_selection import train_test_split, GridSearchCV\n",
        "from sklearn.metrics import classification_report\n"
      ]
    },
    {
      "cell_type": "code",
      "source": [
        "warnings.filterwarnings('ignore')"
      ],
      "metadata": {
        "id": "Wzt5T0VxD8eb"
      },
      "execution_count": 3,
      "outputs": []
    },
    {
      "cell_type": "code",
      "source": [
        "df = pd.read_csv('data5.csv')"
      ],
      "metadata": {
        "id": "PMHS8bRuEBFc"
      },
      "execution_count": 4,
      "outputs": []
    },
    {
      "cell_type": "code",
      "source": [
        "train_data = df.loc[(df.season <= 2013) & (df.season >= 2007)]\n",
        "valid_data = df.loc[(df.season > 2013) & (df.season < 2016)]\n",
        "test_data = df.loc[df.season >= 2016]\n",
        "full_train_data = pd.concat([train_data, valid_data], axis=0)\n",
        "\n",
        "X, y = train_data.drop(columns=['home_team_wins']), train_data.home_team_wins\n",
        "valid_X, valid_y = valid_data.drop(columns=['home_team_wins']), valid_data.home_team_wins\n",
        "test_X, test_y = test_data.drop(columns=['home_team_wins']), test_data.home_team_wins\n",
        "\n",
        "X1 = df.drop([\"game_date_est\", \"season\", \"game_id\", \"home_team\", \"visitor_team\", \"home_team_id\", \"visitor_team_id\",\n",
        "              \"home_team_wins\", \"conference\", \"conference_visitor\"], axis=1)\n",
        "y1 = df[\"home_team_wins\"]\n",
        "\n",
        "# Split our data\n",
        "X_train, X_test, y_train, y_test = train_test_split(X1, y1, test_size=0.4)\n",
        "\n",
        "# Split Data to Train and Validation\n",
        "X_train, X_val, y_train, y_val = train_test_split(X_train, y_train, test_size=0.2, random_state=1)\n"
      ],
      "metadata": {
        "id": "hSEe6pO5EMfW"
      },
      "execution_count": 5,
      "outputs": []
    },
    {
      "cell_type": "code",
      "source": [
        "# Random Forest Classifier\n",
        "\n",
        "model_first_split = RandomForestClassifier()\n",
        "model_first_split.fit(X_train, y_train)\n",
        "\n",
        "# defining parameter range\n",
        "param_grid = {'bootstrap': [True],\n",
        "              'max_depth': [8, 9, 10, 11],\n",
        "              'max_features': ['auto', 'sqrt', 'log2'],\n",
        "              'min_samples_leaf': [3, 4, 5],\n",
        "              'min_samples_split': [8, 10, 12],\n",
        "              'n_estimators': [100]}\n",
        "\n",
        "grid = GridSearchCV(model_first_split, param_grid, cv=5, scoring='accuracy', n_jobs=-1)\n",
        "start_time = time.time()\n",
        "grid.fit(X_train, y_train)\n",
        "\n"
      ],
      "metadata": {
        "colab": {
          "base_uri": "https://localhost:8080/"
        },
        "id": "cgEGsYI3EXBN",
        "outputId": "7765094f-bffa-4e6f-cff2-d687a01aa4f0"
      },
      "execution_count": 6,
      "outputs": [
        {
          "output_type": "execute_result",
          "data": {
            "text/plain": [
              "GridSearchCV(cv=5, estimator=RandomForestClassifier(), n_jobs=-1,\n",
              "             param_grid={'bootstrap': [True], 'max_depth': [8, 9, 10, 11],\n",
              "                         'max_features': ['auto', 'sqrt', 'log2'],\n",
              "                         'min_samples_leaf': [3, 4, 5],\n",
              "                         'min_samples_split': [8, 10, 12],\n",
              "                         'n_estimators': [100]},\n",
              "             scoring='accuracy')"
            ]
          },
          "metadata": {},
          "execution_count": 6
        }
      ]
    },
    {
      "cell_type": "code",
      "source": [
        "# Predict\n",
        "preds = grid.predict(X_test)\n",
        "test_score = grid.score(X_test, y_test)\n",
        "\n",
        "target_names=['home loss', 'home win']\n",
        "\n",
        "print(\"Συνολικός χρόνος fit και predict: %s seconds\" % (time.time() - start_time))\n",
        "print(classification_report(y_test, preds, target_names=target_names))\n",
        "\n",
        "\n",
        "model = grid.best_estimator_\n",
        "y_fit = model.predict(X_test)\n",
        "\n",
        "print(grid.best_params_)\n",
        "print(\"best score:\", grid.best_score_)\n",
        "print(\"test score\", test_score)\n"
      ],
      "metadata": {
        "colab": {
          "base_uri": "https://localhost:8080/"
        },
        "id": "3j6dRj4wEpPl",
        "outputId": "a7808495-c53f-4556-ea3f-d0265ad8a13d"
      },
      "execution_count": 7,
      "outputs": [
        {
          "output_type": "stream",
          "name": "stdout",
          "text": [
            "Συνολικός χρόνος fit και predict: 676.6524286270142 seconds\n",
            "              precision    recall  f1-score   support\n",
            "\n",
            "   home loss       0.64      0.48      0.55      2507\n",
            "    home win       0.69      0.81      0.74      3585\n",
            "\n",
            "    accuracy                           0.67      6092\n",
            "   macro avg       0.66      0.65      0.65      6092\n",
            "weighted avg       0.67      0.67      0.66      6092\n",
            "\n",
            "{'bootstrap': True, 'max_depth': 8, 'max_features': 'auto', 'min_samples_leaf': 4, 'min_samples_split': 10, 'n_estimators': 100}\n",
            "best score: 0.6847730926571478\n",
            "test score 0.6744911359159553\n"
          ]
        }
      ]
    }
  ]
}