{
 "cells": [
  {
   "cell_type": "code",
   "execution_count": 120,
   "metadata": {},
   "outputs": [],
   "source": [
    "import xgboost as xgb\n",
    "from sklearn.svm import SVC\n",
    "from sklearn.model_selection import train_test_split, GridSearchCV, RandomizedSearchCV, StratifiedKFold\n",
    "from sklearn.metrics import classification_report\n",
    "import time\n",
    "\n",
    "%matplotlib inline\n",
    "import numpy as np\n",
    "import pandas as pd\n",
    "import matplotlib.pyplot as plt\n",
    "from scipy import stats\n",
    "\n",
    "# use seaborn plotting defaults\n",
    "import seaborn as sns; sns.set()\n",
    "\n",
    "from sklearn.tree import DecisionTreeClassifier\n",
    "from sklearn.neighbors import KNeighborsClassifier\n",
    "from sklearn.feature_selection import RFE, SequentialFeatureSelector\n",
    "from sklearn.feature_selection import SelectKBest, SelectFromModel, mutual_info_classif\n",
    "from sklearn.feature_selection import f_classif, chi2\n",
    "from sklearn.linear_model import LogisticRegression, LassoCV, RidgeCV\n",
    "from sklearn.ensemble import RandomForestClassifier, ExtraTreesClassifier, BaggingClassifier\n",
    "\n",
    "from sklearn.naive_bayes import GaussianNB\n",
    "\n",
    "from sklearn.pipeline import Pipeline\n",
    "from sklearn.preprocessing import MinMaxScaler, StandardScaler\n",
    "from sklearn.decomposition import PCA\n",
    "\n",
    "from sklearn.neural_network import MLPClassifier\n",
    "\n",
    "\n",
    "import warnings\n"
   ]
  },
  {
   "cell_type": "code",
   "execution_count": 17,
   "metadata": {},
   "outputs": [],
   "source": [
    "warnings.filterwarnings('ignore')\n"
   ]
  },
  {
   "cell_type": "code",
   "execution_count": 18,
   "metadata": {},
   "outputs": [],
   "source": [
    "df = pd.read_csv('../FeatureEngineering/MetaData/data6_&_odds.csv')\n",
    "df.dropna(inplace=True)"
   ]
  },
  {
   "cell_type": "code",
   "execution_count": 19,
   "metadata": {},
   "outputs": [],
   "source": [
    "train_data = df.loc[(df.season <= 2013) & (df.season >= 2007)]\n",
    "valid_data = df.loc[(df.season > 2013) & (df.season < 2016)]\n",
    "test_data = df.loc[df.season >= 2016]\n",
    "full_train_data = pd.concat([train_data, valid_data], axis=0)\n",
    "\n",
    "X, y = train_data.drop(columns=['home_team_wins']), train_data.home_team_wins\n",
    "valid_X, valid_y = valid_data.drop(columns=['home_team_wins']), valid_data.home_team_wins\n",
    "test_X, test_y = test_data.drop(columns=['home_team_wins']), test_data.home_team_wins\n",
    "\n",
    "# Split our data\n",
    "X_train, y_train = train_data.drop(columns=[\"game_date_est\",\"season\",\"game_id\",\"home_team\",\"visitor_team\",\"home_team_id\",\"visitor_team_id\",\"home_team_wins\",\"conference\",\"conference_visitor\"]), train_data.home_team_wins\n",
    "X_val, y_val = valid_data.drop(columns=[\"game_date_est\",\"season\",\"game_id\",\"home_team\",\"visitor_team\",\"home_team_id\",\"visitor_team_id\",\"home_team_wins\",\"conference\",\"conference_visitor\"]), valid_data.home_team_wins\n",
    "X_test, y_test = test_data.drop(columns=[\"game_date_est\",\"season\",\"game_id\",\"home_team\",\"visitor_team\",\"home_team_id\",\"visitor_team_id\",\"home_team_wins\",\"conference\",\"conference_visitor\"]), test_data.home_team_wins\n",
    "\n"
   ]
  },
  {
   "cell_type": "markdown",
   "metadata": {},
   "source": [
    "Use Pipeline models combining scaling, normalization, feature selection and Classification methods"
   ]
  },
  {
   "cell_type": "markdown",
   "metadata": {},
   "source": [
    "### SVM Pipeline Model"
   ]
  },
  {
   "cell_type": "code",
   "execution_count": 47,
   "metadata": {},
   "outputs": [
    {
     "data": {
      "text/plain": [
       "Pipeline(steps=[('selector',\n",
       "                 SelectKBest(k=5,\n",
       "                             score_func=<function mutual_info_classif at 0x00000217F36CD1F0>)),\n",
       "                ('normalizer', MinMaxScaler()), ('pca', PCA()),\n",
       "                ('classifier', SVC(C=1, gamma=1))])"
      ]
     },
     "execution_count": 47,
     "metadata": {},
     "output_type": "execute_result"
    }
   ],
   "source": [
    "pipe_model = Pipeline([\n",
    "    ('selector', SelectKBest(score_func=mutual_info_classif, k=5)),\n",
    "    ('normalizer', MinMaxScaler()),\n",
    "    # ('scaler', StandardScaler()),\n",
    "    ('pca', PCA()),\n",
    "    ('classifier', SVC(C=1, gamma=1, kernel='rbf'))\n",
    "])\n",
    "\n",
    "pipe_model.fit(X_train, y_train)"
   ]
  },
  {
   "cell_type": "code",
   "execution_count": 48,
   "metadata": {},
   "outputs": [
    {
     "name": "stdout",
     "output_type": "stream",
     "text": [
      "              precision    recall  f1-score   support\n",
      "\n",
      "   home loss       0.70      0.48      0.57      1011\n",
      "    home win       0.69      0.86      0.77      1409\n",
      "\n",
      "    accuracy                           0.70      2420\n",
      "   macro avg       0.70      0.67      0.67      2420\n",
      "weighted avg       0.70      0.70      0.68      2420\n",
      "\n",
      "test score 0.6975206611570248\n"
     ]
    }
   ],
   "source": [
    "# Predict\n",
    "preds = pipe_model.predict(X_val)\n",
    "test_score = pipe_model.score(X_val, y_val)\n",
    "\n",
    "target_names=['home loss', 'home win']\n",
    "\n",
    "print(classification_report(y_val, preds, target_names=target_names))\n",
    "\n",
    "print(\"test score\", test_score)\n"
   ]
  },
  {
   "cell_type": "markdown",
   "metadata": {},
   "source": [
    "### MLP Pipeline Model"
   ]
  },
  {
   "cell_type": "code",
   "execution_count": 79,
   "metadata": {},
   "outputs": [
    {
     "data": {
      "text/plain": [
       "Pipeline(steps=[('normalizer', MinMaxScaler()), ('selector', SelectKBest(k=5)),\n",
       "                ('classifier',\n",
       "                 MLPClassifier(alpha=1e-05, hidden_layer_sizes=(20, 10, 5),\n",
       "                               max_iter=250, solver='lbfgs'))])"
      ]
     },
     "execution_count": 79,
     "metadata": {},
     "output_type": "execute_result"
    }
   ],
   "source": [
    "pipe_model = Pipeline([\n",
    "    ('normalizer', MinMaxScaler()),\n",
    "    ('selector', SelectKBest(score_func=f_classif, k=5)),\n",
    "    ('classifier', MLPClassifier(alpha=1e-05, hidden_layer_sizes=(20, 10, 5), max_iter=250, solver='lbfgs'))\n",
    "])\n",
    "\n",
    "pipe_model.fit(X_train, y_train)"
   ]
  },
  {
   "cell_type": "code",
   "execution_count": 80,
   "metadata": {},
   "outputs": [
    {
     "name": "stdout",
     "output_type": "stream",
     "text": [
      "              precision    recall  f1-score   support\n",
      "\n",
      "   home loss       0.68      0.54      0.60      1011\n",
      "    home win       0.71      0.81      0.76      1409\n",
      "\n",
      "    accuracy                           0.70      2420\n",
      "   macro avg       0.69      0.68      0.68      2420\n",
      "weighted avg       0.70      0.70      0.69      2420\n",
      "\n",
      "test score 0.7004132231404959\n"
     ]
    }
   ],
   "source": [
    "# Predict\n",
    "preds = pipe_model.predict(X_val)\n",
    "test_score = pipe_model.score(X_val, y_val)\n",
    "\n",
    "target_names=['home loss', 'home win']\n",
    "\n",
    "print(classification_report(y_val, preds, target_names=target_names))\n",
    "\n",
    "print(\"test score\", test_score)\n"
   ]
  },
  {
   "cell_type": "markdown",
   "metadata": {},
   "source": [
    "### Random Forest Pipeline Model"
   ]
  },
  {
   "cell_type": "code",
   "execution_count": 232,
   "metadata": {},
   "outputs": [
    {
     "data": {
      "text/plain": [
       "Pipeline(steps=[('selector',\n",
       "                 SelectFromModel(estimator=RandomForestClassifier())),\n",
       "                ('scaler', StandardScaler()),\n",
       "                ('classifier',\n",
       "                 RandomForestClassifier(max_depth=8, max_features='sqrt',\n",
       "                                        min_samples_leaf=4,\n",
       "                                        min_samples_split=12))])"
      ]
     },
     "execution_count": 232,
     "metadata": {},
     "output_type": "execute_result"
    }
   ],
   "source": [
    "pipe_model = Pipeline([\n",
    "    ('selector', SelectFromModel(RandomForestClassifier())),\n",
    "    ('scaler', StandardScaler()),\n",
    "    # ('normalizer', MinMaxScaler()),\n",
    "    ('classifier', RandomForestClassifier(bootstrap=True, max_depth=8, max_features='sqrt', min_samples_leaf=4, min_samples_split=12, n_estimators=100))\n",
    "])\n",
    "\n",
    "pipe_model.fit(X_train, y_train)"
   ]
  },
  {
   "cell_type": "code",
   "execution_count": 233,
   "metadata": {},
   "outputs": [
    {
     "name": "stdout",
     "output_type": "stream",
     "text": [
      "              precision    recall  f1-score   support\n",
      "\n",
      "   home loss       0.67      0.57      0.62      1011\n",
      "    home win       0.72      0.80      0.76      1409\n",
      "\n",
      "    accuracy                           0.71      2420\n",
      "   macro avg       0.70      0.69      0.69      2420\n",
      "weighted avg       0.70      0.71      0.70      2420\n",
      "\n",
      "test score 0.7057851239669422\n"
     ]
    }
   ],
   "source": [
    "# Predict\n",
    "preds = pipe_model.predict(X_val)\n",
    "test_score = pipe_model.score(X_val, y_val)\n",
    "\n",
    "target_names=['home loss', 'home win']\n",
    "\n",
    "print(classification_report(y_val, preds, target_names=target_names))\n",
    "\n",
    "print(\"test score\", test_score)\n"
   ]
  },
  {
   "cell_type": "markdown",
   "metadata": {},
   "source": [
    "### XGBoost Pipeline Model"
   ]
  },
  {
   "cell_type": "code",
   "execution_count": 190,
   "metadata": {},
   "outputs": [
    {
     "data": {
      "text/plain": [
       "Pipeline(steps=[('scaler', StandardScaler()),\n",
       "                ('selector', SelectFromModel(estimator=LassoCV())),\n",
       "                ('classifier',\n",
       "                 XGBClassifier(base_score=0.5, booster='gbtree', callbacks=None,\n",
       "                               colsample_bylevel=1, colsample_bynode=1,\n",
       "                               colsample_bytree=1, early_stopping_rounds=None,\n",
       "                               enable_categorical=False, eval_metric=None,\n",
       "                               gamma=0.1, gpu_id=-1, grow_policy='depthwise',\n",
       "                               importance_type=None, interaction_constraints='',\n",
       "                               learning_rate=0.1, max_bin=256,\n",
       "                               max_cat_to_onehot=4, max_delta_step=0,\n",
       "                               max_depth=3, max_leaves=0, min_child_weight=3,\n",
       "                               missing=nan, monotone_constraints='()',\n",
       "                               n_estimators=100, n_jobs=0, num_parallel_tree=1,\n",
       "                               predictor='auto', random_state=0, reg_alpha=0,\n",
       "                               reg_lambda=1, ...))])"
      ]
     },
     "execution_count": 190,
     "metadata": {},
     "output_type": "execute_result"
    }
   ],
   "source": [
    "pipe_model = Pipeline([\n",
    "    ('scaler', StandardScaler()),\n",
    "    ('selector', SelectFromModel(LassoCV())),\n",
    "    # ('normalizer', MinMaxScaler()),\n",
    "    # ('pca', PCA()),\n",
    "    ('classifier', xgb.XGBClassifier(gamma=0.1, learning_rate=0.1, max_depth=3, min_child_weight=3, n_estimators=100))\n",
    "])\n",
    "\n",
    "pipe_model.fit(X_train, y_train)"
   ]
  },
  {
   "cell_type": "code",
   "execution_count": 191,
   "metadata": {},
   "outputs": [
    {
     "name": "stdout",
     "output_type": "stream",
     "text": [
      "              precision    recall  f1-score   support\n",
      "\n",
      "   home loss       0.66      0.57      0.61      1011\n",
      "    home win       0.72      0.79      0.75      1409\n",
      "\n",
      "    accuracy                           0.70      2420\n",
      "   macro avg       0.69      0.68      0.68      2420\n",
      "weighted avg       0.69      0.70      0.69      2420\n",
      "\n",
      "test score 0.697107438016529\n"
     ]
    }
   ],
   "source": [
    "# Predict\n",
    "preds = pipe_model.predict(X_val)\n",
    "test_score = pipe_model.score(X_val, y_val)\n",
    "\n",
    "target_names=['home loss', 'home win']\n",
    "\n",
    "print(classification_report(y_val, preds, target_names=target_names))\n",
    "\n",
    "print(\"test score\", test_score)\n"
   ]
  },
  {
   "cell_type": "code",
   "execution_count": 182,
   "metadata": {},
   "outputs": [
    {
     "data": {
      "text/plain": [
       "Pipeline(steps=[('selector',\n",
       "                 SelectFromModel(estimator=LogisticRegression(C=0.1))),\n",
       "                ('scaler', StandardScaler()),\n",
       "                ('classifier',\n",
       "                 XGBClassifier(base_score=0.5, booster='gbtree', callbacks=None,\n",
       "                               colsample_bylevel=1, colsample_bynode=1,\n",
       "                               colsample_bytree=1, early_stopping_rounds=None,\n",
       "                               enable_categorical=False, eval_metric=None,\n",
       "                               gamma=0.01, gpu_id=-1, grow_policy='depthwise',\n",
       "                               importance_type=None, interaction_constraints='',\n",
       "                               learning_rate=0.1, max_bin=256,\n",
       "                               max_cat_to_onehot=4, max_delta_step=0,\n",
       "                               max_depth=3, max_leaves=0, min_child_weight=3,\n",
       "                               missing=nan, monotone_constraints='()',\n",
       "                               n_estimators=100, n_jobs=0, num_parallel_tree=1,\n",
       "                               predictor='auto', random_state=0, reg_alpha=0,\n",
       "                               reg_lambda=1, ...))])"
      ]
     },
     "execution_count": 182,
     "metadata": {},
     "output_type": "execute_result"
    }
   ],
   "source": [
    "pipe_model = Pipeline([\n",
    "    ('selector', SelectFromModel(LogisticRegression(solver='lbfgs', C=0.1, penalty='l2'))),\n",
    "    ('scaler', StandardScaler()),\n",
    "    # ('normalizer', MinMaxScaler()),\n",
    "    ('classifier', xgb.XGBClassifier(gamma=0.01, learning_rate=0.1, max_depth=3, min_child_weight=3, n_estimators=100))\n",
    "])\n",
    "\n",
    "pipe_model.fit(X_train, y_train)"
   ]
  },
  {
   "cell_type": "code",
   "execution_count": 183,
   "metadata": {},
   "outputs": [
    {
     "name": "stdout",
     "output_type": "stream",
     "text": [
      "              precision    recall  f1-score   support\n",
      "\n",
      "   home loss       0.67      0.57      0.61      1011\n",
      "    home win       0.72      0.80      0.76      1409\n",
      "\n",
      "    accuracy                           0.70      2420\n",
      "   macro avg       0.69      0.68      0.69      2420\n",
      "weighted avg       0.70      0.70      0.70      2420\n",
      "\n",
      "test score 0.7012396694214876\n"
     ]
    }
   ],
   "source": [
    "# Predict\n",
    "preds = pipe_model.predict(X_val)\n",
    "test_score = pipe_model.score(X_val, y_val)\n",
    "\n",
    "target_names=['home loss', 'home win']\n",
    "\n",
    "print(classification_report(y_val, preds, target_names=target_names))\n",
    "\n",
    "print(\"test score\", test_score)\n"
   ]
  },
  {
   "cell_type": "code",
   "execution_count": null,
   "metadata": {},
   "outputs": [],
   "source": []
  }
 ],
 "metadata": {
  "kernelspec": {
   "display_name": "Python 3.9.4 64-bit",
   "language": "python",
   "name": "python3"
  },
  "language_info": {
   "codemirror_mode": {
    "name": "ipython",
    "version": 3
   },
   "file_extension": ".py",
   "mimetype": "text/x-python",
   "name": "python",
   "nbconvert_exporter": "python",
   "pygments_lexer": "ipython3",
   "version": "3.9.4"
  },
  "orig_nbformat": 4,
  "vscode": {
   "interpreter": {
    "hash": "81794d4967e6c3204c66dcd87b604927b115b27c00565d3d43f05ba2f3a2cb0d"
   }
  }
 },
 "nbformat": 4,
 "nbformat_minor": 2
}
