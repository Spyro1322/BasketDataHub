{
 "cells": [
  {
   "cell_type": "markdown",
   "metadata": {},
   "source": [
    "## Logistic Regression"
   ]
  },
  {
   "cell_type": "code",
   "execution_count": 4,
   "metadata": {},
   "outputs": [],
   "source": [
    "from sklearn.linear_model import LogisticRegression\n",
    "from sklearn.model_selection import train_test_split, cross_val_score, GridSearchCV\n",
    "from sklearn.metrics import accuracy_score\n",
    "from sklearn.decomposition import PCA\n",
    "from sklearn.metrics import classification_report\n",
    "\n",
    "\n",
    "import warnings\n",
    "warnings.filterwarnings('ignore')"
   ]
  },
  {
   "cell_type": "code",
   "execution_count": 5,
   "metadata": {},
   "outputs": [],
   "source": [
    "import pandas as pd\n",
    "import numpy as np\n",
    "\n",
    "df = pd.read_csv('../FeatureEngineering/MetaData/data6_&_odds.csv')\n",
    "df.dropna(inplace=True)"
   ]
  },
  {
   "cell_type": "code",
   "execution_count": 6,
   "metadata": {},
   "outputs": [],
   "source": [
    "train_data = df.loc[(df.season <= 2013) & (df.season >= 2007)]\n",
    "valid_data = df.loc[(df.season > 2013) & (df.season < 2016)]\n",
    "test_data = df.loc[df.season >= 2016]\n",
    "full_train_data = pd.concat([train_data, valid_data], axis=0)\n",
    "\n",
    "X_train, y_train = train_data.drop(columns=[\"game_date_est\",\"season\",\"game_id\",\"home_team\",\"visitor_team\",\"home_team_id\",\"visitor_team_id\",\"home_team_wins\",\"conference\",\"conference_visitor\"]), train_data.home_team_wins\n",
    "X_val, y_val = valid_data.drop(columns=[\"game_date_est\",\"season\",\"game_id\",\"home_team\",\"visitor_team\",\"home_team_id\",\"visitor_team_id\",\"home_team_wins\",\"conference\",\"conference_visitor\"]), valid_data.home_team_wins\n",
    "X_test, y_test = test_data.drop(columns=[\"game_date_est\",\"season\",\"game_id\",\"home_team\",\"visitor_team\",\"home_team_id\",\"visitor_team_id\",\"home_team_wins\",\"conference\",\"conference_visitor\"]), test_data.home_team_wins\n"
   ]
  },
  {
   "cell_type": "markdown",
   "metadata": {},
   "source": [
    "#### Logistic Regression with GridSearchCV"
   ]
  },
  {
   "cell_type": "code",
   "execution_count": 7,
   "metadata": {},
   "outputs": [
    {
     "name": "stdout",
     "output_type": "stream",
     "text": [
      "Συνολικός χρόνος fit και predict: 540.8597717285156 seconds\n",
      "              precision    recall  f1-score   support\n",
      "\n",
      "   home_loss       0.67      0.55      0.60      1011\n",
      "    home_win       0.71      0.81      0.76      1409\n",
      "\n",
      "    accuracy                           0.70      2420\n",
      "   macro avg       0.69      0.68      0.68      2420\n",
      "weighted avg       0.70      0.70      0.69      2420\n",
      "\n",
      "val score: 0.6991735537190082\n",
      "LogisticRegression(C=0.1, solver='liblinear')\n",
      "{'C': 0.1, 'penalty': 'l2', 'solver': 'liblinear'}\n",
      "best score: 0.6904347826086956\n"
     ]
    }
   ],
   "source": [
    "import time\n",
    "\n",
    "clf = LogisticRegression()\n",
    "# η παράμετρος n_jobs = 1 χρησιμοποιεί όλους τους πυρήνες του υπολογιστή\n",
    "params = {'penalty': ['l1', 'l2', 'elasticnet', 'none'],\n",
    "          'C'       : np.logspace(-3,3,7),\n",
    "          'solver'  : ['newton-cg', 'lbfgs', 'liblinear']\n",
    "        }\n",
    "\n",
    "estimator = GridSearchCV(clf, param_grid=params, cv=5, scoring='accuracy', n_jobs=-1)\n",
    "start_time = time.time()\n",
    "estimator.fit(X_train, y_train)\n",
    "val_score = estimator.score(X_val, y_val)\n",
    "\n",
    "preds = estimator.predict(X_val)\n",
    "\n",
    "target_names = ['home_loss', 'home_win']\n",
    "\n",
    "print(\"Συνολικός χρόνος fit και predict: %s seconds\" % (time.time() - start_time))\n",
    "print(classification_report(y_val, preds, target_names=target_names))\n",
    "print(\"val score:\", val_score)\n",
    "print(estimator.best_estimator_)\n",
    "print(estimator.best_params_)\n",
    "print(\"best score:\", estimator.best_score_)\n",
    "# print(\"test score\", test_score)\n",
    "\n"
   ]
  },
  {
   "cell_type": "markdown",
   "metadata": {},
   "source": [
    "#### Standard Scaler"
   ]
  },
  {
   "cell_type": "code",
   "execution_count": 8,
   "metadata": {},
   "outputs": [],
   "source": [
    "from sklearn.preprocessing import StandardScaler\n",
    "\n",
    "# Scaling features\n",
    "scaler = StandardScaler()\n",
    "X_train_standard = scaler.fit_transform(X_train)\n",
    "X_val_standard = scaler.transform(X_val)\n",
    "X_test_standard = scaler.transform(X_test)"
   ]
  },
  {
   "cell_type": "code",
   "execution_count": 9,
   "metadata": {},
   "outputs": [
    {
     "name": "stdout",
     "output_type": "stream",
     "text": [
      "Συνολικός χρόνος fit και predict: 105.65280151367188 seconds\n",
      "              precision    recall  f1-score   support\n",
      "\n",
      "   home_loss       0.67      0.54      0.60      1011\n",
      "    home_win       0.71      0.81      0.76      1409\n",
      "\n",
      "    accuracy                           0.70      2420\n",
      "   macro avg       0.69      0.68      0.68      2420\n",
      "weighted avg       0.70      0.70      0.69      2420\n",
      "\n",
      "val score: 0.6983471074380165\n",
      "LogisticRegression(C=0.1, penalty='l1', solver='liblinear')\n",
      "{'C': 0.1, 'penalty': 'l1', 'solver': 'liblinear'}\n",
      "best score: 0.6921739130434783\n"
     ]
    }
   ],
   "source": [
    "import time\n",
    "\n",
    "clf = LogisticRegression()\n",
    "# η παράμετρος n_jobs = 1 χρησιμοποιεί όλους τους πυρήνες του υπολογιστή\n",
    "params = {'penalty': ['l1', 'l2', 'elasticnet', 'none'],\n",
    "          'C'       : np.logspace(-3,3,7),\n",
    "          'solver'  : ['newton-cg', 'lbfgs', 'liblinear']\n",
    "        }\n",
    "\n",
    "estimator = GridSearchCV(clf, param_grid=params, cv=5, scoring='accuracy', n_jobs=-1)\n",
    "start_time = time.time()\n",
    "estimator.fit(X_train_standard, y_train)\n",
    "val_score = estimator.score(X_val_standard, y_val)\n",
    "\n",
    "preds = estimator.predict(X_val_standard)\n",
    "\n",
    "target_names = ['home_loss', 'home_win']\n",
    "\n",
    "print(\"Συνολικός χρόνος fit και predict: %s seconds\" % (time.time() - start_time))\n",
    "print(classification_report(y_val, preds, target_names=target_names))\n",
    "print(\"val score:\", val_score)\n",
    "print(estimator.best_estimator_)\n",
    "print(estimator.best_params_)\n",
    "print(\"best score:\", estimator.best_score_)\n",
    "# print(\"test score\", test_score)\n",
    "\n"
   ]
  },
  {
   "cell_type": "markdown",
   "metadata": {},
   "source": [
    "#### MinMax Scaler"
   ]
  },
  {
   "cell_type": "code",
   "execution_count": 10,
   "metadata": {},
   "outputs": [],
   "source": [
    "from sklearn.preprocessing import MinMaxScaler\n",
    "\n",
    "# Scaling features\n",
    "scaler = MinMaxScaler()\n",
    "X_train_minmax = scaler.fit_transform(X_train)\n",
    "X_val_minmax = scaler.transform(X_val)\n",
    "X_test_minmax = scaler.transform(X_test)\n"
   ]
  },
  {
   "cell_type": "code",
   "execution_count": 11,
   "metadata": {},
   "outputs": [
    {
     "name": "stdout",
     "output_type": "stream",
     "text": [
      "Συνολικός χρόνος fit και predict: 109.88302087783813 seconds\n",
      "              precision    recall  f1-score   support\n",
      "\n",
      "   home_loss       0.67      0.53      0.59      1011\n",
      "    home_win       0.71      0.82      0.76      1409\n",
      "\n",
      "    accuracy                           0.70      2420\n",
      "   macro avg       0.69      0.67      0.68      2420\n",
      "weighted avg       0.69      0.70      0.69      2420\n",
      "\n",
      "val score: 0.6966942148760331\n",
      "LogisticRegression(penalty='l1', solver='liblinear')\n",
      "{'C': 1.0, 'penalty': 'l1', 'solver': 'liblinear'}\n",
      "best score: 0.6915942028985507\n"
     ]
    }
   ],
   "source": [
    "import time\n",
    "\n",
    "clf = LogisticRegression()\n",
    "# η παράμετρος n_jobs = 1 χρησιμοποιεί όλους τους πυρήνες του υπολογιστή\n",
    "params = {'penalty': ['l1', 'l2', 'elasticnet', 'none'],\n",
    "          'C'       : np.logspace(-3,3,7),\n",
    "          'solver'  : ['newton-cg', 'lbfgs', 'liblinear']\n",
    "        }\n",
    "\n",
    "estimator = GridSearchCV(clf, param_grid=params, cv=5, scoring='accuracy', n_jobs=-1)\n",
    "start_time = time.time()\n",
    "estimator.fit(X_train_minmax, y_train)\n",
    "val_score = estimator.score(X_val_minmax, y_val)\n",
    "\n",
    "preds = estimator.predict(X_val_minmax)\n",
    "\n",
    "target_names = ['home_loss', 'home_win']\n",
    "\n",
    "print(\"Συνολικός χρόνος fit και predict: %s seconds\" % (time.time() - start_time))\n",
    "print(classification_report(y_val, preds, target_names=target_names))\n",
    "print(\"val score:\", val_score)\n",
    "print(estimator.best_estimator_)\n",
    "print(estimator.best_params_)\n",
    "print(\"best score:\", estimator.best_score_)\n",
    "# print(\"test score\", test_score)\n",
    "\n"
   ]
  },
  {
   "cell_type": "markdown",
   "metadata": {},
   "source": [
    "#### PCA"
   ]
  },
  {
   "cell_type": "code",
   "execution_count": 12,
   "metadata": {},
   "outputs": [],
   "source": [
    "from sklearn.decomposition import PCA\n",
    "\n",
    "# PCA selector\n",
    "pca = PCA(n_components=30)\n",
    "\n",
    "# Εφαρμόζουμε στα δεδομένα εκπαίδευσης και ελέγχου τον *ΙΔΙΟ* μετασχηματισμό\n",
    "# Οι κύριες συνιστώσες υπολογίζονται στο train set\n",
    "# Στα train κάνουμε fit_transform στο test μόνο transform:\n",
    "trainPCA = pca.fit_transform(X_train_standard)\n",
    "valPCA = pca.transform(X_val_standard)\n",
    "testPCA = pca.transform(X_test_standard)"
   ]
  },
  {
   "cell_type": "code",
   "execution_count": 13,
   "metadata": {},
   "outputs": [
    {
     "name": "stdout",
     "output_type": "stream",
     "text": [
      "Συνολικός χρόνος fit και predict: 5.75942850112915 seconds\n",
      "              precision    recall  f1-score   support\n",
      "\n",
      "   home_loss       0.68      0.52      0.59      1011\n",
      "    home_win       0.70      0.82      0.76      1409\n",
      "\n",
      "    accuracy                           0.70      2420\n",
      "   macro avg       0.69      0.67      0.67      2420\n",
      "weighted avg       0.69      0.70      0.69      2420\n",
      "\n",
      "val score: 0.6958677685950413\n",
      "LogisticRegression(C=0.01, solver='liblinear')\n",
      "{'C': 0.01, 'penalty': 'l2', 'solver': 'liblinear'}\n",
      "best score: 0.6844927536231884\n"
     ]
    }
   ],
   "source": [
    "import time\n",
    "\n",
    "clf = LogisticRegression()\n",
    "# η παράμετρος n_jobs = 1 χρησιμοποιεί όλους τους πυρήνες του υπολογιστή\n",
    "params = {'penalty': ['l1', 'l2', 'elasticnet', 'none'],\n",
    "          'C'       : np.logspace(-3,3,7),\n",
    "          'solver'  : ['newton-cg', 'lbfgs', 'liblinear']\n",
    "        }\n",
    "\n",
    "estimator = GridSearchCV(clf, param_grid=params, cv=5, scoring='accuracy', n_jobs=-1)\n",
    "start_time = time.time()\n",
    "estimator.fit(trainPCA, y_train)\n",
    "val_score = estimator.score(valPCA, y_val)\n",
    "\n",
    "preds = estimator.predict(valPCA)\n",
    "\n",
    "target_names = ['home_loss', 'home_win']\n",
    "\n",
    "print(\"Συνολικός χρόνος fit και predict: %s seconds\" % (time.time() - start_time))\n",
    "print(classification_report(y_val, preds, target_names=target_names))\n",
    "print(\"val score:\", val_score)\n",
    "print(estimator.best_estimator_)\n",
    "print(estimator.best_params_)\n",
    "print(\"best score:\", estimator.best_score_)\n",
    "# print(\"test score\", test_score)\n",
    "\n"
   ]
  },
  {
   "cell_type": "markdown",
   "metadata": {},
   "source": [
    "#### Univariate Feature Selection Dataset"
   ]
  },
  {
   "cell_type": "code",
   "execution_count": 14,
   "metadata": {},
   "outputs": [],
   "source": [
    "X_train_uni = train_data[['diff_curr_win_pct','diff_curr_away_record','odds_home','odds_away','elo_diff']]\n",
    "y_train_uni = y_train\n",
    "\n",
    "X_val_uni = valid_data[['diff_curr_win_pct','diff_curr_away_record','odds_home','odds_away','elo_diff']]\n",
    "y_val_uni = y_val"
   ]
  },
  {
   "cell_type": "code",
   "execution_count": 15,
   "metadata": {},
   "outputs": [
    {
     "name": "stdout",
     "output_type": "stream",
     "text": [
      "Συνολικός χρόνος fit και predict: 3.7479801177978516 seconds\n",
      "              precision    recall  f1-score   support\n",
      "\n",
      "   home_loss       0.67      0.54      0.60      1011\n",
      "    home_win       0.71      0.81      0.76      1409\n",
      "\n",
      "    accuracy                           0.70      2420\n",
      "   macro avg       0.69      0.67      0.68      2420\n",
      "weighted avg       0.69      0.70      0.69      2420\n",
      "\n",
      "val score: 0.6962809917355371\n",
      "LogisticRegression(C=0.1, solver='liblinear')\n",
      "{'C': 0.1, 'penalty': 'l2', 'solver': 'liblinear'}\n",
      "best score: 0.6933333333333334\n"
     ]
    }
   ],
   "source": [
    "import time\n",
    "\n",
    "clf = LogisticRegression()\n",
    "# η παράμετρος n_jobs = 1 χρησιμοποιεί όλους τους πυρήνες του υπολογιστή\n",
    "params = {'penalty': ['l1', 'l2', 'elasticnet', 'none'],\n",
    "          'C'       : np.logspace(-3,3,7),\n",
    "          'solver'  : ['newton-cg', 'lbfgs', 'liblinear']\n",
    "        }\n",
    "\n",
    "estimator = GridSearchCV(clf, param_grid=params, cv=5, scoring='accuracy', n_jobs=-1)\n",
    "start_time = time.time()\n",
    "estimator.fit(X_train_uni, y_train_uni)\n",
    "val_score = estimator.score(X_val_uni, y_val_uni)\n",
    "\n",
    "preds = estimator.predict(X_val_uni)\n",
    "\n",
    "target_names = ['home_loss', 'home_win']\n",
    "\n",
    "print(\"Συνολικός χρόνος fit και predict: %s seconds\" % (time.time() - start_time))\n",
    "print(classification_report(y_val_uni, preds, target_names=target_names))\n",
    "print(\"val score:\", val_score)\n",
    "print(estimator.best_estimator_)\n",
    "print(estimator.best_params_)\n",
    "print(\"best score:\", estimator.best_score_)\n",
    "# print(\"test score\", test_score)\n",
    "\n"
   ]
  },
  {
   "cell_type": "markdown",
   "metadata": {},
   "source": [
    "#### Extra Trees Dataset"
   ]
  },
  {
   "cell_type": "code",
   "execution_count": 16,
   "metadata": {},
   "outputs": [],
   "source": [
    "X_train_extra = train_data[['odds_home', 'odds_away', 'home_elo', 'visitor_elo', 'elo_diff',\n",
    "                    'eff_diff', 'eff_visitor', 'top_player_diff', 'diff_win_pct_prev_season',\n",
    "                    'diff_home_record_last_season', 'ROAD_RECORD_home',\n",
    "                    'diff_road_record_last_season', 'diff_win_pct_7_last_games', 'W_PCT_home',\n",
    "                    'W_PCT_away', 'W_PCT_prev_away', 'diff_curr_away_record', 'HOME_RECORD_home', 'diff_curr_home_record',\n",
    "                    'diff_curr_win_pct']]\n",
    "\n",
    "y_train_extra = y_train\n",
    "\n",
    "X_val_extra = valid_data[['odds_home', 'odds_away', 'home_elo', 'visitor_elo', 'elo_diff',\n",
    "                    'eff_diff', 'eff_visitor', 'top_player_diff', 'diff_win_pct_prev_season',\n",
    "                    'diff_home_record_last_season', 'ROAD_RECORD_home',\n",
    "                    'diff_road_record_last_season', 'diff_win_pct_7_last_games', 'W_PCT_home',\n",
    "                    'W_PCT_away', 'W_PCT_prev_away', 'diff_curr_away_record', 'HOME_RECORD_home', 'diff_curr_home_record',\n",
    "                    'diff_curr_win_pct']]\n",
    "\n",
    "y_val_extra = y_val"
   ]
  },
  {
   "cell_type": "code",
   "execution_count": 17,
   "metadata": {},
   "outputs": [
    {
     "name": "stdout",
     "output_type": "stream",
     "text": [
      "Συνολικός χρόνος fit και predict: 35.72837591171265 seconds\n",
      "              precision    recall  f1-score   support\n",
      "\n",
      "   home_loss       0.68      0.54      0.60      1011\n",
      "    home_win       0.71      0.82      0.76      1409\n",
      "\n",
      "    accuracy                           0.70      2420\n",
      "   macro avg       0.69      0.68      0.68      2420\n",
      "weighted avg       0.70      0.70      0.69      2420\n",
      "\n",
      "val score: 0.6991735537190082\n",
      "LogisticRegression(C=100.0)\n",
      "{'C': 100.0, 'penalty': 'l2', 'solver': 'lbfgs'}\n",
      "best score: 0.6936231884057971\n"
     ]
    }
   ],
   "source": [
    "import time\n",
    "\n",
    "clf = LogisticRegression()\n",
    "# η παράμετρος n_jobs = 1 χρησιμοποιεί όλους τους πυρήνες του υπολογιστή\n",
    "params = {'penalty': ['l1', 'l2', 'elasticnet', 'none'],\n",
    "          'C'       : np.logspace(-3,3,7),\n",
    "          'solver'  : ['newton-cg', 'lbfgs', 'liblinear']\n",
    "        }\n",
    "\n",
    "estimator = GridSearchCV(clf, param_grid=params, cv=5, scoring='accuracy', n_jobs=-1)\n",
    "start_time = time.time()\n",
    "estimator.fit(X_train_extra, y_train_extra)\n",
    "val_score = estimator.score(X_val_extra, y_val_extra)\n",
    "\n",
    "preds = estimator.predict(X_val_extra)\n",
    "\n",
    "target_names = ['home_loss', 'home_win']\n",
    "\n",
    "print(\"Συνολικός χρόνος fit και predict: %s seconds\" % (time.time() - start_time))\n",
    "print(classification_report(y_val_extra, preds, target_names=target_names))\n",
    "print(\"val score:\", val_score)\n",
    "print(estimator.best_estimator_)\n",
    "print(estimator.best_params_)\n",
    "print(\"best score:\", estimator.best_score_)\n",
    "# print(\"test score\", test_score)\n",
    "\n"
   ]
  },
  {
   "cell_type": "markdown",
   "metadata": {},
   "source": [
    "#### RFECV Dataset"
   ]
  },
  {
   "cell_type": "code",
   "execution_count": 18,
   "metadata": {},
   "outputs": [],
   "source": [
    "X_train_rcv = train_data[['missing_player_diff','odds_home','odds_away','visitor_elo']]\n",
    "y_train_rcv = y_train\n",
    "\n",
    "X_val_rcv = valid_data[['missing_player_diff','odds_home','odds_away','visitor_elo']]\n",
    "y_val_rcv = y_val"
   ]
  },
  {
   "cell_type": "code",
   "execution_count": 19,
   "metadata": {},
   "outputs": [
    {
     "name": "stdout",
     "output_type": "stream",
     "text": [
      "Συνολικός χρόνος fit και predict: 5.47115159034729 seconds\n",
      "              precision    recall  f1-score   support\n",
      "\n",
      "   home_loss       0.68      0.55      0.61      1011\n",
      "    home_win       0.72      0.81      0.76      1409\n",
      "\n",
      "    accuracy                           0.70      2420\n",
      "   macro avg       0.70      0.68      0.68      2420\n",
      "weighted avg       0.70      0.70      0.70      2420\n",
      "\n",
      "val score: 0.7020661157024793\n",
      "LogisticRegression(C=0.01, solver='newton-cg')\n",
      "{'C': 0.01, 'penalty': 'l2', 'solver': 'newton-cg'}\n",
      "best score: 0.6947826086956521\n"
     ]
    }
   ],
   "source": [
    "import time\n",
    "\n",
    "clf = LogisticRegression()\n",
    "# η παράμετρος n_jobs = 1 χρησιμοποιεί όλους τους πυρήνες του υπολογιστή\n",
    "params = {'penalty': ['l1', 'l2', 'elasticnet', 'none'],\n",
    "          'C'       : np.logspace(-3,3,7),\n",
    "          'solver'  : ['newton-cg', 'lbfgs', 'liblinear']\n",
    "        }\n",
    "\n",
    "estimator = GridSearchCV(clf, param_grid=params, cv=5, scoring='accuracy', n_jobs=-1)\n",
    "start_time = time.time()\n",
    "estimator.fit(X_train_rcv, y_train_rcv)\n",
    "val_score = estimator.score(X_val_rcv, y_val_rcv)\n",
    "\n",
    "preds = estimator.predict(X_val_rcv)\n",
    "\n",
    "target_names = ['home_loss', 'home_win']\n",
    "\n",
    "print(\"Συνολικός χρόνος fit και predict: %s seconds\" % (time.time() - start_time))\n",
    "print(classification_report(y_val_rcv, preds, target_names=target_names))\n",
    "print(\"val score:\", val_score)\n",
    "print(estimator.best_estimator_)\n",
    "print(estimator.best_params_)\n",
    "print(\"best score:\", estimator.best_score_)\n",
    "# print(\"test score\", test_score)\n",
    "\n"
   ]
  },
  {
   "cell_type": "markdown",
   "metadata": {},
   "source": [
    "#### Lasso Dataset"
   ]
  },
  {
   "cell_type": "code",
   "execution_count": 20,
   "metadata": {},
   "outputs": [],
   "source": [
    "X_train_lasso = train_data[['elo_diff', 'odds_away', 'odds_home', 'eff_diff', 'eff_visitor',\n",
    "              'missing_players', 'top_players', 'FT_PCT_home_7g', 'diff_avg_reb_away',\n",
    "              'home_elo']]\n",
    "y_train_lasso = y_train\n",
    "\n",
    "X_val_lasso = valid_data[['elo_diff', 'odds_away', 'odds_home', 'eff_diff', 'eff_visitor',\n",
    "              'missing_players', 'top_players', 'FT_PCT_home_7g', 'diff_avg_reb_away',\n",
    "              'home_elo']]\n",
    "y_val_lasso = y_val"
   ]
  },
  {
   "cell_type": "code",
   "execution_count": 21,
   "metadata": {},
   "outputs": [
    {
     "name": "stdout",
     "output_type": "stream",
     "text": [
      "Συνολικός χρόνος fit και predict: 12.823372840881348 seconds\n",
      "              precision    recall  f1-score   support\n",
      "\n",
      "   home_loss       0.67      0.55      0.60      1011\n",
      "    home_win       0.71      0.81      0.76      1409\n",
      "\n",
      "    accuracy                           0.70      2420\n",
      "   macro avg       0.69      0.68      0.68      2420\n",
      "weighted avg       0.70      0.70      0.69      2420\n",
      "\n",
      "val score: 0.6987603305785124\n",
      "LogisticRegression(C=0.1, solver='liblinear')\n",
      "{'C': 0.1, 'penalty': 'l2', 'solver': 'liblinear'}\n",
      "best score: 0.6942028985507246\n"
     ]
    }
   ],
   "source": [
    "import time\n",
    "\n",
    "clf = LogisticRegression()\n",
    "# η παράμετρος n_jobs = 1 χρησιμοποιεί όλους τους πυρήνες του υπολογιστή\n",
    "params = {'penalty': ['l1', 'l2', 'elasticnet', 'none'],\n",
    "          'C'       : np.logspace(-3,3,7),\n",
    "          'solver'  : ['newton-cg', 'lbfgs', 'liblinear']\n",
    "        }\n",
    "\n",
    "estimator = GridSearchCV(clf, param_grid=params, cv=5, scoring='accuracy', n_jobs=-1)\n",
    "start_time = time.time()\n",
    "estimator.fit(X_train_lasso, y_train_lasso)\n",
    "val_score = estimator.score(X_val_lasso, y_val_lasso)\n",
    "\n",
    "preds = estimator.predict(X_val_lasso)\n",
    "\n",
    "target_names = ['home_loss', 'home_win']\n",
    "\n",
    "print(\"Συνολικός χρόνος fit και predict: %s seconds\" % (time.time() - start_time))\n",
    "print(classification_report(y_val_lasso, preds, target_names=target_names))\n",
    "print(\"val score:\", val_score)\n",
    "print(estimator.best_estimator_)\n",
    "print(estimator.best_params_)\n",
    "print(\"best score:\", estimator.best_score_)\n",
    "# print(\"test score\", test_score)\n",
    "\n"
   ]
  },
  {
   "cell_type": "markdown",
   "metadata": {},
   "source": [
    "#### SFS Forward Dataset"
   ]
  },
  {
   "cell_type": "code",
   "execution_count": 22,
   "metadata": {},
   "outputs": [],
   "source": [
    "X_train_for_sfs = train_data[['num_possible_outcomes', 'odds_home', 'odds_away', 'HOME_RECORD_home',\n",
    "                    'W_PCT_away', 'W_PCT_prev_home', 'ROAD_RECORD_prev_home', 'W_PCT_prev_away',\n",
    "                    'HOME_RECORD_prev_away', 'ROAD_RECORD_prev_away', 'WIN_PRCT_home_3g',\n",
    "                    'FT_PCT_home_3g', 'FT_PCT_away_3g', 'FG3_PCT_away_3g', 'WIN_PRCT_home_7g',\n",
    "                    'FT_PCT_away_7g', 'REB_away_7g', 'diff_avg_ast_home', 'diff_avg_ast_away',\n",
    "                    'diff_avg_fg3_pct_home', 'diff_avg_fg_pct_away', 'diff_avg_reb_away',\n",
    "                    'top_players', 'eff', 'eff_visitor', 'G_7days', 'back2back',\n",
    "                    'HG_7days_VISITOR', 'AG_7days_VISITOR', 'G_7days_VISITOR',\n",
    "                    'back2back_visitor', 'missing_players', 'missing_players_visitor',\n",
    "                    'home_elo', 'elo_diff', 'missing_player_diff', 'eff_diff',\n",
    "                    'Home_Last_5_Avg_FG3_PCT_home', 'Home_Last_5_Avg_FG3_PCT_away',\n",
    "                    'Away_Last_5_Avg_FG3_PCT_home', 'Away_Last_5_Avg_FT_PCT_away',\n",
    "                    'diff_fg_pct_last_3_games', 'diff_fg3_pct_last_7_games',\n",
    "                    'diff_ft_pct_last_3_games', 'diff_ast_last_3_games',\n",
    "                    'diff_ast_last_7_games', 'diff_win_pct_prev_season',\n",
    "                    'diff_home_record_last_season', 'diff_road_record_last_season',\n",
    "                    'diff_curr_win_pct']]\n",
    "\n",
    "y_train_for_sfs = y_train\n",
    "\n",
    "X_val_for_sfs = valid_data[['num_possible_outcomes', 'odds_home', 'odds_away', 'HOME_RECORD_home',\n",
    "                    'W_PCT_away', 'W_PCT_prev_home', 'ROAD_RECORD_prev_home', 'W_PCT_prev_away',\n",
    "                    'HOME_RECORD_prev_away', 'ROAD_RECORD_prev_away', 'WIN_PRCT_home_3g',\n",
    "                    'FT_PCT_home_3g', 'FT_PCT_away_3g', 'FG3_PCT_away_3g', 'WIN_PRCT_home_7g',\n",
    "                    'FT_PCT_away_7g', 'REB_away_7g', 'diff_avg_ast_home', 'diff_avg_ast_away',\n",
    "                    'diff_avg_fg3_pct_home', 'diff_avg_fg_pct_away', 'diff_avg_reb_away',\n",
    "                    'top_players', 'eff', 'eff_visitor', 'G_7days', 'back2back',\n",
    "                    'HG_7days_VISITOR', 'AG_7days_VISITOR', 'G_7days_VISITOR',\n",
    "                    'back2back_visitor', 'missing_players', 'missing_players_visitor',\n",
    "                    'home_elo', 'elo_diff', 'missing_player_diff', 'eff_diff',\n",
    "                    'Home_Last_5_Avg_FG3_PCT_home', 'Home_Last_5_Avg_FG3_PCT_away',\n",
    "                    'Away_Last_5_Avg_FG3_PCT_home', 'Away_Last_5_Avg_FT_PCT_away',\n",
    "                    'diff_fg_pct_last_3_games', 'diff_fg3_pct_last_7_games',\n",
    "                    'diff_ft_pct_last_3_games', 'diff_ast_last_3_games',\n",
    "                    'diff_ast_last_7_games', 'diff_win_pct_prev_season',\n",
    "                    'diff_home_record_last_season', 'diff_road_record_last_season',\n",
    "                    'diff_curr_win_pct']]\n",
    "\n",
    "y_val_for_sfs = y_val\n"
   ]
  },
  {
   "cell_type": "code",
   "execution_count": 23,
   "metadata": {},
   "outputs": [
    {
     "name": "stdout",
     "output_type": "stream",
     "text": [
      "Συνολικός χρόνος fit και predict: 196.57188081741333 seconds\n",
      "              precision    recall  f1-score   support\n",
      "\n",
      "   home_loss       0.67      0.55      0.61      1011\n",
      "    home_win       0.71      0.80      0.76      1409\n",
      "\n",
      "    accuracy                           0.70      2420\n",
      "   macro avg       0.69      0.68      0.68      2420\n",
      "weighted avg       0.69      0.70      0.69      2420\n",
      "\n",
      "val score: 0.6979338842975207\n",
      "LogisticRegression(C=1000.0, solver='newton-cg')\n",
      "{'C': 1000.0, 'penalty': 'l2', 'solver': 'newton-cg'}\n",
      "best score: 0.6943478260869566\n"
     ]
    }
   ],
   "source": [
    "import time\n",
    "\n",
    "clf = LogisticRegression()\n",
    "# η παράμετρος n_jobs = 1 χρησιμοποιεί όλους τους πυρήνες του υπολογιστή\n",
    "params = {'penalty': ['l1', 'l2', 'elasticnet', 'none'],\n",
    "          'C'       : np.logspace(-3,3,7),\n",
    "          'solver'  : ['newton-cg', 'lbfgs', 'liblinear']\n",
    "        }\n",
    "\n",
    "estimator = GridSearchCV(clf, param_grid=params, cv=5, scoring='accuracy', n_jobs=-1)\n",
    "start_time = time.time()\n",
    "estimator.fit(X_train_for_sfs, y_train_for_sfs)\n",
    "val_score = estimator.score(X_val_for_sfs, y_val_for_sfs)\n",
    "\n",
    "preds = estimator.predict(X_val_for_sfs)\n",
    "\n",
    "target_names = ['home_loss', 'home_win']\n",
    "\n",
    "print(\"Συνολικός χρόνος fit και predict: %s seconds\" % (time.time() - start_time))\n",
    "print(classification_report(y_val_for_sfs, preds, target_names=target_names))\n",
    "print(\"val score:\", val_score)\n",
    "print(estimator.best_estimator_)\n",
    "print(estimator.best_params_)\n",
    "print(\"best score:\", estimator.best_score_)\n",
    "# print(\"test score\", test_score)\n",
    "\n"
   ]
  },
  {
   "cell_type": "markdown",
   "metadata": {},
   "source": [
    "#### SFS Backwards Dataset"
   ]
  },
  {
   "cell_type": "code",
   "execution_count": 24,
   "metadata": {},
   "outputs": [],
   "source": [
    "X_train_back_sfs = train_data[['num_possible_outcomes', 'odds_home', 'odds_away', 'HOME_RECORD_home',\n",
    "                     'W_PCT_away', 'W_PCT_prev_away', 'HOME_RECORD_prev_away',\n",
    "                     'ROAD_RECORD_prev_away', 'FT_PCT_home_3g', 'FG3_PCT_home_3g', 'PTS_away_3g',\n",
    "                     'FG_PCT_away_3g', 'FT_PCT_away_3g', 'FG3_PCT_away_3g', 'PTS_home_7g',\n",
    "                     'FG_PCT_home_7g', 'AST_home_7g', 'AST_away_7g', 'REB_away_7g',\n",
    "                     'diff_avg_pts_away', 'diff_avg_ast_home', 'diff_avg_ast_away',\n",
    "                     'diff_avg_fg3_pct_home', 'top_players', 'top_players_visitor', 'eff_visitor',\n",
    "                     'G_7days', 'back2back', 'HG_7days_VISITOR', 'AG_7days_VISITOR',\n",
    "                     'G_7days_VISITOR', 'back2back_visitor', 'home_elo', 'elo_diff',\n",
    "                     'missing_player_diff', 'eff_diff', 'Home_Last_5_Avg_AST_home',\n",
    "                     'Home_Last_5_Avg_REB_home', 'Home_Last_5_Avg_REB_away',\n",
    "                     'Home_Last_5_Avg_FG3_PCT_away', 'Away_Last_5_Avg_PTS_home',\n",
    "                     'Away_Last_5_Avg_FG3_PCT_home', 'Away_Last_5_Avg_AST_home',\n",
    "                     'Away_Last_5_Avg_FT_PCT_away', 'diff_fg3_pct_last_3_games',\n",
    "                     'diff_fg3_pct_last_7_games', 'diff_ft_pct_last_3_games',\n",
    "                     'diff_ast_last_7_games', 'diff_reb_last_3_games',\n",
    "                     'diff_win_pct_3_last_games']]\n",
    "\n",
    "y_train_back_sfs = y_train\n",
    "\n",
    "X_val_back_sfs = valid_data[['num_possible_outcomes', 'odds_home', 'odds_away', 'HOME_RECORD_home',\n",
    "                     'W_PCT_away', 'W_PCT_prev_away', 'HOME_RECORD_prev_away',\n",
    "                     'ROAD_RECORD_prev_away', 'FT_PCT_home_3g', 'FG3_PCT_home_3g', 'PTS_away_3g',\n",
    "                     'FG_PCT_away_3g', 'FT_PCT_away_3g', 'FG3_PCT_away_3g', 'PTS_home_7g',\n",
    "                     'FG_PCT_home_7g', 'AST_home_7g', 'AST_away_7g', 'REB_away_7g',\n",
    "                     'diff_avg_pts_away', 'diff_avg_ast_home', 'diff_avg_ast_away',\n",
    "                     'diff_avg_fg3_pct_home', 'top_players', 'top_players_visitor', 'eff_visitor',\n",
    "                     'G_7days', 'back2back', 'HG_7days_VISITOR', 'AG_7days_VISITOR',\n",
    "                     'G_7days_VISITOR', 'back2back_visitor', 'home_elo', 'elo_diff',\n",
    "                     'missing_player_diff', 'eff_diff', 'Home_Last_5_Avg_AST_home',\n",
    "                     'Home_Last_5_Avg_REB_home', 'Home_Last_5_Avg_REB_away',\n",
    "                     'Home_Last_5_Avg_FG3_PCT_away', 'Away_Last_5_Avg_PTS_home',\n",
    "                     'Away_Last_5_Avg_FG3_PCT_home', 'Away_Last_5_Avg_AST_home',\n",
    "                     'Away_Last_5_Avg_FT_PCT_away', 'diff_fg3_pct_last_3_games',\n",
    "                     'diff_fg3_pct_last_7_games', 'diff_ft_pct_last_3_games',\n",
    "                     'diff_ast_last_7_games', 'diff_reb_last_3_games',\n",
    "                     'diff_win_pct_3_last_games']]\n",
    "\n",
    "y_val_back_sfs = y_val"
   ]
  },
  {
   "cell_type": "code",
   "execution_count": 25,
   "metadata": {},
   "outputs": [
    {
     "name": "stdout",
     "output_type": "stream",
     "text": [
      "Συνολικός χρόνος fit και predict: 202.25084853172302 seconds\n",
      "              precision    recall  f1-score   support\n",
      "\n",
      "   home_loss       0.68      0.55      0.61      1011\n",
      "    home_win       0.71      0.81      0.76      1409\n",
      "\n",
      "    accuracy                           0.70      2420\n",
      "   macro avg       0.70      0.68      0.68      2420\n",
      "weighted avg       0.70      0.70      0.70      2420\n",
      "\n",
      "val score: 0.7024793388429752\n",
      "LogisticRegression(solver='liblinear')\n",
      "{'C': 1.0, 'penalty': 'l2', 'solver': 'liblinear'}\n",
      "best score: 0.6968115942028985\n"
     ]
    }
   ],
   "source": [
    "import time\n",
    "\n",
    "clf = LogisticRegression()\n",
    "# η παράμετρος n_jobs = 1 χρησιμοποιεί όλους τους πυρήνες του υπολογιστή\n",
    "params = {'penalty': ['l1', 'l2', 'elasticnet', 'none'],\n",
    "          'C'       : np.logspace(-3,3,7),\n",
    "          'solver'  : ['newton-cg', 'lbfgs', 'liblinear']\n",
    "        }\n",
    "\n",
    "estimator = GridSearchCV(clf, param_grid=params, cv=5, scoring='accuracy', n_jobs=-1)\n",
    "start_time = time.time()\n",
    "estimator.fit(X_train_back_sfs, y_train_back_sfs)\n",
    "val_score = estimator.score(X_val_back_sfs, y_val_back_sfs)\n",
    "\n",
    "preds = estimator.predict(X_val_back_sfs)\n",
    "\n",
    "target_names = ['home_loss', 'home_win']\n",
    "\n",
    "print(\"Συνολικός χρόνος fit και predict: %s seconds\" % (time.time() - start_time))\n",
    "print(classification_report(y_val_back_sfs, preds, target_names=target_names))\n",
    "print(\"val score:\", val_score)\n",
    "print(estimator.best_estimator_)\n",
    "print(estimator.best_params_)\n",
    "print(\"best score:\", estimator.best_score_)\n",
    "# print(\"test score\", test_score)\n",
    "\n"
   ]
  },
  {
   "cell_type": "code",
   "execution_count": null,
   "metadata": {},
   "outputs": [],
   "source": []
  }
 ],
 "metadata": {
  "kernelspec": {
   "display_name": "Python 3.9.4 64-bit",
   "language": "python",
   "name": "python3"
  },
  "language_info": {
   "codemirror_mode": {
    "name": "ipython",
    "version": 3
   },
   "file_extension": ".py",
   "mimetype": "text/x-python",
   "name": "python",
   "nbconvert_exporter": "python",
   "pygments_lexer": "ipython3",
   "version": "3.9.4"
  },
  "orig_nbformat": 4,
  "vscode": {
   "interpreter": {
    "hash": "81794d4967e6c3204c66dcd87b604927b115b27c00565d3d43f05ba2f3a2cb0d"
   }
  }
 },
 "nbformat": 4,
 "nbformat_minor": 2
}
