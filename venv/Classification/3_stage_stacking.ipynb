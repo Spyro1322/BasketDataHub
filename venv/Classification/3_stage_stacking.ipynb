{
 "cells": [
  {
   "cell_type": "markdown",
   "metadata": {},
   "source": [
    "## 3-Stage Stacking"
   ]
  },
  {
   "cell_type": "code",
   "execution_count": 1,
   "metadata": {},
   "outputs": [],
   "source": [
    "import xgboost as xgb\n",
    "from sklearn.naive_bayes import GaussianNB\n",
    "from sklearn.neighbors import KNeighborsClassifier\n",
    "from sklearn.neural_network import MLPClassifier\n",
    "from sklearn.ensemble import RandomForestClassifier\n",
    "from sklearn.svm import SVC\n",
    "\n",
    "\n",
    "from sklearn.feature_selection import RFE\n",
    "from sklearn.pipeline import Pipeline\n",
    "from sklearn.preprocessing import StandardScaler\n",
    "from sklearn.decomposition import PCA\n",
    "from sklearn.feature_selection import SelectFromModel\n",
    "from sklearn.linear_model import LassoCV\n",
    "from sklearn.model_selection import train_test_split, GridSearchCV\n",
    "\n",
    "from sklearn.ensemble import StackingClassifier, AdaBoostClassifier\n",
    "\n",
    "from sklearn.metrics import classification_report, accuracy_score, confusion_matrix\n",
    "\n",
    "import time\n",
    "\n",
    "%matplotlib inline\n",
    "import numpy as np\n",
    "import pandas as pd\n",
    "import matplotlib.pyplot as plt\n",
    "from scipy import stats\n",
    "\n",
    "# use seaborn plotting defaults\n",
    "import seaborn as sns; sns.set()\n",
    "\n",
    "import warnings"
   ]
  },
  {
   "cell_type": "code",
   "execution_count": 2,
   "metadata": {},
   "outputs": [],
   "source": [
    "warnings.filterwarnings('ignore')\n"
   ]
  },
  {
   "cell_type": "code",
   "execution_count": 3,
   "metadata": {},
   "outputs": [],
   "source": [
    "df = pd.read_csv('../FeatureEngineering/MetaData/data6_&_odds.csv')\n",
    "df.dropna(inplace=True)"
   ]
  },
  {
   "cell_type": "code",
   "execution_count": 4,
   "metadata": {},
   "outputs": [],
   "source": [
    "train_data = df.loc[(df.season <= 2013) & (df.season >= 2007)]\n",
    "valid_data = df.loc[(df.season > 2013) & (df.season < 2016)]\n",
    "test_data = df.loc[df.season >= 2016]\n",
    "full_train_data = pd.concat([train_data, valid_data], axis=0)\n",
    "\n",
    "X, y = train_data.drop(columns=['home_team_wins']), train_data.home_team_wins\n",
    "valid_X, valid_y = valid_data.drop(columns=['home_team_wins']), valid_data.home_team_wins\n",
    "test_X, test_y = test_data.drop(columns=['home_team_wins']), test_data.home_team_wins\n",
    "\n",
    "# Split our data\n",
    "X_train, y_train = train_data.drop(columns=[\"game_date_est\",\"season\",\"game_id\",\"home_team\",\"visitor_team\",\"home_team_id\",\"visitor_team_id\",\"home_team_wins\",\"conference\",\"conference_visitor\"]), train_data.home_team_wins\n",
    "X_val, y_val = valid_data.drop(columns=[\"game_date_est\",\"season\",\"game_id\",\"home_team\",\"visitor_team\",\"home_team_id\",\"visitor_team_id\",\"home_team_wins\",\"conference\",\"conference_visitor\"]), valid_data.home_team_wins\n",
    "X_test, y_test = test_data.drop(columns=[\"game_date_est\",\"season\",\"game_id\",\"home_team\",\"visitor_team\",\"home_team_id\",\"visitor_team_id\",\"home_team_wins\",\"conference\",\"conference_visitor\"]), test_data.home_team_wins\n"
   ]
  },
  {
   "cell_type": "markdown",
   "metadata": {},
   "source": [
    "### GridSearchCV"
   ]
  },
  {
   "cell_type": "code",
   "execution_count": 21,
   "metadata": {},
   "outputs": [],
   "source": [
    "# create a stacking classifier\n",
    "layer_one_estimators = [ ('svm', SVC(random_state=42, C=1, gamma=0.0001, kernel='rbf')),\n",
    "        ('rf', RandomForestClassifier(bootstrap=True, max_depth=10, max_features='log2', min_samples_leaf=5, min_samples_split=12, n_estimators=100)),\n",
    "        # ('xgb', xgb.XGBClassifier(gamma=0.0, learning_rate=0.1, max_depth=3, min_child_weight=3, n_estimators=100))\n",
    "        ]\n",
    "        # ('ada', AdaBoostClassifier(learning_rate=0.1, n_estimators=100))\n",
    "        # ('knn', KNeighborsClassifier(leaf_size=1, n_neighbors=13)),\n",
    "        # ('mlp', MLPClassifier(alpha=1e-05, hidden_layer_sizes=(20, 10, 5), max_iter=150, solver='lbfgs')),\n",
    "layer_two_estimators = [\n",
    "        ('xgb', xgb.XGBClassifier(gamma=0.0, learning_rate=0.1, max_depth=3, min_child_weight=3, n_estimators=100)),\n",
    "        # ('rf', RandomForestClassifier(bootstrap=True, max_depth=10, max_features='log2', min_samples_leaf=5, min_samples_split=12, n_estimators=100)),\n",
    "        ('gnb', GaussianNB())\n",
    "        ]\n",
    "\n",
    "        \n",
    "mlp = MLPClassifier(alpha=1e-05, hidden_layer_sizes=(20, 10, 5), max_iter=150, solver='lbfgs')\n",
    "ada = AdaBoostClassifier(learning_rate=0.1, n_estimators=100)\n",
    "\n",
    "layer_two = StackingClassifier(estimators=layer_two_estimators, final_estimator=ada, cv=5)\n",
    "\n",
    "# make predictions with the 3-stage stacking model\n",
    "\n",
    "stacking_model = StackingClassifier(estimators=layer_one_estimators, final_estimator=layer_two, cv=5) \n"
   ]
  },
  {
   "cell_type": "code",
   "execution_count": 22,
   "metadata": {},
   "outputs": [],
   "source": [
    "start_time = time.time()\n",
    "stacking_model.fit(X_train, y_train)\n",
    "val_score = stacking_model.score(X_val, y_val)\n",
    "\n",
    "preds = stacking_model.predict(X_val)\n",
    "test_score = stacking_model.score(X_val, y_val)\n"
   ]
  },
  {
   "cell_type": "code",
   "execution_count": 23,
   "metadata": {},
   "outputs": [
    {
     "name": "stdout",
     "output_type": "stream",
     "text": [
      "Συνολικός χρόνος fit και predict: 104.21606087684631 seconds\n",
      "              precision    recall  f1-score   support\n",
      "\n",
      "   home_loss       0.64      0.63      0.63      1011\n",
      "    home_win       0.74      0.75      0.74      1409\n",
      "\n",
      "    accuracy                           0.70      2420\n",
      "   macro avg       0.69      0.69      0.69      2420\n",
      "weighted avg       0.70      0.70      0.70      2420\n",
      "\n",
      "val score: 0.697107438016529\n"
     ]
    }
   ],
   "source": [
    "target_names = ['home_loss', 'home_win']\n",
    "\n",
    "print(\"Συνολικός χρόνος fit και predict: %s seconds\" % (time.time() - start_time))\n",
    "print(classification_report(y_val, preds, target_names=target_names))\n",
    "print(\"val score:\", val_score)\n"
   ]
  },
  {
   "cell_type": "markdown",
   "metadata": {},
   "source": [
    "### Univariate Feature Selection Dataset"
   ]
  },
  {
   "cell_type": "code",
   "execution_count": 24,
   "metadata": {},
   "outputs": [],
   "source": [
    "X_train_uni = train_data[['diff_curr_win_pct','diff_curr_away_record','odds_home','odds_away','elo_diff']]\n",
    "y_train_uni = y_train\n",
    "\n",
    "X_val_uni = valid_data[['diff_curr_win_pct','diff_curr_away_record','odds_home','odds_away','elo_diff']]\n",
    "y_val_uni = y_val"
   ]
  },
  {
   "cell_type": "code",
   "execution_count": 31,
   "metadata": {},
   "outputs": [],
   "source": [
    "# create a stacking classifier\n",
    "layer_one_estimators = [ \n",
    "        ('svm', SVC(random_state=42, C=1000, gamma=0.0001, kernel='rbf')),\n",
    "        ('xgb', xgb.XGBClassifier(gamma=0.3, learning_rate=0.1, max_depth=3, min_child_weight=1, n_estimators=100))\n",
    "        ]\n",
    "        # ('knn', KNeighborsClassifier(leaf_size=1, n_neighbors=13)),\n",
    "        # ('mlp', MLPClassifier(alpha=1e-05, hidden_layer_sizes=(20, 10, 5), max_iter=250, solver='lbfgs')),\n",
    "layer_two_estimators = [\n",
    "        ('rf', RandomForestClassifier(bootstrap=True, max_depth=8, max_features='log2', min_samples_leaf=3, min_samples_split=8, n_estimators=100)),\n",
    "        ('gnb', GaussianNB())]\n",
    "        \n",
    "mlp = MLPClassifier(alpha=1e-05, hidden_layer_sizes=(20, 10, 5), max_iter=250, solver='lbfgs')\n",
    "ada = AdaBoostClassifier(learning_rate=0.1, n_estimators=100)\n",
    "\n",
    "layer_two = StackingClassifier(estimators=layer_two_estimators, final_estimator=ada, cv=5)\n",
    "\n",
    "# make predictions with the 3-stage stacking model\n",
    "\n",
    "stacking_model = StackingClassifier(estimators=layer_one_estimators, final_estimator=layer_two, cv=5) "
   ]
  },
  {
   "cell_type": "code",
   "execution_count": 32,
   "metadata": {},
   "outputs": [
    {
     "name": "stdout",
     "output_type": "stream",
     "text": [
      "Συνολικός χρόνος fit και predict: 157.25669360160828 seconds\n",
      "              precision    recall  f1-score   support\n",
      "\n",
      "   home_loss       0.66      0.52      0.58      1011\n",
      "    home_win       0.70      0.81      0.75      1409\n",
      "\n",
      "    accuracy                           0.69      2420\n",
      "   macro avg       0.68      0.67      0.67      2420\n",
      "weighted avg       0.69      0.69      0.68      2420\n",
      "\n",
      "val score: 0.6896694214876034\n"
     ]
    }
   ],
   "source": [
    "start_time = time.time()\n",
    "stacking_model.fit(X_train_uni, y_train_uni)\n",
    "val_score = stacking_model.score(X_val_uni, y_val_uni)\n",
    "\n",
    "preds = stacking_model.predict(X_val_uni)\n",
    "test_score = stacking_model.score(X_val_uni, y_val_uni)\n",
    "\n",
    "target_names = ['home_loss', 'home_win']\n",
    "\n",
    "print(\"Συνολικός χρόνος fit και predict: %s seconds\" % (time.time() - start_time))\n",
    "print(classification_report(y_val_uni, preds, target_names=target_names))\n",
    "print(\"val score:\", val_score)"
   ]
  },
  {
   "cell_type": "markdown",
   "metadata": {},
   "source": [
    "### ExtraTrees Classifier Dataset"
   ]
  },
  {
   "cell_type": "code",
   "execution_count": 33,
   "metadata": {},
   "outputs": [],
   "source": [
    "X_train_extra = train_data[['odds_home', 'odds_away', 'home_elo', 'visitor_elo', 'elo_diff',\n",
    "                    'eff_diff', 'eff_visitor', 'top_player_diff', 'diff_win_pct_prev_season',\n",
    "                    'diff_home_record_last_season', 'ROAD_RECORD_home',\n",
    "                    'diff_road_record_last_season', 'diff_win_pct_7_last_games', 'W_PCT_home',\n",
    "                    'W_PCT_away', 'W_PCT_prev_away', 'diff_curr_away_record', 'HOME_RECORD_home', 'diff_curr_home_record',\n",
    "                    'diff_curr_win_pct']]\n",
    "\n",
    "y_train_extra = y_train\n",
    "\n",
    "X_val_extra = valid_data[['odds_home', 'odds_away', 'home_elo', 'visitor_elo', 'elo_diff',\n",
    "                    'eff_diff', 'eff_visitor', 'top_player_diff', 'diff_win_pct_prev_season',\n",
    "                    'diff_home_record_last_season', 'ROAD_RECORD_home',\n",
    "                    'diff_road_record_last_season', 'diff_win_pct_7_last_games', 'W_PCT_home',\n",
    "                    'W_PCT_away', 'W_PCT_prev_away', 'diff_curr_away_record', 'HOME_RECORD_home', 'diff_curr_home_record',\n",
    "                    'diff_curr_win_pct']]\n",
    "\n",
    "y_val_extra = y_val"
   ]
  },
  {
   "cell_type": "code",
   "execution_count": 42,
   "metadata": {},
   "outputs": [],
   "source": [
    "layer_one_estimators = [ ('svm', SVC(random_state=42, C=1, gamma=0.0001, kernel='rbf')),\n",
    "        # ('xgb', xgb.XGBClassifier(gamma=0.0, learning_rate=0.1, max_depth=3, min_child_weight=3, n_estimators=100)),\n",
    "        ('rf', RandomForestClassifier(bootstrap=True, max_depth=8, max_features='log2', min_samples_leaf=3, min_samples_split=8, n_estimators=100)),\n",
    "\n",
    "        ]\n",
    "        # ('ada' , AdaBoostClassifier(learning_rate=0.1, n_estimators=100)),\n",
    "        # ('knn', KNeighborsClassifier(leaf_size=1, n_neighbors=13)),\n",
    "        # ('mlp', MLPClassifier(alpha=1e-05, hidden_layer_sizes=(20, 10, 5), max_iter=100, solver='lbfgs')),\n",
    "layer_two_estimators = [\n",
    "        ('xgb', xgb.XGBClassifier(gamma=0.0, learning_rate=0.1, max_depth=3, min_child_weight=3, n_estimators=100)),\n",
    "        # ('rf', RandomForestClassifier(bootstrap=True, max_depth=8, max_features='log2', min_samples_leaf=3, min_samples_split=8, n_estimators=100)),\n",
    "        ('gnb', GaussianNB())]\n",
    "\n",
    "mlp = MLPClassifier(alpha=1e-05, hidden_layer_sizes=(20, 10, 5), max_iter=100, solver='lbfgs')\n",
    "ada = AdaBoostClassifier(learning_rate=0.1, n_estimators=100)\n",
    "\n",
    "layer_two = StackingClassifier(estimators=layer_one_estimators, final_estimator=mlp, cv=5)\n",
    "\n",
    "# make predictions with the 3-stage stacking model\n",
    "\n",
    "stacking_model = StackingClassifier(estimators=layer_two_estimators, final_estimator=layer_two, cv=5) "
   ]
  },
  {
   "cell_type": "code",
   "execution_count": 43,
   "metadata": {},
   "outputs": [
    {
     "name": "stdout",
     "output_type": "stream",
     "text": [
      "Συνολικός χρόνος fit και predict: 24.33743691444397 seconds\n",
      "              precision    recall  f1-score   support\n",
      "\n",
      "   home_loss       0.64      0.60      0.62      1011\n",
      "    home_win       0.73      0.76      0.74      1409\n",
      "\n",
      "    accuracy                           0.69      2420\n",
      "   macro avg       0.68      0.68      0.68      2420\n",
      "weighted avg       0.69      0.69      0.69      2420\n",
      "\n",
      "val score: 0.693801652892562\n"
     ]
    }
   ],
   "source": [
    "start_time = time.time()\n",
    "stacking_model.fit(X_train_extra, y_train_extra)\n",
    "val_score = stacking_model.score(X_val_extra, y_val_extra)\n",
    "\n",
    "preds = stacking_model.predict(X_val_extra)\n",
    "test_score = stacking_model.score(X_val_extra, y_val_extra)\n",
    "\n",
    "target_names = ['home_loss', 'home_win']\n",
    "\n",
    "print(\"Συνολικός χρόνος fit και predict: %s seconds\" % (time.time() - start_time))\n",
    "print(classification_report(y_val_extra, preds, target_names=target_names))\n",
    "print(\"val score:\", val_score)\n",
    "\n",
    "# model = stacking_model.best_estimator_\n",
    "y_fit = stacking_model.predict(X_val_extra)\n"
   ]
  },
  {
   "cell_type": "markdown",
   "metadata": {},
   "source": [
    "### RFECV Dataset"
   ]
  },
  {
   "cell_type": "code",
   "execution_count": 44,
   "metadata": {},
   "outputs": [],
   "source": [
    "X_train_rcv = train_data[['missing_player_diff','odds_home','odds_away','visitor_elo']]\n",
    "y_train_rcv = y_train\n",
    "\n",
    "X_val_rcv = valid_data[['missing_player_diff','odds_home','odds_away','visitor_elo']]\n",
    "y_val_rcv = y_val"
   ]
  },
  {
   "cell_type": "code",
   "execution_count": 45,
   "metadata": {},
   "outputs": [],
   "source": [
    "layer_one_estimators = [ \n",
    "        ('svm', SVC(random_state=42, C=1000, gamma=0.0001, kernel='rbf')),\n",
    "        ('xgb', xgb.XGBClassifier(gamma=0.0, learning_rate=0.1, max_depth=3, min_child_weight=1, n_estimators=100))\n",
    "        ]   \n",
    "        # ('knn', KNeighborsClassifier(leaf_size=1, n_neighbors=11)),\n",
    "        # ('mlp', MLPClassifier(alpha=1e-05, hidden_layer_sizes=(20, 10, 5), max_iter=150, solver='lbfgs')),\n",
    "layer_two_estimators = [\n",
    "        ('rf', RandomForestClassifier(bootstrap=True, max_depth=8, max_features='auto', min_samples_leaf=5, min_samples_split=10, n_estimators=100)),\n",
    "        ('gnb', GaussianNB())]\n",
    "\n",
    "ada = AdaBoostClassifier(learning_rate=0.1, n_estimators=100)\n",
    "mlp = MLPClassifier(alpha=1e-05, hidden_layer_sizes=(20, 10, 5), max_iter=150, solver='lbfgs')\n",
    "\n",
    "\n",
    "layer_two = StackingClassifier(estimators=layer_one_estimators, final_estimator=mlp, cv=5)\n",
    "\n",
    "# make predictions with the 3-stage stacking model\n",
    "\n",
    "stacking_model = StackingClassifier(estimators=layer_two_estimators, final_estimator=layer_two, cv=5) "
   ]
  },
  {
   "cell_type": "code",
   "execution_count": 46,
   "metadata": {},
   "outputs": [
    {
     "name": "stdout",
     "output_type": "stream",
     "text": [
      "Συνολικός χρόνος fit και predict: 22.538868188858032 seconds\n",
      "              precision    recall  f1-score   support\n",
      "\n",
      "   home_loss       0.65      0.57      0.61      1011\n",
      "    home_win       0.72      0.78      0.75      1409\n",
      "\n",
      "    accuracy                           0.70      2420\n",
      "   macro avg       0.69      0.68      0.68      2420\n",
      "weighted avg       0.69      0.70      0.69      2420\n",
      "\n",
      "val score: 0.6954545454545454\n"
     ]
    }
   ],
   "source": [
    "start_time = time.time()\n",
    "stacking_model.fit(X_train_rcv, y_train_rcv)\n",
    "val_score = stacking_model.score(X_val_rcv, y_val_rcv)\n",
    "\n",
    "preds = stacking_model.predict(X_val_rcv)\n",
    "test_score = stacking_model.score(X_val_rcv, y_val_rcv)\n",
    "\n",
    "target_names = ['home_loss', 'home_win']\n",
    "\n",
    "print(\"Συνολικός χρόνος fit και predict: %s seconds\" % (time.time() - start_time))\n",
    "print(classification_report(y_val_rcv, preds, target_names=target_names))\n",
    "print(\"val score:\", val_score)\n"
   ]
  },
  {
   "cell_type": "markdown",
   "metadata": {},
   "source": [
    "### PCA"
   ]
  },
  {
   "cell_type": "code",
   "execution_count": 47,
   "metadata": {},
   "outputs": [],
   "source": [
    "n_components = 30\n",
    "pca = PCA(n_components=n_components).fit(X_train)\n",
    "X_train_pca = pca.transform(X_train)\n",
    "X_val_pca = pca.transform(X_val)\n",
    "X_test_pca = pca.transform(X_test)"
   ]
  },
  {
   "cell_type": "code",
   "execution_count": 52,
   "metadata": {},
   "outputs": [],
   "source": [
    "layer_one_estimators = [ \n",
    "        ('svm', SVC(random_state=42, C=10, gamma=0.0001, kernel='rbf')),\n",
    "        ('rf', RandomForestClassifier(bootstrap=True, max_depth=11, max_features='sqrt', min_samples_leaf=5, min_samples_split=12, n_estimators=100)),\n",
    "        # ('xgb', xgb.XGBClassifier(gamma=0.0, learning_rate=0.1, max_depth=3, min_child_weight=3, n_estimators=100))\n",
    "        ]   \n",
    "        # ('knn', KNeighborsClassifier(leaf_size=1, n_neighbors=11)),\n",
    "        # ('mlp', MLPClassifier(alpha=1e-05, hidden_layer_sizes=(20, 10, 5), max_iter=150, solver='lbfgs')),\n",
    "layer_two_estimators = [\n",
    "        ('xgb', xgb.XGBClassifier(gamma=0.0, learning_rate=0.1, max_depth=3, min_child_weight=3, n_estimators=100)),\n",
    "        # ('rf', RandomForestClassifier(bootstrap=True, max_depth=11, max_features='sqrt', min_samples_leaf=5, min_samples_split=12, n_estimators=100)),\n",
    "        ('gnb', GaussianNB())]\n",
    "\n",
    "ada = AdaBoostClassifier(learning_rate=0.1, n_estimators=100)\n",
    "mlp = MLPClassifier(alpha=1e-05, hidden_layer_sizes=(20, 10, 5), max_iter=150, solver='lbfgs')\n",
    "\n",
    "\n",
    "layer_two = StackingClassifier(estimators=layer_one_estimators, final_estimator=mlp, cv=5)\n",
    "\n",
    "# make predictions with the 3-stage stacking model\n",
    "\n",
    "stacking_model = StackingClassifier(estimators=layer_two_estimators, final_estimator=layer_two, cv=5) "
   ]
  },
  {
   "cell_type": "code",
   "execution_count": 53,
   "metadata": {},
   "outputs": [
    {
     "name": "stdout",
     "output_type": "stream",
     "text": [
      "Συνολικός χρόνος fit και predict: 25.889492750167847 seconds\n",
      "              precision    recall  f1-score   support\n",
      "\n",
      "   home_loss       0.62      0.63      0.63      1011\n",
      "    home_win       0.73      0.73      0.73      1409\n",
      "\n",
      "    accuracy                           0.69      2420\n",
      "   macro avg       0.68      0.68      0.68      2420\n",
      "weighted avg       0.69      0.69      0.69      2420\n",
      "\n",
      "val score: 0.6867768595041323\n"
     ]
    }
   ],
   "source": [
    "start_time = time.time()\n",
    "stacking_model.fit(X_train_pca, y_train)\n",
    "val_score = stacking_model.score(X_val_pca, y_val)\n",
    "\n",
    "preds = stacking_model.predict(X_val_pca)\n",
    "test_score = stacking_model.score(X_val_pca, y_val)\n",
    "\n",
    "target_names = ['home_loss', 'home_win']\n",
    "\n",
    "print(\"Συνολικός χρόνος fit και predict: %s seconds\" % (time.time() - start_time))\n",
    "print(classification_report(y_val, preds, target_names=target_names))\n",
    "print(\"val score:\", val_score)\n"
   ]
  },
  {
   "cell_type": "markdown",
   "metadata": {},
   "source": [
    "### Lasso Dataset"
   ]
  },
  {
   "cell_type": "code",
   "execution_count": 54,
   "metadata": {},
   "outputs": [],
   "source": [
    "X_train_lasso = train_data[['elo_diff', 'odds_away', 'odds_home', 'eff_diff', 'eff_visitor',\n",
    "              'missing_players', 'top_players', 'FT_PCT_home_7g', 'diff_avg_reb_away',\n",
    "              'home_elo']]\n",
    "y_train_lasso = y_train\n",
    "\n",
    "X_val_lasso = valid_data[['elo_diff', 'odds_away', 'odds_home', 'eff_diff', 'eff_visitor',\n",
    "              'missing_players', 'top_players', 'FT_PCT_home_7g', 'diff_avg_reb_away',\n",
    "              'home_elo']]\n",
    "y_val_lasso = y_val"
   ]
  },
  {
   "cell_type": "code",
   "execution_count": 55,
   "metadata": {},
   "outputs": [],
   "source": [
    "layer_one_estimators = [ \n",
    "        ('svm', SVC(random_state=42, C=100, gamma=0.001, kernel='rbf')),\n",
    "        ('rf', RandomForestClassifier(bootstrap=True, max_depth=11, max_features='auto', min_samples_leaf=4, min_samples_split=8, n_estimators=100)),\n",
    "        # ('xgb', xgb.XGBClassifier(gamma=0.2, learning_rate=0.1, max_depth=3, min_child_weight=3, n_estimators=100))\n",
    "        ]   \n",
    "        # ('knn', KNeighborsClassifier(leaf_size=1, n_neighbors=11)),\n",
    "        # ('mlp', MLPClassifier(alpha=1e-05, hidden_layer_sizes=(20, 10, 5), max_iter=150, solver='lbfgs')),\n",
    "layer_two_estimators = [\n",
    "        ('xgb', xgb.XGBClassifier(gamma=0.2, learning_rate=0.1, max_depth=3, min_child_weight=3, n_estimators=100)),\n",
    "        # ('rf', RandomForestClassifier(bootstrap=True, max_depth=11, max_features='auto', min_samples_leaf=4, min_samples_split=8, n_estimators=100)),\n",
    "        ('gnb', GaussianNB())]\n",
    "\n",
    "ada = AdaBoostClassifier(learning_rate=0.1, n_estimators=100)\n",
    "mlp = MLPClassifier(alpha=1e-05, hidden_layer_sizes=(20, 10, 5), max_iter=150, solver='lbfgs')\n",
    "\n",
    "\n",
    "layer_two = StackingClassifier(estimators=layer_one_estimators, final_estimator=ada, cv=5)\n",
    "\n",
    "# make predictions with the 3-stage stacking model\n",
    "\n",
    "stacking_model = StackingClassifier(estimators=layer_two_estimators, final_estimator=layer_two, cv=5) "
   ]
  },
  {
   "cell_type": "code",
   "execution_count": 56,
   "metadata": {},
   "outputs": [
    {
     "name": "stdout",
     "output_type": "stream",
     "text": [
      "Συνολικός χρόνος fit και predict: 21.658222675323486 seconds\n",
      "              precision    recall  f1-score   support\n",
      "\n",
      "   home_loss       0.66      0.58      0.62      1011\n",
      "    home_win       0.72      0.79      0.75      1409\n",
      "\n",
      "    accuracy                           0.70      2420\n",
      "   macro avg       0.69      0.68      0.68      2420\n",
      "weighted avg       0.70      0.70      0.70      2420\n",
      "\n",
      "val score: 0.6995867768595041\n"
     ]
    }
   ],
   "source": [
    "start_time = time.time()\n",
    "stacking_model.fit(X_train_lasso, y_train_lasso)\n",
    "val_score = stacking_model.score(X_val_lasso, y_val_lasso)\n",
    "\n",
    "preds = stacking_model.predict(X_val_lasso)\n",
    "test_score = stacking_model.score(X_val_lasso, y_val_lasso)\n",
    "\n",
    "target_names = ['home_loss', 'home_win']\n",
    "\n",
    "print(\"Συνολικός χρόνος fit και predict: %s seconds\" % (time.time() - start_time))\n",
    "print(classification_report(y_val_lasso, preds, target_names=target_names))\n",
    "print(\"val score:\", val_score)\n"
   ]
  },
  {
   "cell_type": "markdown",
   "metadata": {},
   "source": [
    "### SFS Forward Dataset"
   ]
  },
  {
   "cell_type": "code",
   "execution_count": 57,
   "metadata": {},
   "outputs": [],
   "source": [
    "X_train_for_sfs = train_data[['num_possible_outcomes', 'odds_home', 'odds_away', 'HOME_RECORD_home',\n",
    "                    'W_PCT_away', 'W_PCT_prev_home', 'ROAD_RECORD_prev_home', 'W_PCT_prev_away',\n",
    "                    'HOME_RECORD_prev_away', 'ROAD_RECORD_prev_away', 'WIN_PRCT_home_3g',\n",
    "                    'FT_PCT_home_3g', 'FT_PCT_away_3g', 'FG3_PCT_away_3g', 'WIN_PRCT_home_7g',\n",
    "                    'FT_PCT_away_7g', 'REB_away_7g', 'diff_avg_ast_home', 'diff_avg_ast_away',\n",
    "                    'diff_avg_fg3_pct_home', 'diff_avg_fg_pct_away', 'diff_avg_reb_away',\n",
    "                    'top_players', 'eff', 'eff_visitor', 'G_7days', 'back2back',\n",
    "                    'HG_7days_VISITOR', 'AG_7days_VISITOR', 'G_7days_VISITOR',\n",
    "                    'back2back_visitor', 'missing_players', 'missing_players_visitor',\n",
    "                    'home_elo', 'elo_diff', 'missing_player_diff', 'eff_diff',\n",
    "                    'Home_Last_5_Avg_FG3_PCT_home', 'Home_Last_5_Avg_FG3_PCT_away',\n",
    "                    'Away_Last_5_Avg_FG3_PCT_home', 'Away_Last_5_Avg_FT_PCT_away',\n",
    "                    'diff_fg_pct_last_3_games', 'diff_fg3_pct_last_7_games',\n",
    "                    'diff_ft_pct_last_3_games', 'diff_ast_last_3_games',\n",
    "                    'diff_ast_last_7_games', 'diff_win_pct_prev_season',\n",
    "                    'diff_home_record_last_season', 'diff_road_record_last_season',\n",
    "                    'diff_curr_win_pct']]\n",
    "\n",
    "y_train_for_sfs = y_train\n",
    "\n",
    "X_val_for_sfs = valid_data[['num_possible_outcomes', 'odds_home', 'odds_away', 'HOME_RECORD_home',\n",
    "                    'W_PCT_away', 'W_PCT_prev_home', 'ROAD_RECORD_prev_home', 'W_PCT_prev_away',\n",
    "                    'HOME_RECORD_prev_away', 'ROAD_RECORD_prev_away', 'WIN_PRCT_home_3g',\n",
    "                    'FT_PCT_home_3g', 'FT_PCT_away_3g', 'FG3_PCT_away_3g', 'WIN_PRCT_home_7g',\n",
    "                    'FT_PCT_away_7g', 'REB_away_7g', 'diff_avg_ast_home', 'diff_avg_ast_away',\n",
    "                    'diff_avg_fg3_pct_home', 'diff_avg_fg_pct_away', 'diff_avg_reb_away',\n",
    "                    'top_players', 'eff', 'eff_visitor', 'G_7days', 'back2back',\n",
    "                    'HG_7days_VISITOR', 'AG_7days_VISITOR', 'G_7days_VISITOR',\n",
    "                    'back2back_visitor', 'missing_players', 'missing_players_visitor',\n",
    "                    'home_elo', 'elo_diff', 'missing_player_diff', 'eff_diff',\n",
    "                    'Home_Last_5_Avg_FG3_PCT_home', 'Home_Last_5_Avg_FG3_PCT_away',\n",
    "                    'Away_Last_5_Avg_FG3_PCT_home', 'Away_Last_5_Avg_FT_PCT_away',\n",
    "                    'diff_fg_pct_last_3_games', 'diff_fg3_pct_last_7_games',\n",
    "                    'diff_ft_pct_last_3_games', 'diff_ast_last_3_games',\n",
    "                    'diff_ast_last_7_games', 'diff_win_pct_prev_season',\n",
    "                    'diff_home_record_last_season', 'diff_road_record_last_season',\n",
    "                    'diff_curr_win_pct']]\n",
    "\n",
    "y_val_for_sfs = y_val\n"
   ]
  },
  {
   "cell_type": "code",
   "execution_count": 62,
   "metadata": {},
   "outputs": [],
   "source": [
    "layer_one_estimators = [ \n",
    "        ('svm', SVC(random_state=42, C=1, gamma=0.0001, kernel='rbf')),\n",
    "        # ('rf', RandomForestClassifier(bootstrap=True, max_depth=10, max_features='sqrt', min_samples_leaf=3, min_samples_split=8, n_estimators=100)),\n",
    "        ('xgb', xgb.XGBClassifier(gamma=0.0, learning_rate=0.1, max_depth=3, min_child_weight=1, n_estimators=100))\n",
    "        ]   \n",
    "        # ('knn', KNeighborsClassifier(leaf_size=1, n_neighbors=11)),\n",
    "        # ('mlp', MLPClassifier(alpha=1e-05, hidden_layer_sizes=(20, 10, 5), max_iter=150, solver='lbfgs')),\n",
    "layer_two_estimators = [\n",
    "        # ('xgb', xgb.XGBClassifier(gamma=0.0, learning_rate=0.1, max_depth=3, min_child_weight=1, n_estimators=100)),\n",
    "        ('rf', RandomForestClassifier(bootstrap=True, max_depth=10, max_features='sqrt', min_samples_leaf=3, min_samples_split=8, n_estimators=100)),\n",
    "        ('gnb', GaussianNB())]\n",
    "\n",
    "ada = AdaBoostClassifier(learning_rate=0.1, n_estimators=100)\n",
    "mlp = MLPClassifier(alpha=1e-05, hidden_layer_sizes=(20, 10, 5), max_iter=200, solver='lbfgs')\n",
    "\n",
    "\n",
    "layer_two = StackingClassifier(estimators=layer_one_estimators, final_estimator=ada, cv=5)\n",
    "\n",
    "# make predictions with the 3-stage stacking model\n",
    "\n",
    "stacking_model = StackingClassifier(estimators=layer_two_estimators, final_estimator=layer_two, cv=5) "
   ]
  },
  {
   "cell_type": "code",
   "execution_count": 63,
   "metadata": {},
   "outputs": [
    {
     "name": "stdout",
     "output_type": "stream",
     "text": [
      "Συνολικός χρόνος fit και predict: 30.913140535354614 seconds\n",
      "              precision    recall  f1-score   support\n",
      "\n",
      "   home_loss       0.65      0.58      0.62      1011\n",
      "    home_win       0.72      0.77      0.75      1409\n",
      "\n",
      "    accuracy                           0.70      2420\n",
      "   macro avg       0.69      0.68      0.68      2420\n",
      "weighted avg       0.69      0.70      0.69      2420\n",
      "\n",
      "val score: 0.6950413223140496\n"
     ]
    }
   ],
   "source": [
    "start_time = time.time()\n",
    "stacking_model.fit(X_train_for_sfs, y_train_for_sfs)\n",
    "val_score = stacking_model.score(X_val_for_sfs, y_val_for_sfs)\n",
    "\n",
    "preds = stacking_model.predict(X_val_for_sfs)\n",
    "test_score = stacking_model.score(X_val_for_sfs, y_val_for_sfs)\n",
    "\n",
    "target_names = ['home_loss', 'home_win']\n",
    "\n",
    "print(\"Συνολικός χρόνος fit και predict: %s seconds\" % (time.time() - start_time))\n",
    "print(classification_report(y_val_for_sfs, preds, target_names=target_names))\n",
    "print(\"val score:\", val_score)\n"
   ]
  },
  {
   "cell_type": "markdown",
   "metadata": {},
   "source": [
    "### SFS Backwards Dataset"
   ]
  },
  {
   "cell_type": "code",
   "execution_count": 64,
   "metadata": {},
   "outputs": [],
   "source": [
    "X_train_back_sfs = train_data[['num_possible_outcomes', 'odds_home', 'odds_away', 'HOME_RECORD_home',\n",
    "                     'W_PCT_away', 'W_PCT_prev_away', 'HOME_RECORD_prev_away',\n",
    "                     'ROAD_RECORD_prev_away', 'FT_PCT_home_3g', 'FG3_PCT_home_3g', 'PTS_away_3g',\n",
    "                     'FG_PCT_away_3g', 'FT_PCT_away_3g', 'FG3_PCT_away_3g', 'PTS_home_7g',\n",
    "                     'FG_PCT_home_7g', 'AST_home_7g', 'AST_away_7g', 'REB_away_7g',\n",
    "                     'diff_avg_pts_away', 'diff_avg_ast_home', 'diff_avg_ast_away',\n",
    "                     'diff_avg_fg3_pct_home', 'top_players', 'top_players_visitor', 'eff_visitor',\n",
    "                     'G_7days', 'back2back', 'HG_7days_VISITOR', 'AG_7days_VISITOR',\n",
    "                     'G_7days_VISITOR', 'back2back_visitor', 'home_elo', 'elo_diff',\n",
    "                     'missing_player_diff', 'eff_diff', 'Home_Last_5_Avg_AST_home',\n",
    "                     'Home_Last_5_Avg_REB_home', 'Home_Last_5_Avg_REB_away',\n",
    "                     'Home_Last_5_Avg_FG3_PCT_away', 'Away_Last_5_Avg_PTS_home',\n",
    "                     'Away_Last_5_Avg_FG3_PCT_home', 'Away_Last_5_Avg_AST_home',\n",
    "                     'Away_Last_5_Avg_FT_PCT_away', 'diff_fg3_pct_last_3_games',\n",
    "                     'diff_fg3_pct_last_7_games', 'diff_ft_pct_last_3_games',\n",
    "                     'diff_ast_last_7_games', 'diff_reb_last_3_games',\n",
    "                     'diff_win_pct_3_last_games']]\n",
    "\n",
    "y_train_back_sfs = y_train\n",
    "\n",
    "X_val_back_sfs = valid_data[['num_possible_outcomes', 'odds_home', 'odds_away', 'HOME_RECORD_home',\n",
    "                     'W_PCT_away', 'W_PCT_prev_away', 'HOME_RECORD_prev_away',\n",
    "                     'ROAD_RECORD_prev_away', 'FT_PCT_home_3g', 'FG3_PCT_home_3g', 'PTS_away_3g',\n",
    "                     'FG_PCT_away_3g', 'FT_PCT_away_3g', 'FG3_PCT_away_3g', 'PTS_home_7g',\n",
    "                     'FG_PCT_home_7g', 'AST_home_7g', 'AST_away_7g', 'REB_away_7g',\n",
    "                     'diff_avg_pts_away', 'diff_avg_ast_home', 'diff_avg_ast_away',\n",
    "                     'diff_avg_fg3_pct_home', 'top_players', 'top_players_visitor', 'eff_visitor',\n",
    "                     'G_7days', 'back2back', 'HG_7days_VISITOR', 'AG_7days_VISITOR',\n",
    "                     'G_7days_VISITOR', 'back2back_visitor', 'home_elo', 'elo_diff',\n",
    "                     'missing_player_diff', 'eff_diff', 'Home_Last_5_Avg_AST_home',\n",
    "                     'Home_Last_5_Avg_REB_home', 'Home_Last_5_Avg_REB_away',\n",
    "                     'Home_Last_5_Avg_FG3_PCT_away', 'Away_Last_5_Avg_PTS_home',\n",
    "                     'Away_Last_5_Avg_FG3_PCT_home', 'Away_Last_5_Avg_AST_home',\n",
    "                     'Away_Last_5_Avg_FT_PCT_away', 'diff_fg3_pct_last_3_games',\n",
    "                     'diff_fg3_pct_last_7_games', 'diff_ft_pct_last_3_games',\n",
    "                     'diff_ast_last_7_games', 'diff_reb_last_3_games',\n",
    "                     'diff_win_pct_3_last_games']]\n",
    "\n",
    "y_val_back_sfs = y_val"
   ]
  },
  {
   "cell_type": "code",
   "execution_count": 69,
   "metadata": {},
   "outputs": [],
   "source": [
    "layer_one_estimators = [ \n",
    "        ('svm', SVC(random_state=42, C=1, gamma=0.0001, kernel='rbf')),\n",
    "        ('rf', RandomForestClassifier(bootstrap=True, max_depth=8, max_features='sqrt', min_samples_leaf=5, min_samples_split=12, n_estimators=100)),\n",
    "        # ('xgb', xgb.XGBClassifier(gamma=0.0, learning_rate=0.1, max_depth=3, min_child_weight=1, n_estimators=100))\n",
    "        ]   \n",
    "        # ('knn', KNeighborsClassifier(leaf_size=1, n_neighbors=11)),\n",
    "        # ('mlp', MLPClassifier(alpha=1e-05, hidden_layer_sizes=(20, 10, 5), max_iter=150, solver='lbfgs')),\n",
    "layer_two_estimators = [\n",
    "        ('xgb', xgb.XGBClassifier(gamma=0.0, learning_rate=0.1, max_depth=3, min_child_weight=1, n_estimators=100)),\n",
    "        # ('rf', RandomForestClassifier(bootstrap=True, max_depth=8, max_features='sqrt', min_samples_leaf=5, min_samples_split=12, n_estimators=100)),\n",
    "        ('gnb', GaussianNB())]\n",
    "\n",
    "ada = AdaBoostClassifier(learning_rate=0.1, n_estimators=100)\n",
    "mlp = MLPClassifier(alpha=1e-05, hidden_layer_sizes=(20, 10, 5), max_iter=250, solver='lbfgs')\n",
    "\n",
    "\n",
    "layer_two = StackingClassifier(estimators=layer_one_estimators, final_estimator=ada, cv=5)\n",
    "\n",
    "# make predictions with the 3-stage stacking model\n",
    "\n",
    "stacking_model = StackingClassifier(estimators=layer_two_estimators, final_estimator=layer_two, cv=5) "
   ]
  },
  {
   "cell_type": "code",
   "execution_count": 70,
   "metadata": {},
   "outputs": [
    {
     "name": "stdout",
     "output_type": "stream",
     "text": [
      "Συνολικός χρόνος fit και predict: 23.10113024711609 seconds\n",
      "              precision    recall  f1-score   support\n",
      "\n",
      "   home_loss       0.63      0.63      0.63      1011\n",
      "    home_win       0.74      0.74      0.74      1409\n",
      "\n",
      "    accuracy                           0.69      2420\n",
      "   macro avg       0.68      0.68      0.68      2420\n",
      "weighted avg       0.69      0.69      0.69      2420\n",
      "\n",
      "val score: 0.6929752066115702\n"
     ]
    }
   ],
   "source": [
    "start_time = time.time()\n",
    "stacking_model.fit(X_train_back_sfs, y_train_back_sfs)\n",
    "val_score = stacking_model.score(X_val_back_sfs, y_val_back_sfs)\n",
    "\n",
    "preds = stacking_model.predict(X_val_back_sfs)\n",
    "test_score = stacking_model.score(X_val_back_sfs, y_val_back_sfs)\n",
    "\n",
    "target_names = ['home_loss', 'home_win']\n",
    "\n",
    "print(\"Συνολικός χρόνος fit και predict: %s seconds\" % (time.time() - start_time))\n",
    "print(classification_report(y_val_back_sfs, preds, target_names=target_names))\n",
    "print(\"val score:\", val_score)\n"
   ]
  }
 ],
 "metadata": {
  "interpreter": {
   "hash": "81794d4967e6c3204c66dcd87b604927b115b27c00565d3d43f05ba2f3a2cb0d"
  },
  "kernelspec": {
   "display_name": "Python 3.9.4 64-bit",
   "language": "python",
   "name": "python3"
  },
  "language_info": {
   "codemirror_mode": {
    "name": "ipython",
    "version": 3
   },
   "file_extension": ".py",
   "mimetype": "text/x-python",
   "name": "python",
   "nbconvert_exporter": "python",
   "pygments_lexer": "ipython3",
   "version": "3.9.4"
  },
  "orig_nbformat": 4
 },
 "nbformat": 4,
 "nbformat_minor": 2
}
