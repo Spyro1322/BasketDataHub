{
  "cells": [
    {
      "cell_type": "markdown",
      "metadata": {},
      "source": [
        "## Random Forest Classifier"
      ]
    },
    {
      "cell_type": "code",
      "execution_count": 6,
      "metadata": {
        "id": "0wJOBWwtD342"
      },
      "outputs": [],
      "source": [
        "# Importing libraries\n",
        "import time\n",
        "import warnings\n",
        "\n",
        "import numpy as np\n",
        "import pandas as pd\n",
        "import matplotlib.pyplot as plt\n",
        "import seaborn as sns\n",
        "\n",
        "from sklearn.ensemble import RandomForestClassifier, BaggingClassifier\n",
        "from sklearn.model_selection import train_test_split, GridSearchCV\n",
        "from sklearn.metrics import classification_report\n",
        "\n",
        "from selected_feat import *"
      ]
    },
    {
      "cell_type": "code",
      "execution_count": 7,
      "metadata": {
        "id": "Wzt5T0VxD8eb"
      },
      "outputs": [],
      "source": [
        "warnings.filterwarnings('ignore')"
      ]
    },
    {
      "cell_type": "code",
      "execution_count": 8,
      "metadata": {
        "id": "PMHS8bRuEBFc"
      },
      "outputs": [],
      "source": [
        "df = pd.read_csv('../FeatureEngineering/MetaData/data6_&_odds.csv')\n",
        "df.dropna(inplace=True)"
      ]
    },
    {
      "cell_type": "code",
      "execution_count": 9,
      "metadata": {
        "id": "hSEe6pO5EMfW"
      },
      "outputs": [],
      "source": [
        "train_data = df.loc[(df.season <= 2013) & (df.season >= 2007)]\n",
        "valid_data = df.loc[(df.season > 2013) & (df.season < 2016)]\n",
        "test_data = df.loc[df.season >= 2016]\n",
        "full_train_data = pd.concat([train_data, valid_data], axis=0)\n",
        "\n",
        "X, y = train_data.drop(columns=['home_team_wins']), train_data.home_team_wins\n",
        "valid_X, valid_y = valid_data.drop(columns=['home_team_wins']), valid_data.home_team_wins\n",
        "test_X, test_y = test_data.drop(columns=['home_team_wins']), test_data.home_team_wins\n",
        "\n",
        "# Split our data\n",
        "X_train, y_train = train_data.drop(columns=[\"game_date_est\",\"season\",\"game_id\",\"home_team\",\"visitor_team\",\"home_team_id\",\"visitor_team_id\",\"home_team_wins\",\"conference\",\"conference_visitor\"]), train_data.home_team_wins\n",
        "X_val, y_val = valid_data.drop(columns=[\"game_date_est\",\"season\",\"game_id\",\"home_team\",\"visitor_team\",\"home_team_id\",\"visitor_team_id\",\"home_team_wins\",\"conference\",\"conference_visitor\"]), valid_data.home_team_wins\n",
        "X_test, y_test = test_data.drop(columns=[\"game_date_est\",\"season\",\"game_id\",\"home_team\",\"visitor_team\",\"home_team_id\",\"visitor_team_id\",\"home_team_wins\",\"conference\",\"conference_visitor\"]), test_data.home_team_wins\n",
        "\n"
      ]
    },
    {
      "cell_type": "markdown",
      "metadata": {},
      "source": [
        "### Simple RF Classifier with GridSearchCV"
      ]
    },
    {
      "cell_type": "code",
      "execution_count": 5,
      "metadata": {
        "colab": {
          "base_uri": "https://localhost:8080/"
        },
        "id": "cgEGsYI3EXBN",
        "outputId": "7765094f-bffa-4e6f-cff2-d687a01aa4f0"
      },
      "outputs": [
        {
          "data": {
            "text/plain": [
              "GridSearchCV(cv=5, estimator=RandomForestClassifier(), n_jobs=-1,\n",
              "             param_grid={'bootstrap': [True], 'max_depth': [8, 9, 10, 11],\n",
              "                         'max_features': ['auto', 'sqrt', 'log2'],\n",
              "                         'min_samples_leaf': [3, 4, 5],\n",
              "                         'min_samples_split': [8, 10, 12],\n",
              "                         'n_estimators': [100]},\n",
              "             scoring='accuracy')"
            ]
          },
          "execution_count": 5,
          "metadata": {},
          "output_type": "execute_result"
        }
      ],
      "source": [
        "# Random Forest Classifier\n",
        "\n",
        "model_first_split = RandomForestClassifier()\n",
        "model_first_split.fit(X_train, y_train)\n",
        "\n",
        "# defining parameter range\n",
        "param_grid = {'bootstrap': [True],\n",
        "              'max_depth': [8, 9, 10, 11],\n",
        "              'max_features': ['auto', 'sqrt', 'log2'],\n",
        "              'min_samples_leaf': [3, 4, 5],\n",
        "              'min_samples_split': [8, 10, 12],\n",
        "              'n_estimators': [100]}\n",
        "\n",
        "grid = GridSearchCV(model_first_split, param_grid, cv=5, scoring='accuracy', n_jobs=-1)\n",
        "start_time = time.time()\n",
        "grid.fit(X_train, y_train)\n",
        "\n"
      ]
    },
    {
      "cell_type": "code",
      "execution_count": 6,
      "metadata": {
        "colab": {
          "base_uri": "https://localhost:8080/"
        },
        "id": "3j6dRj4wEpPl",
        "outputId": "a7808495-c53f-4556-ea3f-d0265ad8a13d"
      },
      "outputs": [
        {
          "name": "stdout",
          "output_type": "stream",
          "text": [
            "Συνολικός χρόνος fit και predict: 292.00581312179565 seconds\n",
            "              precision    recall  f1-score   support\n",
            "\n",
            "   home loss       0.68      0.53      0.60      1011\n",
            "    home win       0.71      0.82      0.76      1409\n",
            "\n",
            "    accuracy                           0.70      2420\n",
            "   macro avg       0.69      0.68      0.68      2420\n",
            "weighted avg       0.70      0.70      0.69      2420\n",
            "\n",
            "{'bootstrap': True, 'max_depth': 10, 'max_features': 'log2', 'min_samples_leaf': 5, 'min_samples_split': 12, 'n_estimators': 100}\n",
            "best score: 0.6962318840579711\n",
            "test score 0.6991735537190082\n"
          ]
        }
      ],
      "source": [
        "# Predict on the validation set\n",
        "preds = grid.predict(X_val)\n",
        "test_score = grid.score(X_val, y_val)\n",
        "\n",
        "target_names=['home loss', 'home win']\n",
        "\n",
        "print(\"Συνολικός χρόνος fit και predict: %s seconds\" % (time.time() - start_time))\n",
        "print(classification_report(y_val, preds, target_names=target_names))\n",
        "\n",
        "\n",
        "model = grid.best_estimator_\n",
        "y_fit = model.predict(X_val)\n",
        "\n",
        "print(grid.best_params_)\n",
        "print(\"best score:\", grid.best_score_)\n",
        "print(\"test score\", test_score)\n"
      ]
    },
    {
      "cell_type": "markdown",
      "metadata": {},
      "source": [
        "#### Use Bagging Classifier"
      ]
    },
    {
      "cell_type": "code",
      "execution_count": 11,
      "metadata": {},
      "outputs": [
        {
          "name": "stdout",
          "output_type": "stream",
          "text": [
            "Συνολικός χρόνος fit και predict: 64.74467468261719 seconds\n",
            "              precision    recall  f1-score   support\n",
            "\n",
            "   home_loss       0.68      0.55      0.60      1011\n",
            "    home_win       0.71      0.81      0.76      1409\n",
            "\n",
            "    accuracy                           0.70      2420\n",
            "   macro avg       0.70      0.68      0.68      2420\n",
            "weighted avg       0.70      0.70      0.70      2420\n",
            "\n",
            "val score: 0.7012396694214876\n"
          ]
        }
      ],
      "source": [
        "rf_model = RandomForestClassifier(n_estimators=100)\n",
        "\n",
        "bag_model = BaggingClassifier(base_estimator=rf_model, random_state=42)\n",
        "start_time = time.time()\n",
        "bag_model.fit(X_train, y_train)\n",
        "val_score = bag_model.score(X_val, y_val)\n",
        "\n",
        "preds = bag_model.predict(X_val)\n",
        "\n",
        "target_names = ['home_loss', 'home_win']\n",
        "\n",
        "print(\"Συνολικός χρόνος fit και predict: %s seconds\" % (time.time() - start_time))\n",
        "print(classification_report(y_val, preds, target_names=target_names))\n",
        "print(\"val score:\", val_score)"
      ]
    },
    {
      "cell_type": "markdown",
      "metadata": {},
      "source": [
        "### RF Classifier with SelectFromModel Function"
      ]
    },
    {
      "cell_type": "code",
      "execution_count": 7,
      "metadata": {},
      "outputs": [],
      "source": [
        "from sklearn.feature_selection import SelectFromModel\n",
        "from sklearn.metrics import accuracy_score"
      ]
    },
    {
      "cell_type": "code",
      "execution_count": 8,
      "metadata": {},
      "outputs": [
        {
          "data": {
            "text/plain": [
              "RandomForestClassifier()"
            ]
          },
          "execution_count": 8,
          "metadata": {},
          "output_type": "execute_result"
        }
      ],
      "source": [
        "# Random Forest Classifier\n",
        "clf = RandomForestClassifier()\n",
        "clf.fit(X_train, y_train)"
      ]
    },
    {
      "cell_type": "code",
      "execution_count": 9,
      "metadata": {},
      "outputs": [
        {
          "data": {
            "text/plain": [
              "array([False,  True,  True,  True,  True,  True,  True,  True,  True,\n",
              "       False, False, False, False, False, False, False, False, False,\n",
              "        True,  True, False, False, False, False, False,  True, False,\n",
              "       False, False, False, False, False,  True, False, False, False,\n",
              "       False, False, False,  True, False, False, False, False, False,\n",
              "       False, False,  True,  True, False, False,  True,  True, False,\n",
              "        True, False, False,  True,  True, False, False, False, False,\n",
              "       False, False, False, False, False, False,  True,  True,  True,\n",
              "       False, False,  True, False, False, False,  True,  True, False,\n",
              "       False, False,  True,  True, False,  True, False, False, False,\n",
              "       False,  True, False, False, False,  True,  True, False,  True,\n",
              "       False, False, False,  True, False, False,  True,  True, False,\n",
              "       False, False, False,  True, False, False,  True,  True,  True,\n",
              "        True,  True])"
            ]
          },
          "execution_count": 9,
          "metadata": {},
          "output_type": "execute_result"
        }
      ],
      "source": [
        "# Create a selector object that will use the random forest classifier to identify\n",
        "sfm = SelectFromModel(clf)\n",
        "\n",
        "# Train the selector\n",
        "sfm.fit(X_train, y_train)\n",
        "\n",
        "sfm.get_support()\n"
      ]
    },
    {
      "cell_type": "code",
      "execution_count": 10,
      "metadata": {},
      "outputs": [
        {
          "name": "stdout",
          "output_type": "stream",
          "text": [
            "Index(['odds_home', 'odds_away', 'W_PCT_home', 'HOME_RECORD_home',\n",
            "       'ROAD_RECORD_home', 'W_PCT_away', 'HOME_RECORD_away',\n",
            "       'ROAD_RECORD_away', 'FT_PCT_home_3g', 'FG3_PCT_home_3g',\n",
            "       'FT_PCT_away_3g', 'FT_PCT_home_7g', 'FT_PCT_away_7g',\n",
            "       'diff_avg_fg3_pct_home', 'diff_avg_fg3_pct_away',\n",
            "       'diff_avg_ft_pct_home', 'diff_avg_ft_pct_away', 'diff_avg_reb_away',\n",
            "       'eff', 'eff_visitor', 'home_elo', 'visitor_elo', 'elo_diff', 'eff_diff',\n",
            "       'Home_Last_5_Avg_FT_PCT_home', 'Home_Last_5_Avg_FG3_PCT_home',\n",
            "       'Home_Last_5_Avg_FG_PCT_away', 'Home_Last_5_Avg_FT_PCT_away',\n",
            "       'Home_Last_5_Avg_FG3_PCT_away', 'Away_Last_5_Avg_FG3_PCT_home',\n",
            "       'Away_Last_5_Avg_FG_PCT_away', 'Away_Last_5_Avg_FT_PCT_away',\n",
            "       'Away_Last_5_Avg_FG3_PCT_away', 'diff_fg_pct_last_7_games',\n",
            "       'diff_ft_pct_last_3_games', 'diff_ft_pct_last_7_games',\n",
            "       'diff_win_pct_prev_season', 'diff_home_record_last_season',\n",
            "       'diff_road_record_last_season', 'diff_curr_win_pct',\n",
            "       'diff_curr_home_record', 'diff_curr_away_record'],\n",
            "      dtype='object')\n"
          ]
        }
      ],
      "source": [
        "selected_feat = X_train.columns[(sfm.get_support())]\n",
        "len(selected_feat)\n",
        "print(selected_feat)"
      ]
    },
    {
      "cell_type": "code",
      "execution_count": 14,
      "metadata": {},
      "outputs": [],
      "source": [
        "X_sfm = train_data[['odds_home', 'odds_away', 'W_PCT_home', 'HOME_RECORD_home',\n",
        "       'ROAD_RECORD_home', 'W_PCT_away', 'HOME_RECORD_away',\n",
        "       'ROAD_RECORD_away', 'FT_PCT_home_3g', 'FG3_PCT_home_3g',\n",
        "       'FT_PCT_away_3g', 'FT_PCT_home_7g', 'FT_PCT_away_7g',\n",
        "       'diff_avg_fg3_pct_home', 'diff_avg_fg3_pct_away',\n",
        "       'diff_avg_ft_pct_home', 'diff_avg_ft_pct_away', 'diff_avg_reb_away',\n",
        "       'eff', 'eff_visitor', 'home_elo', 'visitor_elo', 'elo_diff', 'eff_diff',\n",
        "       'Home_Last_5_Avg_FT_PCT_home', 'Home_Last_5_Avg_FG3_PCT_home',\n",
        "       'Home_Last_5_Avg_FG_PCT_away', 'Home_Last_5_Avg_FT_PCT_away',\n",
        "       'Home_Last_5_Avg_FG3_PCT_away', 'Away_Last_5_Avg_FG3_PCT_home',\n",
        "       'Away_Last_5_Avg_FG_PCT_away', 'Away_Last_5_Avg_FT_PCT_away',\n",
        "       'Away_Last_5_Avg_FG3_PCT_away', 'diff_fg_pct_last_7_games',\n",
        "       'diff_ft_pct_last_3_games', 'diff_ft_pct_last_7_games',\n",
        "       'diff_win_pct_prev_season', 'diff_home_record_last_season',\n",
        "       'diff_road_record_last_season', 'diff_curr_win_pct',\n",
        "       'diff_curr_home_record', 'diff_curr_away_record']]\n",
        "y_sfm = y_train\n",
        "\n",
        "X_val_sfm = valid_data[['odds_home', 'odds_away', 'W_PCT_home', 'HOME_RECORD_home',\n",
        "       'ROAD_RECORD_home', 'W_PCT_away', 'HOME_RECORD_away',\n",
        "       'ROAD_RECORD_away', 'FT_PCT_home_3g', 'FG3_PCT_home_3g',\n",
        "       'FT_PCT_away_3g', 'FT_PCT_home_7g', 'FT_PCT_away_7g',\n",
        "       'diff_avg_fg3_pct_home', 'diff_avg_fg3_pct_away',\n",
        "       'diff_avg_ft_pct_home', 'diff_avg_ft_pct_away', 'diff_avg_reb_away',\n",
        "       'eff', 'eff_visitor', 'home_elo', 'visitor_elo', 'elo_diff', 'eff_diff',\n",
        "       'Home_Last_5_Avg_FT_PCT_home', 'Home_Last_5_Avg_FG3_PCT_home',\n",
        "       'Home_Last_5_Avg_FG_PCT_away', 'Home_Last_5_Avg_FT_PCT_away',\n",
        "       'Home_Last_5_Avg_FG3_PCT_away', 'Away_Last_5_Avg_FG3_PCT_home',\n",
        "       'Away_Last_5_Avg_FG_PCT_away', 'Away_Last_5_Avg_FT_PCT_away',\n",
        "       'Away_Last_5_Avg_FG3_PCT_away', 'diff_fg_pct_last_7_games',\n",
        "       'diff_ft_pct_last_3_games', 'diff_ft_pct_last_7_games',\n",
        "       'diff_win_pct_prev_season', 'diff_home_record_last_season',\n",
        "       'diff_road_record_last_season', 'diff_curr_win_pct',\n",
        "       'diff_curr_home_record', 'diff_curr_away_record']]\n",
        "\n",
        "y_val_sfm = y_val\n",
        "\n",
        "# Split our data\n",
        "X_train_sfm, y_train_sfm = X_sfm, y_sfm\n",
        "\n",
        "# Split Data to Train and Validation\n",
        "# X_train_sfm, X_val_sfm, y_train_sfm, y_val_sfm = train_test_split(X_train_sfm, y_train_sfm, test_size=0.2, random_state=1)\n"
      ]
    },
    {
      "cell_type": "code",
      "execution_count": 15,
      "metadata": {},
      "outputs": [
        {
          "data": {
            "text/plain": [
              "GridSearchCV(cv=5, estimator=RandomForestClassifier(), n_jobs=-1,\n",
              "             param_grid={'bootstrap': [True], 'max_depth': [8, 9, 10, 11],\n",
              "                         'max_features': ['auto', 'sqrt', 'log2'],\n",
              "                         'min_samples_leaf': [3, 4, 5],\n",
              "                         'min_samples_split': [8, 10, 12],\n",
              "                         'n_estimators': [100]},\n",
              "             scoring='accuracy')"
            ]
          },
          "execution_count": 15,
          "metadata": {},
          "output_type": "execute_result"
        }
      ],
      "source": [
        "# defining parameter range\n",
        "param_grid = {'bootstrap': [True],\n",
        "              'max_depth': [8, 9, 10, 11],\n",
        "              'max_features': ['auto', 'sqrt', 'log2'],\n",
        "              'min_samples_leaf': [3, 4, 5],\n",
        "              'min_samples_split': [8, 10, 12],\n",
        "              'n_estimators': [100]}\n",
        "\n",
        "grid = GridSearchCV(clf, param_grid, cv=5, scoring='accuracy', n_jobs=-1)\n",
        "start_time = time.time()\n",
        "grid.fit(X_train_sfm, y_train_sfm)"
      ]
    },
    {
      "cell_type": "code",
      "execution_count": 16,
      "metadata": {},
      "outputs": [
        {
          "name": "stdout",
          "output_type": "stream",
          "text": [
            "Συνολικός χρόνος fit και predict: 210.86623191833496 seconds\n",
            "              precision    recall  f1-score   support\n",
            "\n",
            "   home loss       0.66      0.58      0.61      1011\n",
            "    home win       0.72      0.78      0.75      1409\n",
            "\n",
            "    accuracy                           0.70      2420\n",
            "   macro avg       0.69      0.68      0.68      2420\n",
            "weighted avg       0.69      0.70      0.69      2420\n",
            "\n",
            "{'bootstrap': True, 'max_depth': 8, 'max_features': 'sqrt', 'min_samples_leaf': 3, 'min_samples_split': 12, 'n_estimators': 100}\n",
            "best score: 0.6943478260869564\n",
            "test score 0.6975206611570248\n"
          ]
        }
      ],
      "source": [
        "# Predict\n",
        "preds = grid.predict(X_val_sfm)\n",
        "test_score = grid.score(X_val_sfm, y_val_sfm)\n",
        "\n",
        "target_names=['home loss', 'home win']\n",
        "\n",
        "print(\"Συνολικός χρόνος fit και predict: %s seconds\" % (time.time() - start_time))\n",
        "print(classification_report(y_val_sfm, preds, target_names=target_names))\n",
        "\n",
        "\n",
        "model = grid.best_estimator_\n",
        "y_fit = model.predict(X_val_sfm)\n",
        "\n",
        "print(grid.best_params_)\n",
        "print(\"best score:\", grid.best_score_)\n",
        "print(\"test score\", test_score)"
      ]
    },
    {
      "cell_type": "markdown",
      "metadata": {},
      "source": [
        "### RF Classifier with RFECV"
      ]
    },
    {
      "cell_type": "code",
      "execution_count": 5,
      "metadata": {},
      "outputs": [],
      "source": [
        "X_train_rcv = train_data[['missing_player_diff','odds_home','odds_away','visitor_elo']]\n",
        "y_train_rcv = y_train\n",
        "\n",
        "X_val_rcv = valid_data[['missing_player_diff','odds_home','odds_away','visitor_elo']]\n",
        "y_val_rcv = y_val\n",
        "\n",
        "X_test_rcv = test_data[['missing_player_diff','odds_home','odds_away','visitor_elo']]\n",
        "y_test_rcv = y_test"
      ]
    },
    {
      "cell_type": "code",
      "execution_count": 6,
      "metadata": {},
      "outputs": [
        {
          "data": {
            "text/plain": [
              "GridSearchCV(cv=5, estimator=RandomForestClassifier(), n_jobs=-1,\n",
              "             param_grid=[{'bootstrap': [True], 'max_depth': [8, 9, 10, 11],\n",
              "                          'max_features': ['auto', 'sqrt', 'log2'],\n",
              "                          'min_samples_leaf': [3, 4, 5],\n",
              "                          'min_samples_split': [8, 10, 12],\n",
              "                          'n_estimators': [100]}],\n",
              "             scoring='accuracy')"
            ]
          },
          "execution_count": 6,
          "metadata": {},
          "output_type": "execute_result"
        }
      ],
      "source": [
        "estimator = RandomForestClassifier()\n",
        "estimator.fit(X_train_rcv, y_train_rcv)\n",
        "\n",
        "# defining parameter range\n",
        "param_grid = [{'bootstrap': [True],\n",
        "              'max_depth': [8, 9, 10, 11],\n",
        "              'max_features': ['auto', 'sqrt', 'log2'],\n",
        "              'min_samples_leaf': [3, 4, 5],\n",
        "              'min_samples_split': [8, 10, 12],\n",
        "              'n_estimators': [100]}]           \n",
        "\n",
        "grid = GridSearchCV(estimator, param_grid, cv=5, scoring='accuracy', n_jobs=-1)\n",
        "grid.fit(X_train_rcv, y_train_rcv)"
      ]
    },
    {
      "cell_type": "code",
      "execution_count": 7,
      "metadata": {},
      "outputs": [
        {
          "name": "stdout",
          "output_type": "stream",
          "text": [
            "Συνολικός χρόνος fit και predict: 0.0 seconds\n",
            "              precision    recall  f1-score   support\n",
            "\n",
            "   home loss       0.65      0.58      0.61      1011\n",
            "    home win       0.72      0.77      0.74      1409\n",
            "\n",
            "    accuracy                           0.69      2420\n",
            "   macro avg       0.68      0.67      0.68      2420\n",
            "weighted avg       0.69      0.69      0.69      2420\n",
            "\n",
            "{'bootstrap': True, 'max_depth': 8, 'max_features': 'auto', 'min_samples_leaf': 5, 'min_samples_split': 10, 'n_estimators': 100}\n",
            "best score: 0.6975362318840579\n",
            "test score 0.6913223140495868\n"
          ]
        }
      ],
      "source": [
        "# Predict\n",
        "preds = grid.predict(X_val_rcv)\n",
        "test_score = grid.score(X_val_rcv, y_val_rcv)\n",
        "\n",
        "target_names=['home loss', 'home win']\n",
        "\n",
        "start_time = time.time()\n",
        "\n",
        "print(\"Συνολικός χρόνος fit και predict: %s seconds\" % (time.time() - start_time))\n",
        "print(classification_report(y_val_rcv, preds, target_names=target_names))\n",
        "\n",
        "\n",
        "model = grid.best_estimator_\n",
        "y_fit = model.predict(X_val_rcv)\n",
        "\n",
        "print(grid.best_params_)\n",
        "print(\"best score:\", grid.best_score_)\n",
        "print(\"test score\", test_score)"
      ]
    },
    {
      "cell_type": "markdown",
      "metadata": {},
      "source": [
        "### RF Classifier with RFE"
      ]
    },
    {
      "cell_type": "code",
      "execution_count": 17,
      "metadata": {},
      "outputs": [
        {
          "data": {
            "text/plain": [
              "RandomForestClassifier()"
            ]
          },
          "execution_count": 17,
          "metadata": {},
          "output_type": "execute_result"
        }
      ],
      "source": [
        "estimator = RandomForestClassifier()\n",
        "estimator.fit(X_train, y_train)"
      ]
    },
    {
      "cell_type": "code",
      "execution_count": 21,
      "metadata": {},
      "outputs": [],
      "source": [
        "X_train_rfe = train_data[['num_possible_outcomes', 'odds_home', 'odds_away', 'W_PCT_home',\n",
        "            'HOME_RECORD_home', 'ROAD_RECORD_home', 'ROAD_RECORD_away',\n",
        "            'WIN_PRCT_home_3g', 'PTS_home_3g', 'REB_home_3g', 'WIN_PRCT_away_3g',\n",
        "            'AST_away_3g', 'REB_away_3g', 'PTS_home_7g', 'AST_home_7g',\n",
        "            'REB_home_7g', 'AST_away_7g', 'diff_avg_pts_home', 'diff_avg_ast_home',\n",
        "            'diff_avg_ast_away', 'diff_avg_fg3_pct_home', 'diff_avg_reb_home',\n",
        "            'diff_avg_reb_away', 'top_players', 'eff_visitor', 'HG_7days',\n",
        "            'AG_7days', 'G_7days', 'back2back', 'HG_7days_VISITOR',\n",
        "            'G_7days_VISITOR', 'back2back_visitor', 'missing_players',\n",
        "            'missing_players_visitor', 'home_elo', 'visitor_elo', 'elo_diff',\n",
        "            'top_player_diff', 'missing_player_diff', 'eff_diff', 'month',\n",
        "            'Home_Last_5_Avg_AST_home', 'Home_Last_5_Avg_REB_home',\n",
        "            'Home_Last_5_Avg_PTS_away', 'Home_Last_5_Avg_REB_away',\n",
        "            'Home_Last_5_Avg_AST_away', 'Away_Last_5_Avg_FG3_PCT_home',\n",
        "            'Away_Last_5_Avg_AST_home', 'Away_Last_5_Avg_PTS_away',\n",
        "            'Away_Last_5_Avg_FT_PCT_away', 'Away_Last_5_Avg_AST_away',\n",
        "            'diff_ast_last_3_games', 'diff_ast_last_7_games',\n",
        "            'diff_reb_last_3_games', 'diff_reb_last_7_games',\n",
        "            'diff_win_pct_3_last_games', 'diff_curr_win_pct',\n",
        "            'diff_curr_home_record', 'diff_curr_away_record']]\n",
        "\n",
        "y_train_rfe = y_train\n",
        "\n",
        "X_val_rfe = valid_data[['num_possible_outcomes', 'odds_home', 'odds_away', 'W_PCT_home',\n",
        "            'HOME_RECORD_home', 'ROAD_RECORD_home', 'ROAD_RECORD_away',\n",
        "            'WIN_PRCT_home_3g', 'PTS_home_3g', 'REB_home_3g', 'WIN_PRCT_away_3g',\n",
        "            'AST_away_3g', 'REB_away_3g', 'PTS_home_7g', 'AST_home_7g',\n",
        "            'REB_home_7g', 'AST_away_7g', 'diff_avg_pts_home', 'diff_avg_ast_home',\n",
        "            'diff_avg_ast_away', 'diff_avg_fg3_pct_home', 'diff_avg_reb_home',\n",
        "            'diff_avg_reb_away', 'top_players', 'eff_visitor', 'HG_7days',\n",
        "            'AG_7days', 'G_7days', 'back2back', 'HG_7days_VISITOR',\n",
        "            'G_7days_VISITOR', 'back2back_visitor', 'missing_players',\n",
        "            'missing_players_visitor', 'home_elo', 'visitor_elo', 'elo_diff',\n",
        "            'top_player_diff', 'missing_player_diff', 'eff_diff', 'month',\n",
        "            'Home_Last_5_Avg_AST_home', 'Home_Last_5_Avg_REB_home',\n",
        "            'Home_Last_5_Avg_PTS_away', 'Home_Last_5_Avg_REB_away',\n",
        "            'Home_Last_5_Avg_AST_away', 'Away_Last_5_Avg_FG3_PCT_home',\n",
        "            'Away_Last_5_Avg_AST_home', 'Away_Last_5_Avg_PTS_away',\n",
        "            'Away_Last_5_Avg_FT_PCT_away', 'Away_Last_5_Avg_AST_away',\n",
        "            'diff_ast_last_3_games', 'diff_ast_last_7_games',\n",
        "            'diff_reb_last_3_games', 'diff_reb_last_7_games',\n",
        "            'diff_win_pct_3_last_games', 'diff_curr_win_pct',\n",
        "            'diff_curr_home_record', 'diff_curr_away_record']]\n",
        "\n",
        "y_val_rfe = y_val\n",
        "\n"
      ]
    },
    {
      "cell_type": "code",
      "execution_count": 7,
      "metadata": {},
      "outputs": [
        {
          "data": {
            "text/plain": [
              "Pipeline(steps=[('feature_selection',\n",
              "                 RFECV(estimator=RandomForestClassifier())),\n",
              "                ('classification',\n",
              "                 RandomForestClassifier(max_depth=11, min_samples_leaf=4,\n",
              "                                        min_samples_split=8))])"
            ]
          },
          "execution_count": 7,
          "metadata": {},
          "output_type": "execute_result"
        }
      ],
      "source": [
        "# # Random Forest Classifier\n",
        "# pipe_model = Pipeline([\n",
        "#   ('feature_selection', RFECV(RandomForestClassifier())),\n",
        "#   ('classification', RandomForestClassifier(bootstrap=True, max_depth=11, max_features='auto', min_samples_leaf=4, min_samples_split=8,\n",
        "#                                             n_estimators=100))\n",
        "# ])\n",
        "# pipe_model.fit(X_train, y_train)"
      ]
    },
    {
      "cell_type": "code",
      "execution_count": 22,
      "metadata": {},
      "outputs": [
        {
          "data": {
            "text/plain": [
              "GridSearchCV(cv=5, estimator=RandomForestClassifier(), n_jobs=-1,\n",
              "             param_grid=[{'bootstrap': [True], 'max_depth': [8, 9, 10, 11],\n",
              "                          'max_features': ['auto', 'sqrt', 'log2'],\n",
              "                          'min_samples_leaf': [3, 4, 5],\n",
              "                          'min_samples_split': [8, 10, 12],\n",
              "                          'n_estimators': [100]}],\n",
              "             scoring='accuracy')"
            ]
          },
          "execution_count": 22,
          "metadata": {},
          "output_type": "execute_result"
        }
      ],
      "source": [
        "# defining parameter range\n",
        "param_grid = [{'bootstrap': [True],\n",
        "              'max_depth': [8, 9, 10, 11],\n",
        "              'max_features': ['auto', 'sqrt', 'log2'],\n",
        "              'min_samples_leaf': [3, 4, 5],\n",
        "              'min_samples_split': [8, 10, 12],\n",
        "              'n_estimators': [100]}]           \n",
        "\n",
        "grid = GridSearchCV(estimator, param_grid, cv=5, scoring='accuracy', n_jobs=-1)\n",
        "grid.fit(X_train_rfe, y_train_rfe)"
      ]
    },
    {
      "cell_type": "code",
      "execution_count": 23,
      "metadata": {},
      "outputs": [
        {
          "name": "stdout",
          "output_type": "stream",
          "text": [
            "Συνολικός χρόνος fit και predict: 0.0 seconds\n",
            "              precision    recall  f1-score   support\n",
            "\n",
            "   home loss       0.66      0.58      0.62      1011\n",
            "    home win       0.72      0.79      0.75      1409\n",
            "\n",
            "    accuracy                           0.70      2420\n",
            "   macro avg       0.69      0.68      0.69      2420\n",
            "weighted avg       0.70      0.70      0.70      2420\n",
            "\n",
            "{'bootstrap': True, 'max_depth': 9, 'max_features': 'sqrt', 'min_samples_leaf': 3, 'min_samples_split': 8, 'n_estimators': 100}\n",
            "best score: 0.6947826086956522\n",
            "test score 0.7004132231404959\n"
          ]
        }
      ],
      "source": [
        "# Predict\n",
        "preds = grid.predict(X_val_rfe)\n",
        "test_score = grid.score(X_val_rfe, y_val_rfe)\n",
        "\n",
        "target_names=['home loss', 'home win']\n",
        "\n",
        "start_time = time.time()\n",
        "\n",
        "print(\"Συνολικός χρόνος fit και predict: %s seconds\" % (time.time() - start_time))\n",
        "print(classification_report(y_val_rfe, preds, target_names=target_names))\n",
        "\n",
        "\n",
        "model = grid.best_estimator_\n",
        "y_fit = model.predict(X_val_rfe)\n",
        "\n",
        "print(grid.best_params_)\n",
        "print(\"best score:\", grid.best_score_)\n",
        "print(\"test score\", test_score)"
      ]
    },
    {
      "cell_type": "markdown",
      "metadata": {},
      "source": [
        "### RF Classifier with LassoCV"
      ]
    },
    {
      "cell_type": "code",
      "execution_count": 27,
      "metadata": {},
      "outputs": [],
      "source": [
        "from sklearn.linear_model import LassoCV\n",
        "from sklearn.pipeline import Pipeline"
      ]
    },
    {
      "cell_type": "code",
      "execution_count": 28,
      "metadata": {},
      "outputs": [
        {
          "data": {
            "text/plain": [
              "Pipeline(steps=[('feature_selection', SelectFromModel(estimator=LassoCV())),\n",
              "                ('classification',\n",
              "                 RandomForestClassifier(max_depth=11, min_samples_leaf=4,\n",
              "                                        min_samples_split=8))])"
            ]
          },
          "execution_count": 28,
          "metadata": {},
          "output_type": "execute_result"
        }
      ],
      "source": [
        "pipe_model = Pipeline([\n",
        "  ('feature_selection', SelectFromModel(LassoCV())),\n",
        "  ('classification', RandomForestClassifier(bootstrap=True, max_depth=11, max_features='auto', min_samples_leaf=4, min_samples_split=8,\n",
        "                                            n_estimators=100))\n",
        "])\n",
        "pipe_model.fit(X_train, y_train)"
      ]
    },
    {
      "cell_type": "code",
      "execution_count": 29,
      "metadata": {},
      "outputs": [
        {
          "name": "stdout",
          "output_type": "stream",
          "text": [
            "Συνολικός χρόνος fit και predict: 172.1206076145172 seconds\n",
            "              precision    recall  f1-score   support\n",
            "\n",
            "   home loss       0.65      0.52      0.58      1011\n",
            "    home win       0.70      0.79      0.74      1409\n",
            "\n",
            "    accuracy                           0.68      2420\n",
            "   macro avg       0.67      0.66      0.66      2420\n",
            "weighted avg       0.68      0.68      0.67      2420\n",
            "\n",
            "test score 0.6814049586776859\n"
          ]
        }
      ],
      "source": [
        "# Predict\n",
        "preds = pipe_model.predict(X_val)\n",
        "test_score = pipe_model.score(X_val, y_val)\n",
        "\n",
        "target_names=['home loss', 'home win']\n",
        "\n",
        "print(\"Συνολικός χρόνος fit και predict: %s seconds\" % (time.time() - start_time))\n",
        "print(classification_report(y_val, preds, target_names=target_names))\n",
        "\n",
        "print(\"test score\", test_score)\n"
      ]
    },
    {
      "cell_type": "markdown",
      "metadata": {},
      "source": [
        "### RF with ExtraTreesClassifier"
      ]
    },
    {
      "cell_type": "code",
      "execution_count": 56,
      "metadata": {},
      "outputs": [],
      "source": [
        "X_train_extra = train_data[['odds_home', 'odds_away', 'home_elo', 'visitor_elo', 'elo_diff',\n",
        "                    'eff_diff', 'eff_visitor', 'top_player_diff', 'diff_win_pct_prev_season',\n",
        "                    'diff_home_record_last_season', 'ROAD_RECORD_home',\n",
        "                    'diff_road_record_last_season', 'diff_win_pct_7_last_games', 'W_PCT_home',\n",
        "                    'W_PCT_away', 'W_PCT_prev_away', 'diff_curr_away_record', 'HOME_RECORD_home', 'diff_curr_home_record',\n",
        "                    'diff_curr_win_pct']]\n",
        "\n",
        "y_train_extra = y_train\n",
        "\n",
        "X_val_extra = valid_data[['odds_home', 'odds_away', 'home_elo', 'visitor_elo', 'elo_diff',\n",
        "                    'eff_diff', 'eff_visitor', 'top_player_diff', 'diff_win_pct_prev_season',\n",
        "                    'diff_home_record_last_season', 'ROAD_RECORD_home',\n",
        "                    'diff_road_record_last_season', 'diff_win_pct_7_last_games', 'W_PCT_home',\n",
        "                    'W_PCT_away', 'W_PCT_prev_away', 'diff_curr_away_record', 'HOME_RECORD_home', 'diff_curr_home_record',\n",
        "                    'diff_curr_win_pct']]\n",
        "\n",
        "y_val_extra = y_val"
      ]
    },
    {
      "cell_type": "code",
      "execution_count": 57,
      "metadata": {},
      "outputs": [
        {
          "data": {
            "text/plain": [
              "GridSearchCV(cv=5, estimator=RandomForestClassifier(), n_jobs=-1,\n",
              "             param_grid={'bootstrap': [True], 'max_depth': [8, 9, 10, 11],\n",
              "                         'max_features': ['auto', 'sqrt', 'log2'],\n",
              "                         'min_samples_leaf': [3, 4, 5],\n",
              "                         'min_samples_split': [8, 10, 12],\n",
              "                         'n_estimators': [100]},\n",
              "             scoring='accuracy')"
            ]
          },
          "execution_count": 57,
          "metadata": {},
          "output_type": "execute_result"
        }
      ],
      "source": [
        "# Random Forest Classifier\n",
        "\n",
        "model_first_split = RandomForestClassifier()\n",
        "model_first_split.fit(X_train_extra, y_train_extra)\n",
        "\n",
        "# defining parameter range\n",
        "param_grid = {'bootstrap': [True],\n",
        "              'max_depth': [8, 9, 10, 11],\n",
        "              'max_features': ['auto', 'sqrt', 'log2'],\n",
        "              'min_samples_leaf': [3, 4, 5],\n",
        "              'min_samples_split': [8, 10, 12],\n",
        "              'n_estimators': [100]}\n",
        "\n",
        "grid = GridSearchCV(model_first_split, param_grid, cv=5, scoring='accuracy', n_jobs=-1)\n",
        "start_time = time.time()\n",
        "grid.fit(X_train_extra, y_train_extra)\n",
        "\n"
      ]
    },
    {
      "cell_type": "code",
      "execution_count": 58,
      "metadata": {},
      "outputs": [
        {
          "name": "stdout",
          "output_type": "stream",
          "text": [
            "Συνολικός χρόνος fit και predict: 199.05573081970215 seconds\n",
            "              precision    recall  f1-score   support\n",
            "\n",
            "   home loss       0.67      0.58      0.62      1011\n",
            "    home win       0.72      0.79      0.76      1409\n",
            "\n",
            "    accuracy                           0.70      2420\n",
            "   macro avg       0.69      0.69      0.69      2420\n",
            "weighted avg       0.70      0.70      0.70      2420\n",
            "\n",
            "{'bootstrap': True, 'max_depth': 8, 'max_features': 'log2', 'min_samples_leaf': 3, 'min_samples_split': 8, 'n_estimators': 100}\n",
            "best score: 0.6940579710144928\n",
            "test score 0.702892561983471\n"
          ]
        }
      ],
      "source": [
        "# Predict on the validation set\n",
        "preds = grid.predict(X_val_extra)\n",
        "test_score = grid.score(X_val_extra, y_val_extra)\n",
        "\n",
        "target_names=['home loss', 'home win']\n",
        "\n",
        "print(\"Συνολικός χρόνος fit και predict: %s seconds\" % (time.time() - start_time))\n",
        "print(classification_report(y_val_extra, preds, target_names=target_names))\n",
        "\n",
        "\n",
        "model = grid.best_estimator_\n",
        "y_fit = model.predict(X_val_extra)\n",
        "\n",
        "print(grid.best_params_)\n",
        "print(\"best score:\", grid.best_score_)\n",
        "print(\"test score\", test_score)\n"
      ]
    },
    {
      "cell_type": "markdown",
      "metadata": {},
      "source": [
        "### RF Classifier with PCA"
      ]
    },
    {
      "cell_type": "code",
      "execution_count": 59,
      "metadata": {},
      "outputs": [],
      "source": [
        "from sklearn.decomposition import PCA"
      ]
    },
    {
      "cell_type": "code",
      "execution_count": 67,
      "metadata": {},
      "outputs": [],
      "source": [
        "# Choose number of components = 30 based on a feature selection coding process we already executed\n",
        "n_components = 30\n",
        "\n",
        "pca = PCA(n_components=n_components).fit(X_train)\n",
        "X_train_pca = pca.transform(X_train)\n",
        "X_val_pca = pca.transform(X_val)\n",
        "X_test_pca = pca.transform(X_test)"
      ]
    },
    {
      "cell_type": "code",
      "execution_count": 68,
      "metadata": {},
      "outputs": [
        {
          "data": {
            "text/plain": [
              "GridSearchCV(cv=5, estimator=RandomForestClassifier(), n_jobs=-1,\n",
              "             param_grid={'bootstrap': [True], 'max_depth': [8, 9, 10, 11],\n",
              "                         'max_features': ['auto', 'sqrt', 'log2'],\n",
              "                         'min_samples_leaf': [3, 4, 5],\n",
              "                         'min_samples_split': [8, 10, 12],\n",
              "                         'n_estimators': [100]},\n",
              "             scoring='accuracy')"
            ]
          },
          "execution_count": 68,
          "metadata": {},
          "output_type": "execute_result"
        }
      ],
      "source": [
        "# Random Forest Classifier\n",
        "\n",
        "model_first_split = RandomForestClassifier()\n",
        "model_first_split.fit(X_train_pca, y_train)\n",
        "\n",
        "# defining parameter range\n",
        "param_grid = {'bootstrap': [True],\n",
        "              'max_depth': [8, 9, 10, 11],\n",
        "              'max_features': ['auto', 'sqrt', 'log2'],\n",
        "              'min_samples_leaf': [3, 4, 5],\n",
        "              'min_samples_split': [8, 10, 12],\n",
        "              'n_estimators': [100]}\n",
        "\n",
        "grid = GridSearchCV(model_first_split, param_grid, cv=5, scoring='accuracy', n_jobs=-1)\n",
        "start_time = time.time()\n",
        "grid.fit(X_train_pca, y_train)\n",
        "\n"
      ]
    },
    {
      "cell_type": "code",
      "execution_count": 69,
      "metadata": {},
      "outputs": [
        {
          "name": "stdout",
          "output_type": "stream",
          "text": [
            "Συνολικός χρόνος fit και predict: 231.83239722251892 seconds\n",
            "              precision    recall  f1-score   support\n",
            "\n",
            "   home loss       0.66      0.50      0.57      1011\n",
            "    home win       0.69      0.82      0.75      1409\n",
            "\n",
            "    accuracy                           0.68      2420\n",
            "   macro avg       0.68      0.66      0.66      2420\n",
            "weighted avg       0.68      0.68      0.67      2420\n",
            "\n",
            "{'bootstrap': True, 'max_depth': 11, 'max_features': 'sqrt', 'min_samples_leaf': 5, 'min_samples_split': 12, 'n_estimators': 100}\n",
            "best score: 0.6798550724637682\n",
            "test score 0.684297520661157\n"
          ]
        }
      ],
      "source": [
        "# Predict on the validation set\n",
        "preds = grid.predict(X_val_pca)\n",
        "test_score = grid.score(X_val_pca, y_val)\n",
        "\n",
        "target_names=['home loss', 'home win']\n",
        "\n",
        "print(\"Συνολικός χρόνος fit και predict: %s seconds\" % (time.time() - start_time))\n",
        "print(classification_report(y_val, preds, target_names=target_names))\n",
        "\n",
        "\n",
        "model = grid.best_estimator_\n",
        "y_fit = model.predict(X_val_pca)\n",
        "\n",
        "print(grid.best_params_)\n",
        "print(\"best score:\", grid.best_score_)\n",
        "print(\"test score\", test_score)\n"
      ]
    },
    {
      "cell_type": "markdown",
      "metadata": {},
      "source": [
        "### RF Classifier with Univariate Feature Selection"
      ]
    },
    {
      "cell_type": "code",
      "execution_count": 70,
      "metadata": {},
      "outputs": [],
      "source": [
        "X_train_uni = train_data[['diff_curr_win_pct','diff_curr_away_record','odds_home','odds_away','elo_diff']]\n",
        "y_train_uni = y_train\n",
        "\n",
        "X_val_uni = valid_data[['diff_curr_win_pct','diff_curr_away_record','odds_home','odds_away','elo_diff']]\n",
        "y_val_uni = y_val"
      ]
    },
    {
      "cell_type": "code",
      "execution_count": 71,
      "metadata": {},
      "outputs": [
        {
          "data": {
            "text/plain": [
              "GridSearchCV(cv=5, estimator=RandomForestClassifier(), n_jobs=-1,\n",
              "             param_grid={'bootstrap': [True], 'max_depth': [8, 9, 10, 11],\n",
              "                         'max_features': ['auto', 'sqrt', 'log2'],\n",
              "                         'min_samples_leaf': [3, 4, 5],\n",
              "                         'min_samples_split': [8, 10, 12],\n",
              "                         'n_estimators': [100]},\n",
              "             scoring='accuracy')"
            ]
          },
          "execution_count": 71,
          "metadata": {},
          "output_type": "execute_result"
        }
      ],
      "source": [
        "# Random Forest Classifier\n",
        "\n",
        "model_first_split = RandomForestClassifier()\n",
        "model_first_split.fit(X_train_uni, y_train_uni)\n",
        "\n",
        "# defining parameter range\n",
        "param_grid = {'bootstrap': [True],\n",
        "              'max_depth': [8, 9, 10, 11],\n",
        "              'max_features': ['auto', 'sqrt', 'log2'],\n",
        "              'min_samples_leaf': [3, 4, 5],\n",
        "              'min_samples_split': [8, 10, 12],\n",
        "              'n_estimators': [100]}\n",
        "\n",
        "grid = GridSearchCV(model_first_split, param_grid, cv=5, scoring='accuracy', n_jobs=-1)\n",
        "start_time = time.time()\n",
        "grid.fit(X_train_uni, y_train_uni)\n",
        "\n"
      ]
    },
    {
      "cell_type": "code",
      "execution_count": 72,
      "metadata": {},
      "outputs": [
        {
          "name": "stdout",
          "output_type": "stream",
          "text": [
            "Συνολικός χρόνος fit και predict: 91.25992798805237 seconds\n",
            "              precision    recall  f1-score   support\n",
            "\n",
            "   home loss       0.65      0.58      0.61      1011\n",
            "    home win       0.72      0.78      0.75      1409\n",
            "\n",
            "    accuracy                           0.69      2420\n",
            "   macro avg       0.68      0.68      0.68      2420\n",
            "weighted avg       0.69      0.69      0.69      2420\n",
            "\n",
            "{'bootstrap': True, 'max_depth': 8, 'max_features': 'log2', 'min_samples_leaf': 3, 'min_samples_split': 8, 'n_estimators': 100}\n",
            "best score: 0.6940579710144927\n",
            "test score 0.693801652892562\n"
          ]
        }
      ],
      "source": [
        "# Predict on the validation set\n",
        "preds = grid.predict(X_val_uni)\n",
        "test_score = grid.score(X_val_uni, y_val_uni)\n",
        "\n",
        "target_names=['home loss', 'home win']\n",
        "\n",
        "print(\"Συνολικός χρόνος fit και predict: %s seconds\" % (time.time() - start_time))\n",
        "print(classification_report(y_val_uni, preds, target_names=target_names))\n",
        "\n",
        "\n",
        "model = grid.best_estimator_\n",
        "y_fit = model.predict(X_val_uni)\n",
        "\n",
        "print(grid.best_params_)\n",
        "print(\"best score:\", grid.best_score_)\n",
        "print(\"test score\", test_score)\n"
      ]
    },
    {
      "cell_type": "markdown",
      "metadata": {},
      "source": [
        "### RF Classifier with SFS"
      ]
    },
    {
      "cell_type": "markdown",
      "metadata": {},
      "source": [
        "#### Forward"
      ]
    },
    {
      "cell_type": "code",
      "execution_count": 87,
      "metadata": {},
      "outputs": [],
      "source": [
        "X_train_for_sfs = train_data[['num_possible_outcomes', 'odds_home', 'odds_away', 'HOME_RECORD_home',\n",
        "                    'W_PCT_away', 'W_PCT_prev_home', 'ROAD_RECORD_prev_home', 'W_PCT_prev_away',\n",
        "                    'HOME_RECORD_prev_away', 'ROAD_RECORD_prev_away', 'WIN_PRCT_home_3g',\n",
        "                    'FT_PCT_home_3g', 'FT_PCT_away_3g', 'FG3_PCT_away_3g', 'WIN_PRCT_home_7g',\n",
        "                    'FT_PCT_away_7g', 'REB_away_7g', 'diff_avg_ast_home', 'diff_avg_ast_away',\n",
        "                    'diff_avg_fg3_pct_home', 'diff_avg_fg_pct_away', 'diff_avg_reb_away',\n",
        "                    'top_players', 'eff', 'eff_visitor', 'G_7days', 'back2back',\n",
        "                    'HG_7days_VISITOR', 'AG_7days_VISITOR', 'G_7days_VISITOR',\n",
        "                    'back2back_visitor', 'missing_players', 'missing_players_visitor',\n",
        "                    'home_elo', 'elo_diff', 'missing_player_diff', 'eff_diff',\n",
        "                    'Home_Last_5_Avg_FG3_PCT_home', 'Home_Last_5_Avg_FG3_PCT_away',\n",
        "                    'Away_Last_5_Avg_FG3_PCT_home', 'Away_Last_5_Avg_FT_PCT_away',\n",
        "                    'diff_fg_pct_last_3_games', 'diff_fg3_pct_last_7_games',\n",
        "                    'diff_ft_pct_last_3_games', 'diff_ast_last_3_games',\n",
        "                    'diff_ast_last_7_games', 'diff_win_pct_prev_season',\n",
        "                    'diff_home_record_last_season', 'diff_road_record_last_season',\n",
        "                    'diff_curr_win_pct']]\n",
        "\n",
        "y_train_for_sfs = y_train\n",
        "\n",
        "X_val_for_sfs = valid_data[['num_possible_outcomes', 'odds_home', 'odds_away', 'HOME_RECORD_home',\n",
        "                    'W_PCT_away', 'W_PCT_prev_home', 'ROAD_RECORD_prev_home', 'W_PCT_prev_away',\n",
        "                    'HOME_RECORD_prev_away', 'ROAD_RECORD_prev_away', 'WIN_PRCT_home_3g',\n",
        "                    'FT_PCT_home_3g', 'FT_PCT_away_3g', 'FG3_PCT_away_3g', 'WIN_PRCT_home_7g',\n",
        "                    'FT_PCT_away_7g', 'REB_away_7g', 'diff_avg_ast_home', 'diff_avg_ast_away',\n",
        "                    'diff_avg_fg3_pct_home', 'diff_avg_fg_pct_away', 'diff_avg_reb_away',\n",
        "                    'top_players', 'eff', 'eff_visitor', 'G_7days', 'back2back',\n",
        "                    'HG_7days_VISITOR', 'AG_7days_VISITOR', 'G_7days_VISITOR',\n",
        "                    'back2back_visitor', 'missing_players', 'missing_players_visitor',\n",
        "                    'home_elo', 'elo_diff', 'missing_player_diff', 'eff_diff',\n",
        "                    'Home_Last_5_Avg_FG3_PCT_home', 'Home_Last_5_Avg_FG3_PCT_away',\n",
        "                    'Away_Last_5_Avg_FG3_PCT_home', 'Away_Last_5_Avg_FT_PCT_away',\n",
        "                    'diff_fg_pct_last_3_games', 'diff_fg3_pct_last_7_games',\n",
        "                    'diff_ft_pct_last_3_games', 'diff_ast_last_3_games',\n",
        "                    'diff_ast_last_7_games', 'diff_win_pct_prev_season',\n",
        "                    'diff_home_record_last_season', 'diff_road_record_last_season',\n",
        "                    'diff_curr_win_pct']]\n",
        "\n",
        "y_val_for_sfs = y_val\n"
      ]
    },
    {
      "cell_type": "code",
      "execution_count": 88,
      "metadata": {},
      "outputs": [
        {
          "data": {
            "text/plain": [
              "GridSearchCV(cv=5, estimator=RandomForestClassifier(), n_jobs=-1,\n",
              "             param_grid={'bootstrap': [True], 'max_depth': [8, 9, 10, 11],\n",
              "                         'max_features': ['auto', 'sqrt', 'log2'],\n",
              "                         'min_samples_leaf': [3, 4, 5],\n",
              "                         'min_samples_split': [8, 10, 12],\n",
              "                         'n_estimators': [100]},\n",
              "             scoring='accuracy')"
            ]
          },
          "execution_count": 88,
          "metadata": {},
          "output_type": "execute_result"
        }
      ],
      "source": [
        "# Random Forest Classifier\n",
        "\n",
        "model_first_split = RandomForestClassifier()\n",
        "model_first_split.fit(X_train_for_sfs, y_train_for_sfs)\n",
        "\n",
        "# defining parameter range\n",
        "param_grid = {'bootstrap': [True],\n",
        "              'max_depth': [8, 9, 10, 11],\n",
        "              'max_features': ['auto', 'sqrt', 'log2'],\n",
        "              'min_samples_leaf': [3, 4, 5],\n",
        "              'min_samples_split': [8, 10, 12],\n",
        "              'n_estimators': [100]}\n",
        "\n",
        "grid = GridSearchCV(model_first_split, param_grid, cv=5, scoring='accuracy', n_jobs=-1)\n",
        "start_time = time.time()\n",
        "grid.fit(X_train_for_sfs, y_train_for_sfs)\n",
        "\n"
      ]
    },
    {
      "cell_type": "code",
      "execution_count": 89,
      "metadata": {},
      "outputs": [
        {
          "name": "stdout",
          "output_type": "stream",
          "text": [
            "Συνολικός χρόνος fit και predict: 237.97280097007751 seconds\n",
            "              precision    recall  f1-score   support\n",
            "\n",
            "   home loss       0.66      0.58      0.61      1011\n",
            "    home win       0.72      0.78      0.75      1409\n",
            "\n",
            "    accuracy                           0.70      2420\n",
            "   macro avg       0.69      0.68      0.68      2420\n",
            "weighted avg       0.69      0.70      0.69      2420\n",
            "\n",
            "{'bootstrap': True, 'max_depth': 10, 'max_features': 'sqrt', 'min_samples_leaf': 3, 'min_samples_split': 8, 'n_estimators': 100}\n",
            "best score: 0.6946376811594203\n",
            "test score 0.6966942148760331\n"
          ]
        }
      ],
      "source": [
        "# Predict on the validation set\n",
        "preds = grid.predict(X_val_for_sfs)\n",
        "test_score = grid.score(X_val_for_sfs, y_val_for_sfs)\n",
        "\n",
        "target_names=['home loss', 'home win']\n",
        "\n",
        "print(\"Συνολικός χρόνος fit και predict: %s seconds\" % (time.time() - start_time))\n",
        "print(classification_report(y_val_for_sfs, preds, target_names=target_names))\n",
        "\n",
        "\n",
        "model = grid.best_estimator_\n",
        "y_fit = model.predict(X_val_for_sfs)\n",
        "\n",
        "print(grid.best_params_)\n",
        "print(\"best score:\", grid.best_score_)\n",
        "print(\"test score\", test_score)\n"
      ]
    },
    {
      "cell_type": "markdown",
      "metadata": {},
      "source": [
        "#### Backwards"
      ]
    },
    {
      "cell_type": "code",
      "execution_count": 94,
      "metadata": {},
      "outputs": [],
      "source": [
        "X_train_back_sfs = train_data[['num_possible_outcomes', 'odds_home', 'odds_away', 'HOME_RECORD_home',\n",
        "                     'W_PCT_away', 'W_PCT_prev_away', 'HOME_RECORD_prev_away',\n",
        "                     'ROAD_RECORD_prev_away', 'FT_PCT_home_3g', 'FG3_PCT_home_3g', 'PTS_away_3g',\n",
        "                     'FG_PCT_away_3g', 'FT_PCT_away_3g', 'FG3_PCT_away_3g', 'PTS_home_7g',\n",
        "                     'FG_PCT_home_7g', 'AST_home_7g', 'AST_away_7g', 'REB_away_7g',\n",
        "                     'diff_avg_pts_away', 'diff_avg_ast_home', 'diff_avg_ast_away',\n",
        "                     'diff_avg_fg3_pct_home', 'top_players', 'top_players_visitor', 'eff_visitor',\n",
        "                     'G_7days', 'back2back', 'HG_7days_VISITOR', 'AG_7days_VISITOR',\n",
        "                     'G_7days_VISITOR', 'back2back_visitor', 'home_elo', 'elo_diff',\n",
        "                     'missing_player_diff', 'eff_diff', 'Home_Last_5_Avg_AST_home',\n",
        "                     'Home_Last_5_Avg_REB_home', 'Home_Last_5_Avg_REB_away',\n",
        "                     'Home_Last_5_Avg_FG3_PCT_away', 'Away_Last_5_Avg_PTS_home',\n",
        "                     'Away_Last_5_Avg_FG3_PCT_home', 'Away_Last_5_Avg_AST_home',\n",
        "                     'Away_Last_5_Avg_FT_PCT_away', 'diff_fg3_pct_last_3_games',\n",
        "                     'diff_fg3_pct_last_7_games', 'diff_ft_pct_last_3_games',\n",
        "                     'diff_ast_last_7_games', 'diff_reb_last_3_games',\n",
        "                     'diff_win_pct_3_last_games']]\n",
        "\n",
        "y_train_back_sfs = y_train\n",
        "\n",
        "X_val_back_sfs = valid_data[['num_possible_outcomes', 'odds_home', 'odds_away', 'HOME_RECORD_home',\n",
        "                     'W_PCT_away', 'W_PCT_prev_away', 'HOME_RECORD_prev_away',\n",
        "                     'ROAD_RECORD_prev_away', 'FT_PCT_home_3g', 'FG3_PCT_home_3g', 'PTS_away_3g',\n",
        "                     'FG_PCT_away_3g', 'FT_PCT_away_3g', 'FG3_PCT_away_3g', 'PTS_home_7g',\n",
        "                     'FG_PCT_home_7g', 'AST_home_7g', 'AST_away_7g', 'REB_away_7g',\n",
        "                     'diff_avg_pts_away', 'diff_avg_ast_home', 'diff_avg_ast_away',\n",
        "                     'diff_avg_fg3_pct_home', 'top_players', 'top_players_visitor', 'eff_visitor',\n",
        "                     'G_7days', 'back2back', 'HG_7days_VISITOR', 'AG_7days_VISITOR',\n",
        "                     'G_7days_VISITOR', 'back2back_visitor', 'home_elo', 'elo_diff',\n",
        "                     'missing_player_diff', 'eff_diff', 'Home_Last_5_Avg_AST_home',\n",
        "                     'Home_Last_5_Avg_REB_home', 'Home_Last_5_Avg_REB_away',\n",
        "                     'Home_Last_5_Avg_FG3_PCT_away', 'Away_Last_5_Avg_PTS_home',\n",
        "                     'Away_Last_5_Avg_FG3_PCT_home', 'Away_Last_5_Avg_AST_home',\n",
        "                     'Away_Last_5_Avg_FT_PCT_away', 'diff_fg3_pct_last_3_games',\n",
        "                     'diff_fg3_pct_last_7_games', 'diff_ft_pct_last_3_games',\n",
        "                     'diff_ast_last_7_games', 'diff_reb_last_3_games',\n",
        "                     'diff_win_pct_3_last_games']]\n",
        "\n",
        "y_val_back_sfs = y_val"
      ]
    },
    {
      "cell_type": "code",
      "execution_count": 95,
      "metadata": {},
      "outputs": [
        {
          "data": {
            "text/plain": [
              "GridSearchCV(cv=5, estimator=RandomForestClassifier(), n_jobs=-1,\n",
              "             param_grid={'bootstrap': [True], 'max_depth': [8, 9, 10, 11],\n",
              "                         'max_features': ['auto', 'sqrt', 'log2'],\n",
              "                         'min_samples_leaf': [3, 4, 5],\n",
              "                         'min_samples_split': [8, 10, 12],\n",
              "                         'n_estimators': [100]},\n",
              "             scoring='accuracy')"
            ]
          },
          "execution_count": 95,
          "metadata": {},
          "output_type": "execute_result"
        }
      ],
      "source": [
        "# Random Forest Classifier\n",
        "\n",
        "model_first_split = RandomForestClassifier()\n",
        "model_first_split.fit(X_train_back_sfs, y_train_back_sfs)\n",
        "\n",
        "# defining parameter range\n",
        "param_grid = {'bootstrap': [True],\n",
        "              'max_depth': [8, 9, 10, 11],\n",
        "              'max_features': ['auto', 'sqrt', 'log2'],\n",
        "              'min_samples_leaf': [3, 4, 5],\n",
        "              'min_samples_split': [8, 10, 12],\n",
        "              'n_estimators': [100]}\n",
        "\n",
        "grid = GridSearchCV(model_first_split, param_grid, cv=5, scoring='accuracy', n_jobs=-1)\n",
        "start_time = time.time()\n",
        "grid.fit(X_train_back_sfs, y_train_back_sfs)\n",
        "\n"
      ]
    },
    {
      "cell_type": "code",
      "execution_count": 96,
      "metadata": {},
      "outputs": [
        {
          "name": "stdout",
          "output_type": "stream",
          "text": [
            "Συνολικός χρόνος fit και predict: 179.42384934425354 seconds\n",
            "              precision    recall  f1-score   support\n",
            "\n",
            "   home loss       0.66      0.58      0.62      1011\n",
            "    home win       0.72      0.79      0.75      1409\n",
            "\n",
            "    accuracy                           0.70      2420\n",
            "   macro avg       0.69      0.68      0.68      2420\n",
            "weighted avg       0.70      0.70      0.70      2420\n",
            "\n",
            "{'bootstrap': True, 'max_depth': 8, 'max_features': 'sqrt', 'min_samples_leaf': 5, 'min_samples_split': 12, 'n_estimators': 100}\n",
            "best score: 0.6953623188405796\n",
            "test score 0.6995867768595041\n"
          ]
        }
      ],
      "source": [
        "# Predict on the validation set\n",
        "preds = grid.predict(X_val_back_sfs)\n",
        "test_score = grid.score(X_val_back_sfs, y_val_back_sfs)\n",
        "\n",
        "target_names=['home loss', 'home win']\n",
        "\n",
        "print(\"Συνολικός χρόνος fit και predict: %s seconds\" % (time.time() - start_time))\n",
        "print(classification_report(y_val_back_sfs, preds, target_names=target_names))\n",
        "\n",
        "\n",
        "model = grid.best_estimator_\n",
        "y_fit = model.predict(X_val_back_sfs)\n",
        "\n",
        "print(grid.best_params_)\n",
        "print(\"best score:\", grid.best_score_)\n",
        "print(\"test score\", test_score)\n"
      ]
    }
  ],
  "metadata": {
    "colab": {
      "collapsed_sections": [],
      "name": "RandomForest.ipynb",
      "provenance": []
    },
    "kernelspec": {
      "display_name": "Python 3.9.4 64-bit",
      "language": "python",
      "name": "python3"
    },
    "language_info": {
      "codemirror_mode": {
        "name": "ipython",
        "version": 3
      },
      "file_extension": ".py",
      "mimetype": "text/x-python",
      "name": "python",
      "nbconvert_exporter": "python",
      "pygments_lexer": "ipython3",
      "version": "3.9.4"
    },
    "vscode": {
      "interpreter": {
        "hash": "81794d4967e6c3204c66dcd87b604927b115b27c00565d3d43f05ba2f3a2cb0d"
      }
    }
  },
  "nbformat": 4,
  "nbformat_minor": 0
}
