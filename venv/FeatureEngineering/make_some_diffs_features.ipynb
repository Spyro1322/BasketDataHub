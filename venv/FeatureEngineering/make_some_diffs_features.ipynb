{
 "cells": [
  {
   "cell_type": "markdown",
   "metadata": {},
   "source": [
    "## Add features"
   ]
  },
  {
   "cell_type": "code",
   "execution_count": 1,
   "metadata": {},
   "outputs": [],
   "source": [
    "import numpy as np\n",
    "import pandas as pd\n",
    "import warnings\n",
    "\n",
    "warnings.filterwarnings('ignore')\n"
   ]
  },
  {
   "cell_type": "code",
   "execution_count": 4,
   "metadata": {},
   "outputs": [],
   "source": [
    "df = pd.read_csv('MetaData/data6_&_odds.csv')\n",
    "df.dropna(inplace=True)"
   ]
  },
  {
   "cell_type": "code",
   "execution_count": 7,
   "metadata": {},
   "outputs": [
    {
     "name": "stdout",
     "output_type": "stream",
     "text": [
      "        game_id game_date_est  season  num_possible_outcomes  home_team_id  \\\n",
      "0      20700042     11/4/2007    2007                      2    1610612747   \n",
      "1      21400467    12/30/2014    2014                      2    1610612741   \n",
      "2      20700300     12/9/2007    2007                      2    1610612747   \n",
      "3      21400858     2/27/2015    2014                      2    1610612737   \n",
      "4      20700592     1/19/2008    2007                      2    1610612743   \n",
      "...         ...           ...     ...                    ...           ...   \n",
      "13900  21900948      3/8/2020    2019                      2    1610612746   \n",
      "13901  21900949      3/8/2020    2019                      2    1610612738   \n",
      "13902  21900952      3/8/2020    2019                      2    1610612742   \n",
      "13903  21900967     3/10/2020    2019                      2    1610612744   \n",
      "13904  21900973     3/11/2020    2019                      2    1610612742   \n",
      "\n",
      "      home_team conference  visitor_team_id visitor_team conference_visitor  \\\n",
      "0           LAL       West       1610612762          UTA               West   \n",
      "1           CHI       East       1610612751          BKN               East   \n",
      "2           LAL       West       1610612744          GSW               West   \n",
      "3           ATL       East       1610612753          ORL               East   \n",
      "4           DEN       West       1610612750          MIN               West   \n",
      "...         ...        ...              ...          ...                ...   \n",
      "13900       LAC       West       1610612747          LAL               West   \n",
      "13901       BOS       East       1610612760          OKC               West   \n",
      "13902       DAL       West       1610612754          IND               East   \n",
      "13903       GSW       West       1610612746          LAC               West   \n",
      "13904       DAL       West       1610612743          DEN               West   \n",
      "\n",
      "       ...  diff_curr_home_record  diff_curr_away_record  diff_of_odds  \\\n",
      "0      ...              -0.146341              -0.073171         -6.06   \n",
      "1      ...               0.115385               0.349206         -4.05   \n",
      "2      ...               0.100000              -0.111111          0.83   \n",
      "3      ...               0.545238               0.381123         -5.18   \n",
      "4      ...               0.539683               0.361765         -0.03   \n",
      "...    ...                    ...                    ...           ...   \n",
      "13900  ...               0.039785              -0.225806         -0.98   \n",
      "13901  ...               0.135875              -0.020430         -4.43   \n",
      "13902  ...              -0.114919               0.125000         -0.97   \n",
      "13903  ...              -0.538826              -0.354839         -0.45   \n",
      "13904  ...              -0.212121               0.055718        -11.06   \n",
      "\n",
      "       home_away_record  diff_home_away_record  diff_home_away_prev_record  \\\n",
      "0              0.121951               0.121951                    0.195122   \n",
      "1              0.186813               0.186813                    0.268293   \n",
      "2             -0.066667              -0.066667                    0.317073   \n",
      "3              0.544086               0.544086                    0.487805   \n",
      "4              0.711905               0.711905                    0.268293   \n",
      "...                 ...                    ...                         ...   \n",
      "13900          0.000000               0.000000                    0.268293   \n",
      "13901          0.108602               0.108602                    0.146341   \n",
      "13902          0.031250               0.031250                    0.121951   \n",
      "13903         -0.338221              -0.338221                    0.195122   \n",
      "13904         -0.035191              -0.035191                    0.097561   \n",
      "\n",
      "       diff_HG_7days  diff_AG_7days  diff_G_7days  diff_back2back  \n",
      "0                 -2              1            -1              -1  \n",
      "1                 -1              1             0               0  \n",
      "2                 -2              1            -1               0  \n",
      "3                 -1              1             0               0  \n",
      "4                  0              0             0              -1  \n",
      "...              ...            ...           ...             ...  \n",
      "13900             -1              1             0               0  \n",
      "13901              1             -1             0               0  \n",
      "13902              2             -1             1               0  \n",
      "13903              1             -1             0               0  \n",
      "13904              2             -1             1               1  \n",
      "\n",
      "[13903 rows x 139 columns]\n"
     ]
    }
   ],
   "source": [
    "df['diff_home_away_record'] = df.apply(lambda x: x['HOME_RECORD_home'] - x['ROAD_RECORD_away'], axis = 1)\n",
    "df['diff_home_away_prev_record'] = df.apply(lambda x: x['HOME_RECORD_prev_home'] - x['ROAD_RECORD_prev_away'], axis = 1)\n",
    "df['diff_HG_7days'] = df.apply(lambda x: x['HG_7days'] - x['HG_7days_VISITOR'], axis = 1)\n",
    "df['diff_AG_7days'] = df.apply(lambda x: x['AG_7days'] - x['AG_7days_VISITOR'], axis = 1)\n",
    "df['diff_G_7days'] = df.apply(lambda x: x['G_7days'] - x['G_7days_VISITOR'], axis = 1)\n",
    "df['diff_back2back'] = df.apply(lambda x: x['back2back'] - x['back2back_visitor'], axis = 1)\n",
    "\n",
    "print(df)"
   ]
  },
  {
   "cell_type": "code",
   "execution_count": 10,
   "metadata": {},
   "outputs": [],
   "source": [
    "df.to_csv('MetaData/data6_&_odds.csv')"
   ]
  },
  {
   "cell_type": "code",
   "execution_count": null,
   "metadata": {},
   "outputs": [],
   "source": []
  }
 ],
 "metadata": {
  "kernelspec": {
   "display_name": "Python 3.9.4 64-bit",
   "language": "python",
   "name": "python3"
  },
  "language_info": {
   "codemirror_mode": {
    "name": "ipython",
    "version": 3
   },
   "file_extension": ".py",
   "mimetype": "text/x-python",
   "name": "python",
   "nbconvert_exporter": "python",
   "pygments_lexer": "ipython3",
   "version": "3.9.4"
  },
  "orig_nbformat": 4,
  "vscode": {
   "interpreter": {
    "hash": "81794d4967e6c3204c66dcd87b604927b115b27c00565d3d43f05ba2f3a2cb0d"
   }
  }
 },
 "nbformat": 4,
 "nbformat_minor": 2
}
